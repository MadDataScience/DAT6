{
 "metadata": {
  "celltoolbar": "Slideshow",
  "name": "",
  "signature": "sha256:1881d3c2b436d0664fe821a6da4ab81436dd4165b47f3f9c8ecad7c25770c3ed"
 },
 "nbformat": 3,
 "nbformat_minor": 0,
 "worksheets": [
  {
   "cells": [
    {
     "cell_type": "markdown",
     "metadata": {
      "slideshow": {
       "slide_type": "slide"
      }
     },
     "source": [
      "Data Science\n",
      "================================\n",
      "Intro to Machine Learning\n",
      "--------------------------------\n",
      "Alessandro D. Gagliardi"
     ]
    },
    {
     "cell_type": "markdown",
     "metadata": {
      "slideshow": {
       "slide_type": "slide"
      }
     },
     "source": [
      "Last Time\n",
      "---------\n",
      "\n",
      "* What is a regression model?\n",
      "* History of Probability\n",
      "* Descriptive statistics -- numerical\n",
      "* Descriptive statistics -- graphical\n",
      "* p-values and Hypothesis Testing\n",
      "* Inference about a population mean\n",
      "* Difference between two population means"
     ]
    },
    {
     "cell_type": "markdown",
     "metadata": {
      "slideshow": {
       "slide_type": "slide"
      }
     },
     "source": [
      "Agenda\n",
      "---------------------\n",
      "\n",
      "* What is Machine Learning?\n",
      "* Polynomial and Multiple Linear Regression"
     ]
    },
    {
     "cell_type": "markdown",
     "metadata": {
      "slideshow": {
       "slide_type": "slide"
      }
     },
     "source": [
      "Projects and Homework\n",
      "---------------------\n",
      "\n",
      "* Monday's Homework due Friday night (midnight)\n",
      "* Wednesday's Homework due Monday before class (6:30 pm)\n",
      "* Formal Project Proposals Due Wednesday 5/7 - Must include:\n",
      "    - README.ml explaining your project in detail\n",
      "    - data source and code to access it"
     ]
    },
    {
     "cell_type": "heading",
     "level": 1,
     "metadata": {
      "slideshow": {
       "slide_type": "slide"
      }
     },
     "source": [
      "What is Machine Learning?"
     ]
    },
    {
     "cell_type": "markdown",
     "metadata": {
      "slideshow": {
       "slide_type": "subslide"
      }
     },
     "source": [
      "from [Wikipedia](http://en.wikipedia.org/wiki/Machine_learning):\n",
      "\n",
      "> Machine learning, a branch of artificial intelligence, is about the construction and study of systems that can *learn from data*.\u201d"
     ]
    },
    {
     "cell_type": "markdown",
     "metadata": {
      "slideshow": {
       "slide_type": "fragment"
      }
     },
     "source": [
      "\"The core of machine learning deals with *representation* and *generalization*...\""
     ]
    },
    {
     "cell_type": "markdown",
     "metadata": {
      "slideshow": {
       "slide_type": "fragment"
      }
     },
     "source": [
      "* *representation* \u2013 extracting structure from data"
     ]
    },
    {
     "cell_type": "markdown",
     "metadata": {
      "slideshow": {
       "slide_type": "fragment"
      }
     },
     "source": [
      "* *generalization* \u2013 making predictions from data"
     ]
    },
    {
     "cell_type": "markdown",
     "metadata": {
      "slideshow": {
       "slide_type": "notes"
      }
     },
     "source": [
      "Representation: Helps you figure out what you\u2019re looking at\n",
      "Q: can you think of examples?\n",
      "Genlzn: helps you figure out what is likely to happen in the future\n",
      "Keep these terms in mind\u2026later we will use them to think about ML problems (write these on the white board)"
     ]
    },
    {
     "cell_type": "heading",
     "level": 1,
     "metadata": {
      "slideshow": {
       "slide_type": "slide"
      }
     },
     "source": [
      "Machine Learning Problems"
     ]
    },
    {
     "cell_type": "markdown",
     "metadata": {
      "slideshow": {
       "slide_type": "notes"
      }
     },
     "source": [
      "Important point: there is lots of ML stuff we won\u2019t talk much about\n",
      "mathematical models of machine learning\n",
      "rigorous analysis of ML algorithms\n",
      "computational complexity"
     ]
    },
    {
     "cell_type": "markdown",
     "metadata": {
      "slideshow": {
       "slide_type": "skip"
      }
     },
     "source": [
      "<H3>Types of Learning Problems:</H3>\n",
      "\n",
      "<TABLE>\n",
      "<TR><TH style=\"text-align: right\">Supervised</TH><TD>Making predictions</TD></TR>\n",
      "<TR><TH style=\"text-align: right\">Unsupervised</TH><TD>Extracting structure</TD></TR>\n",
      "</TABLE>"
     ]
    },
    {
     "cell_type": "markdown",
     "metadata": {
      "slideshow": {
       "slide_type": "skip"
      }
     },
     "source": [
      "<TABLE>\n",
      "<TR><TH><I>supervised</I></TH><TD>making predictions</TD><TD><I>generalization</I></TR>\n",
      "<TR><TH><I>unsupervised</I></TH><TD>extracting structure</TD><TD><I>representation</I></TD></TR>\n",
      "</TABLE>"
     ]
    },
    {
     "cell_type": "markdown",
     "metadata": {
      "slideshow": {
       "slide_type": "notes"
      }
     },
     "source": [
      "Q: can you think of examples?\n",
      "Q: how could an algorithm \u201clearn\u201d from data in either of these cases?"
     ]
    },
    {
     "cell_type": "markdown",
     "metadata": {
      "slideshow": {
       "slide_type": "subslide"
      }
     },
     "source": [
      "Supervised Learning\n",
      "-----------\n",
      "Process used for making predictions"
     ]
    },
    {
     "cell_type": "markdown",
     "metadata": {
      "slideshow": {
       "slide_type": "fragment"
      }
     },
     "source": [
      "Sample data is already classified"
     ]
    },
    {
     "cell_type": "markdown",
     "metadata": {
      "slideshow": {
       "slide_type": "fragment"
      }
     },
     "source": [
      "Process uses pre-classified information to predict unknown space"
     ]
    },
    {
     "cell_type": "markdown",
     "metadata": {
      "slideshow": {
       "slide_type": "subslide"
      }
     },
     "source": [
      "<img src=\"assets/supervised_learning.png\" width=\"800\" />\n",
      "<p><small>Credit: Andrew Ng, \"Introduction to Machine Learning,\" Stanford</small></p>"
     ]
    },
    {
     "cell_type": "markdown",
     "metadata": {
      "slideshow": {
       "slide_type": "subslide"
      }
     },
     "source": [
      "Unsupervised Learning\n",
      "-----------\n",
      "Process used for providing structure"
     ]
    },
    {
     "cell_type": "markdown",
     "metadata": {
      "slideshow": {
       "slide_type": "fragment"
      }
     },
     "source": [
      "No data was pre \"structured\", attempts to make sense out of independent variables"
     ]
    },
    {
     "cell_type": "markdown",
     "metadata": {
      "slideshow": {
       "slide_type": "fragment"
      }
     },
     "source": [
      "(you're making up, or the algorithm is making up, your dependent variable)"
     ]
    },
    {
     "cell_type": "markdown",
     "metadata": {
      "slideshow": {
       "slide_type": "subslide"
      }
     },
     "source": [
      "<img src=\"assets/unsupervised_learning.png\" width=\"500\" />\n",
      "<p><small>Credit: Thomson Nguyen, \"Introduction to Machine Learning,\" Lookout</small></p>"
     ]
    },
    {
     "cell_type": "markdown",
     "metadata": {
      "slideshow": {
       "slide_type": "skip"
      }
     },
     "source": [
      "### Types of Data:\n",
      "\n",
      "| Continuous | Categorical\n",
      "| ----------- | -----------\n",
      "| Quantitative | Qualitative  \n"
     ]
    },
    {
     "cell_type": "markdown",
     "metadata": {
      "slideshow": {
       "slide_type": "fragment"
      }
     },
     "source": [
      "\n",
      "The space where data live is called the _feature space_.  \n",
      "\n",
      "Each point in this space is called a _record_."
     ]
    },
    {
     "cell_type": "markdown",
     "metadata": {
      "slideshow": {
       "slide_type": "notes"
      }
     },
     "source": [
      "Note: these characterize the dependent (target) variables!"
     ]
    },
    {
     "cell_type": "heading",
     "level": 1,
     "metadata": {
      "slideshow": {
       "slide_type": "slide"
      }
     },
     "source": [
      "Fitting it all Together"
     ]
    },
    {
     "cell_type": "markdown",
     "metadata": {
      "slideshow": {
       "slide_type": "subslide"
      }
     },
     "source": [
      "What's the goal?\n",
      "====\n",
      "<img src=\"assets/machine_learning1.png\" width=\"800\" />"
     ]
    },
    {
     "cell_type": "markdown",
     "metadata": {
      "slideshow": {
       "slide_type": "subslide"
      }
     },
     "source": [
      "What data do we have?\n",
      "====\n",
      "<img src=\"assets/machine_learning2.png\" width=\"800\" />"
     ]
    },
    {
     "cell_type": "markdown",
     "metadata": {
      "slideshow": {
       "slide_type": "subslide"
      }
     },
     "source": [
      "How do we determine the right approach?\n",
      "====\n",
      "<img src=\"assets/machine_learning3.png\" width=\"800\" />"
     ]
    },
    {
     "cell_type": "markdown",
     "metadata": {
      "slideshow": {
       "slide_type": "notes"
      }
     },
     "source": [
      "Q: do you know of any particular models/algorithms that fit into these categories?  \n",
      "Q: are these terms familiar?  \n",
      "Q: can you think of particular algorithms that fit into these categories?  \n",
      "Classification for targeting ads (likely purchasers), regression, clustering (recsys), dim reduction (mtx decomposition)\n",
      "Combo: nnmf (netflix prize)"
     ]
    },
    {
     "cell_type": "markdown",
     "metadata": {
      "slideshow": {
       "slide_type": "fragment"
      }
     },
     "source": [
      "We will implement solutions using *models* and *algorithms*.  \n",
      "Each will fall into one of these four buckets."
     ]
    },
    {
     "cell_type": "markdown",
     "metadata": {
      "slideshow": {
       "slide_type": "slide"
      }
     },
     "source": [
      "<img src=\"assets/machine_learning6.png\" width=\"800\" \\>"
     ]
    },
    {
     "cell_type": "markdown",
     "metadata": {
      "slideshow": {
       "slide_type": "slide"
      }
     },
     "source": [
      "Common linear regression model data problems\n",
      "----"
     ]
    },
    {
     "cell_type": "markdown",
     "metadata": {
      "slideshow": {
       "slide_type": "fragment"
      }
     },
     "source": [
      "I know the prices for all of these other apartments in my area. What could I get for mine?"
     ]
    },
    {
     "cell_type": "markdown",
     "metadata": {
      "slideshow": {
       "slide_type": "fragment"
      }
     },
     "source": [
      "What's the relationship between total number of friends, posting activity, and the number of likes a new post would get on Facebook?"
     ]
    },
    {
     "cell_type": "markdown",
     "metadata": {
      "slideshow": {
       "slide_type": "fragment"
      }
     },
     "source": [
      "**Careful!** Time series data (believe it or not) does not always handle well with simple regression"
     ]
    },
    {
     "cell_type": "markdown",
     "metadata": {
      "slideshow": {
       "slide_type": "slide"
      }
     },
     "source": [
      "Recall:\n",
      "========================================================\n",
      "A **regression** model is a functional relationship between input & response variables.\n",
      "\n",
      "$$ y = \\alpha + \\beta x + \\epsilon $$\n",
      "\n",
      "$y =$ **response variable** (the one we want to predict)\n",
      "\n",
      "$x =$ **input variable** (the one we use to train the model)\n",
      "\n",
      "$\\alpha =$ **intercept** (where the line crosses the y-axis)\n",
      "\n",
      "$\\beta =$ **regression coefficient** (the model \"parameter\")\n",
      "\n",
      "$\\epsilon =$ **residual** (the prediction error)"
     ]
    },
    {
     "cell_type": "markdown",
     "metadata": {
      "slideshow": {
       "slide_type": "slide"
      }
     },
     "source": [
      "Ordinary Least Squares\n",
      "========================================================\n",
      "Q. How do we fit a regression model to a dataset?\n",
      "\n",
      "A. Minimize the sum of the squared residuals (OLS)\n",
      "\n",
      "$$ min(||y \u2013 \\beta x||^2) $$"
     ]
    },
    {
     "cell_type": "markdown",
     "metadata": {
      "slideshow": {
       "slide_type": "subslide"
      }
     },
     "source": [
      "Aside\n",
      "========================================================\n",
      "Why least _squares_?"
     ]
    },
    {
     "cell_type": "markdown",
     "metadata": {
      "slideshow": {
       "slide_type": "fragment"
      }
     },
     "source": [
      "We want to penalize both positive and negative residuals."
     ]
    },
    {
     "cell_type": "markdown",
     "metadata": {
      "slideshow": {
       "slide_type": "fragment"
      }
     },
     "source": [
      "But why squares and not, say, absolute values?"
     ]
    },
    {
     "cell_type": "markdown",
     "metadata": {
      "slideshow": {
       "slide_type": "fragment"
      }
     },
     "source": [
      "In fact, in the late 18th century, both of these were considered. OLS won because of procedures making it easier to compute by hand. Today, OLS dominates largely for historical reasons though it is also helpful as it allows a direct comparison between the square of the residuals and the square of the standard deviation (or variance) of the model. "
     ]
    },
    {
     "cell_type": "markdown",
     "metadata": {
      "slideshow": {
       "slide_type": "fragment"
      }
     },
     "source": [
      "That said, minimizing absolute values may be prefered in cases where there are outliers. (Why?)"
     ]
    },
    {
     "cell_type": "markdown",
     "metadata": {
      "slideshow": {
       "slide_type": "slide"
      }
     },
     "source": [
      "Polynomial Regression\n",
      "========================================================\n",
      "Polynomial regression allows us to fit very complex curves to data.  \n",
      "$$ y = \\alpha + \\beta_1 x + \\beta_2 x^2 + \\ldots + \\beta_n x^n + \\epsilon $$"
     ]
    },
    {
     "cell_type": "markdown",
     "metadata": {
      "slideshow": {
       "slide_type": "fragment"
      }
     },
     "source": [
      "However, it poses one problem, particularly in comparison to **simple linear regression**"
     ]
    },
    {
     "cell_type": "markdown",
     "metadata": {
      "slideshow": {
       "slide_type": "fragment"
      }
     },
     "source": [
      "What's the difference between simple linear regression and polynomial regression?"
     ]
    },
    {
     "cell_type": "markdown",
     "metadata": {
      "slideshow": {
       "slide_type": "fragment"
      }
     },
     "source": [
      "What's the problem that simple regression doesn't have?"
     ]
    },
    {
     "cell_type": "markdown",
     "metadata": {
      "slideshow": {
       "slide_type": "slide"
      }
     },
     "source": [
      "Multicollinearity\n",
      "========================================================\n",
      "**Multicollinearity** is when predictor variables are highly correlated with each other"
     ]
    },
    {
     "cell_type": "code",
     "collapsed": false,
     "input": [
      "%matplotlib inline\n",
      "%load_ext rmagic\n",
      "\n",
      "import numpy as np\n",
      "import matplotlib.pyplot as plt\n",
      "import pandas as pd\n",
      "import pandas.rpy.common as com\n",
      "import statsmodels.formula.api as smf\n",
      "\n",
      "from ipy_table import apply_theme, make_table\n",
      "from statsmodels.stats.anova import anova_lm"
     ],
     "language": "python",
     "metadata": {
      "slideshow": {
       "slide_type": "skip"
      }
     },
     "outputs": [],
     "prompt_number": 1
    },
    {
     "cell_type": "code",
     "collapsed": false,
     "input": [
      "x = np.arange(1,10.1,0.1)\n",
      "np.corrcoef(x**9, x**10)[0,1]"
     ],
     "language": "python",
     "metadata": {
      "slideshow": {
       "slide_type": "-"
      }
     },
     "outputs": [
      {
       "metadata": {},
       "output_type": "pyout",
       "prompt_number": 2,
       "text": [
        "0.99876077218215642"
       ]
      }
     ],
     "prompt_number": 2
    },
    {
     "cell_type": "markdown",
     "metadata": {
      "slideshow": {
       "slide_type": "-"
      }
     },
     "source": [
      "This causes the model to break down because it can't tell the difference between predictor variables"
     ]
    },
    {
     "cell_type": "code",
     "collapsed": false,
     "input": [
      "plt.scatter(x**9, x**10)"
     ],
     "language": "python",
     "metadata": {
      "slideshow": {
       "slide_type": "-"
      }
     },
     "outputs": [
      {
       "metadata": {},
       "output_type": "pyout",
       "prompt_number": 3,
       "text": [
        "<matplotlib.collections.PathCollection at 0x10cc50a90>"
       ]
      },
      {
       "metadata": {},
       "output_type": "display_data",
       "png": "[encoded data removed]",
       "text": [
        "<matplotlib.figure.Figure at 0x1040dd0d0>"
       ]
      }
     ],
     "prompt_number": 3
    },
    {
     "cell_type": "markdown",
     "metadata": {
      "slideshow": {
       "slide_type": "subslide"
      }
     },
     "source": [
      "How we fix multicollinearity\n",
      "========================================================\n",
      "Replace the correlated predictors with uncorrelated predictors\n",
      "\n",
      "$$ y = \\alpha + \\beta_1 f_1(x) + \\beta_2 f_2(x^2) + \\ldots + \\beta_n f_n(x^n) + \\epsilon $$\n",
      "\n",
      "Technical Note: These polynomial functions form an _orthogonal basis_ of the function space."
     ]
    },
    {
     "cell_type": "markdown",
     "metadata": {
      "slideshow": {
       "slide_type": "fragment"
      }
     },
     "source": [
      "We will revisit this when we talk about Principal Components Analysis."
     ]
    },
    {
     "cell_type": "markdown",
     "metadata": {
      "slideshow": {
       "slide_type": "slide"
      }
     },
     "source": [
      "Multiple Regression\n",
      "----\n",
      "We can extend this model to several input variables, giving us the multiple linear regression model: \n",
      "<p style=\"text-align: center\">$y = \\alpha + \\beta_1 x_1 + \\ldots + \\beta_n x_n + \\epsilon$</p>\n"
     ]
    },
    {
     "cell_type": "code",
     "collapsed": false,
     "input": [
      "Description = ([\n",
      "        ['Variable','Description'],\n",
      "        ['lcavol', '(log) Cancer Volume'],\n",
      "        ['lweight', '(log) Weight'],\n",
      "        ['age', 'Patient age'],\n",
      "        ['lbph', '(log) Vening Prostatic Hyperplasia'],\n",
      "        ['svi', 'Seminal Vesicle Invasion'],\n",
      "        ['lcp', '(log) Capsular Penetration'],\n",
      "        ['gleason', 'Gleason score'],\n",
      "        ['pgg45', 'Percent of Gleason score 4 or 5'],\n",
      "        ['lpsa', '(log) Prostate Specific Antigen'],\n",
      "        ['train', 'Label for test / training split']])"
     ],
     "language": "python",
     "metadata": {
      "slideshow": {
       "slide_type": "skip"
      }
     },
     "outputs": [],
     "prompt_number": 4
    },
    {
     "cell_type": "code",
     "collapsed": false,
     "input": [
      "%%R\n",
      "library(ElemStatLearn)\n",
      "data(prostate)"
     ],
     "language": "python",
     "metadata": {
      "slideshow": {
       "slide_type": "skip"
      }
     },
     "outputs": [],
     "prompt_number": 5
    },
    {
     "cell_type": "markdown",
     "metadata": {
      "slideshow": {
       "slide_type": "slide"
      }
     },
     "source": [
      "Prostate data\n",
      "-------------\n",
      "For more information on the [Gleason score](http://en.wikipedia.org/wiki/Gleason_Grading_System)."
     ]
    },
    {
     "cell_type": "code",
     "collapsed": false,
     "input": [
      "#make_table(Description)\n",
      "#apply_theme('basic')"
     ],
     "language": "python",
     "metadata": {
      "slideshow": {
       "slide_type": "skip"
      }
     },
     "outputs": [],
     "prompt_number": 6
    },
    {
     "cell_type": "code",
     "collapsed": false,
     "input": [
      "prostate = com.load_data('prostate')\n",
      "_ = pd.scatter_matrix(prostate, figsize=(12,6))"
     ],
     "language": "python",
     "metadata": {
      "slideshow": {
       "slide_type": "slide"
      }
     },
     "outputs": [
      {
       "metadata": {},
       "output_type": "display_data",
       "png": "[encoded data removed]",
       "text": [
        "<matplotlib.figure.Figure at 0x10cc3e950>"
       ]
      }
     ],
     "prompt_number": 7
    },
    {
     "cell_type": "markdown",
     "metadata": {
      "slideshow": {
       "slide_type": "slide"
      }
     },
     "source": [
      "## Specifying the model\n",
      "\n",
      "- We will use variables `lcavol, lweight, age, lbph, svi, lcp` and `pgg45`.\n",
      "\n",
      "-   Rather than one predictor, we have $p=7$ predictors.\n",
      "\n",
      "-   $$Y_i = \\beta_0 + \\beta_1 X_{i1} + \\dots + \\beta_p X_{ip} + \\varepsilon_i$$\n",
      "\n",
      "-   Errors $\\varepsilon$ are assumed independent $N(0,\\sigma^2)$, as in\n",
      "    simple linear regression.\n",
      "\n",
      "-   Coefficients are called (partial) regression coefficients because\n",
      "    they \u201callow\u201d for the effect of other variables."
     ]
    },
    {
     "cell_type": "markdown",
     "metadata": {
      "slideshow": {
       "slide_type": "subslide"
      }
     },
     "source": [
      "Fitting the model\n",
      "-----------------\n",
      "\n",
      "-   Just as in simple linear regression, model is fit by minimizing\n",
      "    $$\\begin{aligned}\n",
      "       SSE(\\beta_0, \\dots, \\beta_p) &= \\sum_{i=1}^n(Y_i - (\\beta_0 + \\sum_{j=1}^p \\beta_j \\\n",
      "X_{ij}))^2 \\\\\n",
      "       &= \\|Y - \\widehat{Y}(\\beta)\\|^2\n",
      "       \\end{aligned}$$\n",
      "\n",
      "-   Minimizers:\n",
      "    $\\widehat{\\beta} = (\\widehat{\\beta}_0, \\dots, \\widehat{\\beta}_p)$\n",
      "    are the \u201cleast squares estimates\u201d: are also normally distributed as\n",
      "    in simple linear regression."
     ]
    },
    {
     "cell_type": "code",
     "collapsed": false,
     "input": [
      "mod = smf.ols('lpsa ~ lcavol + lweight + age + lbph + svi + lcp + pgg45', data=prostate)\n",
      "res = mod.fit()\n",
      "res.params"
     ],
     "language": "python",
     "metadata": {
      "slideshow": {
       "slide_type": "slide"
      }
     },
     "outputs": [
      {
       "metadata": {},
       "output_type": "pyout",
       "prompt_number": 8,
       "text": [
        "Intercept    0.494155\n",
        "lcavol       0.569546\n",
        "lweight      0.614420\n",
        "age         -0.020913\n",
        "lbph         0.097353\n",
        "svi          0.752397\n",
        "lcp         -0.104959\n",
        "pgg45        0.005324\n",
        "dtype: float64"
       ]
      }
     ],
     "prompt_number": 8
    },
    {
     "cell_type": "markdown",
     "metadata": {
      "slideshow": {
       "slide_type": "skip"
      }
     },
     "source": [
      "## Estimating $\\sigma^2$\n",
      "\n",
      "-   As in simple regression\n",
      "    $$\\widehat{\\sigma}^2 = \\frac{SSE}{n-p-1} \\sim \\sigma^2 \\cdot \\frac{\\chi^2_{n-p-1}}{n-p\\\n",
      "-1}$$\n",
      "    independent of $\\widehat{\\beta}$.\n",
      "\n",
      "-   Why $\\chi^2_{n-p-1}$? Typically, the degrees of freedom in the\n",
      "    estimate of $\\sigma^2$ is\n",
      "    $n-\\# \\text{number of parameters in regression function}$."
     ]
    },
    {
     "cell_type": "code",
     "collapsed": false,
     "input": [
      "'Residual standard error: {:.3}'.format(np.sqrt(res.ssr/res.df_resid))"
     ],
     "language": "python",
     "metadata": {
      "slideshow": {
       "slide_type": "skip"
      }
     },
     "outputs": [
      {
       "metadata": {},
       "output_type": "pyout",
       "prompt_number": 9,
       "text": [
        "'Residual standard error: 0.696'"
       ]
      }
     ],
     "prompt_number": 9
    },
    {
     "cell_type": "markdown",
     "metadata": {
      "slideshow": {
       "slide_type": "skip"
      }
     },
     "source": [
      "$\\widehat{\\sigma}^2 is also known as the `scale` of the model."
     ]
    },
    {
     "cell_type": "code",
     "collapsed": false,
     "input": [
      "'Residual standard error: {:.3}'.format(np.sqrt(res.scale))"
     ],
     "language": "python",
     "metadata": {
      "slideshow": {
       "slide_type": "skip"
      }
     },
     "outputs": [
      {
       "metadata": {},
       "output_type": "pyout",
       "prompt_number": 10,
       "text": [
        "'Residual standard error: 0.696'"
       ]
      }
     ],
     "prompt_number": 10
    },
    {
     "cell_type": "markdown",
     "metadata": {
      "slideshow": {
       "slide_type": "slide"
      }
     },
     "source": [
      "## Interpretation of $\\beta_j$\u2019s\n",
      "\n",
      "-   Take $\\beta_1=\\beta_{\\tt{lcavol}}$ for example. This is the amount the `lpsa`\n",
      "    rating increases for one \u201cunit\u201d of `lcavol`, keeping\n",
      "    everything else constant.\n",
      "\n",
      "-   We refer to this as the effect of `lcavol` *allowing\n",
      "    for* or *controlling for* the other variables.\n",
      "    \n",
      "- For example, let's take the 10th case in our data and change `lcavol` by 1 unit."
     ]
    },
    {
     "cell_type": "code",
     "collapsed": false,
     "input": [
      "case1 = prostate[9:10]\n",
      "case2 = case1.copy()\n",
      "case2.lcavol += 1\n",
      "yhat = res.predict(pd.concat([case1,case2]))\n",
      "yhat"
     ],
     "language": "python",
     "metadata": {
      "slideshow": {
       "slide_type": "slide"
      }
     },
     "outputs": [
      {
       "metadata": {},
       "output_type": "pyout",
       "prompt_number": 11,
       "text": [
        "array([ 1.30775437,  1.87730041])"
       ]
      }
     ],
     "prompt_number": 11
    },
    {
     "cell_type": "markdown",
     "metadata": {
      "slideshow": {
       "slide_type": "fragment"
      }
     },
     "source": [
      "Our regression model says that this difference should be $\\hat{\\beta}_{\\tt lcavol}$."
     ]
    },
    {
     "cell_type": "code",
     "collapsed": false,
     "input": [
      "yhat[1] - yhat[0], res.params['lcavol']"
     ],
     "language": "python",
     "metadata": {
      "slideshow": {
       "slide_type": "fragment"
      }
     },
     "outputs": [
      {
       "metadata": {},
       "output_type": "pyout",
       "prompt_number": 12,
       "text": [
        "(0.56954603157399464, 0.56954603157399464)"
       ]
      }
     ],
     "prompt_number": 12
    },
    {
     "cell_type": "markdown",
     "metadata": {
      "slideshow": {
       "slide_type": "slide"
      }
     },
     "source": [
      "## Goodness of fit for multiple regression\n",
      "\n",
      "\n",
      "\n",
      "$$\\begin{aligned}\n",
      "   SSE &= \\sum_{i=1}^n(Y_i - \\widehat{Y}_i)^2 \\\\\n",
      "   SSR &= \\sum_{i=1}^n(\\overline{Y} - \\widehat{Y}_i)^2 \\\\\n",
      "   SST &= \\sum_{i=1}^n(Y_i - \\overline{Y})^2 \\\\\n",
      "   R^2 &= \\frac{SSR}{SST}\n",
      "   \\end{aligned}$$ \n",
      "   \n",
      "   $R^2$ is called the *multiple correlation\n",
      "coefficient* of the model, or the *coefficient of multiple\n",
      "determination*.\n"
     ]
    },
    {
     "cell_type": "markdown",
     "metadata": {
      "slideshow": {
       "slide_type": "slide"
      }
     },
     "source": [
      "The sums of squares and $R^2$ are defined analogously\n",
      "to those in simple linear regression."
     ]
    },
    {
     "cell_type": "code",
     "collapsed": false,
     "input": [
      "Y = prostate.lpsa\n",
      "n = len(Y)\n",
      "SST = sum((Y - Y.mean())**2)\n",
      "SSE = sum(res.resid**2)\n",
      "SSR = SST - SSE\n",
      "SSR/SST"
     ],
     "language": "python",
     "metadata": {
      "slideshow": {
       "slide_type": "fragment"
      }
     },
     "outputs": [
      {
       "metadata": {},
       "output_type": "pyout",
       "prompt_number": 13,
       "text": [
        "0.66300541796546608"
       ]
      }
     ],
     "prompt_number": 13
    },
    {
     "cell_type": "markdown",
     "metadata": {
      "slideshow": {
       "slide_type": "slide"
      }
     },
     "source": [
      "## Adjusted $R^2$\n",
      "\n",
      "-   As we add more and more variables to the model \u2013 even random ones,\n",
      "    $R^2$ will increase to 1.\n",
      "\n",
      "-   Adjusted $R^2$ tries to take this into account by replacing sums of\n",
      "    squares by *mean squares*\n",
      "    $$R^2_a = 1 - \\frac{SSE/(n-p-1)}{SST/(n-1)} = 1 - \\frac{MSE}{MST}.$$\n"
     ]
    },
    {
     "cell_type": "code",
     "collapsed": false,
     "input": [
      "MSE = SSE / res.df_resid\n",
      "MST = SST / (n - 1)\n",
      "1 - MSE/MST"
     ],
     "language": "python",
     "metadata": {
      "slideshow": {
       "slide_type": "fragment"
      }
     },
     "outputs": [
      {
       "metadata": {},
       "output_type": "pyout",
       "prompt_number": 14,
       "text": [
        "0.6365002261200533"
       ]
      }
     ],
     "prompt_number": 14
    },
    {
     "cell_type": "markdown",
     "metadata": {
      "slideshow": {
       "slide_type": "slide"
      }
     },
     "source": [
      "## Goodness of fit test\n",
      "\n",
      "\n",
      "-   As in simple linear regression, we measure the goodness of fit of\n",
      "    the regression model by\n",
      "    $$F = \\frac{MSR}{MSE} = \\frac{\\|\\overline{Y}\\cdot {1} - \\widehat{{Y}}\\|^2/p}{\\\\\n",
      "|Y - \\widehat{{Y}}\\|^2/(n-p-1)}.$$\n",
      "\n",
      "-   Under $H_0:\\beta_1 = \\dots = \\beta_p=0$, $$F \\sim F_{p, n-p-1}$$ so\n",
      "    reject $H_0$ at level $\\alpha$ if $F > F_{p,n-p-1,1-\\alpha}.$"
     ]
    },
    {
     "cell_type": "code",
     "collapsed": false,
     "input": [
      "MSR = SSR / (n - 1 - res.df_resid)\n",
      "MSR / MSE"
     ],
     "language": "python",
     "metadata": {
      "slideshow": {
       "slide_type": "fragment"
      }
     },
     "outputs": [
      {
       "metadata": {},
       "output_type": "pyout",
       "prompt_number": 15,
       "text": [
        "25.01417163219709"
       ]
      }
     ],
     "prompt_number": 15
    },
    {
     "cell_type": "code",
     "collapsed": false,
     "input": [
      "print res.summary()"
     ],
     "language": "python",
     "metadata": {
      "slideshow": {
       "slide_type": "subslide"
      }
     },
     "outputs": [
      {
       "output_type": "stream",
       "stream": "stdout",
       "text": [
        "                            OLS Regression Results                            \n",
        "==============================================================================\n",
        "Dep. Variable:                   lpsa   R-squared:                       0.663\n",
        "Model:                            OLS   Adj. R-squared:                  0.637\n",
        "Method:                 Least Squares   F-statistic:                     25.01\n",
        "Date:                Tue, 29 Apr 2014   Prob (F-statistic):           1.54e-18\n",
        "Time:                        19:55:26   Log-Likelihood:                -98.303\n",
        "No. Observations:                  97   AIC:                             212.6\n",
        "Df Residuals:                      89   BIC:                             233.2\n",
        "Df Model:                           7                                         \n",
        "==============================================================================\n",
        "                 coef    std err          t      P>|t|      [95.0% Conf. Int.]\n",
        "------------------------------------------------------------------------------\n",
        "Intercept      0.4942      0.874      0.566      0.573        -1.242     2.230\n",
        "lcavol         0.5695      0.086      6.634      0.000         0.399     0.740\n",
        "lweight        0.6144      0.198      3.096      0.003         0.220     1.009\n",
        "age           -0.0209      0.011     -1.905      0.060        -0.043     0.001\n",
        "lbph           0.0974      0.058      1.691      0.094        -0.017     0.212\n",
        "svi            0.7524      0.238      3.159      0.002         0.279     1.226\n",
        "lcp           -0.1050      0.089     -1.175      0.243        -0.282     0.073\n",
        "pgg45          0.0053      0.003      1.573      0.119        -0.001     0.012\n",
        "==============================================================================\n",
        "Omnibus:                        0.550   Durbin-Watson:                   1.543\n",
        "Prob(Omnibus):                  0.759   Jarque-Bera (JB):                0.175\n",
        "Skew:                           0.018   Prob(JB):                        0.916\n",
        "Kurtosis:                       3.205   Cond. No.                         875.\n",
        "==============================================================================\n"
       ]
      }
     ],
     "prompt_number": 16
    },
    {
     "cell_type": "heading",
     "level": 1,
     "metadata": {
      "slideshow": {
       "slide_type": "slide"
      }
     },
     "source": [
      "Inference for multiple regression"
     ]
    },
    {
     "cell_type": "markdown",
     "metadata": {
      "slideshow": {
       "slide_type": "fragment"
      }
     },
     "source": [
      "## Regression function at one point\n",
      "\n",
      "  One thing one might want to *learn* about the regression function in\n",
      "    the supervisor example is something about the regression function at\n",
      "    some fixed values of ${X}_{1}, \\dots, {X}_{6}$, i.e. what\n",
      "    can be said about\n",
      "    $$\n",
      "    \\begin{aligned}\n",
      "       \\beta_0 + 1.3 \\cdot \\beta_1  &+ 3.6 \\cdot \\beta_2  + 64 \\cdot \\beta_3 + \\\\\n",
      "        0.1 \\cdot \\beta_4 &+ 0.2 \\cdot \\beta_5 - 0.2 \\cdot \\beta_6 + 25 \\cdot \\beta_7  \\tag{*}\\end{aligned}$$\n",
      "    roughly the regression function at \u201ctypical\u201d values of the\n",
      "    predictors.\n",
      "\n",
      "   The expression above is equivalent to\n",
      "    $$\\sum_{j=0}^7 a_j \\beta_j, \\qquad a=(1,1.3,3.6,64,0.1,0.2,-0.2,25).$$"
     ]
    },
    {
     "cell_type": "markdown",
     "metadata": {
      "slideshow": {
       "slide_type": "slide"
      }
     },
     "source": [
      "## Confidence interval for $\\sum_{j=0}^p a_j \\beta_j$\n",
      "\n",
      "-   Suppose we want a $(1-\\alpha)\\cdot 100\\%$ CI for\n",
      "    $\\sum_{j=0}^p a_j\\beta_j$.\n",
      "\n",
      "-   Just as in simple linear regression:\n",
      "\n",
      "    $$\\sum_{j=0}^p a_j \\widehat{\\beta}_j \\pm t_{1-\\alpha/2, n-p-1} \\cdot SE\\left(\\sum_{j=0}^p a_j\\widehat{\\beta}_j\\right).$$"
     ]
    },
    {
     "cell_type": "markdown",
     "metadata": {
      "slideshow": {
       "slide_type": "slide"
      }
     },
     "source": [
      "`statsmodels`' will form these coefficients for each coefficient separately when using the `conf_int` function. These linear combinations are of the form\n",
      "$$\n",
      "a_{\\tt lcavol} = (0,1,0,0,0,0,0,0)\n",
      "$$\n",
      "so that\n",
      "$$\n",
      "a_{\\tt lcavol}^T\\widehat{\\beta} = \\widehat{\\beta}_1 = {\\tt coef(prostate.lm)[2]}\n",
      "$$"
     ]
    },
    {
     "cell_type": "code",
     "collapsed": false,
     "input": [
      "print res.conf_int(alpha=.1)"
     ],
     "language": "python",
     "metadata": {
      "slideshow": {
       "slide_type": "fragment"
      }
     },
     "outputs": [
      {
       "output_type": "stream",
       "stream": "stdout",
       "text": [
        "                  0         1\n",
        "Intercept -0.957849  1.946158\n",
        "lcavol     0.426855  0.712237\n",
        "lweight    0.284566  0.944274\n",
        "age       -0.039160 -0.002667\n",
        "lbph       0.001639  0.193066\n",
        "svi        0.356505  1.148289\n",
        "lcp       -0.253468  0.043549\n",
        "pgg45     -0.000301  0.010950\n",
        "\n",
        "[8 rows x 2 columns]\n"
       ]
      }
     ],
     "prompt_number": 17
    },
    {
     "cell_type": "markdown",
     "metadata": {
      "slideshow": {
       "slide_type": "slide"
      }
     },
     "source": [
      "\n",
      "## $T$-statistics revisited\n",
      "\n",
      "Of course, these confidence intervals are based on the standard ingredients of a\n",
      "$T$-statistic.\n",
      "\n",
      "-   Suppose we want to test $$H_0:\\sum_{j=0}^p a_j\\beta_j= h.$$ As in\n",
      "    simple linear regression, it is based on\n",
      "    $$T = \\frac{\\sum_{j=0}^p a_j \\widehat{\\beta}_j - h}{SE(\\sum_{j=0}^p a_j \\widehat{\\beta\\\n",
      "}_j)}.$$\n",
      "\n",
      "-   If $H_0$ is true, then $T \\sim t_{n-p-1}$, so we reject $H_0$ at\n",
      "    level $\\alpha$ if $$\\begin{aligned}\n",
      "       |T| &\\geq t_{1-\\alpha/2,n-p-1}, \\qquad \\text{ OR} \\\\\n",
      "       p-\\text{value} &= {\\tt 2*(1-pt(|T|, n-p-1))} \\leq \\alpha.\n",
      "       \\end{aligned}$$\n"
     ]
    },
    {
     "cell_type": "markdown",
     "metadata": {
      "slideshow": {
       "slide_type": "slide"
      }
     },
     "source": [
      "`statsmodels` produces these in the `summary` of the linear regression model. Again, each of these \n",
      "linear combinations is a vector $a$ with only one non-zero entry like $a_{\\tt lcavol}$ above."
     ]
    },
    {
     "cell_type": "code",
     "collapsed": false,
     "input": [
      "print res.summary()"
     ],
     "language": "python",
     "metadata": {
      "slideshow": {
       "slide_type": "fragment"
      }
     },
     "outputs": [
      {
       "output_type": "stream",
       "stream": "stdout",
       "text": [
        "                            OLS Regression Results                            \n",
        "==============================================================================\n",
        "Dep. Variable:                   lpsa   R-squared:                       0.663\n",
        "Model:                            OLS   Adj. R-squared:                  0.637\n",
        "Method:                 Least Squares   F-statistic:                     25.01\n",
        "Date:                Tue, 29 Apr 2014   Prob (F-statistic):           1.54e-18\n",
        "Time:                        19:55:26   Log-Likelihood:                -98.303\n",
        "No. Observations:                  97   AIC:                             212.6\n",
        "Df Residuals:                      89   BIC:                             233.2\n",
        "Df Model:                           7                                         \n",
        "==============================================================================\n",
        "                 coef    std err          t      P>|t|      [95.0% Conf. Int.]\n",
        "------------------------------------------------------------------------------\n",
        "Intercept      0.4942      0.874      0.566      0.573        -1.242     2.230\n",
        "lcavol         0.5695      0.086      6.634      0.000         0.399     0.740\n",
        "lweight        0.6144      0.198      3.096      0.003         0.220     1.009\n",
        "age           -0.0209      0.011     -1.905      0.060        -0.043     0.001\n",
        "lbph           0.0974      0.058      1.691      0.094        -0.017     0.212\n",
        "svi            0.7524      0.238      3.159      0.002         0.279     1.226\n",
        "lcp           -0.1050      0.089     -1.175      0.243        -0.282     0.073\n",
        "pgg45          0.0053      0.003      1.573      0.119        -0.001     0.012\n",
        "==============================================================================\n",
        "Omnibus:                        0.550   Durbin-Watson:                   1.543\n",
        "Prob(Omnibus):                  0.759   Jarque-Bera (JB):                0.175\n",
        "Skew:                           0.018   Prob(JB):                        0.916\n",
        "Kurtosis:                       3.205   Cond. No.                         875.\n",
        "==============================================================================\n"
       ]
      }
     ],
     "prompt_number": 18
    },
    {
     "cell_type": "markdown",
     "metadata": {
      "slideshow": {
       "slide_type": "slide"
      }
     },
     "source": [
      "## Questions about many (combinations) of $\\beta_j$\u2019s\n",
      "\n",
      "-   In multiple regression we can ask more complicated questions than in\n",
      "    simple regression.\n",
      "\n",
      "-   For instance, we could ask whether `lcp` and `pgg45` \n",
      "explains little of the variability in the data, and might be dropped\n",
      "from the regression model.\n",
      "\n",
      "-   These questions can be answered answered by $F$-statistics.\n",
      "\n",
      "- **Note: This hypothesis should really be formed *before* looking at the output of\n",
      "`summary`.**\n",
      "\n",
      "- Later we'll see some examples of the messiness when forming a hypothesis after seeing\n",
      "the `summary`...\n"
     ]
    },
    {
     "cell_type": "markdown",
     "metadata": {
      "slideshow": {
       "slide_type": "slide"
      }
     },
     "source": [
      "## Dropping one or more variables\n",
      "\n",
      "-   Suppose we wanted to test the above hypothesis\n",
      "    Formally, the null hypothesis is: $$ H_0: \\beta_{\\tt lcp} (=\\beta_6) =\\beta_{\\tt pgg45} (=\\beta_7) =0$$\n",
      "    and the alternative is\n",
      "    $$\n",
      "    H_a = \\text{one of $ \\beta_{\\tt lcp},\\beta_{\\tt pgg45}$ is not 0}. \n",
      "    $$\n",
      "\n",
      "-   This test is an $F$-test based on two models $$\\begin{aligned}\n",
      "       Full: Y_i &= \\beta_0 + \\sum_{j=1}^7 \\beta_j X_{ij} \\beta_j + \\varepsilon_i \\\\\n",
      "       Reduced: Y_i &= \\beta_0 + \\sum_{j=1}^5 \\beta_j X_{ij} + \\varepsilon_i \\\\\n",
      "       \\end{aligned}$$\n",
      "\n",
      "-   **Note:    The reduced model $R$ must be a special case of the full model $F$\n",
      "    to use the $F$-test. **"
     ]
    },
    {
     "cell_type": "markdown",
     "metadata": {
      "slideshow": {
       "slide_type": "slide"
      }
     },
     "source": [
      "\n",
      "## $F$-statistic for $H_0:\\beta_{\\tt lcp}=\\beta_{\\tt pgg45}=0$\n",
      "\n",
      "-   We compute the $F$ statistic the same to compare any models\n",
      "     $$\\begin{aligned}\n",
      "       F &=\\frac{\\frac{SSE(R) - SSE(F)}{2}}{\\frac{SSE(F)}{n-1-p}} \\\\\n",
      "       & \\sim F_{2, n-p-1}       \\qquad   (\\text{if $H_0$ is true})\n",
      "       \\end{aligned}$$\n",
      "\n",
      "-   Reject $H_0$ at level $\\alpha$ if $F > F_{1-\\alpha, 2, n-1-p}$.\n"
     ]
    },
    {
     "cell_type": "markdown",
     "metadata": {
      "slideshow": {
       "slide_type": "slide"
      }
     },
     "source": [
      "When comparing two models, one a special case of the other (i.e. \n",
      "one nested in the other), we can test if the smaller\n",
      "model (the special case) is roughly as good as the \n",
      "larger model in describing our outcome. This is typically\n",
      "tested using an *F* test based on comparing\n",
      "the two models. We can use `anova_lm` to do this."
     ]
    },
    {
     "cell_type": "code",
     "collapsed": false,
     "input": [
      "reduced_lm = smf.ols(\"lpsa ~ lcavol + lweight + age + lbph + svi\", data=prostate).fit()\n",
      "print anova_lm(reduced_lm, res)"
     ],
     "language": "python",
     "metadata": {
      "slideshow": {
       "slide_type": "fragment"
      }
     },
     "outputs": [
      {
       "output_type": "stream",
       "stream": "stdout",
       "text": [
        "   df_resid        ssr  df_diff   ss_diff         F    Pr(>F)\n",
        "0        91  44.436682        0       NaN       NaN       NaN\n",
        "1        89  43.107558        2  1.329124  1.372057  0.258896\n",
        "\n",
        "[2 rows x 6 columns]\n"
       ]
      }
     ],
     "prompt_number": 19
    },
    {
     "cell_type": "markdown",
     "metadata": {
      "slideshow": {
       "slide_type": "slide"
      }
     },
     "source": [
      "LAB\n",
      "===\n",
      "In the `DAT6` folder, from the command line:\n",
      "```bash\n",
      "git commit -am ...\n",
      "git checkout gh-pages\n",
      "git pull\n",
      "git checkout personal\n",
      "git merge gh-pages\n",
      "ipython notebook\n",
      "```\n",
      "Then open `DS_Lab06-ML`"
     ]
    }
   ],
   "metadata": {}
  }
 ]
}