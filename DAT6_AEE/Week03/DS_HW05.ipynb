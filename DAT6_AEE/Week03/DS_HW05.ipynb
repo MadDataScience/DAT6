{
 "metadata": {
  "name": "",
  "signature": "sha256:625e5f71a75c484eff0169d140d725e6da676f4710eb51a6ae89fd333d617abc"
 },
 "nbformat": 3,
 "nbformat_minor": 0,
 "worksheets": [
  {
   "cells": [
    {
     "cell_type": "code",
     "collapsed": false,
     "input": [
      "import matplotlib.pyplot as plt\n",
      "import pandas as pd\n",
      "import sqlite3\n",
      "from pandas.io import sql\n",
      "import matplotlib.pyplot as plt\n",
      "import statsmodels.api as sm\n",
      "conn = sqlite3.connect('enron.db')"
     ],
     "language": "python",
     "metadata": {},
     "outputs": [],
     "prompt_number": 2
    },
    {
     "cell_type": "code",
     "collapsed": false,
     "input": [
      "%load_ext sql"
     ],
     "language": "python",
     "metadata": {},
     "outputs": [],
     "prompt_number": 3
    },
    {
     "cell_type": "code",
     "collapsed": false,
     "input": [
      "%%sql sqlite:///enron.db\n",
      "SELECT mid, seniority as sender_seniority, MAX(rno) as recipient_count\n",
      "FROM EmployeeBase \n",
      "JOIN MessageBase ON eid = from_eid \n",
      "JOIN RecipientBase USING(mid)\n",
      "GROUP BY name, seniority\n",
      "Order by MAX(rno) desc\n",
      "limit 5"
     ],
     "language": "python",
     "metadata": {},
     "outputs": [
      {
       "output_type": "stream",
       "stream": "stdout",
       "text": [
        "Done.\n"
       ]
      },
      {
       "html": [
        "<table>\n",
        "    <tr>\n",
        "        <th>mid</th>\n",
        "        <th>sender_seniority</th>\n",
        "        <th>recipient_count</th>\n",
        "    </tr>\n",
        "    <tr>\n",
        "        <td>13041</td>\n",
        "        <td>Senior</td>\n",
        "        <td>57</td>\n",
        "    </tr>\n",
        "    <tr>\n",
        "        <td>19868</td>\n",
        "        <td>Senior</td>\n",
        "        <td>52</td>\n",
        "    </tr>\n",
        "    <tr>\n",
        "        <td>21069</td>\n",
        "        <td>Senior</td>\n",
        "        <td>49</td>\n",
        "    </tr>\n",
        "    <tr>\n",
        "        <td>21546</td>\n",
        "        <td>Junior</td>\n",
        "        <td>24</td>\n",
        "    </tr>\n",
        "    <tr>\n",
        "        <td>21047</td>\n",
        "        <td>Senior</td>\n",
        "        <td>21</td>\n",
        "    </tr>\n",
        "</table>"
       ],
       "metadata": {},
       "output_type": "pyout",
       "prompt_number": 4,
       "text": [
        "[(13041, u'Senior', 57),\n",
        " (19868, u'Senior', 52),\n",
        " (21069, u'Senior', 49),\n",
        " (21546, u'Junior', 24),\n",
        " (21047, u'Senior', 21)]"
       ]
      }
     ],
     "prompt_number": 4
    },
    {
     "cell_type": "code",
     "collapsed": false,
     "input": [
      "sen_rec = sql.frame_query(\"\"\"SELECT mid, seniority as sender_seniority, MAX(rno) as recipient_count\n",
      "FROM EmployeeBase \n",
      "JOIN MessageBase ON eid = from_eid \n",
      "JOIN RecipientBase USING(mid)\n",
      "GROUP BY name, seniority\"\"\", conn)\n",
      "sen_rec.head()"
     ],
     "language": "python",
     "metadata": {},
     "outputs": [
      {
       "html": [
        "<div style=\"max-height:1000px;max-width:1500px;overflow:auto;\">\n",
        "<table border=\"1\" class=\"dataframe\">\n",
        "  <thead>\n",
        "    <tr style=\"text-align: right;\">\n",
        "      <th></th>\n",
        "      <th>mid</th>\n",
        "      <th>sender_seniority</th>\n",
        "      <th>recipient_count</th>\n",
        "    </tr>\n",
        "  </thead>\n",
        "  <tbody>\n",
        "    <tr>\n",
        "      <th>0</th>\n",
        "      <td> 20950</td>\n",
        "      <td> Senior</td>\n",
        "      <td>  7</td>\n",
        "    </tr>\n",
        "    <tr>\n",
        "      <th>1</th>\n",
        "      <td> 20351</td>\n",
        "      <td> Senior</td>\n",
        "      <td>  2</td>\n",
        "    </tr>\n",
        "    <tr>\n",
        "      <th>2</th>\n",
        "      <td> 21062</td>\n",
        "      <td> Senior</td>\n",
        "      <td> 12</td>\n",
        "    </tr>\n",
        "    <tr>\n",
        "      <th>3</th>\n",
        "      <td> 20081</td>\n",
        "      <td> Senior</td>\n",
        "      <td>  5</td>\n",
        "    </tr>\n",
        "    <tr>\n",
        "      <th>4</th>\n",
        "      <td> 21312</td>\n",
        "      <td> Junior</td>\n",
        "      <td>  1</td>\n",
        "    </tr>\n",
        "  </tbody>\n",
        "</table>\n",
        "<p>5 rows \u00d7 3 columns</p>\n",
        "</div>"
       ],
       "metadata": {},
       "output_type": "pyout",
       "prompt_number": 5,
       "text": [
        "     mid sender_seniority  recipient_count\n",
        "0  20950           Senior                7\n",
        "1  20351           Senior                2\n",
        "2  21062           Senior               12\n",
        "3  20081           Senior                5\n",
        "4  21312           Junior                1\n",
        "\n",
        "[5 rows x 3 columns]"
       ]
      }
     ],
     "prompt_number": 5
    },
    {
     "cell_type": "code",
     "collapsed": false,
     "input": [
      "%matplotlib inline\n",
      "sen_rec.boxplot(column=\"recipient_count\", by=\"sender_seniority\", figsize=(12,6))"
     ],
     "language": "python",
     "metadata": {},
     "outputs": [
      {
       "metadata": {},
       "output_type": "pyout",
       "prompt_number": 6,
       "text": [
        "<matplotlib.axes.AxesSubplot at 0x17258b00>"
       ]
      },
      {
       "metadata": {},
       "output_type": "display_data",
       "png": "[encoded data removed]",
       "text": [
        "<matplotlib.figure.Figure at 0x17258550>"
       ]
      }
     ],
     "prompt_number": 6
    },
    {
     "cell_type": "code",
     "collapsed": false,
     "input": [
      "junior=sen_rec[sen_rec.sender_seniority=='Junior']\n",
      "senior=sen_rec[sen_rec.sender_seniority=='Senior']\n",
      "print 'the mean recipient_count in the junior group is ' + str(junior.recipient_count.mean())\n",
      "print 'the mean recipient_count in the senior group is ' + str(senior.recipient_count.mean()) \n",
      "print 'the standard deviation of the recipient_count in the junior group is ' + str(junior.recipient_count.std())\n",
      "print 'the standard deviation of the recipient_count in the senior group is ' + str(senior.recipient_count.std())"
     ],
     "language": "python",
     "metadata": {},
     "outputs": [
      {
       "output_type": "stream",
       "stream": "stdout",
       "text": [
        "the mean recipient_count in the junior group is 5.39743589744\n",
        "the mean recipient_count in the senior group is 8.93243243243\n",
        "the standard deviation of the recipient_count in the junior group is 4.56508415475\n",
        "the standard deviation of the recipient_count in the senior group is 10.1459636094\n"
       ]
      }
     ],
     "prompt_number": 7
    },
    {
     "cell_type": "code",
     "collapsed": false,
     "input": [
      "junior.recipient_count.hist(figsize=(12,6), color=\"orange\")"
     ],
     "language": "python",
     "metadata": {},
     "outputs": [
      {
       "metadata": {},
       "output_type": "pyout",
       "prompt_number": 8,
       "text": [
        "<matplotlib.axes.AxesSubplot at 0x17354a20>"
       ]
      },
      {
       "metadata": {},
       "output_type": "display_data",
       "png": "[encoded data removed]",
       "text": [
        "<matplotlib.figure.Figure at 0x172640f0>"
       ]
      }
     ],
     "prompt_number": 8
    },
    {
     "cell_type": "code",
     "collapsed": false,
     "input": [
      "senior.recipient_count.hist(figsize=(12,6), color=\"orange\")"
     ],
     "language": "python",
     "metadata": {},
     "outputs": [
      {
       "metadata": {},
       "output_type": "pyout",
       "prompt_number": 9,
       "text": [
        "<matplotlib.axes.AxesSubplot at 0x17334470>"
       ]
      },
      {
       "metadata": {},
       "output_type": "display_data",
       "png": "[encoded data removed]",
       "text": [
        "<matplotlib.figure.Figure at 0x17f96470>"
       ]
      }
     ],
     "prompt_number": 9
    },
    {
     "cell_type": "code",
     "collapsed": false,
     "input": [
      "from scipy import stats\n",
      "from scipy.stats import t as tdist\n",
      "t, p = stats.ttest_ind(senior.recipient_count, junior.recipient_count, equal_var=True)"
     ],
     "language": "python",
     "metadata": {},
     "outputs": [],
     "prompt_number": 12
    },
    {
     "cell_type": "code",
     "collapsed": false,
     "input": [
      "print 'under the assumption that the two samples have equal variance t value is ' + str(t) + ' and p value is ' + str(p)"
     ],
     "language": "python",
     "metadata": {},
     "outputs": [
      {
       "output_type": "stream",
       "stream": "stdout",
       "text": [
        "under the assumption that the two samples have equal variance t value is 2.79379313554 and p value is 0.00588960548231\n"
       ]
      }
     ],
     "prompt_number": 15
    },
    {
     "cell_type": "markdown",
     "metadata": {},
     "source": [
      "The p value of seniority level is ~0.006. At level \u03b1=5%, the null hypothesis that the average recipient count does not differ between the two groups is rejected (i.e. seniority might be an important factor).\n",
      "\n",
      "We're also assuming a normal distribution within the sample groups of recipient counts and the measurements are independent."
     ]
    },
    {
     "cell_type": "markdown",
     "metadata": {},
     "source": [
      "We can report that the 90% confidence interval is [1.441, 5.629] for the difference between the recipient_count means of the different \n",
      "seniority levels Junior and Senior. This was calculated below.\n",
      " "
     ]
    },
    {
     "cell_type": "markdown",
     "metadata": {},
     "source": [
      "A problem might be that the data does not seem to be normally distributed and it is not quite symmetrical. In this case, we may want to perform other tests to be sure."
     ]
    },
    {
     "cell_type": "code",
     "collapsed": false,
     "input": [
      "sen_rec_mod = sm.OLS.from_formula(\"sen_rec.recipient_count ~ sen_rec.sender_seniority == 'Senior'\", sen_rec)\n",
      "res = sen_rec_mod.fit()\n",
      "print res.summary(alpha = .1)"
     ],
     "language": "python",
     "metadata": {},
     "outputs": [
      {
       "output_type": "stream",
       "stream": "stdout",
       "text": [
        "                               OLS Regression Results                              \n",
        "===================================================================================\n",
        "Dep. Variable:     sen_rec.recipient_count   R-squared:                       0.049\n",
        "Model:                                 OLS   Adj. R-squared:                  0.043\n",
        "Method:                      Least Squares   F-statistic:                     7.805\n",
        "Date:                     Sun, 04 May 2014   Prob (F-statistic):            0.00589\n",
        "Time:                             23:22:50   Log-Likelihood:                -526.84\n",
        "No. Observations:                      152   AIC:                             1058.\n",
        "Df Residuals:                          150   BIC:                             1064.\n",
        "Df Model:                                1                                         \n",
        "================================================================================================================\n",
        "                                                   coef    std err          t      P>|t|      [90.0% Conf. Int.]\n",
        "----------------------------------------------------------------------------------------------------------------\n",
        "Intercept                                        5.3974      0.883      6.114      0.000         3.936     6.859\n",
        "sen_rec.sender_seniority == 'Senior'[T.True]     3.5350      1.265      2.794      0.006         1.441     5.629\n",
        "==============================================================================\n",
        "Omnibus:                      152.587   Durbin-Watson:                   2.256\n",
        "Prob(Omnibus):                  0.000   Jarque-Bera (JB):             2499.292\n",
        "Skew:                           3.771   Prob(JB):                         0.00\n",
        "Kurtosis:                      21.378   Cond. No.                         2.59\n",
        "==============================================================================\n"
       ]
      }
     ],
     "prompt_number": 14
    },
    {
     "cell_type": "markdown",
     "metadata": {},
     "source": [
      "Again, we can report that the 90% confidence interval is [1.441, 5.629] for the difference between the recipient_count means of the different seniority levels Junior and Senior. \n",
      "\n",
      "And again, the p value of seniority level is 0.006. At level \u03b1=5%, the null hypothesis that the average recipient count does not differ between the two groups is rejected (i.e. seniority might be an important factor). "
     ]
    }
   ],
   "metadata": {}
  }
 ]
}