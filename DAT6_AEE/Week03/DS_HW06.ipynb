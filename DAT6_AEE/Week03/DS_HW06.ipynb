{
 "metadata": {
  "name": "",
  "signature": "sha256:476958dff76393402605ce3ef5cbcf8251b09c18158a5ad05905b5c94228f5b9"
 },
 "nbformat": 3,
 "nbformat_minor": 0,
 "worksheets": [
  {
   "cells": [
    {
     "cell_type": "code",
     "collapsed": false,
     "input": [
      "import matplotlib.pyplot as plt\n",
      "import pandas as pd\n",
      "import sqlite3\n",
      "from pandas.io import sql\n",
      "import matplotlib.pyplot as plt\n",
      "import statsmodels.api as sm\n",
      "conn = sqlite3.connect('enron.db')"
     ],
     "language": "python",
     "metadata": {},
     "outputs": [],
     "prompt_number": 2
    },
    {
     "cell_type": "code",
     "collapsed": false,
     "input": [
      "%load_ext sql"
     ],
     "language": "python",
     "metadata": {},
     "outputs": [],
     "prompt_number": 3
    },
    {
     "cell_type": "code",
     "collapsed": false,
     "input": [
      "#checking my data in SQL\n",
      "%%sql sqlite:///enron.db\n",
      "SELECT mid, department as dep_of_sender, MAX(rno) as recipient_count\n",
      "FROM EmployeeBase \n",
      "JOIN MessageBase ON eid = from_eid \n",
      "JOIN RecipientBase USING(mid)\n",
      "GROUP BY mid, dep_of_sender\n",
      "Order by MAX(rno) desc\n",
      "limit 10"
     ],
     "language": "python",
     "metadata": {},
     "outputs": [
      {
       "output_type": "stream",
       "stream": "stdout",
       "text": [
        "Done.\n"
       ]
      },
      {
       "html": [
        "<table>\n",
        "    <tr>\n",
        "        <th>mid</th>\n",
        "        <th>dep_of_sender</th>\n",
        "        <th>recipient_count</th>\n",
        "    </tr>\n",
        "    <tr>\n",
        "        <td>12116</td>\n",
        "        <td>Other</td>\n",
        "        <td>57</td>\n",
        "    </tr>\n",
        "    <tr>\n",
        "        <td>12151</td>\n",
        "        <td>Other</td>\n",
        "        <td>57</td>\n",
        "    </tr>\n",
        "    <tr>\n",
        "        <td>12140</td>\n",
        "        <td>Other</td>\n",
        "        <td>55</td>\n",
        "    </tr>\n",
        "    <tr>\n",
        "        <td>14404</td>\n",
        "        <td>Other</td>\n",
        "        <td>52</td>\n",
        "    </tr>\n",
        "    <tr>\n",
        "        <td>16035</td>\n",
        "        <td>Other</td>\n",
        "        <td>49</td>\n",
        "    </tr>\n",
        "    <tr>\n",
        "        <td>16431</td>\n",
        "        <td>Other</td>\n",
        "        <td>24</td>\n",
        "    </tr>\n",
        "    <tr>\n",
        "        <td>8116</td>\n",
        "        <td>Other</td>\n",
        "        <td>22</td>\n",
        "    </tr>\n",
        "    <tr>\n",
        "        <td>15148</td>\n",
        "        <td>Legal</td>\n",
        "        <td>21</td>\n",
        "    </tr>\n",
        "    <tr>\n",
        "        <td>15577</td>\n",
        "        <td>Other</td>\n",
        "        <td>21</td>\n",
        "    </tr>\n",
        "    <tr>\n",
        "        <td>21103</td>\n",
        "        <td>Trading</td>\n",
        "        <td>20</td>\n",
        "    </tr>\n",
        "</table>"
       ],
       "metadata": {},
       "output_type": "pyout",
       "prompt_number": 4,
       "text": [
        "[(12116, u'Other', 57),\n",
        " (12151, u'Other', 57),\n",
        " (12140, u'Other', 55),\n",
        " (14404, u'Other', 52),\n",
        " (16035, u'Other', 49),\n",
        " (16431, u'Other', 24),\n",
        " (8116, u'Other', 22),\n",
        " (15148, u'Legal', 21),\n",
        " (15577, u'Other', 21),\n",
        " (21103, u'Trading', 20)]"
       ]
      }
     ],
     "prompt_number": 4
    },
    {
     "cell_type": "code",
     "collapsed": false,
     "input": [
      "# 1) Select a DataFrame containing the recipient count (as before) and the department of the sender for each message.\n",
      "message_df = sql.frame_query(\"\"\"SELECT mid, department as dep_of_sender, MAX(rno) as recipient_count\n",
      "FROM EmployeeBase \n",
      "JOIN MessageBase ON eid = from_eid \n",
      "JOIN RecipientBase USING(mid)\n",
      "GROUP BY mid, dep_of_sender\"\"\", conn)\n",
      "message_df.head()"
     ],
     "language": "python",
     "metadata": {},
     "outputs": [
      {
       "html": [
        "<div style=\"max-height:1000px;max-width:1500px;overflow:auto;\">\n",
        "<table border=\"1\" class=\"dataframe\">\n",
        "  <thead>\n",
        "    <tr style=\"text-align: right;\">\n",
        "      <th></th>\n",
        "      <th>mid</th>\n",
        "      <th>dep_of_sender</th>\n",
        "      <th>recipient_count</th>\n",
        "    </tr>\n",
        "  </thead>\n",
        "  <tbody>\n",
        "    <tr>\n",
        "      <th>0</th>\n",
        "      <td> 1</td>\n",
        "      <td> Legal</td>\n",
        "      <td> 1</td>\n",
        "    </tr>\n",
        "    <tr>\n",
        "      <th>1</th>\n",
        "      <td> 2</td>\n",
        "      <td> Legal</td>\n",
        "      <td> 1</td>\n",
        "    </tr>\n",
        "    <tr>\n",
        "      <th>2</th>\n",
        "      <td> 3</td>\n",
        "      <td> Legal</td>\n",
        "      <td> 1</td>\n",
        "    </tr>\n",
        "    <tr>\n",
        "      <th>3</th>\n",
        "      <td> 4</td>\n",
        "      <td> Legal</td>\n",
        "      <td> 4</td>\n",
        "    </tr>\n",
        "    <tr>\n",
        "      <th>4</th>\n",
        "      <td> 5</td>\n",
        "      <td> Legal</td>\n",
        "      <td> 2</td>\n",
        "    </tr>\n",
        "  </tbody>\n",
        "</table>\n",
        "<p>5 rows \u00d7 3 columns</p>\n",
        "</div>"
       ],
       "metadata": {},
       "output_type": "pyout",
       "prompt_number": 5,
       "text": [
        "   mid dep_of_sender  recipient_count\n",
        "0    1         Legal                1\n",
        "1    2         Legal                1\n",
        "2    3         Legal                1\n",
        "3    4         Legal                4\n",
        "4    5         Legal                2\n",
        "\n",
        "[5 rows x 3 columns]"
       ]
      }
     ],
     "prompt_number": 5
    },
    {
     "cell_type": "code",
     "collapsed": false,
     "input": [
      "# 2) Create a histogram of the recipient count\n",
      "%matplotlib inline\n",
      "message_df.recipient_count.hist()"
     ],
     "language": "python",
     "metadata": {},
     "outputs": [
      {
       "metadata": {},
       "output_type": "pyout",
       "prompt_number": 6,
       "text": [
        "<matplotlib.axes.AxesSubplot at 0x165248d0>"
       ]
      },
      {
       "metadata": {},
       "output_type": "display_data",
       "png": "[encoded data removed]",
       "text": [
        "<matplotlib.figure.Figure at 0x16524400>"
       ]
      }
     ],
     "prompt_number": 6
    },
    {
     "cell_type": "code",
     "collapsed": false,
     "input": [
      "# 3) Create a new column based on the log of the recipient count.\n",
      "import numpy as np\n",
      "message_df['log_rec_count']=np.log(message_df['recipient_count'])\n",
      "message_df.head()"
     ],
     "language": "python",
     "metadata": {},
     "outputs": [
      {
       "html": [
        "<div style=\"max-height:1000px;max-width:1500px;overflow:auto;\">\n",
        "<table border=\"1\" class=\"dataframe\">\n",
        "  <thead>\n",
        "    <tr style=\"text-align: right;\">\n",
        "      <th></th>\n",
        "      <th>mid</th>\n",
        "      <th>dep_of_sender</th>\n",
        "      <th>recipient_count</th>\n",
        "      <th>log_rec_count</th>\n",
        "    </tr>\n",
        "  </thead>\n",
        "  <tbody>\n",
        "    <tr>\n",
        "      <th>0</th>\n",
        "      <td> 1</td>\n",
        "      <td> Legal</td>\n",
        "      <td> 1</td>\n",
        "      <td> 0.000000</td>\n",
        "    </tr>\n",
        "    <tr>\n",
        "      <th>1</th>\n",
        "      <td> 2</td>\n",
        "      <td> Legal</td>\n",
        "      <td> 1</td>\n",
        "      <td> 0.000000</td>\n",
        "    </tr>\n",
        "    <tr>\n",
        "      <th>2</th>\n",
        "      <td> 3</td>\n",
        "      <td> Legal</td>\n",
        "      <td> 1</td>\n",
        "      <td> 0.000000</td>\n",
        "    </tr>\n",
        "    <tr>\n",
        "      <th>3</th>\n",
        "      <td> 4</td>\n",
        "      <td> Legal</td>\n",
        "      <td> 4</td>\n",
        "      <td> 1.386294</td>\n",
        "    </tr>\n",
        "    <tr>\n",
        "      <th>4</th>\n",
        "      <td> 5</td>\n",
        "      <td> Legal</td>\n",
        "      <td> 2</td>\n",
        "      <td> 0.693147</td>\n",
        "    </tr>\n",
        "  </tbody>\n",
        "</table>\n",
        "<p>5 rows \u00d7 4 columns</p>\n",
        "</div>"
       ],
       "metadata": {},
       "output_type": "pyout",
       "prompt_number": 7,
       "text": [
        "   mid dep_of_sender  recipient_count  log_rec_count\n",
        "0    1         Legal                1       0.000000\n",
        "1    2         Legal                1       0.000000\n",
        "2    3         Legal                1       0.000000\n",
        "3    4         Legal                4       1.386294\n",
        "4    5         Legal                2       0.693147\n",
        "\n",
        "[5 rows x 4 columns]"
       ]
      }
     ],
     "prompt_number": 7
    },
    {
     "cell_type": "code",
     "collapsed": false,
     "input": [
      "# 4) Create a histogram of that log \n",
      "message_df.log_rec_count.hist()"
     ],
     "language": "python",
     "metadata": {},
     "outputs": [
      {
       "metadata": {},
       "output_type": "pyout",
       "prompt_number": 8,
       "text": [
        "<matplotlib.axes.AxesSubplot at 0x17c15fd0>"
       ]
      },
      {
       "metadata": {},
       "output_type": "display_data",
       "png": "[encoded data removed]",
       "text": [
        "<matplotlib.figure.Figure at 0x17c0f390>"
       ]
      }
     ],
     "prompt_number": 8
    },
    {
     "cell_type": "code",
     "collapsed": false,
     "input": [
      "message_df.head()"
     ],
     "language": "python",
     "metadata": {},
     "outputs": [
      {
       "html": [
        "<div style=\"max-height:1000px;max-width:1500px;overflow:auto;\">\n",
        "<table border=\"1\" class=\"dataframe\">\n",
        "  <thead>\n",
        "    <tr style=\"text-align: right;\">\n",
        "      <th></th>\n",
        "      <th>mid</th>\n",
        "      <th>dep_of_sender</th>\n",
        "      <th>recipient_count</th>\n",
        "      <th>log_rec_count</th>\n",
        "    </tr>\n",
        "  </thead>\n",
        "  <tbody>\n",
        "    <tr>\n",
        "      <th>0</th>\n",
        "      <td> 1</td>\n",
        "      <td> Legal</td>\n",
        "      <td> 1</td>\n",
        "      <td> 0.000000</td>\n",
        "    </tr>\n",
        "    <tr>\n",
        "      <th>1</th>\n",
        "      <td> 2</td>\n",
        "      <td> Legal</td>\n",
        "      <td> 1</td>\n",
        "      <td> 0.000000</td>\n",
        "    </tr>\n",
        "    <tr>\n",
        "      <th>2</th>\n",
        "      <td> 3</td>\n",
        "      <td> Legal</td>\n",
        "      <td> 1</td>\n",
        "      <td> 0.000000</td>\n",
        "    </tr>\n",
        "    <tr>\n",
        "      <th>3</th>\n",
        "      <td> 4</td>\n",
        "      <td> Legal</td>\n",
        "      <td> 4</td>\n",
        "      <td> 1.386294</td>\n",
        "    </tr>\n",
        "    <tr>\n",
        "      <th>4</th>\n",
        "      <td> 5</td>\n",
        "      <td> Legal</td>\n",
        "      <td> 2</td>\n",
        "      <td> 0.693147</td>\n",
        "    </tr>\n",
        "  </tbody>\n",
        "</table>\n",
        "<p>5 rows \u00d7 4 columns</p>\n",
        "</div>"
       ],
       "metadata": {},
       "output_type": "pyout",
       "prompt_number": 9,
       "text": [
        "   mid dep_of_sender  recipient_count  log_rec_count\n",
        "0    1         Legal                1       0.000000\n",
        "1    2         Legal                1       0.000000\n",
        "2    3         Legal                1       0.000000\n",
        "3    4         Legal                4       1.386294\n",
        "4    5         Legal                2       0.693147\n",
        "\n",
        "[5 rows x 4 columns]"
       ]
      }
     ],
     "prompt_number": 9
    },
    {
     "cell_type": "code",
     "collapsed": false,
     "input": [
      "# 5) Create a boxplot of the log, splitting the data based on the department of the sender.\n",
      "message_df.boxplot(column=\"log_rec_count\", by=\"dep_of_sender\", figsize=(12,6))"
     ],
     "language": "python",
     "metadata": {},
     "outputs": [
      {
       "metadata": {},
       "output_type": "pyout",
       "prompt_number": 10,
       "text": [
        "<matplotlib.axes.AxesSubplot at 0x16736198>"
       ]
      },
      {
       "metadata": {},
       "output_type": "display_data",
       "png": "[encoded data removed]",
       "text": [
        "<matplotlib.figure.Figure at 0x166e2e48>"
       ]
      }
     ],
     "prompt_number": 10
    },
    {
     "cell_type": "code",
     "collapsed": false,
     "input": [
      "# 6) Compute the sample mean and standard deviation of the log in the three groups.\n",
      "grouped_stats = message_df.groupby(\"dep_of_sender\")\n",
      "grouped_stats['log_rec_count'].agg([np.mean, np.std])"
     ],
     "language": "python",
     "metadata": {},
     "outputs": [
      {
       "html": [
        "<div style=\"max-height:1000px;max-width:1500px;overflow:auto;\">\n",
        "<table border=\"1\" class=\"dataframe\">\n",
        "  <thead>\n",
        "    <tr style=\"text-align: right;\">\n",
        "      <th></th>\n",
        "      <th>mean</th>\n",
        "      <th>std</th>\n",
        "    </tr>\n",
        "    <tr>\n",
        "      <th>dep_of_sender</th>\n",
        "      <th></th>\n",
        "      <th></th>\n",
        "    </tr>\n",
        "  </thead>\n",
        "  <tbody>\n",
        "    <tr>\n",
        "      <th>Legal</th>\n",
        "      <td> 0.401037</td>\n",
        "      <td> 0.593603</td>\n",
        "    </tr>\n",
        "    <tr>\n",
        "      <th>Other</th>\n",
        "      <td> 0.307250</td>\n",
        "      <td> 0.578159</td>\n",
        "    </tr>\n",
        "    <tr>\n",
        "      <th>Trading</th>\n",
        "      <td> 0.259529</td>\n",
        "      <td> 0.532759</td>\n",
        "    </tr>\n",
        "  </tbody>\n",
        "</table>\n",
        "<p>3 rows \u00d7 2 columns</p>\n",
        "</div>"
       ],
       "metadata": {},
       "output_type": "pyout",
       "prompt_number": 11,
       "text": [
        "                   mean       std\n",
        "dep_of_sender                    \n",
        "Legal          0.401037  0.593603\n",
        "Other          0.307250  0.578159\n",
        "Trading        0.259529  0.532759\n",
        "\n",
        "[3 rows x 2 columns]"
       ]
      }
     ],
     "prompt_number": 11
    },
    {
     "cell_type": "code",
     "collapsed": false,
     "input": [
      "# 7) Compute a 95% confidence interval for the difference in recipient count between the three groups.\n",
      "import statsmodels.api as sm\n",
      "mod = sm.OLS.from_formula(formula='recipient_count ~ dep_of_sender', data=message_df)\n",
      "res = mod.fit()\n",
      "print res.summary()"
     ],
     "language": "python",
     "metadata": {},
     "outputs": [
      {
       "output_type": "stream",
       "stream": "stdout",
       "text": [
        "                            OLS Regression Results                            \n",
        "==============================================================================\n",
        "Dep. Variable:        recipient_count   R-squared:                       0.002\n",
        "Model:                            OLS   Adj. R-squared:                  0.002\n",
        "Method:                 Least Squares   F-statistic:                     25.04\n",
        "Date:                Wed, 14 May 2014   Prob (F-statistic):           1.38e-11\n",
        "Time:                        00:06:11   Log-Likelihood:                -44307.\n",
        "No. Observations:               21635   AIC:                         8.862e+04\n",
        "Df Residuals:                   21632   BIC:                         8.864e+04\n",
        "Df Model:                           2                                         \n",
        "============================================================================================\n",
        "                               coef    std err          t      P>|t|      [95.0% Conf. Int.]\n",
        "--------------------------------------------------------------------------------------------\n",
        "Intercept                    1.8557      0.018    100.867      0.000         1.820     1.892\n",
        "dep_of_sender[T.Other]      -0.1067      0.029     -3.657      0.000        -0.164    -0.050\n",
        "dep_of_sender[T.Trading]    -0.2346      0.034     -6.945      0.000        -0.301    -0.168\n",
        "==============================================================================\n",
        "Omnibus:                    30631.783   Durbin-Watson:                   1.884\n",
        "Prob(Omnibus):                  0.000   Jarque-Bera (JB):         22422822.273\n",
        "Skew:                           8.057   Prob(JB):                         0.00\n",
        "Kurtosis:                     159.889   Cond. No.                         3.32\n",
        "==============================================================================\n"
       ]
      }
     ],
     "prompt_number": 13
    },
    {
     "cell_type": "code",
     "collapsed": false,
     "input": [
      "res.conf_int()"
     ],
     "language": "python",
     "metadata": {},
     "outputs": [
      {
       "html": [
        "<div style=\"max-height:1000px;max-width:1500px;overflow:auto;\">\n",
        "<table border=\"1\" class=\"dataframe\">\n",
        "  <thead>\n",
        "    <tr style=\"text-align: right;\">\n",
        "      <th></th>\n",
        "      <th>0</th>\n",
        "      <th>1</th>\n",
        "    </tr>\n",
        "  </thead>\n",
        "  <tbody>\n",
        "    <tr>\n",
        "      <th>Intercept</th>\n",
        "      <td> 1.819653</td>\n",
        "      <td> 1.891775</td>\n",
        "    </tr>\n",
        "    <tr>\n",
        "      <th>dep_of_sender[T.Other]</th>\n",
        "      <td>-0.163948</td>\n",
        "      <td>-0.049522</td>\n",
        "    </tr>\n",
        "    <tr>\n",
        "      <th>dep_of_sender[T.Trading]</th>\n",
        "      <td>-0.300756</td>\n",
        "      <td>-0.168364</td>\n",
        "    </tr>\n",
        "  </tbody>\n",
        "</table>\n",
        "<p>3 rows \u00d7 2 columns</p>\n",
        "</div>"
       ],
       "metadata": {},
       "output_type": "pyout",
       "prompt_number": 15,
       "text": [
        "                                 0         1\n",
        "Intercept                 1.819653  1.891775\n",
        "dep_of_sender[T.Other]   -0.163948 -0.049522\n",
        "dep_of_sender[T.Trading] -0.300756 -0.168364\n",
        "\n",
        "[3 rows x 2 columns]"
       ]
      }
     ],
     "prompt_number": 15
    },
    {
     "cell_type": "markdown",
     "metadata": {},
     "source": [
      "The baseline variable here (intercept) is dep_of_sender=='Legal'. The other variables (i.e. dep_of_sender being 'Trading' or 'Other') explain the difference in mean recipient count with respect to the deparment being Legal. Their p-values indicate that they are significant variables. For instance, if we wanted to calculate the effect of dep_of_sender being 'Trading' we would "
     ]
    },
    {
     "cell_type": "code",
     "collapsed": false,
     "input": [
      "# 8) At level \u03b1=5%, test the null hypothesis that the average recipient count does not differ between the three groups. \n",
      "# What assumptions are you making? What can you conclude?\n",
      "from scipy import stats\n",
      "treatment1=message_df.recipient_count[message_df.dep_of_sender == 'Legal']\n",
      "treatment2=message_df.recipient_count[message_df.dep_of_sender == 'Other']\n",
      "treatment3=message_df.recipient_count[message_df.dep_of_sender == 'Trading']\n",
      "\n",
      "f_val, p_val = stats.f_oneway(treatment1, treatment2, treatment3)  \n",
      "  \n",
      "print \"One-way ANOVA P =\", p_val  "
     ],
     "language": "python",
     "metadata": {},
     "outputs": [
      {
       "output_type": "stream",
       "stream": "stdout",
       "text": [
        "One-way ANOVA P = 1.37899871278e-11\n"
       ]
      }
     ],
     "prompt_number": 14
    },
    {
     "cell_type": "markdown",
     "metadata": {},
     "source": [
      "Explanation & Conclusions: We use a one-way ANOVA test (as opposed to a T-Test) because we have more than two groups of data. Thee p value is very close to 0 which gives us evidence to reject the null hypothesis that the three means are equal to each other (reason to believe that they are significantly different from each other)\n",
      "\n",
      "Assumptions: \n",
      "\n",
      "- Response variable residuals are normally distributed (or approximately normally distributed).\n",
      "- Samples are independent.\n",
      "- Variances of populations are equal.\n",
      "- Responses for a given group are independent and identically distributed normal random variables.\n",
      "\n"
     ]
    }
   ],
   "metadata": {}
  }
 ]
}