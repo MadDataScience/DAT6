{
 "metadata": {
  "name": "",
  "signature": "sha256:9ef507ec8339e6a8b110a832d8164f6b1c9b6a2cc0b562a0cc0cd2794ff99d61"
 },
 "nbformat": 3,
 "nbformat_minor": 0,
 "worksheets": [
  {
   "cells": [
    {
     "cell_type": "code",
     "collapsed": false,
     "input": [
      "%matplotlib inline\n",
      "import pandas as pd\n",
      "import statsmodels.api as sm\n",
      "import numpy as np"
     ],
     "language": "python",
     "metadata": {},
     "outputs": [],
     "prompt_number": 1
    },
    {
     "cell_type": "code",
     "collapsed": false,
     "input": [
      "mdata = pd.read_csv('./data/milkdata.csv')\n",
      "mdata.head(3)"
     ],
     "language": "python",
     "metadata": {},
     "outputs": [
      {
       "html": [
        "<div style=\"max-height:1000px;max-width:1500px;overflow:auto;\">\n",
        "<table border=\"1\" class=\"dataframe\">\n",
        "  <thead>\n",
        "    <tr style=\"text-align: right;\">\n",
        "      <th></th>\n",
        "      <th>id</th>\n",
        "      <th>product</th>\n",
        "      <th>full_price</th>\n",
        "      <th>full_pri</th>\n",
        "      <th>promo</th>\n",
        "      <th>disc_price</th>\n",
        "      <th>bundle</th>\n",
        "      <th>time_day</th>\n",
        "      <th>repeated?</th>\n",
        "      <th>repeated_bundle?</th>\n",
        "    </tr>\n",
        "  </thead>\n",
        "  <tbody>\n",
        "    <tr>\n",
        "      <th>0</th>\n",
        "      <td> 1</td>\n",
        "      <td> 1</td>\n",
        "      <td> 2</td>\n",
        "      <td> 1.58</td>\n",
        "      <td> 1</td>\n",
        "      <td> 0.42</td>\n",
        "      <td> 1</td>\n",
        "      <td> 1</td>\n",
        "      <td> 1</td>\n",
        "      <td> 1</td>\n",
        "    </tr>\n",
        "    <tr>\n",
        "      <th>1</th>\n",
        "      <td> 2</td>\n",
        "      <td> 1</td>\n",
        "      <td> 2</td>\n",
        "      <td> 1.15</td>\n",
        "      <td> 1</td>\n",
        "      <td> 0.85</td>\n",
        "      <td> 1</td>\n",
        "      <td> 1</td>\n",
        "      <td> 0</td>\n",
        "      <td> 1</td>\n",
        "    </tr>\n",
        "    <tr>\n",
        "      <th>2</th>\n",
        "      <td> 3</td>\n",
        "      <td> 1</td>\n",
        "      <td> 3</td>\n",
        "      <td> 2.25</td>\n",
        "      <td> 1</td>\n",
        "      <td> 0.75</td>\n",
        "      <td> 0</td>\n",
        "      <td> 1</td>\n",
        "      <td> 1</td>\n",
        "      <td> 1</td>\n",
        "    </tr>\n",
        "  </tbody>\n",
        "</table>\n",
        "<p>3 rows \u00d7 10 columns</p>\n",
        "</div>"
       ],
       "metadata": {},
       "output_type": "pyout",
       "prompt_number": 3,
       "text": [
        "   id  product  full_price  full_pri  promo  disc_price  bundle  time_day  \\\n",
        "0   1        1           2      1.58      1        0.42       1         1   \n",
        "1   2        1           2      1.15      1        0.85       1         1   \n",
        "2   3        1           3      2.25      1        0.75       0         1   \n",
        "\n",
        "   repeated?  repeated_bundle?  \n",
        "0          1                 1  \n",
        "1          0                 1  \n",
        "2          1                 1  \n",
        "\n",
        "[3 rows x 10 columns]"
       ]
      }
     ],
     "prompt_number": 3
    },
    {
     "cell_type": "code",
     "collapsed": false,
     "input": [
      "x_vars=mdata[['product', 'full_price', 'full_pri', 'promo', 'disc_price', 'time_day', 'repeated?']]\n",
      "y_bundel=mdata['bundle']"
     ],
     "language": "python",
     "metadata": {},
     "outputs": [],
     "prompt_number": 6
    },
    {
     "cell_type": "code",
     "collapsed": false,
     "input": [
      "logit = sm.Logit(y_bundel, x_vars)"
     ],
     "language": "python",
     "metadata": {},
     "outputs": [],
     "prompt_number": 8
    },
    {
     "cell_type": "code",
     "collapsed": false,
     "input": [
      "results=logit.fit()\n",
      "results.summary()"
     ],
     "language": "python",
     "metadata": {},
     "outputs": [
      {
       "output_type": "stream",
       "stream": "stdout",
       "text": [
        "Optimization terminated successfully.\n",
        "         Current function value: 0.640931\n",
        "         Iterations 5\n"
       ]
      },
      {
       "html": [
        "<table class=\"simpletable\">\n",
        "<caption>Logit Regression Results</caption>\n",
        "<tr>\n",
        "  <th>Dep. Variable:</th>      <td>bundle</td>      <th>  No. Observations:  </th>  <td>   500</td> \n",
        "</tr>\n",
        "<tr>\n",
        "  <th>Model:</th>               <td>Logit</td>      <th>  Df Residuals:      </th>  <td>   493</td> \n",
        "</tr>\n",
        "<tr>\n",
        "  <th>Method:</th>               <td>MLE</td>       <th>  Df Model:          </th>  <td>     6</td> \n",
        "</tr>\n",
        "<tr>\n",
        "  <th>Date:</th>          <td>Fri, 16 May 2014</td> <th>  Pseudo R-squ.:     </th>  <td>0.03340</td>\n",
        "</tr>\n",
        "<tr>\n",
        "  <th>Time:</th>              <td>00:52:49</td>     <th>  Log-Likelihood:    </th> <td> -320.47</td>\n",
        "</tr>\n",
        "<tr>\n",
        "  <th>converged:</th>           <td>True</td>       <th>  LL-Null:           </th> <td> -331.54</td>\n",
        "</tr>\n",
        "<tr>\n",
        "  <th> </th>                      <td> </td>        <th>  LLR p-value:       </th> <td>0.001139</td>\n",
        "</tr>\n",
        "</table>\n",
        "<table class=\"simpletable\">\n",
        "<tr>\n",
        "       <td></td>         <th>coef</th>     <th>std err</th>      <th>z</th>      <th>P>|z|</th> <th>[95.0% Conf. Int.]</th> \n",
        "</tr>\n",
        "<tr>\n",
        "  <th>product</th>    <td>    0.5589</td> <td>    0.207</td> <td>    2.696</td> <td> 0.007</td> <td>    0.153     0.965</td>\n",
        "</tr>\n",
        "<tr>\n",
        "  <th>full_price</th> <td>    1.5986</td> <td>    0.489</td> <td>    3.270</td> <td> 0.001</td> <td>    0.640     2.557</td>\n",
        "</tr>\n",
        "<tr>\n",
        "  <th>full_pri</th>   <td>   -1.1878</td> <td>    0.431</td> <td>   -2.757</td> <td> 0.006</td> <td>   -2.032    -0.344</td>\n",
        "</tr>\n",
        "<tr>\n",
        "  <th>promo</th>      <td>    0.1976</td> <td>    0.351</td> <td>    0.562</td> <td> 0.574</td> <td>   -0.491     0.886</td>\n",
        "</tr>\n",
        "<tr>\n",
        "  <th>disc_price</th> <td>   -1.6529</td> <td>    0.535</td> <td>   -3.089</td> <td> 0.002</td> <td>   -2.702    -0.604</td>\n",
        "</tr>\n",
        "<tr>\n",
        "  <th>time_day</th>   <td>   -0.3666</td> <td>    0.218</td> <td>   -1.682</td> <td> 0.093</td> <td>   -0.794     0.061</td>\n",
        "</tr>\n",
        "<tr>\n",
        "  <th>repeated?</th>  <td>   -0.4511</td> <td>    0.264</td> <td>   -1.708</td> <td> 0.088</td> <td>   -0.969     0.067</td>\n",
        "</tr>\n",
        "</table>"
       ],
       "metadata": {},
       "output_type": "pyout",
       "prompt_number": 12,
       "text": [
        "<class 'statsmodels.iolib.summary.Summary'>\n",
        "\"\"\"\n",
        "                           Logit Regression Results                           \n",
        "==============================================================================\n",
        "Dep. Variable:                 bundle   No. Observations:                  500\n",
        "Model:                          Logit   Df Residuals:                      493\n",
        "Method:                           MLE   Df Model:                            6\n",
        "Date:                Fri, 16 May 2014   Pseudo R-squ.:                 0.03340\n",
        "Time:                        00:52:49   Log-Likelihood:                -320.47\n",
        "converged:                       True   LL-Null:                       -331.54\n",
        "                                        LLR p-value:                  0.001139\n",
        "==============================================================================\n",
        "                 coef    std err          z      P>|z|      [95.0% Conf. Int.]\n",
        "------------------------------------------------------------------------------\n",
        "product        0.5589      0.207      2.696      0.007         0.153     0.965\n",
        "full_price     1.5986      0.489      3.270      0.001         0.640     2.557\n",
        "full_pri      -1.1878      0.431     -2.757      0.006        -2.032    -0.344\n",
        "promo          0.1976      0.351      0.562      0.574        -0.491     0.886\n",
        "disc_price    -1.6529      0.535     -3.089      0.002        -2.702    -0.604\n",
        "time_day      -0.3666      0.218     -1.682      0.093        -0.794     0.061\n",
        "repeated?     -0.4511      0.264     -1.708      0.088        -0.969     0.067\n",
        "==============================================================================\n",
        "\"\"\""
       ]
      }
     ],
     "prompt_number": 12
    },
    {
     "cell_type": "heading",
     "level": 5,
     "metadata": {},
     "source": [
      "2. Are consumer more likley to buy 2% milk vs. fat-milk? yes or no? explain"
     ]
    },
    {
     "cell_type": "code",
     "collapsed": false,
     "input": [
      "x_vars['product'].hist()"
     ],
     "language": "python",
     "metadata": {},
     "outputs": [
      {
       "metadata": {},
       "output_type": "pyout",
       "prompt_number": 11,
       "text": [
        "<matplotlib.axes.AxesSubplot at 0x1597b208>"
       ]
      },
      {
       "metadata": {},
       "output_type": "display_data",
       "png": "[encoded data removed]",
       "text": [
        "<matplotlib.figure.Figure at 0x15aa35f8>"
       ]
      }
     ],
     "prompt_number": 11
    },
    {
     "cell_type": "markdown",
     "metadata": {},
     "source": [
      "From the histogram, it looks like there are more people buying the 2% milk (more 1's in the product column). So if I had to just look at this, I would have said that the consumers are more likely to by 2% milk. "
     ]
    },
    {
     "cell_type": "heading",
     "level": 5,
     "metadata": {},
     "source": [
      "3. Is the effect of promotion negative or positive on the outcome (Ignore significance)? Can promotions drive consumer to buy in boundle?"
     ]
    },
    {
     "cell_type": "markdown",
     "metadata": {},
     "source": [
      "Ignoring significance, the effect of promotion is positive on the outcome --> it increases the odds of bundle buying vs not. However, from p-value it look like it is not a significant factor; so there is evidence against using it as a driver to increase buying in bundles."
     ]
    },
    {
     "cell_type": "heading",
     "level": 5,
     "metadata": {},
     "source": [
      "4. Calculate the odds ratio for this regression"
     ]
    },
    {
     "cell_type": "code",
     "collapsed": false,
     "input": [
      "print np.exp(results.params)"
     ],
     "language": "python",
     "metadata": {},
     "outputs": [
      {
       "output_type": "stream",
       "stream": "stdout",
       "text": [
        "product       1.748662\n",
        "full_price    4.946059\n",
        "full_pri      0.304879\n",
        "promo         1.218491\n",
        "disc_price    0.191498\n",
        "time_day      0.693060\n",
        "repeated?     0.636896\n",
        "dtype: float64\n"
       ]
      }
     ],
     "prompt_number": 14
    },
    {
     "cell_type": "markdown",
     "metadata": {},
     "source": [
      "This tells us how a 1 unit increase or decrease in a variable affects the odds of buying in bundles. For example, we can expect the odds of bundle to increase by about 30% if full_pri increases by one unit."
     ]
    },
    {
     "cell_type": "heading",
     "level": 5,
     "metadata": {},
     "source": [
      "5. Can you think, with the results we got from this regression, about a strategy to convert consumers to buy in bundles?"
     ]
    },
    {
     "cell_type": "markdown",
     "metadata": {},
     "source": [
      "####note that I changed the wording of the question according to Nir's instruction\n",
      "The model results indicate that product, full_price, full_pri, disc_price matter at alpha=0.05 level for determining if a user is likely to buy in bundles or not. It seems that consumers tend to buy more in bundles as prices increase (probably thinking that they would save more when they buy in bundles ), but it doesn't make sense to increase the full price of an item just for the sake of increasing the price (at least not without further research). Other than that, it looks like 2% milk (Variable product) is bought more in bundles so if we want to increase bundle-buying, it might be a good idea to present this item in bundles. Obviously, this data is very limited; so these are some unsubstantiated claims :P"
     ]
    }
   ],
   "metadata": {}
  }
 ]
}