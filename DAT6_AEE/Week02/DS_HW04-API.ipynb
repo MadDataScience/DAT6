{
 "metadata": {
  "name": "",
  "signature": "sha256:5d679151d538ccde915ad82eb0f99cd6cdd92b45c8b2dc25b5981652dcafba03"
 },
 "nbformat": 3,
 "nbformat_minor": 0,
 "worksheets": [
  {
   "cells": [
    {
     "cell_type": "code",
     "collapsed": false,
     "input": [
      "# standard library:\n",
      "import os  \n",
      "\n",
      "from pprint import pprint\n",
      "\n",
      "# other modules:\n",
      "import matplotlib.pyplot as plt\n",
      "import pandas as pd\n",
      "import twitter\n",
      "import yaml\n",
      "\n",
      "from pymongo import MongoClient"
     ],
     "language": "python",
     "metadata": {},
     "outputs": [],
     "prompt_number": 1
    },
    {
     "cell_type": "code",
     "collapsed": false,
     "input": [
      "credentials = yaml.load(open(os.path.expanduser('~/api_cred.yml')))\n",
      "\n",
      "auth = twitter.oauth.OAuth(credentials['ACCESS_TOKEN'], \n",
      "                           credentials['ACCESS_TOKEN_SECRET'],\n",
      "                           credentials['API_KEY'],\n",
      "                           credentials['API_SECRET'])\n",
      "\n",
      "twitter_api = twitter.Twitter(auth=auth)"
     ],
     "language": "python",
     "metadata": {},
     "outputs": [],
     "prompt_number": 2
    },
    {
     "cell_type": "code",
     "collapsed": false,
     "input": [
      "# getting the trends from Canada and US\n",
      "US_WOE_ID = 23424977\n",
      "CA_WOE_ID= 23424775\n",
      "# Prefix ID with the underscore for query string parameterization.\n",
      "# Without the underscore, the twitter package appends the ID value\n",
      "# to the URL itself as a special case keyword argument.\n",
      "\n",
      "ca_trends = twitter_api.trends.place(_id=CA_WOE_ID)\n",
      "us_trends = twitter_api.trends.place(_id=US_WOE_ID)\n",
      "\n",
      "pprint(us_trends)"
     ],
     "language": "python",
     "metadata": {},
     "outputs": [
      {
       "output_type": "stream",
       "stream": "stdout",
       "text": [
        "[{u'as_of': u'2014-04-28T17:43:32Z',\n",
        "  u'created_at': u'2014-04-28T17:36:55Z',\n",
        "  u'locations': [{u'name': u'United States', u'woeid': 23424977}],\n",
        "  u'trends': [{u'name': u'#OnTheRunTour',\n",
        "               u'promoted_content': None,\n",
        "               u'query': u'%23OnTheRunTour',\n",
        "               u'url': u'http://twitter.com/search?q=%23OnTheRunTour'},\n",
        "              {u'name': u'#WhyBeInARelationshipWhen',\n",
        "               u'promoted_content': None,\n",
        "               u'query': u'%23WhyBeInARelationshipWhen',\n",
        "               u'url': u'http://twitter.com/search?q=%23WhyBeInARelationshipWhen'},\n",
        "              {u'name': u'#FamousLinesAtSchool',\n",
        "               u'promoted_content': None,\n",
        "               u'query': u'%23FamousLinesAtSchool',\n",
        "               u'url': u'http://twitter.com/search?q=%23FamousLinesAtSchool'},\n",
        "              {u'name': u'#BuyProblemOniTunes',\n",
        "               u'promoted_content': None,\n",
        "               u'query': u'%23BuyProblemOniTunes',\n",
        "               u'url': u'http://twitter.com/search?q=%23BuyProblemOniTunes'},\n",
        "              {u'name': u'Vince Young',\n",
        "               u'promoted_content': None,\n",
        "               u'query': u'%22Vince+Young%22',\n",
        "               u'url': u'http://twitter.com/search?q=%22Vince+Young%22'},\n",
        "              {u'name': u'#happymonday',\n",
        "               u'promoted_content': None,\n",
        "               u'query': u'%23happymonday',\n",
        "               u'url': u'http://twitter.com/search?q=%23happymonday'},\n",
        "              {u'name': u'Virgin America',\n",
        "               u'promoted_content': None,\n",
        "               u'query': u'%22Virgin+America%22',\n",
        "               u'url': u'http://twitter.com/search?q=%22Virgin+America%22'},\n",
        "              {u'name': u'Mike Vick',\n",
        "               u'promoted_content': None,\n",
        "               u'query': u'%22Mike+Vick%22',\n",
        "               u'url': u'http://twitter.com/search?q=%22Mike+Vick%22'},\n",
        "              {u'name': u'Internet Explorer',\n",
        "               u'promoted_content': None,\n",
        "               u'query': u'%22Internet+Explorer%22',\n",
        "               u'url': u'http://twitter.com/search?q=%22Internet+Explorer%22'},\n",
        "              {u'name': u'State Farm',\n",
        "               u'promoted_content': None,\n",
        "               u'query': u'%22State+Farm%22',\n",
        "               u'url': u'http://twitter.com/search?q=%22State+Farm%22'}]}]\n"
       ]
      }
     ],
     "prompt_number": 3
    },
    {
     "cell_type": "code",
     "collapsed": false,
     "input": [
      "#creating the sets of trend names\n",
      "ca_trends_set = set([trend['name'] for trends in ca_trends\n",
      "                        for trend in trends['trends']])\n",
      "\n",
      "us_trends_set = set([trend['name'] for trends in us_trends\n",
      "                     for trend in trends['trends']]) \n",
      "\n",
      "\n",
      "print ca_trends_set\n",
      "print us_trends_set"
     ],
     "language": "python",
     "metadata": {},
     "outputs": [
      {
       "output_type": "stream",
       "stream": "stdout",
       "text": [
        "set([u'#Problem', u'Canada', u'Norris', u'#IAMHOT', u'#BuyProblemOniTunes', u'Victoria', u'#randomchat', u'Dani Alves', u'#WIBN', u'Winnipeg'])\n",
        "set([u'#FamousLinesAtSchool', u'Virgin America', u'#happymonday', u'#WhyBeInARelationshipWhen', u'Mike Vick', u'#BuyProblemOniTunes', u'State Farm', u'Internet Explorer', u'#OnTheRunTour', u'Vince Young'])\n"
       ]
      }
     ],
     "prompt_number": 4
    },
    {
     "cell_type": "code",
     "collapsed": false,
     "input": [
      "#calculating the only-CA and only-US trends by subtraction (apparently it works this way) :)\n",
      "ca_only_trends_set=ca_trends_set-us_trends_set\n",
      "us_only_trends_set=us_trends_set-ca_trends_set\n",
      "\n",
      "print ca_only_trends_set\n",
      "print us_only_trends_set"
     ],
     "language": "python",
     "metadata": {},
     "outputs": [
      {
       "output_type": "stream",
       "stream": "stdout",
       "text": [
        "set([u'#Problem', u'Canada', u'Norris', u'#IAMHOT', u'Victoria', u'#randomchat', u'Dani Alves', u'#WIBN', u'Winnipeg'])\n",
        "set([u'#FamousLinesAtSchool', u'Virgin America', u'#happymonday', u'#WhyBeInARelationshipWhen', u'Mike Vick', u'State Farm', u'Internet Explorer', u'#OnTheRunTour', u'Vince Young'])\n"
       ]
      }
     ],
     "prompt_number": 5
    },
    {
     "cell_type": "code",
     "collapsed": false,
     "input": [
      "count = 100\n",
      "search_ca_only_results=[]\n",
      "search_us_only_results=[]\n",
      "\n",
      "# for each country, loop through each trend and extract 100 tweets from each trend\n",
      "for q in ca_only_trends_set:\n",
      "    search_ca_only_results.append(twitter_api.search.tweets(q=q, count=count))\n",
      "\n",
      "for r in us_only_trends_set:\n",
      "    search_us_only_results.append(twitter_api.search.tweets(q=r, count=count))\n",
      "    \n"
     ],
     "language": "python",
     "metadata": {},
     "outputs": [],
     "prompt_number": 6
    },
    {
     "cell_type": "code",
     "collapsed": false,
     "input": [
      "# now, put the statuses of the tweets we extracted into seperate lists for each country.\n",
      "\n",
      "ca_only_statuses=[]\n",
      "for number_us in range(len(search_ca_only_results)):\n",
      "    ca_only_statuses += search_ca_only_results[number_us]['statuses']\n",
      "    \n",
      "us_only_statuses=[]\n",
      "for number_ca in range(len(search_ca_only_results)):\n",
      "    us_only_statuses += search_us_only_results[number_ca]['statuses']\n",
      "    \n",
      "print len(ca_only_statuses)\n",
      "print len(us_only_statuses)"
     ],
     "language": "python",
     "metadata": {},
     "outputs": [
      {
       "output_type": "stream",
       "stream": "stdout",
       "text": [
        "899\n",
        "894\n"
       ]
      }
     ],
     "prompt_number": 10
    },
    {
     "cell_type": "code",
     "collapsed": false,
     "input": [
      "#connect to the MongoDB (initiate mongod.exe first) and create a database called hw_twitter\n",
      "c = MongoClient()\n",
      "hw_db = c.twitter_hw"
     ],
     "language": "python",
     "metadata": {},
     "outputs": [],
     "prompt_number": 11
    },
    {
     "cell_type": "code",
     "collapsed": false,
     "input": [
      "# Insert the results we pulled from Twitter and store them as a document in a two differents collections (namely, tweets_ca \n",
      "# and tweets_us:\n",
      "statuses_ca_ids = hw_db.tweets_ca.insert(ca_only_statuses)\n",
      "statuses_us_ids = hw_db.tweets_us.insert(us_only_statuses)"
     ],
     "language": "python",
     "metadata": {},
     "outputs": [],
     "prompt_number": 12
    },
    {
     "cell_type": "code",
     "collapsed": false,
     "input": [
      "print statuses_ca_ids[:5]\n",
      "print statuses_us_ids[:5]"
     ],
     "language": "python",
     "metadata": {},
     "outputs": [
      {
       "output_type": "stream",
       "stream": "stdout",
       "text": [
        "[ObjectId('535e967dda770b1428852d63'), ObjectId('535e967dda770b1428852d64'), ObjectId('535e967dda770b1428852d65'), ObjectId('535e967dda770b1428852d66'), ObjectId('535e967dda770b1428852d67')]\n",
        "[ObjectId('535e967dda770b14288530e6'), ObjectId('535e967dda770b14288530e7'), ObjectId('535e967dda770b14288530e8'), ObjectId('535e967dda770b14288530e9'), ObjectId('535e967dda770b14288530ea')]\n"
       ]
      }
     ],
     "prompt_number": 14
    },
    {
     "cell_type": "code",
     "collapsed": false,
     "input": [
      "# check what our database looks like at the moment\n",
      "print c.database_names()\n",
      "print hw_db.collection_names()"
     ],
     "language": "python",
     "metadata": {},
     "outputs": [
      {
       "output_type": "stream",
       "stream": "stdout",
       "text": [
        "[u'local', u'twitter', u'twitter_hw', u'admin']\n",
        "[u'tweets', u'system.indexes', u'tweets_ca', u'tweets_us']\n"
       ]
      }
     ],
     "prompt_number": 15
    },
    {
     "cell_type": "code",
     "collapsed": false,
     "input": [
      "# find the relevant field, convert it to a list and view it as  a data_frame in Pandas\n",
      "followers_ca = list(hw_db.tweets_ca.find(fields=['user.followers_count']))\n",
      "pd.DataFrame(followers_ca).head()\n",
      "\n",
      "followers_us = list(hw_db.tweets_us.find(fields=['user.followers_count']))\n",
      "pd.DataFrame(followers_us).head()"
     ],
     "language": "python",
     "metadata": {},
     "outputs": [
      {
       "html": [
        "<div style=\"max-height:1000px;max-width:1500px;overflow:auto;\">\n",
        "<table border=\"1\" class=\"dataframe\">\n",
        "  <thead>\n",
        "    <tr style=\"text-align: right;\">\n",
        "      <th></th>\n",
        "      <th>_id</th>\n",
        "      <th>user</th>\n",
        "    </tr>\n",
        "  </thead>\n",
        "  <tbody>\n",
        "    <tr>\n",
        "      <th>0</th>\n",
        "      <td> 535e967dda770b14288530e7</td>\n",
        "      <td>  {u'followers_count': 44}</td>\n",
        "    </tr>\n",
        "    <tr>\n",
        "      <th>1</th>\n",
        "      <td> 535e967dda770b1428853139</td>\n",
        "      <td> {u'followers_count': 261}</td>\n",
        "    </tr>\n",
        "    <tr>\n",
        "      <th>2</th>\n",
        "      <td> 535e967dda770b14288530e6</td>\n",
        "      <td>  {u'followers_count': 94}</td>\n",
        "    </tr>\n",
        "    <tr>\n",
        "      <th>3</th>\n",
        "      <td> 535e967dda770b14288530e8</td>\n",
        "      <td>  {u'followers_count': 17}</td>\n",
        "    </tr>\n",
        "    <tr>\n",
        "      <th>4</th>\n",
        "      <td> 535e967dda770b14288530e9</td>\n",
        "      <td> {u'followers_count': 508}</td>\n",
        "    </tr>\n",
        "  </tbody>\n",
        "</table>\n",
        "<p>5 rows \u00d7 2 columns</p>\n",
        "</div>"
       ],
       "metadata": {},
       "output_type": "pyout",
       "prompt_number": 16,
       "text": [
        "                        _id                       user\n",
        "0  535e967dda770b14288530e7   {u'followers_count': 44}\n",
        "1  535e967dda770b1428853139  {u'followers_count': 261}\n",
        "2  535e967dda770b14288530e6   {u'followers_count': 94}\n",
        "3  535e967dda770b14288530e8   {u'followers_count': 17}\n",
        "4  535e967dda770b14288530e9  {u'followers_count': 508}\n",
        "\n",
        "[5 rows x 2 columns]"
       ]
      }
     ],
     "prompt_number": 16
    },
    {
     "cell_type": "code",
     "collapsed": false,
     "input": [
      "# parse the sub-documents (into a df)\n",
      "followers_ca_df = pd.DataFrame({'followers_count': tweet['user'].get('followers_count')} for tweet in followers_ca)\n",
      "followers_us_df = pd.DataFrame({'followers_count': tweet['user'].get('followers_count')} for tweet in followers_us)\n",
      "\n",
      "\n",
      "print followers_ca_df.head()\n"
     ],
     "language": "python",
     "metadata": {},
     "outputs": [
      {
       "output_type": "stream",
       "stream": "stdout",
       "text": [
        "   followers_count\n",
        "0               31\n",
        "1             5145\n",
        "2               25\n",
        "3               25\n",
        "4              364\n",
        "\n",
        "[5 rows x 1 columns]\n"
       ]
      }
     ],
     "prompt_number": 24
    },
    {
     "cell_type": "code",
     "collapsed": false,
     "input": [
      "#print the results\n",
      "if (followers_ca_df.mean() > followers_us_df.mean()).bool() is True:\n",
      "    print 'Canada has more followers_count than US according to a sample of 100 tweets each of Canadian trends and US trends (exclusive)'\n",
      "elif (followers_ca_df.mean() < followers_us_df.mean()).bool() is True:\n",
      "    print 'US has more followers_count than Canada according to a sample of 100 tweets each of Canadian trends and US trends (exclusive)'\n",
      "elif (followers_ca_df.mean() == followers_us_df.mean()).bool() is True:\n",
      "    print 'US has the same followers_count as Canada according to a sample of 100 tweets each of Canadian trends and US trends (exclusive)'\n",
      "\n"
     ],
     "language": "python",
     "metadata": {},
     "outputs": [
      {
       "output_type": "stream",
       "stream": "stdout",
       "text": [
        "Canada has more followers_count than US according to a sample of 100 tweets each of Canadian trends and US trends (exclusive)\n"
       ]
      }
     ],
     "prompt_number": 42
    }
   ],
   "metadata": {}
  }
 ]
}