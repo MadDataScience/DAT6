{
 "metadata": {
  "name": "",
  "signature": "sha256:180e3a8c5a661e0a60b30da049436d2b5356c0cc3eea3c61a6b41873820ce4f6"
 },
 "nbformat": 3,
 "nbformat_minor": 0,
 "worksheets": [
  {
   "cells": [
    {
     "cell_type": "heading",
     "level": 1,
     "metadata": {},
     "source": [
      "Time Serise Analysis\n",
      "LAB (13)"
     ]
    },
    {
     "cell_type": "heading",
     "level": 4,
     "metadata": {},
     "source": [
      "Nir Kaldero, Univeristy of California, Berkeley"
     ]
    },
    {
     "cell_type": "heading",
     "level": 4,
     "metadata": {},
     "source": [
      "Let's Explore the Data: "
     ]
    },
    {
     "cell_type": "raw",
     "metadata": {},
     "source": [
      "Variables:\n",
      "1. year - 1995-2011\n",
      "2. quarter - 1-4\n",
      "3. unemp - unemployment rate\n",
      "4. unemp_seas - unemployment rate, controled for seasonality\n",
      "5. output_gdp - gdp per capita\n",
      "6. output_gdp_seas - gdp, controled for seasonality\n",
      "7. interest_rate_quarter - interest rate, quarters \n",
      "8. exchange_rate_quarter -  exchange rate, quarters\n",
      "9. inf_quarter - inflation, quarters"
     ]
    },
    {
     "cell_type": "code",
     "collapsed": false,
     "input": [
      "%matplotlib inline\n",
      "import pandas as pd\n",
      "import statsmodels.api as sm\n",
      "import statsmodels.formula.api as smf\n",
      "import numpy as np"
     ],
     "language": "python",
     "metadata": {},
     "outputs": [],
     "prompt_number": 4
    },
    {
     "cell_type": "heading",
     "level": 3,
     "metadata": {},
     "source": [
      "Forecasting the Interest Rate"
     ]
    },
    {
     "cell_type": "code",
     "collapsed": false,
     "input": [
      "econ_data=pd.read_excel('./data/data_lab_13.xlsx', 'Sheet1', index_col=None, na_values=['NA'])"
     ],
     "language": "python",
     "metadata": {},
     "outputs": [],
     "prompt_number": 6
    },
    {
     "cell_type": "code",
     "collapsed": false,
     "input": [
      "econ_data.head()"
     ],
     "language": "python",
     "metadata": {},
     "outputs": [
      {
       "html": [
        "<div style=\"max-height:1000px;max-width:1500px;overflow:auto;\">\n",
        "<table border=\"1\" class=\"dataframe\">\n",
        "  <thead>\n",
        "    <tr style=\"text-align: right;\">\n",
        "      <th></th>\n",
        "      <th>cpi</th>\n",
        "      <th>combined_index</th>\n",
        "      <th>us_cpi</th>\n",
        "      <th>unemp</th>\n",
        "      <th>unemp_seas</th>\n",
        "      <th>gdp_seas</th>\n",
        "      <th>gdp</th>\n",
        "      <th>cons_seas</th>\n",
        "      <th>cons</th>\n",
        "      <th>us_gdp_seas</th>\n",
        "      <th>year</th>\n",
        "      <th>quarter</th>\n",
        "      <th>interest_rate_quarter</th>\n",
        "      <th>exchange_rate_quarter</th>\n",
        "      <th>date_q</th>\n",
        "      <th>inf_quarter</th>\n",
        "      <th>us_inf_quarter</th>\n",
        "    </tr>\n",
        "  </thead>\n",
        "  <tbody>\n",
        "    <tr>\n",
        "      <th>0</th>\n",
        "      <td> 57.706009</td>\n",
        "      <td> 69.767090</td>\n",
        "      <td> 77.52507</td>\n",
        "      <td> 6.9</td>\n",
        "      <td> 7.267280</td>\n",
        "      <td> 102979.2</td>\n",
        "      <td> 102329.1</td>\n",
        "      <td> 56342.0</td>\n",
        "      <td> 55654.4</td>\n",
        "      <td> 9017.6</td>\n",
        "      <td> 1995</td>\n",
        "      <td> 1</td>\n",
        "      <td> 16.66667</td>\n",
        "      <td> 2.999136</td>\n",
        "      <td> 1995q1</td>\n",
        "      <td> 0.250627</td>\n",
        "      <td>      NaN</td>\n",
        "    </tr>\n",
        "    <tr>\n",
        "      <th>1</th>\n",
        "      <td> 59.004395</td>\n",
        "      <td> 71.310799</td>\n",
        "      <td> 78.08833</td>\n",
        "      <td> 6.2</td>\n",
        "      <td> 6.635685</td>\n",
        "      <td> 105352.3</td>\n",
        "      <td> 104443.6</td>\n",
        "      <td> 56574.0</td>\n",
        "      <td> 55924.9</td>\n",
        "      <td> 9037.0</td>\n",
        "      <td> 1995</td>\n",
        "      <td> 2</td>\n",
        "      <td> 14.10000</td>\n",
        "      <td> 2.981393</td>\n",
        "      <td> 1995q2</td>\n",
        "      <td> 2.250000</td>\n",
        "      <td> 0.726552</td>\n",
        "    </tr>\n",
        "    <tr>\n",
        "      <th>2</th>\n",
        "      <td> 60.447045</td>\n",
        "      <td> 72.315926</td>\n",
        "      <td> 78.44677</td>\n",
        "      <td> 7.1</td>\n",
        "      <td> 6.628457</td>\n",
        "      <td> 106623.7</td>\n",
        "      <td> 107785.9</td>\n",
        "      <td> 57197.0</td>\n",
        "      <td> 59762.2</td>\n",
        "      <td> 9112.9</td>\n",
        "      <td> 1995</td>\n",
        "      <td> 3</td>\n",
        "      <td> 13.30000</td>\n",
        "      <td> 3.007216</td>\n",
        "      <td> 1995q3</td>\n",
        "      <td> 2.444988</td>\n",
        "      <td> 0.459019</td>\n",
        "    </tr>\n",
        "    <tr>\n",
        "      <th>3</th>\n",
        "      <td> 62.226313</td>\n",
        "      <td> 73.207695</td>\n",
        "      <td> 78.60039</td>\n",
        "      <td> 6.8</td>\n",
        "      <td> 6.727731</td>\n",
        "      <td> 107823.3</td>\n",
        "      <td> 107668.5</td>\n",
        "      <td> 59379.5</td>\n",
        "      <td> 57617.1</td>\n",
        "      <td> 9176.4</td>\n",
        "      <td> 1995</td>\n",
        "      <td> 4</td>\n",
        "      <td> 14.03333</td>\n",
        "      <td> 3.057338</td>\n",
        "      <td> 1995q4</td>\n",
        "      <td> 2.943516</td>\n",
        "      <td> 0.195827</td>\n",
        "    </tr>\n",
        "    <tr>\n",
        "      <th>4</th>\n",
        "      <td> 63.957494</td>\n",
        "      <td> 73.370094</td>\n",
        "      <td> 79.72691</td>\n",
        "      <td> 6.2</td>\n",
        "      <td> 6.485500</td>\n",
        "      <td> 109528.3</td>\n",
        "      <td> 109120.5</td>\n",
        "      <td> 60289.3</td>\n",
        "      <td> 59599.7</td>\n",
        "      <td> 9239.3</td>\n",
        "      <td> 1996</td>\n",
        "      <td> 1</td>\n",
        "      <td> 13.90000</td>\n",
        "      <td> 3.113931</td>\n",
        "      <td> 1996q1</td>\n",
        "      <td> 2.782071</td>\n",
        "      <td> 1.433224</td>\n",
        "    </tr>\n",
        "  </tbody>\n",
        "</table>\n",
        "<p>5 rows \u00d7 17 columns</p>\n",
        "</div>"
       ],
       "metadata": {},
       "output_type": "pyout",
       "prompt_number": 7,
       "text": [
        "         cpi  combined_index    us_cpi  unemp  unemp_seas  gdp_seas       gdp  \\\n",
        "0  57.706009       69.767090  77.52507    6.9    7.267280  102979.2  102329.1   \n",
        "1  59.004395       71.310799  78.08833    6.2    6.635685  105352.3  104443.6   \n",
        "2  60.447045       72.315926  78.44677    7.1    6.628457  106623.7  107785.9   \n",
        "3  62.226313       73.207695  78.60039    6.8    6.727731  107823.3  107668.5   \n",
        "4  63.957494       73.370094  79.72691    6.2    6.485500  109528.3  109120.5   \n",
        "\n",
        "   cons_seas     cons  us_gdp_seas  year  quarter  interest_rate_quarter  \\\n",
        "0    56342.0  55654.4       9017.6  1995        1               16.66667   \n",
        "1    56574.0  55924.9       9037.0  1995        2               14.10000   \n",
        "2    57197.0  59762.2       9112.9  1995        3               13.30000   \n",
        "3    59379.5  57617.1       9176.4  1995        4               14.03333   \n",
        "4    60289.3  59599.7       9239.3  1996        1               13.90000   \n",
        "\n",
        "   exchange_rate_quarter  date_q  inf_quarter  us_inf_quarter  \n",
        "0               2.999136  1995q1     0.250627             NaN  \n",
        "1               2.981393  1995q2     2.250000        0.726552  \n",
        "2               3.007216  1995q3     2.444988        0.459019  \n",
        "3               3.057338  1995q4     2.943516        0.195827  \n",
        "4               3.113931  1996q1     2.782071        1.433224  \n",
        "\n",
        "[5 rows x 17 columns]"
       ]
      }
     ],
     "prompt_number": 7
    },
    {
     "cell_type": "heading",
     "level": 4,
     "metadata": {},
     "source": [
      "Simple Static Model (OLS):"
     ]
    },
    {
     "cell_type": "heading",
     "level": 4,
     "metadata": {},
     "source": [
      "Run the next model: interest_rate_quarter on (inf_quarter - inflation_quarter_target), output_gap"
     ]
    },
    {
     "cell_type": "code",
     "collapsed": false,
     "input": [],
     "language": "python",
     "metadata": {},
     "outputs": [],
     "prompt_number": 0
    },
    {
     "cell_type": "heading",
     "level": 4,
     "metadata": {},
     "source": [
      "Plot the results you got (the predicted values around the real data):"
     ]
    },
    {
     "cell_type": "code",
     "collapsed": false,
     "input": [],
     "language": "python",
     "metadata": {},
     "outputs": [],
     "prompt_number": 0
    },
    {
     "cell_type": "code",
     "collapsed": false,
     "input": [],
     "language": "python",
     "metadata": {},
     "outputs": [],
     "prompt_number": 0
    },
    {
     "cell_type": "heading",
     "level": 3,
     "metadata": {},
     "source": [
      "Time is important - "
     ]
    },
    {
     "cell_type": "heading",
     "level": 4,
     "metadata": {},
     "source": [
      "Run the same OLS model with a Dynamic settings - for that you need to creat Lag Variables/\"Effect\" for the interet rate:"
     ]
    },
    {
     "cell_type": "heading",
     "level": 5,
     "metadata": {},
     "source": [
      "In order to create lags you need to creat new variables (let's create 2 lag effect for interesr rate, at this point):"
     ]
    },
    {
     "cell_type": "raw",
     "metadata": {},
     "source": [
      "ir_lag1=pd.DataFrame({\"interest_rate_quarter_lag_1\":\n",
      "                      econ_data[\"interest_rate_quarter\"]}).set_index(np.arange(1,len(econ_data)+1))\n",
      "ir_lag2=pd.DataFrame({\"interest_rate_quarter_lag_2\":\n",
      "                      econ_data[\"interest_rate_quarter\"]}).set_index(np.arange(2,len(econ_data)+2))\n",
      "\n"
     ]
    },
    {
     "cell_type": "heading",
     "level": 4,
     "metadata": {},
     "source": [
      "Run the model now (with dynamic) with the two lagged effect:"
     ]
    },
    {
     "cell_type": "code",
     "collapsed": false,
     "input": [],
     "language": "python",
     "metadata": {},
     "outputs": [],
     "prompt_number": 2
    },
    {
     "cell_type": "heading",
     "level": 4,
     "metadata": {},
     "source": [
      "Are the lagged variable statistically signficant (each one of them?), All together (F-test)? Is dynamic important here?"
     ]
    },
    {
     "cell_type": "heading",
     "level": 4,
     "metadata": {},
     "source": [
      "Create Lags for all other variables in this analysis (y and x), limit yourself to 2-3 lags:"
     ]
    },
    {
     "cell_type": "code",
     "collapsed": false,
     "input": [],
     "language": "python",
     "metadata": {},
     "outputs": [],
     "prompt_number": 0
    },
    {
     "cell_type": "code",
     "collapsed": false,
     "input": [],
     "language": "python",
     "metadata": {},
     "outputs": [],
     "prompt_number": 0
    },
    {
     "cell_type": "heading",
     "level": 4,
     "metadata": {},
     "source": [
      "Thoughts:"
     ]
    },
    {
     "cell_type": "heading",
     "level": 4,
     "metadata": {},
     "source": [
      "1. There is a difference between the Static model and the Dynamic model? significance level?, estimators? R_sqr? F-test?"
     ]
    },
    {
     "cell_type": "heading",
     "level": 4,
     "metadata": {},
     "source": [
      "2. Which model seems to be more reasonable to use? Why? What about the assumptions in each models? (Believe/not)"
     ]
    },
    {
     "cell_type": "heading",
     "level": 4,
     "metadata": {},
     "source": [
      "3. Now try to predict y_hat for both of the models, calculate the differance in absolut values between the two predictions of the models"
     ]
    },
    {
     "cell_type": "heading",
     "level": 4,
     "metadata": {},
     "source": [
      "4. What do you see? (which model give better results condition on our previous thoughts?)"
     ]
    },
    {
     "cell_type": "heading",
     "level": 4,
     "metadata": {},
     "source": [
      "5. Can you think about other factors that might be imporant but we do not observe in our data set?"
     ]
    },
    {
     "cell_type": "heading",
     "level": 3,
     "metadata": {},
     "source": [
      "Improving the Model - "
     ]
    },
    {
     "cell_type": "heading",
     "level": 4,
     "metadata": {},
     "source": [
      "1. Run the same model with the lags(2-3) for all variables (including y), and control for the year/quarter:"
     ]
    },
    {
     "cell_type": "heading",
     "level": 4,
     "metadata": {},
     "source": [
      "3. Plot (i) the prediction from the first static model (ii) the predictions from the latest dynamic model you ran and (iii) the real data"
     ]
    },
    {
     "cell_type": "heading",
     "level": 4,
     "metadata": {},
     "source": [
      "4. Which model is the better?"
     ]
    },
    {
     "cell_type": "heading",
     "level": 4,
     "metadata": {},
     "source": [
      "Do you see any seasonal trends in the data over the time horizon?"
     ]
    },
    {
     "cell_type": "heading",
     "level": 2,
     "metadata": {},
     "source": [
      "Seasonality - "
     ]
    },
    {
     "cell_type": "heading",
     "level": 4,
     "metadata": {},
     "source": [
      "I already created for you output_gad gdp cleaned of seasonality (I basically used the second strategy) - the variable output_gdp_seas"
     ]
    },
    {
     "cell_type": "heading",
     "level": 4,
     "metadata": {},
     "source": [
      "Run the model with this variable instead of the original one, also - try to control for more variables that you have (use summary statistics in order to explore what you have), be creative!"
     ]
    },
    {
     "cell_type": "code",
     "collapsed": false,
     "input": [],
     "language": "python",
     "metadata": {},
     "outputs": [],
     "prompt_number": 0
    },
    {
     "cell_type": "heading",
     "level": 4,
     "metadata": {},
     "source": [
      "Plot the results between this upgraded model and the static model: Which one is better?"
     ]
    },
    {
     "cell_type": "code",
     "collapsed": false,
     "input": [],
     "language": "python",
     "metadata": {},
     "outputs": [],
     "prompt_number": 0
    },
    {
     "cell_type": "code",
     "collapsed": false,
     "input": [],
     "language": "python",
     "metadata": {},
     "outputs": [],
     "prompt_number": 0
    },
    {
     "cell_type": "heading",
     "level": 4,
     "metadata": {},
     "source": [
      "Better results? significance ? Is Seasonality important here (what about the p-value of this variable vs. the regular output_gdp)?"
     ]
    },
    {
     "cell_type": "heading",
     "level": 2,
     "metadata": {},
     "source": [
      "Instrumental Variable - HomeWork"
     ]
    },
    {
     "cell_type": "heading",
     "level": 4,
     "metadata": {},
     "source": [
      "It is known that output_gds today is highly correlated with some un-observed features factors that we do not control for (we just do not have the data). Since output_gdp today is correalted with the error term - bias estimators."
     ]
    },
    {
     "cell_type": "heading",
     "level": 4,
     "metadata": {},
     "source": [
      "Let's try to used the lag effect of the output_gdp (_1 _2) as an IV variables for predicting the interet rate"
     ]
    },
    {
     "cell_type": "heading",
     "level": 4,
     "metadata": {},
     "source": [
      "IV Validations - "
     ]
    },
    {
     "cell_type": "heading",
     "level": 4,
     "metadata": {},
     "source": [
      "1. Write down the two conditions for a good IV variables. Calculate them (trick!)"
     ]
    },
    {
     "cell_type": "heading",
     "level": 4,
     "metadata": {},
     "source": [
      "2. Run a 2SLS model with the IV variable (read the documentation for the model )"
     ]
    },
    {
     "cell_type": "heading",
     "level": 4,
     "metadata": {},
     "source": [
      "http://pysal.readthedocs.org/en/latest/library/spreg/diagnostics_tsls.html"
     ]
    },
    {
     "cell_type": "heading",
     "level": 4,
     "metadata": {},
     "source": [
      "3. Is the IV variable is signficant? What do you think about the result in this model? "
     ]
    },
    {
     "cell_type": "heading",
     "level": 4,
     "metadata": {},
     "source": [
      "4. Predict y_hat for this (2SLS) model"
     ]
    },
    {
     "cell_type": "heading",
     "level": 4,
     "metadata": {},
     "source": [
      "5. Plot the three models: (1) 2SLS, (2) Static Model, (3) Dynamic model (choose one), (4) Real Data"
     ]
    },
    {
     "cell_type": "heading",
     "level": 4,
     "metadata": {},
     "source": [
      "6. Which model is closer to the real data?"
     ]
    },
    {
     "cell_type": "heading",
     "level": 4,
     "metadata": {},
     "source": [
      "Well-Done!"
     ]
    },
    {
     "cell_type": "code",
     "collapsed": false,
     "input": [],
     "language": "python",
     "metadata": {},
     "outputs": [],
     "prompt_number": 0
    },
    {
     "cell_type": "code",
     "collapsed": false,
     "input": [],
     "language": "python",
     "metadata": {},
     "outputs": []
    }
   ],
   "metadata": {}
  }
 ]
}