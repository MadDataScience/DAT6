{
 "metadata": {
  "name": "",
  "signature": "sha256:b7c5782a586ff53d5708642f428db2005aff1394ccdce29f635e44fb2f7f8e2c"
 },
 "nbformat": 3,
 "nbformat_minor": 0,
 "worksheets": [
  {
   "cells": [
    {
     "cell_type": "markdown",
     "metadata": {},
     "source": [
      "### File 4:  Initial model, second pass\n",
      "#### In this file"
     ]
    },
    {
     "cell_type": "code",
     "collapsed": false,
     "input": [
      "%matplotlib inline\n",
      "import numpy as np\n",
      "import pandas as pd\n",
      "import sqlite3\n",
      "import matplotlib.pyplot as plt\n",
      "# import scipy.stats as stats\n",
      "import statsmodels.api as sm\n",
      "# import statsmodels.formula.api as smf\n",
      "\n",
      "from pandas.io import sql\n",
      "conn = sqlite3.connect('shopping.db')"
     ],
     "language": "python",
     "metadata": {},
     "outputs": [],
     "prompt_number": 1
    },
    {
     "cell_type": "code",
     "collapsed": false,
     "input": [
      "%load_ext sql"
     ],
     "language": "python",
     "metadata": {},
     "outputs": [],
     "prompt_number": 2
    },
    {
     "cell_type": "code",
     "collapsed": false,
     "input": [
      "%%bash\n",
      "sqlite3 shopping.db .tables"
     ],
     "language": "python",
     "metadata": {},
     "outputs": [
      {
       "output_type": "stream",
       "stream": "stdout",
       "text": [
        "history         shopvars        transactions2   transactions5   transactions8 \n",
        "history_offers  transactions0   transactions3   transactions6   transactions9 \n",
        "offers          transactions1   transactions4   transactions7 \n"
       ]
      }
     ],
     "prompt_number": 3
    },
    {
     "cell_type": "code",
     "collapsed": false,
     "input": [
      "%%sql sqlite:///shopping.db\n",
      "SELECT * FROM shopvars WHERE table_num <> 'None' LIMIT 15"
     ],
     "language": "python",
     "metadata": {},
     "outputs": [
      {
       "output_type": "stream",
       "stream": "stdout",
       "text": [
        "Done.\n"
       ]
      },
      {
       "html": [
        "<table>\n",
        "    <tr>\n",
        "        <th>id</th>\n",
        "        <th>table_num</th>\n",
        "        <th>repeater</th>\n",
        "        <th>repeattrips</th>\n",
        "        <th>offerdate</th>\n",
        "        <th>offer</th>\n",
        "        <th>chain</th>\n",
        "        <th>market</th>\n",
        "        <th>category</th>\n",
        "        <th>quantity</th>\n",
        "        <th>company</th>\n",
        "        <th>offervalue</th>\n",
        "        <th>brand</th>\n",
        "        <th>num_purchases</th>\n",
        "        <th>num_trips</th>\n",
        "        <th>min_date</th>\n",
        "        <th>max_date</th>\n",
        "        <th>offer_delay</th>\n",
        "        <th>shopper_age</th>\n",
        "        <th>shopper_lifetime</th>\n",
        "        <th>total_purs_spend</th>\n",
        "        <th>num_match_cat</th>\n",
        "        <th>num_match_brand</th>\n",
        "    </tr>\n",
        "    <tr>\n",
        "        <td>13089312</td>\n",
        "        <td>0</td>\n",
        "        <td>0</td>\n",
        "        <td>0</td>\n",
        "        <td>2013-04-01</td>\n",
        "        <td>1204821</td>\n",
        "        <td>15</td>\n",
        "        <td>9</td>\n",
        "        <td>5619</td>\n",
        "        <td>1</td>\n",
        "        <td>107717272</td>\n",
        "        <td>1.5</td>\n",
        "        <td>102504</td>\n",
        "        <td>1218</td>\n",
        "        <td>132</td>\n",
        "        <td>2012-03-05</td>\n",
        "        <td>2013-03-31</td>\n",
        "        <td>1</td>\n",
        "        <td>392</td>\n",
        "        <td>391</td>\n",
        "        <td>3890.68</td>\n",
        "        <td>0</td>\n",
        "        <td>3</td>\n",
        "    </tr>\n",
        "    <tr>\n",
        "        <td>13179265</td>\n",
        "        <td>1</td>\n",
        "        <td>0</td>\n",
        "        <td>0</td>\n",
        "        <td>2013-03-29</td>\n",
        "        <td>1197502</td>\n",
        "        <td>14</td>\n",
        "        <td>8</td>\n",
        "        <td>3203</td>\n",
        "        <td>1</td>\n",
        "        <td>106414464</td>\n",
        "        <td>0.75</td>\n",
        "        <td>13474</td>\n",
        "        <td>903</td>\n",
        "        <td>92</td>\n",
        "        <td>2012-03-02</td>\n",
        "        <td>2013-03-24</td>\n",
        "        <td>5</td>\n",
        "        <td>392</td>\n",
        "        <td>387</td>\n",
        "        <td>2476.13</td>\n",
        "        <td>0</td>\n",
        "        <td>0</td>\n",
        "    </tr>\n",
        "    <tr>\n",
        "        <td>13251776</td>\n",
        "        <td>0</td>\n",
        "        <td>0</td>\n",
        "        <td>0</td>\n",
        "        <td>2013-03-30</td>\n",
        "        <td>1200581</td>\n",
        "        <td>15</td>\n",
        "        <td>9</td>\n",
        "        <td>1726</td>\n",
        "        <td>1</td>\n",
        "        <td>104460040</td>\n",
        "        <td>1.25</td>\n",
        "        <td>7668</td>\n",
        "        <td>2391</td>\n",
        "        <td>134</td>\n",
        "        <td>2012-03-02</td>\n",
        "        <td>2013-03-24</td>\n",
        "        <td>6</td>\n",
        "        <td>393</td>\n",
        "        <td>387</td>\n",
        "        <td>12512.59</td>\n",
        "        <td>10</td>\n",
        "        <td>0</td>\n",
        "    </tr>\n",
        "    <tr>\n",
        "        <td>13540129</td>\n",
        "        <td>1</td>\n",
        "        <td>0</td>\n",
        "        <td>0</td>\n",
        "        <td>2013-03-30</td>\n",
        "        <td>1200581</td>\n",
        "        <td>14</td>\n",
        "        <td>8</td>\n",
        "        <td>1726</td>\n",
        "        <td>1</td>\n",
        "        <td>104460040</td>\n",
        "        <td>1.25</td>\n",
        "        <td>7668</td>\n",
        "        <td>1139</td>\n",
        "        <td>254</td>\n",
        "        <td>2012-03-02</td>\n",
        "        <td>2013-03-29</td>\n",
        "        <td>1</td>\n",
        "        <td>393</td>\n",
        "        <td>392</td>\n",
        "        <td>3262.19</td>\n",
        "        <td>3</td>\n",
        "        <td>0</td>\n",
        "    </tr>\n",
        "    <tr>\n",
        "        <td>15738658</td>\n",
        "        <td>2</td>\n",
        "        <td>0</td>\n",
        "        <td>0</td>\n",
        "        <td>2013-04-22</td>\n",
        "        <td>1197502</td>\n",
        "        <td>17</td>\n",
        "        <td>4</td>\n",
        "        <td>3203</td>\n",
        "        <td>1</td>\n",
        "        <td>106414464</td>\n",
        "        <td>0.75</td>\n",
        "        <td>13474</td>\n",
        "        <td>39</td>\n",
        "        <td>6</td>\n",
        "        <td>2013-03-09</td>\n",
        "        <td>2013-03-31</td>\n",
        "        <td>22</td>\n",
        "        <td>44</td>\n",
        "        <td>22</td>\n",
        "        <td>186.42</td>\n",
        "        <td>0</td>\n",
        "        <td>0</td>\n",
        "    </tr>\n",
        "    <tr>\n",
        "        <td>15994113</td>\n",
        "        <td>1</td>\n",
        "        <td>0</td>\n",
        "        <td>0</td>\n",
        "        <td>2013-03-26</td>\n",
        "        <td>1197502</td>\n",
        "        <td>4</td>\n",
        "        <td>1</td>\n",
        "        <td>3203</td>\n",
        "        <td>1</td>\n",
        "        <td>106414464</td>\n",
        "        <td>0.75</td>\n",
        "        <td>13474</td>\n",
        "        <td>558</td>\n",
        "        <td>84</td>\n",
        "        <td>2012-03-02</td>\n",
        "        <td>2013-03-24</td>\n",
        "        <td>2</td>\n",
        "        <td>389</td>\n",
        "        <td>387</td>\n",
        "        <td>2410.94</td>\n",
        "        <td>0</td>\n",
        "        <td>0</td>\n",
        "    </tr>\n",
        "    <tr>\n",
        "        <td>17486592</td>\n",
        "        <td>0</td>\n",
        "        <td>1</td>\n",
        "        <td>1</td>\n",
        "        <td>2013-04-17</td>\n",
        "        <td>1197502</td>\n",
        "        <td>15</td>\n",
        "        <td>9</td>\n",
        "        <td>3203</td>\n",
        "        <td>1</td>\n",
        "        <td>106414464</td>\n",
        "        <td>0.75</td>\n",
        "        <td>13474</td>\n",
        "        <td>1526</td>\n",
        "        <td>141</td>\n",
        "        <td>2012-03-03</td>\n",
        "        <td>2013-04-15</td>\n",
        "        <td>2</td>\n",
        "        <td>410</td>\n",
        "        <td>408</td>\n",
        "        <td>8078.55</td>\n",
        "        <td>1</td>\n",
        "        <td>0</td>\n",
        "    </tr>\n",
        "    <tr>\n",
        "        <td>18277411</td>\n",
        "        <td>3</td>\n",
        "        <td>0</td>\n",
        "        <td>0</td>\n",
        "        <td>2013-04-04</td>\n",
        "        <td>1204576</td>\n",
        "        <td>4</td>\n",
        "        <td>1</td>\n",
        "        <td>5616</td>\n",
        "        <td>1</td>\n",
        "        <td>104610040</td>\n",
        "        <td>1</td>\n",
        "        <td>15889</td>\n",
        "        <td>1054</td>\n",
        "        <td>197</td>\n",
        "        <td>2012-03-02</td>\n",
        "        <td>2013-04-03</td>\n",
        "        <td>1</td>\n",
        "        <td>398</td>\n",
        "        <td>397</td>\n",
        "        <td>5204.3</td>\n",
        "        <td>14</td>\n",
        "        <td>15</td>\n",
        "    </tr>\n",
        "    <tr>\n",
        "        <td>19069700</td>\n",
        "        <td>4</td>\n",
        "        <td>0</td>\n",
        "        <td>0</td>\n",
        "        <td>2013-03-25</td>\n",
        "        <td>1197502</td>\n",
        "        <td>4</td>\n",
        "        <td>1</td>\n",
        "        <td>3203</td>\n",
        "        <td>1</td>\n",
        "        <td>106414464</td>\n",
        "        <td>0.75</td>\n",
        "        <td>13474</td>\n",
        "        <td>306</td>\n",
        "        <td>28</td>\n",
        "        <td>2012-03-06</td>\n",
        "        <td>2013-03-19</td>\n",
        "        <td>6</td>\n",
        "        <td>384</td>\n",
        "        <td>378</td>\n",
        "        <td>1629.01</td>\n",
        "        <td>0</td>\n",
        "        <td>0</td>\n",
        "    </tr>\n",
        "    <tr>\n",
        "        <td>21419778</td>\n",
        "        <td>2</td>\n",
        "        <td>0</td>\n",
        "        <td>0</td>\n",
        "        <td>2013-03-25</td>\n",
        "        <td>1197502</td>\n",
        "        <td>14</td>\n",
        "        <td>8</td>\n",
        "        <td>3203</td>\n",
        "        <td>1</td>\n",
        "        <td>106414464</td>\n",
        "        <td>0.75</td>\n",
        "        <td>13474</td>\n",
        "        <td>384</td>\n",
        "        <td>101</td>\n",
        "        <td>2012-03-07</td>\n",
        "        <td>2013-03-24</td>\n",
        "        <td>1</td>\n",
        "        <td>383</td>\n",
        "        <td>382</td>\n",
        "        <td>2789.15</td>\n",
        "        <td>0</td>\n",
        "        <td>0</td>\n",
        "    </tr>\n",
        "    <tr>\n",
        "        <td>21603296</td>\n",
        "        <td>0</td>\n",
        "        <td>0</td>\n",
        "        <td>0</td>\n",
        "        <td>2013-04-26</td>\n",
        "        <td>1208251</td>\n",
        "        <td>4</td>\n",
        "        <td>1</td>\n",
        "        <td>2202</td>\n",
        "        <td>1</td>\n",
        "        <td>104460040</td>\n",
        "        <td>2</td>\n",
        "        <td>3718</td>\n",
        "        <td>703</td>\n",
        "        <td>94</td>\n",
        "        <td>2012-03-05</td>\n",
        "        <td>2013-04-19</td>\n",
        "        <td>7</td>\n",
        "        <td>417</td>\n",
        "        <td>410</td>\n",
        "        <td>3923.55</td>\n",
        "        <td>0</td>\n",
        "        <td>2</td>\n",
        "    </tr>\n",
        "    <tr>\n",
        "        <td>22725281</td>\n",
        "        <td>1</td>\n",
        "        <td>0</td>\n",
        "        <td>0</td>\n",
        "        <td>2013-03-28</td>\n",
        "        <td>1197502</td>\n",
        "        <td>18</td>\n",
        "        <td>11</td>\n",
        "        <td>3203</td>\n",
        "        <td>1</td>\n",
        "        <td>106414464</td>\n",
        "        <td>0.75</td>\n",
        "        <td>13474</td>\n",
        "        <td>1114</td>\n",
        "        <td>115</td>\n",
        "        <td>2012-03-02</td>\n",
        "        <td>2013-03-22</td>\n",
        "        <td>6</td>\n",
        "        <td>391</td>\n",
        "        <td>385</td>\n",
        "        <td>4372.91</td>\n",
        "        <td>0</td>\n",
        "        <td>0</td>\n",
        "    </tr>\n",
        "    <tr>\n",
        "        <td>48445984</td>\n",
        "        <td>0</td>\n",
        "        <td>0</td>\n",
        "        <td>0</td>\n",
        "        <td>2013-03-25</td>\n",
        "        <td>1197502</td>\n",
        "        <td>15</td>\n",
        "        <td>9</td>\n",
        "        <td>3203</td>\n",
        "        <td>1</td>\n",
        "        <td>106414464</td>\n",
        "        <td>0.75</td>\n",
        "        <td>13474</td>\n",
        "        <td>1730</td>\n",
        "        <td>225</td>\n",
        "        <td>2012-03-02</td>\n",
        "        <td>2013-03-24</td>\n",
        "        <td>1</td>\n",
        "        <td>388</td>\n",
        "        <td>387</td>\n",
        "        <td>8982.77</td>\n",
        "        <td>0</td>\n",
        "        <td>0</td>\n",
        "    </tr>\n",
        "    <tr>\n",
        "        <td>48464291</td>\n",
        "        <td>3</td>\n",
        "        <td>0</td>\n",
        "        <td>0</td>\n",
        "        <td>2013-04-23</td>\n",
        "        <td>1208251</td>\n",
        "        <td>18</td>\n",
        "        <td>11</td>\n",
        "        <td>2202</td>\n",
        "        <td>1</td>\n",
        "        <td>104460040</td>\n",
        "        <td>2</td>\n",
        "        <td>3718</td>\n",
        "        <td>1049</td>\n",
        "        <td>93</td>\n",
        "        <td>2012-03-07</td>\n",
        "        <td>2013-04-16</td>\n",
        "        <td>7</td>\n",
        "        <td>412</td>\n",
        "        <td>405</td>\n",
        "        <td>3748.44</td>\n",
        "        <td>0</td>\n",
        "        <td>1</td>\n",
        "    </tr>\n",
        "    <tr>\n",
        "        <td>48991232</td>\n",
        "        <td>0</td>\n",
        "        <td>0</td>\n",
        "        <td>0</td>\n",
        "        <td>2013-03-28</td>\n",
        "        <td>1197502</td>\n",
        "        <td>4</td>\n",
        "        <td>1</td>\n",
        "        <td>3203</td>\n",
        "        <td>1</td>\n",
        "        <td>106414464</td>\n",
        "        <td>0.75</td>\n",
        "        <td>13474</td>\n",
        "        <td>358</td>\n",
        "        <td>43</td>\n",
        "        <td>2012-03-06</td>\n",
        "        <td>2013-03-19</td>\n",
        "        <td>9</td>\n",
        "        <td>387</td>\n",
        "        <td>378</td>\n",
        "        <td>1386.67</td>\n",
        "        <td>0</td>\n",
        "        <td>0</td>\n",
        "    </tr>\n",
        "</table>"
       ],
       "metadata": {},
       "output_type": "pyout",
       "prompt_number": 15,
       "text": [
        "[(13089312, 0, 0, 0, u'2013-04-01', 1204821, 15, 9, 5619, 1, 107717272, 1.5, 102504, 1218, 132, u'2012-03-05', u'2013-03-31', 1, 392, 391, 3890.679999999957, 0, 3),\n",
        " (13179265, 1, 0, 0, u'2013-03-29', 1197502, 14, 8, 3203, 1, 106414464, 0.75, 13474, 903, 92, u'2012-03-02', u'2013-03-24', 5, 392, 387, 2476.129999999993, 0, 0),\n",
        " (13251776, 0, 0, 0, u'2013-03-30', 1200581, 15, 9, 1726, 1, 104460040, 1.25, 7668, 2391, 134, u'2012-03-02', u'2013-03-24', 6, 393, 387, 12512.589999999842, 10, 0),\n",
        " (13540129, 1, 0, 0, u'2013-03-30', 1200581, 14, 8, 1726, 1, 104460040, 1.25, 7668, 1139, 254, u'2012-03-02', u'2013-03-29', 1, 393, 392, 3262.189999999978, 3, 0),\n",
        " (15738658, 2, 0, 0, u'2013-04-22', 1197502, 17, 4, 3203, 1, 106414464, 0.75, 13474, 39, 6, u'2013-03-09', u'2013-03-31', 22, 44, 22, 186.42000000000004, 0, 0),\n",
        " (15994113, 1, 0, 0, u'2013-03-26', 1197502, 4, 1, 3203, 1, 106414464, 0.75, 13474, 558, 84, u'2012-03-02', u'2013-03-24', 2, 389, 387, 2410.939999999993, 0, 0),\n",
        " (17486592, 0, 1, 1, u'2013-04-17', 1197502, 15, 9, 3203, 1, 106414464, 0.75, 13474, 1526, 141, u'2012-03-03', u'2013-04-15', 2, 410, 408, 8078.549999999863, 1, 0),\n",
        " (18277411, 3, 0, 0, u'2013-04-04', 1204576, 4, 1, 5616, 1, 104610040, 1, 15889, 1054, 197, u'2012-03-02', u'2013-04-03', 1, 398, 397, 5204.299999999927, 14, 15),\n",
        " (19069700, 4, 0, 0, u'2013-03-25', 1197502, 4, 1, 3203, 1, 106414464, 0.75, 13474, 306, 28, u'2012-03-06', u'2013-03-19', 6, 384, 378, 1629.010000000001, 0, 0),\n",
        " (21419778, 2, 0, 0, u'2013-03-25', 1197502, 14, 8, 3203, 1, 106414464, 0.75, 13474, 384, 101, u'2012-03-07', u'2013-03-24', 1, 383, 382, 2789.1499999999946, 0, 0),\n",
        " (21603296, 0, 0, 0, u'2013-04-26', 1208251, 4, 1, 2202, 1, 104460040, 2, 3718, 703, 94, u'2012-03-05', u'2013-04-19', 7, 417, 410, 3923.5499999999665, 0, 2),\n",
        " (22725281, 1, 0, 0, u'2013-03-28', 1197502, 18, 11, 3203, 1, 106414464, 0.75, 13474, 1114, 115, u'2012-03-02', u'2013-03-22', 6, 391, 385, 4372.909999999949, 0, 0),\n",
        " (48445984, 0, 0, 0, u'2013-03-25', 1197502, 15, 9, 3203, 1, 106414464, 0.75, 13474, 1730, 225, u'2012-03-02', u'2013-03-24', 1, 388, 387, 8982.769999999871, 0, 0),\n",
        " (48464291, 3, 0, 0, u'2013-04-23', 1208251, 18, 11, 2202, 1, 104460040, 2, 3718, 1049, 93, u'2012-03-07', u'2013-04-16', 7, 412, 405, 3748.4399999999596, 0, 1),\n",
        " (48991232, 0, 0, 0, u'2013-03-28', 1197502, 4, 1, 3203, 1, 106414464, 0.75, 13474, 358, 43, u'2012-03-06', u'2013-03-19', 9, 387, 378, 1386.6700000000026, 0, 0)]"
       ]
      }
     ],
     "prompt_number": 15
    },
    {
     "cell_type": "markdown",
     "metadata": {},
     "source": [
      "#### Extracting variables to use in model"
     ]
    },
    {
     "cell_type": "code",
     "collapsed": false,
     "input": [
      "# Number of purchases each shopper made\n",
      "vars_df = sql.frame_query(\"\"\"\n",
      "    SELECT * FROM shopvars\n",
      "    WHERE table_num IN (2,3)\n",
      "    \"\"\", conn, \"id\")"
     ],
     "language": "python",
     "metadata": {},
     "outputs": [],
     "prompt_number": 25
    },
    {
     "cell_type": "code",
     "collapsed": false,
     "input": [
      "vars_df.repeater.sum()/19010.0"
     ],
     "language": "python",
     "metadata": {},
     "outputs": [
      {
       "metadata": {},
       "output_type": "pyout",
       "prompt_number": 4,
       "text": [
        "0.26191478169384536"
       ]
      }
     ],
     "prompt_number": 4
    },
    {
     "cell_type": "code",
     "collapsed": false,
     "input": [
      "vars_df.describe().T"
     ],
     "language": "python",
     "metadata": {},
     "outputs": [
      {
       "html": [
        "<div style=\"max-height:1000px;max-width:1500px;overflow:auto;\">\n",
        "<table border=\"1\" class=\"dataframe\">\n",
        "  <thead>\n",
        "    <tr style=\"text-align: right;\">\n",
        "      <th></th>\n",
        "      <th>count</th>\n",
        "      <th>mean</th>\n",
        "      <th>std</th>\n",
        "      <th>min</th>\n",
        "      <th>25%</th>\n",
        "      <th>50%</th>\n",
        "      <th>75%</th>\n",
        "      <th>max</th>\n",
        "    </tr>\n",
        "  </thead>\n",
        "  <tbody>\n",
        "    <tr>\n",
        "      <th>table_num</th>\n",
        "      <td> 6326</td>\n",
        "      <td> 5.017389e-01</td>\n",
        "      <td> 5.000365e-01</td>\n",
        "      <td> 0.000000e+00</td>\n",
        "      <td> 0.000000e+00</td>\n",
        "      <td> 1.000000e+00</td>\n",
        "      <td> 1.000000e+00</td>\n",
        "      <td> 1.000000e+00</td>\n",
        "    </tr>\n",
        "    <tr>\n",
        "      <th>repeater</th>\n",
        "      <td> 6326</td>\n",
        "      <td> 2.613026e-01</td>\n",
        "      <td> 4.393792e-01</td>\n",
        "      <td> 0.000000e+00</td>\n",
        "      <td> 0.000000e+00</td>\n",
        "      <td> 0.000000e+00</td>\n",
        "      <td> 1.000000e+00</td>\n",
        "      <td> 1.000000e+00</td>\n",
        "    </tr>\n",
        "    <tr>\n",
        "      <th>repeattrips</th>\n",
        "      <td> 6326</td>\n",
        "      <td> 5.625988e-01</td>\n",
        "      <td> 1.605953e+00</td>\n",
        "      <td> 0.000000e+00</td>\n",
        "      <td> 0.000000e+00</td>\n",
        "      <td> 0.000000e+00</td>\n",
        "      <td> 1.000000e+00</td>\n",
        "      <td> 4.500000e+01</td>\n",
        "    </tr>\n",
        "    <tr>\n",
        "      <th>offer</th>\n",
        "      <td> 6326</td>\n",
        "      <td> 1.201583e+06</td>\n",
        "      <td> 4.866376e+03</td>\n",
        "      <td> 1.194044e+06</td>\n",
        "      <td> 1.197502e+06</td>\n",
        "      <td> 1.199258e+06</td>\n",
        "      <td> 1.208251e+06</td>\n",
        "      <td> 1.208503e+06</td>\n",
        "    </tr>\n",
        "    <tr>\n",
        "      <th>chain</th>\n",
        "      <td> 6326</td>\n",
        "      <td> 1.042015e+02</td>\n",
        "      <td> 1.141299e+02</td>\n",
        "      <td> 2.000000e+00</td>\n",
        "      <td> 2.100000e+01</td>\n",
        "      <td> 6.500000e+01</td>\n",
        "      <td> 1.400000e+02</td>\n",
        "      <td> 5.100000e+02</td>\n",
        "    </tr>\n",
        "    <tr>\n",
        "      <th>market</th>\n",
        "      <td> 6326</td>\n",
        "      <td> 1.866740e+01</td>\n",
        "      <td> 1.514223e+01</td>\n",
        "      <td> 1.000000e+00</td>\n",
        "      <td> 1.000000e+01</td>\n",
        "      <td> 1.400000e+01</td>\n",
        "      <td> 2.400000e+01</td>\n",
        "      <td> 9.600000e+01</td>\n",
        "    </tr>\n",
        "    <tr>\n",
        "      <th>category</th>\n",
        "      <td> 6326</td>\n",
        "      <td> 4.066846e+03</td>\n",
        "      <td> 2.221441e+03</td>\n",
        "      <td> 1.703000e+03</td>\n",
        "      <td> 2.202000e+03</td>\n",
        "      <td> 3.203000e+03</td>\n",
        "      <td> 5.558000e+03</td>\n",
        "      <td> 9.909000e+03</td>\n",
        "    </tr>\n",
        "    <tr>\n",
        "      <th>quantity</th>\n",
        "      <td> 6326</td>\n",
        "      <td> 1.000000e+00</td>\n",
        "      <td> 0.000000e+00</td>\n",
        "      <td> 1.000000e+00</td>\n",
        "      <td> 1.000000e+00</td>\n",
        "      <td> 1.000000e+00</td>\n",
        "      <td> 1.000000e+00</td>\n",
        "      <td> 1.000000e+00</td>\n",
        "    </tr>\n",
        "    <tr>\n",
        "      <th>company</th>\n",
        "      <td> 6326</td>\n",
        "      <td> 2.098353e+08</td>\n",
        "      <td> 3.018922e+08</td>\n",
        "      <td> 1.033200e+08</td>\n",
        "      <td> 1.051000e+08</td>\n",
        "      <td> 1.064145e+08</td>\n",
        "      <td> 1.071280e+08</td>\n",
        "      <td> 1.089520e+09</td>\n",
        "    </tr>\n",
        "    <tr>\n",
        "      <th>offervalue</th>\n",
        "      <td> 6326</td>\n",
        "      <td> 1.255098e+00</td>\n",
        "      <td> 5.347820e-01</td>\n",
        "      <td> 7.500000e-01</td>\n",
        "      <td> 7.500000e-01</td>\n",
        "      <td> 1.000000e+00</td>\n",
        "      <td> 1.500000e+00</td>\n",
        "      <td> 3.000000e+00</td>\n",
        "    </tr>\n",
        "    <tr>\n",
        "      <th>brand</th>\n",
        "      <td> 6326</td>\n",
        "      <td> 1.706903e+04</td>\n",
        "      <td> 2.029289e+04</td>\n",
        "      <td> 8.750000e+02</td>\n",
        "      <td> 6.926000e+03</td>\n",
        "      <td> 1.347400e+04</td>\n",
        "      <td> 1.379100e+04</td>\n",
        "      <td> 1.025040e+05</td>\n",
        "    </tr>\n",
        "    <tr>\n",
        "      <th>num_purchases</th>\n",
        "      <td> 6326</td>\n",
        "      <td> 1.117174e+03</td>\n",
        "      <td> 1.794602e+03</td>\n",
        "      <td> 1.800000e+01</td>\n",
        "      <td> 5.670000e+02</td>\n",
        "      <td> 9.740000e+02</td>\n",
        "      <td> 1.480750e+03</td>\n",
        "      <td> 1.322240e+05</td>\n",
        "    </tr>\n",
        "    <tr>\n",
        "      <th>num_trips</th>\n",
        "      <td> 6326</td>\n",
        "      <td> 8.488381e+01</td>\n",
        "      <td> 4.979741e+01</td>\n",
        "      <td> 5.000000e+00</td>\n",
        "      <td> 5.000000e+01</td>\n",
        "      <td> 7.400000e+01</td>\n",
        "      <td> 1.090000e+02</td>\n",
        "      <td> 3.880000e+02</td>\n",
        "    </tr>\n",
        "    <tr>\n",
        "      <th>offer_delay</th>\n",
        "      <td> 6326</td>\n",
        "      <td> 8.483086e+00</td>\n",
        "      <td> 9.554054e+00</td>\n",
        "      <td> 1.000000e+00</td>\n",
        "      <td> 4.000000e+00</td>\n",
        "      <td> 6.000000e+00</td>\n",
        "      <td> 1.000000e+01</td>\n",
        "      <td> 1.840000e+02</td>\n",
        "    </tr>\n",
        "    <tr>\n",
        "      <th>shopper_age</th>\n",
        "      <td> 6326</td>\n",
        "      <td> 3.922128e+02</td>\n",
        "      <td> 2.664593e+01</td>\n",
        "      <td> 5.300000e+01</td>\n",
        "      <td> 3.840000e+02</td>\n",
        "      <td> 3.910000e+02</td>\n",
        "      <td> 4.130000e+02</td>\n",
        "      <td> 4.240000e+02</td>\n",
        "    </tr>\n",
        "    <tr>\n",
        "      <th>shopper_lifetime</th>\n",
        "      <td> 6326</td>\n",
        "      <td> 3.837297e+02</td>\n",
        "      <td> 2.953806e+01</td>\n",
        "      <td> 4.500000e+01</td>\n",
        "      <td> 3.730000e+02</td>\n",
        "      <td> 3.850000e+02</td>\n",
        "      <td> 4.060000e+02</td>\n",
        "      <td> 4.220000e+02</td>\n",
        "    </tr>\n",
        "    <tr>\n",
        "      <th>total_purs_spend</th>\n",
        "      <td> 6326</td>\n",
        "      <td> 4.519065e+03</td>\n",
        "      <td> 9.297907e+03</td>\n",
        "      <td> 5.828000e+01</td>\n",
        "      <td> 2.215190e+03</td>\n",
        "      <td> 3.830290e+03</td>\n",
        "      <td> 5.992862e+03</td>\n",
        "      <td> 7.049808e+05</td>\n",
        "    </tr>\n",
        "    <tr>\n",
        "      <th>num_match_cat</th>\n",
        "      <td> 6326</td>\n",
        "      <td> 4.667246e+00</td>\n",
        "      <td> 1.111245e+01</td>\n",
        "      <td> 0.000000e+00</td>\n",
        "      <td> 0.000000e+00</td>\n",
        "      <td> 0.000000e+00</td>\n",
        "      <td> 4.000000e+00</td>\n",
        "      <td> 3.780000e+02</td>\n",
        "    </tr>\n",
        "    <tr>\n",
        "      <th>num_match_brand</th>\n",
        "      <td> 6326</td>\n",
        "      <td> 2.759248e+00</td>\n",
        "      <td> 7.116716e+00</td>\n",
        "      <td> 0.000000e+00</td>\n",
        "      <td> 0.000000e+00</td>\n",
        "      <td> 0.000000e+00</td>\n",
        "      <td> 2.000000e+00</td>\n",
        "      <td> 2.190000e+02</td>\n",
        "    </tr>\n",
        "  </tbody>\n",
        "</table>\n",
        "<p>19 rows \u00d7 8 columns</p>\n",
        "</div>"
       ],
       "metadata": {},
       "output_type": "pyout",
       "prompt_number": 17,
       "text": [
        "                  count          mean           std           min  \\\n",
        "table_num          6326  5.017389e-01  5.000365e-01  0.000000e+00   \n",
        "repeater           6326  2.613026e-01  4.393792e-01  0.000000e+00   \n",
        "repeattrips        6326  5.625988e-01  1.605953e+00  0.000000e+00   \n",
        "offer              6326  1.201583e+06  4.866376e+03  1.194044e+06   \n",
        "chain              6326  1.042015e+02  1.141299e+02  2.000000e+00   \n",
        "market             6326  1.866740e+01  1.514223e+01  1.000000e+00   \n",
        "category           6326  4.066846e+03  2.221441e+03  1.703000e+03   \n",
        "quantity           6326  1.000000e+00  0.000000e+00  1.000000e+00   \n",
        "company            6326  2.098353e+08  3.018922e+08  1.033200e+08   \n",
        "offervalue         6326  1.255098e+00  5.347820e-01  7.500000e-01   \n",
        "brand              6326  1.706903e+04  2.029289e+04  8.750000e+02   \n",
        "num_purchases      6326  1.117174e+03  1.794602e+03  1.800000e+01   \n",
        "num_trips          6326  8.488381e+01  4.979741e+01  5.000000e+00   \n",
        "offer_delay        6326  8.483086e+00  9.554054e+00  1.000000e+00   \n",
        "shopper_age        6326  3.922128e+02  2.664593e+01  5.300000e+01   \n",
        "shopper_lifetime   6326  3.837297e+02  2.953806e+01  4.500000e+01   \n",
        "total_purs_spend   6326  4.519065e+03  9.297907e+03  5.828000e+01   \n",
        "num_match_cat      6326  4.667246e+00  1.111245e+01  0.000000e+00   \n",
        "num_match_brand    6326  2.759248e+00  7.116716e+00  0.000000e+00   \n",
        "\n",
        "                           25%           50%           75%           max  \n",
        "table_num         0.000000e+00  1.000000e+00  1.000000e+00  1.000000e+00  \n",
        "repeater          0.000000e+00  0.000000e+00  1.000000e+00  1.000000e+00  \n",
        "repeattrips       0.000000e+00  0.000000e+00  1.000000e+00  4.500000e+01  \n",
        "offer             1.197502e+06  1.199258e+06  1.208251e+06  1.208503e+06  \n",
        "chain             2.100000e+01  6.500000e+01  1.400000e+02  5.100000e+02  \n",
        "market            1.000000e+01  1.400000e+01  2.400000e+01  9.600000e+01  \n",
        "category          2.202000e+03  3.203000e+03  5.558000e+03  9.909000e+03  \n",
        "quantity          1.000000e+00  1.000000e+00  1.000000e+00  1.000000e+00  \n",
        "company           1.051000e+08  1.064145e+08  1.071280e+08  1.089520e+09  \n",
        "offervalue        7.500000e-01  1.000000e+00  1.500000e+00  3.000000e+00  \n",
        "brand             6.926000e+03  1.347400e+04  1.379100e+04  1.025040e+05  \n",
        "num_purchases     5.670000e+02  9.740000e+02  1.480750e+03  1.322240e+05  \n",
        "num_trips         5.000000e+01  7.400000e+01  1.090000e+02  3.880000e+02  \n",
        "offer_delay       4.000000e+00  6.000000e+00  1.000000e+01  1.840000e+02  \n",
        "shopper_age       3.840000e+02  3.910000e+02  4.130000e+02  4.240000e+02  \n",
        "shopper_lifetime  3.730000e+02  3.850000e+02  4.060000e+02  4.220000e+02  \n",
        "total_purs_spend  2.215190e+03  3.830290e+03  5.992862e+03  7.049808e+05  \n",
        "num_match_cat     0.000000e+00  0.000000e+00  4.000000e+00  3.780000e+02  \n",
        "num_match_brand   0.000000e+00  0.000000e+00  2.000000e+00  2.190000e+02  \n",
        "\n",
        "[19 rows x 8 columns]"
       ]
      }
     ],
     "prompt_number": 17
    },
    {
     "cell_type": "code",
     "collapsed": false,
     "input": [
      "vars_df.columns"
     ],
     "language": "python",
     "metadata": {},
     "outputs": [
      {
       "metadata": {},
       "output_type": "pyout",
       "prompt_number": 55,
       "text": [
        "Index([u'table_num', u'repeater', u'repeattrips', u'offerdate', u'offer', u'chain', u'market', u'category', u'quantity', u'company', u'offervalue', u'brand', u'num_purchases', u'num_trips', u'min_date', u'max_date', u'offer_delay', u'shopper_age', u'shopper_lifetime', u'total_purs_spend', u'num_match_cat', u'num_match_brand'], dtype='object')"
       ]
      }
     ],
     "prompt_number": 55
    },
    {
     "cell_type": "code",
     "collapsed": false,
     "input": [
      "xcols = vars_df.columns[[10,12,13,16,18,19,20,21]]"
     ],
     "language": "python",
     "metadata": {},
     "outputs": [],
     "prompt_number": 5
    },
    {
     "cell_type": "code",
     "collapsed": false,
     "input": [
      "xcols"
     ],
     "language": "python",
     "metadata": {},
     "outputs": [
      {
       "metadata": {},
       "output_type": "pyout",
       "prompt_number": 6,
       "text": [
        "Index([u'offervalue', u'num_purchases', u'num_trips', u'offer_delay', u'shopper_lifetime', u'total_purs_spend', u'num_match_cat', u'num_match_brand'], dtype='object')"
       ]
      }
     ],
     "prompt_number": 6
    },
    {
     "cell_type": "code",
     "collapsed": false,
     "input": [
      "X = vars_df[xcols]"
     ],
     "language": "python",
     "metadata": {},
     "outputs": [],
     "prompt_number": 16
    },
    {
     "cell_type": "code",
     "collapsed": false,
     "input": [
      "X.describe()"
     ],
     "language": "python",
     "metadata": {},
     "outputs": [
      {
       "html": [
        "<div style=\"max-height:1000px;max-width:1500px;overflow:auto;\">\n",
        "<table border=\"1\" class=\"dataframe\">\n",
        "  <thead>\n",
        "    <tr style=\"text-align: right;\">\n",
        "      <th></th>\n",
        "      <th>offervalue</th>\n",
        "      <th>num_purchases</th>\n",
        "      <th>num_trips</th>\n",
        "      <th>offer_delay</th>\n",
        "      <th>shopper_lifetime</th>\n",
        "      <th>total_purs_spend</th>\n",
        "      <th>num_match_cat</th>\n",
        "      <th>num_match_brand</th>\n",
        "    </tr>\n",
        "  </thead>\n",
        "  <tbody>\n",
        "    <tr>\n",
        "      <th>count</th>\n",
        "      <td> 9389.000000</td>\n",
        "      <td>   9389.000000</td>\n",
        "      <td> 9389.000000</td>\n",
        "      <td> 9389.000000</td>\n",
        "      <td> 9389.000000</td>\n",
        "      <td>    9389.000000</td>\n",
        "      <td> 9389.000000</td>\n",
        "      <td> 9389.000000</td>\n",
        "    </tr>\n",
        "    <tr>\n",
        "      <th>mean</th>\n",
        "      <td>    1.257828</td>\n",
        "      <td>   1173.743636</td>\n",
        "      <td>   84.520183</td>\n",
        "      <td>    8.509319</td>\n",
        "      <td>  383.424965</td>\n",
        "      <td>    5003.950637</td>\n",
        "      <td>    4.816381</td>\n",
        "      <td>    2.926190</td>\n",
        "    </tr>\n",
        "    <tr>\n",
        "      <th>std</th>\n",
        "      <td>    0.534711</td>\n",
        "      <td>   4672.444761</td>\n",
        "      <td>   49.909816</td>\n",
        "      <td>    9.519576</td>\n",
        "      <td>   30.191895</td>\n",
        "      <td>   32941.928887</td>\n",
        "      <td>   14.545447</td>\n",
        "      <td>   12.751675</td>\n",
        "    </tr>\n",
        "    <tr>\n",
        "      <th>min</th>\n",
        "      <td>    0.750000</td>\n",
        "      <td>     10.000000</td>\n",
        "      <td>    4.000000</td>\n",
        "      <td>    1.000000</td>\n",
        "      <td>   22.000000</td>\n",
        "      <td>      38.670000</td>\n",
        "      <td>    0.000000</td>\n",
        "      <td>    0.000000</td>\n",
        "    </tr>\n",
        "    <tr>\n",
        "      <th>25%</th>\n",
        "      <td>    0.750000</td>\n",
        "      <td>    559.000000</td>\n",
        "      <td>   50.000000</td>\n",
        "      <td>    4.000000</td>\n",
        "      <td>  373.000000</td>\n",
        "      <td>    2189.670000</td>\n",
        "      <td>    0.000000</td>\n",
        "      <td>    0.000000</td>\n",
        "    </tr>\n",
        "    <tr>\n",
        "      <th>50%</th>\n",
        "      <td>    1.000000</td>\n",
        "      <td>    966.000000</td>\n",
        "      <td>   73.000000</td>\n",
        "      <td>    6.000000</td>\n",
        "      <td>  385.000000</td>\n",
        "      <td>    3800.600000</td>\n",
        "      <td>    1.000000</td>\n",
        "      <td>    0.000000</td>\n",
        "    </tr>\n",
        "    <tr>\n",
        "      <th>75%</th>\n",
        "      <td>    1.500000</td>\n",
        "      <td>   1473.000000</td>\n",
        "      <td>  108.000000</td>\n",
        "      <td>   10.000000</td>\n",
        "      <td>  406.000000</td>\n",
        "      <td>    5931.490000</td>\n",
        "      <td>    4.000000</td>\n",
        "      <td>    2.000000</td>\n",
        "    </tr>\n",
        "    <tr>\n",
        "      <th>max</th>\n",
        "      <td>    3.000000</td>\n",
        "      <td> 346795.000000</td>\n",
        "      <td>  412.000000</td>\n",
        "      <td>  184.000000</td>\n",
        "      <td>  422.000000</td>\n",
        "      <td> 2339560.960001</td>\n",
        "      <td>  857.000000</td>\n",
        "      <td> 1027.000000</td>\n",
        "    </tr>\n",
        "  </tbody>\n",
        "</table>\n",
        "<p>8 rows \u00d7 8 columns</p>\n",
        "</div>"
       ],
       "metadata": {},
       "output_type": "pyout",
       "prompt_number": 17,
       "text": [
        "        offervalue  num_purchases    num_trips  offer_delay  shopper_lifetime  \\\n",
        "count  9389.000000    9389.000000  9389.000000  9389.000000       9389.000000   \n",
        "mean      1.257828    1173.743636    84.520183     8.509319        383.424965   \n",
        "std       0.534711    4672.444761    49.909816     9.519576         30.191895   \n",
        "min       0.750000      10.000000     4.000000     1.000000         22.000000   \n",
        "25%       0.750000     559.000000    50.000000     4.000000        373.000000   \n",
        "50%       1.000000     966.000000    73.000000     6.000000        385.000000   \n",
        "75%       1.500000    1473.000000   108.000000    10.000000        406.000000   \n",
        "max       3.000000  346795.000000   412.000000   184.000000        422.000000   \n",
        "\n",
        "       total_purs_spend  num_match_cat  num_match_brand  \n",
        "count       9389.000000    9389.000000      9389.000000  \n",
        "mean        5003.950637       4.816381         2.926190  \n",
        "std        32941.928887      14.545447        12.751675  \n",
        "min           38.670000       0.000000         0.000000  \n",
        "25%         2189.670000       0.000000         0.000000  \n",
        "50%         3800.600000       1.000000         0.000000  \n",
        "75%         5931.490000       4.000000         2.000000  \n",
        "max      2339560.960001     857.000000      1027.000000  \n",
        "\n",
        "[8 rows x 8 columns]"
       ]
      }
     ],
     "prompt_number": 17
    },
    {
     "cell_type": "code",
     "collapsed": false,
     "input": [
      "sorted(vars_df.num_purchases,reverse=True)[:20]"
     ],
     "language": "python",
     "metadata": {},
     "outputs": [
      {
       "metadata": {},
       "output_type": "pyout",
       "prompt_number": 19,
       "text": [
        "[346795,\n",
        " 250840,\n",
        " 132224,\n",
        " 31878,\n",
        " 16238,\n",
        " 7652,\n",
        " 7624,\n",
        " 6461,\n",
        " 6116,\n",
        " 5728,\n",
        " 5118,\n",
        " 4767,\n",
        " 4692,\n",
        " 4603,\n",
        " 4584,\n",
        " 4319,\n",
        " 4318,\n",
        " 4288,\n",
        " 4273,\n",
        " 4231]"
       ]
      }
     ],
     "prompt_number": 19
    },
    {
     "cell_type": "code",
     "collapsed": false,
     "input": [
      "vars_df.num_purchases[vars_df.num_purchases >= 4000] = 4000"
     ],
     "language": "python",
     "metadata": {},
     "outputs": [],
     "prompt_number": 58
    },
    {
     "cell_type": "code",
     "collapsed": false,
     "input": [
      "bins_purs = range(0,4000,100)\n",
      "vars_df.num_purchases[vars_df.repeater == 1].hist(bins=bins_purs,color='blue',alpha=.5)\n",
      "vars_df.num_purchases[vars_df.repeater == 0].hist(bins=bins_purs,color='gray',alpha=.5)"
     ],
     "language": "python",
     "metadata": {},
     "outputs": [
      {
       "metadata": {},
       "output_type": "pyout",
       "prompt_number": 59,
       "text": [
        "<matplotlib.axes.AxesSubplot at 0x109e3a690>"
       ]
      },
      {
       "metadata": {},
       "output_type": "display_data",
       "png": "[encoded data removed]",
       "text": [
        "<matplotlib.figure.Figure at 0x109e3ac50>"
       ]
      }
     ],
     "prompt_number": 59
    },
    {
     "cell_type": "code",
     "collapsed": false,
     "input": [
      "np_repeater = vars_df.num_purchases[vars_df.repeater == 1].mean()\n",
      "np_nonrepeater = vars_df.num_purchases[vars_df.repeater == 0].mean()\n",
      "print \"Mean number of purchases:  repeater = {0:.1f}, non-repeater = {1:.1f}\".format(np_repeater, np_nonrepeater)"
     ],
     "language": "python",
     "metadata": {},
     "outputs": [
      {
       "output_type": "stream",
       "stream": "stdout",
       "text": [
        "Mean number of purchases:  repeater = 1153.7, non-repeater = 1068.8\n"
       ]
      }
     ],
     "prompt_number": 22
    },
    {
     "cell_type": "code",
     "collapsed": false,
     "input": [
      "vars_df.num_trips.hist(color='gray',bins=20)"
     ],
     "language": "python",
     "metadata": {},
     "outputs": [
      {
       "metadata": {},
       "output_type": "pyout",
       "prompt_number": 23,
       "text": [
        "<matplotlib.axes.AxesSubplot at 0x1099b0f50>"
       ]
      },
      {
       "metadata": {},
       "output_type": "display_data",
       "png": "[encoded data removed]",
       "text": [
        "<matplotlib.figure.Figure at 0x10997de50>"
       ]
      }
     ],
     "prompt_number": 23
    },
    {
     "cell_type": "code",
     "collapsed": false,
     "input": [
      "bins_purs = range(0,400,10)\n",
      "vars_df.num_trips[vars_df.repeater == 1].hist(bins=bins_purs,color='blue',alpha=.5)\n",
      "vars_df.num_trips[vars_df.repeater == 0].hist(bins=bins_purs,color='gray',alpha=.5)"
     ],
     "language": "python",
     "metadata": {},
     "outputs": [
      {
       "metadata": {},
       "output_type": "pyout",
       "prompt_number": 24,
       "text": [
        "<matplotlib.axes.AxesSubplot at 0x10b178ed0>"
       ]
      },
      {
       "metadata": {},
       "output_type": "display_data",
       "png": "[encoded data removed]",
       "text": [
        "<matplotlib.figure.Figure at 0x10b16e390>"
       ]
      }
     ],
     "prompt_number": 24
    },
    {
     "cell_type": "code",
     "collapsed": false,
     "input": [
      "nt_repeater = vars_df.num_trips[vars_df.repeater == 1].mean()\n",
      "nt_nonrepeater = vars_df.num_trips[vars_df.repeater == 0].mean()\n",
      "print \"Mean number of trips:  repeater = {0:.1f}, non-repeater = {1:.1f}\".format(nt_repeater, nt_nonrepeater)"
     ],
     "language": "python",
     "metadata": {},
     "outputs": [
      {
       "output_type": "stream",
       "stream": "stdout",
       "text": [
        "Mean number of trips:  repeater = 87.5, non-repeater = 83.5\n"
       ]
      }
     ],
     "prompt_number": 25
    },
    {
     "cell_type": "code",
     "collapsed": false,
     "input": [
      "vars_df.offervalue.hist(color='gray',bins=20)"
     ],
     "language": "python",
     "metadata": {},
     "outputs": [
      {
       "metadata": {},
       "output_type": "pyout",
       "prompt_number": 26,
       "text": [
        "<matplotlib.axes.AxesSubplot at 0x10b2ae950>"
       ]
      },
      {
       "metadata": {},
       "output_type": "display_data",
       "png": "[encoded data removed]",
       "text": [
        "<matplotlib.figure.Figure at 0x10b298190>"
       ]
      }
     ],
     "prompt_number": 26
    },
    {
     "cell_type": "code",
     "collapsed": false,
     "input": [
      "bins_purs = np.arange(0,3.5,.5)\n",
      "vars_df.offervalue[vars_df.repeater == 1].hist(bins=bins_purs,color='blue',alpha=.5)\n",
      "vars_df.offervalue[vars_df.repeater == 0].hist(bins=bins_purs,color='gray',alpha=.5)"
     ],
     "language": "python",
     "metadata": {},
     "outputs": [
      {
       "metadata": {},
       "output_type": "pyout",
       "prompt_number": 27,
       "text": [
        "<matplotlib.axes.AxesSubplot at 0x10a90ccd0>"
       ]
      },
      {
       "metadata": {},
       "output_type": "display_data",
       "png": "[encoded data removed]",
       "text": [
        "<matplotlib.figure.Figure at 0x109d2cb90>"
       ]
      }
     ],
     "prompt_number": 27
    },
    {
     "cell_type": "code",
     "collapsed": false,
     "input": [
      "ov_repeater = vars_df.offervalue[vars_df.repeater == 1].mean()\n",
      "ov_nonrepeater = vars_df.offervalue[vars_df.repeater == 0].mean()\n",
      "print \"Mean offer value:  repeater = {0:.1f}, non-repeater = {1:.1f}\".format(ov_repeater, ov_nonrepeater)"
     ],
     "language": "python",
     "metadata": {},
     "outputs": [
      {
       "output_type": "stream",
       "stream": "stdout",
       "text": [
        "Mean offer value:  repeater = 1.2, non-repeater = 1.3\n"
       ]
      }
     ],
     "prompt_number": 28
    },
    {
     "cell_type": "code",
     "collapsed": false,
     "input": [
      "vars_df.offer_delay.hist(color='gray',bins=20)"
     ],
     "language": "python",
     "metadata": {},
     "outputs": [
      {
       "metadata": {},
       "output_type": "pyout",
       "prompt_number": 29,
       "text": [
        "<matplotlib.axes.AxesSubplot at 0x10b148410>"
       ]
      },
      {
       "metadata": {},
       "output_type": "display_data",
       "png": "[encoded data removed]",
       "text": [
        "<matplotlib.figure.Figure at 0x10acdd1d0>"
       ]
      }
     ],
     "prompt_number": 29
    },
    {
     "cell_type": "code",
     "collapsed": false,
     "input": [
      "sorted(vars_df.offer_delay,reverse=True)[:15]"
     ],
     "language": "python",
     "metadata": {},
     "outputs": [
      {
       "metadata": {},
       "output_type": "pyout",
       "prompt_number": 30,
       "text": [
        "[184, 161, 155, 155, 151, 142, 141, 138, 128, 97, 85, 84, 79, 78, 77]"
       ]
      }
     ],
     "prompt_number": 30
    },
    {
     "cell_type": "code",
     "collapsed": false,
     "input": [
      "vars_df.offer_delay[vars_df.offer_delay > 70] = 70"
     ],
     "language": "python",
     "metadata": {},
     "outputs": [],
     "prompt_number": 60
    },
    {
     "cell_type": "code",
     "collapsed": false,
     "input": [
      "vars_df.offer_delay.hist(color='gray',bins=20)"
     ],
     "language": "python",
     "metadata": {},
     "outputs": [
      {
       "metadata": {},
       "output_type": "pyout",
       "prompt_number": 32,
       "text": [
        "<matplotlib.axes.AxesSubplot at 0x10b731210>"
       ]
      },
      {
       "metadata": {},
       "output_type": "display_data",
       "png": "[encoded data removed]",
       "text": [
        "<matplotlib.figure.Figure at 0x109ed1890>"
       ]
      }
     ],
     "prompt_number": 32
    },
    {
     "cell_type": "code",
     "collapsed": false,
     "input": [
      "bins_purs = np.arange(0,70,2)\n",
      "vars_df.offer_delay[vars_df.repeater == 1].hist(bins=bins_purs,color='blue',alpha=.5)\n",
      "vars_df.offer_delay[vars_df.repeater == 0].hist(bins=bins_purs,color='gray',alpha=.5)"
     ],
     "language": "python",
     "metadata": {},
     "outputs": [
      {
       "metadata": {},
       "output_type": "pyout",
       "prompt_number": 61,
       "text": [
        "<matplotlib.axes.AxesSubplot at 0x109da4450>"
       ]
      },
      {
       "metadata": {},
       "output_type": "display_data",
       "png": "[encoded data removed]",
       "text": [
        "<matplotlib.figure.Figure at 0x109d9a2d0>"
       ]
      }
     ],
     "prompt_number": 61
    },
    {
     "cell_type": "code",
     "collapsed": false,
     "input": [
      "od_repeater = vars_df.offer_delay[vars_df.repeater == 1].mean()\n",
      "od_nonrepeater = vars_df.offer_delay[vars_df.repeater == 0].mean()\n",
      "print \"Mean offer delay:  repeater = {0:.1f}, non-repeater = {1:.1f}\".format(od_repeater, od_nonrepeater)"
     ],
     "language": "python",
     "metadata": {},
     "outputs": [
      {
       "output_type": "stream",
       "stream": "stdout",
       "text": [
        "Mean offer delay:  repeater = 7.8, non-repeater = 8.6\n"
       ]
      }
     ],
     "prompt_number": 34
    },
    {
     "cell_type": "code",
     "collapsed": false,
     "input": [
      "vars_df.shopper_lifetime.hist(color='gray',bins=20)"
     ],
     "language": "python",
     "metadata": {},
     "outputs": [
      {
       "metadata": {},
       "output_type": "pyout",
       "prompt_number": 35,
       "text": [
        "<matplotlib.axes.AxesSubplot at 0x10b501bd0>"
       ]
      },
      {
       "metadata": {},
       "output_type": "display_data",
       "png": "[encoded data removed]",
       "text": [
        "<matplotlib.figure.Figure at 0x10b504610>"
       ]
      }
     ],
     "prompt_number": 35
    },
    {
     "cell_type": "code",
     "collapsed": false,
     "input": [
      "sl_repeater = vars_df.shopper_lifetime[vars_df.repeater == 1].mean()\n",
      "sl_nonrepeater = vars_df.shopper_lifetime[vars_df.repeater == 0].mean()\n",
      "print \"Mean shopper lifetime:  repeater = {0:.1f}, non-repeater = {1:.1f}\".format(sl_repeater, sl_nonrepeater)"
     ],
     "language": "python",
     "metadata": {},
     "outputs": [
      {
       "output_type": "stream",
       "stream": "stdout",
       "text": [
        "Mean shopper lifetime:  repeater = 386.7, non-repeater = 382.3\n"
       ]
      }
     ],
     "prompt_number": 36
    },
    {
     "cell_type": "code",
     "collapsed": false,
     "input": [
      "vars_df.total_purs_spend.hist(color='gray',bins=20)"
     ],
     "language": "python",
     "metadata": {},
     "outputs": [
      {
       "metadata": {},
       "output_type": "pyout",
       "prompt_number": 37,
       "text": [
        "<matplotlib.axes.AxesSubplot at 0x109a09490>"
       ]
      },
      {
       "metadata": {},
       "output_type": "display_data",
       "png": "[encoded data removed]",
       "text": [
        "<matplotlib.figure.Figure at 0x10aa34690>"
       ]
      }
     ],
     "prompt_number": 37
    },
    {
     "cell_type": "code",
     "collapsed": false,
     "input": [
      "sorted(vars_df.total_purs_spend,reverse=True)[:15]"
     ],
     "language": "python",
     "metadata": {},
     "outputs": [
      {
       "metadata": {},
       "output_type": "pyout",
       "prompt_number": 39,
       "text": [
        "[2339560.9600009155,\n",
        " 1878122.6099981242,\n",
        " 804981.6799999557,\n",
        " 704980.77999961947,\n",
        " 85366.500000001441,\n",
        " 63680.870000000767,\n",
        " 33507.980000000309,\n",
        " 31921.030000001061,\n",
        " 31153.000000000102,\n",
        " 30430.350000001024,\n",
        " 29436.700000000365,\n",
        " 26773.090000000964,\n",
        " 24482.960000000436,\n",
        " 23947.580000000435,\n",
        " 23186.500000000586]"
       ]
      }
     ],
     "prompt_number": 39
    },
    {
     "cell_type": "code",
     "collapsed": false,
     "input": [
      "vars_df.total_purs_spend[vars_df.total_purs_spend > 20000] = 20000"
     ],
     "language": "python",
     "metadata": {},
     "outputs": [],
     "prompt_number": 62
    },
    {
     "cell_type": "code",
     "collapsed": false,
     "input": [
      "vars_df.total_purs_spend.hist(color='gray',bins=range(0,20000,1000))"
     ],
     "language": "python",
     "metadata": {},
     "outputs": [
      {
       "metadata": {},
       "output_type": "pyout",
       "prompt_number": 41,
       "text": [
        "<matplotlib.axes.AxesSubplot at 0x10a8a4090>"
       ]
      },
      {
       "metadata": {},
       "output_type": "display_data",
       "png": "[encoded data removed]",
       "text": [
        "<matplotlib.figure.Figure at 0x10b951b10>"
       ]
      }
     ],
     "prompt_number": 41
    },
    {
     "cell_type": "code",
     "collapsed": false,
     "input": [
      "ts_repeater = vars_df.total_purs_spend[vars_df.repeater == 1].mean()\n",
      "ts_nonrepeater = vars_df.total_purs_spend[vars_df.repeater == 0].mean()\n",
      "print \"Mean total spend:  repeater = {0:.1f}, non-repeater = {1:.1f}\".format(ts_repeater, ts_nonrepeater)"
     ],
     "language": "python",
     "metadata": {},
     "outputs": [
      {
       "output_type": "stream",
       "stream": "stdout",
       "text": [
        "Mean total spend:  repeater = 4664.2, non-repeater = 4281.0\n"
       ]
      }
     ],
     "prompt_number": 42
    },
    {
     "cell_type": "code",
     "collapsed": false,
     "input": [
      "bins_purs = range(0,20000,1000)\n",
      "vars_df.total_purs_spend[vars_df.repeater == 1].hist(bins=bins_purs,color='blue',alpha=.5)\n",
      "vars_df.total_purs_spend[vars_df.repeater == 0].hist(bins=bins_purs,color='gray',alpha=.5)"
     ],
     "language": "python",
     "metadata": {},
     "outputs": [
      {
       "metadata": {},
       "output_type": "pyout",
       "prompt_number": 43,
       "text": [
        "<matplotlib.axes.AxesSubplot at 0x10b2a1f50>"
       ]
      },
      {
       "metadata": {},
       "output_type": "display_data",
       "png": "[encoded data removed]",
       "text": [
        "<matplotlib.figure.Figure at 0x109cbe290>"
       ]
      }
     ],
     "prompt_number": 43
    },
    {
     "cell_type": "code",
     "collapsed": false,
     "input": [
      "# num_match_cat, num_match_brand"
     ],
     "language": "python",
     "metadata": {},
     "outputs": [],
     "prompt_number": 44
    },
    {
     "cell_type": "code",
     "collapsed": false,
     "input": [
      "vars_df.num_match_cat.hist(color='gray',bins=20)"
     ],
     "language": "python",
     "metadata": {},
     "outputs": [
      {
       "metadata": {},
       "output_type": "pyout",
       "prompt_number": 45,
       "text": [
        "<matplotlib.axes.AxesSubplot at 0x109caf250>"
       ]
      },
      {
       "metadata": {},
       "output_type": "display_data",
       "png": "[encoded data removed]",
       "text": [
        "<matplotlib.figure.Figure at 0x10a8aab10>"
       ]
      }
     ],
     "prompt_number": 45
    },
    {
     "cell_type": "code",
     "collapsed": false,
     "input": [
      "sorted(vars_df.num_match_cat,reverse=True)[:20]"
     ],
     "language": "python",
     "metadata": {},
     "outputs": [
      {
       "metadata": {},
       "output_type": "pyout",
       "prompt_number": 47,
       "text": [
        "[857,\n",
        " 378,\n",
        " 301,\n",
        " 219,\n",
        " 154,\n",
        " 148,\n",
        " 129,\n",
        " 120,\n",
        " 108,\n",
        " 106,\n",
        " 102,\n",
        " 101,\n",
        " 100,\n",
        " 95,\n",
        " 90,\n",
        " 88,\n",
        " 87,\n",
        " 87,\n",
        " 86,\n",
        " 83]"
       ]
      }
     ],
     "prompt_number": 47
    },
    {
     "cell_type": "code",
     "collapsed": false,
     "input": [
      "vars_df.num_match_cat[vars_df.num_match_cat > 80] = 80"
     ],
     "language": "python",
     "metadata": {},
     "outputs": [],
     "prompt_number": 63
    },
    {
     "cell_type": "code",
     "collapsed": false,
     "input": [
      "vars_df.num_match_cat.hist(color='gray',bins=20)"
     ],
     "language": "python",
     "metadata": {},
     "outputs": [
      {
       "metadata": {},
       "output_type": "pyout",
       "prompt_number": 49,
       "text": [
        "<matplotlib.axes.AxesSubplot at 0x10bb3fb50>"
       ]
      },
      {
       "metadata": {},
       "output_type": "display_data",
       "png": "[encoded data removed]",
       "text": [
        "<matplotlib.figure.Figure at 0x10b1e9cd0>"
       ]
      }
     ],
     "prompt_number": 49
    },
    {
     "cell_type": "code",
     "collapsed": false,
     "input": [
      "mc_repeater = vars_df.num_match_cat[vars_df.repeater == 1].mean()\n",
      "mc_nonrepeater = vars_df.num_match_cat[vars_df.repeater == 0].mean()\n",
      "print \"Mean number of category matches:  repeater = {0:.1f}, non-repeater = {1:.1f}\".format(mc_repeater, mc_nonrepeater)"
     ],
     "language": "python",
     "metadata": {},
     "outputs": [
      {
       "output_type": "stream",
       "stream": "stdout",
       "text": [
        "Mean number of category matches:  repeater = 7.1, non-repeater = 3.8\n"
       ]
      }
     ],
     "prompt_number": 50
    },
    {
     "cell_type": "code",
     "collapsed": false,
     "input": [
      "vars_df.num_match_brand.hist(color='gray',bins=20)"
     ],
     "language": "python",
     "metadata": {},
     "outputs": [
      {
       "metadata": {},
       "output_type": "pyout",
       "prompt_number": 51,
       "text": [
        "<matplotlib.axes.AxesSubplot at 0x10d59b050>"
       ]
      },
      {
       "metadata": {},
       "output_type": "display_data",
       "png": "[encoded data removed]",
       "text": [
        "<matplotlib.figure.Figure at 0x10d5a6910>"
       ]
      }
     ],
     "prompt_number": 51
    },
    {
     "cell_type": "code",
     "collapsed": false,
     "input": [
      "sorted(vars_df.num_match_brand,reverse=True)[:20]"
     ],
     "language": "python",
     "metadata": {},
     "outputs": [
      {
       "metadata": {},
       "output_type": "pyout",
       "prompt_number": 52,
       "text": [
        "[1027,\n",
        " 219,\n",
        " 116,\n",
        " 102,\n",
        " 100,\n",
        " 88,\n",
        " 82,\n",
        " 80,\n",
        " 80,\n",
        " 79,\n",
        " 66,\n",
        " 66,\n",
        " 65,\n",
        " 65,\n",
        " 65,\n",
        " 60,\n",
        " 60,\n",
        " 58,\n",
        " 58,\n",
        " 57]"
       ]
      }
     ],
     "prompt_number": 52
    },
    {
     "cell_type": "code",
     "collapsed": false,
     "input": [
      "vars_df.num_match_cat[vars_df.num_match_cat > 60] = 60"
     ],
     "language": "python",
     "metadata": {},
     "outputs": [],
     "prompt_number": 64
    },
    {
     "cell_type": "code",
     "collapsed": false,
     "input": [
      "mb_repeater = vars_df.num_match_brand[vars_df.repeater == 1].mean()\n",
      "mb_nonrepeater = vars_df.num_match_brand[vars_df.repeater == 0].mean()\n",
      "print \"Mean number of brand matches:  repeater = {0:.1f}, non-repeater = {1:.1f}\".format(mb_repeater, mb_nonrepeater)"
     ],
     "language": "python",
     "metadata": {},
     "outputs": [
      {
       "output_type": "stream",
       "stream": "stdout",
       "text": [
        "Mean number of brand matches:  repeater = 3.9, non-repeater = 2.9\n"
       ]
      }
     ],
     "prompt_number": 65
    },
    {
     "cell_type": "code",
     "collapsed": false,
     "input": [
      "from sklearn import linear_model"
     ],
     "language": "python",
     "metadata": {},
     "outputs": [],
     "prompt_number": 7
    },
    {
     "cell_type": "code",
     "collapsed": false,
     "input": [
      "y_train_data23 = vars_df.repeater\n",
      "X_train_data23 = vars_df[xcols]"
     ],
     "language": "python",
     "metadata": {},
     "outputs": [],
     "prompt_number": 26
    },
    {
     "cell_type": "code",
     "collapsed": false,
     "input": [
      "lrmodel = linear_model.LogisticRegression()\n",
      "lrmodel"
     ],
     "language": "python",
     "metadata": {},
     "outputs": [
      {
       "metadata": {},
       "output_type": "pyout",
       "prompt_number": 33,
       "text": [
        "LogisticRegression(C=1.0, class_weight=None, dual=False, fit_intercept=True,\n",
        "          intercept_scaling=1, penalty='l2', random_state=None, tol=0.0001)"
       ]
      }
     ],
     "prompt_number": 33
    },
    {
     "cell_type": "code",
     "collapsed": false,
     "input": [
      "lrmodel.fit(X_train_data01,y_train_data01)"
     ],
     "language": "python",
     "metadata": {},
     "outputs": [
      {
       "metadata": {},
       "output_type": "pyout",
       "prompt_number": 34,
       "text": [
        "LogisticRegression(C=1.0, class_weight=None, dual=False, fit_intercept=True,\n",
        "          intercept_scaling=1, penalty='l2', random_state=None, tol=0.0001)"
       ]
      }
     ],
     "prompt_number": 34
    },
    {
     "cell_type": "code",
     "collapsed": false,
     "input": [
      "print(\"Training score: {0:.1f}%\".format(\n",
      "    lrmodel.score(X_train_data01,y_train_data01) * 100))"
     ],
     "language": "python",
     "metadata": {},
     "outputs": [
      {
       "output_type": "stream",
       "stream": "stdout",
       "text": [
        "Training score: 73.9%\n"
       ]
      }
     ],
     "prompt_number": 35
    },
    {
     "cell_type": "code",
     "collapsed": false,
     "input": [
      "print(\"Testig score: {0:.1f}%\".format(\n",
      "    lrmodel.score(X_train_data23,y_train_data23) * 100))"
     ],
     "language": "python",
     "metadata": {},
     "outputs": [
      {
       "output_type": "stream",
       "stream": "stdout",
       "text": [
        "Testig score: 74.2%\n"
       ]
      }
     ],
     "prompt_number": 36
    },
    {
     "cell_type": "code",
     "collapsed": false,
     "input": [
      "target_predicted_proba = lrmodel.predict_proba(X_train_data01)\n",
      "target_predicted_proba[:5]"
     ],
     "language": "python",
     "metadata": {},
     "outputs": [
      {
       "metadata": {},
       "output_type": "pyout",
       "prompt_number": 30,
       "text": [
        "array([[ 0.76366613,  0.23633387],\n",
        "       [ 0.75876962,  0.24123038],\n",
        "       [ 0.6619964 ,  0.3380036 ],\n",
        "       [ 0.7511965 ,  0.2488035 ],\n",
        "       [ 0.64886864,  0.35113136]])"
       ]
      }
     ],
     "prompt_number": 30
    },
    {
     "cell_type": "code",
     "collapsed": false,
     "input": [
      "def plot_roc_curve(target_test, target_predicted_proba, label):\n",
      "    from sklearn.metrics import roc_curve\n",
      "    from sklearn.metrics import auc\n",
      "    \n",
      "    fpr, tpr, thresholds = roc_curve(target_test, target_predicted_proba)\n",
      "    roc_auc = auc(fpr, tpr)\n",
      "    plt.plot(fpr, tpr, label='{} ROC curve (area = {:.3f})'.format(label, roc_auc))\n",
      "    \n",
      "    plt.plot([0, 1], [0, 1], 'k--')  # random predictions curve\n",
      "    plt.xlim([0.0, 1.0])\n",
      "    plt.ylim([0.0, 1.0])\n",
      "    plt.xlabel('False Positive Rate or (1 - Specificity)')\n",
      "    plt.ylabel('True Positive Rate or (Sensitivity)')\n",
      "    plt.title('Receiver Operating Characteristic')\n",
      "    plt.legend(loc=\"lower right\")"
     ],
     "language": "python",
     "metadata": {},
     "outputs": [],
     "prompt_number": 31
    },
    {
     "cell_type": "code",
     "collapsed": false,
     "input": [
      "plot_roc_curve(y_train_data01, target_predicted_proba[:,1], 'repeater')"
     ],
     "language": "python",
     "metadata": {},
     "outputs": [
      {
       "metadata": {},
       "output_type": "display_data",
       "png": "[encoded data removed]",
       "text": [
        "<matplotlib.figure.Figure at 0x109e55110>"
       ]
      }
     ],
     "prompt_number": 32
    },
    {
     "cell_type": "code",
     "collapsed": false,
     "input": [],
     "language": "python",
     "metadata": {},
     "outputs": []
    },
    {
     "cell_type": "code",
     "collapsed": false,
     "input": [],
     "language": "python",
     "metadata": {},
     "outputs": []
    },
    {
     "cell_type": "code",
     "collapsed": false,
     "input": [
      "lrmodel.coef_"
     ],
     "language": "python",
     "metadata": {},
     "outputs": [
      {
       "metadata": {},
       "output_type": "pyout",
       "prompt_number": 63,
       "text": [
        "array([[ -9.02240513e-02,  -1.06463399e-04,  -8.21603962e-04,\n",
        "         -1.56612306e-02,  -2.26983090e-03,   3.44354655e-05,\n",
        "          3.04508994e-02,  -2.62051501e-05]])"
       ]
      }
     ],
     "prompt_number": 63
    },
    {
     "cell_type": "code",
     "collapsed": false,
     "input": [
      "X_train_data.min()"
     ],
     "language": "python",
     "metadata": {},
     "outputs": [
      {
       "metadata": {},
       "output_type": "pyout",
       "prompt_number": 64,
       "text": [
        "offervalue           0.75\n",
        "num_purchases       10.00\n",
        "num_trips            4.00\n",
        "offer_delay          1.00\n",
        "shopper_lifetime    22.00\n",
        "total_purs_spend    38.67\n",
        "num_match_cat        0.00\n",
        "num_match_brand      0.00\n",
        "dtype: float64"
       ]
      }
     ],
     "prompt_number": 64
    },
    {
     "cell_type": "code",
     "collapsed": false,
     "input": [
      "X_train_data.max()"
     ],
     "language": "python",
     "metadata": {},
     "outputs": [
      {
       "metadata": {},
       "output_type": "pyout",
       "prompt_number": 65,
       "text": [
        "offervalue              3\n",
        "num_purchases        4000\n",
        "num_trips             412\n",
        "offer_delay            70\n",
        "shopper_lifetime      422\n",
        "total_purs_spend    20000\n",
        "num_match_cat          60\n",
        "num_match_brand      1027\n",
        "dtype: float64"
       ]
      }
     ],
     "prompt_number": 65
    },
    {
     "cell_type": "code",
     "collapsed": false,
     "input": [
      "X_train_dataN = X_train_data.copy()"
     ],
     "language": "python",
     "metadata": {},
     "outputs": [],
     "prompt_number": 94
    },
    {
     "cell_type": "code",
     "collapsed": false,
     "input": [
      "for col in X_train_dataN.columns:\n",
      "    X_train_dataN[col] = X_train_dataN[col]/X_train_dataN[col].max()"
     ],
     "language": "python",
     "metadata": {},
     "outputs": [],
     "prompt_number": 95
    },
    {
     "cell_type": "code",
     "collapsed": false,
     "input": [
      "from sklearn import linear_model\n",
      "lrmodelN = linear_model.LogisticRegression()\n",
      "lrmodelN.fit(X_train_dataN,y_train_data)\n",
      "print(\"Training score: {0:.1f}%\".format(\n",
      "    lrmodelN.score(X_train_dataN,y_train_data) * 100))"
     ],
     "language": "python",
     "metadata": {},
     "outputs": [
      {
       "output_type": "stream",
       "stream": "stdout",
       "text": [
        "Training score: 73.9%\n"
       ]
      }
     ],
     "prompt_number": 96
    },
    {
     "cell_type": "code",
     "collapsed": false,
     "input": [
      "target_predicted_proba = lrmodelN.predict_proba(X_train_dataN)\n",
      "# target_predicted_proba[:5]\n",
      "plot_roc_curve(y_train_data, target_predicted_proba[:,1], 'repeater')"
     ],
     "language": "python",
     "metadata": {},
     "outputs": [
      {
       "metadata": {},
       "output_type": "display_data",
       "png": "[encoded data removed]",
       "text": [
        "<matplotlib.figure.Figure at 0x10998d8d0>"
       ]
      }
     ],
     "prompt_number": 97
    },
    {
     "cell_type": "code",
     "collapsed": false,
     "input": [
      "lrmodelN.coef_"
     ],
     "language": "python",
     "metadata": {},
     "outputs": [
      {
       "metadata": {},
       "output_type": "pyout",
       "prompt_number": 78,
       "text": [
        "array([[-0.37685579, -0.57958095, -0.15770729, -0.45921908,  1.39855059,\n",
        "         0.8348612 ,  1.7510862 ,  0.27007391]])"
       ]
      }
     ],
     "prompt_number": 78
    },
    {
     "cell_type": "code",
     "collapsed": false,
     "input": [
      "X_train_dataL = X_train_data.copy()"
     ],
     "language": "python",
     "metadata": {},
     "outputs": [],
     "prompt_number": 71
    },
    {
     "cell_type": "code",
     "collapsed": false,
     "input": [
      "for col in X_train_dataL.columns:\n",
      "    X_train_dataL[col] = np.log(X_train_dataL[col]+1)"
     ],
     "language": "python",
     "metadata": {},
     "outputs": [],
     "prompt_number": 72
    },
    {
     "cell_type": "code",
     "collapsed": false,
     "input": [
      "# from sklearn import linear_model\n",
      "lrmodelL = linear_model.LogisticRegression()\n",
      "lrmodelL.fit(X_train_dataL,y_train_data)\n",
      "print(\"Training score: {0:.1f}%\".format(\n",
      "    lrmodelL.score(X_train_dataL,y_train_data) * 100))"
     ],
     "language": "python",
     "metadata": {},
     "outputs": [
      {
       "output_type": "stream",
       "stream": "stdout",
       "text": [
        "Training score: 74.0%\n"
       ]
      }
     ],
     "prompt_number": 73
    },
    {
     "cell_type": "code",
     "collapsed": false,
     "input": [
      "target_predicted_proba = lrmodelL.predict_proba(X_train_dataL)\n",
      "# target_predicted_proba[:5]\n",
      "plot_roc_curve(y_train_data, target_predicted_proba[:,1], 'repeater')"
     ],
     "language": "python",
     "metadata": {},
     "outputs": [
      {
       "metadata": {},
       "output_type": "display_data",
       "png": "[encoded data removed]",
       "text": [
        "<matplotlib.figure.Figure at 0x10f4d1910>"
       ]
      }
     ],
     "prompt_number": 74
    },
    {
     "cell_type": "code",
     "collapsed": false,
     "input": [
      "lrmodel.coef_"
     ],
     "language": "python",
     "metadata": {},
     "outputs": [
      {
       "metadata": {},
       "output_type": "pyout",
       "prompt_number": 75,
       "text": [
        "array([[ -9.02240513e-02,  -1.06463399e-04,  -8.21603962e-04,\n",
        "         -1.56612306e-02,  -2.26983090e-03,   3.44354655e-05,\n",
        "          3.04508994e-02,  -2.62051501e-05]])"
       ]
      }
     ],
     "prompt_number": 75
    },
    {
     "cell_type": "code",
     "collapsed": false,
     "input": [
      "lrmodelN.coef_"
     ],
     "language": "python",
     "metadata": {},
     "outputs": [
      {
       "metadata": {},
       "output_type": "pyout",
       "prompt_number": 76,
       "text": [
        "array([[-0.30452218, -0.33764791, -0.28862151, -0.57284377,  0.67601196,\n",
        "         0.52536919,  1.6871632 ,  0.19715413]])"
       ]
      }
     ],
     "prompt_number": 76
    },
    {
     "cell_type": "code",
     "collapsed": false,
     "input": [
      "lrmodelL.coef_"
     ],
     "language": "python",
     "metadata": {},
     "outputs": [
      {
       "metadata": {},
       "output_type": "pyout",
       "prompt_number": 77,
       "text": [
        "array([[-0.21466466, -0.13759615, -0.05510254, -0.11665053,  0.06794417,\n",
        "         0.12107867,  0.29834708,  0.01536696]])"
       ]
      }
     ],
     "prompt_number": 77
    },
    {
     "cell_type": "code",
     "collapsed": false,
     "input": [
      "bins_purs = range(0,80,2)\n",
      "X_train_data.num_match_cat[vars_df.repeater == 1].hist(bins=bins_purs,color='blue',alpha=.5)\n",
      "X_train_data.num_match_cat[vars_df.repeater == 0].hist(bins=bins_purs,color='gray',alpha=.5)"
     ],
     "language": "python",
     "metadata": {},
     "outputs": [
      {
       "metadata": {},
       "output_type": "pyout",
       "prompt_number": 78,
       "text": [
        "<matplotlib.axes.AxesSubplot at 0x10d430f90>"
       ]
      },
      {
       "metadata": {},
       "output_type": "display_data",
       "png": "[encoded data removed]",
       "text": [
        "<matplotlib.figure.Figure at 0x10d430610>"
       ]
      }
     ],
     "prompt_number": 78
    },
    {
     "cell_type": "code",
     "collapsed": false,
     "input": [
      "X_train_dataL.num_match_cat.max()"
     ],
     "language": "python",
     "metadata": {},
     "outputs": [
      {
       "metadata": {},
       "output_type": "pyout",
       "prompt_number": 79,
       "text": [
        "4.1108738641733114"
       ]
      }
     ],
     "prompt_number": 79
    },
    {
     "cell_type": "code",
     "collapsed": false,
     "input": [
      "bins_purs = np.arange(0,4.25,.25)\n",
      "X_train_dataL.num_match_cat[vars_df.repeater == 1].hist(bins=bins_purs,color='blue',alpha=.5)\n",
      "X_train_dataL.num_match_cat[vars_df.repeater == 0].hist(bins=bins_purs,color='gray',alpha=.5)"
     ],
     "language": "python",
     "metadata": {},
     "outputs": [
      {
       "metadata": {},
       "output_type": "pyout",
       "prompt_number": 80,
       "text": [
        "<matplotlib.axes.AxesSubplot at 0x10d4306d0>"
       ]
      },
      {
       "metadata": {},
       "output_type": "display_data",
       "png": "[encoded data removed]",
       "text": [
        "<matplotlib.figure.Figure at 0x10d27e7d0>"
       ]
      }
     ],
     "prompt_number": 80
    },
    {
     "cell_type": "code",
     "collapsed": false,
     "input": [
      "X_train_dataL1 = X_train_data.copy()"
     ],
     "language": "python",
     "metadata": {},
     "outputs": [],
     "prompt_number": 81
    },
    {
     "cell_type": "code",
     "collapsed": false,
     "input": [
      "for col in X_train_dataL1.columns:\n",
      "    X_train_dataL1[col] = np.log(X_train_dataL1[col]+1)"
     ],
     "language": "python",
     "metadata": {},
     "outputs": [],
     "prompt_number": 82
    },
    {
     "cell_type": "code",
     "collapsed": false,
     "input": [
      "# from sklearn import linear_model\n",
      "lrmodelL1 = linear_model.LogisticRegression(penalty='l1')\n",
      "lrmodelL1.fit(X_train_dataL1,y_train_data)\n",
      "print(\"Training score: {0:.1f}%\".format(\n",
      "    lrmodelL1.score(X_train_dataL1,y_train_data) * 100))"
     ],
     "language": "python",
     "metadata": {},
     "outputs": [
      {
       "output_type": "stream",
       "stream": "stdout",
       "text": [
        "Training score: 74.0%\n"
       ]
      }
     ],
     "prompt_number": 83
    },
    {
     "cell_type": "code",
     "collapsed": false,
     "input": [
      "target_predicted_proba = lrmodelL.predict_proba(X_train_dataL1)\n",
      "# target_predicted_proba[:5]\n",
      "plot_roc_curve(y_train_data, target_predicted_proba[:,1], 'repeater')"
     ],
     "language": "python",
     "metadata": {},
     "outputs": [
      {
       "metadata": {},
       "output_type": "display_data",
       "png": "[encoded data removed]",
       "text": [
        "<matplotlib.figure.Figure at 0x10b1a3e10>"
       ]
      }
     ],
     "prompt_number": 84
    },
    {
     "cell_type": "code",
     "collapsed": false,
     "input": [
      "lrmodelL.coef_"
     ],
     "language": "python",
     "metadata": {},
     "outputs": [
      {
       "metadata": {},
       "output_type": "pyout",
       "prompt_number": 85,
       "text": [
        "array([[-0.21466466, -0.13759615, -0.05510254, -0.11665053,  0.06794417,\n",
        "         0.12107867,  0.29834708,  0.01536696]])"
       ]
      }
     ],
     "prompt_number": 85
    },
    {
     "cell_type": "code",
     "collapsed": false,
     "input": [
      "lrmodelL1.coef_"
     ],
     "language": "python",
     "metadata": {},
     "outputs": [
      {
       "metadata": {},
       "output_type": "pyout",
       "prompt_number": 86,
       "text": [
        "array([[-0.19604445, -0.1132217 , -0.0489133 , -0.11285365,  0.01278073,\n",
        "         0.09950457,  0.29851823,  0.01212488]])"
       ]
      }
     ],
     "prompt_number": 86
    },
    {
     "cell_type": "code",
     "collapsed": false,
     "input": [
      "X_train_dataR = X_train_data.copy().rank()"
     ],
     "language": "python",
     "metadata": {},
     "outputs": [],
     "prompt_number": 79
    },
    {
     "cell_type": "code",
     "collapsed": false,
     "input": [
      "# from sklearn import linear_model\n",
      "lrmodelR = linear_model.LogisticRegression()\n",
      "lrmodelR.fit(X_train_dataR,y_train_data)\n",
      "print(\"Training score: {0:.1f}%\".format(\n",
      "    lrmodelR.score(X_train_dataR,y_train_data) * 100))"
     ],
     "language": "python",
     "metadata": {},
     "outputs": [
      {
       "output_type": "stream",
       "stream": "stdout",
       "text": [
        "Training score: 73.5%\n"
       ]
      }
     ],
     "prompt_number": 80
    },
    {
     "cell_type": "code",
     "collapsed": false,
     "input": [
      "target_predicted_proba = lrmodelR.predict_proba(X_train_dataR)\n",
      "# target_predicted_proba[:5]\n",
      "plot_roc_curve(y_train_data, target_predicted_proba[:,1], 'repeater')"
     ],
     "language": "python",
     "metadata": {},
     "outputs": [
      {
       "metadata": {},
       "output_type": "display_data",
       "png": "[encoded data removed]",
       "text": [
        "<matplotlib.figure.Figure at 0x10b12c290>"
       ]
      }
     ],
     "prompt_number": 83
    },
    {
     "cell_type": "code",
     "collapsed": false,
     "input": [
      "from sklearn import naive_bayes\n",
      "nbmodelMN = naive_bayes.MultinomialNB()\n",
      "nbmodelMN.fit(X_train_data,y_train_data)\n",
      "print(\"Training score: {0:.1f}%\".format(\n",
      "    nbmodelMN.score(X_train_data,y_train_data) * 100))"
     ],
     "language": "python",
     "metadata": {},
     "outputs": [
      {
       "output_type": "stream",
       "stream": "stdout",
       "text": [
        "Training score: 59.0%\n"
       ]
      }
     ],
     "prompt_number": 90
    },
    {
     "cell_type": "code",
     "collapsed": false,
     "input": [
      "target_predicted_proba = nbmodelMN.predict_proba(X_train_data)\n",
      "# target_predicted_proba[:5]\n",
      "plot_roc_curve(y_train_data, target_predicted_proba[:,1], 'repeater')"
     ],
     "language": "python",
     "metadata": {},
     "outputs": [
      {
       "metadata": {},
       "output_type": "display_data",
       "png": "[encoded data removed]",
       "text": [
        "<matplotlib.figure.Figure at 0x10b18c790>"
       ]
      }
     ],
     "prompt_number": 91
    },
    {
     "cell_type": "code",
     "collapsed": false,
     "input": [
      "X_train_dataL = X_train_data.copy()\n",
      "for col in X_train_dataL.columns:\n",
      "    X_train_dataL[col] = np.log(X_train_dataL[col]+1)"
     ],
     "language": "python",
     "metadata": {},
     "outputs": [],
     "prompt_number": 92
    },
    {
     "cell_type": "code",
     "collapsed": false,
     "input": [
      "# from sklearn import naive_bayes\n",
      "nbmodelMNL = naive_bayes.MultinomialNB()\n",
      "nbmodelMNL.fit(X_train_dataL,y_train_data)\n",
      "print(\"Training score: {0:.1f}%\".format(\n",
      "    nbmodelMN.score(X_train_data,y_train_data) * 100))"
     ],
     "language": "python",
     "metadata": {},
     "outputs": [
      {
       "output_type": "stream",
       "stream": "stdout",
       "text": [
        "Training score: 59.0%\n"
       ]
      }
     ],
     "prompt_number": 93
    },
    {
     "cell_type": "code",
     "collapsed": false,
     "input": [],
     "language": "python",
     "metadata": {},
     "outputs": []
    },
    {
     "cell_type": "markdown",
     "metadata": {},
     "source": [
      "### Reduce from 8 to 5 parameters"
     ]
    },
    {
     "cell_type": "code",
     "collapsed": false,
     "input": [
      "xcols = vars_df.columns[[12,13,16,19,20]]\n",
      "xcols"
     ],
     "language": "python",
     "metadata": {},
     "outputs": [
      {
       "metadata": {},
       "output_type": "pyout",
       "prompt_number": 84,
       "text": [
        "Index([u'num_purchases', u'num_trips', u'offer_delay', u'total_purs_spend', u'num_match_cat'], dtype='object')"
       ]
      }
     ],
     "prompt_number": 84
    },
    {
     "cell_type": "code",
     "collapsed": false,
     "input": [
      "y_train_data = vars_df.repeater\n",
      "X_train_dataN = vars_df[xcols]"
     ],
     "language": "python",
     "metadata": {},
     "outputs": [],
     "prompt_number": 85
    },
    {
     "cell_type": "code",
     "collapsed": false,
     "input": [
      "for col in X_train_dataN.columns:\n",
      "    X_train_dataN[col] = X_train_dataN[col]/X_train_dataN[col].max()"
     ],
     "language": "python",
     "metadata": {},
     "outputs": [],
     "prompt_number": 86
    },
    {
     "cell_type": "code",
     "collapsed": false,
     "input": [
      "from sklearn import linear_model\n",
      "lrmodelN = linear_model.LogisticRegression()\n",
      "lrmodelN.fit(X_train_dataN,y_train_data)\n",
      "print(\"Training score: {0:.1f}%\".format(\n",
      "    lrmodelN.score(X_train_dataN,y_train_data) * 100))"
     ],
     "language": "python",
     "metadata": {},
     "outputs": [
      {
       "output_type": "stream",
       "stream": "stdout",
       "text": [
        "Training score: 73.9%\n"
       ]
      }
     ],
     "prompt_number": 87
    },
    {
     "cell_type": "code",
     "collapsed": false,
     "input": [
      "target_predicted_proba = lrmodelN.predict_proba(X_train_dataN)\n",
      "# target_predicted_proba[:5]\n",
      "plot_roc_curve(y_train_data, target_predicted_proba[:,1], 'repeater')"
     ],
     "language": "python",
     "metadata": {},
     "outputs": [
      {
       "metadata": {},
       "output_type": "display_data",
       "png": "[encoded data removed]",
       "text": [
        "<matplotlib.figure.Figure at 0x100482710>"
       ]
      }
     ],
     "prompt_number": 88
    },
    {
     "cell_type": "code",
     "collapsed": false,
     "input": [
      "# y_train_data = vars_df.repeater\n",
      "X_train_dataN = vars_df[xcols]"
     ],
     "language": "python",
     "metadata": {},
     "outputs": [],
     "prompt_number": 42
    },
    {
     "cell_type": "code",
     "collapsed": false,
     "input": [
      "for col in X_train_dataN.columns:\n",
      "    X_train_dataN[col] = X_train_dataN[col]/X_train_dataN[col].max()"
     ],
     "language": "python",
     "metadata": {},
     "outputs": [],
     "prompt_number": 43
    },
    {
     "cell_type": "code",
     "collapsed": false,
     "input": [
      "lrmodelN = linear_model.LogisticRegression(C=0.5)\n",
      "lrmodelN.fit(X_train_dataN,y_train_data)\n",
      "print(\"Training score: {0:.1f}%\".format(\n",
      "    lrmodelN.score(X_train_dataN,y_train_data) * 100))"
     ],
     "language": "python",
     "metadata": {},
     "outputs": [
      {
       "output_type": "stream",
       "stream": "stdout",
       "text": [
        "Training score: 73.9%\n"
       ]
      }
     ],
     "prompt_number": 44
    },
    {
     "cell_type": "code",
     "collapsed": false,
     "input": [
      "lrmodelN = linear_model.LogisticRegression(C=0.8)\n",
      "lrmodelN.fit(X_train_dataN,y_train_data)\n",
      "print(\"Training score: {0:.1f}%\".format(\n",
      "    lrmodelN.score(X_train_dataN,y_train_data) * 100))"
     ],
     "language": "python",
     "metadata": {},
     "outputs": [
      {
       "output_type": "stream",
       "stream": "stdout",
       "text": [
        "Training score: 73.9%\n"
       ]
      }
     ],
     "prompt_number": 45
    },
    {
     "cell_type": "code",
     "collapsed": false,
     "input": [
      "lrmodelN = linear_model.LogisticRegression(C=0.2)\n",
      "lrmodelN.fit(X_train_dataN,y_train_data)\n",
      "print(\"Training score: {0:.1f}%\".format(\n",
      "    lrmodelN.score(X_train_dataN,y_train_data) * 100))"
     ],
     "language": "python",
     "metadata": {},
     "outputs": [
      {
       "output_type": "stream",
       "stream": "stdout",
       "text": [
        "Training score: 73.9%\n"
       ]
      }
     ],
     "prompt_number": 46
    },
    {
     "cell_type": "code",
     "collapsed": false,
     "input": [
      "y_train_data = vars_df.repeater\n",
      "X_train_data = vars_df[xcols]"
     ],
     "language": "python",
     "metadata": {},
     "outputs": [],
     "prompt_number": 47
    },
    {
     "cell_type": "code",
     "collapsed": false,
     "input": [
      "from sklearn import linear_model\n",
      "lrmodel = linear_model.LogisticRegression(C=0.2)\n",
      "lrmodel.fit(X_train_data,y_train_data)\n",
      "print(\"Training score: {0:.1f}%\".format(\n",
      "    lrmodel.score(X_train_data,y_train_data) * 100))"
     ],
     "language": "python",
     "metadata": {},
     "outputs": [
      {
       "output_type": "stream",
       "stream": "stdout",
       "text": [
        "Training score: 73.9%\n"
       ]
      }
     ],
     "prompt_number": 48
    },
    {
     "cell_type": "code",
     "collapsed": false,
     "input": [],
     "language": "python",
     "metadata": {},
     "outputs": []
    },
    {
     "cell_type": "code",
     "collapsed": false,
     "input": [],
     "language": "python",
     "metadata": {},
     "outputs": []
    },
    {
     "cell_type": "code",
     "collapsed": false,
     "input": [
      "testdf = pd.DataFrame(np.random.randint(1,100,2000).reshape(500,4),columns=['a','b','c','d'])"
     ],
     "language": "python",
     "metadata": {},
     "outputs": [],
     "prompt_number": 7
    },
    {
     "cell_type": "code",
     "collapsed": false,
     "input": [
      "testdf.describe()"
     ],
     "language": "python",
     "metadata": {},
     "outputs": [
      {
       "html": [
        "<div style=\"max-height:1000px;max-width:1500px;overflow:auto;\">\n",
        "<table border=\"1\" class=\"dataframe\">\n",
        "  <thead>\n",
        "    <tr style=\"text-align: right;\">\n",
        "      <th></th>\n",
        "      <th>a</th>\n",
        "      <th>b</th>\n",
        "      <th>c</th>\n",
        "      <th>d</th>\n",
        "    </tr>\n",
        "  </thead>\n",
        "  <tbody>\n",
        "    <tr>\n",
        "      <th>count</th>\n",
        "      <td> 500.00000</td>\n",
        "      <td> 500.000000</td>\n",
        "      <td> 500.000000</td>\n",
        "      <td> 500.000000</td>\n",
        "    </tr>\n",
        "    <tr>\n",
        "      <th>mean</th>\n",
        "      <td>  50.62800</td>\n",
        "      <td>  50.988000</td>\n",
        "      <td>  51.108000</td>\n",
        "      <td>  48.594000</td>\n",
        "    </tr>\n",
        "    <tr>\n",
        "      <th>std</th>\n",
        "      <td>  27.85033</td>\n",
        "      <td>  28.234557</td>\n",
        "      <td>  28.968235</td>\n",
        "      <td>  28.887196</td>\n",
        "    </tr>\n",
        "    <tr>\n",
        "      <th>min</th>\n",
        "      <td>   1.00000</td>\n",
        "      <td>   1.000000</td>\n",
        "      <td>   1.000000</td>\n",
        "      <td>   1.000000</td>\n",
        "    </tr>\n",
        "    <tr>\n",
        "      <th>25%</th>\n",
        "      <td>  27.00000</td>\n",
        "      <td>  26.000000</td>\n",
        "      <td>  26.000000</td>\n",
        "      <td>  23.000000</td>\n",
        "    </tr>\n",
        "    <tr>\n",
        "      <th>50%</th>\n",
        "      <td>  52.00000</td>\n",
        "      <td>  52.000000</td>\n",
        "      <td>  51.000000</td>\n",
        "      <td>  51.000000</td>\n",
        "    </tr>\n",
        "    <tr>\n",
        "      <th>75%</th>\n",
        "      <td>  74.00000</td>\n",
        "      <td>  76.000000</td>\n",
        "      <td>  78.000000</td>\n",
        "      <td>  72.000000</td>\n",
        "    </tr>\n",
        "    <tr>\n",
        "      <th>max</th>\n",
        "      <td>  99.00000</td>\n",
        "      <td>  99.000000</td>\n",
        "      <td>  99.000000</td>\n",
        "      <td>  99.000000</td>\n",
        "    </tr>\n",
        "  </tbody>\n",
        "</table>\n",
        "<p>8 rows \u00d7 4 columns</p>\n",
        "</div>"
       ],
       "metadata": {},
       "output_type": "pyout",
       "prompt_number": 108,
       "text": [
        "               a           b           c           d\n",
        "count  500.00000  500.000000  500.000000  500.000000\n",
        "mean    50.62800   50.988000   51.108000   48.594000\n",
        "std     27.85033   28.234557   28.968235   28.887196\n",
        "min      1.00000    1.000000    1.000000    1.000000\n",
        "25%     27.00000   26.000000   26.000000   23.000000\n",
        "50%     52.00000   52.000000   51.000000   51.000000\n",
        "75%     74.00000   76.000000   78.000000   72.000000\n",
        "max     99.00000   99.000000   99.000000   99.000000\n",
        "\n",
        "[8 rows x 4 columns]"
       ]
      }
     ],
     "prompt_number": 108
    },
    {
     "cell_type": "code",
     "collapsed": false,
     "input": [
      "testy = .2*testdf.a + 1.3*testdf.b + 1*testdf.c + 5*testdf.d + np.random.randint(1,30,500)"
     ],
     "language": "python",
     "metadata": {},
     "outputs": [],
     "prompt_number": 8
    },
    {
     "cell_type": "code",
     "collapsed": false,
     "input": [
      "testy.describe()"
     ],
     "language": "python",
     "metadata": {},
     "outputs": [
      {
       "metadata": {},
       "output_type": "pyout",
       "prompt_number": 110,
       "text": [
        "count    500.00000\n",
        "mean     375.53000\n",
        "std      152.89639\n",
        "min       39.20000\n",
        "25%      246.97500\n",
        "50%      384.60000\n",
        "75%      502.60000\n",
        "max      693.70000\n",
        "dtype: float64"
       ]
      }
     ],
     "prompt_number": 110
    },
    {
     "cell_type": "code",
     "collapsed": false,
     "input": [
      "testy2 = testy.copy()\n",
      "testy2[testy>250] = 1\n",
      "testy2[testy<=250] = 0\n",
      "testy2.describe()"
     ],
     "language": "python",
     "metadata": {},
     "outputs": [
      {
       "metadata": {},
       "output_type": "pyout",
       "prompt_number": 9,
       "text": [
        "count    500.000000\n",
        "mean       0.820000\n",
        "std        0.384572\n",
        "min        0.000000\n",
        "25%        1.000000\n",
        "50%        1.000000\n",
        "75%        1.000000\n",
        "max        1.000000\n",
        "dtype: float64"
       ]
      }
     ],
     "prompt_number": 9
    },
    {
     "cell_type": "code",
     "collapsed": false,
     "input": [
      "lrmodel_test = linear_model.LogisticRegression(C=1)\n",
      "lrmodel_test.fit(testdf,testy2)\n",
      "print(\"Training score: {0:.1f}%\".format(\n",
      "    lrmodel_test.score(testdf,testy2) * 100))"
     ],
     "language": "python",
     "metadata": {},
     "outputs": [
      {
       "output_type": "stream",
       "stream": "stdout",
       "text": [
        "Training score: 96.0%\n"
       ]
      }
     ],
     "prompt_number": 10
    },
    {
     "cell_type": "code",
     "collapsed": false,
     "input": [
      "target_predicted_proba = lrmodel_test.predict_proba(testdf)\n",
      "# target_predicted_proba[:5]\n",
      "plot_roc_curve(testy2, target_predicted_proba[:,1], 'repeater')"
     ],
     "language": "python",
     "metadata": {},
     "outputs": [
      {
       "metadata": {},
       "output_type": "display_data",
       "png": "[encoded data removed]",
       "text": [
        "<matplotlib.figure.Figure at 0x10a442210>"
       ]
      }
     ],
     "prompt_number": 13
    },
    {
     "cell_type": "code",
     "collapsed": false,
     "input": [],
     "language": "python",
     "metadata": {},
     "outputs": []
    },
    {
     "cell_type": "code",
     "collapsed": false,
     "input": [
      "xcols = 20\n",
      "y_train_data = vars_df.repeater\n",
      "X_train_data = vars_df[[xcols]]\n",
      "X_train_data.describe()"
     ],
     "language": "python",
     "metadata": {},
     "outputs": [
      {
       "html": [
        "<div style=\"max-height:1000px;max-width:1500px;overflow:auto;\">\n",
        "<table border=\"1\" class=\"dataframe\">\n",
        "  <thead>\n",
        "    <tr style=\"text-align: right;\">\n",
        "      <th></th>\n",
        "      <th>num_match_cat</th>\n",
        "    </tr>\n",
        "  </thead>\n",
        "  <tbody>\n",
        "    <tr>\n",
        "      <th>count</th>\n",
        "      <td> 19010.000000</td>\n",
        "    </tr>\n",
        "    <tr>\n",
        "      <th>mean</th>\n",
        "      <td>     4.676486</td>\n",
        "    </tr>\n",
        "    <tr>\n",
        "      <th>std</th>\n",
        "      <td>     9.709258</td>\n",
        "    </tr>\n",
        "    <tr>\n",
        "      <th>min</th>\n",
        "      <td>     0.000000</td>\n",
        "    </tr>\n",
        "    <tr>\n",
        "      <th>25%</th>\n",
        "      <td>     0.000000</td>\n",
        "    </tr>\n",
        "    <tr>\n",
        "      <th>50%</th>\n",
        "      <td>     1.000000</td>\n",
        "    </tr>\n",
        "    <tr>\n",
        "      <th>75%</th>\n",
        "      <td>     4.000000</td>\n",
        "    </tr>\n",
        "    <tr>\n",
        "      <th>max</th>\n",
        "      <td>    60.000000</td>\n",
        "    </tr>\n",
        "  </tbody>\n",
        "</table>\n",
        "<p>8 rows \u00d7 1 columns</p>\n",
        "</div>"
       ],
       "metadata": {},
       "output_type": "pyout",
       "prompt_number": 126,
       "text": [
        "       num_match_cat\n",
        "count   19010.000000\n",
        "mean        4.676486\n",
        "std         9.709258\n",
        "min         0.000000\n",
        "25%         0.000000\n",
        "50%         1.000000\n",
        "75%         4.000000\n",
        "max        60.000000\n",
        "\n",
        "[8 rows x 1 columns]"
       ]
      }
     ],
     "prompt_number": 126
    },
    {
     "cell_type": "code",
     "collapsed": false,
     "input": [
      "from sklearn import linear_model\n",
      "lrmodel = linear_model.LogisticRegression(C=1)\n",
      "lrmodel.fit(X_train_data,y_train_data)\n",
      "print(\"Training score: {0:.1f}%\".format(\n",
      "    lrmodel.score(X_train_data,y_train_data) * 100))"
     ],
     "language": "python",
     "metadata": {},
     "outputs": [
      {
       "output_type": "stream",
       "stream": "stdout",
       "text": [
        "Training score: 73.8%\n"
       ]
      }
     ],
     "prompt_number": 127
    },
    {
     "cell_type": "code",
     "collapsed": false,
     "input": [
      "bins_purs = range(0,60,2)\n",
      "vars_df.num_match_cat[vars_df.repeater == 1].hist(bins=bins_purs,color='blue',alpha=.5)\n",
      "vars_df.num_match_cat[vars_df.repeater == 0].hist(bins=bins_purs,color='gray',alpha=.5)"
     ],
     "language": "python",
     "metadata": {},
     "outputs": [
      {
       "metadata": {},
       "output_type": "pyout",
       "prompt_number": 129,
       "text": [
        "<matplotlib.axes.AxesSubplot at 0x103aee5d0>"
       ]
      },
      {
       "metadata": {},
       "output_type": "display_data",
       "png": "[encoded data removed]",
       "text": [
        "<matplotlib.figure.Figure at 0x103acc2d0>"
       ]
      }
     ],
     "prompt_number": 129
    },
    {
     "cell_type": "code",
     "collapsed": false,
     "input": [
      "ts_repeater = vars_df.num_match_cat[vars_df.repeater == 1].mean()\n",
      "ts_nonrepeater = vars_df.num_match_cat[vars_df.repeater == 0].mean()\n",
      "print \"Mean num match cat:  repeater = {0:.1f}, non-repeater = {1:.1f}\".format(ts_repeater, ts_nonrepeater)"
     ],
     "language": "python",
     "metadata": {},
     "outputs": [
      {
       "output_type": "stream",
       "stream": "stdout",
       "text": [
        "Mean num match cat:  repeater = 7.3, non-repeater = 3.7\n"
       ]
      }
     ],
     "prompt_number": 131
    },
    {
     "cell_type": "code",
     "collapsed": false,
     "input": [
      "vars_df.num_match_cat[vars_df.num_match_cat > 0].count()"
     ],
     "language": "python",
     "metadata": {},
     "outputs": [
      {
       "metadata": {},
       "output_type": "pyout",
       "prompt_number": 132,
       "text": [
        "9693"
       ]
      }
     ],
     "prompt_number": 132
    },
    {
     "cell_type": "code",
     "collapsed": false,
     "input": [
      "vars_df.num_match_cat.count()"
     ],
     "language": "python",
     "metadata": {},
     "outputs": [
      {
       "metadata": {},
       "output_type": "pyout",
       "prompt_number": 133,
       "text": [
        "19010"
       ]
      }
     ],
     "prompt_number": 133
    },
    {
     "cell_type": "code",
     "collapsed": false,
     "input": [
      "9693.0/19010"
     ],
     "language": "python",
     "metadata": {},
     "outputs": [
      {
       "metadata": {},
       "output_type": "pyout",
       "prompt_number": 135,
       "text": [
        "0.5098895318253551"
       ]
      }
     ],
     "prompt_number": 135
    },
    {
     "cell_type": "code",
     "collapsed": false,
     "input": [],
     "language": "python",
     "metadata": {},
     "outputs": []
    }
   ],
   "metadata": {}
  }
 ]
}