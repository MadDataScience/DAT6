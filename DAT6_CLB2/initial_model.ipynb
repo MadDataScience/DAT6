{
 "metadata": {
  "name": "",
  "signature": "sha256:5f208912682ca25939ffea0507f06404e2f6264a1282829b3d7d3f1bc3de9e87"
 },
 "nbformat": 3,
 "nbformat_minor": 0,
 "worksheets": [
  {
   "cells": [
    {
     "cell_type": "markdown",
     "metadata": {},
     "source": [
      "### File 3:  Initial model\n",
      "#### In this file, I build an initial model, working out the kinks, with the dataset in transactions0."
     ]
    },
    {
     "cell_type": "code",
     "collapsed": false,
     "input": [
      "%matplotlib inline\n",
      "import numpy as np\n",
      "import pandas as pd\n",
      "import sqlite3\n",
      "import matplotlib.pyplot as plt\n",
      "# import scipy.stats as stats\n",
      "import statsmodels.api as sm\n",
      "# import statsmodels.formula.api as smf\n",
      "\n",
      "from pandas.io import sql\n",
      "conn = sqlite3.connect('shopping.db')"
     ],
     "language": "python",
     "metadata": {},
     "outputs": [],
     "prompt_number": 119
    },
    {
     "cell_type": "code",
     "collapsed": false,
     "input": [
      "%load_ext sql"
     ],
     "language": "python",
     "metadata": {},
     "outputs": [
      {
       "output_type": "stream",
       "stream": "stdout",
       "text": [
        "The sql extension is already loaded. To reload it, use:\n",
        "  %reload_ext sql\n"
       ]
      }
     ],
     "prompt_number": 120
    },
    {
     "cell_type": "code",
     "collapsed": false,
     "input": [
      "%%bash\n",
      "sqlite3 shopping.db .tables"
     ],
     "language": "python",
     "metadata": {},
     "outputs": [
      {
       "output_type": "stream",
       "stream": "stdout",
       "text": [
        "history         shopvars        transactions2   transactions5   transactions8 \n",
        "history_offers  transactions0   transactions3   transactions6   transactions9 \n",
        "offers          transactions1   transactions4   transactions7 \n"
       ]
      }
     ],
     "prompt_number": 121
    },
    {
     "cell_type": "code",
     "collapsed": false,
     "input": [
      "%%sql sqlite:///shopping.db\n",
      "SELECT * FROM history_offers LIMIT 5"
     ],
     "language": "python",
     "metadata": {},
     "outputs": [
      {
       "output_type": "stream",
       "stream": "stdout",
       "text": [
        "Done.\n"
       ]
      },
      {
       "html": [
        "<table>\n",
        "    <tr>\n",
        "        <th>id</th>\n",
        "        <th>offerdate</th>\n",
        "        <th>offer</th>\n",
        "        <th>chain</th>\n",
        "        <th>market</th>\n",
        "        <th>repeattrips</th>\n",
        "        <th>repeater</th>\n",
        "        <th>category</th>\n",
        "        <th>quantity</th>\n",
        "        <th>company</th>\n",
        "        <th>offervalue</th>\n",
        "        <th>brand</th>\n",
        "    </tr>\n",
        "    <tr>\n",
        "        <td>86246</td>\n",
        "        <td>2013-04-24</td>\n",
        "        <td>1208251</td>\n",
        "        <td>205</td>\n",
        "        <td>34</td>\n",
        "        <td>5</td>\n",
        "        <td>t</td>\n",
        "        <td>2202</td>\n",
        "        <td>1</td>\n",
        "        <td>104460040</td>\n",
        "        <td>2</td>\n",
        "        <td>3718</td>\n",
        "    </tr>\n",
        "    <tr>\n",
        "        <td>86252</td>\n",
        "        <td>2013-03-27</td>\n",
        "        <td>1197502</td>\n",
        "        <td>205</td>\n",
        "        <td>34</td>\n",
        "        <td>16</td>\n",
        "        <td>t</td>\n",
        "        <td>3203</td>\n",
        "        <td>1</td>\n",
        "        <td>106414464</td>\n",
        "        <td>0.75</td>\n",
        "        <td>13474</td>\n",
        "    </tr>\n",
        "    <tr>\n",
        "        <td>12682470</td>\n",
        "        <td>2013-03-28</td>\n",
        "        <td>1197502</td>\n",
        "        <td>18</td>\n",
        "        <td>11</td>\n",
        "        <td>0</td>\n",
        "        <td>f</td>\n",
        "        <td>3203</td>\n",
        "        <td>1</td>\n",
        "        <td>106414464</td>\n",
        "        <td>0.75</td>\n",
        "        <td>13474</td>\n",
        "    </tr>\n",
        "    <tr>\n",
        "        <td>12996040</td>\n",
        "        <td>2013-03-25</td>\n",
        "        <td>1197502</td>\n",
        "        <td>15</td>\n",
        "        <td>9</td>\n",
        "        <td>0</td>\n",
        "        <td>f</td>\n",
        "        <td>3203</td>\n",
        "        <td>1</td>\n",
        "        <td>106414464</td>\n",
        "        <td>0.75</td>\n",
        "        <td>13474</td>\n",
        "    </tr>\n",
        "    <tr>\n",
        "        <td>13089312</td>\n",
        "        <td>2013-04-01</td>\n",
        "        <td>1204821</td>\n",
        "        <td>15</td>\n",
        "        <td>9</td>\n",
        "        <td>0</td>\n",
        "        <td>f</td>\n",
        "        <td>5619</td>\n",
        "        <td>1</td>\n",
        "        <td>107717272</td>\n",
        "        <td>1.5</td>\n",
        "        <td>102504</td>\n",
        "    </tr>\n",
        "</table>"
       ],
       "metadata": {},
       "output_type": "pyout",
       "prompt_number": 118,
       "text": [
        "[(86246, u'2013-04-24', 1208251, 205, 34, 5, u't', 2202, 1, 104460040, 2, 3718),\n",
        " (86252, u'2013-03-27', 1197502, 205, 34, 16, u't', 3203, 1, 106414464, 0.75, 13474),\n",
        " (12682470, u'2013-03-28', 1197502, 18, 11, 0, u'f', 3203, 1, 106414464, 0.75, 13474),\n",
        " (12996040, u'2013-03-25', 1197502, 15, 9, 0, u'f', 3203, 1, 106414464, 0.75, 13474),\n",
        " (13089312, u'2013-04-01', 1204821, 15, 9, 0, u'f', 5619, 1, 107717272, 1.5, 102504)]"
       ]
      }
     ],
     "prompt_number": 118
    },
    {
     "cell_type": "code",
     "collapsed": false,
     "input": [
      "%%sql sqlite:///shopping.db\n",
      "SELECT * FROM transactions0 LIMIT 5"
     ],
     "language": "python",
     "metadata": {},
     "outputs": [
      {
       "output_type": "stream",
       "stream": "stdout",
       "text": [
        "Done.\n"
       ]
      },
      {
       "html": [
        "<table>\n",
        "    <tr>\n",
        "        <th>id</th>\n",
        "        <th>chain</th>\n",
        "        <th>dept</th>\n",
        "        <th>category</th>\n",
        "        <th>company</th>\n",
        "        <th>brand</th>\n",
        "        <th>date</th>\n",
        "        <th>productsize</th>\n",
        "        <th>productmeasure</th>\n",
        "        <th>purchasequantity</th>\n",
        "        <th>purchaseamount</th>\n",
        "    </tr>\n",
        "    <tr>\n",
        "        <td>13089312</td>\n",
        "        <td>15</td>\n",
        "        <td>96</td>\n",
        "        <td>9632</td>\n",
        "        <td>107675070</td>\n",
        "        <td>52936</td>\n",
        "        <td>2012-03-05</td>\n",
        "        <td>1</td>\n",
        "        <td>CT</td>\n",
        "        <td>1</td>\n",
        "        <td>15</td>\n",
        "    </tr>\n",
        "    <tr>\n",
        "        <td>13089312</td>\n",
        "        <td>15</td>\n",
        "        <td>58</td>\n",
        "        <td>5811</td>\n",
        "        <td>102113020</td>\n",
        "        <td>28503</td>\n",
        "        <td>2012-03-05</td>\n",
        "        <td>8</td>\n",
        "        <td>OZ</td>\n",
        "        <td>1</td>\n",
        "        <td>5.99</td>\n",
        "    </tr>\n",
        "    <tr>\n",
        "        <td>13089312</td>\n",
        "        <td>15</td>\n",
        "        <td>99</td>\n",
        "        <td>9902</td>\n",
        "        <td>107432676</td>\n",
        "        <td>1161</td>\n",
        "        <td>2012-03-05</td>\n",
        "        <td>14</td>\n",
        "        <td>OZ</td>\n",
        "        <td>1</td>\n",
        "        <td>1.25</td>\n",
        "    </tr>\n",
        "    <tr>\n",
        "        <td>13089312</td>\n",
        "        <td>15</td>\n",
        "        <td>58</td>\n",
        "        <td>5823</td>\n",
        "        <td>107300777</td>\n",
        "        <td>3899</td>\n",
        "        <td>2012-03-05</td>\n",
        "        <td>5</td>\n",
        "        <td>OZ</td>\n",
        "        <td>1</td>\n",
        "        <td>4.99</td>\n",
        "    </tr>\n",
        "    <tr>\n",
        "        <td>13089312</td>\n",
        "        <td>15</td>\n",
        "        <td>37</td>\n",
        "        <td>3706</td>\n",
        "        <td>104119646</td>\n",
        "        <td>14582</td>\n",
        "        <td>2012-03-05</td>\n",
        "        <td>19</td>\n",
        "        <td>OZ</td>\n",
        "        <td>2</td>\n",
        "        <td>3.78</td>\n",
        "    </tr>\n",
        "</table>"
       ],
       "metadata": {},
       "output_type": "pyout",
       "prompt_number": 4,
       "text": [
        "[(13089312, 15, 96, 9632, 107675070, 52936, u'2012-03-05', 1, u'CT', 1, 15),\n",
        " (13089312, 15, 58, 5811, 102113020, 28503, u'2012-03-05', 8, u'OZ', 1, 5.99),\n",
        " (13089312, 15, 99, 9902, 107432676, 1161, u'2012-03-05', 14, u'OZ', 1, 1.25),\n",
        " (13089312, 15, 58, 5823, 107300777, 3899, u'2012-03-05', 5, u'OZ', 1, 4.99),\n",
        " (13089312, 15, 37, 3706, 104119646, 14582, u'2012-03-05', 19, u'OZ', 2, 3.78)]"
       ]
      }
     ],
     "prompt_number": 4
    },
    {
     "cell_type": "markdown",
     "metadata": {},
     "source": [
      "#### Extracting variables to use in model"
     ]
    },
    {
     "cell_type": "code",
     "collapsed": false,
     "input": [
      "# Number of purchases each shopper made\n",
      "vars_df = sql.frame_query(\"\"\"\n",
      "    SELECT * FROM shopvars\n",
      "    WHERE num_purchases IS NOT NULL\n",
      "    \"\"\", conn, \"id\")"
     ],
     "language": "python",
     "metadata": {},
     "outputs": [],
     "prompt_number": 124
    },
    {
     "cell_type": "code",
     "collapsed": false,
     "input": [
      "vars_df.describe().T"
     ],
     "language": "python",
     "metadata": {},
     "outputs": [
      {
       "html": [
        "<div style=\"max-height:1000px;max-width:1500px;overflow:auto;\">\n",
        "<table border=\"1\" class=\"dataframe\">\n",
        "  <thead>\n",
        "    <tr style=\"text-align: right;\">\n",
        "      <th></th>\n",
        "      <th>count</th>\n",
        "      <th>mean</th>\n",
        "      <th>std</th>\n",
        "      <th>min</th>\n",
        "      <th>25%</th>\n",
        "      <th>50%</th>\n",
        "      <th>75%</th>\n",
        "      <th>max</th>\n",
        "    </tr>\n",
        "  </thead>\n",
        "  <tbody>\n",
        "    <tr>\n",
        "      <th>repeater</th>\n",
        "      <td> 3152</td>\n",
        "      <td> 2.553934e-01</td>\n",
        "      <td> 4.361513e-01</td>\n",
        "      <td> 0.000000e+00</td>\n",
        "      <td> 0.000000e+00</td>\n",
        "      <td> 0.000000e+00</td>\n",
        "      <td> 1.000000e+00</td>\n",
        "      <td> 1.000000e+00</td>\n",
        "    </tr>\n",
        "    <tr>\n",
        "      <th>repeattrips</th>\n",
        "      <td> 3152</td>\n",
        "      <td> 5.558376e-01</td>\n",
        "      <td> 1.539924e+00</td>\n",
        "      <td> 0.000000e+00</td>\n",
        "      <td> 0.000000e+00</td>\n",
        "      <td> 0.000000e+00</td>\n",
        "      <td> 1.000000e+00</td>\n",
        "      <td> 2.200000e+01</td>\n",
        "    </tr>\n",
        "    <tr>\n",
        "      <th>offer</th>\n",
        "      <td> 3152</td>\n",
        "      <td> 1.201607e+06</td>\n",
        "      <td> 4.853357e+03</td>\n",
        "      <td> 1.194044e+06</td>\n",
        "      <td> 1.197502e+06</td>\n",
        "      <td> 1.199258e+06</td>\n",
        "      <td> 1.208251e+06</td>\n",
        "      <td> 1.208503e+06</td>\n",
        "    </tr>\n",
        "    <tr>\n",
        "      <th>chain</th>\n",
        "      <td> 3152</td>\n",
        "      <td> 1.036358e+02</td>\n",
        "      <td> 1.147303e+02</td>\n",
        "      <td> 2.000000e+00</td>\n",
        "      <td> 2.100000e+01</td>\n",
        "      <td> 6.500000e+01</td>\n",
        "      <td> 1.330000e+02</td>\n",
        "      <td> 5.100000e+02</td>\n",
        "    </tr>\n",
        "    <tr>\n",
        "      <th>market</th>\n",
        "      <td> 3152</td>\n",
        "      <td> 1.861136e+01</td>\n",
        "      <td> 1.546125e+01</td>\n",
        "      <td> 1.000000e+00</td>\n",
        "      <td> 1.000000e+01</td>\n",
        "      <td> 1.400000e+01</td>\n",
        "      <td> 2.400000e+01</td>\n",
        "      <td> 9.600000e+01</td>\n",
        "    </tr>\n",
        "    <tr>\n",
        "      <th>category</th>\n",
        "      <td> 3152</td>\n",
        "      <td> 4.070641e+03</td>\n",
        "      <td> 2.221684e+03</td>\n",
        "      <td> 1.703000e+03</td>\n",
        "      <td> 2.202000e+03</td>\n",
        "      <td> 3.203000e+03</td>\n",
        "      <td> 5.558000e+03</td>\n",
        "      <td> 9.909000e+03</td>\n",
        "    </tr>\n",
        "    <tr>\n",
        "      <th>quantity</th>\n",
        "      <td> 3152</td>\n",
        "      <td> 1.000000e+00</td>\n",
        "      <td> 0.000000e+00</td>\n",
        "      <td> 1.000000e+00</td>\n",
        "      <td> 1.000000e+00</td>\n",
        "      <td> 1.000000e+00</td>\n",
        "      <td> 1.000000e+00</td>\n",
        "      <td> 1.000000e+00</td>\n",
        "    </tr>\n",
        "    <tr>\n",
        "      <th>company</th>\n",
        "      <td> 3152</td>\n",
        "      <td> 2.136093e+08</td>\n",
        "      <td> 3.067264e+08</td>\n",
        "      <td> 1.033200e+08</td>\n",
        "      <td> 1.051000e+08</td>\n",
        "      <td> 1.064145e+08</td>\n",
        "      <td> 1.071280e+08</td>\n",
        "      <td> 1.089520e+09</td>\n",
        "    </tr>\n",
        "    <tr>\n",
        "      <th>offervalue</th>\n",
        "      <td> 3152</td>\n",
        "      <td> 1.257931e+00</td>\n",
        "      <td> 5.381515e-01</td>\n",
        "      <td> 7.500000e-01</td>\n",
        "      <td> 7.500000e-01</td>\n",
        "      <td> 1.000000e+00</td>\n",
        "      <td> 1.500000e+00</td>\n",
        "      <td> 3.000000e+00</td>\n",
        "    </tr>\n",
        "    <tr>\n",
        "      <th>brand</th>\n",
        "      <td> 3152</td>\n",
        "      <td> 1.734118e+04</td>\n",
        "      <td> 2.051855e+04</td>\n",
        "      <td> 8.750000e+02</td>\n",
        "      <td> 6.926000e+03</td>\n",
        "      <td> 1.347400e+04</td>\n",
        "      <td> 1.379100e+04</td>\n",
        "      <td> 1.025040e+05</td>\n",
        "    </tr>\n",
        "    <tr>\n",
        "      <th>num_purchases</th>\n",
        "      <td> 3152</td>\n",
        "      <td> 1.129434e+03</td>\n",
        "      <td> 2.441609e+03</td>\n",
        "      <td> 1.800000e+01</td>\n",
        "      <td> 5.620000e+02</td>\n",
        "      <td> 9.570000e+02</td>\n",
        "      <td> 1.486500e+03</td>\n",
        "      <td> 1.322240e+05</td>\n",
        "    </tr>\n",
        "    <tr>\n",
        "      <th>num_trips</th>\n",
        "      <td> 3152</td>\n",
        "      <td> 8.399461e+01</td>\n",
        "      <td> 4.930315e+01</td>\n",
        "      <td> 5.000000e+00</td>\n",
        "      <td> 4.900000e+01</td>\n",
        "      <td> 7.200000e+01</td>\n",
        "      <td> 1.090000e+02</td>\n",
        "      <td> 3.880000e+02</td>\n",
        "    </tr>\n",
        "    <tr>\n",
        "      <th>offer_delay</th>\n",
        "      <td> 3152</td>\n",
        "      <td> 8.668782e+00</td>\n",
        "      <td> 1.012104e+01</td>\n",
        "      <td> 1.000000e+00</td>\n",
        "      <td> 4.000000e+00</td>\n",
        "      <td> 6.000000e+00</td>\n",
        "      <td> 1.000000e+01</td>\n",
        "      <td> 1.840000e+02</td>\n",
        "    </tr>\n",
        "    <tr>\n",
        "      <th>shopper_age</th>\n",
        "      <td> 3152</td>\n",
        "      <td> 3.922360e+02</td>\n",
        "      <td> 2.653849e+01</td>\n",
        "      <td> 7.300000e+01</td>\n",
        "      <td> 3.830000e+02</td>\n",
        "      <td> 3.910000e+02</td>\n",
        "      <td> 4.130000e+02</td>\n",
        "      <td> 4.240000e+02</td>\n",
        "    </tr>\n",
        "    <tr>\n",
        "      <th>shopper_lifetime</th>\n",
        "      <td> 3152</td>\n",
        "      <td> 3.835673e+02</td>\n",
        "      <td> 2.954050e+01</td>\n",
        "      <td> 6.500000e+01</td>\n",
        "      <td> 3.730000e+02</td>\n",
        "      <td> 3.850000e+02</td>\n",
        "      <td> 4.060000e+02</td>\n",
        "      <td> 4.220000e+02</td>\n",
        "    </tr>\n",
        "    <tr>\n",
        "      <th>total_purs_spend</th>\n",
        "      <td> 3152</td>\n",
        "      <td> 4.598878e+03</td>\n",
        "      <td> 1.283590e+04</td>\n",
        "      <td> 7.483000e+01</td>\n",
        "      <td> 2.182413e+03</td>\n",
        "      <td> 3.764795e+03</td>\n",
        "      <td> 5.918555e+03</td>\n",
        "      <td> 7.049808e+05</td>\n",
        "    </tr>\n",
        "    <tr>\n",
        "      <th>num_match_cat</th>\n",
        "      <td> 3152</td>\n",
        "      <td> 4.550444e+00</td>\n",
        "      <td> 1.178060e+01</td>\n",
        "      <td> 0.000000e+00</td>\n",
        "      <td> 0.000000e+00</td>\n",
        "      <td> 0.000000e+00</td>\n",
        "      <td> 4.000000e+00</td>\n",
        "      <td> 3.780000e+02</td>\n",
        "    </tr>\n",
        "    <tr>\n",
        "      <th>num_match_brand</th>\n",
        "      <td> 3152</td>\n",
        "      <td> 2.653236e+00</td>\n",
        "      <td> 7.127038e+00</td>\n",
        "      <td> 0.000000e+00</td>\n",
        "      <td> 0.000000e+00</td>\n",
        "      <td> 0.000000e+00</td>\n",
        "      <td> 2.000000e+00</td>\n",
        "      <td> 2.190000e+02</td>\n",
        "    </tr>\n",
        "  </tbody>\n",
        "</table>\n",
        "<p>18 rows \u00d7 8 columns</p>\n",
        "</div>"
       ],
       "metadata": {},
       "output_type": "pyout",
       "prompt_number": 129,
       "text": [
        "                  count          mean           std           min  \\\n",
        "repeater           3152  2.553934e-01  4.361513e-01  0.000000e+00   \n",
        "repeattrips        3152  5.558376e-01  1.539924e+00  0.000000e+00   \n",
        "offer              3152  1.201607e+06  4.853357e+03  1.194044e+06   \n",
        "chain              3152  1.036358e+02  1.147303e+02  2.000000e+00   \n",
        "market             3152  1.861136e+01  1.546125e+01  1.000000e+00   \n",
        "category           3152  4.070641e+03  2.221684e+03  1.703000e+03   \n",
        "quantity           3152  1.000000e+00  0.000000e+00  1.000000e+00   \n",
        "company            3152  2.136093e+08  3.067264e+08  1.033200e+08   \n",
        "offervalue         3152  1.257931e+00  5.381515e-01  7.500000e-01   \n",
        "brand              3152  1.734118e+04  2.051855e+04  8.750000e+02   \n",
        "num_purchases      3152  1.129434e+03  2.441609e+03  1.800000e+01   \n",
        "num_trips          3152  8.399461e+01  4.930315e+01  5.000000e+00   \n",
        "offer_delay        3152  8.668782e+00  1.012104e+01  1.000000e+00   \n",
        "shopper_age        3152  3.922360e+02  2.653849e+01  7.300000e+01   \n",
        "shopper_lifetime   3152  3.835673e+02  2.954050e+01  6.500000e+01   \n",
        "total_purs_spend   3152  4.598878e+03  1.283590e+04  7.483000e+01   \n",
        "num_match_cat      3152  4.550444e+00  1.178060e+01  0.000000e+00   \n",
        "num_match_brand    3152  2.653236e+00  7.127038e+00  0.000000e+00   \n",
        "\n",
        "                           25%           50%           75%           max  \n",
        "repeater          0.000000e+00  0.000000e+00  1.000000e+00  1.000000e+00  \n",
        "repeattrips       0.000000e+00  0.000000e+00  1.000000e+00  2.200000e+01  \n",
        "offer             1.197502e+06  1.199258e+06  1.208251e+06  1.208503e+06  \n",
        "chain             2.100000e+01  6.500000e+01  1.330000e+02  5.100000e+02  \n",
        "market            1.000000e+01  1.400000e+01  2.400000e+01  9.600000e+01  \n",
        "category          2.202000e+03  3.203000e+03  5.558000e+03  9.909000e+03  \n",
        "quantity          1.000000e+00  1.000000e+00  1.000000e+00  1.000000e+00  \n",
        "company           1.051000e+08  1.064145e+08  1.071280e+08  1.089520e+09  \n",
        "offervalue        7.500000e-01  1.000000e+00  1.500000e+00  3.000000e+00  \n",
        "brand             6.926000e+03  1.347400e+04  1.379100e+04  1.025040e+05  \n",
        "num_purchases     5.620000e+02  9.570000e+02  1.486500e+03  1.322240e+05  \n",
        "num_trips         4.900000e+01  7.200000e+01  1.090000e+02  3.880000e+02  \n",
        "offer_delay       4.000000e+00  6.000000e+00  1.000000e+01  1.840000e+02  \n",
        "shopper_age       3.830000e+02  3.910000e+02  4.130000e+02  4.240000e+02  \n",
        "shopper_lifetime  3.730000e+02  3.850000e+02  4.060000e+02  4.220000e+02  \n",
        "total_purs_spend  2.182413e+03  3.764795e+03  5.918555e+03  7.049808e+05  \n",
        "num_match_cat     0.000000e+00  0.000000e+00  4.000000e+00  3.780000e+02  \n",
        "num_match_brand   0.000000e+00  0.000000e+00  2.000000e+00  2.190000e+02  \n",
        "\n",
        "[18 rows x 8 columns]"
       ]
      }
     ],
     "prompt_number": 129
    },
    {
     "cell_type": "code",
     "collapsed": false,
     "input": [],
     "language": "python",
     "metadata": {},
     "outputs": []
    },
    {
     "cell_type": "code",
     "collapsed": false,
     "input": [
      "# Number of purchases each shopper made\n",
      "purchases_df = sql.frame_query(\"\"\"\n",
      "    SELECT transactions0.id, repeater, COUNT(1) AS num_purchases\n",
      "    FROM transactions0\n",
      "    INNER JOIN history\n",
      "    ON transactions0.id = history.id\n",
      "    GROUP BY 1, 2\"\"\", conn, \"id\")"
     ],
     "language": "python",
     "metadata": {},
     "outputs": [],
     "prompt_number": 5
    },
    {
     "cell_type": "code",
     "collapsed": false,
     "input": [
      "purchases_df.repeater[purchases_df.repeater=='t'] = 1\n",
      "purchases_df.repeater[purchases_df.repeater=='f'] = 0"
     ],
     "language": "python",
     "metadata": {},
     "outputs": [],
     "prompt_number": 6
    },
    {
     "cell_type": "code",
     "collapsed": false,
     "input": [
      "purchases_df.head()"
     ],
     "language": "python",
     "metadata": {},
     "outputs": [
      {
       "html": [
        "<div style=\"max-height:1000px;max-width:1500px;overflow:auto;\">\n",
        "<table border=\"1\" class=\"dataframe\">\n",
        "  <thead>\n",
        "    <tr style=\"text-align: right;\">\n",
        "      <th></th>\n",
        "      <th>repeater</th>\n",
        "      <th>num_purchases</th>\n",
        "    </tr>\n",
        "    <tr>\n",
        "      <th>id</th>\n",
        "      <th></th>\n",
        "      <th></th>\n",
        "    </tr>\n",
        "  </thead>\n",
        "  <tbody>\n",
        "    <tr>\n",
        "      <th>13089312</th>\n",
        "      <td> 0</td>\n",
        "      <td> 1218</td>\n",
        "    </tr>\n",
        "    <tr>\n",
        "      <th>13251776</th>\n",
        "      <td> 0</td>\n",
        "      <td> 2391</td>\n",
        "    </tr>\n",
        "    <tr>\n",
        "      <th>17486592</th>\n",
        "      <td> 1</td>\n",
        "      <td> 1526</td>\n",
        "    </tr>\n",
        "    <tr>\n",
        "      <th>21603296</th>\n",
        "      <td> 0</td>\n",
        "      <td>  703</td>\n",
        "    </tr>\n",
        "    <tr>\n",
        "      <th>48445984</th>\n",
        "      <td> 0</td>\n",
        "      <td> 1730</td>\n",
        "    </tr>\n",
        "  </tbody>\n",
        "</table>\n",
        "<p>5 rows \u00d7 2 columns</p>\n",
        "</div>"
       ],
       "metadata": {},
       "output_type": "pyout",
       "prompt_number": 7,
       "text": [
        "         repeater  num_purchases\n",
        "id                              \n",
        "13089312        0           1218\n",
        "13251776        0           2391\n",
        "17486592        1           1526\n",
        "21603296        0            703\n",
        "48445984        0           1730\n",
        "\n",
        "[5 rows x 2 columns]"
       ]
      }
     ],
     "prompt_number": 7
    },
    {
     "cell_type": "code",
     "collapsed": false,
     "input": [
      "purchases_df.describe().T"
     ],
     "language": "python",
     "metadata": {},
     "outputs": [
      {
       "html": [
        "<div style=\"max-height:1000px;max-width:1500px;overflow:auto;\">\n",
        "<table border=\"1\" class=\"dataframe\">\n",
        "  <thead>\n",
        "    <tr style=\"text-align: right;\">\n",
        "      <th></th>\n",
        "      <th>count</th>\n",
        "      <th>mean</th>\n",
        "      <th>std</th>\n",
        "      <th>min</th>\n",
        "      <th>25%</th>\n",
        "      <th>50%</th>\n",
        "      <th>75%</th>\n",
        "      <th>max</th>\n",
        "    </tr>\n",
        "  </thead>\n",
        "  <tbody>\n",
        "    <tr>\n",
        "      <th>num_purchases</th>\n",
        "      <td> 3152</td>\n",
        "      <td> 1129.43401</td>\n",
        "      <td> 2441.609402</td>\n",
        "      <td> 18</td>\n",
        "      <td> 562</td>\n",
        "      <td> 957</td>\n",
        "      <td> 1486.5</td>\n",
        "      <td> 132224</td>\n",
        "    </tr>\n",
        "  </tbody>\n",
        "</table>\n",
        "<p>1 rows \u00d7 8 columns</p>\n",
        "</div>"
       ],
       "metadata": {},
       "output_type": "pyout",
       "prompt_number": 8,
       "text": [
        "               count        mean          std  min  25%  50%     75%     max\n",
        "num_purchases   3152  1129.43401  2441.609402   18  562  957  1486.5  132224\n",
        "\n",
        "[1 rows x 8 columns]"
       ]
      }
     ],
     "prompt_number": 8
    },
    {
     "cell_type": "code",
     "collapsed": false,
     "input": [
      "purchases_df.dtypes"
     ],
     "language": "python",
     "metadata": {},
     "outputs": [
      {
       "metadata": {},
       "output_type": "pyout",
       "prompt_number": 9,
       "text": [
        "repeater         object\n",
        "num_purchases     int64\n",
        "dtype: object"
       ]
      }
     ],
     "prompt_number": 9
    },
    {
     "cell_type": "code",
     "collapsed": false,
     "input": [
      "purchases_df.repeater = purchases_df.repeater.map(int)"
     ],
     "language": "python",
     "metadata": {},
     "outputs": [],
     "prompt_number": 10
    },
    {
     "cell_type": "code",
     "collapsed": false,
     "input": [
      "purchases_df.dtypes"
     ],
     "language": "python",
     "metadata": {},
     "outputs": [
      {
       "metadata": {},
       "output_type": "pyout",
       "prompt_number": 11,
       "text": [
        "repeater         int64\n",
        "num_purchases    int64\n",
        "dtype: object"
       ]
      }
     ],
     "prompt_number": 11
    },
    {
     "cell_type": "code",
     "collapsed": false,
     "input": [
      "purchases_df.describe().T"
     ],
     "language": "python",
     "metadata": {},
     "outputs": [
      {
       "html": [
        "<div style=\"max-height:1000px;max-width:1500px;overflow:auto;\">\n",
        "<table border=\"1\" class=\"dataframe\">\n",
        "  <thead>\n",
        "    <tr style=\"text-align: right;\">\n",
        "      <th></th>\n",
        "      <th>count</th>\n",
        "      <th>mean</th>\n",
        "      <th>std</th>\n",
        "      <th>min</th>\n",
        "      <th>25%</th>\n",
        "      <th>50%</th>\n",
        "      <th>75%</th>\n",
        "      <th>max</th>\n",
        "    </tr>\n",
        "  </thead>\n",
        "  <tbody>\n",
        "    <tr>\n",
        "      <th>repeater</th>\n",
        "      <td> 3152</td>\n",
        "      <td>    0.255393</td>\n",
        "      <td>    0.436151</td>\n",
        "      <td>  0</td>\n",
        "      <td>   0</td>\n",
        "      <td>   0</td>\n",
        "      <td>    1.0</td>\n",
        "      <td>      1</td>\n",
        "    </tr>\n",
        "    <tr>\n",
        "      <th>num_purchases</th>\n",
        "      <td> 3152</td>\n",
        "      <td> 1129.434010</td>\n",
        "      <td> 2441.609402</td>\n",
        "      <td> 18</td>\n",
        "      <td> 562</td>\n",
        "      <td> 957</td>\n",
        "      <td> 1486.5</td>\n",
        "      <td> 132224</td>\n",
        "    </tr>\n",
        "  </tbody>\n",
        "</table>\n",
        "<p>2 rows \u00d7 8 columns</p>\n",
        "</div>"
       ],
       "metadata": {},
       "output_type": "pyout",
       "prompt_number": 12,
       "text": [
        "               count         mean          std  min  25%  50%     75%     max\n",
        "repeater        3152     0.255393     0.436151    0    0    0     1.0       1\n",
        "num_purchases   3152  1129.434010  2441.609402   18  562  957  1486.5  132224\n",
        "\n",
        "[2 rows x 8 columns]"
       ]
      }
     ],
     "prompt_number": 12
    },
    {
     "cell_type": "code",
     "collapsed": false,
     "input": [
      "purchases_df.num_purchases.hist(color='gray')"
     ],
     "language": "python",
     "metadata": {},
     "outputs": [
      {
       "metadata": {},
       "output_type": "pyout",
       "prompt_number": 13,
       "text": [
        "<matplotlib.axes.AxesSubplot at 0x109885090>"
       ]
      },
      {
       "metadata": {},
       "output_type": "display_data",
       "png": "[encoded data removed]",
       "text": [
        "<matplotlib.figure.Figure at 0x10987f6d0>"
       ]
      }
     ],
     "prompt_number": 13
    },
    {
     "cell_type": "code",
     "collapsed": false,
     "input": [
      "purchases_df.num_purchases[purchases_df.num_purchases < 4000].hist(color='gray')"
     ],
     "language": "python",
     "metadata": {},
     "outputs": [
      {
       "metadata": {},
       "output_type": "pyout",
       "prompt_number": 14,
       "text": [
        "<matplotlib.axes.AxesSubplot at 0x10a201390>"
       ]
      },
      {
       "metadata": {},
       "output_type": "display_data",
       "png": "[encoded data removed]",
       "text": [
        "<matplotlib.figure.Figure at 0x10a2094d0>"
       ]
      }
     ],
     "prompt_number": 14
    },
    {
     "cell_type": "code",
     "collapsed": false,
     "input": [
      "purchases_df.num_purchases[purchases_df.num_purchases >= 4000].count()"
     ],
     "language": "python",
     "metadata": {},
     "outputs": [
      {
       "metadata": {},
       "output_type": "pyout",
       "prompt_number": 15,
       "text": [
        "9"
       ]
      }
     ],
     "prompt_number": 15
    },
    {
     "cell_type": "code",
     "collapsed": false,
     "input": [
      "purchases_df.num_purchases[purchases_df.num_purchases >= 4000] = 4000"
     ],
     "language": "python",
     "metadata": {},
     "outputs": [],
     "prompt_number": 16
    },
    {
     "cell_type": "code",
     "collapsed": false,
     "input": [
      "bins_purs = range(0,4000,100)\n",
      "purchases_df.num_purchases[purchases_df.repeater == 1].hist(bins=bins_purs,color='blue',alpha=.5)\n",
      "purchases_df.num_purchases[purchases_df.repeater == 0].hist(bins=bins_purs,color='gray',alpha=.5)"
     ],
     "language": "python",
     "metadata": {},
     "outputs": [
      {
       "metadata": {},
       "output_type": "pyout",
       "prompt_number": 17,
       "text": [
        "<matplotlib.axes.AxesSubplot at 0x1098dc710>"
       ]
      },
      {
       "metadata": {},
       "output_type": "display_data",
       "png": "[encoded data removed]",
       "text": [
        "<matplotlib.figure.Figure at 0x10a232e90>"
       ]
      }
     ],
     "prompt_number": 17
    },
    {
     "cell_type": "code",
     "collapsed": false,
     "input": [
      "bins_purs = range(0,4000,100)\n",
      "# purchases_df.num_purchases[purchases_df.repeater == 1].hist(bins=bins_purs,color='blue',alpha=.5)\n",
      "purchases_df.num_purchases[purchases_df.repeater == 0].hist(bins=bins_purs,color='gray',alpha=.5)"
     ],
     "language": "python",
     "metadata": {},
     "outputs": [
      {
       "ename": "NameError",
       "evalue": "name 'purchases_df' is not defined",
       "output_type": "pyerr",
       "traceback": [
        "\u001b[0;31m---------------------------------------------------------------------------\u001b[0m\n\u001b[0;31mNameError\u001b[0m                                 Traceback (most recent call last)",
        "\u001b[0;32m<ipython-input-117-dd077d0aa6af>\u001b[0m in \u001b[0;36m<module>\u001b[0;34m()\u001b[0m\n\u001b[1;32m      1\u001b[0m \u001b[0mbins_purs\u001b[0m \u001b[0;34m=\u001b[0m \u001b[0mrange\u001b[0m\u001b[0;34m(\u001b[0m\u001b[0;36m0\u001b[0m\u001b[0;34m,\u001b[0m\u001b[0;36m4000\u001b[0m\u001b[0;34m,\u001b[0m\u001b[0;36m100\u001b[0m\u001b[0;34m)\u001b[0m\u001b[0;34m\u001b[0m\u001b[0m\n\u001b[1;32m      2\u001b[0m \u001b[0;31m# purchases_df.num_purchases[purchases_df.repeater == 1].hist(bins=bins_purs,color='blue',alpha=.5)\u001b[0m\u001b[0;34m\u001b[0m\u001b[0;34m\u001b[0m\u001b[0m\n\u001b[0;32m----> 3\u001b[0;31m \u001b[0mpurchases_df\u001b[0m\u001b[0;34m.\u001b[0m\u001b[0mnum_purchases\u001b[0m\u001b[0;34m[\u001b[0m\u001b[0mpurchases_df\u001b[0m\u001b[0;34m.\u001b[0m\u001b[0mrepeater\u001b[0m \u001b[0;34m==\u001b[0m \u001b[0;36m0\u001b[0m\u001b[0;34m]\u001b[0m\u001b[0;34m.\u001b[0m\u001b[0mhist\u001b[0m\u001b[0;34m(\u001b[0m\u001b[0mbins\u001b[0m\u001b[0;34m=\u001b[0m\u001b[0mbins_purs\u001b[0m\u001b[0;34m,\u001b[0m\u001b[0mcolor\u001b[0m\u001b[0;34m=\u001b[0m\u001b[0;34m'gray'\u001b[0m\u001b[0;34m,\u001b[0m\u001b[0malpha\u001b[0m\u001b[0;34m=\u001b[0m\u001b[0;36m.5\u001b[0m\u001b[0;34m)\u001b[0m\u001b[0;34m\u001b[0m\u001b[0m\n\u001b[0m",
        "\u001b[0;31mNameError\u001b[0m: name 'purchases_df' is not defined"
       ]
      }
     ],
     "prompt_number": 117
    },
    {
     "cell_type": "code",
     "collapsed": false,
     "input": [
      "# this isn't working\n",
      "# plt.hist(purchases_df.num_purchases[purchases_df.repeater == 1])\n",
      "\n",
      "# works\n",
      "# a = np.random.randint(0,20,100)\n",
      "# plt.hist(a)\n",
      "\n",
      "# works\n",
      "# plt.hist(np.random.randint(0,20,1000))\n",
      "\n",
      "# doesn't work\n",
      "# plt.hist(purchases_df.num_purchases)\n",
      "\n",
      "# type(purchases_df.num_purchases[purchases_df.repeater == 1]) -- pandas.core.series.Series\n",
      "# type(purchases_df.num_purchases) -- pandas.core.series.Series"
     ],
     "language": "python",
     "metadata": {},
     "outputs": [
      {
       "metadata": {},
       "output_type": "pyout",
       "prompt_number": 230,
       "text": [
        "pandas.core.series.Series"
       ]
      }
     ],
     "prompt_number": 230
    },
    {
     "cell_type": "code",
     "collapsed": false,
     "input": [
      "np_repeater = purchases_df.num_purchases[purchases_df.repeater == 1].mean()\n",
      "np_nonrepeater = purchases_df.num_purchases[purchases_df.repeater == 0].mean()\n",
      "print \"Mean number of purchases:  repeater = {0:.1f}, non-repeater = {1:.1f}\".format(np_repeater, np_nonrepeater)"
     ],
     "language": "python",
     "metadata": {},
     "outputs": [
      {
       "output_type": "stream",
       "stream": "stdout",
       "text": [
        "Mean number of purchases:  repeater = 1157.9, non-repeater = 1062.3\n"
       ]
      }
     ],
     "prompt_number": 32
    },
    {
     "cell_type": "code",
     "collapsed": false,
     "input": [
      "r_true = pd.value_counts(purchases_df.num_purchases[purchases_df.repeater == 1],\n",
      "                         bins=bins_purs,sort=False)\n",
      "r_false = pd.value_counts(purchases_df.num_purchases[purchases_df.repeater == 0],\n",
      "                          bins=bins_purs,sort=False)"
     ],
     "language": "python",
     "metadata": {},
     "outputs": [],
     "prompt_number": 20
    },
    {
     "cell_type": "code",
     "collapsed": false,
     "input": [
      "plt.plot(bins_purs[:-1],r_true,'b-')\n",
      "plt.plot(bins_purs[:-1],r_false,'k-')"
     ],
     "language": "python",
     "metadata": {},
     "outputs": [
      {
       "metadata": {},
       "output_type": "pyout",
       "prompt_number": 21,
       "text": [
        "[<matplotlib.lines.Line2D at 0x10a23a710>]"
       ]
      },
      {
       "metadata": {},
       "output_type": "display_data",
       "png": "[encoded data removed]",
       "text": [
        "<matplotlib.figure.Figure at 0x10a2077d0>"
       ]
      }
     ],
     "prompt_number": 21
    },
    {
     "cell_type": "code",
     "collapsed": false,
     "input": [],
     "language": "python",
     "metadata": {},
     "outputs": [],
     "prompt_number": 97
    },
    {
     "cell_type": "code",
     "collapsed": false,
     "input": [],
     "language": "python",
     "metadata": {},
     "outputs": []
    },
    {
     "cell_type": "code",
     "collapsed": false,
     "input": [
      "# Number of shopping trips each shopper made\n",
      "trips_df = sql.frame_query(\"\"\"SELECT id, COUNT(DISTINCT date) AS num_trips\n",
      "    FROM transactions0 GROUP BY 1\"\"\", conn, \"id\")"
     ],
     "language": "python",
     "metadata": {},
     "outputs": [],
     "prompt_number": 22
    },
    {
     "cell_type": "code",
     "collapsed": false,
     "input": [
      "trips_df.describe().T"
     ],
     "language": "python",
     "metadata": {},
     "outputs": [
      {
       "html": [
        "<div style=\"max-height:1000px;max-width:1500px;overflow:auto;\">\n",
        "<table border=\"1\" class=\"dataframe\">\n",
        "  <thead>\n",
        "    <tr style=\"text-align: right;\">\n",
        "      <th></th>\n",
        "      <th>count</th>\n",
        "      <th>mean</th>\n",
        "      <th>std</th>\n",
        "      <th>min</th>\n",
        "      <th>25%</th>\n",
        "      <th>50%</th>\n",
        "      <th>75%</th>\n",
        "      <th>max</th>\n",
        "    </tr>\n",
        "  </thead>\n",
        "  <tbody>\n",
        "    <tr>\n",
        "      <th>num_trips</th>\n",
        "      <td> 5431</td>\n",
        "      <td> 93.37691</td>\n",
        "      <td> 56.39088</td>\n",
        "      <td> 5</td>\n",
        "      <td> 53</td>\n",
        "      <td> 80</td>\n",
        "      <td> 121</td>\n",
        "      <td> 397</td>\n",
        "    </tr>\n",
        "  </tbody>\n",
        "</table>\n",
        "<p>1 rows \u00d7 8 columns</p>\n",
        "</div>"
       ],
       "metadata": {},
       "output_type": "pyout",
       "prompt_number": 23,
       "text": [
        "           count      mean       std  min  25%  50%  75%  max\n",
        "num_trips   5431  93.37691  56.39088    5   53   80  121  397\n",
        "\n",
        "[1 rows x 8 columns]"
       ]
      }
     ],
     "prompt_number": 23
    },
    {
     "cell_type": "code",
     "collapsed": false,
     "input": [
      "trips_df.num_trips.hist(color='gray')"
     ],
     "language": "python",
     "metadata": {},
     "outputs": [
      {
       "metadata": {},
       "output_type": "pyout",
       "prompt_number": 24,
       "text": [
        "<matplotlib.axes.AxesSubplot at 0x10a3247d0>"
       ]
      },
      {
       "metadata": {},
       "output_type": "display_data",
       "png": "[encoded data removed]",
       "text": [
        "<matplotlib.figure.Figure at 0x10a3a9b10>"
       ]
      }
     ],
     "prompt_number": 24
    },
    {
     "cell_type": "code",
     "collapsed": false,
     "input": [
      "full_df = pd.merge(purchases_df,trips_df,left_index=True,right_index=True)"
     ],
     "language": "python",
     "metadata": {},
     "outputs": [],
     "prompt_number": 25
    },
    {
     "cell_type": "code",
     "collapsed": false,
     "input": [
      "full_df.head()"
     ],
     "language": "python",
     "metadata": {},
     "outputs": [
      {
       "html": [
        "<div style=\"max-height:1000px;max-width:1500px;overflow:auto;\">\n",
        "<table border=\"1\" class=\"dataframe\">\n",
        "  <thead>\n",
        "    <tr style=\"text-align: right;\">\n",
        "      <th></th>\n",
        "      <th>repeater</th>\n",
        "      <th>num_purchases</th>\n",
        "      <th>num_trips</th>\n",
        "    </tr>\n",
        "    <tr>\n",
        "      <th>id</th>\n",
        "      <th></th>\n",
        "      <th></th>\n",
        "      <th></th>\n",
        "    </tr>\n",
        "  </thead>\n",
        "  <tbody>\n",
        "    <tr>\n",
        "      <th>13089312</th>\n",
        "      <td> 0</td>\n",
        "      <td> 1218</td>\n",
        "      <td> 132</td>\n",
        "    </tr>\n",
        "    <tr>\n",
        "      <th>13251776</th>\n",
        "      <td> 0</td>\n",
        "      <td> 2391</td>\n",
        "      <td> 134</td>\n",
        "    </tr>\n",
        "    <tr>\n",
        "      <th>17486592</th>\n",
        "      <td> 1</td>\n",
        "      <td> 1526</td>\n",
        "      <td> 141</td>\n",
        "    </tr>\n",
        "    <tr>\n",
        "      <th>21603296</th>\n",
        "      <td> 0</td>\n",
        "      <td>  703</td>\n",
        "      <td>  94</td>\n",
        "    </tr>\n",
        "    <tr>\n",
        "      <th>48445984</th>\n",
        "      <td> 0</td>\n",
        "      <td> 1730</td>\n",
        "      <td> 225</td>\n",
        "    </tr>\n",
        "  </tbody>\n",
        "</table>\n",
        "<p>5 rows \u00d7 3 columns</p>\n",
        "</div>"
       ],
       "metadata": {},
       "output_type": "pyout",
       "prompt_number": 26,
       "text": [
        "          repeater  num_purchases  num_trips\n",
        "id                                          \n",
        "13089312         0           1218        132\n",
        "13251776         0           2391        134\n",
        "17486592         1           1526        141\n",
        "21603296         0            703         94\n",
        "48445984         0           1730        225\n",
        "\n",
        "[5 rows x 3 columns]"
       ]
      }
     ],
     "prompt_number": 26
    },
    {
     "cell_type": "code",
     "collapsed": false,
     "input": [
      "full_df.describe().T"
     ],
     "language": "python",
     "metadata": {},
     "outputs": [
      {
       "html": [
        "<div style=\"max-height:1000px;max-width:1500px;overflow:auto;\">\n",
        "<table border=\"1\" class=\"dataframe\">\n",
        "  <thead>\n",
        "    <tr style=\"text-align: right;\">\n",
        "      <th></th>\n",
        "      <th>count</th>\n",
        "      <th>mean</th>\n",
        "      <th>std</th>\n",
        "      <th>min</th>\n",
        "      <th>25%</th>\n",
        "      <th>50%</th>\n",
        "      <th>75%</th>\n",
        "      <th>max</th>\n",
        "    </tr>\n",
        "  </thead>\n",
        "  <tbody>\n",
        "    <tr>\n",
        "      <th>repeater</th>\n",
        "      <td> 3152</td>\n",
        "      <td>    0.255393</td>\n",
        "      <td>   0.436151</td>\n",
        "      <td>  0</td>\n",
        "      <td>   0</td>\n",
        "      <td>   0</td>\n",
        "      <td>    1.0</td>\n",
        "      <td>    1</td>\n",
        "    </tr>\n",
        "    <tr>\n",
        "      <th>num_purchases</th>\n",
        "      <td> 3152</td>\n",
        "      <td> 1086.750000</td>\n",
        "      <td> 701.294996</td>\n",
        "      <td> 18</td>\n",
        "      <td> 562</td>\n",
        "      <td> 957</td>\n",
        "      <td> 1486.5</td>\n",
        "      <td> 4000</td>\n",
        "    </tr>\n",
        "    <tr>\n",
        "      <th>num_trips</th>\n",
        "      <td> 3152</td>\n",
        "      <td>   83.994607</td>\n",
        "      <td>  49.303151</td>\n",
        "      <td>  5</td>\n",
        "      <td>  49</td>\n",
        "      <td>  72</td>\n",
        "      <td>  109.0</td>\n",
        "      <td>  388</td>\n",
        "    </tr>\n",
        "  </tbody>\n",
        "</table>\n",
        "<p>3 rows \u00d7 8 columns</p>\n",
        "</div>"
       ],
       "metadata": {},
       "output_type": "pyout",
       "prompt_number": 28,
       "text": [
        "               count         mean         std  min  25%  50%     75%   max\n",
        "repeater        3152     0.255393    0.436151    0    0    0     1.0     1\n",
        "num_purchases   3152  1086.750000  701.294996   18  562  957  1486.5  4000\n",
        "num_trips       3152    83.994607   49.303151    5   49   72   109.0   388\n",
        "\n",
        "[3 rows x 8 columns]"
       ]
      }
     ],
     "prompt_number": 28
    },
    {
     "cell_type": "code",
     "collapsed": false,
     "input": [
      "bins_purs = range(0,400,10)\n",
      "full_df.num_trips[full_df.repeater == 1].hist(bins=bins_purs,color='blue',alpha=.5)\n",
      "full_df.num_trips[full_df.repeater == 0].hist(bins=bins_purs,color='gray',alpha=.5)"
     ],
     "language": "python",
     "metadata": {},
     "outputs": [
      {
       "metadata": {},
       "output_type": "pyout",
       "prompt_number": 29,
       "text": [
        "<matplotlib.axes.AxesSubplot at 0x10a3bf7d0>"
       ]
      },
      {
       "metadata": {},
       "output_type": "display_data",
       "png": "[encoded data removed]",
       "text": [
        "<matplotlib.figure.Figure at 0x10bb19d50>"
       ]
      }
     ],
     "prompt_number": 29
    },
    {
     "cell_type": "code",
     "collapsed": false,
     "input": [
      "nt_repeater = full_df.num_trips[full_df.repeater == 1].mean()\n",
      "nt_nonrepeater = full_df.num_trips[full_df.repeater == 0].mean()\n",
      "print \"Mean number of trips:  repeater = {0:.1f}, non-repeater = {1:.1f}\".format(nt_repeater, nt_nonrepeater)"
     ],
     "language": "python",
     "metadata": {},
     "outputs": [
      {
       "output_type": "stream",
       "stream": "stdout",
       "text": [
        "Mean number of trips:  repeater = 87.3, non-repeater = 82.9\n"
       ]
      }
     ],
     "prompt_number": 31
    },
    {
     "cell_type": "code",
     "collapsed": false,
     "input": [
      "offervalue_df = sql.frame_query(\"\"\"SELECT id, offervalue\n",
      "    FROM history_offers\"\"\", conn, \"id\")"
     ],
     "language": "python",
     "metadata": {},
     "outputs": [],
     "prompt_number": 33
    },
    {
     "cell_type": "code",
     "collapsed": false,
     "input": [
      "full_df2 = pd.merge(full_df,offervalue_df,left_index=True,right_index=True)"
     ],
     "language": "python",
     "metadata": {},
     "outputs": [],
     "prompt_number": 34
    },
    {
     "cell_type": "code",
     "collapsed": false,
     "input": [
      "full_df2.head()"
     ],
     "language": "python",
     "metadata": {},
     "outputs": [
      {
       "html": [
        "<div style=\"max-height:1000px;max-width:1500px;overflow:auto;\">\n",
        "<table border=\"1\" class=\"dataframe\">\n",
        "  <thead>\n",
        "    <tr style=\"text-align: right;\">\n",
        "      <th></th>\n",
        "      <th>repeater</th>\n",
        "      <th>num_purchases</th>\n",
        "      <th>num_trips</th>\n",
        "      <th>offervalue</th>\n",
        "    </tr>\n",
        "    <tr>\n",
        "      <th>id</th>\n",
        "      <th></th>\n",
        "      <th></th>\n",
        "      <th></th>\n",
        "      <th></th>\n",
        "    </tr>\n",
        "  </thead>\n",
        "  <tbody>\n",
        "    <tr>\n",
        "      <th>13089312</th>\n",
        "      <td> 0</td>\n",
        "      <td> 1218</td>\n",
        "      <td> 132</td>\n",
        "      <td> 1.50</td>\n",
        "    </tr>\n",
        "    <tr>\n",
        "      <th>13251776</th>\n",
        "      <td> 0</td>\n",
        "      <td> 2391</td>\n",
        "      <td> 134</td>\n",
        "      <td> 1.25</td>\n",
        "    </tr>\n",
        "    <tr>\n",
        "      <th>17486592</th>\n",
        "      <td> 1</td>\n",
        "      <td> 1526</td>\n",
        "      <td> 141</td>\n",
        "      <td> 0.75</td>\n",
        "    </tr>\n",
        "    <tr>\n",
        "      <th>21603296</th>\n",
        "      <td> 0</td>\n",
        "      <td>  703</td>\n",
        "      <td>  94</td>\n",
        "      <td> 2.00</td>\n",
        "    </tr>\n",
        "    <tr>\n",
        "      <th>48445984</th>\n",
        "      <td> 0</td>\n",
        "      <td> 1730</td>\n",
        "      <td> 225</td>\n",
        "      <td> 0.75</td>\n",
        "    </tr>\n",
        "  </tbody>\n",
        "</table>\n",
        "<p>5 rows \u00d7 4 columns</p>\n",
        "</div>"
       ],
       "metadata": {},
       "output_type": "pyout",
       "prompt_number": 35,
       "text": [
        "          repeater  num_purchases  num_trips  offervalue\n",
        "id                                                      \n",
        "13089312         0           1218        132        1.50\n",
        "13251776         0           2391        134        1.25\n",
        "17486592         1           1526        141        0.75\n",
        "21603296         0            703         94        2.00\n",
        "48445984         0           1730        225        0.75\n",
        "\n",
        "[5 rows x 4 columns]"
       ]
      }
     ],
     "prompt_number": 35
    },
    {
     "cell_type": "code",
     "collapsed": false,
     "input": [
      "full_df2.describe()"
     ],
     "language": "python",
     "metadata": {},
     "outputs": [
      {
       "html": [
        "<div style=\"max-height:1000px;max-width:1500px;overflow:auto;\">\n",
        "<table border=\"1\" class=\"dataframe\">\n",
        "  <thead>\n",
        "    <tr style=\"text-align: right;\">\n",
        "      <th></th>\n",
        "      <th>repeater</th>\n",
        "      <th>num_purchases</th>\n",
        "      <th>num_trips</th>\n",
        "      <th>offervalue</th>\n",
        "    </tr>\n",
        "  </thead>\n",
        "  <tbody>\n",
        "    <tr>\n",
        "      <th>count</th>\n",
        "      <td> 3152.000000</td>\n",
        "      <td> 3152.000000</td>\n",
        "      <td> 3152.000000</td>\n",
        "      <td> 3152.000000</td>\n",
        "    </tr>\n",
        "    <tr>\n",
        "      <th>mean</th>\n",
        "      <td>    0.255393</td>\n",
        "      <td> 1086.750000</td>\n",
        "      <td>   83.994607</td>\n",
        "      <td>    1.257931</td>\n",
        "    </tr>\n",
        "    <tr>\n",
        "      <th>std</th>\n",
        "      <td>    0.436151</td>\n",
        "      <td>  701.294996</td>\n",
        "      <td>   49.303151</td>\n",
        "      <td>    0.538151</td>\n",
        "    </tr>\n",
        "    <tr>\n",
        "      <th>min</th>\n",
        "      <td>    0.000000</td>\n",
        "      <td>   18.000000</td>\n",
        "      <td>    5.000000</td>\n",
        "      <td>    0.750000</td>\n",
        "    </tr>\n",
        "    <tr>\n",
        "      <th>25%</th>\n",
        "      <td>    0.000000</td>\n",
        "      <td>  562.000000</td>\n",
        "      <td>   49.000000</td>\n",
        "      <td>    0.750000</td>\n",
        "    </tr>\n",
        "    <tr>\n",
        "      <th>50%</th>\n",
        "      <td>    0.000000</td>\n",
        "      <td>  957.000000</td>\n",
        "      <td>   72.000000</td>\n",
        "      <td>    1.000000</td>\n",
        "    </tr>\n",
        "    <tr>\n",
        "      <th>75%</th>\n",
        "      <td>    1.000000</td>\n",
        "      <td> 1486.500000</td>\n",
        "      <td>  109.000000</td>\n",
        "      <td>    1.500000</td>\n",
        "    </tr>\n",
        "    <tr>\n",
        "      <th>max</th>\n",
        "      <td>    1.000000</td>\n",
        "      <td> 4000.000000</td>\n",
        "      <td>  388.000000</td>\n",
        "      <td>    3.000000</td>\n",
        "    </tr>\n",
        "  </tbody>\n",
        "</table>\n",
        "<p>8 rows \u00d7 4 columns</p>\n",
        "</div>"
       ],
       "metadata": {},
       "output_type": "pyout",
       "prompt_number": 36,
       "text": [
        "          repeater  num_purchases    num_trips   offervalue\n",
        "count  3152.000000    3152.000000  3152.000000  3152.000000\n",
        "mean      0.255393    1086.750000    83.994607     1.257931\n",
        "std       0.436151     701.294996    49.303151     0.538151\n",
        "min       0.000000      18.000000     5.000000     0.750000\n",
        "25%       0.000000     562.000000    49.000000     0.750000\n",
        "50%       0.000000     957.000000    72.000000     1.000000\n",
        "75%       1.000000    1486.500000   109.000000     1.500000\n",
        "max       1.000000    4000.000000   388.000000     3.000000\n",
        "\n",
        "[8 rows x 4 columns]"
       ]
      }
     ],
     "prompt_number": 36
    },
    {
     "cell_type": "code",
     "collapsed": false,
     "input": [
      "ov_repeater = full_df2.offervalue[full_df2.repeater == 1].mean()\n",
      "ov_nonrepeater = full_df2.offervalue[full_df2.repeater == 0].mean()\n",
      "print \"Mean offer value:  repeater = {0:.1f}, non-repeater = {1:.1f}\".format(ov_repeater, ov_nonrepeater)"
     ],
     "language": "python",
     "metadata": {},
     "outputs": [
      {
       "output_type": "stream",
       "stream": "stdout",
       "text": [
        "Mean offer value:  repeater = 1.2, non-repeater = 1.3\n"
       ]
      }
     ],
     "prompt_number": 37
    },
    {
     "cell_type": "code",
     "collapsed": false,
     "input": [
      "ov_repeater = full_df2.offervalue[full_df2.repeater == 1].median()\n",
      "ov_nonrepeater = full_df2.offervalue[full_df2.repeater == 0].median()\n",
      "print \"Median offer value:  repeater = {0:.1f}, non-repeater = {1:.1f}\".format(ov_repeater, ov_nonrepeater)"
     ],
     "language": "python",
     "metadata": {},
     "outputs": [
      {
       "output_type": "stream",
       "stream": "stdout",
       "text": [
        "Median offer value:  repeater = 1.0, non-repeater = 1.0\n"
       ]
      }
     ],
     "prompt_number": 38
    },
    {
     "cell_type": "code",
     "collapsed": false,
     "input": [
      "# Throw out offer value, isn't different for the two groups."
     ],
     "language": "python",
     "metadata": {},
     "outputs": []
    },
    {
     "cell_type": "code",
     "collapsed": false,
     "input": [
      "delay_df = sql.frame_query(\"\"\"\n",
      "    SELECT id, (strftime('%s',ho_date) - strftime('%s',trans_date))/(3600*24) AS delay_days\n",
      "    FROM\n",
      "        (\n",
      "        SELECT trans.id, MAX(trans.date) AS trans_date, MAX(ho.date) AS ho_date\n",
      "        FROM\n",
      "            (\n",
      "            SELECT DISTINCT id, date\n",
      "            FROM transactions0\n",
      "            ) trans\n",
      "        INNER JOIN\n",
      "            (\n",
      "            SELECT DISTINCT id, offerdate AS date\n",
      "            FROM history_offers\n",
      "            ) ho\n",
      "        ON trans.id = ho.id\n",
      "        AND trans.date <= ho.date\n",
      "        GROUP BY 1\n",
      "        ) m\n",
      "    \"\"\", conn, \"id\")"
     ],
     "language": "python",
     "metadata": {},
     "outputs": [],
     "prompt_number": 39
    },
    {
     "cell_type": "code",
     "collapsed": false,
     "input": [
      "delay_df.describe()"
     ],
     "language": "python",
     "metadata": {},
     "outputs": [
      {
       "html": [
        "<div style=\"max-height:1000px;max-width:1500px;overflow:auto;\">\n",
        "<table border=\"1\" class=\"dataframe\">\n",
        "  <thead>\n",
        "    <tr style=\"text-align: right;\">\n",
        "      <th></th>\n",
        "      <th>delay_days</th>\n",
        "    </tr>\n",
        "  </thead>\n",
        "  <tbody>\n",
        "    <tr>\n",
        "      <th>count</th>\n",
        "      <td> 3152.000000</td>\n",
        "    </tr>\n",
        "    <tr>\n",
        "      <th>mean</th>\n",
        "      <td>    8.668782</td>\n",
        "    </tr>\n",
        "    <tr>\n",
        "      <th>std</th>\n",
        "      <td>   10.121042</td>\n",
        "    </tr>\n",
        "    <tr>\n",
        "      <th>min</th>\n",
        "      <td>    1.000000</td>\n",
        "    </tr>\n",
        "    <tr>\n",
        "      <th>25%</th>\n",
        "      <td>    4.000000</td>\n",
        "    </tr>\n",
        "    <tr>\n",
        "      <th>50%</th>\n",
        "      <td>    6.000000</td>\n",
        "    </tr>\n",
        "    <tr>\n",
        "      <th>75%</th>\n",
        "      <td>   10.000000</td>\n",
        "    </tr>\n",
        "    <tr>\n",
        "      <th>max</th>\n",
        "      <td>  184.000000</td>\n",
        "    </tr>\n",
        "  </tbody>\n",
        "</table>\n",
        "<p>8 rows \u00d7 1 columns</p>\n",
        "</div>"
       ],
       "metadata": {},
       "output_type": "pyout",
       "prompt_number": 40,
       "text": [
        "        delay_days\n",
        "count  3152.000000\n",
        "mean      8.668782\n",
        "std      10.121042\n",
        "min       1.000000\n",
        "25%       4.000000\n",
        "50%       6.000000\n",
        "75%      10.000000\n",
        "max     184.000000\n",
        "\n",
        "[8 rows x 1 columns]"
       ]
      }
     ],
     "prompt_number": 40
    },
    {
     "cell_type": "code",
     "collapsed": false,
     "input": [
      "full_df2 = pd.merge(full_df,delay_df,left_index=True,right_index=True)"
     ],
     "language": "python",
     "metadata": {},
     "outputs": [],
     "prompt_number": 41
    },
    {
     "cell_type": "code",
     "collapsed": false,
     "input": [
      "full_df2.dtypes"
     ],
     "language": "python",
     "metadata": {},
     "outputs": [
      {
       "metadata": {},
       "output_type": "pyout",
       "prompt_number": 42,
       "text": [
        "repeater         int64\n",
        "num_purchases    int64\n",
        "num_trips        int64\n",
        "delay_days       int64\n",
        "dtype: object"
       ]
      }
     ],
     "prompt_number": 42
    },
    {
     "cell_type": "code",
     "collapsed": false,
     "input": [
      "full_df2.head()"
     ],
     "language": "python",
     "metadata": {},
     "outputs": [
      {
       "html": [
        "<div style=\"max-height:1000px;max-width:1500px;overflow:auto;\">\n",
        "<table border=\"1\" class=\"dataframe\">\n",
        "  <thead>\n",
        "    <tr style=\"text-align: right;\">\n",
        "      <th></th>\n",
        "      <th>repeater</th>\n",
        "      <th>num_purchases</th>\n",
        "      <th>num_trips</th>\n",
        "      <th>delay_days</th>\n",
        "    </tr>\n",
        "    <tr>\n",
        "      <th>id</th>\n",
        "      <th></th>\n",
        "      <th></th>\n",
        "      <th></th>\n",
        "      <th></th>\n",
        "    </tr>\n",
        "  </thead>\n",
        "  <tbody>\n",
        "    <tr>\n",
        "      <th>13089312</th>\n",
        "      <td> 0</td>\n",
        "      <td> 1218</td>\n",
        "      <td> 132</td>\n",
        "      <td> 1</td>\n",
        "    </tr>\n",
        "    <tr>\n",
        "      <th>13251776</th>\n",
        "      <td> 0</td>\n",
        "      <td> 2391</td>\n",
        "      <td> 134</td>\n",
        "      <td> 6</td>\n",
        "    </tr>\n",
        "    <tr>\n",
        "      <th>17486592</th>\n",
        "      <td> 1</td>\n",
        "      <td> 1526</td>\n",
        "      <td> 141</td>\n",
        "      <td> 2</td>\n",
        "    </tr>\n",
        "    <tr>\n",
        "      <th>21603296</th>\n",
        "      <td> 0</td>\n",
        "      <td>  703</td>\n",
        "      <td>  94</td>\n",
        "      <td> 7</td>\n",
        "    </tr>\n",
        "    <tr>\n",
        "      <th>48445984</th>\n",
        "      <td> 0</td>\n",
        "      <td> 1730</td>\n",
        "      <td> 225</td>\n",
        "      <td> 1</td>\n",
        "    </tr>\n",
        "  </tbody>\n",
        "</table>\n",
        "<p>5 rows \u00d7 4 columns</p>\n",
        "</div>"
       ],
       "metadata": {},
       "output_type": "pyout",
       "prompt_number": 43,
       "text": [
        "          repeater  num_purchases  num_trips  delay_days\n",
        "id                                                      \n",
        "13089312         0           1218        132           1\n",
        "13251776         0           2391        134           6\n",
        "17486592         1           1526        141           2\n",
        "21603296         0            703         94           7\n",
        "48445984         0           1730        225           1\n",
        "\n",
        "[5 rows x 4 columns]"
       ]
      }
     ],
     "prompt_number": 43
    },
    {
     "cell_type": "code",
     "collapsed": false,
     "input": [
      "full_df2.describe()"
     ],
     "language": "python",
     "metadata": {},
     "outputs": [
      {
       "html": [
        "<div style=\"max-height:1000px;max-width:1500px;overflow:auto;\">\n",
        "<table border=\"1\" class=\"dataframe\">\n",
        "  <thead>\n",
        "    <tr style=\"text-align: right;\">\n",
        "      <th></th>\n",
        "      <th>repeater</th>\n",
        "      <th>num_purchases</th>\n",
        "      <th>num_trips</th>\n",
        "      <th>delay_days</th>\n",
        "    </tr>\n",
        "  </thead>\n",
        "  <tbody>\n",
        "    <tr>\n",
        "      <th>count</th>\n",
        "      <td> 3152.000000</td>\n",
        "      <td> 3152.000000</td>\n",
        "      <td> 3152.000000</td>\n",
        "      <td> 3152.000000</td>\n",
        "    </tr>\n",
        "    <tr>\n",
        "      <th>mean</th>\n",
        "      <td>    0.255393</td>\n",
        "      <td> 1086.750000</td>\n",
        "      <td>   83.994607</td>\n",
        "      <td>    8.668782</td>\n",
        "    </tr>\n",
        "    <tr>\n",
        "      <th>std</th>\n",
        "      <td>    0.436151</td>\n",
        "      <td>  701.294996</td>\n",
        "      <td>   49.303151</td>\n",
        "      <td>   10.121042</td>\n",
        "    </tr>\n",
        "    <tr>\n",
        "      <th>min</th>\n",
        "      <td>    0.000000</td>\n",
        "      <td>   18.000000</td>\n",
        "      <td>    5.000000</td>\n",
        "      <td>    1.000000</td>\n",
        "    </tr>\n",
        "    <tr>\n",
        "      <th>25%</th>\n",
        "      <td>    0.000000</td>\n",
        "      <td>  562.000000</td>\n",
        "      <td>   49.000000</td>\n",
        "      <td>    4.000000</td>\n",
        "    </tr>\n",
        "    <tr>\n",
        "      <th>50%</th>\n",
        "      <td>    0.000000</td>\n",
        "      <td>  957.000000</td>\n",
        "      <td>   72.000000</td>\n",
        "      <td>    6.000000</td>\n",
        "    </tr>\n",
        "    <tr>\n",
        "      <th>75%</th>\n",
        "      <td>    1.000000</td>\n",
        "      <td> 1486.500000</td>\n",
        "      <td>  109.000000</td>\n",
        "      <td>   10.000000</td>\n",
        "    </tr>\n",
        "    <tr>\n",
        "      <th>max</th>\n",
        "      <td>    1.000000</td>\n",
        "      <td> 4000.000000</td>\n",
        "      <td>  388.000000</td>\n",
        "      <td>  184.000000</td>\n",
        "    </tr>\n",
        "  </tbody>\n",
        "</table>\n",
        "<p>8 rows \u00d7 4 columns</p>\n",
        "</div>"
       ],
       "metadata": {},
       "output_type": "pyout",
       "prompt_number": 44,
       "text": [
        "          repeater  num_purchases    num_trips   delay_days\n",
        "count  3152.000000    3152.000000  3152.000000  3152.000000\n",
        "mean      0.255393    1086.750000    83.994607     8.668782\n",
        "std       0.436151     701.294996    49.303151    10.121042\n",
        "min       0.000000      18.000000     5.000000     1.000000\n",
        "25%       0.000000     562.000000    49.000000     4.000000\n",
        "50%       0.000000     957.000000    72.000000     6.000000\n",
        "75%       1.000000    1486.500000   109.000000    10.000000\n",
        "max       1.000000    4000.000000   388.000000   184.000000\n",
        "\n",
        "[8 rows x 4 columns]"
       ]
      }
     ],
     "prompt_number": 44
    },
    {
     "cell_type": "code",
     "collapsed": false,
     "input": [
      "bins_purs = range(0,200,10)\n",
      "full_df2.delay_days[full_df2.repeater == 1].hist(bins=bins_purs,color='blue',alpha=.5)\n",
      "full_df2.delay_days[full_df2.repeater == 0].hist(bins=bins_purs,color='gray',alpha=.5)"
     ],
     "language": "python",
     "metadata": {},
     "outputs": [
      {
       "metadata": {},
       "output_type": "pyout",
       "prompt_number": 45,
       "text": [
        "<matplotlib.axes.AxesSubplot at 0x10a4a0890>"
       ]
      },
      {
       "metadata": {},
       "output_type": "display_data",
       "png": "[encoded data removed]",
       "text": [
        "<matplotlib.figure.Figure at 0x10bc06d10>"
       ]
      }
     ],
     "prompt_number": 45
    },
    {
     "cell_type": "code",
     "collapsed": false,
     "input": [
      "bins_purs = range(0,50,5)\n",
      "full_df2.delay_days[full_df2.repeater == 1].hist(bins=bins_purs,color='blue',alpha=.5)\n",
      "full_df2.delay_days[full_df2.repeater == 0].hist(bins=bins_purs,color='gray',alpha=.5)"
     ],
     "language": "python",
     "metadata": {},
     "outputs": [
      {
       "metadata": {},
       "output_type": "pyout",
       "prompt_number": 46,
       "text": [
        "<matplotlib.axes.AxesSubplot at 0x10c793ad0>"
       ]
      },
      {
       "metadata": {},
       "output_type": "display_data",
       "png": "[encoded data removed]",
       "text": [
        "<matplotlib.figure.Figure at 0x10bc0ff50>"
       ]
      }
     ],
     "prompt_number": 46
    },
    {
     "cell_type": "code",
     "collapsed": false,
     "input": [
      "dd_repeater = full_df2.delay_days[full_df2.repeater == 1].mean()\n",
      "dd_nonrepeater = full_df2.delay_days[full_df2.repeater == 0].mean()\n",
      "print \"Mean delay to offer (days):  repeater = {0:.1f}, non-repeater = {1:.1f}\".format(dd_repeater, dd_nonrepeater)"
     ],
     "language": "python",
     "metadata": {},
     "outputs": [
      {
       "output_type": "stream",
       "stream": "stdout",
       "text": [
        "Mean delay to offer (days):  repeater = 8.0, non-repeater = 8.9\n"
       ]
      }
     ],
     "prompt_number": 47
    },
    {
     "cell_type": "code",
     "collapsed": false,
     "input": [
      "del purchases_df\n",
      "del trips_df\n",
      "del offervalue_df\n",
      "del delay_df\n",
      "del full_df"
     ],
     "language": "python",
     "metadata": {},
     "outputs": [],
     "prompt_number": 74
    },
    {
     "cell_type": "code",
     "collapsed": false,
     "input": [],
     "language": "python",
     "metadata": {},
     "outputs": []
    },
    {
     "cell_type": "code",
     "collapsed": false,
     "input": [
      "full_df2.columns"
     ],
     "language": "python",
     "metadata": {},
     "outputs": [
      {
       "metadata": {},
       "output_type": "pyout",
       "prompt_number": 100,
       "text": [
        "Index([u'repeater', u'num_purchases', u'num_trips', u'delay_days'], dtype='object')"
       ]
      }
     ],
     "prompt_number": 100
    },
    {
     "cell_type": "code",
     "collapsed": false,
     "input": [
      "train_cols = full_df2.columns[1:]"
     ],
     "language": "python",
     "metadata": {},
     "outputs": [],
     "prompt_number": 101
    },
    {
     "cell_type": "code",
     "collapsed": false,
     "input": [],
     "language": "python",
     "metadata": {},
     "outputs": [],
     "prompt_number": 46
    },
    {
     "cell_type": "code",
     "collapsed": false,
     "input": [
      "logit = sm.Logit(full_df2.repeater, full_df2[train_cols])"
     ],
     "language": "python",
     "metadata": {},
     "outputs": [],
     "prompt_number": 50
    },
    {
     "cell_type": "code",
     "collapsed": false,
     "input": [
      "results=logit.fit()"
     ],
     "language": "python",
     "metadata": {},
     "outputs": [
      {
       "output_type": "stream",
       "stream": "stdout",
       "text": [
        "Optimization terminated successfully.\n",
        "         Current function value: 0.581667\n",
        "         Iterations 6\n"
       ]
      }
     ],
     "prompt_number": 51
    },
    {
     "cell_type": "code",
     "collapsed": false,
     "input": [
      "results.summary()"
     ],
     "language": "python",
     "metadata": {},
     "outputs": [
      {
       "html": [
        "<table class=\"simpletable\">\n",
        "<caption>Logit Regression Results</caption>\n",
        "<tr>\n",
        "  <th>Dep. Variable:</th>     <td>repeater</td>     <th>  No. Observations:  </th>  <td>  3152</td> \n",
        "</tr>\n",
        "<tr>\n",
        "  <th>Model:</th>               <td>Logit</td>      <th>  Df Residuals:      </th>  <td>  3149</td> \n",
        "</tr>\n",
        "<tr>\n",
        "  <th>Method:</th>               <td>MLE</td>       <th>  Df Model:          </th>  <td>     2</td> \n",
        "</tr>\n",
        "<tr>\n",
        "  <th>Date:</th>          <td>Tue, 17 Jun 2014</td> <th>  Pseudo R-squ.:     </th> <td>-0.02373</td>\n",
        "</tr>\n",
        "<tr>\n",
        "  <th>Time:</th>              <td>22:56:18</td>     <th>  Log-Likelihood:    </th> <td> -1833.4</td>\n",
        "</tr>\n",
        "<tr>\n",
        "  <th>converged:</th>           <td>True</td>       <th>  LL-Null:           </th> <td> -1790.9</td>\n",
        "</tr>\n",
        "<tr>\n",
        "  <th> </th>                      <td> </td>        <th>  LLR p-value:       </th>  <td> 1.000</td> \n",
        "</tr>\n",
        "</table>\n",
        "<table class=\"simpletable\">\n",
        "<tr>\n",
        "        <td></td>           <th>coef</th>     <th>std err</th>      <th>z</th>      <th>P>|z|</th> <th>[95.0% Conf. Int.]</th> \n",
        "</tr>\n",
        "<tr>\n",
        "  <th>num_purchases</th> <td> -2.06e-05</td> <td> 7.17e-05</td> <td>   -0.287</td> <td> 0.774</td> <td>   -0.000     0.000</td>\n",
        "</tr>\n",
        "<tr>\n",
        "  <th>num_trips</th>     <td>   -0.0062</td> <td>    0.001</td> <td>   -6.423</td> <td> 0.000</td> <td>   -0.008    -0.004</td>\n",
        "</tr>\n",
        "<tr>\n",
        "  <th>delay_days</th>    <td>   -0.0503</td> <td>    0.005</td> <td>  -10.316</td> <td> 0.000</td> <td>   -0.060    -0.041</td>\n",
        "</tr>\n",
        "</table>"
       ],
       "metadata": {},
       "output_type": "pyout",
       "prompt_number": 52,
       "text": [
        "<class 'statsmodels.iolib.summary.Summary'>\n",
        "\"\"\"\n",
        "                           Logit Regression Results                           \n",
        "==============================================================================\n",
        "Dep. Variable:               repeater   No. Observations:                 3152\n",
        "Model:                          Logit   Df Residuals:                     3149\n",
        "Method:                           MLE   Df Model:                            2\n",
        "Date:                Tue, 17 Jun 2014   Pseudo R-squ.:                -0.02373\n",
        "Time:                        22:56:18   Log-Likelihood:                -1833.4\n",
        "converged:                       True   LL-Null:                       -1790.9\n",
        "                                        LLR p-value:                     1.000\n",
        "=================================================================================\n",
        "                    coef    std err          z      P>|z|      [95.0% Conf. Int.]\n",
        "---------------------------------------------------------------------------------\n",
        "num_purchases  -2.06e-05   7.17e-05     -0.287      0.774        -0.000     0.000\n",
        "num_trips        -0.0062      0.001     -6.423      0.000        -0.008    -0.004\n",
        "delay_days       -0.0503      0.005    -10.316      0.000        -0.060    -0.041\n",
        "=================================================================================\n",
        "\"\"\""
       ]
      }
     ],
     "prompt_number": 52
    },
    {
     "cell_type": "code",
     "collapsed": false,
     "input": [
      "results.params"
     ],
     "language": "python",
     "metadata": {},
     "outputs": [
      {
       "metadata": {},
       "output_type": "pyout",
       "prompt_number": 53,
       "text": [
        "num_purchases   -0.000021\n",
        "num_trips       -0.006241\n",
        "delay_days      -0.050328\n",
        "dtype: float64"
       ]
      }
     ],
     "prompt_number": 53
    },
    {
     "cell_type": "code",
     "collapsed": false,
     "input": [
      "X_train_data = full_df2[train_cols]\n",
      "y_train_data = full_df2.repeater"
     ],
     "language": "python",
     "metadata": {},
     "outputs": [],
     "prompt_number": 102
    },
    {
     "cell_type": "code",
     "collapsed": false,
     "input": [
      "from sklearn import linear_model"
     ],
     "language": "python",
     "metadata": {},
     "outputs": [],
     "prompt_number": 103
    },
    {
     "cell_type": "code",
     "collapsed": false,
     "input": [
      "lrmodel = linear_model.LogisticRegression()\n",
      "lrmodel"
     ],
     "language": "python",
     "metadata": {},
     "outputs": [
      {
       "metadata": {},
       "output_type": "pyout",
       "prompt_number": 104,
       "text": [
        "LogisticRegression(C=1.0, class_weight=None, dual=False, fit_intercept=True,\n",
        "          intercept_scaling=1, penalty='l2', random_state=None, tol=0.0001)"
       ]
      }
     ],
     "prompt_number": 104
    },
    {
     "cell_type": "code",
     "collapsed": false,
     "input": [
      "X_train_data = full_df2[train_cols]\n",
      "y_train_data = full_df2.repeater"
     ],
     "language": "python",
     "metadata": {},
     "outputs": [],
     "prompt_number": 105
    },
    {
     "cell_type": "code",
     "collapsed": false,
     "input": [
      "lrmodel.fit(X_train_data,y_train_data)"
     ],
     "language": "python",
     "metadata": {},
     "outputs": [
      {
       "metadata": {},
       "output_type": "pyout",
       "prompt_number": 106,
       "text": [
        "LogisticRegression(C=1.0, class_weight=None, dual=False, fit_intercept=True,\n",
        "          intercept_scaling=1, penalty='l2', random_state=None, tol=0.0001)"
       ]
      }
     ],
     "prompt_number": 106
    },
    {
     "cell_type": "code",
     "collapsed": false,
     "input": [
      "print(\"Training score: {0:.1f}%\".format(\n",
      "    lrmodel.score(X_train_data,y_train_data) * 100))"
     ],
     "language": "python",
     "metadata": {},
     "outputs": [
      {
       "output_type": "stream",
       "stream": "stdout",
       "text": [
        "Training score: 74.5%\n"
       ]
      }
     ],
     "prompt_number": 107
    },
    {
     "cell_type": "code",
     "collapsed": false,
     "input": [
      "lrmodel.get_params()"
     ],
     "language": "python",
     "metadata": {},
     "outputs": [
      {
       "metadata": {},
       "output_type": "pyout",
       "prompt_number": 62,
       "text": [
        "{'C': 1.0,\n",
        " 'class_weight': None,\n",
        " 'dual': False,\n",
        " 'fit_intercept': True,\n",
        " 'intercept_scaling': 1,\n",
        " 'penalty': 'l2',\n",
        " 'random_state': None,\n",
        " 'tol': 0.0001}"
       ]
      }
     ],
     "prompt_number": 62
    },
    {
     "cell_type": "code",
     "collapsed": false,
     "input": [
      "X_train_data.describe()"
     ],
     "language": "python",
     "metadata": {},
     "outputs": [
      {
       "html": [
        "<div style=\"max-height:1000px;max-width:1500px;overflow:auto;\">\n",
        "<table border=\"1\" class=\"dataframe\">\n",
        "  <thead>\n",
        "    <tr style=\"text-align: right;\">\n",
        "      <th></th>\n",
        "      <th>num_purchases</th>\n",
        "      <th>num_trips</th>\n",
        "      <th>delay_days</th>\n",
        "    </tr>\n",
        "  </thead>\n",
        "  <tbody>\n",
        "    <tr>\n",
        "      <th>count</th>\n",
        "      <td> 3152.000000</td>\n",
        "      <td> 3152.000000</td>\n",
        "      <td> 3152.000000</td>\n",
        "    </tr>\n",
        "    <tr>\n",
        "      <th>mean</th>\n",
        "      <td> 1086.750000</td>\n",
        "      <td>   83.994607</td>\n",
        "      <td>    8.668782</td>\n",
        "    </tr>\n",
        "    <tr>\n",
        "      <th>std</th>\n",
        "      <td>  701.294996</td>\n",
        "      <td>   49.303151</td>\n",
        "      <td>   10.121042</td>\n",
        "    </tr>\n",
        "    <tr>\n",
        "      <th>min</th>\n",
        "      <td>   18.000000</td>\n",
        "      <td>    5.000000</td>\n",
        "      <td>    1.000000</td>\n",
        "    </tr>\n",
        "    <tr>\n",
        "      <th>25%</th>\n",
        "      <td>  562.000000</td>\n",
        "      <td>   49.000000</td>\n",
        "      <td>    4.000000</td>\n",
        "    </tr>\n",
        "    <tr>\n",
        "      <th>50%</th>\n",
        "      <td>  957.000000</td>\n",
        "      <td>   72.000000</td>\n",
        "      <td>    6.000000</td>\n",
        "    </tr>\n",
        "    <tr>\n",
        "      <th>75%</th>\n",
        "      <td> 1486.500000</td>\n",
        "      <td>  109.000000</td>\n",
        "      <td>   10.000000</td>\n",
        "    </tr>\n",
        "    <tr>\n",
        "      <th>max</th>\n",
        "      <td> 4000.000000</td>\n",
        "      <td>  388.000000</td>\n",
        "      <td>  184.000000</td>\n",
        "    </tr>\n",
        "  </tbody>\n",
        "</table>\n",
        "<p>8 rows \u00d7 3 columns</p>\n",
        "</div>"
       ],
       "metadata": {},
       "output_type": "pyout",
       "prompt_number": 63,
       "text": [
        "       num_purchases    num_trips   delay_days\n",
        "count    3152.000000  3152.000000  3152.000000\n",
        "mean     1086.750000    83.994607     8.668782\n",
        "std       701.294996    49.303151    10.121042\n",
        "min        18.000000     5.000000     1.000000\n",
        "25%       562.000000    49.000000     4.000000\n",
        "50%       957.000000    72.000000     6.000000\n",
        "75%      1486.500000   109.000000    10.000000\n",
        "max      4000.000000   388.000000   184.000000\n",
        "\n",
        "[8 rows x 3 columns]"
       ]
      }
     ],
     "prompt_number": 63
    },
    {
     "cell_type": "code",
     "collapsed": false,
     "input": [
      "target_predicted_proba = lrmodel.predict_proba(X_train_data)\n",
      "target_predicted_proba[:5]"
     ],
     "language": "python",
     "metadata": {},
     "outputs": [
      {
       "metadata": {},
       "output_type": "pyout",
       "prompt_number": 64,
       "text": [
        "array([[ 0.73384162,  0.26615838],\n",
        "       [ 0.6980224 ,  0.3019776 ],\n",
        "       [ 0.72446676,  0.27553324],\n",
        "       [ 0.75728658,  0.24271342],\n",
        "       [ 0.71742845,  0.28257155]])"
       ]
      }
     ],
     "prompt_number": 64
    },
    {
     "cell_type": "code",
     "collapsed": false,
     "input": [
      "def plot_roc_curve(target_test, target_predicted_proba, label):\n",
      "    from sklearn.metrics import roc_curve\n",
      "    from sklearn.metrics import auc\n",
      "    \n",
      "    fpr, tpr, thresholds = roc_curve(target_test, target_predicted_proba)\n",
      "    roc_auc = auc(fpr, tpr)\n",
      "    plt.plot(fpr, tpr, label='{} ROC curve (area = {:.3f})'.format(label, roc_auc))\n",
      "    \n",
      "    plt.plot([0, 1], [0, 1], 'k--')  # random predictions curve\n",
      "    plt.xlim([0.0, 1.0])\n",
      "    plt.ylim([0.0, 1.0])\n",
      "    plt.xlabel('False Positive Rate or (1 - Specificity)')\n",
      "    plt.ylabel('True Positive Rate or (Sensitivity)')\n",
      "    plt.title('Receiver Operating Characteristic')\n",
      "    plt.legend(loc=\"lower right\")"
     ],
     "language": "python",
     "metadata": {},
     "outputs": [],
     "prompt_number": 65
    },
    {
     "cell_type": "code",
     "collapsed": false,
     "input": [
      "plot_roc_curve(y_train_data, target_predicted_proba[:,1], 'repeater')"
     ],
     "language": "python",
     "metadata": {},
     "outputs": [
      {
       "metadata": {},
       "output_type": "display_data",
       "png": "[encoded data removed]",
       "text": [
        "<matplotlib.figure.Figure at 0x10c7a5210>"
       ]
      }
     ],
     "prompt_number": 66
    },
    {
     "cell_type": "code",
     "collapsed": false,
     "input": [
      "full_df2n = full_df2.copy()"
     ],
     "language": "python",
     "metadata": {},
     "outputs": [],
     "prompt_number": 67
    },
    {
     "cell_type": "code",
     "collapsed": false,
     "input": [
      "full_df2n.describe()"
     ],
     "language": "python",
     "metadata": {},
     "outputs": [
      {
       "html": [
        "<div style=\"max-height:1000px;max-width:1500px;overflow:auto;\">\n",
        "<table border=\"1\" class=\"dataframe\">\n",
        "  <thead>\n",
        "    <tr style=\"text-align: right;\">\n",
        "      <th></th>\n",
        "      <th>repeater</th>\n",
        "      <th>num_purchases</th>\n",
        "      <th>num_trips</th>\n",
        "      <th>delay_days</th>\n",
        "    </tr>\n",
        "  </thead>\n",
        "  <tbody>\n",
        "    <tr>\n",
        "      <th>count</th>\n",
        "      <td> 3152.000000</td>\n",
        "      <td> 3152.000000</td>\n",
        "      <td> 3152.000000</td>\n",
        "      <td> 3152.000000</td>\n",
        "    </tr>\n",
        "    <tr>\n",
        "      <th>mean</th>\n",
        "      <td>    0.255393</td>\n",
        "      <td> 1086.750000</td>\n",
        "      <td>   83.994607</td>\n",
        "      <td>    8.668782</td>\n",
        "    </tr>\n",
        "    <tr>\n",
        "      <th>std</th>\n",
        "      <td>    0.436151</td>\n",
        "      <td>  701.294996</td>\n",
        "      <td>   49.303151</td>\n",
        "      <td>   10.121042</td>\n",
        "    </tr>\n",
        "    <tr>\n",
        "      <th>min</th>\n",
        "      <td>    0.000000</td>\n",
        "      <td>   18.000000</td>\n",
        "      <td>    5.000000</td>\n",
        "      <td>    1.000000</td>\n",
        "    </tr>\n",
        "    <tr>\n",
        "      <th>25%</th>\n",
        "      <td>    0.000000</td>\n",
        "      <td>  562.000000</td>\n",
        "      <td>   49.000000</td>\n",
        "      <td>    4.000000</td>\n",
        "    </tr>\n",
        "    <tr>\n",
        "      <th>50%</th>\n",
        "      <td>    0.000000</td>\n",
        "      <td>  957.000000</td>\n",
        "      <td>   72.000000</td>\n",
        "      <td>    6.000000</td>\n",
        "    </tr>\n",
        "    <tr>\n",
        "      <th>75%</th>\n",
        "      <td>    1.000000</td>\n",
        "      <td> 1486.500000</td>\n",
        "      <td>  109.000000</td>\n",
        "      <td>   10.000000</td>\n",
        "    </tr>\n",
        "    <tr>\n",
        "      <th>max</th>\n",
        "      <td>    1.000000</td>\n",
        "      <td> 4000.000000</td>\n",
        "      <td>  388.000000</td>\n",
        "      <td>  184.000000</td>\n",
        "    </tr>\n",
        "  </tbody>\n",
        "</table>\n",
        "<p>8 rows \u00d7 4 columns</p>\n",
        "</div>"
       ],
       "metadata": {},
       "output_type": "pyout",
       "prompt_number": 69,
       "text": [
        "          repeater  num_purchases    num_trips   delay_days\n",
        "count  3152.000000    3152.000000  3152.000000  3152.000000\n",
        "mean      0.255393    1086.750000    83.994607     8.668782\n",
        "std       0.436151     701.294996    49.303151    10.121042\n",
        "min       0.000000      18.000000     5.000000     1.000000\n",
        "25%       0.000000     562.000000    49.000000     4.000000\n",
        "50%       0.000000     957.000000    72.000000     6.000000\n",
        "75%       1.000000    1486.500000   109.000000    10.000000\n",
        "max       1.000000    4000.000000   388.000000   184.000000\n",
        "\n",
        "[8 rows x 4 columns]"
       ]
      }
     ],
     "prompt_number": 69
    },
    {
     "cell_type": "code",
     "collapsed": false,
     "input": [
      "cols = full_df2n.columns[1:]\n",
      "cols"
     ],
     "language": "python",
     "metadata": {},
     "outputs": [
      {
       "metadata": {},
       "output_type": "pyout",
       "prompt_number": 72,
       "text": [
        "Index([u'num_purchases', u'num_trips', u'delay_days'], dtype='object')"
       ]
      }
     ],
     "prompt_number": 72
    },
    {
     "cell_type": "code",
     "collapsed": false,
     "input": [
      "for col in cols:\n",
      "    full_df2n[col] = (full_df2[col] - full_df2[col].mean())/full_df2[col].std()"
     ],
     "language": "python",
     "metadata": {},
     "outputs": [],
     "prompt_number": 77
    },
    {
     "cell_type": "code",
     "collapsed": false,
     "input": [
      "full_df2n.describe().T"
     ],
     "language": "python",
     "metadata": {},
     "outputs": [
      {
       "html": [
        "<div style=\"max-height:1000px;max-width:1500px;overflow:auto;\">\n",
        "<table border=\"1\" class=\"dataframe\">\n",
        "  <thead>\n",
        "    <tr style=\"text-align: right;\">\n",
        "      <th></th>\n",
        "      <th>count</th>\n",
        "      <th>mean</th>\n",
        "      <th>std</th>\n",
        "      <th>min</th>\n",
        "      <th>25%</th>\n",
        "      <th>50%</th>\n",
        "      <th>75%</th>\n",
        "      <th>max</th>\n",
        "    </tr>\n",
        "  </thead>\n",
        "  <tbody>\n",
        "    <tr>\n",
        "      <th>repeater</th>\n",
        "      <td> 3152</td>\n",
        "      <td> 2.553934e-01</td>\n",
        "      <td> 0.436151</td>\n",
        "      <td> 0.000000</td>\n",
        "      <td> 0.000000</td>\n",
        "      <td> 0.000000</td>\n",
        "      <td> 1.000000</td>\n",
        "      <td>  1.000000</td>\n",
        "    </tr>\n",
        "    <tr>\n",
        "      <th>num_purchases</th>\n",
        "      <td> 3152</td>\n",
        "      <td>-7.044562e-18</td>\n",
        "      <td> 1.000000</td>\n",
        "      <td>-1.523966</td>\n",
        "      <td>-0.748259</td>\n",
        "      <td>-0.185015</td>\n",
        "      <td> 0.570017</td>\n",
        "      <td>  4.154101</td>\n",
        "    </tr>\n",
        "    <tr>\n",
        "      <th>num_trips</th>\n",
        "      <td> 3152</td>\n",
        "      <td>-6.142858e-17</td>\n",
        "      <td> 1.000000</td>\n",
        "      <td>-1.602222</td>\n",
        "      <td>-0.709784</td>\n",
        "      <td>-0.243283</td>\n",
        "      <td> 0.507176</td>\n",
        "      <td>  6.166044</td>\n",
        "    </tr>\n",
        "    <tr>\n",
        "      <th>delay_days</th>\n",
        "      <td> 3152</td>\n",
        "      <td> 5.287296e-16</td>\n",
        "      <td> 1.000000</td>\n",
        "      <td>-0.757707</td>\n",
        "      <td>-0.461295</td>\n",
        "      <td>-0.263686</td>\n",
        "      <td> 0.131530</td>\n",
        "      <td> 17.323436</td>\n",
        "    </tr>\n",
        "  </tbody>\n",
        "</table>\n",
        "<p>4 rows \u00d7 8 columns</p>\n",
        "</div>"
       ],
       "metadata": {},
       "output_type": "pyout",
       "prompt_number": 79,
       "text": [
        "               count          mean       std       min       25%       50%  \\\n",
        "repeater        3152  2.553934e-01  0.436151  0.000000  0.000000  0.000000   \n",
        "num_purchases   3152 -7.044562e-18  1.000000 -1.523966 -0.748259 -0.185015   \n",
        "num_trips       3152 -6.142858e-17  1.000000 -1.602222 -0.709784 -0.243283   \n",
        "delay_days      3152  5.287296e-16  1.000000 -0.757707 -0.461295 -0.263686   \n",
        "\n",
        "                    75%        max  \n",
        "repeater       1.000000   1.000000  \n",
        "num_purchases  0.570017   4.154101  \n",
        "num_trips      0.507176   6.166044  \n",
        "delay_days     0.131530  17.323436  \n",
        "\n",
        "[4 rows x 8 columns]"
       ]
      }
     ],
     "prompt_number": 79
    },
    {
     "cell_type": "code",
     "collapsed": false,
     "input": [
      "X_train_data = full_df2n[train_cols]\n",
      "y_train_data = full_df2n.repeater"
     ],
     "language": "python",
     "metadata": {},
     "outputs": [],
     "prompt_number": 80
    },
    {
     "cell_type": "code",
     "collapsed": false,
     "input": [
      "lrmodel.fit(X_train_data,y_train_data)"
     ],
     "language": "python",
     "metadata": {},
     "outputs": [
      {
       "metadata": {},
       "output_type": "pyout",
       "prompt_number": 81,
       "text": [
        "LogisticRegression(C=1.0, class_weight=None, dual=False, fit_intercept=True,\n",
        "          intercept_scaling=1, penalty='l2', random_state=None, tol=0.0001)"
       ]
      }
     ],
     "prompt_number": 81
    },
    {
     "cell_type": "code",
     "collapsed": false,
     "input": [
      "print(\"Training score: {0:.1f}%\".format(\n",
      "    lrmodel.score(X_train_data,y_train_data) * 100))"
     ],
     "language": "python",
     "metadata": {},
     "outputs": [
      {
       "output_type": "stream",
       "stream": "stdout",
       "text": [
        "Training score: 74.5%\n"
       ]
      }
     ],
     "prompt_number": 82
    },
    {
     "cell_type": "code",
     "collapsed": false,
     "input": [
      "# Normalizing data didn't make a difference?"
     ],
     "language": "python",
     "metadata": {},
     "outputs": []
    },
    {
     "cell_type": "code",
     "collapsed": false,
     "input": [],
     "language": "python",
     "metadata": {},
     "outputs": []
    },
    {
     "cell_type": "code",
     "collapsed": false,
     "input": [],
     "language": "python",
     "metadata": {},
     "outputs": []
    },
    {
     "cell_type": "code",
     "collapsed": false,
     "input": [
      "# Number of times each shopper had purchased the offer category before\n",
      "match_cat_df = sql.frame_query(\"\"\"\n",
      "    SELECT id\n",
      "        , MAX(CASE WHEN id_offer IS NOT NULL THEN num_purchases ELSE 0 END) AS num_match_cat\n",
      "    FROM\n",
      "        (\n",
      "        SELECT trans.id, ho.id AS id_offer, num_purchases\n",
      "        FROM\n",
      "            (\n",
      "            SELECT id, category, COUNT(1) AS num_purchases\n",
      "            FROM transactions0\n",
      "            GROUP BY 1, 2\n",
      "            ) trans\n",
      "        LEFT JOIN\n",
      "            (\n",
      "            SELECT DISTINCT id, category\n",
      "            FROM history_offers\n",
      "            ) ho\n",
      "        ON trans.id = ho.id\n",
      "        AND trans.category = ho.category\n",
      "        ) m\n",
      "    GROUP BY 1\n",
      "    \"\"\", conn, \"id\")"
     ],
     "language": "python",
     "metadata": {},
     "outputs": [],
     "prompt_number": 83
    },
    {
     "cell_type": "code",
     "collapsed": false,
     "input": [
      "full_df3 = pd.merge(full_df2,match_cat_df,left_index=True,right_index=True)"
     ],
     "language": "python",
     "metadata": {},
     "outputs": [],
     "prompt_number": 84
    },
    {
     "cell_type": "code",
     "collapsed": false,
     "input": [
      "# Number of times each shopper had purchased the offer brand before\n",
      "match_brand_df = sql.frame_query(\"\"\"\n",
      "    SELECT id\n",
      "        , MAX(CASE WHEN id_offer IS NOT NULL THEN num_purchases ELSE 0 END) AS num_match_brand\n",
      "    FROM\n",
      "        (\n",
      "        SELECT trans.id, ho.id AS id_offer, num_purchases\n",
      "        FROM\n",
      "            (\n",
      "            SELECT id, brand, COUNT(1) AS num_purchases\n",
      "            FROM transactions0\n",
      "            GROUP BY 1, 2\n",
      "            ) trans\n",
      "        LEFT JOIN\n",
      "            (\n",
      "            SELECT DISTINCT id, brand\n",
      "            FROM history_offers\n",
      "            ) ho\n",
      "        ON trans.id = ho.id\n",
      "        AND trans.brand = ho.brand\n",
      "        ) m\n",
      "    GROUP BY 1\n",
      "    \"\"\", conn, \"id\")"
     ],
     "language": "python",
     "metadata": {},
     "outputs": [],
     "prompt_number": 85
    },
    {
     "cell_type": "code",
     "collapsed": false,
     "input": [
      "full_df4 = pd.merge(full_df3,match_brand_df,left_index=True,right_index=True)"
     ],
     "language": "python",
     "metadata": {},
     "outputs": [],
     "prompt_number": 86
    },
    {
     "cell_type": "code",
     "collapsed": false,
     "input": [
      "full_df4.describe().T"
     ],
     "language": "python",
     "metadata": {},
     "outputs": [
      {
       "html": [
        "<div style=\"max-height:1000px;max-width:1500px;overflow:auto;\">\n",
        "<table border=\"1\" class=\"dataframe\">\n",
        "  <thead>\n",
        "    <tr style=\"text-align: right;\">\n",
        "      <th></th>\n",
        "      <th>count</th>\n",
        "      <th>mean</th>\n",
        "      <th>std</th>\n",
        "      <th>min</th>\n",
        "      <th>25%</th>\n",
        "      <th>50%</th>\n",
        "      <th>75%</th>\n",
        "      <th>max</th>\n",
        "    </tr>\n",
        "  </thead>\n",
        "  <tbody>\n",
        "    <tr>\n",
        "      <th>repeater</th>\n",
        "      <td> 3152</td>\n",
        "      <td>    0.255393</td>\n",
        "      <td>   0.436151</td>\n",
        "      <td>  0</td>\n",
        "      <td>   0</td>\n",
        "      <td>   0</td>\n",
        "      <td>    1.0</td>\n",
        "      <td>    1</td>\n",
        "    </tr>\n",
        "    <tr>\n",
        "      <th>num_purchases</th>\n",
        "      <td> 3152</td>\n",
        "      <td> 1086.750000</td>\n",
        "      <td> 701.294996</td>\n",
        "      <td> 18</td>\n",
        "      <td> 562</td>\n",
        "      <td> 957</td>\n",
        "      <td> 1486.5</td>\n",
        "      <td> 4000</td>\n",
        "    </tr>\n",
        "    <tr>\n",
        "      <th>num_trips</th>\n",
        "      <td> 3152</td>\n",
        "      <td>   83.994607</td>\n",
        "      <td>  49.303151</td>\n",
        "      <td>  5</td>\n",
        "      <td>  49</td>\n",
        "      <td>  72</td>\n",
        "      <td>  109.0</td>\n",
        "      <td>  388</td>\n",
        "    </tr>\n",
        "    <tr>\n",
        "      <th>delay_days</th>\n",
        "      <td> 3152</td>\n",
        "      <td>    8.668782</td>\n",
        "      <td>  10.121042</td>\n",
        "      <td>  1</td>\n",
        "      <td>   4</td>\n",
        "      <td>   6</td>\n",
        "      <td>   10.0</td>\n",
        "      <td>  184</td>\n",
        "    </tr>\n",
        "    <tr>\n",
        "      <th>num_match_cat</th>\n",
        "      <td> 3152</td>\n",
        "      <td>    4.550444</td>\n",
        "      <td>  11.780603</td>\n",
        "      <td>  0</td>\n",
        "      <td>   0</td>\n",
        "      <td>   0</td>\n",
        "      <td>    4.0</td>\n",
        "      <td>  378</td>\n",
        "    </tr>\n",
        "    <tr>\n",
        "      <th>num_match_brand</th>\n",
        "      <td> 3152</td>\n",
        "      <td>    2.653236</td>\n",
        "      <td>   7.127038</td>\n",
        "      <td>  0</td>\n",
        "      <td>   0</td>\n",
        "      <td>   0</td>\n",
        "      <td>    2.0</td>\n",
        "      <td>  219</td>\n",
        "    </tr>\n",
        "  </tbody>\n",
        "</table>\n",
        "<p>6 rows \u00d7 8 columns</p>\n",
        "</div>"
       ],
       "metadata": {},
       "output_type": "pyout",
       "prompt_number": 88,
       "text": [
        "                 count         mean         std  min  25%  50%     75%   max\n",
        "repeater          3152     0.255393    0.436151    0    0    0     1.0     1\n",
        "num_purchases     3152  1086.750000  701.294996   18  562  957  1486.5  4000\n",
        "num_trips         3152    83.994607   49.303151    5   49   72   109.0   388\n",
        "delay_days        3152     8.668782   10.121042    1    4    6    10.0   184\n",
        "num_match_cat     3152     4.550444   11.780603    0    0    0     4.0   378\n",
        "num_match_brand   3152     2.653236    7.127038    0    0    0     2.0   219\n",
        "\n",
        "[6 rows x 8 columns]"
       ]
      }
     ],
     "prompt_number": 88
    },
    {
     "cell_type": "code",
     "collapsed": false,
     "input": [],
     "language": "python",
     "metadata": {},
     "outputs": []
    },
    {
     "cell_type": "code",
     "collapsed": false,
     "input": [],
     "language": "python",
     "metadata": {},
     "outputs": []
    },
    {
     "cell_type": "code",
     "collapsed": false,
     "input": [],
     "language": "python",
     "metadata": {},
     "outputs": []
    },
    {
     "cell_type": "code",
     "collapsed": false,
     "input": [
      "full_df4.dtypes"
     ],
     "language": "python",
     "metadata": {},
     "outputs": [
      {
       "metadata": {},
       "output_type": "pyout",
       "prompt_number": 94,
       "text": [
        "repeater           int64\n",
        "num_purchases      int64\n",
        "num_trips          int64\n",
        "delay_days         int64\n",
        "num_match_cat      int64\n",
        "num_match_brand    int64\n",
        "dtype: object"
       ]
      }
     ],
     "prompt_number": 94
    },
    {
     "cell_type": "code",
     "collapsed": false,
     "input": [
      "full_df4.columns"
     ],
     "language": "python",
     "metadata": {},
     "outputs": [
      {
       "metadata": {},
       "output_type": "pyout",
       "prompt_number": 108,
       "text": [
        "Index([u'repeater', u'num_purchases', u'num_trips', u'delay_days', u'num_match_cat', u'num_match_brand'], dtype='object')"
       ]
      }
     ],
     "prompt_number": 108
    },
    {
     "cell_type": "code",
     "collapsed": false,
     "input": [
      "train_cols = full_df4.columns[1:]\n",
      "train_cols"
     ],
     "language": "python",
     "metadata": {},
     "outputs": [
      {
       "metadata": {},
       "output_type": "pyout",
       "prompt_number": 110,
       "text": [
        "Index([u'num_purchases', u'num_trips', u'delay_days', u'num_match_cat', u'num_match_brand'], dtype='object')"
       ]
      }
     ],
     "prompt_number": 110
    },
    {
     "cell_type": "code",
     "collapsed": false,
     "input": [
      "X_train_data = full_df4[train_cols]\n",
      "y_train_data = full_df4.repeater"
     ],
     "language": "python",
     "metadata": {},
     "outputs": [],
     "prompt_number": 111
    },
    {
     "cell_type": "code",
     "collapsed": false,
     "input": [
      "lrmodel = linear_model.LogisticRegression()\n",
      "lrmodel"
     ],
     "language": "python",
     "metadata": {},
     "outputs": [
      {
       "metadata": {},
       "output_type": "pyout",
       "prompt_number": 112,
       "text": [
        "LogisticRegression(C=1.0, class_weight=None, dual=False, fit_intercept=True,\n",
        "          intercept_scaling=1, penalty='l2', random_state=None, tol=0.0001)"
       ]
      }
     ],
     "prompt_number": 112
    },
    {
     "cell_type": "code",
     "collapsed": false,
     "input": [
      "lrmodel.fit(X_train_data,y_train_data)"
     ],
     "language": "python",
     "metadata": {},
     "outputs": [
      {
       "metadata": {},
       "output_type": "pyout",
       "prompt_number": 113,
       "text": [
        "LogisticRegression(C=1.0, class_weight=None, dual=False, fit_intercept=True,\n",
        "          intercept_scaling=1, penalty='l2', random_state=None, tol=0.0001)"
       ]
      }
     ],
     "prompt_number": 113
    },
    {
     "cell_type": "code",
     "collapsed": false,
     "input": [
      "print(\"Training score: {0:.1f}%\".format(\n",
      "    lrmodel.score(X_train_data,y_train_data) * 100))"
     ],
     "language": "python",
     "metadata": {},
     "outputs": [
      {
       "output_type": "stream",
       "stream": "stdout",
       "text": [
        "Training score: 74.3%\n"
       ]
      }
     ],
     "prompt_number": 114
    },
    {
     "cell_type": "code",
     "collapsed": false,
     "input": [
      "target_predicted_proba = lrmodel.predict_proba(X_train_data)\n",
      "target_predicted_proba[:5]"
     ],
     "language": "python",
     "metadata": {},
     "outputs": [
      {
       "metadata": {},
       "output_type": "pyout",
       "prompt_number": 115,
       "text": [
        "array([[ 0.76939561,  0.23060439],\n",
        "       [ 0.69174199,  0.30825801],\n",
        "       [ 0.75300546,  0.24699454],\n",
        "       [ 0.77503672,  0.22496328],\n",
        "       [ 0.76677053,  0.23322947]])"
       ]
      }
     ],
     "prompt_number": 115
    },
    {
     "cell_type": "code",
     "collapsed": false,
     "input": [
      "plot_roc_curve(y_train_data, target_predicted_proba[:,1], 'repeater')"
     ],
     "language": "python",
     "metadata": {},
     "outputs": [
      {
       "metadata": {},
       "output_type": "display_data",
       "png": "[encoded data removed]",
       "text": [
        "<matplotlib.figure.Figure at 0x1097c7590>"
       ]
      }
     ],
     "prompt_number": 116
    },
    {
     "cell_type": "code",
     "collapsed": false,
     "input": [],
     "language": "python",
     "metadata": {},
     "outputs": []
    },
    {
     "cell_type": "code",
     "collapsed": false,
     "input": [],
     "language": "python",
     "metadata": {},
     "outputs": []
    },
    {
     "cell_type": "code",
     "collapsed": false,
     "input": [
      "# is there a way to save dataframes session to session?\n",
      "# using plt.hist\n",
      "# due date"
     ],
     "language": "python",
     "metadata": {},
     "outputs": [],
     "prompt_number": 231
    },
    {
     "cell_type": "code",
     "collapsed": false,
     "input": [
      "# to do:  regularize, check for intercept, deal with bad data better"
     ],
     "language": "python",
     "metadata": {},
     "outputs": []
    }
   ],
   "metadata": {}
  }
 ]
}