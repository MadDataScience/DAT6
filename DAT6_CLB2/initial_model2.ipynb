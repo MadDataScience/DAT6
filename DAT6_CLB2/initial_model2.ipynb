{
 "metadata": {
  "name": "",
  "signature": "sha256:4006fed055e2f326287fdf4f9b7c845e3b26ab8006f47692d8b56477849cf804"
 },
 "nbformat": 3,
 "nbformat_minor": 0,
 "worksheets": [
  {
   "cells": [
    {
     "cell_type": "markdown",
     "metadata": {},
     "source": [
      "### File 4:  Initial model, second pass\n",
      "#### In this file"
     ]
    },
    {
     "cell_type": "code",
     "collapsed": false,
     "input": [
      "%matplotlib inline\n",
      "import numpy as np\n",
      "import pandas as pd\n",
      "import sqlite3\n",
      "import matplotlib.pyplot as plt\n",
      "# import scipy.stats as stats\n",
      "import statsmodels.api as sm\n",
      "# import statsmodels.formula.api as smf\n",
      "\n",
      "from pandas.io import sql\n",
      "conn = sqlite3.connect('shopping.db')"
     ],
     "language": "python",
     "metadata": {},
     "outputs": [],
     "prompt_number": 4
    },
    {
     "cell_type": "code",
     "collapsed": false,
     "input": [
      "%load_ext sql"
     ],
     "language": "python",
     "metadata": {},
     "outputs": [],
     "prompt_number": 5
    },
    {
     "cell_type": "code",
     "collapsed": false,
     "input": [
      "%%bash\n",
      "sqlite3 shopping.db .tables"
     ],
     "language": "python",
     "metadata": {},
     "outputs": [
      {
       "output_type": "stream",
       "stream": "stdout",
       "text": [
        "history         shopvars        transactions2   transactions5   transactions8 \n",
        "history_offers  transactions0   transactions3   transactions6   transactions9 \n",
        "offers          transactions1   transactions4   transactions7 \n"
       ]
      }
     ],
     "prompt_number": 6
    },
    {
     "cell_type": "code",
     "collapsed": false,
     "input": [
      "%%sql sqlite:///shopping.db\n",
      "SELECT * FROM shopvars LIMIT 5"
     ],
     "language": "python",
     "metadata": {},
     "outputs": [
      {
       "output_type": "stream",
       "stream": "stdout",
       "text": [
        "Done.\n"
       ]
      },
      {
       "html": [
        "<table>\n",
        "    <tr>\n",
        "        <th>id</th>\n",
        "        <th>repeater</th>\n",
        "        <th>repeattrips</th>\n",
        "        <th>offerdate</th>\n",
        "        <th>offer</th>\n",
        "        <th>chain</th>\n",
        "        <th>market</th>\n",
        "        <th>category</th>\n",
        "        <th>quantity</th>\n",
        "        <th>company</th>\n",
        "        <th>offervalue</th>\n",
        "        <th>brand</th>\n",
        "        <th>num_purchases</th>\n",
        "        <th>num_trips</th>\n",
        "        <th>min_date</th>\n",
        "        <th>max_date</th>\n",
        "        <th>offer_delay</th>\n",
        "        <th>shopper_age</th>\n",
        "        <th>shopper_lifetime</th>\n",
        "        <th>total_purs_spend</th>\n",
        "        <th>num_match_cat</th>\n",
        "        <th>num_match_brand</th>\n",
        "    </tr>\n",
        "    <tr>\n",
        "        <td>86246</td>\n",
        "        <td>1</td>\n",
        "        <td>5</td>\n",
        "        <td>2013-04-24</td>\n",
        "        <td>1208251</td>\n",
        "        <td>205</td>\n",
        "        <td>34</td>\n",
        "        <td>2202</td>\n",
        "        <td>1</td>\n",
        "        <td>104460040</td>\n",
        "        <td>2</td>\n",
        "        <td>3718</td>\n",
        "        <td>None</td>\n",
        "        <td>None</td>\n",
        "        <td>None</td>\n",
        "        <td>None</td>\n",
        "        <td>None</td>\n",
        "        <td>None</td>\n",
        "        <td>None</td>\n",
        "        <td>None</td>\n",
        "        <td>0</td>\n",
        "        <td>0</td>\n",
        "    </tr>\n",
        "    <tr>\n",
        "        <td>86252</td>\n",
        "        <td>1</td>\n",
        "        <td>16</td>\n",
        "        <td>2013-03-27</td>\n",
        "        <td>1197502</td>\n",
        "        <td>205</td>\n",
        "        <td>34</td>\n",
        "        <td>3203</td>\n",
        "        <td>1</td>\n",
        "        <td>106414464</td>\n",
        "        <td>0.75</td>\n",
        "        <td>13474</td>\n",
        "        <td>None</td>\n",
        "        <td>None</td>\n",
        "        <td>None</td>\n",
        "        <td>None</td>\n",
        "        <td>None</td>\n",
        "        <td>None</td>\n",
        "        <td>None</td>\n",
        "        <td>None</td>\n",
        "        <td>0</td>\n",
        "        <td>0</td>\n",
        "    </tr>\n",
        "    <tr>\n",
        "        <td>12682470</td>\n",
        "        <td>0</td>\n",
        "        <td>0</td>\n",
        "        <td>2013-03-28</td>\n",
        "        <td>1197502</td>\n",
        "        <td>18</td>\n",
        "        <td>11</td>\n",
        "        <td>3203</td>\n",
        "        <td>1</td>\n",
        "        <td>106414464</td>\n",
        "        <td>0.75</td>\n",
        "        <td>13474</td>\n",
        "        <td>None</td>\n",
        "        <td>None</td>\n",
        "        <td>None</td>\n",
        "        <td>None</td>\n",
        "        <td>None</td>\n",
        "        <td>None</td>\n",
        "        <td>None</td>\n",
        "        <td>None</td>\n",
        "        <td>0</td>\n",
        "        <td>0</td>\n",
        "    </tr>\n",
        "    <tr>\n",
        "        <td>12996040</td>\n",
        "        <td>0</td>\n",
        "        <td>0</td>\n",
        "        <td>2013-03-25</td>\n",
        "        <td>1197502</td>\n",
        "        <td>15</td>\n",
        "        <td>9</td>\n",
        "        <td>3203</td>\n",
        "        <td>1</td>\n",
        "        <td>106414464</td>\n",
        "        <td>0.75</td>\n",
        "        <td>13474</td>\n",
        "        <td>None</td>\n",
        "        <td>None</td>\n",
        "        <td>None</td>\n",
        "        <td>None</td>\n",
        "        <td>None</td>\n",
        "        <td>None</td>\n",
        "        <td>None</td>\n",
        "        <td>None</td>\n",
        "        <td>0</td>\n",
        "        <td>0</td>\n",
        "    </tr>\n",
        "    <tr>\n",
        "        <td>13089312</td>\n",
        "        <td>0</td>\n",
        "        <td>0</td>\n",
        "        <td>2013-04-01</td>\n",
        "        <td>1204821</td>\n",
        "        <td>15</td>\n",
        "        <td>9</td>\n",
        "        <td>5619</td>\n",
        "        <td>1</td>\n",
        "        <td>107717272</td>\n",
        "        <td>1.5</td>\n",
        "        <td>102504</td>\n",
        "        <td>1218</td>\n",
        "        <td>132</td>\n",
        "        <td>2012-03-05</td>\n",
        "        <td>2013-03-31</td>\n",
        "        <td>1</td>\n",
        "        <td>392</td>\n",
        "        <td>391</td>\n",
        "        <td>3890.68</td>\n",
        "        <td>0</td>\n",
        "        <td>3</td>\n",
        "    </tr>\n",
        "</table>"
       ],
       "metadata": {},
       "output_type": "pyout",
       "prompt_number": 7,
       "text": [
        "[(86246, 1, 5, u'2013-04-24', 1208251, 205, 34, 2202, 1, 104460040, 2, 3718, None, None, None, None, None, None, None, None, 0, 0),\n",
        " (86252, 1, 16, u'2013-03-27', 1197502, 205, 34, 3203, 1, 106414464, 0.75, 13474, None, None, None, None, None, None, None, None, 0, 0),\n",
        " (12682470, 0, 0, u'2013-03-28', 1197502, 18, 11, 3203, 1, 106414464, 0.75, 13474, None, None, None, None, None, None, None, None, 0, 0),\n",
        " (12996040, 0, 0, u'2013-03-25', 1197502, 15, 9, 3203, 1, 106414464, 0.75, 13474, None, None, None, None, None, None, None, None, 0, 0),\n",
        " (13089312, 0, 0, u'2013-04-01', 1204821, 15, 9, 5619, 1, 107717272, 1.5, 102504, 1218, 132, u'2012-03-05', u'2013-03-31', 1, 392, 391, 3890.679999999957, 0, 3)]"
       ]
      }
     ],
     "prompt_number": 7
    },
    {
     "cell_type": "markdown",
     "metadata": {},
     "source": [
      "#### Extracting variables to use in model"
     ]
    },
    {
     "cell_type": "code",
     "collapsed": false,
     "input": [
      "# Number of purchases each shopper made\n",
      "vars_df = sql.frame_query(\"\"\"\n",
      "    SELECT * FROM shopvars\n",
      "    WHERE num_purchases IS NOT NULL\n",
      "    \"\"\", conn, \"id\")"
     ],
     "language": "python",
     "metadata": {},
     "outputs": [],
     "prompt_number": 9
    },
    {
     "cell_type": "code",
     "collapsed": false,
     "input": [
      "vars_df.describe().T"
     ],
     "language": "python",
     "metadata": {},
     "outputs": [
      {
       "html": [
        "<div style=\"max-height:1000px;max-width:1500px;overflow:auto;\">\n",
        "<table border=\"1\" class=\"dataframe\">\n",
        "  <thead>\n",
        "    <tr style=\"text-align: right;\">\n",
        "      <th></th>\n",
        "      <th>repeater</th>\n",
        "      <th>repeattrips</th>\n",
        "      <th>offer</th>\n",
        "      <th>chain</th>\n",
        "      <th>market</th>\n",
        "      <th>category</th>\n",
        "      <th>quantity</th>\n",
        "      <th>company</th>\n",
        "      <th>offervalue</th>\n",
        "      <th>brand</th>\n",
        "      <th>num_purchases</th>\n",
        "      <th>num_trips</th>\n",
        "      <th>offer_delay</th>\n",
        "      <th>shopper_age</th>\n",
        "      <th>shopper_lifetime</th>\n",
        "      <th>total_purs_spend</th>\n",
        "      <th>num_match_cat</th>\n",
        "      <th>num_match_brand</th>\n",
        "    </tr>\n",
        "  </thead>\n",
        "  <tbody>\n",
        "    <tr>\n",
        "      <th>count</th>\n",
        "      <td> 3152.000000</td>\n",
        "      <td> 3152.000000</td>\n",
        "      <td>    3152.000000</td>\n",
        "      <td> 3152.000000</td>\n",
        "      <td> 3152.000000</td>\n",
        "      <td> 3152.000000</td>\n",
        "      <td> 3152</td>\n",
        "      <td> 3.152000e+03</td>\n",
        "      <td> 3152.000000</td>\n",
        "      <td>   3152.000000</td>\n",
        "      <td>   3152.000000</td>\n",
        "      <td> 3152.000000</td>\n",
        "      <td> 3152.000000</td>\n",
        "      <td> 3152.000000</td>\n",
        "      <td> 3152.000000</td>\n",
        "      <td>   3152.000000</td>\n",
        "      <td> 3152.000000</td>\n",
        "      <td> 3152.000000</td>\n",
        "    </tr>\n",
        "    <tr>\n",
        "      <th>mean</th>\n",
        "      <td>    0.255393</td>\n",
        "      <td>    0.555838</td>\n",
        "      <td> 1201606.899746</td>\n",
        "      <td>  103.635787</td>\n",
        "      <td>   18.611358</td>\n",
        "      <td> 4070.640863</td>\n",
        "      <td>    1</td>\n",
        "      <td> 2.136093e+08</td>\n",
        "      <td>    1.257931</td>\n",
        "      <td>  17341.180838</td>\n",
        "      <td>   1129.434010</td>\n",
        "      <td>   83.994607</td>\n",
        "      <td>    8.668782</td>\n",
        "      <td>  392.236041</td>\n",
        "      <td>  383.567259</td>\n",
        "      <td>   4598.877763</td>\n",
        "      <td>    4.550444</td>\n",
        "      <td>    2.653236</td>\n",
        "    </tr>\n",
        "    <tr>\n",
        "      <th>std</th>\n",
        "      <td>    0.436151</td>\n",
        "      <td>    1.539924</td>\n",
        "      <td>    4853.356944</td>\n",
        "      <td>  114.730274</td>\n",
        "      <td>   15.461246</td>\n",
        "      <td> 2221.684248</td>\n",
        "      <td>    0</td>\n",
        "      <td> 3.067264e+08</td>\n",
        "      <td>    0.538151</td>\n",
        "      <td>  20518.546891</td>\n",
        "      <td>   2441.609402</td>\n",
        "      <td>   49.303151</td>\n",
        "      <td>   10.121042</td>\n",
        "      <td>   26.538490</td>\n",
        "      <td>   29.540497</td>\n",
        "      <td>  12835.904971</td>\n",
        "      <td>   11.780603</td>\n",
        "      <td>    7.127038</td>\n",
        "    </tr>\n",
        "    <tr>\n",
        "      <th>min</th>\n",
        "      <td>    0.000000</td>\n",
        "      <td>    0.000000</td>\n",
        "      <td> 1194044.000000</td>\n",
        "      <td>    2.000000</td>\n",
        "      <td>    1.000000</td>\n",
        "      <td> 1703.000000</td>\n",
        "      <td>    1</td>\n",
        "      <td> 1.033200e+08</td>\n",
        "      <td>    0.750000</td>\n",
        "      <td>    875.000000</td>\n",
        "      <td>     18.000000</td>\n",
        "      <td>    5.000000</td>\n",
        "      <td>    1.000000</td>\n",
        "      <td>   73.000000</td>\n",
        "      <td>   65.000000</td>\n",
        "      <td>     74.830000</td>\n",
        "      <td>    0.000000</td>\n",
        "      <td>    0.000000</td>\n",
        "    </tr>\n",
        "    <tr>\n",
        "      <th>25%</th>\n",
        "      <td>    0.000000</td>\n",
        "      <td>    0.000000</td>\n",
        "      <td> 1197502.000000</td>\n",
        "      <td>   21.000000</td>\n",
        "      <td>   10.000000</td>\n",
        "      <td> 2202.000000</td>\n",
        "      <td>    1</td>\n",
        "      <td> 1.051000e+08</td>\n",
        "      <td>    0.750000</td>\n",
        "      <td>   6926.000000</td>\n",
        "      <td>    562.000000</td>\n",
        "      <td>   49.000000</td>\n",
        "      <td>    4.000000</td>\n",
        "      <td>  383.000000</td>\n",
        "      <td>  373.000000</td>\n",
        "      <td>   2182.412500</td>\n",
        "      <td>    0.000000</td>\n",
        "      <td>    0.000000</td>\n",
        "    </tr>\n",
        "    <tr>\n",
        "      <th>50%</th>\n",
        "      <td>    0.000000</td>\n",
        "      <td>    0.000000</td>\n",
        "      <td> 1199258.000000</td>\n",
        "      <td>   65.000000</td>\n",
        "      <td>   14.000000</td>\n",
        "      <td> 3203.000000</td>\n",
        "      <td>    1</td>\n",
        "      <td> 1.064145e+08</td>\n",
        "      <td>    1.000000</td>\n",
        "      <td>  13474.000000</td>\n",
        "      <td>    957.000000</td>\n",
        "      <td>   72.000000</td>\n",
        "      <td>    6.000000</td>\n",
        "      <td>  391.000000</td>\n",
        "      <td>  385.000000</td>\n",
        "      <td>   3764.795000</td>\n",
        "      <td>    0.000000</td>\n",
        "      <td>    0.000000</td>\n",
        "    </tr>\n",
        "    <tr>\n",
        "      <th>75%</th>\n",
        "      <td>    1.000000</td>\n",
        "      <td>    1.000000</td>\n",
        "      <td> 1208251.000000</td>\n",
        "      <td>  133.000000</td>\n",
        "      <td>   24.000000</td>\n",
        "      <td> 5558.000000</td>\n",
        "      <td>    1</td>\n",
        "      <td> 1.071280e+08</td>\n",
        "      <td>    1.500000</td>\n",
        "      <td>  13791.000000</td>\n",
        "      <td>   1486.500000</td>\n",
        "      <td>  109.000000</td>\n",
        "      <td>   10.000000</td>\n",
        "      <td>  413.000000</td>\n",
        "      <td>  406.000000</td>\n",
        "      <td>   5918.555000</td>\n",
        "      <td>    4.000000</td>\n",
        "      <td>    2.000000</td>\n",
        "    </tr>\n",
        "    <tr>\n",
        "      <th>max</th>\n",
        "      <td>    1.000000</td>\n",
        "      <td>   22.000000</td>\n",
        "      <td> 1208503.000000</td>\n",
        "      <td>  510.000000</td>\n",
        "      <td>   96.000000</td>\n",
        "      <td> 9909.000000</td>\n",
        "      <td>    1</td>\n",
        "      <td> 1.089520e+09</td>\n",
        "      <td>    3.000000</td>\n",
        "      <td> 102504.000000</td>\n",
        "      <td> 132224.000000</td>\n",
        "      <td>  388.000000</td>\n",
        "      <td>  184.000000</td>\n",
        "      <td>  424.000000</td>\n",
        "      <td>  422.000000</td>\n",
        "      <td> 704980.780000</td>\n",
        "      <td>  378.000000</td>\n",
        "      <td>  219.000000</td>\n",
        "    </tr>\n",
        "  </tbody>\n",
        "</table>\n",
        "<p>8 rows \u00d7 18 columns</p>\n",
        "</div>"
       ],
       "metadata": {},
       "output_type": "pyout",
       "prompt_number": 41,
       "text": [
        "          repeater  repeattrips           offer        chain       market  \\\n",
        "count  3152.000000  3152.000000     3152.000000  3152.000000  3152.000000   \n",
        "mean      0.255393     0.555838  1201606.899746   103.635787    18.611358   \n",
        "std       0.436151     1.539924     4853.356944   114.730274    15.461246   \n",
        "min       0.000000     0.000000  1194044.000000     2.000000     1.000000   \n",
        "25%       0.000000     0.000000  1197502.000000    21.000000    10.000000   \n",
        "50%       0.000000     0.000000  1199258.000000    65.000000    14.000000   \n",
        "75%       1.000000     1.000000  1208251.000000   133.000000    24.000000   \n",
        "max       1.000000    22.000000  1208503.000000   510.000000    96.000000   \n",
        "\n",
        "          category  quantity       company   offervalue          brand  \\\n",
        "count  3152.000000      3152  3.152000e+03  3152.000000    3152.000000   \n",
        "mean   4070.640863         1  2.136093e+08     1.257931   17341.180838   \n",
        "std    2221.684248         0  3.067264e+08     0.538151   20518.546891   \n",
        "min    1703.000000         1  1.033200e+08     0.750000     875.000000   \n",
        "25%    2202.000000         1  1.051000e+08     0.750000    6926.000000   \n",
        "50%    3203.000000         1  1.064145e+08     1.000000   13474.000000   \n",
        "75%    5558.000000         1  1.071280e+08     1.500000   13791.000000   \n",
        "max    9909.000000         1  1.089520e+09     3.000000  102504.000000   \n",
        "\n",
        "       num_purchases    num_trips  offer_delay  shopper_age  shopper_lifetime  \\\n",
        "count    3152.000000  3152.000000  3152.000000  3152.000000       3152.000000   \n",
        "mean     1129.434010    83.994607     8.668782   392.236041        383.567259   \n",
        "std      2441.609402    49.303151    10.121042    26.538490         29.540497   \n",
        "min        18.000000     5.000000     1.000000    73.000000         65.000000   \n",
        "25%       562.000000    49.000000     4.000000   383.000000        373.000000   \n",
        "50%       957.000000    72.000000     6.000000   391.000000        385.000000   \n",
        "75%      1486.500000   109.000000    10.000000   413.000000        406.000000   \n",
        "max    132224.000000   388.000000   184.000000   424.000000        422.000000   \n",
        "\n",
        "       total_purs_spend  num_match_cat  num_match_brand  \n",
        "count       3152.000000    3152.000000      3152.000000  \n",
        "mean        4598.877763       4.550444         2.653236  \n",
        "std        12835.904971      11.780603         7.127038  \n",
        "min           74.830000       0.000000         0.000000  \n",
        "25%         2182.412500       0.000000         0.000000  \n",
        "50%         3764.795000       0.000000         0.000000  \n",
        "75%         5918.555000       4.000000         2.000000  \n",
        "max       704980.780000     378.000000       219.000000  \n",
        "\n",
        "[8 rows x 18 columns]"
       ]
      }
     ],
     "prompt_number": 41
    },
    {
     "cell_type": "code",
     "collapsed": false,
     "input": [
      "x = vars_df.describe()"
     ],
     "language": "python",
     "metadata": {},
     "outputs": [],
     "prompt_number": 11
    },
    {
     "cell_type": "code",
     "collapsed": false,
     "input": [
      "colx = x.columns"
     ],
     "language": "python",
     "metadata": {},
     "outputs": [],
     "prompt_number": 15
    },
    {
     "cell_type": "code",
     "collapsed": false,
     "input": [
      "print \"{0} {1}\".format(colx[0],x[colx[0]]['count'])"
     ],
     "language": "python",
     "metadata": {},
     "outputs": [
      {
       "output_type": "stream",
       "stream": "stdout",
       "text": [
        "repeater 3152.0\n"
       ]
      }
     ],
     "prompt_number": 46
    },
    {
     "cell_type": "code",
     "collapsed": false,
     "input": [
      "x.repeater['min']"
     ],
     "language": "python",
     "metadata": {},
     "outputs": [
      {
       "metadata": {},
       "output_type": "pyout",
       "prompt_number": 44,
       "text": [
        "0.25539340101522845"
       ]
      }
     ],
     "prompt_number": 44
    },
    {
     "cell_type": "code",
     "collapsed": false,
     "input": [
      "x"
     ],
     "language": "python",
     "metadata": {},
     "outputs": [
      {
       "html": [
        "<div style=\"max-height:1000px;max-width:1500px;overflow:auto;\">\n",
        "<table border=\"1\" class=\"dataframe\">\n",
        "  <thead>\n",
        "    <tr style=\"text-align: right;\">\n",
        "      <th></th>\n",
        "      <th>repeater</th>\n",
        "      <th>repeattrips</th>\n",
        "      <th>offer</th>\n",
        "      <th>chain</th>\n",
        "      <th>market</th>\n",
        "      <th>category</th>\n",
        "      <th>quantity</th>\n",
        "      <th>company</th>\n",
        "      <th>offervalue</th>\n",
        "      <th>brand</th>\n",
        "      <th>num_purchases</th>\n",
        "      <th>num_trips</th>\n",
        "      <th>offer_delay</th>\n",
        "      <th>shopper_age</th>\n",
        "      <th>shopper_lifetime</th>\n",
        "      <th>total_purs_spend</th>\n",
        "      <th>num_match_cat</th>\n",
        "      <th>num_match_brand</th>\n",
        "    </tr>\n",
        "  </thead>\n",
        "  <tbody>\n",
        "    <tr>\n",
        "      <th>count</th>\n",
        "      <td> 3152.000000</td>\n",
        "      <td> 3152.000000</td>\n",
        "      <td>    3152.000000</td>\n",
        "      <td> 3152.000000</td>\n",
        "      <td> 3152.000000</td>\n",
        "      <td> 3152.000000</td>\n",
        "      <td> 3152</td>\n",
        "      <td> 3.152000e+03</td>\n",
        "      <td> 3152.000000</td>\n",
        "      <td>   3152.000000</td>\n",
        "      <td>   3152.000000</td>\n",
        "      <td> 3152.000000</td>\n",
        "      <td> 3152.000000</td>\n",
        "      <td> 3152.000000</td>\n",
        "      <td> 3152.000000</td>\n",
        "      <td>   3152.000000</td>\n",
        "      <td> 3152.000000</td>\n",
        "      <td> 3152.000000</td>\n",
        "    </tr>\n",
        "    <tr>\n",
        "      <th>mean</th>\n",
        "      <td>    0.255393</td>\n",
        "      <td>    0.555838</td>\n",
        "      <td> 1201606.899746</td>\n",
        "      <td>  103.635787</td>\n",
        "      <td>   18.611358</td>\n",
        "      <td> 4070.640863</td>\n",
        "      <td>    1</td>\n",
        "      <td> 2.136093e+08</td>\n",
        "      <td>    1.257931</td>\n",
        "      <td>  17341.180838</td>\n",
        "      <td>   1129.434010</td>\n",
        "      <td>   83.994607</td>\n",
        "      <td>    8.668782</td>\n",
        "      <td>  392.236041</td>\n",
        "      <td>  383.567259</td>\n",
        "      <td>   4598.877763</td>\n",
        "      <td>    4.550444</td>\n",
        "      <td>    2.653236</td>\n",
        "    </tr>\n",
        "    <tr>\n",
        "      <th>std</th>\n",
        "      <td>    0.436151</td>\n",
        "      <td>    1.539924</td>\n",
        "      <td>    4853.356944</td>\n",
        "      <td>  114.730274</td>\n",
        "      <td>   15.461246</td>\n",
        "      <td> 2221.684248</td>\n",
        "      <td>    0</td>\n",
        "      <td> 3.067264e+08</td>\n",
        "      <td>    0.538151</td>\n",
        "      <td>  20518.546891</td>\n",
        "      <td>   2441.609402</td>\n",
        "      <td>   49.303151</td>\n",
        "      <td>   10.121042</td>\n",
        "      <td>   26.538490</td>\n",
        "      <td>   29.540497</td>\n",
        "      <td>  12835.904971</td>\n",
        "      <td>   11.780603</td>\n",
        "      <td>    7.127038</td>\n",
        "    </tr>\n",
        "    <tr>\n",
        "      <th>min</th>\n",
        "      <td>    0.000000</td>\n",
        "      <td>    0.000000</td>\n",
        "      <td> 1194044.000000</td>\n",
        "      <td>    2.000000</td>\n",
        "      <td>    1.000000</td>\n",
        "      <td> 1703.000000</td>\n",
        "      <td>    1</td>\n",
        "      <td> 1.033200e+08</td>\n",
        "      <td>    0.750000</td>\n",
        "      <td>    875.000000</td>\n",
        "      <td>     18.000000</td>\n",
        "      <td>    5.000000</td>\n",
        "      <td>    1.000000</td>\n",
        "      <td>   73.000000</td>\n",
        "      <td>   65.000000</td>\n",
        "      <td>     74.830000</td>\n",
        "      <td>    0.000000</td>\n",
        "      <td>    0.000000</td>\n",
        "    </tr>\n",
        "    <tr>\n",
        "      <th>25%</th>\n",
        "      <td>    0.000000</td>\n",
        "      <td>    0.000000</td>\n",
        "      <td> 1197502.000000</td>\n",
        "      <td>   21.000000</td>\n",
        "      <td>   10.000000</td>\n",
        "      <td> 2202.000000</td>\n",
        "      <td>    1</td>\n",
        "      <td> 1.051000e+08</td>\n",
        "      <td>    0.750000</td>\n",
        "      <td>   6926.000000</td>\n",
        "      <td>    562.000000</td>\n",
        "      <td>   49.000000</td>\n",
        "      <td>    4.000000</td>\n",
        "      <td>  383.000000</td>\n",
        "      <td>  373.000000</td>\n",
        "      <td>   2182.412500</td>\n",
        "      <td>    0.000000</td>\n",
        "      <td>    0.000000</td>\n",
        "    </tr>\n",
        "    <tr>\n",
        "      <th>50%</th>\n",
        "      <td>    0.000000</td>\n",
        "      <td>    0.000000</td>\n",
        "      <td> 1199258.000000</td>\n",
        "      <td>   65.000000</td>\n",
        "      <td>   14.000000</td>\n",
        "      <td> 3203.000000</td>\n",
        "      <td>    1</td>\n",
        "      <td> 1.064145e+08</td>\n",
        "      <td>    1.000000</td>\n",
        "      <td>  13474.000000</td>\n",
        "      <td>    957.000000</td>\n",
        "      <td>   72.000000</td>\n",
        "      <td>    6.000000</td>\n",
        "      <td>  391.000000</td>\n",
        "      <td>  385.000000</td>\n",
        "      <td>   3764.795000</td>\n",
        "      <td>    0.000000</td>\n",
        "      <td>    0.000000</td>\n",
        "    </tr>\n",
        "    <tr>\n",
        "      <th>75%</th>\n",
        "      <td>    1.000000</td>\n",
        "      <td>    1.000000</td>\n",
        "      <td> 1208251.000000</td>\n",
        "      <td>  133.000000</td>\n",
        "      <td>   24.000000</td>\n",
        "      <td> 5558.000000</td>\n",
        "      <td>    1</td>\n",
        "      <td> 1.071280e+08</td>\n",
        "      <td>    1.500000</td>\n",
        "      <td>  13791.000000</td>\n",
        "      <td>   1486.500000</td>\n",
        "      <td>  109.000000</td>\n",
        "      <td>   10.000000</td>\n",
        "      <td>  413.000000</td>\n",
        "      <td>  406.000000</td>\n",
        "      <td>   5918.555000</td>\n",
        "      <td>    4.000000</td>\n",
        "      <td>    2.000000</td>\n",
        "    </tr>\n",
        "    <tr>\n",
        "      <th>max</th>\n",
        "      <td>    1.000000</td>\n",
        "      <td>   22.000000</td>\n",
        "      <td> 1208503.000000</td>\n",
        "      <td>  510.000000</td>\n",
        "      <td>   96.000000</td>\n",
        "      <td> 9909.000000</td>\n",
        "      <td>    1</td>\n",
        "      <td> 1.089520e+09</td>\n",
        "      <td>    3.000000</td>\n",
        "      <td> 102504.000000</td>\n",
        "      <td> 132224.000000</td>\n",
        "      <td>  388.000000</td>\n",
        "      <td>  184.000000</td>\n",
        "      <td>  424.000000</td>\n",
        "      <td>  422.000000</td>\n",
        "      <td> 704980.780000</td>\n",
        "      <td>  378.000000</td>\n",
        "      <td>  219.000000</td>\n",
        "    </tr>\n",
        "  </tbody>\n",
        "</table>\n",
        "<p>8 rows \u00d7 18 columns</p>\n",
        "</div>"
       ],
       "metadata": {},
       "output_type": "pyout",
       "prompt_number": 42,
       "text": [
        "          repeater  repeattrips           offer        chain       market  \\\n",
        "count  3152.000000  3152.000000     3152.000000  3152.000000  3152.000000   \n",
        "mean      0.255393     0.555838  1201606.899746   103.635787    18.611358   \n",
        "std       0.436151     1.539924     4853.356944   114.730274    15.461246   \n",
        "min       0.000000     0.000000  1194044.000000     2.000000     1.000000   \n",
        "25%       0.000000     0.000000  1197502.000000    21.000000    10.000000   \n",
        "50%       0.000000     0.000000  1199258.000000    65.000000    14.000000   \n",
        "75%       1.000000     1.000000  1208251.000000   133.000000    24.000000   \n",
        "max       1.000000    22.000000  1208503.000000   510.000000    96.000000   \n",
        "\n",
        "          category  quantity       company   offervalue          brand  \\\n",
        "count  3152.000000      3152  3.152000e+03  3152.000000    3152.000000   \n",
        "mean   4070.640863         1  2.136093e+08     1.257931   17341.180838   \n",
        "std    2221.684248         0  3.067264e+08     0.538151   20518.546891   \n",
        "min    1703.000000         1  1.033200e+08     0.750000     875.000000   \n",
        "25%    2202.000000         1  1.051000e+08     0.750000    6926.000000   \n",
        "50%    3203.000000         1  1.064145e+08     1.000000   13474.000000   \n",
        "75%    5558.000000         1  1.071280e+08     1.500000   13791.000000   \n",
        "max    9909.000000         1  1.089520e+09     3.000000  102504.000000   \n",
        "\n",
        "       num_purchases    num_trips  offer_delay  shopper_age  shopper_lifetime  \\\n",
        "count    3152.000000  3152.000000  3152.000000  3152.000000       3152.000000   \n",
        "mean     1129.434010    83.994607     8.668782   392.236041        383.567259   \n",
        "std      2441.609402    49.303151    10.121042    26.538490         29.540497   \n",
        "min        18.000000     5.000000     1.000000    73.000000         65.000000   \n",
        "25%       562.000000    49.000000     4.000000   383.000000        373.000000   \n",
        "50%       957.000000    72.000000     6.000000   391.000000        385.000000   \n",
        "75%      1486.500000   109.000000    10.000000   413.000000        406.000000   \n",
        "max    132224.000000   388.000000   184.000000   424.000000        422.000000   \n",
        "\n",
        "       total_purs_spend  num_match_cat  num_match_brand  \n",
        "count       3152.000000    3152.000000      3152.000000  \n",
        "mean        4598.877763       4.550444         2.653236  \n",
        "std        12835.904971      11.780603         7.127038  \n",
        "min           74.830000       0.000000         0.000000  \n",
        "25%         2182.412500       0.000000         0.000000  \n",
        "50%         3764.795000       0.000000         0.000000  \n",
        "75%         5918.555000       4.000000         2.000000  \n",
        "max       704980.780000     378.000000       219.000000  \n",
        "\n",
        "[8 rows x 18 columns]"
       ]
      }
     ],
     "prompt_number": 42
    },
    {
     "cell_type": "code",
     "collapsed": false,
     "input": [
      "vars_df.columns"
     ],
     "language": "python",
     "metadata": {},
     "outputs": [
      {
       "metadata": {},
       "output_type": "pyout",
       "prompt_number": 47,
       "text": [
        "Index([u'repeater', u'repeattrips', u'offerdate', u'offer', u'chain', u'market', u'category', u'quantity', u'company', u'offervalue', u'brand', u'num_purchases', u'num_trips', u'min_date', u'max_date', u'offer_delay', u'shopper_age', u'shopper_lifetime', u'total_purs_spend', u'num_match_cat', u'num_match_brand'], dtype='object')"
       ]
      }
     ],
     "prompt_number": 47
    },
    {
     "cell_type": "code",
     "collapsed": false,
     "input": [
      "Y = vars_df.repeater"
     ],
     "language": "python",
     "metadata": {},
     "outputs": [],
     "prompt_number": 48
    },
    {
     "cell_type": "code",
     "collapsed": false,
     "input": [
      "xcols = vars_df.columns[[9,11,12,15,17,18,19,20]]"
     ],
     "language": "python",
     "metadata": {},
     "outputs": [],
     "prompt_number": 50
    },
    {
     "cell_type": "code",
     "collapsed": false,
     "input": [
      "xcols"
     ],
     "language": "python",
     "metadata": {},
     "outputs": [
      {
       "metadata": {},
       "output_type": "pyout",
       "prompt_number": 51,
       "text": [
        "Index([u'offervalue', u'num_purchases', u'num_trips', u'offer_delay', u'shopper_lifetime', u'total_purs_spend', u'num_match_cat', u'num_match_brand'], dtype='object')"
       ]
      }
     ],
     "prompt_number": 51
    },
    {
     "cell_type": "code",
     "collapsed": false,
     "input": [
      "X = vars_df[xcols]"
     ],
     "language": "python",
     "metadata": {},
     "outputs": [],
     "prompt_number": 52
    },
    {
     "cell_type": "code",
     "collapsed": false,
     "input": [
      "X.describe()"
     ],
     "language": "python",
     "metadata": {},
     "outputs": [
      {
       "html": [
        "<div style=\"max-height:1000px;max-width:1500px;overflow:auto;\">\n",
        "<table border=\"1\" class=\"dataframe\">\n",
        "  <thead>\n",
        "    <tr style=\"text-align: right;\">\n",
        "      <th></th>\n",
        "      <th>offervalue</th>\n",
        "      <th>num_purchases</th>\n",
        "      <th>num_trips</th>\n",
        "      <th>offer_delay</th>\n",
        "      <th>shopper_lifetime</th>\n",
        "      <th>total_purs_spend</th>\n",
        "      <th>num_match_cat</th>\n",
        "      <th>num_match_brand</th>\n",
        "    </tr>\n",
        "  </thead>\n",
        "  <tbody>\n",
        "    <tr>\n",
        "      <th>count</th>\n",
        "      <td> 3152.000000</td>\n",
        "      <td>   3152.000000</td>\n",
        "      <td> 3152.000000</td>\n",
        "      <td> 3152.000000</td>\n",
        "      <td> 3152.000000</td>\n",
        "      <td>   3152.000000</td>\n",
        "      <td> 3152.000000</td>\n",
        "      <td> 3152.000000</td>\n",
        "    </tr>\n",
        "    <tr>\n",
        "      <th>mean</th>\n",
        "      <td>    1.257931</td>\n",
        "      <td>   1129.434010</td>\n",
        "      <td>   83.994607</td>\n",
        "      <td>    8.668782</td>\n",
        "      <td>  383.567259</td>\n",
        "      <td>   4598.877763</td>\n",
        "      <td>    4.550444</td>\n",
        "      <td>    2.653236</td>\n",
        "    </tr>\n",
        "    <tr>\n",
        "      <th>std</th>\n",
        "      <td>    0.538151</td>\n",
        "      <td>   2441.609402</td>\n",
        "      <td>   49.303151</td>\n",
        "      <td>   10.121042</td>\n",
        "      <td>   29.540497</td>\n",
        "      <td>  12835.904971</td>\n",
        "      <td>   11.780603</td>\n",
        "      <td>    7.127038</td>\n",
        "    </tr>\n",
        "    <tr>\n",
        "      <th>min</th>\n",
        "      <td>    0.750000</td>\n",
        "      <td>     18.000000</td>\n",
        "      <td>    5.000000</td>\n",
        "      <td>    1.000000</td>\n",
        "      <td>   65.000000</td>\n",
        "      <td>     74.830000</td>\n",
        "      <td>    0.000000</td>\n",
        "      <td>    0.000000</td>\n",
        "    </tr>\n",
        "    <tr>\n",
        "      <th>25%</th>\n",
        "      <td>    0.750000</td>\n",
        "      <td>    562.000000</td>\n",
        "      <td>   49.000000</td>\n",
        "      <td>    4.000000</td>\n",
        "      <td>  373.000000</td>\n",
        "      <td>   2182.412500</td>\n",
        "      <td>    0.000000</td>\n",
        "      <td>    0.000000</td>\n",
        "    </tr>\n",
        "    <tr>\n",
        "      <th>50%</th>\n",
        "      <td>    1.000000</td>\n",
        "      <td>    957.000000</td>\n",
        "      <td>   72.000000</td>\n",
        "      <td>    6.000000</td>\n",
        "      <td>  385.000000</td>\n",
        "      <td>   3764.795000</td>\n",
        "      <td>    0.000000</td>\n",
        "      <td>    0.000000</td>\n",
        "    </tr>\n",
        "    <tr>\n",
        "      <th>75%</th>\n",
        "      <td>    1.500000</td>\n",
        "      <td>   1486.500000</td>\n",
        "      <td>  109.000000</td>\n",
        "      <td>   10.000000</td>\n",
        "      <td>  406.000000</td>\n",
        "      <td>   5918.555000</td>\n",
        "      <td>    4.000000</td>\n",
        "      <td>    2.000000</td>\n",
        "    </tr>\n",
        "    <tr>\n",
        "      <th>max</th>\n",
        "      <td>    3.000000</td>\n",
        "      <td> 132224.000000</td>\n",
        "      <td>  388.000000</td>\n",
        "      <td>  184.000000</td>\n",
        "      <td>  422.000000</td>\n",
        "      <td> 704980.780000</td>\n",
        "      <td>  378.000000</td>\n",
        "      <td>  219.000000</td>\n",
        "    </tr>\n",
        "  </tbody>\n",
        "</table>\n",
        "<p>8 rows \u00d7 8 columns</p>\n",
        "</div>"
       ],
       "metadata": {},
       "output_type": "pyout",
       "prompt_number": 53,
       "text": [
        "        offervalue  num_purchases    num_trips  offer_delay  shopper_lifetime  \\\n",
        "count  3152.000000    3152.000000  3152.000000  3152.000000       3152.000000   \n",
        "mean      1.257931    1129.434010    83.994607     8.668782        383.567259   \n",
        "std       0.538151    2441.609402    49.303151    10.121042         29.540497   \n",
        "min       0.750000      18.000000     5.000000     1.000000         65.000000   \n",
        "25%       0.750000     562.000000    49.000000     4.000000        373.000000   \n",
        "50%       1.000000     957.000000    72.000000     6.000000        385.000000   \n",
        "75%       1.500000    1486.500000   109.000000    10.000000        406.000000   \n",
        "max       3.000000  132224.000000   388.000000   184.000000        422.000000   \n",
        "\n",
        "       total_purs_spend  num_match_cat  num_match_brand  \n",
        "count       3152.000000    3152.000000      3152.000000  \n",
        "mean        4598.877763       4.550444         2.653236  \n",
        "std        12835.904971      11.780603         7.127038  \n",
        "min           74.830000       0.000000         0.000000  \n",
        "25%         2182.412500       0.000000         0.000000  \n",
        "50%         3764.795000       0.000000         0.000000  \n",
        "75%         5918.555000       4.000000         2.000000  \n",
        "max       704980.780000     378.000000       219.000000  \n",
        "\n",
        "[8 rows x 8 columns]"
       ]
      }
     ],
     "prompt_number": 53
    },
    {
     "cell_type": "code",
     "collapsed": false,
     "input": [
      "vars_df.num_purchases.hist(color='gray',bins=20)"
     ],
     "language": "python",
     "metadata": {},
     "outputs": [
      {
       "metadata": {},
       "output_type": "pyout",
       "prompt_number": 55,
       "text": [
        "<matplotlib.axes.AxesSubplot at 0x10a2eb690>"
       ]
      },
      {
       "metadata": {},
       "output_type": "display_data",
       "png": "[encoded data removed]",
       "text": [
        "<matplotlib.figure.Figure at 0x1097be1d0>"
       ]
      }
     ],
     "prompt_number": 55
    },
    {
     "cell_type": "code",
     "collapsed": false,
     "input": [
      "sorted(vars_df.num_purchases,reverse=True)[:10]"
     ],
     "language": "python",
     "metadata": {},
     "outputs": [
      {
       "metadata": {},
       "output_type": "pyout",
       "prompt_number": 57,
       "text": [
        "[132224, 7652, 5118, 4692, 4319, 4318, 4144, 4050, 4023, 3970]"
       ]
      }
     ],
     "prompt_number": 57
    },
    {
     "cell_type": "code",
     "collapsed": false,
     "input": [
      "vars_df.num_purchases[vars_df.num_purchases >= 4000] = 4000"
     ],
     "language": "python",
     "metadata": {},
     "outputs": [],
     "prompt_number": 59
    },
    {
     "cell_type": "code",
     "collapsed": false,
     "input": [
      "bins_purs = range(0,4000,100)\n",
      "vars_df.num_purchases[vars_df.repeater == 1].hist(bins=bins_purs,color='blue',alpha=.5)\n",
      "vars_df.num_purchases[vars_df.repeater == 0].hist(bins=bins_purs,color='gray',alpha=.5)"
     ],
     "language": "python",
     "metadata": {},
     "outputs": [
      {
       "metadata": {},
       "output_type": "pyout",
       "prompt_number": 60,
       "text": [
        "<matplotlib.axes.AxesSubplot at 0x10a2d8710>"
       ]
      },
      {
       "metadata": {},
       "output_type": "display_data",
       "png": "[encoded data removed]",
       "text": [
        "<matplotlib.figure.Figure at 0x1097be510>"
       ]
      }
     ],
     "prompt_number": 60
    },
    {
     "cell_type": "code",
     "collapsed": false,
     "input": [
      "np_repeater = vars_df.num_purchases[vars_df.repeater == 1].mean()\n",
      "np_nonrepeater = vars_df.num_purchases[vars_df.repeater == 0].mean()\n",
      "print \"Mean number of purchases:  repeater = {0:.1f}, non-repeater = {1:.1f}\".format(np_repeater, np_nonrepeater)"
     ],
     "language": "python",
     "metadata": {},
     "outputs": [
      {
       "output_type": "stream",
       "stream": "stdout",
       "text": [
        "Mean number of purchases:  repeater = 1157.9, non-repeater = 1062.3\n"
       ]
      }
     ],
     "prompt_number": 62
    },
    {
     "cell_type": "code",
     "collapsed": false,
     "input": [
      "vars_df.num_trips.hist(color='gray',bins=20)"
     ],
     "language": "python",
     "metadata": {},
     "outputs": [
      {
       "metadata": {},
       "output_type": "pyout",
       "prompt_number": 63,
       "text": [
        "<matplotlib.axes.AxesSubplot at 0x10a6b5e50>"
       ]
      },
      {
       "metadata": {},
       "output_type": "display_data",
       "png": "[encoded data removed]",
       "text": [
        "<matplotlib.figure.Figure at 0x10a6ad9d0>"
       ]
      }
     ],
     "prompt_number": 63
    },
    {
     "cell_type": "code",
     "collapsed": false,
     "input": [
      "bins_purs = range(0,400,10)\n",
      "vars_df.num_trips[vars_df.repeater == 1].hist(bins=bins_purs,color='blue',alpha=.5)\n",
      "vars_df.num_trips[vars_df.repeater == 0].hist(bins=bins_purs,color='gray',alpha=.5)"
     ],
     "language": "python",
     "metadata": {},
     "outputs": [
      {
       "metadata": {},
       "output_type": "pyout",
       "prompt_number": 65,
       "text": [
        "<matplotlib.axes.AxesSubplot at 0x10ae0e6d0>"
       ]
      },
      {
       "metadata": {},
       "output_type": "display_data",
       "png": "[encoded data removed]",
       "text": [
        "<matplotlib.figure.Figure at 0x10ac07250>"
       ]
      }
     ],
     "prompt_number": 65
    },
    {
     "cell_type": "code",
     "collapsed": false,
     "input": [
      "nt_repeater = vars_df.num_trips[vars_df.repeater == 1].mean()\n",
      "nt_nonrepeater = vars_df.num_trips[vars_df.repeater == 0].mean()\n",
      "print \"Mean number of trips:  repeater = {0:.1f}, non-repeater = {1:.1f}\".format(nt_repeater, nt_nonrepeater)"
     ],
     "language": "python",
     "metadata": {},
     "outputs": [
      {
       "output_type": "stream",
       "stream": "stdout",
       "text": [
        "Mean number of trips:  repeater = 87.3, non-repeater = 82.9\n"
       ]
      }
     ],
     "prompt_number": 66
    },
    {
     "cell_type": "code",
     "collapsed": false,
     "input": [
      "vars_df.offervalue.hist(color='gray',bins=20)"
     ],
     "language": "python",
     "metadata": {},
     "outputs": [
      {
       "metadata": {},
       "output_type": "pyout",
       "prompt_number": 68,
       "text": [
        "<matplotlib.axes.AxesSubplot at 0x10bc360d0>"
       ]
      },
      {
       "metadata": {},
       "output_type": "display_data",
       "png": "[encoded data removed]",
       "text": [
        "<matplotlib.figure.Figure at 0x10a626550>"
       ]
      }
     ],
     "prompt_number": 68
    },
    {
     "cell_type": "code",
     "collapsed": false,
     "input": [
      "bins_purs = np.arange(0,3.5,.5)\n",
      "vars_df.offervalue[vars_df.repeater == 1].hist(bins=bins_purs,color='blue',alpha=.5)\n",
      "vars_df.offervalue[vars_df.repeater == 0].hist(bins=bins_purs,color='gray',alpha=.5)"
     ],
     "language": "python",
     "metadata": {},
     "outputs": [
      {
       "metadata": {},
       "output_type": "pyout",
       "prompt_number": 73,
       "text": [
        "<matplotlib.axes.AxesSubplot at 0x10be67410>"
       ]
      },
      {
       "metadata": {},
       "output_type": "display_data",
       "png": "[encoded data removed]",
       "text": [
        "<matplotlib.figure.Figure at 0x10a6b3890>"
       ]
      }
     ],
     "prompt_number": 73
    },
    {
     "cell_type": "code",
     "collapsed": false,
     "input": [
      "ov_repeater = vars_df.offervalue[vars_df.repeater == 1].mean()\n",
      "ov_nonrepeater = vars_df.offervalue[vars_df.repeater == 0].mean()\n",
      "print \"Mean offer value:  repeater = {0:.1f}, non-repeater = {1:.1f}\".format(ov_repeater, ov_nonrepeater)"
     ],
     "language": "python",
     "metadata": {},
     "outputs": [
      {
       "output_type": "stream",
       "stream": "stdout",
       "text": [
        "Mean offer value:  repeater = 1.2, non-repeater = 1.3\n"
       ]
      }
     ],
     "prompt_number": 74
    },
    {
     "cell_type": "code",
     "collapsed": false,
     "input": [
      "vars_df.offer_delay.hist(color='gray',bins=20)"
     ],
     "language": "python",
     "metadata": {},
     "outputs": [
      {
       "metadata": {},
       "output_type": "pyout",
       "prompt_number": 75,
       "text": [
        "<matplotlib.axes.AxesSubplot at 0x10bc36910>"
       ]
      },
      {
       "metadata": {},
       "output_type": "display_data",
       "png": "[encoded data removed]",
       "text": [
        "<matplotlib.figure.Figure at 0x10bec2210>"
       ]
      }
     ],
     "prompt_number": 75
    },
    {
     "cell_type": "code",
     "collapsed": false,
     "input": [
      "sorted(vars_df.offer_delay,reverse=True)[:15]"
     ],
     "language": "python",
     "metadata": {},
     "outputs": [
      {
       "metadata": {},
       "output_type": "pyout",
       "prompt_number": 77,
       "text": [
        "[184, 151, 142, 141, 138, 97, 78, 77, 70, 70, 66, 61, 60, 60, 60]"
       ]
      }
     ],
     "prompt_number": 77
    },
    {
     "cell_type": "code",
     "collapsed": false,
     "input": [
      "vars_df.offer_delay[vars_df.offer_delay > 70] = 70"
     ],
     "language": "python",
     "metadata": {},
     "outputs": [],
     "prompt_number": 81
    },
    {
     "cell_type": "code",
     "collapsed": false,
     "input": [
      "vars_df.offer_delay.hist(color='gray',bins=20)"
     ],
     "language": "python",
     "metadata": {},
     "outputs": [
      {
       "metadata": {},
       "output_type": "pyout",
       "prompt_number": 82,
       "text": [
        "<matplotlib.axes.AxesSubplot at 0x10c533f50>"
       ]
      },
      {
       "metadata": {},
       "output_type": "display_data",
       "png": "[encoded data removed]",
       "text": [
        "<matplotlib.figure.Figure at 0x10bcf71d0>"
       ]
      }
     ],
     "prompt_number": 82
    },
    {
     "cell_type": "code",
     "collapsed": false,
     "input": [
      "bins_purs = np.arange(0,70,2)\n",
      "vars_df.offer_delay[vars_df.repeater == 1].hist(bins=bins_purs,color='blue',alpha=.5)\n",
      "vars_df.offer_delay[vars_df.repeater == 0].hist(bins=bins_purs,color='gray',alpha=.5)"
     ],
     "language": "python",
     "metadata": {},
     "outputs": [
      {
       "metadata": {},
       "output_type": "pyout",
       "prompt_number": 84,
       "text": [
        "<matplotlib.axes.AxesSubplot at 0x10c81cc90>"
       ]
      },
      {
       "metadata": {},
       "output_type": "display_data",
       "png": "[encoded data removed]",
       "text": [
        "<matplotlib.figure.Figure at 0x10c707e50>"
       ]
      }
     ],
     "prompt_number": 84
    },
    {
     "cell_type": "code",
     "collapsed": false,
     "input": [
      "od_repeater = vars_df.offer_delay[vars_df.repeater == 1].mean()\n",
      "od_nonrepeater = vars_df.offer_delay[vars_df.repeater == 0].mean()\n",
      "print \"Mean offer delay:  repeater = {0:.1f}, non-repeater = {1:.1f}\".format(od_repeater, od_nonrepeater)"
     ],
     "language": "python",
     "metadata": {},
     "outputs": [
      {
       "output_type": "stream",
       "stream": "stdout",
       "text": [
        "Mean offer delay:  repeater = 7.9, non-repeater = 8.7\n"
       ]
      }
     ],
     "prompt_number": 85
    },
    {
     "cell_type": "code",
     "collapsed": false,
     "input": [
      "vars_df.shopper_lifetime.hist(color='gray',bins=20)"
     ],
     "language": "python",
     "metadata": {},
     "outputs": [
      {
       "metadata": {},
       "output_type": "pyout",
       "prompt_number": 87,
       "text": [
        "<matplotlib.axes.AxesSubplot at 0x10c7b69d0>"
       ]
      },
      {
       "metadata": {},
       "output_type": "display_data",
       "png": "[encoded data removed]",
       "text": [
        "<matplotlib.figure.Figure at 0x10c70a410>"
       ]
      }
     ],
     "prompt_number": 87
    },
    {
     "cell_type": "code",
     "collapsed": false,
     "input": [
      "sl_repeater = vars_df.shopper_lifetime[vars_df.repeater == 1].mean()\n",
      "sl_nonrepeater = vars_df.shopper_lifetime[vars_df.repeater == 0].mean()\n",
      "print \"Mean shopper lifetime:  repeater = {0:.1f}, non-repeater = {1:.1f}\".format(sl_repeater, sl_nonrepeater)"
     ],
     "language": "python",
     "metadata": {},
     "outputs": [
      {
       "output_type": "stream",
       "stream": "stdout",
       "text": [
        "Mean shopper lifetime:  repeater = 388.1, non-repeater = 382.0\n"
       ]
      }
     ],
     "prompt_number": 88
    },
    {
     "cell_type": "code",
     "collapsed": false,
     "input": [
      "vars_df.total_purs_spend.hist(color='gray',bins=20)"
     ],
     "language": "python",
     "metadata": {},
     "outputs": [
      {
       "metadata": {},
       "output_type": "pyout",
       "prompt_number": 89,
       "text": [
        "<matplotlib.axes.AxesSubplot at 0x10ce5ef10>"
       ]
      },
      {
       "metadata": {},
       "output_type": "display_data",
       "png": "[encoded data removed]",
       "text": [
        "<matplotlib.figure.Figure at 0x10cb01c50>"
       ]
      }
     ],
     "prompt_number": 89
    },
    {
     "cell_type": "code",
     "collapsed": false,
     "input": [
      "sorted(vars_df.total_purs_spend,reverse=True)[:5]"
     ],
     "language": "python",
     "metadata": {},
     "outputs": [
      {
       "metadata": {},
       "output_type": "pyout",
       "prompt_number": 92,
       "text": [
        "[704980.77999961947,\n",
        " 31153.000000000102,\n",
        " 26773.090000000964,\n",
        " 23947.580000000435,\n",
        " 23186.500000000586]"
       ]
      }
     ],
     "prompt_number": 92
    },
    {
     "cell_type": "code",
     "collapsed": false,
     "input": [
      "vars_df.total_purs_spend[vars_df.total_purs_spend > 20000] = 20000"
     ],
     "language": "python",
     "metadata": {},
     "outputs": [],
     "prompt_number": 95
    },
    {
     "cell_type": "code",
     "collapsed": false,
     "input": [
      "vars_df.total_purs_spend.hist(color='gray',bins=range(0,20000,1000))"
     ],
     "language": "python",
     "metadata": {},
     "outputs": [
      {
       "metadata": {},
       "output_type": "pyout",
       "prompt_number": 97,
       "text": [
        "<matplotlib.axes.AxesSubplot at 0x10cec2b10>"
       ]
      },
      {
       "metadata": {},
       "output_type": "display_data",
       "png": "[encoded data removed]",
       "text": [
        "<matplotlib.figure.Figure at 0x10d47a110>"
       ]
      }
     ],
     "prompt_number": 97
    },
    {
     "cell_type": "code",
     "collapsed": false,
     "input": [
      "ts_repeater = vars_df.total_purs_spend[vars_df.repeater == 1].mean()\n",
      "ts_nonrepeater = vars_df.total_purs_spend[vars_df.repeater == 0].mean()\n",
      "print \"Mean total spend:  repeater = {0:.1f}, non-repeater = {1:.1f}\".format(ts_repeater, ts_nonrepeater)"
     ],
     "language": "python",
     "metadata": {},
     "outputs": [
      {
       "output_type": "stream",
       "stream": "stdout",
       "text": [
        "Mean total spend:  repeater = 4705.7, non-repeater = 4258.1\n"
       ]
      }
     ],
     "prompt_number": 98
    },
    {
     "cell_type": "code",
     "collapsed": false,
     "input": [
      "bins_purs = range(0,20000,1000)\n",
      "vars_df.total_purs_spend[vars_df.repeater == 1].hist(bins=bins_purs,color='blue',alpha=.5)\n",
      "vars_df.total_purs_spend[vars_df.repeater == 0].hist(bins=bins_purs,color='gray',alpha=.5)"
     ],
     "language": "python",
     "metadata": {},
     "outputs": [
      {
       "metadata": {},
       "output_type": "pyout",
       "prompt_number": 99,
       "text": [
        "<matplotlib.axes.AxesSubplot at 0x10d482550>"
       ]
      },
      {
       "metadata": {},
       "output_type": "display_data",
       "png": "[encoded data removed]",
       "text": [
        "<matplotlib.figure.Figure at 0x10d48bf10>"
       ]
      }
     ],
     "prompt_number": 99
    },
    {
     "cell_type": "code",
     "collapsed": false,
     "input": [
      "# num_match_cat, num_match_brand"
     ],
     "language": "python",
     "metadata": {},
     "outputs": [],
     "prompt_number": 46
    },
    {
     "cell_type": "code",
     "collapsed": false,
     "input": [
      "vars_df.num_match_cat.hist(color='gray',bins=20)"
     ],
     "language": "python",
     "metadata": {},
     "outputs": [
      {
       "metadata": {},
       "output_type": "pyout",
       "prompt_number": 100,
       "text": [
        "<matplotlib.axes.AxesSubplot at 0x10d24ba50>"
       ]
      },
      {
       "metadata": {},
       "output_type": "display_data",
       "png": "[encoded data removed]",
       "text": [
        "<matplotlib.figure.Figure at 0x10d629390>"
       ]
      }
     ],
     "prompt_number": 100
    },
    {
     "cell_type": "code",
     "collapsed": false,
     "input": [
      "sorted(vars_df.num_match_cat,reverse=True)[:10]"
     ],
     "language": "python",
     "metadata": {},
     "outputs": [
      {
       "metadata": {},
       "output_type": "pyout",
       "prompt_number": 101,
       "text": [
        "[378, 120, 108, 101, 95, 75, 74, 73, 70, 70]"
       ]
      }
     ],
     "prompt_number": 101
    },
    {
     "cell_type": "code",
     "collapsed": false,
     "input": [
      "vars_df.num_match_cat[vars_df.num_match_cat > 80] = 80"
     ],
     "language": "python",
     "metadata": {},
     "outputs": [],
     "prompt_number": 102
    },
    {
     "cell_type": "code",
     "collapsed": false,
     "input": [
      "vars_df.num_match_cat.hist(color='gray',bins=20)"
     ],
     "language": "python",
     "metadata": {},
     "outputs": [
      {
       "metadata": {},
       "output_type": "pyout",
       "prompt_number": 103,
       "text": [
        "<matplotlib.axes.AxesSubplot at 0x10d4c8950>"
       ]
      },
      {
       "metadata": {},
       "output_type": "display_data",
       "png": "[encoded data removed]",
       "text": [
        "<matplotlib.figure.Figure at 0x10d6140d0>"
       ]
      }
     ],
     "prompt_number": 103
    },
    {
     "cell_type": "code",
     "collapsed": false,
     "input": [
      "mc_repeater = vars_df.num_match_cat[vars_df.repeater == 1].mean()\n",
      "mc_nonrepeater = vars_df.num_match_cat[vars_df.repeater == 0].mean()\n",
      "print \"Mean number of category matches:  repeater = {0:.1f}, non-repeater = {1:.1f}\".format(mc_repeater, mc_nonrepeater)"
     ],
     "language": "python",
     "metadata": {},
     "outputs": [
      {
       "output_type": "stream",
       "stream": "stdout",
       "text": [
        "Mean number of category matches:  repeater = 7.0, non-repeater = 3.5\n"
       ]
      }
     ],
     "prompt_number": 104
    },
    {
     "cell_type": "code",
     "collapsed": false,
     "input": [
      "vars_df.num_match_brand.hist(color='gray',bins=20)"
     ],
     "language": "python",
     "metadata": {},
     "outputs": [
      {
       "metadata": {},
       "output_type": "pyout",
       "prompt_number": 105,
       "text": [
        "<matplotlib.axes.AxesSubplot at 0x10de91ad0>"
       ]
      },
      {
       "metadata": {},
       "output_type": "display_data",
       "png": "[encoded data removed]",
       "text": [
        "<matplotlib.figure.Figure at 0x10d4c58d0>"
       ]
      }
     ],
     "prompt_number": 105
    },
    {
     "cell_type": "code",
     "collapsed": false,
     "input": [
      "sorted(vars_df.num_match_brand,reverse=True)[:10]"
     ],
     "language": "python",
     "metadata": {},
     "outputs": [
      {
       "metadata": {},
       "output_type": "pyout",
       "prompt_number": 106,
       "text": [
        "[219, 80, 66, 65, 60, 58, 51, 48, 46, 45]"
       ]
      }
     ],
     "prompt_number": 106
    },
    {
     "cell_type": "code",
     "collapsed": false,
     "input": [
      "vars_df.num_match_cat[vars_df.num_match_cat > 60] = 60"
     ],
     "language": "python",
     "metadata": {},
     "outputs": [],
     "prompt_number": 107
    },
    {
     "cell_type": "code",
     "collapsed": false,
     "input": [
      "mb_repeater = vars_df.num_match_brand[vars_df.repeater == 1].mean()\n",
      "mb_nonrepeater = vars_df.num_match_brand[vars_df.repeater == 0].mean()\n",
      "print \"Mean number of brand matches:  repeater = {0:.1f}, non-repeater = {1:.1f}\".format(mb_repeater, mb_nonrepeater)"
     ],
     "language": "python",
     "metadata": {},
     "outputs": [
      {
       "output_type": "stream",
       "stream": "stdout",
       "text": [
        "Mean number of brand matches:  repeater = 2.5, non-repeater = 2.7\n"
       ]
      }
     ],
     "prompt_number": 108
    },
    {
     "cell_type": "code",
     "collapsed": false,
     "input": [
      "from sklearn import linear_model"
     ],
     "language": "python",
     "metadata": {},
     "outputs": [],
     "prompt_number": 109
    },
    {
     "cell_type": "code",
     "collapsed": false,
     "input": [
      "y_train_data = vars_df.repeater\n",
      "X_train_data = vars_df[xcols]"
     ],
     "language": "python",
     "metadata": {},
     "outputs": [],
     "prompt_number": 175
    },
    {
     "cell_type": "code",
     "collapsed": false,
     "input": [
      "lrmodel = linear_model.LogisticRegression()\n",
      "lrmodel"
     ],
     "language": "python",
     "metadata": {},
     "outputs": [
      {
       "metadata": {},
       "output_type": "pyout",
       "prompt_number": 176,
       "text": [
        "LogisticRegression(C=1.0, class_weight=None, dual=False, fit_intercept=True,\n",
        "          intercept_scaling=1, penalty='l2', random_state=None, tol=0.0001)"
       ]
      }
     ],
     "prompt_number": 176
    },
    {
     "cell_type": "code",
     "collapsed": false,
     "input": [
      "lrmodel.fit(X_train_data,y_train_data)"
     ],
     "language": "python",
     "metadata": {},
     "outputs": [
      {
       "metadata": {},
       "output_type": "pyout",
       "prompt_number": 177,
       "text": [
        "LogisticRegression(C=1.0, class_weight=None, dual=False, fit_intercept=True,\n",
        "          intercept_scaling=1, penalty='l2', random_state=None, tol=0.0001)"
       ]
      }
     ],
     "prompt_number": 177
    },
    {
     "cell_type": "code",
     "collapsed": false,
     "input": [
      "print(\"Training score: {0:.1f}%\".format(\n",
      "    lrmodel.score(X_train_data,y_train_data) * 100))"
     ],
     "language": "python",
     "metadata": {},
     "outputs": [
      {
       "output_type": "stream",
       "stream": "stdout",
       "text": [
        "Training score: 74.2%\n"
       ]
      }
     ],
     "prompt_number": 178
    },
    {
     "cell_type": "code",
     "collapsed": false,
     "input": [
      "target_predicted_proba = lrmodel.predict_proba(X_train_data)\n",
      "target_predicted_proba[:5]"
     ],
     "language": "python",
     "metadata": {},
     "outputs": [
      {
       "metadata": {},
       "output_type": "pyout",
       "prompt_number": 179,
       "text": [
        "array([[ 0.77145365,  0.22854635],\n",
        "       [ 0.66534691,  0.33465309],\n",
        "       [ 0.74702438,  0.25297562],\n",
        "       [ 0.77857531,  0.22142469],\n",
        "       [ 0.75195206,  0.24804794]])"
       ]
      }
     ],
     "prompt_number": 179
    },
    {
     "cell_type": "code",
     "collapsed": false,
     "input": [
      "def plot_roc_curve(target_test, target_predicted_proba, label):\n",
      "    from sklearn.metrics import roc_curve\n",
      "    from sklearn.metrics import auc\n",
      "    \n",
      "    fpr, tpr, thresholds = roc_curve(target_test, target_predicted_proba)\n",
      "    roc_auc = auc(fpr, tpr)\n",
      "    plt.plot(fpr, tpr, label='{} ROC curve (area = {:.3f})'.format(label, roc_auc))\n",
      "    \n",
      "    plt.plot([0, 1], [0, 1], 'k--')  # random predictions curve\n",
      "    plt.xlim([0.0, 1.0])\n",
      "    plt.ylim([0.0, 1.0])\n",
      "    plt.xlabel('False Positive Rate or (1 - Specificity)')\n",
      "    plt.ylabel('True Positive Rate or (Sensitivity)')\n",
      "    plt.title('Receiver Operating Characteristic')\n",
      "    plt.legend(loc=\"lower right\")"
     ],
     "language": "python",
     "metadata": {},
     "outputs": [],
     "prompt_number": 116
    },
    {
     "cell_type": "code",
     "collapsed": false,
     "input": [
      "plot_roc_curve(y_train_data, target_predicted_proba[:,1], 'repeater')"
     ],
     "language": "python",
     "metadata": {},
     "outputs": [
      {
       "metadata": {},
       "output_type": "display_data",
       "png": "[encoded data removed]",
       "text": [
        "<matplotlib.figure.Figure at 0x10f307d50>"
       ]
      }
     ],
     "prompt_number": 180
    },
    {
     "cell_type": "code",
     "collapsed": false,
     "input": [
      "lrmodel.coef_"
     ],
     "language": "python",
     "metadata": {},
     "outputs": [
      {
       "metadata": {},
       "output_type": "pyout",
       "prompt_number": 181,
       "text": [
        "array([[ -6.03135128e-04,  -1.24054758e-04,  -9.07238541e-04,\n",
        "         -1.66006629e-02,  -2.70449972e-03,   4.16261672e-05,\n",
        "          3.57649926e-02,  -1.07138916e-02]])"
       ]
      }
     ],
     "prompt_number": 181
    },
    {
     "cell_type": "code",
     "collapsed": false,
     "input": [
      "lrmodel.coef_"
     ],
     "language": "python",
     "metadata": {},
     "outputs": [
      {
       "metadata": {},
       "output_type": "pyout",
       "prompt_number": 174,
       "text": [
        "array([[ -6.03135128e-04,  -1.24054758e-04,  -9.07238541e-04,\n",
        "         -1.66006629e-02,  -2.70449972e-03,   4.16261672e-05,\n",
        "          3.57649926e-02,  -1.07138916e-02]])"
       ]
      }
     ],
     "prompt_number": 174
    },
    {
     "cell_type": "code",
     "collapsed": false,
     "input": [
      "X_train_data.min()"
     ],
     "language": "python",
     "metadata": {},
     "outputs": [
      {
       "metadata": {},
       "output_type": "pyout",
       "prompt_number": 182,
       "text": [
        "offervalue           0.75\n",
        "num_purchases       18.00\n",
        "num_trips            5.00\n",
        "offer_delay          1.00\n",
        "shopper_lifetime    65.00\n",
        "total_purs_spend    74.83\n",
        "num_match_cat        0.00\n",
        "num_match_brand      0.00\n",
        "dtype: float64"
       ]
      }
     ],
     "prompt_number": 182
    },
    {
     "cell_type": "code",
     "collapsed": false,
     "input": [
      "X_train_data.max()"
     ],
     "language": "python",
     "metadata": {},
     "outputs": [
      {
       "metadata": {},
       "output_type": "pyout",
       "prompt_number": 183,
       "text": [
        "offervalue              3\n",
        "num_purchases        4000\n",
        "num_trips             388\n",
        "offer_delay            70\n",
        "shopper_lifetime      422\n",
        "total_purs_spend    20000\n",
        "num_match_cat          60\n",
        "num_match_brand       219\n",
        "dtype: float64"
       ]
      }
     ],
     "prompt_number": 183
    },
    {
     "cell_type": "code",
     "collapsed": false,
     "input": [
      "X_train_dataN = X_train_data.copy()"
     ],
     "language": "python",
     "metadata": {},
     "outputs": [],
     "prompt_number": 184
    },
    {
     "cell_type": "code",
     "collapsed": false,
     "input": [
      "for col in X_train_dataN.columns:\n",
      "    X_train_dataN[col] = X_train_dataN[col]/X_train_dataN[col].max()"
     ],
     "language": "python",
     "metadata": {},
     "outputs": [],
     "prompt_number": 185
    },
    {
     "cell_type": "code",
     "collapsed": false,
     "input": [
      "from sklearn import linear_model\n",
      "lrmodelN = linear_model.LogisticRegression()\n",
      "lrmodelN.fit(X_train_dataN,y_train_data)\n",
      "print(\"Training score: {0:.1f}%\".format(\n",
      "    lrmodelN.score(X_train_dataN,y_train_data) * 100))"
     ],
     "language": "python",
     "metadata": {},
     "outputs": [
      {
       "output_type": "stream",
       "stream": "stdout",
       "text": [
        "Training score: 74.3%\n"
       ]
      }
     ],
     "prompt_number": 186
    },
    {
     "cell_type": "code",
     "collapsed": false,
     "input": [
      "target_predicted_proba = lrmodelN.predict_proba(X_train_dataN)\n",
      "# target_predicted_proba[:5]\n",
      "plot_roc_curve(y_train_data, target_predicted_proba[:,1], 'repeater')"
     ],
     "language": "python",
     "metadata": {},
     "outputs": [
      {
       "metadata": {},
       "output_type": "display_data",
       "png": "[encoded data removed]",
       "text": [
        "<matplotlib.figure.Figure at 0x10eab73d0>"
       ]
      }
     ],
     "prompt_number": 187
    },
    {
     "cell_type": "code",
     "collapsed": false,
     "input": [
      "lrmodelN.coef_"
     ],
     "language": "python",
     "metadata": {},
     "outputs": [
      {
       "metadata": {},
       "output_type": "pyout",
       "prompt_number": 188,
       "text": [
        "array([[-0.03663234, -0.27546847, -0.26551209, -0.52705855,  0.81269206,\n",
        "         0.44565192,  1.87170169, -0.6988782 ]])"
       ]
      }
     ],
     "prompt_number": 188
    },
    {
     "cell_type": "code",
     "collapsed": false,
     "input": [
      "X_train_dataL = X_train_data.copy()"
     ],
     "language": "python",
     "metadata": {},
     "outputs": [],
     "prompt_number": 189
    },
    {
     "cell_type": "code",
     "collapsed": false,
     "input": [
      "for col in X_train_dataL.columns:\n",
      "    X_train_dataL[col] = np.log(X_train_dataL[col]+1)"
     ],
     "language": "python",
     "metadata": {},
     "outputs": [],
     "prompt_number": 190
    },
    {
     "cell_type": "code",
     "collapsed": false,
     "input": [
      "from sklearn import linear_model\n",
      "lrmodelL = linear_model.LogisticRegression()\n",
      "lrmodelL.fit(X_train_dataL,y_train_data)\n",
      "print(\"Training score: {0:.1f}%\".format(\n",
      "    lrmodelL.score(X_train_dataL,y_train_data) * 100))"
     ],
     "language": "python",
     "metadata": {},
     "outputs": [
      {
       "output_type": "stream",
       "stream": "stdout",
       "text": [
        "Training score: 74.5%\n"
       ]
      }
     ],
     "prompt_number": 191
    },
    {
     "cell_type": "code",
     "collapsed": false,
     "input": [
      "target_predicted_proba = lrmodelL.predict_proba(X_train_dataL)\n",
      "# target_predicted_proba[:5]\n",
      "plot_roc_curve(y_train_data, target_predicted_proba[:,1], 'repeater')"
     ],
     "language": "python",
     "metadata": {},
     "outputs": [
      {
       "metadata": {},
       "output_type": "display_data",
       "png": "[encoded data removed]",
       "text": [
        "<matplotlib.figure.Figure at 0x10dbcb3d0>"
       ]
      }
     ],
     "prompt_number": 192
    },
    {
     "cell_type": "code",
     "collapsed": false,
     "input": [
      "lrmodel.coef_"
     ],
     "language": "python",
     "metadata": {},
     "outputs": [
      {
       "metadata": {},
       "output_type": "pyout",
       "prompt_number": 195,
       "text": [
        "array([[ -6.03135128e-04,  -1.24054758e-04,  -9.07238541e-04,\n",
        "         -1.66006629e-02,  -2.70449972e-03,   4.16261672e-05,\n",
        "          3.57649926e-02,  -1.07138916e-02]])"
       ]
      }
     ],
     "prompt_number": 195
    },
    {
     "cell_type": "code",
     "collapsed": false,
     "input": [
      "lrmodelN.coef_"
     ],
     "language": "python",
     "metadata": {},
     "outputs": [
      {
       "metadata": {},
       "output_type": "pyout",
       "prompt_number": 194,
       "text": [
        "array([[-0.03663234, -0.27546847, -0.26551209, -0.52705855,  0.81269206,\n",
        "         0.44565192,  1.87170169, -0.6988782 ]])"
       ]
      }
     ],
     "prompt_number": 194
    },
    {
     "cell_type": "code",
     "collapsed": false,
     "input": [
      "lrmodelL.coef_"
     ],
     "language": "python",
     "metadata": {},
     "outputs": [
      {
       "metadata": {},
       "output_type": "pyout",
       "prompt_number": 193,
       "text": [
        "array([[ 0.11833885, -0.24894605,  0.04045045, -0.06619115, -0.14196824,\n",
        "         0.23464646,  0.31658635, -0.0396658 ]])"
       ]
      }
     ],
     "prompt_number": 193
    },
    {
     "cell_type": "code",
     "collapsed": false,
     "input": [
      "bins_purs = range(0,80,2)\n",
      "X_train_data.num_match_cat[vars_df.repeater == 1].hist(bins=bins_purs,color='blue',alpha=.5)\n",
      "X_train_data.num_match_cat[vars_df.repeater == 0].hist(bins=bins_purs,color='gray',alpha=.5)"
     ],
     "language": "python",
     "metadata": {},
     "outputs": [
      {
       "metadata": {},
       "output_type": "pyout",
       "prompt_number": 196,
       "text": [
        "<matplotlib.axes.AxesSubplot at 0x10f058c50>"
       ]
      },
      {
       "metadata": {},
       "output_type": "display_data",
       "png": "[encoded data removed]",
       "text": [
        "<matplotlib.figure.Figure at 0x10ebbfdd0>"
       ]
      }
     ],
     "prompt_number": 196
    },
    {
     "cell_type": "code",
     "collapsed": false,
     "input": [
      "X_train_dataL.num_match_cat.max()"
     ],
     "language": "python",
     "metadata": {},
     "outputs": [
      {
       "metadata": {},
       "output_type": "pyout",
       "prompt_number": 197,
       "text": [
        "4.1108738641733114"
       ]
      }
     ],
     "prompt_number": 197
    },
    {
     "cell_type": "code",
     "collapsed": false,
     "input": [
      "bins_purs = np.arange(0,4.25,.25)\n",
      "X_train_dataL.num_match_cat[vars_df.repeater == 1].hist(bins=bins_purs,color='blue',alpha=.5)\n",
      "X_train_dataL.num_match_cat[vars_df.repeater == 0].hist(bins=bins_purs,color='gray',alpha=.5)"
     ],
     "language": "python",
     "metadata": {},
     "outputs": [
      {
       "metadata": {},
       "output_type": "pyout",
       "prompt_number": 198,
       "text": [
        "<matplotlib.axes.AxesSubplot at 0x10f916a10>"
       ]
      },
      {
       "metadata": {},
       "output_type": "display_data",
       "png": "[encoded data removed]",
       "text": [
        "<matplotlib.figure.Figure at 0x10f523750>"
       ]
      }
     ],
     "prompt_number": 198
    },
    {
     "cell_type": "code",
     "collapsed": false,
     "input": [
      "X_train_dataL1 = X_train_data.copy()"
     ],
     "language": "python",
     "metadata": {},
     "outputs": [],
     "prompt_number": 199
    },
    {
     "cell_type": "code",
     "collapsed": false,
     "input": [
      "for col in X_train_dataL1.columns:\n",
      "    X_train_dataL1[col] = np.log(X_train_dataL1[col]+1)"
     ],
     "language": "python",
     "metadata": {},
     "outputs": [],
     "prompt_number": 200
    },
    {
     "cell_type": "code",
     "collapsed": false,
     "input": [
      "from sklearn import linear_model\n",
      "lrmodelL1 = linear_model.LogisticRegression(penalty='l1')\n",
      "lrmodelL1.fit(X_train_dataL1,y_train_data)\n",
      "print(\"Training score: {0:.1f}%\".format(\n",
      "    lrmodelL1.score(X_train_dataL1,y_train_data) * 100))"
     ],
     "language": "python",
     "metadata": {},
     "outputs": [
      {
       "output_type": "stream",
       "stream": "stdout",
       "text": [
        "Training score: 74.5%\n"
       ]
      }
     ],
     "prompt_number": 201
    },
    {
     "cell_type": "code",
     "collapsed": false,
     "input": [
      "target_predicted_proba = lrmodelL.predict_proba(X_train_dataL1)\n",
      "# target_predicted_proba[:5]\n",
      "plot_roc_curve(y_train_data, target_predicted_proba[:,1], 'repeater')"
     ],
     "language": "python",
     "metadata": {},
     "outputs": [
      {
       "metadata": {},
       "output_type": "display_data",
       "png": "[encoded data removed]",
       "text": [
        "<matplotlib.figure.Figure at 0x10f51c810>"
       ]
      }
     ],
     "prompt_number": 202
    },
    {
     "cell_type": "code",
     "collapsed": false,
     "input": [
      "lrmodelL.coef_"
     ],
     "language": "python",
     "metadata": {},
     "outputs": [
      {
       "metadata": {},
       "output_type": "pyout",
       "prompt_number": 203,
       "text": [
        "array([[ 0.11833885, -0.24894605,  0.04045045, -0.06619115, -0.14196824,\n",
        "         0.23464646,  0.31658635, -0.0396658 ]])"
       ]
      }
     ],
     "prompt_number": 203
    },
    {
     "cell_type": "code",
     "collapsed": false,
     "input": [
      "lrmodelL1.coef_"
     ],
     "language": "python",
     "metadata": {},
     "outputs": [
      {
       "metadata": {},
       "output_type": "pyout",
       "prompt_number": 204,
       "text": [
        "array([[ 0.05127196, -0.17948309,  0.02236106, -0.06666628, -0.0977392 ,\n",
        "         0.17327786,  0.31190593, -0.02942087]])"
       ]
      }
     ],
     "prompt_number": 204
    },
    {
     "cell_type": "code",
     "collapsed": false,
     "input": [
      "X_train_dataR = X_train_data.copy().rank()"
     ],
     "language": "python",
     "metadata": {},
     "outputs": [],
     "prompt_number": 215
    },
    {
     "cell_type": "code",
     "collapsed": false,
     "input": [
      "from sklearn import linear_model\n",
      "lrmodelR = linear_model.LogisticRegression()\n",
      "lrmodelR.fit(X_train_dataR,y_train_data)\n",
      "print(\"Training score: {0:.1f}%\".format(\n",
      "    lrmodelR.score(X_train_dataR,y_train_data) * 100))"
     ],
     "language": "python",
     "metadata": {},
     "outputs": [
      {
       "output_type": "stream",
       "stream": "stdout",
       "text": [
        "Training score: 74.4%\n"
       ]
      }
     ],
     "prompt_number": 218
    },
    {
     "cell_type": "code",
     "collapsed": false,
     "input": [
      "target_predicted_proba = lrmodelL.predict_proba(X_train_dataR)\n",
      "# target_predicted_proba[:5]\n",
      "plot_roc_curve(y_train_data, target_predicted_proba[:,1], 'repeater')"
     ],
     "language": "python",
     "metadata": {},
     "outputs": [
      {
       "metadata": {},
       "output_type": "display_data",
       "png": "[encoded data removed]",
       "text": [
        "<matplotlib.figure.Figure at 0x10f8a7c90>"
       ]
      }
     ],
     "prompt_number": 219
    },
    {
     "cell_type": "code",
     "collapsed": false,
     "input": [
      "from sklearn import naive_bayes\n",
      "nbmodelMN = naive_bayes.MultinomialNB()\n",
      "nbmodelMN.fit(X_train_data,y_train_data)\n",
      "print(\"Training score: {0:.1f}%\".format(\n",
      "    nbmodelMN.score(X_train_data,y_train_data) * 100))"
     ],
     "language": "python",
     "metadata": {},
     "outputs": [
      {
       "output_type": "stream",
       "stream": "stdout",
       "text": [
        "Training score: 59.7%\n"
       ]
      }
     ],
     "prompt_number": 220
    },
    {
     "cell_type": "code",
     "collapsed": false,
     "input": [
      "target_predicted_proba = nbmodelMN.predict_proba(X_train_data)\n",
      "# target_predicted_proba[:5]\n",
      "plot_roc_curve(y_train_data, target_predicted_proba[:,1], 'repeater')"
     ],
     "language": "python",
     "metadata": {},
     "outputs": [
      {
       "metadata": {},
       "output_type": "display_data",
       "png": "[encoded data removed]",
       "text": [
        "<matplotlib.figure.Figure at 0x10ef1ca90>"
       ]
      }
     ],
     "prompt_number": 221
    },
    {
     "cell_type": "code",
     "collapsed": false,
     "input": [
      "X_train_dataL = X_train_data.copy()\n",
      "for col in X_train_dataL.columns:\n",
      "    X_train_dataL[col] = np.log(X_train_dataL[col]+1)"
     ],
     "language": "python",
     "metadata": {},
     "outputs": [],
     "prompt_number": 222
    },
    {
     "cell_type": "code",
     "collapsed": false,
     "input": [
      "from sklearn import naive_bayes\n",
      "nbmodelMNL = naive_bayes.MultinomialNB()\n",
      "nbmodelMNL.fit(X_train_dataL,y_train_data)\n",
      "print(\"Training score: {0:.1f}%\".format(\n",
      "    nbmodelMN.score(X_train_data,y_train_data) * 100))"
     ],
     "language": "python",
     "metadata": {},
     "outputs": [
      {
       "output_type": "stream",
       "stream": "stdout",
       "text": [
        "Training score: 59.7%\n"
       ]
      }
     ],
     "prompt_number": 223
    },
    {
     "cell_type": "code",
     "collapsed": false,
     "input": [],
     "language": "python",
     "metadata": {},
     "outputs": []
    },
    {
     "cell_type": "code",
     "collapsed": false,
     "input": [],
     "language": "python",
     "metadata": {},
     "outputs": []
    },
    {
     "cell_type": "code",
     "collapsed": false,
     "input": [
      "# is there a way to save dataframes session to session?\n",
      "# using plt.hist"
     ],
     "language": "python",
     "metadata": {},
     "outputs": [],
     "prompt_number": 231
    }
   ],
   "metadata": {}
  }
 ]
}