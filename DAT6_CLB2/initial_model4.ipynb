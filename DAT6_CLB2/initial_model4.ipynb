{
 "metadata": {
  "name": "",
  "signature": "sha256:7658f20e67989638c8f74876c237242bea2ef1961545bcc177e2efee3bc8222b"
 },
 "nbformat": 3,
 "nbformat_minor": 0,
 "worksheets": [
  {
   "cells": [
    {
     "cell_type": "markdown",
     "metadata": {},
     "source": [
      "### File 5:  Initial model, third pass\n",
      "#### In this file ..."
     ]
    },
    {
     "cell_type": "code",
     "collapsed": false,
     "input": [
      "%matplotlib inline\n",
      "import numpy as np\n",
      "import pandas as pd\n",
      "import sqlite3\n",
      "import matplotlib.pyplot as plt\n",
      "import statsmodels.api as sm\n",
      "\n",
      "from pandas.io import sql\n",
      "conn = sqlite3.connect('shopping.db')"
     ],
     "language": "python",
     "metadata": {},
     "outputs": [],
     "prompt_number": 1
    },
    {
     "cell_type": "code",
     "collapsed": false,
     "input": [
      "%load_ext sql"
     ],
     "language": "python",
     "metadata": {},
     "outputs": [],
     "prompt_number": 2
    },
    {
     "cell_type": "code",
     "collapsed": false,
     "input": [
      "%%bash\n",
      "sqlite3 shopping.db .tables"
     ],
     "language": "python",
     "metadata": {},
     "outputs": [
      {
       "output_type": "stream",
       "stream": "stdout",
       "text": [
        "cat_dist        history         profiles4       transactions0   transactions7 \n",
        "cat_dist2       history_offers  profiles5       transactions1   transactions8 \n",
        "cat_dist3       offers          profiles6       transactions2   transactions9 \n",
        "cat_list        profiles0       profiles7       transactions3 \n",
        "cat_list2       profiles1       profiles8       transactions4 \n",
        "cat_list2b      profiles2       profiles9       transactions5 \n",
        "cat_list2c      profiles3       shopvars        transactions6 \n"
       ]
      }
     ],
     "prompt_number": 3
    },
    {
     "cell_type": "code",
     "collapsed": false,
     "input": [
      "%%sql sqlite:///shopping.db\n",
      "SELECT * FROM profiles0 LIMIT 5"
     ],
     "language": "python",
     "metadata": {},
     "outputs": [
      {
       "output_type": "stream",
       "stream": "stdout",
       "text": [
        "Done.\n"
       ]
      },
      {
       "html": [
        "<table>\n",
        "    <tr>\n",
        "        <th>id</th>\n",
        "        <th>category</th>\n",
        "        <th>cat_count</th>\n",
        "        <th>cat_spend</th>\n",
        "        <th>repeater</th>\n",
        "    </tr>\n",
        "    <tr>\n",
        "        <td>13089312</td>\n",
        "        <td>0</td>\n",
        "        <td>5</td>\n",
        "        <td>15.85</td>\n",
        "        <td>0</td>\n",
        "    </tr>\n",
        "    <tr>\n",
        "        <td>13089312</td>\n",
        "        <td>202</td>\n",
        "        <td>2</td>\n",
        "        <td>3.98</td>\n",
        "        <td>0</td>\n",
        "    </tr>\n",
        "    <tr>\n",
        "        <td>13089312</td>\n",
        "        <td>214</td>\n",
        "        <td>1</td>\n",
        "        <td>2.99</td>\n",
        "        <td>0</td>\n",
        "    </tr>\n",
        "    <tr>\n",
        "        <td>13089312</td>\n",
        "        <td>302</td>\n",
        "        <td>7</td>\n",
        "        <td>22.41</td>\n",
        "        <td>0</td>\n",
        "    </tr>\n",
        "    <tr>\n",
        "        <td>13089312</td>\n",
        "        <td>303</td>\n",
        "        <td>1</td>\n",
        "        <td>2.79</td>\n",
        "        <td>0</td>\n",
        "    </tr>\n",
        "</table>"
       ],
       "metadata": {},
       "output_type": "pyout",
       "prompt_number": 4,
       "text": [
        "[(13089312, 0, 5, 15.85, 0),\n",
        " (13089312, 202, 2, 3.98, 0),\n",
        " (13089312, 214, 1, 2.99, 0),\n",
        " (13089312, 302, 7, 22.410000000000004, 0),\n",
        " (13089312, 303, 1, 2.79, 0)]"
       ]
      }
     ],
     "prompt_number": 4
    },
    {
     "cell_type": "code",
     "collapsed": false,
     "input": [
      "# Frequency and polarization of each category (815 rows)\n",
      "catdist_df = sql.frame_query(\"\"\"\n",
      "    SELECT * FROM cat_dist\n",
      "    \"\"\", conn)"
     ],
     "language": "python",
     "metadata": {},
     "outputs": [],
     "prompt_number": 5
    },
    {
     "cell_type": "code",
     "collapsed": false,
     "input": [
      "catdist_df.describe()"
     ],
     "language": "python",
     "metadata": {},
     "outputs": [
      {
       "html": [
        "<div style=\"max-height:1000px;max-width:1500px;overflow:auto;\">\n",
        "<table border=\"1\" class=\"dataframe\">\n",
        "  <thead>\n",
        "    <tr style=\"text-align: right;\">\n",
        "      <th></th>\n",
        "      <th>category</th>\n",
        "      <th>num_ids</th>\n",
        "      <th>num_ids_rep</th>\n",
        "      <th>pct_rep</th>\n",
        "    </tr>\n",
        "  </thead>\n",
        "  <tbody>\n",
        "    <tr>\n",
        "      <th>count</th>\n",
        "      <td>  803.000000</td>\n",
        "      <td>  803.000000</td>\n",
        "      <td> 803.000000</td>\n",
        "      <td> 803.000000</td>\n",
        "    </tr>\n",
        "    <tr>\n",
        "      <th>mean</th>\n",
        "      <td> 4508.262765</td>\n",
        "      <td>  792.079701</td>\n",
        "      <td> 205.748443</td>\n",
        "      <td>   0.261226</td>\n",
        "    </tr>\n",
        "    <tr>\n",
        "      <th>std</th>\n",
        "      <td> 2933.620089</td>\n",
        "      <td>  707.522352</td>\n",
        "      <td> 182.616025</td>\n",
        "      <td>   0.045082</td>\n",
        "    </tr>\n",
        "    <tr>\n",
        "      <th>min</th>\n",
        "      <td>    0.000000</td>\n",
        "      <td>    1.000000</td>\n",
        "      <td>   0.000000</td>\n",
        "      <td>   0.000000</td>\n",
        "    </tr>\n",
        "    <tr>\n",
        "      <th>25%</th>\n",
        "      <td> 2109.500000</td>\n",
        "      <td>  203.000000</td>\n",
        "      <td>  52.000000</td>\n",
        "      <td>   0.249850</td>\n",
        "    </tr>\n",
        "    <tr>\n",
        "      <th>50%</th>\n",
        "      <td> 3710.000000</td>\n",
        "      <td>  586.000000</td>\n",
        "      <td> 155.000000</td>\n",
        "      <td>   0.260000</td>\n",
        "    </tr>\n",
        "    <tr>\n",
        "      <th>75%</th>\n",
        "      <td> 6955.000000</td>\n",
        "      <td> 1195.500000</td>\n",
        "      <td> 315.000000</td>\n",
        "      <td>   0.272730</td>\n",
        "    </tr>\n",
        "    <tr>\n",
        "      <th>max</th>\n",
        "      <td> 9909.000000</td>\n",
        "      <td> 3109.000000</td>\n",
        "      <td> 798.000000</td>\n",
        "      <td>   0.500000</td>\n",
        "    </tr>\n",
        "  </tbody>\n",
        "</table>\n",
        "<p>8 rows \u00d7 4 columns</p>\n",
        "</div>"
       ],
       "metadata": {},
       "output_type": "pyout",
       "prompt_number": 6,
       "text": [
        "          category      num_ids  num_ids_rep     pct_rep\n",
        "count   803.000000   803.000000   803.000000  803.000000\n",
        "mean   4508.262765   792.079701   205.748443    0.261226\n",
        "std    2933.620089   707.522352   182.616025    0.045082\n",
        "min       0.000000     1.000000     0.000000    0.000000\n",
        "25%    2109.500000   203.000000    52.000000    0.249850\n",
        "50%    3710.000000   586.000000   155.000000    0.260000\n",
        "75%    6955.000000  1195.500000   315.000000    0.272730\n",
        "max    9909.000000  3109.000000   798.000000    0.500000\n",
        "\n",
        "[8 rows x 4 columns]"
       ]
      }
     ],
     "prompt_number": 6
    },
    {
     "cell_type": "code",
     "collapsed": false,
     "input": [
      "catdist_df.head(10)"
     ],
     "language": "python",
     "metadata": {},
     "outputs": [
      {
       "html": [
        "<div style=\"max-height:1000px;max-width:1500px;overflow:auto;\">\n",
        "<table border=\"1\" class=\"dataframe\">\n",
        "  <thead>\n",
        "    <tr style=\"text-align: right;\">\n",
        "      <th></th>\n",
        "      <th>category</th>\n",
        "      <th>num_ids</th>\n",
        "      <th>num_ids_rep</th>\n",
        "      <th>pct_rep</th>\n",
        "    </tr>\n",
        "  </thead>\n",
        "  <tbody>\n",
        "    <tr>\n",
        "      <th>0</th>\n",
        "      <td>   0</td>\n",
        "      <td> 2575</td>\n",
        "      <td> 680</td>\n",
        "      <td> 0.26408</td>\n",
        "    </tr>\n",
        "    <tr>\n",
        "      <th>1</th>\n",
        "      <td> 103</td>\n",
        "      <td>  222</td>\n",
        "      <td>  58</td>\n",
        "      <td> 0.26126</td>\n",
        "    </tr>\n",
        "    <tr>\n",
        "      <th>2</th>\n",
        "      <td> 104</td>\n",
        "      <td>  127</td>\n",
        "      <td>  36</td>\n",
        "      <td> 0.28346</td>\n",
        "    </tr>\n",
        "    <tr>\n",
        "      <th>3</th>\n",
        "      <td> 105</td>\n",
        "      <td>  130</td>\n",
        "      <td>  35</td>\n",
        "      <td> 0.26923</td>\n",
        "    </tr>\n",
        "    <tr>\n",
        "      <th>4</th>\n",
        "      <td> 106</td>\n",
        "      <td>  448</td>\n",
        "      <td> 117</td>\n",
        "      <td> 0.26116</td>\n",
        "    </tr>\n",
        "    <tr>\n",
        "      <th>5</th>\n",
        "      <td> 201</td>\n",
        "      <td> 1849</td>\n",
        "      <td> 465</td>\n",
        "      <td> 0.25149</td>\n",
        "    </tr>\n",
        "    <tr>\n",
        "      <th>6</th>\n",
        "      <td> 202</td>\n",
        "      <td> 1623</td>\n",
        "      <td> 411</td>\n",
        "      <td> 0.25323</td>\n",
        "    </tr>\n",
        "    <tr>\n",
        "      <th>7</th>\n",
        "      <td> 203</td>\n",
        "      <td>   43</td>\n",
        "      <td>  14</td>\n",
        "      <td> 0.32558</td>\n",
        "    </tr>\n",
        "    <tr>\n",
        "      <th>8</th>\n",
        "      <td> 207</td>\n",
        "      <td>   33</td>\n",
        "      <td>   7</td>\n",
        "      <td> 0.21212</td>\n",
        "    </tr>\n",
        "    <tr>\n",
        "      <th>9</th>\n",
        "      <td> 208</td>\n",
        "      <td>  191</td>\n",
        "      <td>  46</td>\n",
        "      <td> 0.24084</td>\n",
        "    </tr>\n",
        "  </tbody>\n",
        "</table>\n",
        "<p>10 rows \u00d7 4 columns</p>\n",
        "</div>"
       ],
       "metadata": {},
       "output_type": "pyout",
       "prompt_number": 7,
       "text": [
        "   category  num_ids  num_ids_rep  pct_rep\n",
        "0         0     2575          680  0.26408\n",
        "1       103      222           58  0.26126\n",
        "2       104      127           36  0.28346\n",
        "3       105      130           35  0.26923\n",
        "4       106      448          117  0.26116\n",
        "5       201     1849          465  0.25149\n",
        "6       202     1623          411  0.25323\n",
        "7       203       43           14  0.32558\n",
        "8       207       33            7  0.21212\n",
        "9       208      191           46  0.24084\n",
        "\n",
        "[10 rows x 4 columns]"
       ]
      }
     ],
     "prompt_number": 7
    },
    {
     "cell_type": "code",
     "collapsed": false,
     "input": [
      "# , ABS(0.5 - ROUND(1.0*num_ids_rep/num_ids,3.0)) AS polar_score\n",
      "plt.scatter(catdist_df.polar_score,catdist_df.num_ids)\n",
      "plt.xlabel('polarization score')\n",
      "plt.ylabel('number of shoppers')"
     ],
     "language": "python",
     "metadata": {},
     "outputs": [
      {
       "metadata": {},
       "output_type": "pyout",
       "prompt_number": 22,
       "text": [
        "<matplotlib.text.Text at 0x1108c9890>"
       ]
      },
      {
       "metadata": {},
       "output_type": "display_data",
       "png": "[encoded data removed]",
       "text": [
        "<matplotlib.figure.Figure at 0x1100c7b50>"
       ]
      }
     ],
     "prompt_number": 22
    },
    {
     "cell_type": "code",
     "collapsed": false,
     "input": [
      "a = plt.hist(catdist_df.pct_rep,bins=30)"
     ],
     "language": "python",
     "metadata": {},
     "outputs": [
      {
       "metadata": {},
       "output_type": "display_data",
       "png": "[encoded data removed]",
       "text": [
        "<matplotlib.figure.Figure at 0x10ab78490>"
       ]
      }
     ],
     "prompt_number": 22
    },
    {
     "cell_type": "code",
     "collapsed": false,
     "input": [
      "a = plt.hist(catdist_df.num_ids,bins=30)"
     ],
     "language": "python",
     "metadata": {},
     "outputs": [
      {
       "metadata": {},
       "output_type": "display_data",
       "png": "[encoded data removed]",
       "text": [
        "<matplotlib.figure.Figure at 0x10ab9d250>"
       ]
      }
     ],
     "prompt_number": 23
    },
    {
     "cell_type": "code",
     "collapsed": false,
     "input": [
      "plt.scatter(catdist_df.pct_rep, catdist_df.num_ids)\n",
      "plt.xlabel('percent repeaters')\n",
      "plt.ylabel('number of shoppers')"
     ],
     "language": "python",
     "metadata": {},
     "outputs": [
      {
       "metadata": {},
       "output_type": "pyout",
       "prompt_number": 24,
       "text": [
        "<matplotlib.text.Text at 0x10acd82d0>"
       ]
      },
      {
       "metadata": {},
       "output_type": "display_data",
       "png": "[encoded data removed]",
       "text": [
        "<matplotlib.figure.Figure at 0x10ab6c790>"
       ]
      }
     ],
     "prompt_number": 24
    },
    {
     "cell_type": "code",
     "collapsed": false,
     "input": [
      "plt.scatter(catdist_df.pct_rep[catdist_df.num_ids > 200],catdist_df.num_ids[catdist_df.num_ids > 200])\n",
      "plt.xlabel('percent repeaters')\n",
      "plt.ylabel('number of shoppers')"
     ],
     "language": "python",
     "metadata": {},
     "outputs": [
      {
       "metadata": {},
       "output_type": "pyout",
       "prompt_number": 25,
       "text": [
        "<matplotlib.text.Text at 0x10acdf810>"
       ]
      },
      {
       "metadata": {},
       "output_type": "display_data",
       "png": "[encoded data removed]",
       "text": [
        "<matplotlib.figure.Figure at 0x10ab94c90>"
       ]
      }
     ],
     "prompt_number": 25
    },
    {
     "cell_type": "code",
     "collapsed": false,
     "input": [
      "3152*.25, 3152*.75"
     ],
     "language": "python",
     "metadata": {},
     "outputs": [
      {
       "metadata": {},
       "output_type": "pyout",
       "prompt_number": 26,
       "text": [
        "(788.0, 2364.0)"
       ]
      }
     ],
     "prompt_number": 26
    },
    {
     "cell_type": "code",
     "collapsed": false,
     "input": [],
     "language": "python",
     "metadata": {},
     "outputs": []
    },
    {
     "cell_type": "code",
     "collapsed": false,
     "input": [],
     "language": "python",
     "metadata": {},
     "outputs": []
    },
    {
     "cell_type": "code",
     "collapsed": false,
     "input": [
      "# Shopper id and repeater status\n",
      "repeatstatus_df = sql.frame_query(\"\"\"\n",
      "    SELECT DISTINCT id, repeater FROM history\n",
      "    \"\"\", conn,\"id\")"
     ],
     "language": "python",
     "metadata": {},
     "outputs": [],
     "prompt_number": 27
    },
    {
     "cell_type": "code",
     "collapsed": false,
     "input": [
      "repeatstatus_df.head()"
     ],
     "language": "python",
     "metadata": {},
     "outputs": [
      {
       "html": [
        "<div style=\"max-height:1000px;max-width:1500px;overflow:auto;\">\n",
        "<table border=\"1\" class=\"dataframe\">\n",
        "  <thead>\n",
        "    <tr style=\"text-align: right;\">\n",
        "      <th></th>\n",
        "      <th>repeater</th>\n",
        "    </tr>\n",
        "    <tr>\n",
        "      <th>id</th>\n",
        "      <th></th>\n",
        "    </tr>\n",
        "  </thead>\n",
        "  <tbody>\n",
        "    <tr>\n",
        "      <th>86246   </th>\n",
        "      <td> 1</td>\n",
        "    </tr>\n",
        "    <tr>\n",
        "      <th>86252   </th>\n",
        "      <td> 1</td>\n",
        "    </tr>\n",
        "    <tr>\n",
        "      <th>12682470</th>\n",
        "      <td> 0</td>\n",
        "    </tr>\n",
        "    <tr>\n",
        "      <th>12996040</th>\n",
        "      <td> 0</td>\n",
        "    </tr>\n",
        "    <tr>\n",
        "      <th>13089312</th>\n",
        "      <td> 0</td>\n",
        "    </tr>\n",
        "  </tbody>\n",
        "</table>\n",
        "<p>5 rows \u00d7 1 columns</p>\n",
        "</div>"
       ],
       "metadata": {},
       "output_type": "pyout",
       "prompt_number": 28,
       "text": [
        "          repeater\n",
        "id                \n",
        "86246            1\n",
        "86252            1\n",
        "12682470         0\n",
        "12996040         0\n",
        "13089312         0\n",
        "\n",
        "[5 rows x 1 columns]"
       ]
      }
     ],
     "prompt_number": 28
    },
    {
     "cell_type": "code",
     "collapsed": false,
     "input": [
      "repeatstatus_df.describe().T"
     ],
     "language": "python",
     "metadata": {},
     "outputs": [
      {
       "html": [
        "<div style=\"max-height:1000px;max-width:1500px;overflow:auto;\">\n",
        "<table border=\"1\" class=\"dataframe\">\n",
        "  <thead>\n",
        "    <tr style=\"text-align: right;\">\n",
        "      <th></th>\n",
        "      <th>count</th>\n",
        "      <th>mean</th>\n",
        "      <th>std</th>\n",
        "      <th>min</th>\n",
        "      <th>25%</th>\n",
        "      <th>50%</th>\n",
        "      <th>75%</th>\n",
        "      <th>max</th>\n",
        "    </tr>\n",
        "  </thead>\n",
        "  <tbody>\n",
        "    <tr>\n",
        "      <th>repeater</th>\n",
        "      <td> 160057</td>\n",
        "      <td> 0.271391</td>\n",
        "      <td> 0.444679</td>\n",
        "      <td> 0</td>\n",
        "      <td> 0</td>\n",
        "      <td> 0</td>\n",
        "      <td> 1</td>\n",
        "      <td> 1</td>\n",
        "    </tr>\n",
        "  </tbody>\n",
        "</table>\n",
        "<p>1 rows \u00d7 8 columns</p>\n",
        "</div>"
       ],
       "metadata": {},
       "output_type": "pyout",
       "prompt_number": 29,
       "text": [
        "           count      mean       std  min  25%  50%  75%  max\n",
        "repeater  160057  0.271391  0.444679    0    0    0    1    1\n",
        "\n",
        "[1 rows x 8 columns]"
       ]
      }
     ],
     "prompt_number": 29
    },
    {
     "cell_type": "code",
     "collapsed": false,
     "input": [
      "def plot_roc_curve(target_test, target_predicted_proba, label):\n",
      "    from sklearn.metrics import roc_curve\n",
      "    from sklearn.metrics import auc\n",
      "    \n",
      "    fpr, tpr, thresholds = roc_curve(target_test, target_predicted_proba)\n",
      "    roc_auc = auc(fpr, tpr)\n",
      "    plt.plot(fpr, tpr, label='{} ROC curve (area = {:.3f})'.format(label, roc_auc))\n",
      "    \n",
      "    plt.plot([0, 1], [0, 1], 'k--')  # random predictions curve\n",
      "    plt.xlim([0.0, 1.0])\n",
      "    plt.ylim([0.0, 1.0])\n",
      "    plt.xlabel('False Positive Rate or (1 - Specificity)')\n",
      "    plt.ylabel('True Positive Rate or (Sensitivity)')\n",
      "    plt.title('Receiver Operating Characteristic')\n",
      "    plt.legend(loc=\"lower right\")"
     ],
     "language": "python",
     "metadata": {},
     "outputs": [],
     "prompt_number": 30
    },
    {
     "cell_type": "code",
     "collapsed": false,
     "input": [],
     "language": "python",
     "metadata": {},
     "outputs": []
    },
    {
     "cell_type": "code",
     "collapsed": false,
     "input": [
      "# Number of purchases each shopper made of each category, to vectorize shopper history (636040 rows)\n",
      "pros0_df = sql.frame_query(\"\"\"\n",
      "    SELECT * FROM profiles0\n",
      "    \"\"\", conn)"
     ],
     "language": "python",
     "metadata": {},
     "outputs": [],
     "prompt_number": 31
    },
    {
     "cell_type": "code",
     "collapsed": false,
     "input": [
      "# Number of purchases each shopper made of each category, to vectorize shopper history (644665 rows)\n",
      "pros1_df = sql.frame_query(\"\"\"\n",
      "    SELECT * FROM profiles1\n",
      "    \"\"\", conn)"
     ],
     "language": "python",
     "metadata": {},
     "outputs": [],
     "prompt_number": 32
    },
    {
     "cell_type": "code",
     "collapsed": false,
     "input": [
      "# Number of purchases each shopper made of each category, to vectorize shopper history (613190 rows)\n",
      "pros2_df = sql.frame_query(\"\"\"\n",
      "    SELECT * FROM profiles2\n",
      "    \"\"\", conn)"
     ],
     "language": "python",
     "metadata": {},
     "outputs": [],
     "prompt_number": 33
    },
    {
     "cell_type": "code",
     "collapsed": false,
     "input": [
      "# Number of purchases each shopper made of each category, to vectorize shopper history (646162 rows)\n",
      "pros3_df = sql.frame_query(\"\"\"\n",
      "    SELECT * FROM profiles3\n",
      "    \"\"\", conn)"
     ],
     "language": "python",
     "metadata": {},
     "outputs": [],
     "prompt_number": 34
    },
    {
     "cell_type": "code",
     "collapsed": false,
     "input": [
      "# Number of purchases each shopper made of each category, to vectorize shopper history (645510 rows)\n",
      "pros4_df = sql.frame_query(\"\"\"\n",
      "    SELECT * FROM profiles4\n",
      "    \"\"\", conn)"
     ],
     "language": "python",
     "metadata": {},
     "outputs": [],
     "prompt_number": 35
    },
    {
     "cell_type": "code",
     "collapsed": false,
     "input": [
      "# Number of purchases each shopper made of each category, to vectorize shopper history (654678 rows)\n",
      "pros5_df = sql.frame_query(\"\"\"\n",
      "    SELECT * FROM profiles5\n",
      "    \"\"\", conn)"
     ],
     "language": "python",
     "metadata": {},
     "outputs": [],
     "prompt_number": 36
    },
    {
     "cell_type": "code",
     "collapsed": false,
     "input": [
      "# Number of purchases each shopper made of each category, to vectorize shopper history (641074 rows)\n",
      "pros6_df = sql.frame_query(\"\"\"\n",
      "    SELECT * FROM profiles6\n",
      "    \"\"\", conn)"
     ],
     "language": "python",
     "metadata": {},
     "outputs": [],
     "prompt_number": 37
    },
    {
     "cell_type": "code",
     "collapsed": false,
     "input": [
      "# Number of purchases each shopper made of each category, to vectorize shopper history (653453 rows)\n",
      "pros7_df = sql.frame_query(\"\"\"\n",
      "    SELECT * FROM profiles7\n",
      "    \"\"\", conn)"
     ],
     "language": "python",
     "metadata": {},
     "outputs": [],
     "prompt_number": 38
    },
    {
     "cell_type": "code",
     "collapsed": false,
     "input": [
      "# Number of purchases each shopper made of each category, to vectorize shopper history (647093 rows)\n",
      "pros8_df = sql.frame_query(\"\"\"\n",
      "    SELECT * FROM profiles8\n",
      "    \"\"\", conn)"
     ],
     "language": "python",
     "metadata": {},
     "outputs": [],
     "prompt_number": 39
    },
    {
     "cell_type": "code",
     "collapsed": false,
     "input": [
      "# Number of purchases each shopper made of each category, to vectorize shopper history (641697 rows)\n",
      "pros9_df = sql.frame_query(\"\"\"\n",
      "    SELECT * FROM profiles9\n",
      "    \"\"\", conn)"
     ],
     "language": "python",
     "metadata": {},
     "outputs": [],
     "prompt_number": 40
    },
    {
     "cell_type": "code",
     "collapsed": false,
     "input": [],
     "language": "python",
     "metadata": {},
     "outputs": [],
     "prompt_number": 40
    },
    {
     "cell_type": "code",
     "collapsed": false,
     "input": [
      "pros0_df.head()"
     ],
     "language": "python",
     "metadata": {},
     "outputs": [
      {
       "html": [
        "<div style=\"max-height:1000px;max-width:1500px;overflow:auto;\">\n",
        "<table border=\"1\" class=\"dataframe\">\n",
        "  <thead>\n",
        "    <tr style=\"text-align: right;\">\n",
        "      <th></th>\n",
        "      <th>id</th>\n",
        "      <th>category</th>\n",
        "      <th>cat_count</th>\n",
        "      <th>cat_spend</th>\n",
        "      <th>repeater</th>\n",
        "    </tr>\n",
        "  </thead>\n",
        "  <tbody>\n",
        "    <tr>\n",
        "      <th>0</th>\n",
        "      <td> 13089312</td>\n",
        "      <td>   0</td>\n",
        "      <td> 5</td>\n",
        "      <td> 15.85</td>\n",
        "      <td> 0</td>\n",
        "    </tr>\n",
        "    <tr>\n",
        "      <th>1</th>\n",
        "      <td> 13089312</td>\n",
        "      <td> 202</td>\n",
        "      <td> 2</td>\n",
        "      <td>  3.98</td>\n",
        "      <td> 0</td>\n",
        "    </tr>\n",
        "    <tr>\n",
        "      <th>2</th>\n",
        "      <td> 13089312</td>\n",
        "      <td> 214</td>\n",
        "      <td> 1</td>\n",
        "      <td>  2.99</td>\n",
        "      <td> 0</td>\n",
        "    </tr>\n",
        "    <tr>\n",
        "      <th>3</th>\n",
        "      <td> 13089312</td>\n",
        "      <td> 302</td>\n",
        "      <td> 7</td>\n",
        "      <td> 22.41</td>\n",
        "      <td> 0</td>\n",
        "    </tr>\n",
        "    <tr>\n",
        "      <th>4</th>\n",
        "      <td> 13089312</td>\n",
        "      <td> 303</td>\n",
        "      <td> 1</td>\n",
        "      <td>  2.79</td>\n",
        "      <td> 0</td>\n",
        "    </tr>\n",
        "  </tbody>\n",
        "</table>\n",
        "<p>5 rows \u00d7 5 columns</p>\n",
        "</div>"
       ],
       "metadata": {},
       "output_type": "pyout",
       "prompt_number": 41,
       "text": [
        "         id  category  cat_count  cat_spend  repeater\n",
        "0  13089312         0          5      15.85         0\n",
        "1  13089312       202          2       3.98         0\n",
        "2  13089312       214          1       2.99         0\n",
        "3  13089312       302          7      22.41         0\n",
        "4  13089312       303          1       2.79         0\n",
        "\n",
        "[5 rows x 5 columns]"
       ]
      }
     ],
     "prompt_number": 41
    },
    {
     "cell_type": "code",
     "collapsed": false,
     "input": [
      "pros0_df.describe()"
     ],
     "language": "python",
     "metadata": {},
     "outputs": [
      {
       "html": [
        "<div style=\"max-height:1000px;max-width:1500px;overflow:auto;\">\n",
        "<table border=\"1\" class=\"dataframe\">\n",
        "  <thead>\n",
        "    <tr style=\"text-align: right;\">\n",
        "      <th></th>\n",
        "      <th>id</th>\n",
        "      <th>category</th>\n",
        "      <th>cat_count</th>\n",
        "      <th>cat_spend</th>\n",
        "      <th>repeater</th>\n",
        "    </tr>\n",
        "  </thead>\n",
        "  <tbody>\n",
        "    <tr>\n",
        "      <th>count</th>\n",
        "      <td> 6.360400e+05</td>\n",
        "      <td> 636040.000000</td>\n",
        "      <td> 636040.000000</td>\n",
        "      <td> 636040.000000</td>\n",
        "      <td> 636040.000000</td>\n",
        "    </tr>\n",
        "    <tr>\n",
        "      <th>mean</th>\n",
        "      <td> 7.590874e+08</td>\n",
        "      <td>   3829.943452</td>\n",
        "      <td>      8.442769</td>\n",
        "      <td>     22.789928</td>\n",
        "      <td>      0.259757</td>\n",
        "    </tr>\n",
        "    <tr>\n",
        "      <th>std</th>\n",
        "      <td> 5.789516e+08</td>\n",
        "      <td>   2546.561275</td>\n",
        "      <td>     86.049657</td>\n",
        "      <td>    100.117346</td>\n",
        "      <td>      0.438502</td>\n",
        "    </tr>\n",
        "    <tr>\n",
        "      <th>min</th>\n",
        "      <td> 1.308931e+07</td>\n",
        "      <td>      0.000000</td>\n",
        "      <td>   -442.000000</td>\n",
        "      <td>  -8580.000000</td>\n",
        "      <td>      0.000000</td>\n",
        "    </tr>\n",
        "    <tr>\n",
        "      <th>25%</th>\n",
        "      <td> 4.950590e+08</td>\n",
        "      <td>   1822.000000</td>\n",
        "      <td>      1.000000</td>\n",
        "      <td>      3.590000</td>\n",
        "      <td>      0.000000</td>\n",
        "    </tr>\n",
        "    <tr>\n",
        "      <th>50%</th>\n",
        "      <td> 5.636146e+08</td>\n",
        "      <td>   3320.000000</td>\n",
        "      <td>      3.000000</td>\n",
        "      <td>      7.990000</td>\n",
        "      <td>      0.000000</td>\n",
        "    </tr>\n",
        "    <tr>\n",
        "      <th>75%</th>\n",
        "      <td> 7.229371e+08</td>\n",
        "      <td>   5704.000000</td>\n",
        "      <td>      7.000000</td>\n",
        "      <td>     20.660000</td>\n",
        "      <td>      1.000000</td>\n",
        "    </tr>\n",
        "    <tr>\n",
        "      <th>max</th>\n",
        "      <td> 2.439104e+09</td>\n",
        "      <td>   9909.000000</td>\n",
        "      <td>  27776.000000</td>\n",
        "      <td>  27811.640000</td>\n",
        "      <td>      1.000000</td>\n",
        "    </tr>\n",
        "  </tbody>\n",
        "</table>\n",
        "<p>8 rows \u00d7 5 columns</p>\n",
        "</div>"
       ],
       "metadata": {},
       "output_type": "pyout",
       "prompt_number": 42,
       "text": [
        "                 id       category      cat_count      cat_spend  \\\n",
        "count  6.360400e+05  636040.000000  636040.000000  636040.000000   \n",
        "mean   7.590874e+08    3829.943452       8.442769      22.789928   \n",
        "std    5.789516e+08    2546.561275      86.049657     100.117346   \n",
        "min    1.308931e+07       0.000000    -442.000000   -8580.000000   \n",
        "25%    4.950590e+08    1822.000000       1.000000       3.590000   \n",
        "50%    5.636146e+08    3320.000000       3.000000       7.990000   \n",
        "75%    7.229371e+08    5704.000000       7.000000      20.660000   \n",
        "max    2.439104e+09    9909.000000   27776.000000   27811.640000   \n",
        "\n",
        "            repeater  \n",
        "count  636040.000000  \n",
        "mean        0.259757  \n",
        "std         0.438502  \n",
        "min         0.000000  \n",
        "25%         0.000000  \n",
        "50%         0.000000  \n",
        "75%         1.000000  \n",
        "max         1.000000  \n",
        "\n",
        "[8 rows x 5 columns]"
       ]
      }
     ],
     "prompt_number": 42
    },
    {
     "cell_type": "code",
     "collapsed": false,
     "input": [
      "pros0_wide_df = pros0_df.pivot('id', 'category', 'cat_count')\n",
      "pros0_wide_df.head(6)"
     ],
     "language": "python",
     "metadata": {},
     "outputs": [
      {
       "html": [
        "<div style=\"max-height:1000px;max-width:1500px;overflow:auto;\">\n",
        "<table border=\"1\" class=\"dataframe\">\n",
        "  <thead>\n",
        "    <tr style=\"text-align: right;\">\n",
        "      <th>category</th>\n",
        "      <th>0</th>\n",
        "      <th>103</th>\n",
        "      <th>104</th>\n",
        "      <th>105</th>\n",
        "      <th>106</th>\n",
        "      <th>201</th>\n",
        "      <th>202</th>\n",
        "      <th>203</th>\n",
        "      <th>207</th>\n",
        "      <th>208</th>\n",
        "      <th>209</th>\n",
        "      <th>210</th>\n",
        "      <th>211</th>\n",
        "      <th>212</th>\n",
        "      <th>213</th>\n",
        "      <th>214</th>\n",
        "      <th>302</th>\n",
        "      <th>303</th>\n",
        "      <th>304</th>\n",
        "      <th>305</th>\n",
        "      <th></th>\n",
        "    </tr>\n",
        "    <tr>\n",
        "      <th>id</th>\n",
        "      <th></th>\n",
        "      <th></th>\n",
        "      <th></th>\n",
        "      <th></th>\n",
        "      <th></th>\n",
        "      <th></th>\n",
        "      <th></th>\n",
        "      <th></th>\n",
        "      <th></th>\n",
        "      <th></th>\n",
        "      <th></th>\n",
        "      <th></th>\n",
        "      <th></th>\n",
        "      <th></th>\n",
        "      <th></th>\n",
        "      <th></th>\n",
        "      <th></th>\n",
        "      <th></th>\n",
        "      <th></th>\n",
        "      <th></th>\n",
        "    </tr>\n",
        "  </thead>\n",
        "  <tbody>\n",
        "    <tr>\n",
        "      <th>13089312</th>\n",
        "      <td>  5</td>\n",
        "      <td>NaN</td>\n",
        "      <td>NaN</td>\n",
        "      <td>NaN</td>\n",
        "      <td>NaN</td>\n",
        "      <td>NaN</td>\n",
        "      <td>  2</td>\n",
        "      <td>NaN</td>\n",
        "      <td>NaN</td>\n",
        "      <td>NaN</td>\n",
        "      <td>NaN</td>\n",
        "      <td>NaN</td>\n",
        "      <td>NaN</td>\n",
        "      <td>NaN</td>\n",
        "      <td>NaN</td>\n",
        "      <td>  1</td>\n",
        "      <td>  7</td>\n",
        "      <td>  1</td>\n",
        "      <td>NaN</td>\n",
        "      <td>  1</td>\n",
        "      <td>...</td>\n",
        "    </tr>\n",
        "    <tr>\n",
        "      <th>13251776</th>\n",
        "      <td>  6</td>\n",
        "      <td>NaN</td>\n",
        "      <td>NaN</td>\n",
        "      <td>NaN</td>\n",
        "      <td>NaN</td>\n",
        "      <td>  2</td>\n",
        "      <td>NaN</td>\n",
        "      <td>NaN</td>\n",
        "      <td>NaN</td>\n",
        "      <td>NaN</td>\n",
        "      <td>NaN</td>\n",
        "      <td>NaN</td>\n",
        "      <td>NaN</td>\n",
        "      <td>NaN</td>\n",
        "      <td>NaN</td>\n",
        "      <td>NaN</td>\n",
        "      <td>  6</td>\n",
        "      <td>NaN</td>\n",
        "      <td>NaN</td>\n",
        "      <td>NaN</td>\n",
        "      <td>...</td>\n",
        "    </tr>\n",
        "    <tr>\n",
        "      <th>17486592</th>\n",
        "      <td>  3</td>\n",
        "      <td>NaN</td>\n",
        "      <td>NaN</td>\n",
        "      <td>NaN</td>\n",
        "      <td>NaN</td>\n",
        "      <td>  3</td>\n",
        "      <td>NaN</td>\n",
        "      <td>NaN</td>\n",
        "      <td>NaN</td>\n",
        "      <td>NaN</td>\n",
        "      <td>NaN</td>\n",
        "      <td>NaN</td>\n",
        "      <td>NaN</td>\n",
        "      <td>NaN</td>\n",
        "      <td>NaN</td>\n",
        "      <td>  1</td>\n",
        "      <td>  2</td>\n",
        "      <td>  2</td>\n",
        "      <td>NaN</td>\n",
        "      <td>NaN</td>\n",
        "      <td>...</td>\n",
        "    </tr>\n",
        "    <tr>\n",
        "      <th>21603296</th>\n",
        "      <td>  3</td>\n",
        "      <td>NaN</td>\n",
        "      <td>NaN</td>\n",
        "      <td>NaN</td>\n",
        "      <td>NaN</td>\n",
        "      <td>  3</td>\n",
        "      <td>  5</td>\n",
        "      <td>NaN</td>\n",
        "      <td>NaN</td>\n",
        "      <td>NaN</td>\n",
        "      <td>NaN</td>\n",
        "      <td>NaN</td>\n",
        "      <td>NaN</td>\n",
        "      <td>NaN</td>\n",
        "      <td>  7</td>\n",
        "      <td>NaN</td>\n",
        "      <td> 11</td>\n",
        "      <td>NaN</td>\n",
        "      <td>NaN</td>\n",
        "      <td>  1</td>\n",
        "      <td>...</td>\n",
        "    </tr>\n",
        "    <tr>\n",
        "      <th>48445984</th>\n",
        "      <td>  1</td>\n",
        "      <td>NaN</td>\n",
        "      <td>NaN</td>\n",
        "      <td>NaN</td>\n",
        "      <td>NaN</td>\n",
        "      <td>  2</td>\n",
        "      <td> 11</td>\n",
        "      <td>NaN</td>\n",
        "      <td>NaN</td>\n",
        "      <td>NaN</td>\n",
        "      <td>NaN</td>\n",
        "      <td>NaN</td>\n",
        "      <td>NaN</td>\n",
        "      <td>NaN</td>\n",
        "      <td>NaN</td>\n",
        "      <td>  2</td>\n",
        "      <td> 32</td>\n",
        "      <td>  1</td>\n",
        "      <td>  1</td>\n",
        "      <td>  2</td>\n",
        "      <td>...</td>\n",
        "    </tr>\n",
        "    <tr>\n",
        "      <th>48991232</th>\n",
        "      <td>NaN</td>\n",
        "      <td>NaN</td>\n",
        "      <td>NaN</td>\n",
        "      <td>NaN</td>\n",
        "      <td>NaN</td>\n",
        "      <td>NaN</td>\n",
        "      <td>NaN</td>\n",
        "      <td>NaN</td>\n",
        "      <td>NaN</td>\n",
        "      <td>NaN</td>\n",
        "      <td>NaN</td>\n",
        "      <td>NaN</td>\n",
        "      <td>NaN</td>\n",
        "      <td>NaN</td>\n",
        "      <td>NaN</td>\n",
        "      <td>NaN</td>\n",
        "      <td>NaN</td>\n",
        "      <td>NaN</td>\n",
        "      <td>NaN</td>\n",
        "      <td>  1</td>\n",
        "      <td>...</td>\n",
        "    </tr>\n",
        "  </tbody>\n",
        "</table>\n",
        "<p>6 rows \u00d7 803 columns</p>\n",
        "</div>"
       ],
       "metadata": {},
       "output_type": "pyout",
       "prompt_number": 43,
       "text": [
        "category  0    103  104  105  106  201  202  203  207  208  209  210  211  \\\n",
        "id                                                                          \n",
        "13089312    5  NaN  NaN  NaN  NaN  NaN    2  NaN  NaN  NaN  NaN  NaN  NaN   \n",
        "13251776    6  NaN  NaN  NaN  NaN    2  NaN  NaN  NaN  NaN  NaN  NaN  NaN   \n",
        "17486592    3  NaN  NaN  NaN  NaN    3  NaN  NaN  NaN  NaN  NaN  NaN  NaN   \n",
        "21603296    3  NaN  NaN  NaN  NaN    3    5  NaN  NaN  NaN  NaN  NaN  NaN   \n",
        "48445984    1  NaN  NaN  NaN  NaN    2   11  NaN  NaN  NaN  NaN  NaN  NaN   \n",
        "48991232  NaN  NaN  NaN  NaN  NaN  NaN  NaN  NaN  NaN  NaN  NaN  NaN  NaN   \n",
        "\n",
        "category  212  213  214  302  303  304  305      \n",
        "id                                               \n",
        "13089312  NaN  NaN    1    7    1  NaN    1 ...  \n",
        "13251776  NaN  NaN  NaN    6  NaN  NaN  NaN ...  \n",
        "17486592  NaN  NaN    1    2    2  NaN  NaN ...  \n",
        "21603296  NaN    7  NaN   11  NaN  NaN    1 ...  \n",
        "48445984  NaN  NaN    2   32    1    1    2 ...  \n",
        "48991232  NaN  NaN  NaN  NaN  NaN  NaN    1 ...  \n",
        "\n",
        "[6 rows x 803 columns]"
       ]
      }
     ],
     "prompt_number": 43
    },
    {
     "cell_type": "code",
     "collapsed": false,
     "input": [
      "pros0_wide_df = pros0_wide_df.fillna(0)\n",
      "pcols0 = pros0_wide_df.columns\n",
      "pros0_wide_df.index[:5]"
     ],
     "language": "python",
     "metadata": {},
     "outputs": [
      {
       "metadata": {},
       "output_type": "pyout",
       "prompt_number": 44,
       "text": [
        "Int64Index([13089312, 13251776, 17486592, 21603296, 48445984], dtype='int64')"
       ]
      }
     ],
     "prompt_number": 44
    },
    {
     "cell_type": "code",
     "collapsed": false,
     "input": [
      "a = pd.merge(pros0_wide_df, repeatstatus_df, how='left', left_index=True, right_index=True)\n",
      "a.repeater.shape"
     ],
     "language": "python",
     "metadata": {},
     "outputs": [
      {
       "metadata": {},
       "output_type": "pyout",
       "prompt_number": 45,
       "text": [
        "(3152,)"
       ]
      }
     ],
     "prompt_number": 45
    },
    {
     "cell_type": "code",
     "collapsed": false,
     "input": [
      "y_train_data0 = a.repeater\n",
      "X_train_data0 = pros0_wide_df[pcols0]\n",
      "print X_train_data0.shape, y_train_data0.shape"
     ],
     "language": "python",
     "metadata": {},
     "outputs": [
      {
       "output_type": "stream",
       "stream": "stdout",
       "text": [
        "(3152, 803) (3152,)\n"
       ]
      }
     ],
     "prompt_number": 46
    },
    {
     "cell_type": "code",
     "collapsed": false,
     "input": [
      "pros1_wide_df = pros1_df.pivot('id', 'category','cat_count')\n",
      "pros1_wide_df = pros1_wide_df.fillna(0)\n",
      "pcols1 = pros1_wide_df.columns\n",
      "a = pd.merge(pros1_wide_df, repeatstatus_df, how='left', left_index=True, right_index=True)\n",
      "y_train_data1 = a.repeater\n",
      "X_train_data1 = pros1_wide_df[pcols1]\n",
      "print X_train_data1.shape, y_train_data1.shape"
     ],
     "language": "python",
     "metadata": {},
     "outputs": [
      {
       "output_type": "stream",
       "stream": "stdout",
       "text": [
        "(3174, 803) (3174,)\n"
       ]
      }
     ],
     "prompt_number": 47
    },
    {
     "cell_type": "code",
     "collapsed": false,
     "input": [
      "pros2_wide_df = pros2_df.pivot('id', 'category','cat_count')\n",
      "pros2_wide_df = pros2_wide_df.fillna(0)\n",
      "pcols2 = pros2_wide_df.columns\n",
      "a = pd.merge(pros2_wide_df, repeatstatus_df, how='left', left_index=True, right_index=True)\n",
      "y_train_data2 = a.repeater\n",
      "X_train_data2 = pros2_wide_df[pcols2]\n",
      "print X_train_data2.shape, y_train_data2.shape"
     ],
     "language": "python",
     "metadata": {},
     "outputs": [
      {
       "output_type": "stream",
       "stream": "stdout",
       "text": [
        "(3063, 803) (3063,)\n"
       ]
      }
     ],
     "prompt_number": 48
    },
    {
     "cell_type": "code",
     "collapsed": false,
     "input": [
      "pros3_wide_df = pros3_df.pivot('id', 'category','cat_count')\n",
      "pros3_wide_df = pros3_wide_df.fillna(0)\n",
      "pcols3 = pros3_wide_df.columns\n",
      "a = pd.merge(pros3_wide_df, repeatstatus_df, how='left', left_index=True, right_index=True)\n",
      "y_train_data3 = a.repeater\n",
      "X_train_data3 = pros3_wide_df[pcols3]\n",
      "print X_train_data3.shape, y_train_data3.shape"
     ],
     "language": "python",
     "metadata": {},
     "outputs": [
      {
       "output_type": "stream",
       "stream": "stdout",
       "text": [
        "(3183, 803) (3183,)\n"
       ]
      }
     ],
     "prompt_number": 49
    },
    {
     "cell_type": "code",
     "collapsed": false,
     "input": [
      "pros4_wide_df = pros4_df.pivot('id', 'category','cat_count')\n",
      "pros4_wide_df = pros4_wide_df.fillna(0)\n",
      "pcols4 = pros4_wide_df.columns\n",
      "a = pd.merge(pros4_wide_df, repeatstatus_df, how='left', left_index=True, right_index=True)\n",
      "y_train_data4 = a.repeater\n",
      "X_train_data4 = pros4_wide_df[pcols4]\n",
      "print X_train_data4.shape, y_train_data4.shape"
     ],
     "language": "python",
     "metadata": {},
     "outputs": [
      {
       "output_type": "stream",
       "stream": "stdout",
       "text": [
        "(3198, 803) (3198,)\n"
       ]
      }
     ],
     "prompt_number": 50
    },
    {
     "cell_type": "code",
     "collapsed": false,
     "input": [
      "pros5_wide_df = pros5_df.pivot('id', 'category','cat_count')\n",
      "pros5_wide_df = pros5_wide_df.fillna(0)\n",
      "pcols5 = pros5_wide_df.columns\n",
      "a = pd.merge(pros5_wide_df, repeatstatus_df, how='left', left_index=True, right_index=True)\n",
      "y_train_data5 = a.repeater\n",
      "X_train_data5 = pros3_wide_df[pcols5]\n",
      "print X_train_data5.shape, y_train_data5.shape"
     ],
     "language": "python",
     "metadata": {},
     "outputs": [
      {
       "output_type": "stream",
       "stream": "stdout",
       "text": [
        "(3183, 803) (3240,)\n"
       ]
      }
     ],
     "prompt_number": 51
    },
    {
     "cell_type": "code",
     "collapsed": false,
     "input": [
      "pros6_wide_df = pros6_df.pivot('id', 'category','cat_count')\n",
      "pros6_wide_df = pros6_wide_df.fillna(0)\n",
      "pcols6 = pros6_wide_df.columns\n",
      "a = pd.merge(pros6_wide_df, repeatstatus_df, how='left', left_index=True, right_index=True)\n",
      "y_train_data6 = a.repeater\n",
      "X_train_data6 = pros6_wide_df[pcols6]\n",
      "print X_train_data6.shape, y_train_data6.shape"
     ],
     "language": "python",
     "metadata": {},
     "outputs": [
      {
       "output_type": "stream",
       "stream": "stdout",
       "text": [
        "(3168, 803) (3168,)\n"
       ]
      }
     ],
     "prompt_number": 52
    },
    {
     "cell_type": "code",
     "collapsed": false,
     "input": [
      "pros7_wide_df = pros7_df.pivot('id', 'category','cat_count')\n",
      "pros7_wide_df = pros7_wide_df.fillna(0)\n",
      "pcols7 = pros7_wide_df.columns\n",
      "a = pd.merge(pros7_wide_df, repeatstatus_df, how='left', left_index=True, right_index=True)\n",
      "y_train_data7 = a.repeater\n",
      "X_train_data7 = pros7_wide_df[pcols7]\n",
      "print X_train_data7.shape, y_train_data7.shape"
     ],
     "language": "python",
     "metadata": {},
     "outputs": [
      {
       "output_type": "stream",
       "stream": "stdout",
       "text": [
        "(3210, 803) (3210,)\n"
       ]
      }
     ],
     "prompt_number": 53
    },
    {
     "cell_type": "code",
     "collapsed": false,
     "input": [
      "pros8_wide_df = pros8_df.pivot('id', 'category','cat_count')\n",
      "pros8_wide_df = pros8_wide_df.fillna(0)\n",
      "pcols8 = pros8_wide_df.columns\n",
      "a = pd.merge(pros8_wide_df, repeatstatus_df, how='left', left_index=True, right_index=True)\n",
      "y_train_data8 = a.repeater\n",
      "X_train_data8 = pros8_wide_df[pcols8]\n",
      "print X_train_data8.shape, y_train_data8.shape"
     ],
     "language": "python",
     "metadata": {},
     "outputs": [
      {
       "output_type": "stream",
       "stream": "stdout",
       "text": [
        "(3178, 803) (3178,)\n"
       ]
      }
     ],
     "prompt_number": 54
    },
    {
     "cell_type": "code",
     "collapsed": false,
     "input": [
      "pros9_wide_df = pros9_df.pivot('id', 'category','cat_count')\n",
      "pros9_wide_df = pros9_wide_df.fillna(0)\n",
      "pcols9 = pros9_wide_df.columns\n",
      "a = pd.merge(pros9_wide_df, repeatstatus_df, how='left', left_index=True, right_index=True)\n",
      "y_train_data9 = a.repeater\n",
      "X_train_data9 = pros9_wide_df[pcols9]\n",
      "print X_train_data9.shape, y_train_data9.shape"
     ],
     "language": "python",
     "metadata": {},
     "outputs": [
      {
       "output_type": "stream",
       "stream": "stdout",
       "text": [
        "(3163, 803) (3163,)\n"
       ]
      }
     ],
     "prompt_number": 55
    },
    {
     "cell_type": "code",
     "collapsed": false,
     "input": [],
     "language": "python",
     "metadata": {},
     "outputs": [],
     "prompt_number": 55
    },
    {
     "cell_type": "code",
     "collapsed": false,
     "input": [
      "from sklearn import linear_model"
     ],
     "language": "python",
     "metadata": {},
     "outputs": [],
     "prompt_number": 56
    },
    {
     "cell_type": "code",
     "collapsed": false,
     "input": [
      "lrmodel = linear_model.LogisticRegression()\n",
      "lrmodel.fit(X_train_data0,y_train_data0)"
     ],
     "language": "python",
     "metadata": {},
     "outputs": [
      {
       "metadata": {},
       "output_type": "pyout",
       "prompt_number": 57,
       "text": [
        "LogisticRegression(C=1.0, class_weight=None, dual=False, fit_intercept=True,\n",
        "          intercept_scaling=1, penalty='l2', random_state=None, tol=0.0001)"
       ]
      }
     ],
     "prompt_number": 57
    },
    {
     "cell_type": "code",
     "collapsed": false,
     "input": [
      "# Training profiles0 = 83.7%\n",
      "print(\"Training score: {0:.1f}%\".format(\n",
      "    lrmodel.score(X_train_data0,y_train_data0) * 100))"
     ],
     "language": "python",
     "metadata": {},
     "outputs": [
      {
       "output_type": "stream",
       "stream": "stdout",
       "text": [
        "Training score: 83.7%\n"
       ]
      }
     ],
     "prompt_number": 58
    },
    {
     "cell_type": "code",
     "collapsed": false,
     "input": [
      "# Testing profiles0 on profiles1 = 65.4%\n",
      "print(\"Testing score: {0:.1f}%\".format(\n",
      "    lrmodel.score(X_train_data1,y_train_data1) * 100))"
     ],
     "language": "python",
     "metadata": {},
     "outputs": [
      {
       "output_type": "stream",
       "stream": "stdout",
       "text": [
        "Testing score: 65.4%\n"
       ]
      }
     ],
     "prompt_number": 59
    },
    {
     "cell_type": "code",
     "collapsed": false,
     "input": [
      "# Testing profiles0 on profiles2 = 66.1%\n",
      "print(\"Testing score: {0:.1f}%\".format(\n",
      "    lrmodel.score(X_train_data2,y_train_data2) * 100))"
     ],
     "language": "python",
     "metadata": {},
     "outputs": [
      {
       "output_type": "stream",
       "stream": "stdout",
       "text": [
        "Testing score: 66.1%\n"
       ]
      }
     ],
     "prompt_number": 60
    },
    {
     "cell_type": "code",
     "collapsed": false,
     "input": [
      "# Testing profiles0 on profiles3 = 66.4%\n",
      "print(\"Testing score: {0:.1f}%\".format(\n",
      "    lrmodel.score(X_train_data3,y_train_data3) * 100))"
     ],
     "language": "python",
     "metadata": {},
     "outputs": [
      {
       "output_type": "stream",
       "stream": "stdout",
       "text": [
        "Testing score: 66.4%\n"
       ]
      }
     ],
     "prompt_number": 61
    },
    {
     "cell_type": "code",
     "collapsed": false,
     "input": [
      "# Testing profiles0 on profiles4 = 65.1%\n",
      "print(\"Testing score: {0:.1f}%\".format(\n",
      "    lrmodel.score(X_train_data4,y_train_data4) * 100))"
     ],
     "language": "python",
     "metadata": {},
     "outputs": [
      {
       "output_type": "stream",
       "stream": "stdout",
       "text": [
        "Testing score: 65.1%\n"
       ]
      }
     ],
     "prompt_number": 62
    },
    {
     "cell_type": "code",
     "collapsed": false,
     "input": [
      "target_predicted_proba = lrmodel.predict_proba(X_train_data0)\n",
      "target_predicted_proba[:5]"
     ],
     "language": "python",
     "metadata": {},
     "outputs": [
      {
       "metadata": {},
       "output_type": "pyout",
       "prompt_number": 63,
       "text": [
        "array([[  9.21104683e-01,   7.88953168e-02],\n",
        "       [  9.88967511e-01,   1.10324888e-02],\n",
        "       [  8.37108838e-01,   1.62891162e-01],\n",
        "       [  9.38600446e-01,   6.13995538e-02],\n",
        "       [  9.99673244e-01,   3.26756245e-04]])"
       ]
      }
     ],
     "prompt_number": 63
    },
    {
     "cell_type": "code",
     "collapsed": false,
     "input": [
      "# For profiles0, auc = 0.855\n",
      "plot_roc_curve(y_train_data0, target_predicted_proba[:,1], 'repeater')"
     ],
     "language": "python",
     "metadata": {},
     "outputs": [
      {
       "metadata": {},
       "output_type": "display_data",
       "png": "[encoded data removed]",
       "text": [
        "<matplotlib.figure.Figure at 0x111e455d0>"
       ]
      }
     ],
     "prompt_number": 64
    },
    {
     "cell_type": "code",
     "collapsed": false,
     "input": [],
     "language": "python",
     "metadata": {},
     "outputs": []
    },
    {
     "cell_type": "code",
     "collapsed": false,
     "input": [
      "lrmodel = linear_model.LogisticRegression()\n",
      "lrmodel.fit(X_train_data1,y_train_data1)"
     ],
     "language": "python",
     "metadata": {},
     "outputs": [
      {
       "metadata": {},
       "output_type": "pyout",
       "prompt_number": 65,
       "text": [
        "LogisticRegression(C=1.0, class_weight=None, dual=False, fit_intercept=True,\n",
        "          intercept_scaling=1, penalty='l2', random_state=None, tol=0.0001)"
       ]
      }
     ],
     "prompt_number": 65
    },
    {
     "cell_type": "code",
     "collapsed": false,
     "input": [
      "# Training profiles1 = 81.6%\n",
      "print(\"Training score: {0:.1f}%\".format(\n",
      "    lrmodel.score(X_train_data1,y_train_data1) * 100))"
     ],
     "language": "python",
     "metadata": {},
     "outputs": [
      {
       "output_type": "stream",
       "stream": "stdout",
       "text": [
        "Training score: 81.6%\n"
       ]
      }
     ],
     "prompt_number": 66
    },
    {
     "cell_type": "code",
     "collapsed": false,
     "input": [
      "# Testing profiles1 on profiles0 = 65.5%\n",
      "print(\"Testing score: {0:.1f}%\".format(\n",
      "    lrmodel.score(X_train_data0,y_train_data0) * 100))"
     ],
     "language": "python",
     "metadata": {},
     "outputs": [
      {
       "output_type": "stream",
       "stream": "stdout",
       "text": [
        "Testing score: 65.5%\n"
       ]
      }
     ],
     "prompt_number": 67
    },
    {
     "cell_type": "code",
     "collapsed": false,
     "input": [
      "# Testing profiles1 on profiles2 = 66.2%\n",
      "print(\"Testing score: {0:.1f}%\".format(\n",
      "    lrmodel.score(X_train_data2,y_train_data2) * 100))"
     ],
     "language": "python",
     "metadata": {},
     "outputs": [
      {
       "output_type": "stream",
       "stream": "stdout",
       "text": [
        "Testing score: 66.2%\n"
       ]
      }
     ],
     "prompt_number": 68
    },
    {
     "cell_type": "code",
     "collapsed": false,
     "input": [
      "# Testing profiles1 on profiles3 = 65.3%\n",
      "print(\"Testing score: {0:.1f}%\".format(\n",
      "    lrmodel.score(X_train_data3,y_train_data3) * 100))"
     ],
     "language": "python",
     "metadata": {},
     "outputs": [
      {
       "output_type": "stream",
       "stream": "stdout",
       "text": [
        "Testing score: 65.3%\n"
       ]
      }
     ],
     "prompt_number": 69
    },
    {
     "cell_type": "code",
     "collapsed": false,
     "input": [
      "# Testing profiles1 on profiles3 = 64.4%\n",
      "print(\"Testing score: {0:.1f}%\".format(\n",
      "    lrmodel.score(X_train_data4,y_train_data4) * 100))"
     ],
     "language": "python",
     "metadata": {},
     "outputs": [
      {
       "output_type": "stream",
       "stream": "stdout",
       "text": [
        "Testing score: 64.4%\n"
       ]
      }
     ],
     "prompt_number": 70
    },
    {
     "cell_type": "code",
     "collapsed": false,
     "input": [
      "target_predicted_proba = lrmodel.predict_proba(X_train_data1)\n",
      "target_predicted_proba[:5]"
     ],
     "language": "python",
     "metadata": {},
     "outputs": [
      {
       "metadata": {},
       "output_type": "pyout",
       "prompt_number": 71,
       "text": [
        "array([[  9.70146465e-01,   2.98535355e-02],\n",
        "       [  5.31213139e-01,   4.68786861e-01],\n",
        "       [  9.54550092e-01,   4.54499083e-02],\n",
        "       [  9.99924413e-01,   7.55868613e-05],\n",
        "       [  4.82242095e-01,   5.17757905e-01]])"
       ]
      }
     ],
     "prompt_number": 71
    },
    {
     "cell_type": "code",
     "collapsed": false,
     "input": [
      "# For profiles1, auc = 0.847\n",
      "plot_roc_curve(y_train_data1, target_predicted_proba[:,1], 'repeater')"
     ],
     "language": "python",
     "metadata": {},
     "outputs": [
      {
       "metadata": {},
       "output_type": "display_data",
       "png": "[encoded data removed]",
       "text": [
        "<matplotlib.figure.Figure at 0x10b103390>"
       ]
      }
     ],
     "prompt_number": 72
    },
    {
     "cell_type": "code",
     "collapsed": false,
     "input": [],
     "language": "python",
     "metadata": {},
     "outputs": []
    },
    {
     "cell_type": "code",
     "collapsed": false,
     "input": [
      "pros01_df = pros0_df.append(pros1_df)"
     ],
     "language": "python",
     "metadata": {},
     "outputs": [],
     "prompt_number": 73
    },
    {
     "cell_type": "code",
     "collapsed": false,
     "input": [
      "pros01_df.describe()"
     ],
     "language": "python",
     "metadata": {},
     "outputs": [
      {
       "html": [
        "<div style=\"max-height:1000px;max-width:1500px;overflow:auto;\">\n",
        "<table border=\"1\" class=\"dataframe\">\n",
        "  <thead>\n",
        "    <tr style=\"text-align: right;\">\n",
        "      <th></th>\n",
        "      <th>id</th>\n",
        "      <th>category</th>\n",
        "      <th>cat_count</th>\n",
        "      <th>cat_spend</th>\n",
        "      <th>repeater</th>\n",
        "    </tr>\n",
        "  </thead>\n",
        "  <tbody>\n",
        "    <tr>\n",
        "      <th>count</th>\n",
        "      <td> 1.280705e+06</td>\n",
        "      <td> 1280705.000000</td>\n",
        "      <td> 1280705.000000</td>\n",
        "      <td> 1280705.000000</td>\n",
        "      <td> 1280705.000000</td>\n",
        "    </tr>\n",
        "    <tr>\n",
        "      <th>mean</th>\n",
        "      <td> 7.620680e+08</td>\n",
        "      <td>    3823.602417</td>\n",
        "      <td>       8.269534</td>\n",
        "      <td>      22.321248</td>\n",
        "      <td>       0.262512</td>\n",
        "    </tr>\n",
        "    <tr>\n",
        "      <th>std</th>\n",
        "      <td> 5.853174e+08</td>\n",
        "      <td>    2543.805889</td>\n",
        "      <td>      79.623222</td>\n",
        "      <td>      84.986908</td>\n",
        "      <td>       0.440000</td>\n",
        "    </tr>\n",
        "    <tr>\n",
        "      <th>min</th>\n",
        "      <td> 1.308931e+07</td>\n",
        "      <td>       0.000000</td>\n",
        "      <td>    -442.000000</td>\n",
        "      <td>   -8580.000000</td>\n",
        "      <td>       0.000000</td>\n",
        "    </tr>\n",
        "    <tr>\n",
        "      <th>25%</th>\n",
        "      <td> 4.915594e+08</td>\n",
        "      <td>    1813.000000</td>\n",
        "      <td>       1.000000</td>\n",
        "      <td>       3.590000</td>\n",
        "      <td>       0.000000</td>\n",
        "    </tr>\n",
        "    <tr>\n",
        "      <th>50%</th>\n",
        "      <td> 5.621392e+08</td>\n",
        "      <td>    3319.000000</td>\n",
        "      <td>       3.000000</td>\n",
        "      <td>       8.000000</td>\n",
        "      <td>       0.000000</td>\n",
        "    </tr>\n",
        "    <tr>\n",
        "      <th>75%</th>\n",
        "      <td> 7.221562e+08</td>\n",
        "      <td>    5704.000000</td>\n",
        "      <td>       7.000000</td>\n",
        "      <td>      20.820000</td>\n",
        "      <td>       1.000000</td>\n",
        "    </tr>\n",
        "    <tr>\n",
        "      <th>max</th>\n",
        "      <td> 2.439128e+09</td>\n",
        "      <td>    9909.000000</td>\n",
        "      <td>   40838.000000</td>\n",
        "      <td>   27811.640000</td>\n",
        "      <td>       1.000000</td>\n",
        "    </tr>\n",
        "  </tbody>\n",
        "</table>\n",
        "<p>8 rows \u00d7 5 columns</p>\n",
        "</div>"
       ],
       "metadata": {},
       "output_type": "pyout",
       "prompt_number": 74,
       "text": [
        "                 id        category       cat_count       cat_spend  \\\n",
        "count  1.280705e+06  1280705.000000  1280705.000000  1280705.000000   \n",
        "mean   7.620680e+08     3823.602417        8.269534       22.321248   \n",
        "std    5.853174e+08     2543.805889       79.623222       84.986908   \n",
        "min    1.308931e+07        0.000000     -442.000000    -8580.000000   \n",
        "25%    4.915594e+08     1813.000000        1.000000        3.590000   \n",
        "50%    5.621392e+08     3319.000000        3.000000        8.000000   \n",
        "75%    7.221562e+08     5704.000000        7.000000       20.820000   \n",
        "max    2.439128e+09     9909.000000    40838.000000    27811.640000   \n",
        "\n",
        "             repeater  \n",
        "count  1280705.000000  \n",
        "mean         0.262512  \n",
        "std          0.440000  \n",
        "min          0.000000  \n",
        "25%          0.000000  \n",
        "50%          0.000000  \n",
        "75%          1.000000  \n",
        "max          1.000000  \n",
        "\n",
        "[8 rows x 5 columns]"
       ]
      }
     ],
     "prompt_number": 74
    },
    {
     "cell_type": "code",
     "collapsed": false,
     "input": [
      "pros01_wide_df = pros01_df.pivot('id', 'category','cat_count')\n",
      "pros01_wide_df = pros01_wide_df.fillna(0)\n",
      "pcols01 = pros01_wide_df.columns\n",
      "a = pd.merge(pros01_wide_df, repeatstatus_df, how='left', left_index=True, right_index=True)\n",
      "y_train_data01 = a.repeater\n",
      "X_train_data01 = pros01_wide_df[pcols01]\n",
      "print X_train_data01.shape, y_train_data01.shape"
     ],
     "language": "python",
     "metadata": {},
     "outputs": [
      {
       "output_type": "stream",
       "stream": "stdout",
       "text": [
        "(6326, 803) (6326,)\n"
       ]
      }
     ],
     "prompt_number": 75
    },
    {
     "cell_type": "code",
     "collapsed": false,
     "input": [
      "lrmodel = linear_model.LogisticRegression()\n",
      "lrmodel.fit(X_train_data01,y_train_data01)"
     ],
     "language": "python",
     "metadata": {},
     "outputs": [
      {
       "metadata": {},
       "output_type": "pyout",
       "prompt_number": 76,
       "text": [
        "LogisticRegression(C=1.0, class_weight=None, dual=False, fit_intercept=True,\n",
        "          intercept_scaling=1, penalty='l2', random_state=None, tol=0.0001)"
       ]
      }
     ],
     "prompt_number": 76
    },
    {
     "cell_type": "code",
     "collapsed": false,
     "input": [
      "# Training profiles01 = 77.5%\n",
      "print(\"Training score: {0:.1f}%\".format(\n",
      "    lrmodel.score(X_train_data01,y_train_data01) * 100))"
     ],
     "language": "python",
     "metadata": {},
     "outputs": [
      {
       "output_type": "stream",
       "stream": "stdout",
       "text": [
        "Training score: 77.5%\n"
       ]
      }
     ],
     "prompt_number": 77
    },
    {
     "cell_type": "code",
     "collapsed": false,
     "input": [
      "# Testing profiles01 on profiles2 = 71.0%\n",
      "print(\"Testing score: {0:.1f}%\".format(\n",
      "    lrmodel.score(X_train_data2,y_train_data2) * 100))"
     ],
     "language": "python",
     "metadata": {},
     "outputs": [
      {
       "output_type": "stream",
       "stream": "stdout",
       "text": [
        "Testing score: 71.0%\n"
       ]
      }
     ],
     "prompt_number": 78
    },
    {
     "cell_type": "code",
     "collapsed": false,
     "input": [
      "# Testing profiles01 on profiles3 = 69.7%\n",
      "print(\"Testing score: {0:.1f}%\".format(\n",
      "    lrmodel.score(X_train_data3,y_train_data3) * 100))"
     ],
     "language": "python",
     "metadata": {},
     "outputs": [
      {
       "output_type": "stream",
       "stream": "stdout",
       "text": [
        "Testing score: 69.7%\n"
       ]
      }
     ],
     "prompt_number": 238
    },
    {
     "cell_type": "code",
     "collapsed": false,
     "input": [
      "# Testing profiles01 on profiles4 = 68.9%\n",
      "print(\"Testing score: {0:.1f}%\".format(\n",
      "    lrmodel.score(X_train_data4,y_train_data4) * 100))"
     ],
     "language": "python",
     "metadata": {},
     "outputs": [
      {
       "output_type": "stream",
       "stream": "stdout",
       "text": [
        "Testing score: 68.9%\n"
       ]
      }
     ],
     "prompt_number": 79
    },
    {
     "cell_type": "code",
     "collapsed": false,
     "input": [
      "# Testing profiles01 on profiles6 = 70.8%\n",
      "print(\"Testing score: {0:.1f}%\".format(\n",
      "    lrmodel.score(X_train_data6,y_train_data6) * 100))"
     ],
     "language": "python",
     "metadata": {},
     "outputs": [
      {
       "output_type": "stream",
       "stream": "stdout",
       "text": [
        "Testing score: 70.8%\n"
       ]
      }
     ],
     "prompt_number": 82
    },
    {
     "cell_type": "code",
     "collapsed": false,
     "input": [
      "target_predicted_proba = lrmodel.predict_proba(X_train_data01)\n",
      "target_predicted_proba[:5]"
     ],
     "language": "python",
     "metadata": {},
     "outputs": [
      {
       "metadata": {},
       "output_type": "pyout",
       "prompt_number": 83,
       "text": [
        "array([[ 0.68164482,  0.31835518],\n",
        "       [ 0.9165199 ,  0.0834801 ],\n",
        "       [ 0.76133865,  0.23866135],\n",
        "       [ 0.82579804,  0.17420196],\n",
        "       [ 0.78543784,  0.21456216]])"
       ]
      }
     ],
     "prompt_number": 83
    },
    {
     "cell_type": "code",
     "collapsed": false,
     "input": [
      "# For profiles01, auc = .752\n",
      "plot_roc_curve(y_train_data01, target_predicted_proba[:,1], 'repeater')"
     ],
     "language": "python",
     "metadata": {},
     "outputs": [
      {
       "metadata": {},
       "output_type": "display_data",
       "png": "[encoded data removed]",
       "text": [
        "<matplotlib.figure.Figure at 0x10b110b50>"
       ]
      }
     ],
     "prompt_number": 84
    },
    {
     "cell_type": "markdown",
     "metadata": {},
     "source": [
      "### Picking subset of features based on distribution of repeaters and non-repeaters\n",
      "#### See initial exploration of category distribution above"
     ]
    },
    {
     "cell_type": "markdown",
     "metadata": {},
     "source": [
      "### Returned to dataprep2 to create table with subset of categories within central 50%\n",
      "### New table is called cat_dist3"
     ]
    },
    {
     "cell_type": "code",
     "collapsed": false,
     "input": [
      "# Subset of categories (97 rows)\n",
      "catdist3_df = sql.frame_query(\"\"\"\n",
      "    SELECT * FROM cat_dist3\n",
      "    \"\"\", conn)"
     ],
     "language": "python",
     "metadata": {},
     "outputs": [],
     "prompt_number": 85
    },
    {
     "cell_type": "code",
     "collapsed": false,
     "input": [
      "catdist3_df.head()"
     ],
     "language": "python",
     "metadata": {},
     "outputs": [
      {
       "html": [
        "<div style=\"max-height:1000px;max-width:1500px;overflow:auto;\">\n",
        "<table border=\"1\" class=\"dataframe\">\n",
        "  <thead>\n",
        "    <tr style=\"text-align: right;\">\n",
        "      <th></th>\n",
        "      <th>category</th>\n",
        "      <th>num_ids</th>\n",
        "      <th>num_ids_rep</th>\n",
        "      <th>pct_rep</th>\n",
        "    </tr>\n",
        "  </thead>\n",
        "  <tbody>\n",
        "    <tr>\n",
        "      <th>0</th>\n",
        "      <td> 213</td>\n",
        "      <td> 1094</td>\n",
        "      <td> 269</td>\n",
        "      <td> 0.24589</td>\n",
        "    </tr>\n",
        "    <tr>\n",
        "      <th>1</th>\n",
        "      <td> 302</td>\n",
        "      <td> 1689</td>\n",
        "      <td> 407</td>\n",
        "      <td> 0.24097</td>\n",
        "    </tr>\n",
        "    <tr>\n",
        "      <th>2</th>\n",
        "      <td> 305</td>\n",
        "      <td> 1141</td>\n",
        "      <td> 283</td>\n",
        "      <td> 0.24803</td>\n",
        "    </tr>\n",
        "    <tr>\n",
        "      <th>3</th>\n",
        "      <td> 411</td>\n",
        "      <td> 1197</td>\n",
        "      <td> 288</td>\n",
        "      <td> 0.24060</td>\n",
        "    </tr>\n",
        "    <tr>\n",
        "      <th>4</th>\n",
        "      <td> 412</td>\n",
        "      <td>  849</td>\n",
        "      <td> 232</td>\n",
        "      <td> 0.27326</td>\n",
        "    </tr>\n",
        "  </tbody>\n",
        "</table>\n",
        "<p>5 rows \u00d7 4 columns</p>\n",
        "</div>"
       ],
       "metadata": {},
       "output_type": "pyout",
       "prompt_number": 86,
       "text": [
        "   category  num_ids  num_ids_rep  pct_rep\n",
        "0       213     1094          269  0.24589\n",
        "1       302     1689          407  0.24097\n",
        "2       305     1141          283  0.24803\n",
        "3       411     1197          288  0.24060\n",
        "4       412      849          232  0.27326\n",
        "\n",
        "[5 rows x 4 columns]"
       ]
      }
     ],
     "prompt_number": 86
    },
    {
     "cell_type": "code",
     "collapsed": false,
     "input": [
      "catdist3_df.describe()"
     ],
     "language": "python",
     "metadata": {},
     "outputs": [
      {
       "html": [
        "<div style=\"max-height:1000px;max-width:1500px;overflow:auto;\">\n",
        "<table border=\"1\" class=\"dataframe\">\n",
        "  <thead>\n",
        "    <tr style=\"text-align: right;\">\n",
        "      <th></th>\n",
        "      <th>category</th>\n",
        "      <th>num_ids</th>\n",
        "      <th>num_ids_rep</th>\n",
        "      <th>pct_rep</th>\n",
        "    </tr>\n",
        "  </thead>\n",
        "  <tbody>\n",
        "    <tr>\n",
        "      <th>count</th>\n",
        "      <td>   97.000000</td>\n",
        "      <td>   97.000000</td>\n",
        "      <td>  97.000000</td>\n",
        "      <td> 97.000000</td>\n",
        "    </tr>\n",
        "    <tr>\n",
        "      <th>mean</th>\n",
        "      <td> 3503.329897</td>\n",
        "      <td> 1218.051546</td>\n",
        "      <td> 315.948454</td>\n",
        "      <td>  0.260145</td>\n",
        "    </tr>\n",
        "    <tr>\n",
        "      <th>std</th>\n",
        "      <td> 2450.296133</td>\n",
        "      <td>  313.231855</td>\n",
        "      <td>  79.457847</td>\n",
        "      <td>  0.016785</td>\n",
        "    </tr>\n",
        "    <tr>\n",
        "      <th>min</th>\n",
        "      <td>  213.000000</td>\n",
        "      <td>  797.000000</td>\n",
        "      <td> 198.000000</td>\n",
        "      <td>  0.234810</td>\n",
        "    </tr>\n",
        "    <tr>\n",
        "      <th>25%</th>\n",
        "      <td> 1410.000000</td>\n",
        "      <td>  951.000000</td>\n",
        "      <td> 248.000000</td>\n",
        "      <td>  0.245890</td>\n",
        "    </tr>\n",
        "    <tr>\n",
        "      <th>50%</th>\n",
        "      <td> 3312.000000</td>\n",
        "      <td> 1177.000000</td>\n",
        "      <td> 315.000000</td>\n",
        "      <td>  0.249560</td>\n",
        "    </tr>\n",
        "    <tr>\n",
        "      <th>75%</th>\n",
        "      <td> 5305.000000</td>\n",
        "      <td> 1426.000000</td>\n",
        "      <td> 358.000000</td>\n",
        "      <td>  0.274730</td>\n",
        "    </tr>\n",
        "    <tr>\n",
        "      <th>max</th>\n",
        "      <td> 9901.000000</td>\n",
        "      <td> 2080.000000</td>\n",
        "      <td> 521.000000</td>\n",
        "      <td>  0.304030</td>\n",
        "    </tr>\n",
        "  </tbody>\n",
        "</table>\n",
        "<p>8 rows \u00d7 4 columns</p>\n",
        "</div>"
       ],
       "metadata": {},
       "output_type": "pyout",
       "prompt_number": 87,
       "text": [
        "          category      num_ids  num_ids_rep    pct_rep\n",
        "count    97.000000    97.000000    97.000000  97.000000\n",
        "mean   3503.329897  1218.051546   315.948454   0.260145\n",
        "std    2450.296133   313.231855    79.457847   0.016785\n",
        "min     213.000000   797.000000   198.000000   0.234810\n",
        "25%    1410.000000   951.000000   248.000000   0.245890\n",
        "50%    3312.000000  1177.000000   315.000000   0.249560\n",
        "75%    5305.000000  1426.000000   358.000000   0.274730\n",
        "max    9901.000000  2080.000000   521.000000   0.304030\n",
        "\n",
        "[8 rows x 4 columns]"
       ]
      }
     ],
     "prompt_number": 87
    },
    {
     "cell_type": "code",
     "collapsed": false,
     "input": [
      "plt.scatter(catdist3_df.pct_rep, catdist3_df.num_ids)\n",
      "plt.xlabel('percent repeaters')\n",
      "plt.ylabel('number of shoppers')"
     ],
     "language": "python",
     "metadata": {},
     "outputs": [
      {
       "metadata": {},
       "output_type": "pyout",
       "prompt_number": 88,
       "text": [
        "<matplotlib.text.Text at 0x112c1b510>"
       ]
      },
      {
       "metadata": {},
       "output_type": "display_data",
       "png": "[encoded data removed]",
       "text": [
        "<matplotlib.figure.Figure at 0x111e6b110>"
       ]
      }
     ],
     "prompt_number": 88
    },
    {
     "cell_type": "code",
     "collapsed": false,
     "input": [
      "pros0_df.head()"
     ],
     "language": "python",
     "metadata": {},
     "outputs": [
      {
       "html": [
        "<div style=\"max-height:1000px;max-width:1500px;overflow:auto;\">\n",
        "<table border=\"1\" class=\"dataframe\">\n",
        "  <thead>\n",
        "    <tr style=\"text-align: right;\">\n",
        "      <th></th>\n",
        "      <th>id</th>\n",
        "      <th>category</th>\n",
        "      <th>cat_count</th>\n",
        "      <th>cat_spend</th>\n",
        "      <th>repeater</th>\n",
        "    </tr>\n",
        "  </thead>\n",
        "  <tbody>\n",
        "    <tr>\n",
        "      <th>0</th>\n",
        "      <td> 13089312</td>\n",
        "      <td>   0</td>\n",
        "      <td> 5</td>\n",
        "      <td> 15.85</td>\n",
        "      <td> 0</td>\n",
        "    </tr>\n",
        "    <tr>\n",
        "      <th>1</th>\n",
        "      <td> 13089312</td>\n",
        "      <td> 202</td>\n",
        "      <td> 2</td>\n",
        "      <td>  3.98</td>\n",
        "      <td> 0</td>\n",
        "    </tr>\n",
        "    <tr>\n",
        "      <th>2</th>\n",
        "      <td> 13089312</td>\n",
        "      <td> 214</td>\n",
        "      <td> 1</td>\n",
        "      <td>  2.99</td>\n",
        "      <td> 0</td>\n",
        "    </tr>\n",
        "    <tr>\n",
        "      <th>3</th>\n",
        "      <td> 13089312</td>\n",
        "      <td> 302</td>\n",
        "      <td> 7</td>\n",
        "      <td> 22.41</td>\n",
        "      <td> 0</td>\n",
        "    </tr>\n",
        "    <tr>\n",
        "      <th>4</th>\n",
        "      <td> 13089312</td>\n",
        "      <td> 303</td>\n",
        "      <td> 1</td>\n",
        "      <td>  2.79</td>\n",
        "      <td> 0</td>\n",
        "    </tr>\n",
        "  </tbody>\n",
        "</table>\n",
        "<p>5 rows \u00d7 5 columns</p>\n",
        "</div>"
       ],
       "metadata": {},
       "output_type": "pyout",
       "prompt_number": 89,
       "text": [
        "         id  category  cat_count  cat_spend  repeater\n",
        "0  13089312         0          5      15.85         0\n",
        "1  13089312       202          2       3.98         0\n",
        "2  13089312       214          1       2.99         0\n",
        "3  13089312       302          7      22.41         0\n",
        "4  13089312       303          1       2.79         0\n",
        "\n",
        "[5 rows x 5 columns]"
       ]
      }
     ],
     "prompt_number": 89
    },
    {
     "cell_type": "code",
     "collapsed": false,
     "input": [
      "cpros0_df = pd.merge(pros0_df, catdist3_df)"
     ],
     "language": "python",
     "metadata": {},
     "outputs": [],
     "prompt_number": 90
    },
    {
     "cell_type": "code",
     "collapsed": false,
     "input": [
      "cpros0_df.head()"
     ],
     "language": "python",
     "metadata": {},
     "outputs": [
      {
       "html": [
        "<div style=\"max-height:1000px;max-width:1500px;overflow:auto;\">\n",
        "<table border=\"1\" class=\"dataframe\">\n",
        "  <thead>\n",
        "    <tr style=\"text-align: right;\">\n",
        "      <th></th>\n",
        "      <th>id</th>\n",
        "      <th>category</th>\n",
        "      <th>cat_count</th>\n",
        "      <th>cat_spend</th>\n",
        "      <th>repeater</th>\n",
        "      <th>num_ids</th>\n",
        "      <th>num_ids_rep</th>\n",
        "      <th>pct_rep</th>\n",
        "    </tr>\n",
        "  </thead>\n",
        "  <tbody>\n",
        "    <tr>\n",
        "      <th>0</th>\n",
        "      <td> 13089312</td>\n",
        "      <td> 302</td>\n",
        "      <td>  7</td>\n",
        "      <td>  22.41</td>\n",
        "      <td> 0</td>\n",
        "      <td> 1689</td>\n",
        "      <td> 407</td>\n",
        "      <td> 0.24097</td>\n",
        "    </tr>\n",
        "    <tr>\n",
        "      <th>1</th>\n",
        "      <td> 13251776</td>\n",
        "      <td> 302</td>\n",
        "      <td>  6</td>\n",
        "      <td>  26.15</td>\n",
        "      <td> 0</td>\n",
        "      <td> 1689</td>\n",
        "      <td> 407</td>\n",
        "      <td> 0.24097</td>\n",
        "    </tr>\n",
        "    <tr>\n",
        "      <th>2</th>\n",
        "      <td> 17486592</td>\n",
        "      <td> 302</td>\n",
        "      <td>  2</td>\n",
        "      <td>   5.99</td>\n",
        "      <td> 1</td>\n",
        "      <td> 1689</td>\n",
        "      <td> 407</td>\n",
        "      <td> 0.24097</td>\n",
        "    </tr>\n",
        "    <tr>\n",
        "      <th>3</th>\n",
        "      <td> 21603296</td>\n",
        "      <td> 302</td>\n",
        "      <td> 11</td>\n",
        "      <td>  36.03</td>\n",
        "      <td> 0</td>\n",
        "      <td> 1689</td>\n",
        "      <td> 407</td>\n",
        "      <td> 0.24097</td>\n",
        "    </tr>\n",
        "    <tr>\n",
        "      <th>4</th>\n",
        "      <td> 48445984</td>\n",
        "      <td> 302</td>\n",
        "      <td> 32</td>\n",
        "      <td> 119.37</td>\n",
        "      <td> 0</td>\n",
        "      <td> 1689</td>\n",
        "      <td> 407</td>\n",
        "      <td> 0.24097</td>\n",
        "    </tr>\n",
        "  </tbody>\n",
        "</table>\n",
        "<p>5 rows \u00d7 8 columns</p>\n",
        "</div>"
       ],
       "metadata": {},
       "output_type": "pyout",
       "prompt_number": 91,
       "text": [
        "         id  category  cat_count  cat_spend  repeater  num_ids  num_ids_rep  \\\n",
        "0  13089312       302          7      22.41         0     1689          407   \n",
        "1  13251776       302          6      26.15         0     1689          407   \n",
        "2  17486592       302          2       5.99         1     1689          407   \n",
        "3  21603296       302         11      36.03         0     1689          407   \n",
        "4  48445984       302         32     119.37         0     1689          407   \n",
        "\n",
        "   pct_rep  \n",
        "0  0.24097  \n",
        "1  0.24097  \n",
        "2  0.24097  \n",
        "3  0.24097  \n",
        "4  0.24097  \n",
        "\n",
        "[5 rows x 8 columns]"
       ]
      }
     ],
     "prompt_number": 91
    },
    {
     "cell_type": "code",
     "collapsed": false,
     "input": [
      "cpros0_df.describe()"
     ],
     "language": "python",
     "metadata": {},
     "outputs": [
      {
       "html": [
        "<div style=\"max-height:1000px;max-width:1500px;overflow:auto;\">\n",
        "<table border=\"1\" class=\"dataframe\">\n",
        "  <thead>\n",
        "    <tr style=\"text-align: right;\">\n",
        "      <th></th>\n",
        "      <th>id</th>\n",
        "      <th>category</th>\n",
        "      <th>cat_count</th>\n",
        "      <th>cat_spend</th>\n",
        "      <th>repeater</th>\n",
        "      <th>num_ids</th>\n",
        "      <th>num_ids_rep</th>\n",
        "      <th>pct_rep</th>\n",
        "    </tr>\n",
        "  </thead>\n",
        "  <tbody>\n",
        "    <tr>\n",
        "      <th>count</th>\n",
        "      <td> 1.181510e+05</td>\n",
        "      <td> 118151.000000</td>\n",
        "      <td> 118151.000000</td>\n",
        "      <td> 118151.000000</td>\n",
        "      <td> 118151.000000</td>\n",
        "      <td> 118151.000000</td>\n",
        "      <td> 118151.000000</td>\n",
        "      <td> 118151.000000</td>\n",
        "    </tr>\n",
        "    <tr>\n",
        "      <th>mean</th>\n",
        "      <td> 7.560353e+08</td>\n",
        "      <td>   3466.316654</td>\n",
        "      <td>      7.045019</td>\n",
        "      <td>     20.349338</td>\n",
        "      <td>      0.259388</td>\n",
        "      <td>   1297.771250</td>\n",
        "      <td>    335.515535</td>\n",
        "      <td>      0.259389</td>\n",
        "    </tr>\n",
        "    <tr>\n",
        "      <th>std</th>\n",
        "      <td> 5.775258e+08</td>\n",
        "      <td>   2407.634961</td>\n",
        "      <td>     22.805450</td>\n",
        "      <td>    101.943509</td>\n",
        "      <td>      0.438301</td>\n",
        "      <td>    327.330916</td>\n",
        "      <td>     82.316080</td>\n",
        "      <td>      0.016531</td>\n",
        "    </tr>\n",
        "    <tr>\n",
        "      <th>min</th>\n",
        "      <td> 1.308931e+07</td>\n",
        "      <td>    213.000000</td>\n",
        "      <td>     -6.000000</td>\n",
        "      <td>    -96.920000</td>\n",
        "      <td>      0.000000</td>\n",
        "      <td>    797.000000</td>\n",
        "      <td>    198.000000</td>\n",
        "      <td>      0.234810</td>\n",
        "    </tr>\n",
        "    <tr>\n",
        "      <th>25%</th>\n",
        "      <td> 4.950339e+08</td>\n",
        "      <td>   1405.000000</td>\n",
        "      <td>      1.000000</td>\n",
        "      <td>      3.360000</td>\n",
        "      <td>      0.000000</td>\n",
        "      <td>   1047.000000</td>\n",
        "      <td>    270.000000</td>\n",
        "      <td>      0.245890</td>\n",
        "    </tr>\n",
        "    <tr>\n",
        "      <th>50%</th>\n",
        "      <td> 5.634450e+08</td>\n",
        "      <td>   3312.000000</td>\n",
        "      <td>      3.000000</td>\n",
        "      <td>      7.400000</td>\n",
        "      <td>      0.000000</td>\n",
        "      <td>   1240.000000</td>\n",
        "      <td>    326.000000</td>\n",
        "      <td>      0.249300</td>\n",
        "    </tr>\n",
        "    <tr>\n",
        "      <th>75%</th>\n",
        "      <td> 7.225685e+08</td>\n",
        "      <td>   5305.000000</td>\n",
        "      <td>      6.000000</td>\n",
        "      <td>     18.160000</td>\n",
        "      <td>      1.000000</td>\n",
        "      <td>   1585.000000</td>\n",
        "      <td>    404.000000</td>\n",
        "      <td>      0.274510</td>\n",
        "    </tr>\n",
        "    <tr>\n",
        "      <th>max</th>\n",
        "      <td> 2.439104e+09</td>\n",
        "      <td>   9901.000000</td>\n",
        "      <td>   2746.000000</td>\n",
        "      <td>  27811.640000</td>\n",
        "      <td>      1.000000</td>\n",
        "      <td>   2080.000000</td>\n",
        "      <td>    521.000000</td>\n",
        "      <td>      0.304030</td>\n",
        "    </tr>\n",
        "  </tbody>\n",
        "</table>\n",
        "<p>8 rows \u00d7 8 columns</p>\n",
        "</div>"
       ],
       "metadata": {},
       "output_type": "pyout",
       "prompt_number": 92,
       "text": [
        "                 id       category      cat_count      cat_spend  \\\n",
        "count  1.181510e+05  118151.000000  118151.000000  118151.000000   \n",
        "mean   7.560353e+08    3466.316654       7.045019      20.349338   \n",
        "std    5.775258e+08    2407.634961      22.805450     101.943509   \n",
        "min    1.308931e+07     213.000000      -6.000000     -96.920000   \n",
        "25%    4.950339e+08    1405.000000       1.000000       3.360000   \n",
        "50%    5.634450e+08    3312.000000       3.000000       7.400000   \n",
        "75%    7.225685e+08    5305.000000       6.000000      18.160000   \n",
        "max    2.439104e+09    9901.000000    2746.000000   27811.640000   \n",
        "\n",
        "            repeater        num_ids    num_ids_rep        pct_rep  \n",
        "count  118151.000000  118151.000000  118151.000000  118151.000000  \n",
        "mean        0.259388    1297.771250     335.515535       0.259389  \n",
        "std         0.438301     327.330916      82.316080       0.016531  \n",
        "min         0.000000     797.000000     198.000000       0.234810  \n",
        "25%         0.000000    1047.000000     270.000000       0.245890  \n",
        "50%         0.000000    1240.000000     326.000000       0.249300  \n",
        "75%         1.000000    1585.000000     404.000000       0.274510  \n",
        "max         1.000000    2080.000000     521.000000       0.304030  \n",
        "\n",
        "[8 rows x 8 columns]"
       ]
      }
     ],
     "prompt_number": 92
    },
    {
     "cell_type": "code",
     "collapsed": false,
     "input": [
      "cpros1_df = pd.merge(pros1_df, catdist3_df)"
     ],
     "language": "python",
     "metadata": {},
     "outputs": [],
     "prompt_number": 93
    },
    {
     "cell_type": "code",
     "collapsed": false,
     "input": [
      "cpros2_df = pd.merge(pros2_df, catdist3_df)\n",
      "cpros3_df = pd.merge(pros3_df, catdist3_df)\n",
      "cpros4_df = pd.merge(pros4_df, catdist3_df)\n",
      "cpros5_df = pd.merge(pros5_df, catdist3_df)\n",
      "cpros6_df = pd.merge(pros6_df, catdist3_df)\n",
      "cpros7_df = pd.merge(pros7_df, catdist3_df)\n",
      "cpros8_df = pd.merge(pros8_df, catdist3_df)\n",
      "cpros9_df = pd.merge(pros9_df, catdist3_df)"
     ],
     "language": "python",
     "metadata": {},
     "outputs": [],
     "prompt_number": 94
    },
    {
     "cell_type": "code",
     "collapsed": false,
     "input": [
      "pros0_wide_df = cpros0_df.pivot('id', 'category','cat_count')\n",
      "pros0_wide_df = pros0_wide_df.fillna(0)\n",
      "pcols0 = pros0_wide_df.columns\n",
      "a = pd.merge(pros0_wide_df, repeatstatus_df, how='left', left_index=True, right_index=True)\n",
      "y_train_data0 = a.repeater\n",
      "X_train_data0 = pros0_wide_df[pcols0]\n",
      "print X_train_data0.shape, y_train_data0.shape"
     ],
     "language": "python",
     "metadata": {},
     "outputs": [
      {
       "output_type": "stream",
       "stream": "stdout",
       "text": [
        "(3152, 97) (3152,)\n"
       ]
      }
     ],
     "prompt_number": 207
    },
    {
     "cell_type": "code",
     "collapsed": false,
     "input": [
      "pros1_wide_df = cpros1_df.pivot('id', 'category','cat_count')\n",
      "pros1_wide_df = pros1_wide_df.fillna(0)\n",
      "pcols1 = pros1_wide_df.columns\n",
      "a = pd.merge(pros1_wide_df, repeatstatus_df, how='left', left_index=True, right_index=True)\n",
      "y_train_data1 = a.repeater\n",
      "X_train_data1 = pros1_wide_df[pcols1]\n",
      "print X_train_data1.shape, y_train_data1.shape"
     ],
     "language": "python",
     "metadata": {},
     "outputs": [
      {
       "output_type": "stream",
       "stream": "stdout",
       "text": [
        "(3174, 97) (3174,)\n"
       ]
      }
     ],
     "prompt_number": 208
    },
    {
     "cell_type": "code",
     "collapsed": false,
     "input": [
      "pros2_wide_df = cpros2_df.pivot('id', 'category','cat_count')\n",
      "pros2_wide_df = pros2_wide_df.fillna(0)\n",
      "pcols2 = pros2_wide_df.columns\n",
      "a = pd.merge(pros2_wide_df, repeatstatus_df, how='left', left_index=True, right_index=True)\n",
      "y_train_data2 = a.repeater\n",
      "X_train_data2 = pros2_wide_df[pcols2]\n",
      "print X_train_data2.shape, y_train_data2.shape"
     ],
     "language": "python",
     "metadata": {},
     "outputs": [
      {
       "output_type": "stream",
       "stream": "stdout",
       "text": [
        "(3062, 97) (3062,)\n"
       ]
      }
     ],
     "prompt_number": 209
    },
    {
     "cell_type": "code",
     "collapsed": false,
     "input": [
      "pros3_wide_df = cpros3_df.pivot('id', 'category','cat_count')\n",
      "pros3_wide_df = pros3_wide_df.fillna(0)\n",
      "pcols3 = pros3_wide_df.columns\n",
      "a = pd.merge(pros3_wide_df, repeatstatus_df, how='left', left_index=True, right_index=True)\n",
      "y_train_data3 = a.repeater\n",
      "X_train_data3 = pros3_wide_df[pcols3]\n",
      "print X_train_data3.shape, y_train_data3.shape"
     ],
     "language": "python",
     "metadata": {},
     "outputs": [
      {
       "output_type": "stream",
       "stream": "stdout",
       "text": [
        "(3183, 97) (3183,)\n"
       ]
      }
     ],
     "prompt_number": 210
    },
    {
     "cell_type": "code",
     "collapsed": false,
     "input": [
      "pros4_wide_df = cpros4_df.pivot('id', 'category','cat_count')\n",
      "pros4_wide_df = pros4_wide_df.fillna(0)\n",
      "pcols4 = pros4_wide_df.columns\n",
      "a = pd.merge(pros4_wide_df, repeatstatus_df, how='left', left_index=True, right_index=True)\n",
      "y_train_data4 = a.repeater\n",
      "X_train_data4 = pros4_wide_df[pcols4]\n",
      "print X_train_data4.shape, y_train_data4.shape"
     ],
     "language": "python",
     "metadata": {},
     "outputs": [
      {
       "output_type": "stream",
       "stream": "stdout",
       "text": [
        "(3197, 97) (3197,)\n"
       ]
      }
     ],
     "prompt_number": 211
    },
    {
     "cell_type": "code",
     "collapsed": false,
     "input": [
      "pros5_wide_df = cpros5_df.pivot('id', 'category','cat_count')\n",
      "pros5_wide_df = pros5_wide_df.fillna(0)\n",
      "pcols5 = pros5_wide_df.columns\n",
      "a = pd.merge(pros5_wide_df, repeatstatus_df, how='left', left_index=True, right_index=True)\n",
      "y_train_data5 = a.repeater\n",
      "X_train_data5 = pros5_wide_df[pcols5]\n",
      "print X_train_data5.shape, y_train_data5.shape"
     ],
     "language": "python",
     "metadata": {},
     "outputs": [
      {
       "output_type": "stream",
       "stream": "stdout",
       "text": [
        "(3240, 97) (3240,)\n"
       ]
      }
     ],
     "prompt_number": 212
    },
    {
     "cell_type": "code",
     "collapsed": false,
     "input": [
      "pros6_wide_df = cpros6_df.pivot('id', 'category','cat_count')\n",
      "pros6_wide_df = pros6_wide_df.fillna(0)\n",
      "pcols6 = pros6_wide_df.columns\n",
      "a = pd.merge(pros6_wide_df, repeatstatus_df, how='left', left_index=True, right_index=True)\n",
      "y_train_data6 = a.repeater\n",
      "X_train_data6 = pros6_wide_df[pcols6]\n",
      "print X_train_data6.shape, y_train_data6.shape"
     ],
     "language": "python",
     "metadata": {},
     "outputs": [
      {
       "output_type": "stream",
       "stream": "stdout",
       "text": [
        "(3167, 97) (3167,)\n"
       ]
      }
     ],
     "prompt_number": 213
    },
    {
     "cell_type": "code",
     "collapsed": false,
     "input": [
      "pros7_wide_df = cpros7_df.pivot('id', 'category','cat_count')\n",
      "pros7_wide_df = pros7_wide_df.fillna(0)\n",
      "pcols7 = pros7_wide_df.columns\n",
      "a = pd.merge(pros7_wide_df, repeatstatus_df, how='left', left_index=True, right_index=True)\n",
      "y_train_data7 = a.repeater\n",
      "X_train_data7 = pros7_wide_df[pcols7]\n",
      "print X_train_data7.shape, y_train_data7.shape"
     ],
     "language": "python",
     "metadata": {},
     "outputs": [
      {
       "output_type": "stream",
       "stream": "stdout",
       "text": [
        "(3210, 97) (3210,)\n"
       ]
      }
     ],
     "prompt_number": 214
    },
    {
     "cell_type": "code",
     "collapsed": false,
     "input": [
      "pros8_wide_df = cpros8_df.pivot('id', 'category','cat_count')\n",
      "pros8_wide_df = pros8_wide_df.fillna(0)\n",
      "pcols8 = pros8_wide_df.columns\n",
      "a = pd.merge(pros8_wide_df, repeatstatus_df, how='left', left_index=True, right_index=True)\n",
      "y_train_data8 = a.repeater\n",
      "X_train_data8 = pros8_wide_df[pcols8]\n",
      "print X_train_data8.shape, y_train_data8.shape"
     ],
     "language": "python",
     "metadata": {},
     "outputs": [
      {
       "output_type": "stream",
       "stream": "stdout",
       "text": [
        "(3177, 97) (3177,)\n"
       ]
      }
     ],
     "prompt_number": 215
    },
    {
     "cell_type": "code",
     "collapsed": false,
     "input": [
      "pros9_wide_df = cpros9_df.pivot('id', 'category','cat_count')\n",
      "pros9_wide_df = pros9_wide_df.fillna(0)\n",
      "pcols9 = pros9_wide_df.columns\n",
      "a = pd.merge(pros9_wide_df, repeatstatus_df, how='left', left_index=True, right_index=True)\n",
      "y_train_data9 = a.repeater\n",
      "X_train_data9 = pros9_wide_df[pcols9]\n",
      "print X_train_data9.shape, y_train_data9.shape"
     ],
     "language": "python",
     "metadata": {},
     "outputs": [
      {
       "output_type": "stream",
       "stream": "stdout",
       "text": [
        "(3161, 97) (3161,)\n"
       ]
      }
     ],
     "prompt_number": 216
    },
    {
     "cell_type": "code",
     "collapsed": false,
     "input": [],
     "language": "python",
     "metadata": {},
     "outputs": []
    },
    {
     "cell_type": "code",
     "collapsed": false,
     "input": [
      "lrmodel = linear_model.LogisticRegression()\n",
      "lrmodel.fit(X_train_data0,y_train_data0)"
     ],
     "language": "python",
     "metadata": {},
     "outputs": [
      {
       "metadata": {},
       "output_type": "pyout",
       "prompt_number": 105,
       "text": [
        "LogisticRegression(C=1.0, class_weight=None, dual=False, fit_intercept=True,\n",
        "          intercept_scaling=1, penalty='l2', random_state=None, tol=0.0001)"
       ]
      }
     ],
     "prompt_number": 105
    },
    {
     "cell_type": "code",
     "collapsed": false,
     "input": [
      "print(\"Training score: {0:.1f}%\".format(\n",
      "    lrmodel.score(X_train_data0,y_train_data0) * 100))"
     ],
     "language": "python",
     "metadata": {},
     "outputs": [
      {
       "output_type": "stream",
       "stream": "stdout",
       "text": [
        "Training score: 75.2%\n"
       ]
      }
     ],
     "prompt_number": 106
    },
    {
     "cell_type": "code",
     "collapsed": false,
     "input": [
      "print(\"Testing score: {0:.1f}%\".format(\n",
      "    lrmodel.score(X_train_data1,y_train_data1) * 100))"
     ],
     "language": "python",
     "metadata": {},
     "outputs": [
      {
       "output_type": "stream",
       "stream": "stdout",
       "text": [
        "Testing score: 72.2%\n"
       ]
      }
     ],
     "prompt_number": 107
    },
    {
     "cell_type": "code",
     "collapsed": false,
     "input": [
      "print(\"Testing score: {0:.1f}%\".format(\n",
      "    lrmodel.score(X_train_data2,y_train_data2) * 100))"
     ],
     "language": "python",
     "metadata": {},
     "outputs": [
      {
       "output_type": "stream",
       "stream": "stdout",
       "text": [
        "Testing score: 73.0%\n"
       ]
      }
     ],
     "prompt_number": 108
    },
    {
     "cell_type": "code",
     "collapsed": false,
     "input": [
      "print(\"Testing score: {0:.1f}%\".format(\n",
      "    lrmodel.score(X_train_data3,y_train_data3) * 100))"
     ],
     "language": "python",
     "metadata": {},
     "outputs": [
      {
       "output_type": "stream",
       "stream": "stdout",
       "text": [
        "Testing score: 73.1%\n"
       ]
      }
     ],
     "prompt_number": 109
    },
    {
     "cell_type": "code",
     "collapsed": false,
     "input": [
      "print(\"Testing score: {0:.1f}%\".format(\n",
      "    lrmodel.score(X_train_data4,y_train_data4) * 100))"
     ],
     "language": "python",
     "metadata": {},
     "outputs": [
      {
       "output_type": "stream",
       "stream": "stdout",
       "text": [
        "Testing score: 72.2%\n"
       ]
      }
     ],
     "prompt_number": 110
    },
    {
     "cell_type": "code",
     "collapsed": false,
     "input": [
      "target_predicted_proba = lrmodel.predict_proba(X_train_data0)\n",
      "target_predicted_proba[:5]"
     ],
     "language": "python",
     "metadata": {},
     "outputs": [
      {
       "metadata": {},
       "output_type": "pyout",
       "prompt_number": 111,
       "text": [
        "array([[ 0.71195725,  0.28804275],\n",
        "       [ 0.76404983,  0.23595017],\n",
        "       [ 0.86998772,  0.13001228],\n",
        "       [ 0.77523107,  0.22476893],\n",
        "       [ 0.90881102,  0.09118898]])"
       ]
      }
     ],
     "prompt_number": 111
    },
    {
     "cell_type": "code",
     "collapsed": false,
     "input": [
      "plot_roc_curve(y_train_data0, target_predicted_proba[:,1], 'repeater')"
     ],
     "language": "python",
     "metadata": {},
     "outputs": [
      {
       "metadata": {},
       "output_type": "display_data",
       "png": "[encoded data removed]",
       "text": [
        "<matplotlib.figure.Figure at 0x111cd4e90>"
       ]
      }
     ],
     "prompt_number": 112
    },
    {
     "cell_type": "code",
     "collapsed": false,
     "input": [
      "lrmodel = linear_model.LogisticRegression()\n",
      "lrmodel.fit(X_train_data1,y_train_data1)"
     ],
     "language": "python",
     "metadata": {},
     "outputs": [
      {
       "metadata": {},
       "output_type": "pyout",
       "prompt_number": 217,
       "text": [
        "LogisticRegression(C=1.0, class_weight=None, dual=False, fit_intercept=True,\n",
        "          intercept_scaling=1, penalty='l2', random_state=None, tol=0.0001)"
       ]
      }
     ],
     "prompt_number": 217
    },
    {
     "cell_type": "code",
     "collapsed": false,
     "input": [
      "print(\"Training score: {0:.1f}%\".format(\n",
      "    lrmodel.score(X_train_data1,y_train_data1) * 100))"
     ],
     "language": "python",
     "metadata": {},
     "outputs": [
      {
       "output_type": "stream",
       "stream": "stdout",
       "text": [
        "Training score: 73.5%\n"
       ]
      }
     ],
     "prompt_number": 218
    },
    {
     "cell_type": "code",
     "collapsed": false,
     "input": [
      "print(\"Testing score: {0:.1f}%\".format(\n",
      "    lrmodel.score(X_train_data0,y_train_data0) * 100))\n",
      "print(\"Testing score: {0:.1f}%\".format(\n",
      "    lrmodel.score(X_train_data2,y_train_data2) * 100))\n",
      "print(\"Testing score: {0:.1f}%\".format(\n",
      "    lrmodel.score(X_train_data3,y_train_data3) * 100))\n",
      "print(\"Testing score: {0:.1f}%\".format(\n",
      "    lrmodel.score(X_train_data4,y_train_data4) * 100))"
     ],
     "language": "python",
     "metadata": {},
     "outputs": [
      {
       "output_type": "stream",
       "stream": "stdout",
       "text": [
        "Testing score: 73.5%\n",
        "Testing score: 73.5%\n",
        "Testing score: 73.5%\n",
        "Testing score: 72.5%\n"
       ]
      }
     ],
     "prompt_number": 219
    },
    {
     "cell_type": "code",
     "collapsed": false,
     "input": [
      "target_predicted_proba = lrmodel.predict_proba(X_train_data1)\n",
      "plot_roc_curve(y_train_data1, target_predicted_proba[:,1], 'repeater')"
     ],
     "language": "python",
     "metadata": {},
     "outputs": [
      {
       "metadata": {},
       "output_type": "display_data",
       "png": "[encoded data removed]",
       "text": [
        "<matplotlib.figure.Figure at 0x110f84610>"
       ]
      }
     ],
     "prompt_number": 220
    },
    {
     "cell_type": "code",
     "collapsed": false,
     "input": [],
     "language": "python",
     "metadata": {},
     "outputs": []
    },
    {
     "cell_type": "code",
     "collapsed": false,
     "input": [
      "cpros01_df = cpros0_df.append(cpros1_df)"
     ],
     "language": "python",
     "metadata": {},
     "outputs": [],
     "prompt_number": 117
    },
    {
     "cell_type": "code",
     "collapsed": false,
     "input": [
      "pros01_wide_df = cpros01_df.pivot('id', 'category','cat_count')\n",
      "pros01_wide_df = pros01_wide_df.fillna(0)\n",
      "pcols01 = pros01_wide_df.columns\n",
      "a = pd.merge(pros01_wide_df, repeatstatus_df, how='left', left_index=True, right_index=True)\n",
      "y_train_data01 = a.repeater\n",
      "X_train_data01 = pros01_wide_df[pcols01]\n",
      "print X_train_data01.shape, y_train_data01.shape"
     ],
     "language": "python",
     "metadata": {},
     "outputs": [
      {
       "output_type": "stream",
       "stream": "stdout",
       "text": [
        "(6326, 97) (6326,)\n"
       ]
      }
     ],
     "prompt_number": 221
    },
    {
     "cell_type": "code",
     "collapsed": false,
     "input": [
      "lrmodel = linear_model.LogisticRegression()\n",
      "lrmodel.fit(X_train_data01,y_train_data01)"
     ],
     "language": "python",
     "metadata": {},
     "outputs": [
      {
       "metadata": {},
       "output_type": "pyout",
       "prompt_number": 222,
       "text": [
        "LogisticRegression(C=1.0, class_weight=None, dual=False, fit_intercept=True,\n",
        "          intercept_scaling=1, penalty='l2', random_state=None, tol=0.0001)"
       ]
      }
     ],
     "prompt_number": 222
    },
    {
     "cell_type": "code",
     "collapsed": false,
     "input": [
      "print(\"Training score: {0:.1f}%\".format(\n",
      "    lrmodel.score(X_train_data01,y_train_data01) * 100))"
     ],
     "language": "python",
     "metadata": {},
     "outputs": [
      {
       "output_type": "stream",
       "stream": "stdout",
       "text": [
        "Training score: 74.1%\n"
       ]
      }
     ],
     "prompt_number": 223
    },
    {
     "cell_type": "code",
     "collapsed": false,
     "input": [
      "print(\"Testing score: {0:.1f}%\".format(\n",
      "    lrmodel.score(X_train_data2,y_train_data2) * 100))\n",
      "print(\"Testing score: {0:.1f}%\".format(\n",
      "    lrmodel.score(X_train_data3,y_train_data3) * 100))\n",
      "print(\"Testing score: {0:.1f}%\".format(\n",
      "    lrmodel.score(X_train_data4,y_train_data4) * 100))\n",
      "print(\"Testing score: {0:.1f}%\".format(\n",
      "    lrmodel.score(X_train_data6,y_train_data6) * 100))"
     ],
     "language": "python",
     "metadata": {},
     "outputs": [
      {
       "output_type": "stream",
       "stream": "stdout",
       "text": [
        "Testing score: 73.6%\n",
        "Testing score: 73.9%\n",
        "Testing score: 72.8%\n",
        "Testing score: 73.5%\n"
       ]
      }
     ],
     "prompt_number": 224
    },
    {
     "cell_type": "code",
     "collapsed": false,
     "input": [
      "target_predicted_proba = lrmodel.predict_proba(X_train_data01)\n",
      "plot_roc_curve(y_train_data01, target_predicted_proba[:,1], 'repeater')"
     ],
     "language": "python",
     "metadata": {},
     "outputs": [
      {
       "metadata": {},
       "output_type": "display_data",
       "png": "[encoded data removed]",
       "text": [
        "<matplotlib.figure.Figure at 0x10ad96510>"
       ]
      }
     ],
     "prompt_number": 225
    },
    {
     "cell_type": "code",
     "collapsed": false,
     "input": [],
     "language": "python",
     "metadata": {},
     "outputs": []
    },
    {
     "cell_type": "code",
     "collapsed": false,
     "input": [
      "cpros0_df.head()"
     ],
     "language": "python",
     "metadata": {},
     "outputs": [
      {
       "html": [
        "<div style=\"max-height:1000px;max-width:1500px;overflow:auto;\">\n",
        "<table border=\"1\" class=\"dataframe\">\n",
        "  <thead>\n",
        "    <tr style=\"text-align: right;\">\n",
        "      <th></th>\n",
        "      <th>id</th>\n",
        "      <th>category</th>\n",
        "      <th>cat_count</th>\n",
        "      <th>cat_spend</th>\n",
        "      <th>repeater</th>\n",
        "      <th>num_ids</th>\n",
        "      <th>num_ids_rep</th>\n",
        "      <th>pct_rep</th>\n",
        "    </tr>\n",
        "  </thead>\n",
        "  <tbody>\n",
        "    <tr>\n",
        "      <th>0</th>\n",
        "      <td> 13089312</td>\n",
        "      <td> 302</td>\n",
        "      <td>  7</td>\n",
        "      <td>  22.41</td>\n",
        "      <td> 0</td>\n",
        "      <td> 1689</td>\n",
        "      <td> 407</td>\n",
        "      <td> 0.24097</td>\n",
        "    </tr>\n",
        "    <tr>\n",
        "      <th>1</th>\n",
        "      <td> 13251776</td>\n",
        "      <td> 302</td>\n",
        "      <td>  6</td>\n",
        "      <td>  26.15</td>\n",
        "      <td> 0</td>\n",
        "      <td> 1689</td>\n",
        "      <td> 407</td>\n",
        "      <td> 0.24097</td>\n",
        "    </tr>\n",
        "    <tr>\n",
        "      <th>2</th>\n",
        "      <td> 17486592</td>\n",
        "      <td> 302</td>\n",
        "      <td>  2</td>\n",
        "      <td>   5.99</td>\n",
        "      <td> 1</td>\n",
        "      <td> 1689</td>\n",
        "      <td> 407</td>\n",
        "      <td> 0.24097</td>\n",
        "    </tr>\n",
        "    <tr>\n",
        "      <th>3</th>\n",
        "      <td> 21603296</td>\n",
        "      <td> 302</td>\n",
        "      <td> 11</td>\n",
        "      <td>  36.03</td>\n",
        "      <td> 0</td>\n",
        "      <td> 1689</td>\n",
        "      <td> 407</td>\n",
        "      <td> 0.24097</td>\n",
        "    </tr>\n",
        "    <tr>\n",
        "      <th>4</th>\n",
        "      <td> 48445984</td>\n",
        "      <td> 302</td>\n",
        "      <td> 32</td>\n",
        "      <td> 119.37</td>\n",
        "      <td> 0</td>\n",
        "      <td> 1689</td>\n",
        "      <td> 407</td>\n",
        "      <td> 0.24097</td>\n",
        "    </tr>\n",
        "  </tbody>\n",
        "</table>\n",
        "<p>5 rows \u00d7 8 columns</p>\n",
        "</div>"
       ],
       "metadata": {},
       "output_type": "pyout",
       "prompt_number": 124,
       "text": [
        "         id  category  cat_count  cat_spend  repeater  num_ids  num_ids_rep  \\\n",
        "0  13089312       302          7      22.41         0     1689          407   \n",
        "1  13251776       302          6      26.15         0     1689          407   \n",
        "2  17486592       302          2       5.99         1     1689          407   \n",
        "3  21603296       302         11      36.03         0     1689          407   \n",
        "4  48445984       302         32     119.37         0     1689          407   \n",
        "\n",
        "   pct_rep  \n",
        "0  0.24097  \n",
        "1  0.24097  \n",
        "2  0.24097  \n",
        "3  0.24097  \n",
        "4  0.24097  \n",
        "\n",
        "[5 rows x 8 columns]"
       ]
      }
     ],
     "prompt_number": 124
    },
    {
     "cell_type": "code",
     "collapsed": false,
     "input": [
      "dcpros0_df = cpros0_df[cpros0_df.columns[0:5]]\n",
      "dcpros0_df.head()"
     ],
     "language": "python",
     "metadata": {},
     "outputs": [
      {
       "html": [
        "<div style=\"max-height:1000px;max-width:1500px;overflow:auto;\">\n",
        "<table border=\"1\" class=\"dataframe\">\n",
        "  <thead>\n",
        "    <tr style=\"text-align: right;\">\n",
        "      <th></th>\n",
        "      <th>id</th>\n",
        "      <th>category</th>\n",
        "      <th>cat_count</th>\n",
        "      <th>cat_spend</th>\n",
        "      <th>repeater</th>\n",
        "    </tr>\n",
        "  </thead>\n",
        "  <tbody>\n",
        "    <tr>\n",
        "      <th>0</th>\n",
        "      <td> 13089312</td>\n",
        "      <td> 302</td>\n",
        "      <td>  7</td>\n",
        "      <td>  22.41</td>\n",
        "      <td> 0</td>\n",
        "    </tr>\n",
        "    <tr>\n",
        "      <th>1</th>\n",
        "      <td> 13251776</td>\n",
        "      <td> 302</td>\n",
        "      <td>  6</td>\n",
        "      <td>  26.15</td>\n",
        "      <td> 0</td>\n",
        "    </tr>\n",
        "    <tr>\n",
        "      <th>2</th>\n",
        "      <td> 17486592</td>\n",
        "      <td> 302</td>\n",
        "      <td>  2</td>\n",
        "      <td>   5.99</td>\n",
        "      <td> 1</td>\n",
        "    </tr>\n",
        "    <tr>\n",
        "      <th>3</th>\n",
        "      <td> 21603296</td>\n",
        "      <td> 302</td>\n",
        "      <td> 11</td>\n",
        "      <td>  36.03</td>\n",
        "      <td> 0</td>\n",
        "    </tr>\n",
        "    <tr>\n",
        "      <th>4</th>\n",
        "      <td> 48445984</td>\n",
        "      <td> 302</td>\n",
        "      <td> 32</td>\n",
        "      <td> 119.37</td>\n",
        "      <td> 0</td>\n",
        "    </tr>\n",
        "  </tbody>\n",
        "</table>\n",
        "<p>5 rows \u00d7 5 columns</p>\n",
        "</div>"
       ],
       "metadata": {},
       "output_type": "pyout",
       "prompt_number": 126,
       "text": [
        "         id  category  cat_count  cat_spend  repeater\n",
        "0  13089312       302          7      22.41         0\n",
        "1  13251776       302          6      26.15         0\n",
        "2  17486592       302          2       5.99         1\n",
        "3  21603296       302         11      36.03         0\n",
        "4  48445984       302         32     119.37         0\n",
        "\n",
        "[5 rows x 5 columns]"
       ]
      }
     ],
     "prompt_number": 126
    },
    {
     "cell_type": "code",
     "collapsed": false,
     "input": [
      "pros0_wide_df = dcpros0_df.pivot('id', 'category')\n",
      "pros0_wide_df.head(6)"
     ],
     "language": "python",
     "metadata": {},
     "outputs": [
      {
       "html": [
        "<div style=\"max-height:1000px;max-width:1500px;overflow:auto;\">\n",
        "<table border=\"1\" class=\"dataframe\">\n",
        "  <thead>\n",
        "    <tr>\n",
        "      <th></th>\n",
        "      <th colspan=\"20\" halign=\"left\">cat_count</th>\n",
        "      <th></th>\n",
        "    </tr>\n",
        "    <tr>\n",
        "      <th>category</th>\n",
        "      <th>213 </th>\n",
        "      <th>302 </th>\n",
        "      <th>305 </th>\n",
        "      <th>411 </th>\n",
        "      <th>412 </th>\n",
        "      <th>417 </th>\n",
        "      <th>419 </th>\n",
        "      <th>427 </th>\n",
        "      <th>519 </th>\n",
        "      <th>520 </th>\n",
        "      <th>708 </th>\n",
        "      <th>709 </th>\n",
        "      <th>805 </th>\n",
        "      <th>811 </th>\n",
        "      <th>821 </th>\n",
        "      <th>826 </th>\n",
        "      <th>838 </th>\n",
        "      <th>913 </th>\n",
        "      <th>914 </th>\n",
        "      <th>918 </th>\n",
        "      <th></th>\n",
        "    </tr>\n",
        "    <tr>\n",
        "      <th>id</th>\n",
        "      <th></th>\n",
        "      <th></th>\n",
        "      <th></th>\n",
        "      <th></th>\n",
        "      <th></th>\n",
        "      <th></th>\n",
        "      <th></th>\n",
        "      <th></th>\n",
        "      <th></th>\n",
        "      <th></th>\n",
        "      <th></th>\n",
        "      <th></th>\n",
        "      <th></th>\n",
        "      <th></th>\n",
        "      <th></th>\n",
        "      <th></th>\n",
        "      <th></th>\n",
        "      <th></th>\n",
        "      <th></th>\n",
        "      <th></th>\n",
        "    </tr>\n",
        "  </thead>\n",
        "  <tbody>\n",
        "    <tr>\n",
        "      <th>13089312</th>\n",
        "      <td>NaN</td>\n",
        "      <td>  7</td>\n",
        "      <td>  1</td>\n",
        "      <td>  1</td>\n",
        "      <td>NaN</td>\n",
        "      <td>NaN</td>\n",
        "      <td>NaN</td>\n",
        "      <td>  7</td>\n",
        "      <td>  1</td>\n",
        "      <td>NaN</td>\n",
        "      <td>  1</td>\n",
        "      <td>NaN</td>\n",
        "      <td>NaN</td>\n",
        "      <td>  8</td>\n",
        "      <td>  1</td>\n",
        "      <td>  1</td>\n",
        "      <td>NaN</td>\n",
        "      <td> 29</td>\n",
        "      <td>NaN</td>\n",
        "      <td>NaN</td>\n",
        "      <td>...</td>\n",
        "    </tr>\n",
        "    <tr>\n",
        "      <th>13251776</th>\n",
        "      <td>NaN</td>\n",
        "      <td>  6</td>\n",
        "      <td>NaN</td>\n",
        "      <td>  1</td>\n",
        "      <td>NaN</td>\n",
        "      <td>NaN</td>\n",
        "      <td>  1</td>\n",
        "      <td>NaN</td>\n",
        "      <td>NaN</td>\n",
        "      <td>  1</td>\n",
        "      <td>  8</td>\n",
        "      <td> 55</td>\n",
        "      <td>  2</td>\n",
        "      <td>NaN</td>\n",
        "      <td>  4</td>\n",
        "      <td> 12</td>\n",
        "      <td>  3</td>\n",
        "      <td>  2</td>\n",
        "      <td>NaN</td>\n",
        "      <td>NaN</td>\n",
        "      <td>...</td>\n",
        "    </tr>\n",
        "    <tr>\n",
        "      <th>17486592</th>\n",
        "      <td>NaN</td>\n",
        "      <td>  2</td>\n",
        "      <td>NaN</td>\n",
        "      <td>NaN</td>\n",
        "      <td>NaN</td>\n",
        "      <td>  2</td>\n",
        "      <td>  1</td>\n",
        "      <td>  1</td>\n",
        "      <td>  9</td>\n",
        "      <td>NaN</td>\n",
        "      <td> 35</td>\n",
        "      <td>NaN</td>\n",
        "      <td>  2</td>\n",
        "      <td>  6</td>\n",
        "      <td>  1</td>\n",
        "      <td>NaN</td>\n",
        "      <td>  1</td>\n",
        "      <td>NaN</td>\n",
        "      <td>NaN</td>\n",
        "      <td>NaN</td>\n",
        "      <td>...</td>\n",
        "    </tr>\n",
        "    <tr>\n",
        "      <th>21603296</th>\n",
        "      <td>  7</td>\n",
        "      <td> 11</td>\n",
        "      <td>  1</td>\n",
        "      <td>  8</td>\n",
        "      <td>NaN</td>\n",
        "      <td>NaN</td>\n",
        "      <td>  1</td>\n",
        "      <td>NaN</td>\n",
        "      <td> 17</td>\n",
        "      <td>  1</td>\n",
        "      <td>  8</td>\n",
        "      <td>NaN</td>\n",
        "      <td>NaN</td>\n",
        "      <td>  1</td>\n",
        "      <td>  1</td>\n",
        "      <td>  1</td>\n",
        "      <td>NaN</td>\n",
        "      <td>NaN</td>\n",
        "      <td>  5</td>\n",
        "      <td>NaN</td>\n",
        "      <td>...</td>\n",
        "    </tr>\n",
        "    <tr>\n",
        "      <th>48445984</th>\n",
        "      <td>NaN</td>\n",
        "      <td> 32</td>\n",
        "      <td>  2</td>\n",
        "      <td>NaN</td>\n",
        "      <td>NaN</td>\n",
        "      <td>  1</td>\n",
        "      <td>  1</td>\n",
        "      <td>NaN</td>\n",
        "      <td>NaN</td>\n",
        "      <td>  2</td>\n",
        "      <td>NaN</td>\n",
        "      <td>NaN</td>\n",
        "      <td>  4</td>\n",
        "      <td>  3</td>\n",
        "      <td>  2</td>\n",
        "      <td>NaN</td>\n",
        "      <td>  1</td>\n",
        "      <td> 10</td>\n",
        "      <td>  6</td>\n",
        "      <td>  3</td>\n",
        "      <td>...</td>\n",
        "    </tr>\n",
        "    <tr>\n",
        "      <th>48991232</th>\n",
        "      <td>NaN</td>\n",
        "      <td>NaN</td>\n",
        "      <td>  1</td>\n",
        "      <td>NaN</td>\n",
        "      <td>NaN</td>\n",
        "      <td>NaN</td>\n",
        "      <td>NaN</td>\n",
        "      <td>NaN</td>\n",
        "      <td>NaN</td>\n",
        "      <td>NaN</td>\n",
        "      <td>NaN</td>\n",
        "      <td>NaN</td>\n",
        "      <td> 12</td>\n",
        "      <td>NaN</td>\n",
        "      <td>NaN</td>\n",
        "      <td>NaN</td>\n",
        "      <td>NaN</td>\n",
        "      <td>NaN</td>\n",
        "      <td>NaN</td>\n",
        "      <td>NaN</td>\n",
        "      <td>...</td>\n",
        "    </tr>\n",
        "  </tbody>\n",
        "</table>\n",
        "<p>6 rows \u00d7 291 columns</p>\n",
        "</div>"
       ],
       "metadata": {},
       "output_type": "pyout",
       "prompt_number": 226,
       "text": [
        "          cat_count                                                         \\\n",
        "category        213  302  305  411  412  417  419  427  519  520  708  709   \n",
        "id                                                                           \n",
        "13089312        NaN    7    1    1  NaN  NaN  NaN    7    1  NaN    1  NaN   \n",
        "13251776        NaN    6  NaN    1  NaN  NaN    1  NaN  NaN    1    8   55   \n",
        "17486592        NaN    2  NaN  NaN  NaN    2    1    1    9  NaN   35  NaN   \n",
        "21603296          7   11    1    8  NaN  NaN    1  NaN   17    1    8  NaN   \n",
        "48445984        NaN   32    2  NaN  NaN    1    1  NaN  NaN    2  NaN  NaN   \n",
        "48991232        NaN  NaN    1  NaN  NaN  NaN  NaN  NaN  NaN  NaN  NaN  NaN   \n",
        "\n",
        "                                                      \n",
        "category  805  811  821  826  838  913  914  918      \n",
        "id                                                    \n",
        "13089312  NaN    8    1    1  NaN   29  NaN  NaN ...  \n",
        "13251776    2  NaN    4   12    3    2  NaN  NaN ...  \n",
        "17486592    2    6    1  NaN    1  NaN  NaN  NaN ...  \n",
        "21603296  NaN    1    1    1  NaN  NaN    5  NaN ...  \n",
        "48445984    4    3    2  NaN    1   10    6    3 ...  \n",
        "48991232   12  NaN  NaN  NaN  NaN  NaN  NaN  NaN ...  \n",
        "\n",
        "[6 rows x 291 columns]"
       ]
      }
     ],
     "prompt_number": 226
    },
    {
     "cell_type": "code",
     "collapsed": false,
     "input": [
      "pros0_wide_df = pros0_wide_df.fillna(0)\n",
      "pcols0 = pros0_wide_df.columns"
     ],
     "language": "python",
     "metadata": {},
     "outputs": [],
     "prompt_number": 227
    },
    {
     "cell_type": "code",
     "collapsed": false,
     "input": [
      "pros0_wide_df.head()"
     ],
     "language": "python",
     "metadata": {},
     "outputs": [
      {
       "html": [
        "<div style=\"max-height:1000px;max-width:1500px;overflow:auto;\">\n",
        "<table border=\"1\" class=\"dataframe\">\n",
        "  <thead>\n",
        "    <tr>\n",
        "      <th></th>\n",
        "      <th colspan=\"20\" halign=\"left\">cat_count</th>\n",
        "      <th></th>\n",
        "    </tr>\n",
        "    <tr>\n",
        "      <th>category</th>\n",
        "      <th>213 </th>\n",
        "      <th>302 </th>\n",
        "      <th>305 </th>\n",
        "      <th>411 </th>\n",
        "      <th>412 </th>\n",
        "      <th>417 </th>\n",
        "      <th>419 </th>\n",
        "      <th>427 </th>\n",
        "      <th>519 </th>\n",
        "      <th>520 </th>\n",
        "      <th>708 </th>\n",
        "      <th>709 </th>\n",
        "      <th>805 </th>\n",
        "      <th>811 </th>\n",
        "      <th>821 </th>\n",
        "      <th>826 </th>\n",
        "      <th>838 </th>\n",
        "      <th>913 </th>\n",
        "      <th>914 </th>\n",
        "      <th>918 </th>\n",
        "      <th></th>\n",
        "    </tr>\n",
        "    <tr>\n",
        "      <th>id</th>\n",
        "      <th></th>\n",
        "      <th></th>\n",
        "      <th></th>\n",
        "      <th></th>\n",
        "      <th></th>\n",
        "      <th></th>\n",
        "      <th></th>\n",
        "      <th></th>\n",
        "      <th></th>\n",
        "      <th></th>\n",
        "      <th></th>\n",
        "      <th></th>\n",
        "      <th></th>\n",
        "      <th></th>\n",
        "      <th></th>\n",
        "      <th></th>\n",
        "      <th></th>\n",
        "      <th></th>\n",
        "      <th></th>\n",
        "      <th></th>\n",
        "    </tr>\n",
        "  </thead>\n",
        "  <tbody>\n",
        "    <tr>\n",
        "      <th>13089312</th>\n",
        "      <td> 0</td>\n",
        "      <td>  7</td>\n",
        "      <td> 1</td>\n",
        "      <td> 1</td>\n",
        "      <td> 0</td>\n",
        "      <td> 0</td>\n",
        "      <td> 0</td>\n",
        "      <td> 7</td>\n",
        "      <td>  1</td>\n",
        "      <td> 0</td>\n",
        "      <td>  1</td>\n",
        "      <td>  0</td>\n",
        "      <td> 0</td>\n",
        "      <td> 8</td>\n",
        "      <td> 1</td>\n",
        "      <td>  1</td>\n",
        "      <td> 0</td>\n",
        "      <td> 29</td>\n",
        "      <td> 0</td>\n",
        "      <td> 0</td>\n",
        "      <td>...</td>\n",
        "    </tr>\n",
        "    <tr>\n",
        "      <th>13251776</th>\n",
        "      <td> 0</td>\n",
        "      <td>  6</td>\n",
        "      <td> 0</td>\n",
        "      <td> 1</td>\n",
        "      <td> 0</td>\n",
        "      <td> 0</td>\n",
        "      <td> 1</td>\n",
        "      <td> 0</td>\n",
        "      <td>  0</td>\n",
        "      <td> 1</td>\n",
        "      <td>  8</td>\n",
        "      <td> 55</td>\n",
        "      <td> 2</td>\n",
        "      <td> 0</td>\n",
        "      <td> 4</td>\n",
        "      <td> 12</td>\n",
        "      <td> 3</td>\n",
        "      <td>  2</td>\n",
        "      <td> 0</td>\n",
        "      <td> 0</td>\n",
        "      <td>...</td>\n",
        "    </tr>\n",
        "    <tr>\n",
        "      <th>17486592</th>\n",
        "      <td> 0</td>\n",
        "      <td>  2</td>\n",
        "      <td> 0</td>\n",
        "      <td> 0</td>\n",
        "      <td> 0</td>\n",
        "      <td> 2</td>\n",
        "      <td> 1</td>\n",
        "      <td> 1</td>\n",
        "      <td>  9</td>\n",
        "      <td> 0</td>\n",
        "      <td> 35</td>\n",
        "      <td>  0</td>\n",
        "      <td> 2</td>\n",
        "      <td> 6</td>\n",
        "      <td> 1</td>\n",
        "      <td>  0</td>\n",
        "      <td> 1</td>\n",
        "      <td>  0</td>\n",
        "      <td> 0</td>\n",
        "      <td> 0</td>\n",
        "      <td>...</td>\n",
        "    </tr>\n",
        "    <tr>\n",
        "      <th>21603296</th>\n",
        "      <td> 7</td>\n",
        "      <td> 11</td>\n",
        "      <td> 1</td>\n",
        "      <td> 8</td>\n",
        "      <td> 0</td>\n",
        "      <td> 0</td>\n",
        "      <td> 1</td>\n",
        "      <td> 0</td>\n",
        "      <td> 17</td>\n",
        "      <td> 1</td>\n",
        "      <td>  8</td>\n",
        "      <td>  0</td>\n",
        "      <td> 0</td>\n",
        "      <td> 1</td>\n",
        "      <td> 1</td>\n",
        "      <td>  1</td>\n",
        "      <td> 0</td>\n",
        "      <td>  0</td>\n",
        "      <td> 5</td>\n",
        "      <td> 0</td>\n",
        "      <td>...</td>\n",
        "    </tr>\n",
        "    <tr>\n",
        "      <th>48445984</th>\n",
        "      <td> 0</td>\n",
        "      <td> 32</td>\n",
        "      <td> 2</td>\n",
        "      <td> 0</td>\n",
        "      <td> 0</td>\n",
        "      <td> 1</td>\n",
        "      <td> 1</td>\n",
        "      <td> 0</td>\n",
        "      <td>  0</td>\n",
        "      <td> 2</td>\n",
        "      <td>  0</td>\n",
        "      <td>  0</td>\n",
        "      <td> 4</td>\n",
        "      <td> 3</td>\n",
        "      <td> 2</td>\n",
        "      <td>  0</td>\n",
        "      <td> 1</td>\n",
        "      <td> 10</td>\n",
        "      <td> 6</td>\n",
        "      <td> 3</td>\n",
        "      <td>...</td>\n",
        "    </tr>\n",
        "  </tbody>\n",
        "</table>\n",
        "<p>5 rows \u00d7 291 columns</p>\n",
        "</div>"
       ],
       "metadata": {},
       "output_type": "pyout",
       "prompt_number": 228,
       "text": [
        "          cat_count                                                         \\\n",
        "category        213  302  305  411  412  417  419  427  519  520  708  709   \n",
        "id                                                                           \n",
        "13089312          0    7    1    1    0    0    0    7    1    0    1    0   \n",
        "13251776          0    6    0    1    0    0    1    0    0    1    8   55   \n",
        "17486592          0    2    0    0    0    2    1    1    9    0   35    0   \n",
        "21603296          7   11    1    8    0    0    1    0   17    1    8    0   \n",
        "48445984          0   32    2    0    0    1    1    0    0    2    0    0   \n",
        "\n",
        "                                                      \n",
        "category  805  811  821  826  838  913  914  918      \n",
        "id                                                    \n",
        "13089312    0    8    1    1    0   29    0    0 ...  \n",
        "13251776    2    0    4   12    3    2    0    0 ...  \n",
        "17486592    2    6    1    0    1    0    0    0 ...  \n",
        "21603296    0    1    1    1    0    0    5    0 ...  \n",
        "48445984    4    3    2    0    1   10    6    3 ...  \n",
        "\n",
        "[5 rows x 291 columns]"
       ]
      }
     ],
     "prompt_number": 228
    },
    {
     "cell_type": "code",
     "collapsed": false,
     "input": [
      "repeatstatus_df.head()"
     ],
     "language": "python",
     "metadata": {},
     "outputs": [
      {
       "html": [
        "<div style=\"max-height:1000px;max-width:1500px;overflow:auto;\">\n",
        "<table border=\"1\" class=\"dataframe\">\n",
        "  <thead>\n",
        "    <tr style=\"text-align: right;\">\n",
        "      <th></th>\n",
        "      <th>repeater</th>\n",
        "    </tr>\n",
        "    <tr>\n",
        "      <th>id</th>\n",
        "      <th></th>\n",
        "    </tr>\n",
        "  </thead>\n",
        "  <tbody>\n",
        "    <tr>\n",
        "      <th>86246   </th>\n",
        "      <td> 1</td>\n",
        "    </tr>\n",
        "    <tr>\n",
        "      <th>86252   </th>\n",
        "      <td> 1</td>\n",
        "    </tr>\n",
        "    <tr>\n",
        "      <th>12682470</th>\n",
        "      <td> 0</td>\n",
        "    </tr>\n",
        "    <tr>\n",
        "      <th>12996040</th>\n",
        "      <td> 0</td>\n",
        "    </tr>\n",
        "    <tr>\n",
        "      <th>13089312</th>\n",
        "      <td> 0</td>\n",
        "    </tr>\n",
        "  </tbody>\n",
        "</table>\n",
        "<p>5 rows \u00d7 1 columns</p>\n",
        "</div>"
       ],
       "metadata": {},
       "output_type": "pyout",
       "prompt_number": 229,
       "text": [
        "          repeater\n",
        "id                \n",
        "86246            1\n",
        "86252            1\n",
        "12682470         0\n",
        "12996040         0\n",
        "13089312         0\n",
        "\n",
        "[5 rows x 1 columns]"
       ]
      }
     ],
     "prompt_number": 229
    },
    {
     "cell_type": "code",
     "collapsed": false,
     "input": [
      "a = pd.merge(pros0_wide_df['repeater'], repeatstatus_df, how='left', left_index=True, right_index=True)"
     ],
     "language": "python",
     "metadata": {},
     "outputs": [],
     "prompt_number": 230
    },
    {
     "cell_type": "code",
     "collapsed": false,
     "input": [
      "y_train_data0 = a.repeater\n",
      "X_train_data0 = pros0_wide_df[pcols0]\n",
      "print X_train_data0.shape, y_train_data0.shape"
     ],
     "language": "python",
     "metadata": {},
     "outputs": [
      {
       "output_type": "stream",
       "stream": "stdout",
       "text": [
        "(3152, 291) (3152,)\n"
       ]
      }
     ],
     "prompt_number": 231
    },
    {
     "cell_type": "code",
     "collapsed": false,
     "input": [
      "lrmodel = linear_model.LogisticRegression()\n",
      "lrmodel.fit(X_train_data0,y_train_data0)"
     ],
     "language": "python",
     "metadata": {},
     "outputs": [
      {
       "metadata": {},
       "output_type": "pyout",
       "prompt_number": 232,
       "text": [
        "LogisticRegression(C=1.0, class_weight=None, dual=False, fit_intercept=True,\n",
        "          intercept_scaling=1, penalty='l2', random_state=None, tol=0.0001)"
       ]
      }
     ],
     "prompt_number": 232
    },
    {
     "cell_type": "code",
     "collapsed": false,
     "input": [
      "print(\"Training score: {0:.1f}%\".format(\n",
      "    lrmodel.score(X_train_data0,y_train_data0) * 100))"
     ],
     "language": "python",
     "metadata": {},
     "outputs": [
      {
       "output_type": "stream",
       "stream": "stdout",
       "text": [
        "Training score: 100.0%\n"
       ]
      }
     ],
     "prompt_number": 233
    },
    {
     "cell_type": "code",
     "collapsed": false,
     "input": [],
     "language": "python",
     "metadata": {},
     "outputs": [],
     "prompt_number": 233
    },
    {
     "cell_type": "code",
     "collapsed": false,
     "input": [
      "dcpros1_df = cpros1_df[cpros1_df.columns[0:5]]\n",
      "pros1_wide_df = dcpros1_df.pivot('id', 'category')\n",
      "pros1_wide_df = pros1_wide_df.fillna(0)\n",
      "pcols1 = pros1_wide_df.columns\n",
      "a = pd.merge(pros1_wide_df['repeater'], repeatstatus_df, how='left', left_index=True, right_index=True)\n",
      "y_train_data1 = a.repeater\n",
      "X_train_data1 = pros1_wide_df[pcols1]\n",
      "print X_train_data1.shape, y_train_data1.shape"
     ],
     "language": "python",
     "metadata": {},
     "outputs": [
      {
       "output_type": "stream",
       "stream": "stdout",
       "text": [
        "(3174, 291) (3174,)\n"
       ]
      }
     ],
     "prompt_number": 234
    },
    {
     "cell_type": "code",
     "collapsed": false,
     "input": [
      "dcpros2_df = cpros2_df[cpros2_df.columns[0:5]]\n",
      "pros2_wide_df = dcpros2_df.pivot('id', 'category')\n",
      "pros2_wide_df = pros2_wide_df.fillna(0)\n",
      "pcols2 = pros2_wide_df.columns\n",
      "a = pd.merge(pros2_wide_df['repeater'], repeatstatus_df, how='left', left_index=True, right_index=True)\n",
      "y_train_data2 = a.repeater\n",
      "X_train_data2 = pros2_wide_df[pcols2]\n",
      "print X_train_data2.shape, y_train_data2.shape"
     ],
     "language": "python",
     "metadata": {},
     "outputs": [
      {
       "output_type": "stream",
       "stream": "stdout",
       "text": [
        "(3062, 291) (3062,)\n"
       ]
      }
     ],
     "prompt_number": 235
    },
    {
     "cell_type": "code",
     "collapsed": false,
     "input": [
      "dcpros3_df = cpros3_df[cpros3_df.columns[0:5]]\n",
      "pros3_wide_df = dcpros3_df.pivot('id', 'category')\n",
      "pros3_wide_df = pros3_wide_df.fillna(0)\n",
      "pcols3 = pros3_wide_df.columns\n",
      "a = pd.merge(pros3_wide_df['repeater'], repeatstatus_df, how='left', left_index=True, right_index=True)\n",
      "y_train_data3 = a.repeater\n",
      "X_train_data3 = pros3_wide_df[pcols3]\n",
      "print X_train_data3.shape, y_train_data3.shape"
     ],
     "language": "python",
     "metadata": {},
     "outputs": [
      {
       "output_type": "stream",
       "stream": "stdout",
       "text": [
        "(3183, 291) (3183,)\n"
       ]
      }
     ],
     "prompt_number": 236
    },
    {
     "cell_type": "code",
     "collapsed": false,
     "input": [
      "dcpros4_df = cpros4_df[cpros4_df.columns[0:5]]\n",
      "pros4_wide_df = dcpros4_df.pivot('id', 'category')\n",
      "pros4_wide_df = pros4_wide_df.fillna(0)\n",
      "pcols4 = pros4_wide_df.columns\n",
      "a = pd.merge(pros4_wide_df['repeater'], repeatstatus_df, how='left', left_index=True, right_index=True)\n",
      "y_train_data4 = a.repeater\n",
      "X_train_data4 = pros4_wide_df[pcols4]\n",
      "print X_train_data4.shape, y_train_data4.shape"
     ],
     "language": "python",
     "metadata": {},
     "outputs": [
      {
       "output_type": "stream",
       "stream": "stdout",
       "text": [
        "(3197, 291) (3197,)\n"
       ]
      }
     ],
     "prompt_number": 237
    },
    {
     "cell_type": "code",
     "collapsed": false,
     "input": [
      "dcpros5_df = cpros5_df[cpros5_df.columns[0:5]]\n",
      "pros5_wide_df = dcpros5_df.pivot('id', 'category')\n",
      "pros5_wide_df = pros5_wide_df.fillna(0)\n",
      "pcols5 = pros5_wide_df.columns\n",
      "a = pd.merge(pros5_wide_df['repeater'], repeatstatus_df, how='left', left_index=True, right_index=True)\n",
      "y_train_data5 = a.repeater\n",
      "X_train_data5 = pros5_wide_df[pcols5]\n",
      "print X_train_data5.shape, y_train_data5.shape"
     ],
     "language": "python",
     "metadata": {},
     "outputs": [
      {
       "output_type": "stream",
       "stream": "stdout",
       "text": [
        "(3240, 291) (3240,)\n"
       ]
      }
     ],
     "prompt_number": 238
    },
    {
     "cell_type": "code",
     "collapsed": false,
     "input": [
      "dcpros6_df = cpros6_df[cpros6_df.columns[0:5]]\n",
      "pros6_wide_df = dcpros6_df.pivot('id', 'category')\n",
      "pros6_wide_df = pros6_wide_df.fillna(0)\n",
      "pcols6 = pros6_wide_df.columns\n",
      "a = pd.merge(pros6_wide_df['repeater'], repeatstatus_df, how='left', left_index=True, right_index=True)\n",
      "y_train_data6 = a.repeater\n",
      "X_train_data6 = pros6_wide_df[pcols6]\n",
      "print X_train_data6.shape, y_train_data6.shape"
     ],
     "language": "python",
     "metadata": {},
     "outputs": [
      {
       "output_type": "stream",
       "stream": "stdout",
       "text": [
        "(3167, 291) (3167,)\n"
       ]
      }
     ],
     "prompt_number": 239
    },
    {
     "cell_type": "code",
     "collapsed": false,
     "input": [
      "print(\"Testing score: {0:.1f}%\".format(\n",
      "    lrmodel.score(X_train_data1,y_train_data1) * 100))\n",
      "print(\"Testing score: {0:.1f}%\".format(\n",
      "    lrmodel.score(X_train_data2,y_train_data2) * 100))\n",
      "print(\"Testing score: {0:.1f}%\".format(\n",
      "    lrmodel.score(X_train_data3,y_train_data3) * 100))\n",
      "print(\"Testing score: {0:.1f}%\".format(\n",
      "    lrmodel.score(X_train_data4,y_train_data4) * 100))\n",
      "print(\"Testing score: {0:.1f}%\".format(\n",
      "    lrmodel.score(X_train_data5,y_train_data5) * 100))\n",
      "print(\"Testing score: {0:.1f}%\".format(\n",
      "    lrmodel.score(X_train_data6,y_train_data6) * 100))"
     ],
     "language": "python",
     "metadata": {},
     "outputs": [
      {
       "output_type": "stream",
       "stream": "stdout",
       "text": [
        "Testing score: 99.1%\n",
        "Testing score: 98.9%\n",
        "Testing score: 98.9%\n",
        "Testing score: 99.0%\n",
        "Testing score: 99.0%\n",
        "Testing score: 99.1%\n"
       ]
      }
     ],
     "prompt_number": 203
    },
    {
     "cell_type": "code",
     "collapsed": false,
     "input": [
      "target_predicted_proba = lrmodel.predict_proba(X_train_data0)\n",
      "plot_roc_curve(y_train_data0, target_predicted_proba[:,1], 'repeater')"
     ],
     "language": "python",
     "metadata": {},
     "outputs": [
      {
       "metadata": {},
       "output_type": "display_data",
       "png": "[encoded data removed]",
       "text": [
        "<matplotlib.figure.Figure at 0x10bcf3d50>"
       ]
      }
     ],
     "prompt_number": 204
    },
    {
     "cell_type": "code",
     "collapsed": false,
     "input": [
      "target_predicted_proba = lrmodel.predict_proba(X_train_data1)\n",
      "plot_roc_curve(y_train_data1, target_predicted_proba[:,1], 'repeater')"
     ],
     "language": "python",
     "metadata": {},
     "outputs": [
      {
       "metadata": {},
       "output_type": "display_data",
       "png": "[encoded data removed]",
       "text": [
        "<matplotlib.figure.Figure at 0x111ed4610>"
       ]
      }
     ],
     "prompt_number": 205
    },
    {
     "cell_type": "code",
     "collapsed": false,
     "input": [
      "lrmodel = linear_model.LogisticRegression()\n",
      "lrmodel.fit(X_train_data1,y_train_data1)"
     ],
     "language": "python",
     "metadata": {},
     "outputs": [
      {
       "metadata": {},
       "output_type": "pyout",
       "prompt_number": 189,
       "text": [
        "LogisticRegression(C=1.0, class_weight=None, dual=False, fit_intercept=True,\n",
        "          intercept_scaling=1, penalty='l2', random_state=None, tol=0.0001)"
       ]
      }
     ],
     "prompt_number": 189
    },
    {
     "cell_type": "code",
     "collapsed": false,
     "input": [
      "print(\"Training score: {0:.1f}%\".format(\n",
      "    lrmodel.score(X_train_data1,y_train_data1) * 100))"
     ],
     "language": "python",
     "metadata": {},
     "outputs": [
      {
       "output_type": "stream",
       "stream": "stdout",
       "text": [
        "Training score: 100.0%\n"
       ]
      }
     ],
     "prompt_number": 190
    },
    {
     "cell_type": "code",
     "collapsed": false,
     "input": [
      "print(\"Testing score: {0:.1f}%\".format(\n",
      "    lrmodel.score(X_train_data0,y_train_data0) * 100))\n",
      "print(\"Testing score: {0:.1f}%\".format(\n",
      "    lrmodel.score(X_train_data2,y_train_data2) * 100))\n",
      "print(\"Testing score: {0:.1f}%\".format(\n",
      "    lrmodel.score(X_train_data3,y_train_data3) * 100))\n",
      "print(\"Testing score: {0:.1f}%\".format(\n",
      "    lrmodel.score(X_train_data4,y_train_data4) * 100))\n",
      "print(\"Testing score: {0:.1f}%\".format(\n",
      "    lrmodel.score(X_train_data5,y_train_data5) * 100))\n",
      "print(\"Testing score: {0:.1f}%\".format(\n",
      "    lrmodel.score(X_train_data6,y_train_data6) * 100))"
     ],
     "language": "python",
     "metadata": {},
     "outputs": [
      {
       "output_type": "stream",
       "stream": "stdout",
       "text": [
        "Testing score: 99.2%\n",
        "Testing score: 98.8%\n",
        "Testing score: 99.0%\n",
        "Testing score: 99.4%\n",
        "Testing score: 99.4%\n",
        "Testing score: 99.2%\n"
       ]
      }
     ],
     "prompt_number": 191
    },
    {
     "cell_type": "code",
     "collapsed": false,
     "input": [],
     "language": "python",
     "metadata": {},
     "outputs": []
    },
    {
     "cell_type": "code",
     "collapsed": false,
     "input": [
      "dcpros01_df = dcpros0_df.append(dcpros1_df)"
     ],
     "language": "python",
     "metadata": {},
     "outputs": [],
     "prompt_number": 195
    },
    {
     "cell_type": "code",
     "collapsed": false,
     "input": [
      "pros01_wide_df = dcpros01_df.pivot('id', 'category')\n",
      "pros01_wide_df = pros01_wide_df.fillna(0)\n",
      "pcols01 = pros01_wide_df.columns\n",
      "a = pd.merge(pros01_wide_df['repeater'], repeatstatus_df, how='left', left_index=True, right_index=True)\n",
      "y_train_data01 = a.repeater\n",
      "X_train_data01 = pros01_wide_df[pcols01]\n",
      "print X_train_data01.shape, y_train_data01.shape"
     ],
     "language": "python",
     "metadata": {},
     "outputs": [
      {
       "output_type": "stream",
       "stream": "stdout",
       "text": [
        "(6326, 291) (6326,)\n"
       ]
      }
     ],
     "prompt_number": 196
    },
    {
     "cell_type": "code",
     "collapsed": false,
     "input": [
      "print(\"Training score: {0:.1f}%\".format(\n",
      "    lrmodel.score(X_train_data01,y_train_data01) * 100))"
     ],
     "language": "python",
     "metadata": {},
     "outputs": [
      {
       "output_type": "stream",
       "stream": "stdout",
       "text": [
        "Training score: 99.6%\n"
       ]
      }
     ],
     "prompt_number": 197
    },
    {
     "cell_type": "code",
     "collapsed": false,
     "input": [
      "print(\"Testing score: {0:.1f}%\".format(\n",
      "    lrmodel.score(X_train_data2,y_train_data2) * 100))\n",
      "print(\"Testing score: {0:.1f}%\".format(\n",
      "    lrmodel.score(X_train_data3,y_train_data3) * 100))\n",
      "print(\"Testing score: {0:.1f}%\".format(\n",
      "    lrmodel.score(X_train_data4,y_train_data4) * 100))\n",
      "print(\"Testing score: {0:.1f}%\".format(\n",
      "    lrmodel.score(X_train_data5,y_train_data5) * 100))\n",
      "print(\"Testing score: {0:.1f}%\".format(\n",
      "    lrmodel.score(X_train_data6,y_train_data6) * 100))"
     ],
     "language": "python",
     "metadata": {},
     "outputs": [
      {
       "output_type": "stream",
       "stream": "stdout",
       "text": [
        "Testing score: 98.8%\n",
        "Testing score: 99.0%\n",
        "Testing score: 99.4%\n",
        "Testing score: 99.4%\n",
        "Testing score: 99.2%\n"
       ]
      }
     ],
     "prompt_number": 198
    },
    {
     "cell_type": "code",
     "collapsed": false,
     "input": [
      "target_predicted_proba = lrmodel.predict_proba(X_train_data01)\n",
      "plot_roc_curve(y_train_data01, target_predicted_proba[:,1], 'repeater')"
     ],
     "language": "python",
     "metadata": {},
     "outputs": [
      {
       "metadata": {},
       "output_type": "display_data",
       "png": "[encoded data removed]",
       "text": [
        "<matplotlib.figure.Figure at 0x112d2ab50>"
       ]
      }
     ],
     "prompt_number": 199
    },
    {
     "cell_type": "code",
     "collapsed": false,
     "input": [
      "target_predicted_proba = lrmodel.predict_proba(X_train_data2)\n",
      "plot_roc_curve(y_train_data2, target_predicted_proba[:,1], 'repeater')"
     ],
     "language": "python",
     "metadata": {},
     "outputs": [
      {
       "metadata": {},
       "output_type": "display_data",
       "png": "[encoded data removed]",
       "text": [
        "<matplotlib.figure.Figure at 0x110f9d290>"
       ]
      }
     ],
     "prompt_number": 200
    },
    {
     "cell_type": "code",
     "collapsed": false,
     "input": [
      "dcpros23_df = dcpros2_df.append(dcpros3_df)"
     ],
     "language": "python",
     "metadata": {},
     "outputs": [],
     "prompt_number": 240
    },
    {
     "cell_type": "code",
     "collapsed": false,
     "input": [
      "pros23_wide_df = dcpros23_df.pivot('id', 'category')\n",
      "pros23_wide_df = pros23_wide_df.fillna(0)\n",
      "pcols23 = pros23_wide_df.columns\n",
      "a = pd.merge(pros23_wide_df['repeater'], repeatstatus_df, how='left', left_index=True, right_index=True)\n",
      "y_train_data23 = a.repeater\n",
      "X_train_data23 = pros23_wide_df[pcols23]\n",
      "print X_train_data23.shape, y_train_data23.shape"
     ],
     "language": "python",
     "metadata": {},
     "outputs": [
      {
       "output_type": "stream",
       "stream": "stdout",
       "text": [
        "(6245, 291) (6245,)\n"
       ]
      }
     ],
     "prompt_number": 241
    },
    {
     "cell_type": "code",
     "collapsed": false,
     "input": [
      "print(\"Training score: {0:.1f}%\".format(\n",
      "    lrmodel.score(X_train_data23,y_train_data23) * 100))"
     ],
     "language": "python",
     "metadata": {},
     "outputs": [
      {
       "output_type": "stream",
       "stream": "stdout",
       "text": [
        "Training score: 98.9%\n"
       ]
      }
     ],
     "prompt_number": 242
    },
    {
     "cell_type": "code",
     "collapsed": false,
     "input": [
      "print(\"Testing score: {0:.1f}%\".format(\n",
      "    lrmodel.score(X_train_data0,y_train_data0) * 100))\n",
      "print(\"Testing score: {0:.1f}%\".format(\n",
      "    lrmodel.score(X_train_data1,y_train_data1) * 100))\n",
      "print(\"Testing score: {0:.1f}%\".format(\n",
      "    lrmodel.score(X_train_data4,y_train_data4) * 100))\n",
      "print(\"Testing score: {0:.1f}%\".format(\n",
      "    lrmodel.score(X_train_data5,y_train_data5) * 100))\n",
      "print(\"Testing score: {0:.1f}%\".format(\n",
      "    lrmodel.score(X_train_data6,y_train_data6) * 100))"
     ],
     "language": "python",
     "metadata": {},
     "outputs": [
      {
       "output_type": "stream",
       "stream": "stdout",
       "text": [
        "Testing score: 100.0%\n",
        "Testing score: 99.1%\n",
        "Testing score: 99.0%\n",
        "Testing score: 99.0%\n",
        "Testing score: 99.1%\n"
       ]
      }
     ],
     "prompt_number": 243
    },
    {
     "cell_type": "code",
     "collapsed": false,
     "input": [
      "target_predicted_proba = lrmodel.predict_proba(X_train_data23)\n",
      "plot_roc_curve(y_train_data23, target_predicted_proba[:,1], 'repeater')"
     ],
     "language": "python",
     "metadata": {},
     "outputs": [
      {
       "metadata": {},
       "output_type": "display_data",
       "png": "[encoded data removed]",
       "text": [
        "<matplotlib.figure.Figure at 0x111cdc590>"
       ]
      }
     ],
     "prompt_number": 244
    },
    {
     "cell_type": "code",
     "collapsed": false,
     "input": [],
     "language": "python",
     "metadata": {},
     "outputs": []
    },
    {
     "cell_type": "code",
     "collapsed": false,
     "input": [],
     "language": "python",
     "metadata": {},
     "outputs": []
    },
    {
     "cell_type": "code",
     "collapsed": false,
     "input": [],
     "language": "python",
     "metadata": {},
     "outputs": []
    },
    {
     "cell_type": "markdown",
     "metadata": {},
     "source": [
      "# Older stuff"
     ]
    },
    {
     "cell_type": "code",
     "collapsed": false,
     "input": [
      "crpros0_df.head()"
     ],
     "language": "python",
     "metadata": {},
     "outputs": [
      {
       "html": [
        "<div style=\"max-height:1000px;max-width:1500px;overflow:auto;\">\n",
        "<table border=\"1\" class=\"dataframe\">\n",
        "  <thead>\n",
        "    <tr style=\"text-align: right;\">\n",
        "      <th></th>\n",
        "      <th>id</th>\n",
        "      <th>category</th>\n",
        "      <th>cat_count</th>\n",
        "      <th>cat_spend</th>\n",
        "      <th>offercat</th>\n",
        "    </tr>\n",
        "  </thead>\n",
        "  <tbody>\n",
        "    <tr>\n",
        "      <th>0</th>\n",
        "      <td> 13089312</td>\n",
        "      <td> 302</td>\n",
        "      <td>  7</td>\n",
        "      <td>  22.41</td>\n",
        "      <td> 0</td>\n",
        "    </tr>\n",
        "    <tr>\n",
        "      <th>1</th>\n",
        "      <td> 13251776</td>\n",
        "      <td> 302</td>\n",
        "      <td>  6</td>\n",
        "      <td>  26.15</td>\n",
        "      <td> 0</td>\n",
        "    </tr>\n",
        "    <tr>\n",
        "      <th>2</th>\n",
        "      <td> 17486592</td>\n",
        "      <td> 302</td>\n",
        "      <td>  2</td>\n",
        "      <td>   5.99</td>\n",
        "      <td> 0</td>\n",
        "    </tr>\n",
        "    <tr>\n",
        "      <th>3</th>\n",
        "      <td> 21603296</td>\n",
        "      <td> 302</td>\n",
        "      <td> 11</td>\n",
        "      <td>  36.03</td>\n",
        "      <td> 0</td>\n",
        "    </tr>\n",
        "    <tr>\n",
        "      <th>4</th>\n",
        "      <td> 48445984</td>\n",
        "      <td> 302</td>\n",
        "      <td> 32</td>\n",
        "      <td> 119.37</td>\n",
        "      <td> 0</td>\n",
        "    </tr>\n",
        "  </tbody>\n",
        "</table>\n",
        "<p>5 rows \u00d7 5 columns</p>\n",
        "</div>"
       ],
       "metadata": {},
       "output_type": "pyout",
       "prompt_number": 403,
       "text": [
        "         id  category  cat_count  cat_spend  offercat\n",
        "0  13089312       302          7      22.41         0\n",
        "1  13251776       302          6      26.15         0\n",
        "2  17486592       302          2       5.99         0\n",
        "3  21603296       302         11      36.03         0\n",
        "4  48445984       302         32     119.37         0\n",
        "\n",
        "[5 rows x 5 columns]"
       ]
      }
     ],
     "prompt_number": 403
    },
    {
     "cell_type": "code",
     "collapsed": false,
     "input": [
      "ho_df.head()"
     ],
     "language": "python",
     "metadata": {},
     "outputs": [
      {
       "html": [
        "<div style=\"max-height:1000px;max-width:1500px;overflow:auto;\">\n",
        "<table border=\"1\" class=\"dataframe\">\n",
        "  <thead>\n",
        "    <tr style=\"text-align: right;\">\n",
        "      <th></th>\n",
        "      <th>id</th>\n",
        "      <th>offerdate</th>\n",
        "      <th>offer</th>\n",
        "      <th>chain</th>\n",
        "      <th>market</th>\n",
        "      <th>repeattrips</th>\n",
        "      <th>repeater</th>\n",
        "      <th>category</th>\n",
        "      <th>quantity</th>\n",
        "      <th>company</th>\n",
        "      <th>offervalue</th>\n",
        "      <th>brand</th>\n",
        "    </tr>\n",
        "  </thead>\n",
        "  <tbody>\n",
        "    <tr>\n",
        "      <th>0</th>\n",
        "      <td>    86246</td>\n",
        "      <td> 2013-04-24</td>\n",
        "      <td> 1208251</td>\n",
        "      <td> 205</td>\n",
        "      <td> 34</td>\n",
        "      <td>  5</td>\n",
        "      <td> 1</td>\n",
        "      <td> 2202</td>\n",
        "      <td> 1</td>\n",
        "      <td> 104460040</td>\n",
        "      <td> 2.00</td>\n",
        "      <td>   3718</td>\n",
        "    </tr>\n",
        "    <tr>\n",
        "      <th>1</th>\n",
        "      <td>    86252</td>\n",
        "      <td> 2013-03-27</td>\n",
        "      <td> 1197502</td>\n",
        "      <td> 205</td>\n",
        "      <td> 34</td>\n",
        "      <td> 16</td>\n",
        "      <td> 1</td>\n",
        "      <td> 3203</td>\n",
        "      <td> 1</td>\n",
        "      <td> 106414464</td>\n",
        "      <td> 0.75</td>\n",
        "      <td>  13474</td>\n",
        "    </tr>\n",
        "    <tr>\n",
        "      <th>2</th>\n",
        "      <td> 12682470</td>\n",
        "      <td> 2013-03-28</td>\n",
        "      <td> 1197502</td>\n",
        "      <td>  18</td>\n",
        "      <td> 11</td>\n",
        "      <td>  0</td>\n",
        "      <td> 0</td>\n",
        "      <td> 3203</td>\n",
        "      <td> 1</td>\n",
        "      <td> 106414464</td>\n",
        "      <td> 0.75</td>\n",
        "      <td>  13474</td>\n",
        "    </tr>\n",
        "    <tr>\n",
        "      <th>3</th>\n",
        "      <td> 12996040</td>\n",
        "      <td> 2013-03-25</td>\n",
        "      <td> 1197502</td>\n",
        "      <td>  15</td>\n",
        "      <td>  9</td>\n",
        "      <td>  0</td>\n",
        "      <td> 0</td>\n",
        "      <td> 3203</td>\n",
        "      <td> 1</td>\n",
        "      <td> 106414464</td>\n",
        "      <td> 0.75</td>\n",
        "      <td>  13474</td>\n",
        "    </tr>\n",
        "    <tr>\n",
        "      <th>4</th>\n",
        "      <td> 13089312</td>\n",
        "      <td> 2013-04-01</td>\n",
        "      <td> 1204821</td>\n",
        "      <td>  15</td>\n",
        "      <td>  9</td>\n",
        "      <td>  0</td>\n",
        "      <td> 0</td>\n",
        "      <td> 5619</td>\n",
        "      <td> 1</td>\n",
        "      <td> 107717272</td>\n",
        "      <td> 1.50</td>\n",
        "      <td> 102504</td>\n",
        "    </tr>\n",
        "  </tbody>\n",
        "</table>\n",
        "<p>5 rows \u00d7 12 columns</p>\n",
        "</div>"
       ],
       "metadata": {},
       "output_type": "pyout",
       "prompt_number": 339,
       "text": [
        "         id   offerdate    offer  chain  market  repeattrips  repeater  \\\n",
        "0     86246  2013-04-24  1208251    205      34            5         1   \n",
        "1     86252  2013-03-27  1197502    205      34           16         1   \n",
        "2  12682470  2013-03-28  1197502     18      11            0         0   \n",
        "3  12996040  2013-03-25  1197502     15       9            0         0   \n",
        "4  13089312  2013-04-01  1204821     15       9            0         0   \n",
        "\n",
        "   category  quantity    company  offervalue   brand  \n",
        "0      2202         1  104460040        2.00    3718  \n",
        "1      3203         1  106414464        0.75   13474  \n",
        "2      3203         1  106414464        0.75   13474  \n",
        "3      3203         1  106414464        0.75   13474  \n",
        "4      5619         1  107717272        1.50  102504  \n",
        "\n",
        "[5 rows x 12 columns]"
       ]
      }
     ],
     "prompt_number": 339
    },
    {
     "cell_type": "code",
     "collapsed": false,
     "input": [
      "for row in range(crpros0_df.id.count()):\n",
      "    thisid = crpros0_df.id[row]\n",
      "    ho_idrow = ho_df.ix[ho_df.id == thisid]\n",
      "    if (ho_idrow.category.values[0] == crpros0_df.category[row]):\n",
      "        crpros0_df.offercat[row] = 1"
     ],
     "language": "python",
     "metadata": {},
     "outputs": [],
     "prompt_number": 401
    },
    {
     "cell_type": "code",
     "collapsed": false,
     "input": [
      "crpros0_df.offercat.sum()"
     ],
     "language": "python",
     "metadata": {},
     "outputs": [
      {
       "metadata": {},
       "output_type": "pyout",
       "prompt_number": 423,
       "text": [
        "375"
       ]
      }
     ],
     "prompt_number": 423
    },
    {
     "cell_type": "code",
     "collapsed": false,
     "input": [
      "for row in range(ho_df.id.count()):\n",
      "    thisid = ho_df.id[row]\n",
      "    proidrow = crpros0_df.irow[crpros0_df.id == thisid]"
     ],
     "language": "python",
     "metadata": {},
     "outputs": []
    },
    {
     "cell_type": "code",
     "collapsed": false,
     "input": [
      "row = 4\n",
      "thisid = ho_df.id[row]\n",
      "thiscat = ho_df.category[row]\n",
      "a = crpros0_df.index[crpros0_df.id == thisid]\n",
      "b = crpros0_df.index[crpros0_df.category == thiscat]"
     ],
     "language": "python",
     "metadata": {},
     "outputs": [],
     "prompt_number": 472
    },
    {
     "cell_type": "code",
     "collapsed": false,
     "input": [
      "a"
     ],
     "language": "python",
     "metadata": {},
     "outputs": [
      {
       "metadata": {},
       "output_type": "pyout",
       "prompt_number": 480,
       "text": [
        "Int64Index([0, 1689, 2830, 4027, 4925, 6380, 7408, 8844, 10078, 11127, 12922, 14180, 15829, 16860, 17657, 18717, 20003, 20880, 21933, 23857, 25292, 26270, 27135, 28292, 29144, 30839, 32547, 33973, 35429, 36813, 37831, 38998, 39954, 40773, 42853], dtype='int64')"
       ]
      }
     ],
     "prompt_number": 480
    },
    {
     "cell_type": "code",
     "collapsed": false,
     "input": [
      "crpros1_df = cpros1_df.copy()\n",
      "crpros1_df = crpros1_df[crpros1_df.columns[:4]]\n",
      "crpros1_df['offercat'] = 0\n",
      "for row in range(crpros1_df.id.count()):\n",
      "    thisid = crpros1_df.id[row]\n",
      "    ho_idrow = ho_df.ix[ho_df.id == thisid]\n",
      "    if (ho_idrow.category.values[0] == crpros1_df.category[row]):\n",
      "        crpros1_df.offercat[row] = 1\n",
      "crpros1_df.offercat.sum()"
     ],
     "language": "python",
     "metadata": {},
     "outputs": [
      {
       "metadata": {},
       "output_type": "pyout",
       "prompt_number": 428,
       "text": [
        "389"
       ]
      }
     ],
     "prompt_number": 428
    },
    {
     "cell_type": "code",
     "collapsed": false,
     "input": [
      "crpros2_df = cpros2_df.copy()\n",
      "crpros2_df = crpros2_df[crpros2_df.columns[:4]]\n",
      "crpros2_df['offercat'] = 0\n",
      "for row in range(crpros2_df.id.count()):\n",
      "    thisid = crpros2_df.id[row]\n",
      "    ho_idrow = ho_df.ix[ho_df.id == thisid]\n",
      "    if (ho_idrow.category.values[0] == crpros2_df.category[row]):\n",
      "        crpros2_df.offercat[row] = 1\n",
      "crpros2_df.offercat.sum()"
     ],
     "language": "python",
     "metadata": {},
     "outputs": [
      {
       "metadata": {},
       "output_type": "pyout",
       "prompt_number": 431,
       "text": [
        "386"
       ]
      }
     ],
     "prompt_number": 431
    },
    {
     "cell_type": "code",
     "collapsed": false,
     "input": [
      "crpros3_df = cpros3_df.copy()\n",
      "crpros3_df = crpros3_df[crpros3_df.columns[:4]]\n",
      "crpros3_df['offercat'] = 0\n",
      "for row in range(crpros3_df.id.count()):\n",
      "    thisid = crpros3_df.id[row]\n",
      "    ho_idrow = ho_df.ix[ho_df.id == thisid]\n",
      "    if (ho_idrow.category.values[0] == crpros3_df.category[row]):\n",
      "        crpros3_df.offercat[row] = 1\n",
      "crpros3_df.offercat.sum()"
     ],
     "language": "python",
     "metadata": {},
     "outputs": [
      {
       "metadata": {},
       "output_type": "pyout",
       "prompt_number": 442,
       "text": [
        "384"
       ]
      }
     ],
     "prompt_number": 442
    },
    {
     "cell_type": "code",
     "collapsed": false,
     "input": [
      "crpros4_df = cpros4_df.copy()\n",
      "crpros4_df = crpros4_df[crpros4_df.columns[:4]]\n",
      "crpros4_df['offercat'] = 0\n",
      "for row in range(crpros4_df.id.count()):\n",
      "    thisid = crpros4_df.id[row]\n",
      "    ho_idrow = ho_df.ix[ho_df.id == thisid]\n",
      "    if (ho_idrow.category.values[0] == crpros4_df.category[row]):\n",
      "        crpros4_df.offercat[row] = 1\n",
      "crpros4_df.offercat.sum()"
     ],
     "language": "python",
     "metadata": {},
     "outputs": []
    },
    {
     "cell_type": "code",
     "collapsed": false,
     "input": [],
     "language": "python",
     "metadata": {},
     "outputs": []
    },
    {
     "cell_type": "code",
     "collapsed": false,
     "input": [
      "pros0_wide_df = crpros0_df.pivot('id', 'category')\n",
      "pros0_wide_df.head(6)"
     ],
     "language": "python",
     "metadata": {},
     "outputs": [
      {
       "html": [
        "<div style=\"max-height:1000px;max-width:1500px;overflow:auto;\">\n",
        "<table border=\"1\" class=\"dataframe\">\n",
        "  <thead>\n",
        "    <tr>\n",
        "      <th></th>\n",
        "      <th colspan=\"20\" halign=\"left\">cat_count</th>\n",
        "      <th></th>\n",
        "    </tr>\n",
        "    <tr>\n",
        "      <th>category</th>\n",
        "      <th>213 </th>\n",
        "      <th>302 </th>\n",
        "      <th>305 </th>\n",
        "      <th>411 </th>\n",
        "      <th>412 </th>\n",
        "      <th>417 </th>\n",
        "      <th>419 </th>\n",
        "      <th>427 </th>\n",
        "      <th>519 </th>\n",
        "      <th>520 </th>\n",
        "      <th>708 </th>\n",
        "      <th>709 </th>\n",
        "      <th>805 </th>\n",
        "      <th>811 </th>\n",
        "      <th>821 </th>\n",
        "      <th>826 </th>\n",
        "      <th>838 </th>\n",
        "      <th>913 </th>\n",
        "      <th>914 </th>\n",
        "      <th>918 </th>\n",
        "      <th></th>\n",
        "    </tr>\n",
        "    <tr>\n",
        "      <th>id</th>\n",
        "      <th></th>\n",
        "      <th></th>\n",
        "      <th></th>\n",
        "      <th></th>\n",
        "      <th></th>\n",
        "      <th></th>\n",
        "      <th></th>\n",
        "      <th></th>\n",
        "      <th></th>\n",
        "      <th></th>\n",
        "      <th></th>\n",
        "      <th></th>\n",
        "      <th></th>\n",
        "      <th></th>\n",
        "      <th></th>\n",
        "      <th></th>\n",
        "      <th></th>\n",
        "      <th></th>\n",
        "      <th></th>\n",
        "      <th></th>\n",
        "    </tr>\n",
        "  </thead>\n",
        "  <tbody>\n",
        "    <tr>\n",
        "      <th>13089312</th>\n",
        "      <td>NaN</td>\n",
        "      <td>  7</td>\n",
        "      <td>  1</td>\n",
        "      <td>  1</td>\n",
        "      <td>NaN</td>\n",
        "      <td>NaN</td>\n",
        "      <td>NaN</td>\n",
        "      <td>  7</td>\n",
        "      <td>  1</td>\n",
        "      <td>NaN</td>\n",
        "      <td>  1</td>\n",
        "      <td>NaN</td>\n",
        "      <td>NaN</td>\n",
        "      <td>  8</td>\n",
        "      <td>  1</td>\n",
        "      <td>  1</td>\n",
        "      <td>NaN</td>\n",
        "      <td> 29</td>\n",
        "      <td>NaN</td>\n",
        "      <td>NaN</td>\n",
        "      <td>...</td>\n",
        "    </tr>\n",
        "    <tr>\n",
        "      <th>13251776</th>\n",
        "      <td>NaN</td>\n",
        "      <td>  6</td>\n",
        "      <td>NaN</td>\n",
        "      <td>  1</td>\n",
        "      <td>NaN</td>\n",
        "      <td>NaN</td>\n",
        "      <td>  1</td>\n",
        "      <td>NaN</td>\n",
        "      <td>NaN</td>\n",
        "      <td>  1</td>\n",
        "      <td>  8</td>\n",
        "      <td> 55</td>\n",
        "      <td>  2</td>\n",
        "      <td>NaN</td>\n",
        "      <td>  4</td>\n",
        "      <td> 12</td>\n",
        "      <td>  3</td>\n",
        "      <td>  2</td>\n",
        "      <td>NaN</td>\n",
        "      <td>NaN</td>\n",
        "      <td>...</td>\n",
        "    </tr>\n",
        "    <tr>\n",
        "      <th>17486592</th>\n",
        "      <td>NaN</td>\n",
        "      <td>  2</td>\n",
        "      <td>NaN</td>\n",
        "      <td>NaN</td>\n",
        "      <td>NaN</td>\n",
        "      <td>  2</td>\n",
        "      <td>  1</td>\n",
        "      <td>  1</td>\n",
        "      <td>  9</td>\n",
        "      <td>NaN</td>\n",
        "      <td> 35</td>\n",
        "      <td>NaN</td>\n",
        "      <td>  2</td>\n",
        "      <td>  6</td>\n",
        "      <td>  1</td>\n",
        "      <td>NaN</td>\n",
        "      <td>  1</td>\n",
        "      <td>NaN</td>\n",
        "      <td>NaN</td>\n",
        "      <td>NaN</td>\n",
        "      <td>...</td>\n",
        "    </tr>\n",
        "    <tr>\n",
        "      <th>21603296</th>\n",
        "      <td>  7</td>\n",
        "      <td> 11</td>\n",
        "      <td>  1</td>\n",
        "      <td>  8</td>\n",
        "      <td>NaN</td>\n",
        "      <td>NaN</td>\n",
        "      <td>  1</td>\n",
        "      <td>NaN</td>\n",
        "      <td> 17</td>\n",
        "      <td>  1</td>\n",
        "      <td>  8</td>\n",
        "      <td>NaN</td>\n",
        "      <td>NaN</td>\n",
        "      <td>  1</td>\n",
        "      <td>  1</td>\n",
        "      <td>  1</td>\n",
        "      <td>NaN</td>\n",
        "      <td>NaN</td>\n",
        "      <td>  5</td>\n",
        "      <td>NaN</td>\n",
        "      <td>...</td>\n",
        "    </tr>\n",
        "    <tr>\n",
        "      <th>48445984</th>\n",
        "      <td>NaN</td>\n",
        "      <td> 32</td>\n",
        "      <td>  2</td>\n",
        "      <td>NaN</td>\n",
        "      <td>NaN</td>\n",
        "      <td>  1</td>\n",
        "      <td>  1</td>\n",
        "      <td>NaN</td>\n",
        "      <td>NaN</td>\n",
        "      <td>  2</td>\n",
        "      <td>NaN</td>\n",
        "      <td>NaN</td>\n",
        "      <td>  4</td>\n",
        "      <td>  3</td>\n",
        "      <td>  2</td>\n",
        "      <td>NaN</td>\n",
        "      <td>  1</td>\n",
        "      <td> 10</td>\n",
        "      <td>  6</td>\n",
        "      <td>  3</td>\n",
        "      <td>...</td>\n",
        "    </tr>\n",
        "    <tr>\n",
        "      <th>48991232</th>\n",
        "      <td>NaN</td>\n",
        "      <td>NaN</td>\n",
        "      <td>  1</td>\n",
        "      <td>NaN</td>\n",
        "      <td>NaN</td>\n",
        "      <td>NaN</td>\n",
        "      <td>NaN</td>\n",
        "      <td>NaN</td>\n",
        "      <td>NaN</td>\n",
        "      <td>NaN</td>\n",
        "      <td>NaN</td>\n",
        "      <td>NaN</td>\n",
        "      <td> 12</td>\n",
        "      <td>NaN</td>\n",
        "      <td>NaN</td>\n",
        "      <td>NaN</td>\n",
        "      <td>NaN</td>\n",
        "      <td>NaN</td>\n",
        "      <td>NaN</td>\n",
        "      <td>NaN</td>\n",
        "      <td>...</td>\n",
        "    </tr>\n",
        "  </tbody>\n",
        "</table>\n",
        "<p>6 rows \u00d7 291 columns</p>\n",
        "</div>"
       ],
       "metadata": {},
       "output_type": "pyout",
       "prompt_number": 424,
       "text": [
        "          cat_count                                                         \\\n",
        "category        213  302  305  411  412  417  419  427  519  520  708  709   \n",
        "id                                                                           \n",
        "13089312        NaN    7    1    1  NaN  NaN  NaN    7    1  NaN    1  NaN   \n",
        "13251776        NaN    6  NaN    1  NaN  NaN    1  NaN  NaN    1    8   55   \n",
        "17486592        NaN    2  NaN  NaN  NaN    2    1    1    9  NaN   35  NaN   \n",
        "21603296          7   11    1    8  NaN  NaN    1  NaN   17    1    8  NaN   \n",
        "48445984        NaN   32    2  NaN  NaN    1    1  NaN  NaN    2  NaN  NaN   \n",
        "48991232        NaN  NaN    1  NaN  NaN  NaN  NaN  NaN  NaN  NaN  NaN  NaN   \n",
        "\n",
        "                                                      \n",
        "category  805  811  821  826  838  913  914  918      \n",
        "id                                                    \n",
        "13089312  NaN    8    1    1  NaN   29  NaN  NaN ...  \n",
        "13251776    2  NaN    4   12    3    2  NaN  NaN ...  \n",
        "17486592    2    6    1  NaN    1  NaN  NaN  NaN ...  \n",
        "21603296  NaN    1    1    1  NaN  NaN    5  NaN ...  \n",
        "48445984    4    3    2  NaN    1   10    6    3 ...  \n",
        "48991232   12  NaN  NaN  NaN  NaN  NaN  NaN  NaN ...  \n",
        "\n",
        "[6 rows x 291 columns]"
       ]
      }
     ],
     "prompt_number": 424
    },
    {
     "cell_type": "code",
     "collapsed": false,
     "input": [
      "pros0_wide_df = pros0_wide_df.fillna(0)\n",
      "pcols0 = pros0_wide_df.columns\n",
      "a = pd.merge(pros0_wide_df, repeatstatus_df, how='left', left_index=True, right_index=True)\n",
      "y_train_data0 = a.repeater\n",
      "X_train_data0 = pros0_wide_df[pcols0]\n",
      "print X_train_data0.shape, y_train_data0.shape"
     ],
     "language": "python",
     "metadata": {},
     "outputs": [
      {
       "output_type": "stream",
       "stream": "stdout",
       "text": [
        "(3152, 291) (3152,)\n"
       ]
      }
     ],
     "prompt_number": 425
    },
    {
     "cell_type": "code",
     "collapsed": false,
     "input": [
      "pros1_wide_df = crpros1_df.pivot('id', 'category')\n",
      "pros1_wide_df = pros1_wide_df.fillna(0)\n",
      "pcols1 = pros1_wide_df.columns\n",
      "a = pd.merge(pros1_wide_df, repeatstatus_df, how='left', left_index=True, right_index=True)\n",
      "y_train_data1 = a.repeater\n",
      "X_train_data1 = pros1_wide_df[pcols1]\n",
      "print X_train_data1.shape, y_train_data1.shape"
     ],
     "language": "python",
     "metadata": {},
     "outputs": [
      {
       "output_type": "stream",
       "stream": "stdout",
       "text": [
        "(3174, 291) (3174,)\n"
       ]
      }
     ],
     "prompt_number": 435
    },
    {
     "cell_type": "code",
     "collapsed": false,
     "input": [
      "pros2_wide_df = crpros2_df.pivot('id', 'category')\n",
      "pros2_wide_df = pros2_wide_df.fillna(0)\n",
      "pcols2 = pros2_wide_df.columns\n",
      "a = pd.merge(pros2_wide_df, repeatstatus_df, how='left', left_index=True, right_index=True)\n",
      "y_train_data2 = a.repeater\n",
      "X_train_data2 = pros2_wide_df[pcols2]\n",
      "print X_train_data2.shape, y_train_data2.shape"
     ],
     "language": "python",
     "metadata": {},
     "outputs": [
      {
       "output_type": "stream",
       "stream": "stdout",
       "text": [
        "(3062, 291) (3062,)\n"
       ]
      }
     ],
     "prompt_number": 436
    },
    {
     "cell_type": "code",
     "collapsed": false,
     "input": [
      "pros3_wide_df = crpros3_df.pivot('id', 'category')\n",
      "pros3_wide_df = pros3_wide_df.fillna(0)\n",
      "pcols3 = pros3_wide_df.columns\n",
      "a = pd.merge(pros3_wide_df, repeatstatus_df, how='left', left_index=True, right_index=True)\n",
      "y_train_data3 = a.repeater\n",
      "X_train_data3 = pros3_wide_df[pcols3]\n",
      "print X_train_data3.shape, y_train_data3.shape"
     ],
     "language": "python",
     "metadata": {},
     "outputs": [
      {
       "output_type": "stream",
       "stream": "stdout",
       "text": [
        "(3183, 291) (3183,)\n"
       ]
      }
     ],
     "prompt_number": 443
    },
    {
     "cell_type": "code",
     "collapsed": false,
     "input": [
      "pros4_wide_df = crpros4_df.pivot('id', 'category')\n",
      "pros4_wide_df = pros4_wide_df.fillna(0)\n",
      "pcols4 = pros4_wide_df.columns\n",
      "a = pd.merge(pros4_wide_df, repeatstatus_df, how='left', left_index=True, right_index=True)\n",
      "y_train_data4 = a.repeater\n",
      "X_train_data4 = pros4_wide_df[pcols4]\n",
      "print X_train_data4.shape, y_train_data4.shape"
     ],
     "language": "python",
     "metadata": {},
     "outputs": []
    },
    {
     "cell_type": "code",
     "collapsed": false,
     "input": [],
     "language": "python",
     "metadata": {},
     "outputs": []
    },
    {
     "cell_type": "code",
     "collapsed": false,
     "input": [
      "lrmodel = linear_model.LogisticRegression()\n",
      "lrmodel.fit(X_train_data0,y_train_data0)"
     ],
     "language": "python",
     "metadata": {},
     "outputs": [
      {
       "metadata": {},
       "output_type": "pyout",
       "prompt_number": 426,
       "text": [
        "LogisticRegression(C=1.0, class_weight=None, dual=False, fit_intercept=True,\n",
        "          intercept_scaling=1, penalty='l2', random_state=None, tol=0.0001)"
       ]
      }
     ],
     "prompt_number": 426
    },
    {
     "cell_type": "code",
     "collapsed": false,
     "input": [
      "# for profiles0, score = 83.6%\n",
      "# for profiles1, score = 81.6%\n",
      "# ------\n",
      "# for profiles01, score = 77.6%\n",
      "# ------\n",
      "# for cprofiles0, score = 75.2%\n",
      "# ------\n",
      "# for cprofiles01, score = 74.1%\n",
      "# ------\n",
      "# for dcprofiles0, score = 76.2%\n",
      "# for dcprofiles1, score = 74.7%\n",
      "# for tcprofiles0, score = 76.5%\n",
      "print(\"Training score: {0:.1f}%\".format(\n",
      "    lrmodel.score(X_train_data0,y_train_data0) * 100))"
     ],
     "language": "python",
     "metadata": {},
     "outputs": [
      {
       "output_type": "stream",
       "stream": "stdout",
       "text": [
        "Training score: 76.5%\n"
       ]
      }
     ],
     "prompt_number": 427
    },
    {
     "cell_type": "code",
     "collapsed": false,
     "input": [
      "# for profiles0 testing on profiles2, score = 65.9%\n",
      "# for profiles1 testing on profiles2, score = 66.1%\n",
      "# ------\n",
      "# for profiles01 testing on profiles2, score = 70.6%\n",
      "# for profiles01 testing on profiles3, score = 69.7%\n",
      "# ------\n",
      "# for cprofiles0 testing on cprofiles1, score = 72.2%\n",
      "# for cprofiles0 testing on cprofiles2, score = 73.0%\n",
      "# ------\n",
      "# for cprofiles01 testing on cprofiles2, score = 73.6%\n",
      "# for cprofiles01 testing on cprofiles3, score = 73.9%\n",
      "# ------\n",
      "# for dcprofiles0 testing on dcprofiles1, score = 70.7%\n",
      "# for dcprofiles0 testing on dcprofiles2, score = 72.4%\n",
      "# for dcprofiles1 testing on dcprofiles0, score = 72.7%\n",
      "# for tcprofiles0 testing on tcprofiles1, score = 70.5%\n",
      "print(\"Testing score: {0:.1f}%\".format(\n",
      "    lrmodel.score(X_train_data1,y_train_data1) * 100))"
     ],
     "language": "python",
     "metadata": {},
     "outputs": [
      {
       "output_type": "stream",
       "stream": "stdout",
       "text": [
        "Testing score: 70.5%\n"
       ]
      }
     ],
     "prompt_number": 430
    },
    {
     "cell_type": "code",
     "collapsed": false,
     "input": [
      "# for profiles0 testing on profiles2, score = 65.9%\n",
      "# for profiles1 testing on profiles2, score = 66.1%\n",
      "# ------\n",
      "# for profiles01 testing on profiles2, score = 70.6%\n",
      "# for profiles01 testing on profiles3, score = 69.7%\n",
      "# ------\n",
      "# for cprofiles0 testing on cprofiles1, score = 72.2%\n",
      "# for cprofiles0 testing on cprofiles2, score = 73.0%\n",
      "# ------\n",
      "# for cprofiles01 testing on cprofiles2, score = 73.6%\n",
      "# for cprofiles01 testing on cprofiles3, score = 73.9%\n",
      "# ------\n",
      "# for dcprofiles0 testing on dcprofiles1, score = 70.7%\n",
      "# for dcprofiles0 testing on dcprofiles2, score = 72.4%\n",
      "# for dcprofiles1 testing on dcprofiles0, score = 72.7%\n",
      "# for tcprofiles0 testing on tcprofiles1, score = 70.5%\n",
      "# for tcprofiles0 testing on tcprofiles2, score = 72.0%\n",
      "print(\"Testing score: {0:.1f}%\".format(\n",
      "    lrmodel.score(X_train_data2,y_train_data2) * 100))"
     ],
     "language": "python",
     "metadata": {},
     "outputs": [
      {
       "output_type": "stream",
       "stream": "stdout",
       "text": [
        "Testing score: 72.0%\n"
       ]
      }
     ],
     "prompt_number": 434
    },
    {
     "cell_type": "code",
     "collapsed": false,
     "input": [
      "lrmodel = linear_model.LogisticRegression()\n",
      "lrmodel.fit(X_train_data1,y_train_data1)"
     ],
     "language": "python",
     "metadata": {},
     "outputs": [
      {
       "metadata": {},
       "output_type": "pyout",
       "prompt_number": 437,
       "text": [
        "LogisticRegression(C=1.0, class_weight=None, dual=False, fit_intercept=True,\n",
        "          intercept_scaling=1, penalty='l2', random_state=None, tol=0.0001)"
       ]
      }
     ],
     "prompt_number": 437
    },
    {
     "cell_type": "code",
     "collapsed": false,
     "input": [
      "# for profiles0, score = 83.6%\n",
      "# for profiles1, score = 81.6%\n",
      "# ------\n",
      "# for profiles01, score = 77.6%\n",
      "# ------\n",
      "# for cprofiles0, score = 75.2%\n",
      "# ------\n",
      "# for cprofiles01, score = 74.1%\n",
      "# ------\n",
      "# for dcprofiles0, score = 76.2%\n",
      "# for dcprofiles1, score = 74.7%\n",
      "# ------\n",
      "# for tcprofiles0, score = 76.5%\n",
      "# for tcprofiles0, score = 74.7%\n",
      "print(\"Training score: {0:.1f}%\".format(\n",
      "    lrmodel.score(X_train_data1,y_train_data1) * 100))"
     ],
     "language": "python",
     "metadata": {},
     "outputs": [
      {
       "output_type": "stream",
       "stream": "stdout",
       "text": [
        "Training score: 74.7%\n"
       ]
      }
     ],
     "prompt_number": 438
    },
    {
     "cell_type": "code",
     "collapsed": false,
     "input": [
      "# for profiles0 testing on profiles2, score = 65.9%\n",
      "# for profiles1 testing on profiles2, score = 66.1%\n",
      "# ------\n",
      "# for profiles01 testing on profiles2, score = 70.6%\n",
      "# for profiles01 testing on profiles3, score = 69.7%\n",
      "# ------\n",
      "# for cprofiles0 testing on cprofiles1, score = 72.2%\n",
      "# for cprofiles0 testing on cprofiles2, score = 73.0%\n",
      "# ------\n",
      "# for cprofiles01 testing on cprofiles2, score = 73.6%\n",
      "# for cprofiles01 testing on cprofiles3, score = 73.9%\n",
      "# ------\n",
      "# for dcprofiles0 testing on dcprofiles1, score = 70.7%\n",
      "# for dcprofiles0 testing on dcprofiles2, score = 72.4%\n",
      "# for dcprofiles1 testing on dcprofiles0, score = 72.7%\n",
      "# for tcprofiles0 testing on tcprofiles1, score = 70.5%\n",
      "# for tcprofiles1 testing on tcprofiles0, score = 72.6%\n",
      "print(\"Testing score: {0:.1f}%\".format(\n",
      "    lrmodel.score(X_train_data0,y_train_data0) * 100))"
     ],
     "language": "python",
     "metadata": {},
     "outputs": [
      {
       "output_type": "stream",
       "stream": "stdout",
       "text": [
        "Testing score: 72.6%\n"
       ]
      }
     ],
     "prompt_number": 439
    },
    {
     "cell_type": "code",
     "collapsed": false,
     "input": [
      "# for profiles0 testing on profiles2, score = 65.9%\n",
      "# for profiles1 testing on profiles2, score = 66.1%\n",
      "# ------\n",
      "# for profiles01 testing on profiles2, score = 70.6%\n",
      "# for profiles01 testing on profiles3, score = 69.7%\n",
      "# ------\n",
      "# for cprofiles0 testing on cprofiles1, score = 72.2%\n",
      "# for cprofiles0 testing on cprofiles2, score = 73.0%\n",
      "# ------\n",
      "# for cprofiles01 testing on cprofiles2, score = 73.6%\n",
      "# for cprofiles01 testing on cprofiles3, score = 73.9%\n",
      "# ------\n",
      "# for dcprofiles0 testing on dcprofiles1, score = 70.7%\n",
      "# for dcprofiles0 testing on dcprofiles2, score = 72.4%\n",
      "# for dcprofiles1 testing on dcprofiles0, score = 72.7%\n",
      "# ------\n",
      "# for tcprofiles0 testing on tcprofiles1, score = 70.5%\n",
      "# for tcprofiles1 testing on tcprofiles0, score = 72.6%\n",
      "# for tcprofiles1 testing on tcprofiles2, score = 72.3%\n",
      "print(\"Testing score: {0:.1f}%\".format(\n",
      "    lrmodel.score(X_train_data2,y_train_data2) * 100))"
     ],
     "language": "python",
     "metadata": {},
     "outputs": [
      {
       "output_type": "stream",
       "stream": "stdout",
       "text": [
        "Testing score: 72.3%\n"
       ]
      }
     ],
     "prompt_number": 440
    },
    {
     "cell_type": "code",
     "collapsed": false,
     "input": [
      "# for profiles0 testing on profiles2, score = 65.9%\n",
      "# for profiles1 testing on profiles2, score = 66.1%\n",
      "# ------\n",
      "# for profiles01 testing on profiles2, score = 70.6%\n",
      "# for profiles01 testing on profiles3, score = 69.7%\n",
      "# ------\n",
      "# for cprofiles0 testing on cprofiles1, score = 72.2%\n",
      "# for cprofiles0 testing on cprofiles2, score = 73.0%\n",
      "# ------\n",
      "# for cprofiles01 testing on cprofiles2, score = 73.6%\n",
      "# for cprofiles01 testing on cprofiles3, score = 73.9%\n",
      "# ------\n",
      "# for dcprofiles0 testing on dcprofiles1, score = 70.7%\n",
      "# for dcprofiles0 testing on dcprofiles2, score = 72.4%\n",
      "# for dcprofiles1 testing on dcprofiles0, score = 72.7%\n",
      "# ------\n",
      "# for tcprofiles0 testing on tcprofiles1, score = 70.5%\n",
      "# for tcprofiles1 testing on tcprofiles0, score = 72.6%\n",
      "# for tcprofiles1 testing on tcprofiles2, score = 72.3%\n",
      "# for tcprofiles1 testing on tcprofiles3, score = 72.7%\n",
      "print(\"Testing score: {0:.1f}%\".format(\n",
      "    lrmodel.score(X_train_data3,y_train_data3) * 100))"
     ],
     "language": "python",
     "metadata": {},
     "outputs": [
      {
       "output_type": "stream",
       "stream": "stdout",
       "text": [
        "Testing score: 72.7%\n"
       ]
      }
     ],
     "prompt_number": 444
    },
    {
     "cell_type": "code",
     "collapsed": false,
     "input": [],
     "language": "python",
     "metadata": {},
     "outputs": []
    },
    {
     "cell_type": "code",
     "collapsed": false,
     "input": [
      "lrmodel = linear_model.LogisticRegression()\n",
      "lrmodel.fit(X_train_data1,y_train_data1)"
     ],
     "language": "python",
     "metadata": {},
     "outputs": []
    },
    {
     "cell_type": "code",
     "collapsed": false,
     "input": [],
     "language": "python",
     "metadata": {},
     "outputs": []
    },
    {
     "cell_type": "code",
     "collapsed": false,
     "input": [],
     "language": "python",
     "metadata": {},
     "outputs": []
    },
    {
     "cell_type": "code",
     "collapsed": false,
     "input": [
      "crpros01_df = crpros0_df.append(crpros1_df)"
     ],
     "language": "python",
     "metadata": {},
     "outputs": [],
     "prompt_number": 445
    },
    {
     "cell_type": "code",
     "collapsed": false,
     "input": [
      "pros01_wide_df = crpros01_df.pivot('id', 'category')\n",
      "pros01_wide_df = pros01_wide_df.fillna(0)\n",
      "pcols01 = pros01_wide_df.columns\n",
      "a = pd.merge(pros01_wide_df, repeatstatus_df, how='left', left_index=True, right_index=True)\n",
      "y_train_data01 = a.repeater\n",
      "X_train_data01 = pros01_wide_df[pcols01]\n",
      "print X_train_data01.shape, y_train_data01.shape"
     ],
     "language": "python",
     "metadata": {},
     "outputs": [
      {
       "output_type": "stream",
       "stream": "stdout",
       "text": [
        "(6326, 291) (6326,)\n"
       ]
      }
     ],
     "prompt_number": 446
    },
    {
     "cell_type": "code",
     "collapsed": false,
     "input": [
      "lrmodel = linear_model.LogisticRegression()\n",
      "lrmodel.fit(X_train_data01,y_train_data01)"
     ],
     "language": "python",
     "metadata": {},
     "outputs": [
      {
       "metadata": {},
       "output_type": "pyout",
       "prompt_number": 449,
       "text": [
        "LogisticRegression(C=1.0, class_weight=None, dual=False, fit_intercept=True,\n",
        "          intercept_scaling=1, penalty='l2', random_state=None, tol=0.0001)"
       ]
      }
     ],
     "prompt_number": 449
    },
    {
     "cell_type": "code",
     "collapsed": false,
     "input": [
      "# for profiles0, score = 83.6%\n",
      "# for profiles1, score = 81.6%\n",
      "# ------\n",
      "# for profiles01, score = 77.6%\n",
      "# ------\n",
      "# for cprofiles0, score = 75.2%\n",
      "# ------\n",
      "# for cprofiles01, score = 74.1%\n",
      "# ------\n",
      "# for dcprofiles0, score = 76.2%\n",
      "# for dcprofiles1, score = 74.7%\n",
      "# ------\n",
      "# for tcprofiles0, score = 76.5%\n",
      "# for tcprofiles0, score = 74.7%\n",
      "# ------\n",
      "# for tcprofiles01, score = 74.4%\n",
      "print(\"Training score: {0:.1f}%\".format(\n",
      "    lrmodel.score(X_train_data01,y_train_data01) * 100))"
     ],
     "language": "python",
     "metadata": {},
     "outputs": [
      {
       "output_type": "stream",
       "stream": "stdout",
       "text": [
        "Training score: 74.4%\n"
       ]
      }
     ],
     "prompt_number": 450
    },
    {
     "cell_type": "code",
     "collapsed": false,
     "input": [
      "# for profiles0 testing on profiles2, score = 65.9%\n",
      "# for profiles1 testing on profiles2, score = 66.1%\n",
      "# ------\n",
      "# for profiles01 testing on profiles2, score = 70.6%\n",
      "# for profiles01 testing on profiles3, score = 69.7%\n",
      "# ------\n",
      "# for cprofiles0 testing on cprofiles1, score = 72.2%\n",
      "# for cprofiles0 testing on cprofiles2, score = 73.0%\n",
      "# ------\n",
      "# for cprofiles01 testing on cprofiles2, score = 73.6%\n",
      "# for cprofiles01 testing on cprofiles3, score = 73.9%\n",
      "# ------\n",
      "# for dcprofiles0 testing on dcprofiles1, score = 70.7%\n",
      "# for dcprofiles0 testing on dcprofiles2, score = 72.4%\n",
      "# for dcprofiles1 testing on dcprofiles0, score = 72.7%\n",
      "# ------\n",
      "# for tcprofiles0 testing on tcprofiles1, score = 70.5%\n",
      "# for tcprofiles1 testing on tcprofiles0, score = 72.6%\n",
      "# for tcprofiles1 testing on tcprofiles2, score = 72.3%\n",
      "# ------\n",
      "# for tcprofiles01 testing on tcprofiles2, score = 72.8%\n",
      "print(\"Testing score: {0:.1f}%\".format(\n",
      "    lrmodel.score(X_train_data2,y_train_data2) * 100))"
     ],
     "language": "python",
     "metadata": {},
     "outputs": [
      {
       "output_type": "stream",
       "stream": "stdout",
       "text": [
        "Testing score: 72.8%\n"
       ]
      }
     ],
     "prompt_number": 451
    },
    {
     "cell_type": "code",
     "collapsed": false,
     "input": [
      "# for profiles0 testing on profiles2, score = 65.9%\n",
      "# for profiles1 testing on profiles2, score = 66.1%\n",
      "# ------\n",
      "# for profiles01 testing on profiles2, score = 70.6%\n",
      "# for profiles01 testing on profiles3, score = 69.7%\n",
      "# ------\n",
      "# for cprofiles0 testing on cprofiles1, score = 72.2%\n",
      "# for cprofiles0 testing on cprofiles2, score = 73.0%\n",
      "# ------\n",
      "# for cprofiles01 testing on cprofiles2, score = 73.6%\n",
      "# for cprofiles01 testing on cprofiles3, score = 73.9%\n",
      "# ------\n",
      "# for dcprofiles0 testing on dcprofiles1, score = 70.7%\n",
      "# for dcprofiles0 testing on dcprofiles2, score = 72.4%\n",
      "# for dcprofiles1 testing on dcprofiles0, score = 72.7%\n",
      "# ------\n",
      "# for tcprofiles0 testing on tcprofiles1, score = 70.5%\n",
      "# for tcprofiles1 testing on tcprofiles0, score = 72.6%\n",
      "# for tcprofiles1 testing on tcprofiles2, score = 72.3%\n",
      "# ------\n",
      "# for tcprofiles01 testing on tcprofiles2, score = 72.8%\n",
      "# for tcprofiles01 testing on tcprofiles3, score = 73.8%\n",
      "print(\"Testing score: {0:.1f}%\".format(\n",
      "    lrmodel.score(X_train_data3,y_train_data3) * 100))"
     ],
     "language": "python",
     "metadata": {},
     "outputs": [
      {
       "output_type": "stream",
       "stream": "stdout",
       "text": [
        "Testing score: 73.8%\n"
       ]
      }
     ],
     "prompt_number": 452
    },
    {
     "cell_type": "code",
     "collapsed": false,
     "input": [],
     "language": "python",
     "metadata": {},
     "outputs": []
    },
    {
     "cell_type": "code",
     "collapsed": false,
     "input": [
      "crpros012_df = crpros01_df.append(crpros2_df)"
     ],
     "language": "python",
     "metadata": {},
     "outputs": [],
     "prompt_number": 453
    },
    {
     "cell_type": "code",
     "collapsed": false,
     "input": [
      "pros012_wide_df = crpros012_df.pivot('id', 'category')\n",
      "pros012_wide_df = pros012_wide_df.fillna(0)\n",
      "pcols012 = pros012_wide_df.columns\n",
      "a = pd.merge(pros012_wide_df, repeatstatus_df, how='left', left_index=True, right_index=True)\n",
      "y_train_data012 = a.repeater\n",
      "X_train_data012 = pros012_wide_df[pcols012]\n",
      "print X_train_data012.shape, y_train_data012.shape"
     ],
     "language": "python",
     "metadata": {},
     "outputs": [
      {
       "output_type": "stream",
       "stream": "stdout",
       "text": [
        "(9388, 291) (9388,)\n"
       ]
      }
     ],
     "prompt_number": 454
    },
    {
     "cell_type": "code",
     "collapsed": false,
     "input": [
      "lrmodel = linear_model.LogisticRegression()\n",
      "lrmodel.fit(X_train_data012,y_train_data012)"
     ],
     "language": "python",
     "metadata": {},
     "outputs": [
      {
       "metadata": {},
       "output_type": "pyout",
       "prompt_number": 455,
       "text": [
        "LogisticRegression(C=1.0, class_weight=None, dual=False, fit_intercept=True,\n",
        "          intercept_scaling=1, penalty='l2', random_state=None, tol=0.0001)"
       ]
      }
     ],
     "prompt_number": 455
    },
    {
     "cell_type": "code",
     "collapsed": false,
     "input": [
      "# for profiles0, score = 83.6%\n",
      "# for profiles1, score = 81.6%\n",
      "# ------\n",
      "# for profiles01, score = 77.6%\n",
      "# ------\n",
      "# for cprofiles0, score = 75.2%\n",
      "# ------\n",
      "# for cprofiles01, score = 74.1%\n",
      "# ------\n",
      "# for dcprofiles0, score = 76.2%\n",
      "# for dcprofiles1, score = 74.7%\n",
      "# ------\n",
      "# for tcprofiles0, score = 76.5%\n",
      "# for tcprofiles0, score = 74.7%\n",
      "# ------\n",
      "# for tcprofiles01, score = 74.4%\n",
      "# ------\n",
      "# for tcprofiles012, score = 74.2%\n",
      "print(\"Training score: {0:.1f}%\".format(\n",
      "    lrmodel.score(X_train_data012,y_train_data012) * 100))"
     ],
     "language": "python",
     "metadata": {},
     "outputs": [
      {
       "output_type": "stream",
       "stream": "stdout",
       "text": [
        "Training score: 74.2%\n"
       ]
      }
     ],
     "prompt_number": 456
    },
    {
     "cell_type": "code",
     "collapsed": false,
     "input": [
      "# for profiles0 testing on profiles2, score = 65.9%\n",
      "# for profiles1 testing on profiles2, score = 66.1%\n",
      "# ------\n",
      "# for profiles01 testing on profiles2, score = 70.6%\n",
      "# for profiles01 testing on profiles3, score = 69.7%\n",
      "# ------\n",
      "# for cprofiles0 testing on cprofiles1, score = 72.2%\n",
      "# for cprofiles0 testing on cprofiles2, score = 73.0%\n",
      "# ------\n",
      "# for cprofiles01 testing on cprofiles2, score = 73.6%\n",
      "# for cprofiles01 testing on cprofiles3, score = 73.9%\n",
      "# ------\n",
      "# for dcprofiles0 testing on dcprofiles1, score = 70.7%\n",
      "# for dcprofiles0 testing on dcprofiles2, score = 72.4%\n",
      "# for dcprofiles1 testing on dcprofiles0, score = 72.7%\n",
      "# ------\n",
      "# for tcprofiles0 testing on tcprofiles1, score = 70.5%\n",
      "# for tcprofiles1 testing on tcprofiles0, score = 72.6%\n",
      "# for tcprofiles1 testing on tcprofiles2, score = 72.3%\n",
      "# ------\n",
      "# for tcprofiles01 testing on tcprofiles2, score = 72.8%\n",
      "# for tcprofiles01 testing on tcprofiles3, score = 73.8%\n",
      "# ------\n",
      "# for tcprofiles012 testing on tcprofiles3, score = 73.9%\n",
      "print(\"Testing score: {0:.1f}%\".format(\n",
      "    lrmodel.score(X_train_data3,y_train_data3) * 100))"
     ],
     "language": "python",
     "metadata": {},
     "outputs": [
      {
       "output_type": "stream",
       "stream": "stdout",
       "text": [
        "Testing score: 73.9%\n"
       ]
      }
     ],
     "prompt_number": 457
    },
    {
     "cell_type": "code",
     "collapsed": false,
     "input": [],
     "language": "python",
     "metadata": {},
     "outputs": []
    },
    {
     "cell_type": "code",
     "collapsed": false,
     "input": [
      "target_predicted_proba = lrmodel.predict_proba(X_train_data012)\n",
      "target_predicted_proba[:5]"
     ],
     "language": "python",
     "metadata": {},
     "outputs": [
      {
       "metadata": {},
       "output_type": "pyout",
       "prompt_number": 458,
       "text": [
        "array([[ 0.67688623,  0.32311377],\n",
        "       [ 0.83895699,  0.16104301],\n",
        "       [ 0.62531837,  0.37468163],\n",
        "       [ 0.73853106,  0.26146894],\n",
        "       [ 0.75958509,  0.24041491]])"
       ]
      }
     ],
     "prompt_number": 458
    },
    {
     "cell_type": "code",
     "collapsed": false,
     "input": [
      "# for profiles0, auc = 0.856\n",
      "# for profiles1, auc = 0.847\n",
      "# for profiles01, auc = 0.753\n",
      "# for cprofiles0, auc = 0.644\n",
      "# for tcprofiles012, auc = 0.617\n",
      "plot_roc_curve(y_train_data012, target_predicted_proba[:,1], 'repeater')"
     ],
     "language": "python",
     "metadata": {},
     "outputs": [
      {
       "metadata": {},
       "output_type": "display_data",
       "png": "[encoded data removed]",
       "text": [
        "<matplotlib.figure.Figure at 0x10b4aca90>"
       ]
      }
     ],
     "prompt_number": 459
    },
    {
     "cell_type": "code",
     "collapsed": false,
     "input": [],
     "language": "python",
     "metadata": {},
     "outputs": []
    }
   ],
   "metadata": {}
  }
 ]
}