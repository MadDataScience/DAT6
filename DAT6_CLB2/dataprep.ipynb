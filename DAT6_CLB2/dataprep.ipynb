{
 "metadata": {
  "name": "",
  "signature": "sha256:831bd0b871842236b064ad660c15024a41674e833b3fd47fc6076041b5e28e95"
 },
 "nbformat": 3,
 "nbformat_minor": 0,
 "worksheets": [
  {
   "cells": [
    {
     "cell_type": "markdown",
     "metadata": {},
     "source": [
      "## File 2:  Data preparation.\n",
      "#### In this file, I break up the transactions table into subsets of data in order to deal with the volume.  The original csv for this 11-column table is 20 GB.\n",
      "#### There are an average of 1000 records per shopper in this table.  My solution is to break the table up into n subsets, where each shopper's complete dataset is in a single table.\n",
      "#### There are 160k shoppers in the entire database.  Reading in the first 10M rows yielded about 10k shoppers.  So 16 tables of 10M rows, or 32 tables of 5M rows, would be the expected size (approximately).  I'll assign each shopper to a table by hashing their id (which I know is unique and numeric).  I'll use a mod of 32 to do this."
     ]
    },
    {
     "cell_type": "code",
     "collapsed": false,
     "input": [
      "%matplotlib inline\n",
      "import pandas as pd\n",
      "import statsmodels.api as sm\n",
      "import numpy as np\n",
      "import matplotlib.pyplot as plt"
     ],
     "language": "python",
     "metadata": {},
     "outputs": [],
     "prompt_number": 64
    },
    {
     "cell_type": "code",
     "collapsed": false,
     "input": [
      "fh = {}\n",
      "rowcount = 0"
     ],
     "language": "python",
     "metadata": {},
     "outputs": [],
     "prompt_number": 252
    },
    {
     "cell_type": "code",
     "collapsed": false,
     "input": [
      "f = open('transactions.csv','r')"
     ],
     "language": "python",
     "metadata": {},
     "outputs": [],
     "prompt_number": 253
    },
    {
     "cell_type": "code",
     "collapsed": false,
     "input": [
      "# set up 32 files to populate with subsets of the transactions data\n",
      "# the file creation construct is:  fh[0] = open('transactions0.csv','w')\n",
      "\n",
      "for fi in range(0,32):\n",
      "    filename = 'transactions' + str(fi) + '.csv'\n",
      "    fh[fi] = open(filename,'w')"
     ],
     "language": "python",
     "metadata": {},
     "outputs": [],
     "prompt_number": 254
    },
    {
     "cell_type": "code",
     "collapsed": false,
     "input": [
      "# read and discard first line, which is the column names\n",
      "nextline = f.readline()\n",
      "rowcount += 1"
     ],
     "language": "python",
     "metadata": {},
     "outputs": [],
     "prompt_number": 255
    },
    {
     "cell_type": "code",
     "collapsed": false,
     "input": [
      "print nextline"
     ],
     "language": "python",
     "metadata": {},
     "outputs": [
      {
       "output_type": "stream",
       "stream": "stdout",
       "text": [
        "id,chain,dept,category,company,brand,date,productsize,productmeasure,purchasequantity,purchaseamount\n",
        "\n"
       ]
      }
     ],
     "prompt_number": 256
    },
    {
     "cell_type": "code",
     "collapsed": false,
     "input": [
      "# read in each line and write to subset file\n",
      "# the first column is shopper id; filenum is id % 32\n",
      "# didn't read it in all at once, did it piece-wise\n",
      "\n",
      "for fi in range(2000000):\n",
      "    nextline = f.readline()\n",
      "    rowcount += 1\n",
      "    filenum = int(nextline[:nextline.find(',')]) % 32\n",
      "    fh[filenum].write(nextline)\n",
      "print rowcount\n",
      "\n",
      "# as of 06/08/14, have read in 220M rows, and estimate that it's about half of the database\n",
      "# while it's possible some shoppers' records are truncated, the sample is large enough that\n",
      "# it should still work well for the purposes of building a model"
     ],
     "language": "python",
     "metadata": {},
     "outputs": [
      {
       "output_type": "stream",
       "stream": "stdout",
       "text": [
        "220000000\n"
       ]
      }
     ],
     "prompt_number": 584
    },
    {
     "cell_type": "code",
     "collapsed": false,
     "input": [
      "print nextline"
     ],
     "language": "python",
     "metadata": {},
     "outputs": [
      {
       "output_type": "stream",
       "stream": "stdout",
       "text": [
        "2439175002,46,36,3604,107800070,19315,2012-11-12,48,OZ,1,1.99\n",
        "\n"
       ]
      }
     ],
     "prompt_number": 585
    },
    {
     "cell_type": "code",
     "collapsed": false,
     "input": [
      "for fi in range(0,32):\n",
      "    fh[fi].close()"
     ],
     "language": "python",
     "metadata": {},
     "outputs": [],
     "prompt_number": 586
    },
    {
     "cell_type": "markdown",
     "metadata": {},
     "source": [
      "#### Note:  220000000 rows from transactions.csv were read into smaller csv files.  This is approximately half of the file."
     ]
    },
    {
     "cell_type": "markdown",
     "metadata": {},
     "source": [
      "### Now import data into database tables."
     ]
    },
    {
     "cell_type": "code",
     "collapsed": false,
     "input": [
      "import sqlite3"
     ],
     "language": "python",
     "metadata": {},
     "outputs": [],
     "prompt_number": 2
    },
    {
     "cell_type": "code",
     "collapsed": false,
     "input": [
      "conn = sqlite3.connect('shopping.db')\n",
      "c = conn.cursor()"
     ],
     "language": "python",
     "metadata": {},
     "outputs": [],
     "prompt_number": 3
    },
    {
     "cell_type": "code",
     "collapsed": false,
     "input": [
      "# Creating offers table\n",
      "c.execute('''CREATE TABLE offers (\n",
      "                 offer INTEGER unique,\n",
      "                 category INTEGER,\n",
      "                 quantity INTEGER,\n",
      "                 company INTEGER,\n",
      "                 offervalue DECIMAL(5,2),\n",
      "                 brand INTEGER)''')"
     ],
     "language": "python",
     "metadata": {},
     "outputs": [
      {
       "metadata": {},
       "output_type": "pyout",
       "prompt_number": 592,
       "text": [
        "<sqlite3.Cursor at 0x109c7df80>"
       ]
      }
     ],
     "prompt_number": 592
    },
    {
     "cell_type": "code",
     "collapsed": false,
     "input": [
      "#### After creating the table, I imported the CSV at the command line:\n",
      "#### sqlite3 '/Users/crista/Desktop/gads2014course/DAT6_clb/Final_Project/shopping.db'\n",
      "#### .separator ','\n",
      "#### .import '/Users/crista/Desktop/gads2014course/DAT6_clb/Final_Project/offers.csv' offers"
     ],
     "language": "python",
     "metadata": {},
     "outputs": [],
     "prompt_number": 593
    },
    {
     "cell_type": "code",
     "collapsed": false,
     "input": [
      "c.execute('SELECT * FROM offers LIMIT 10')"
     ],
     "language": "python",
     "metadata": {},
     "outputs": [
      {
       "metadata": {},
       "output_type": "pyout",
       "prompt_number": 3,
       "text": [
        "<sqlite3.Cursor at 0x1039cbab0>"
       ]
      }
     ],
     "prompt_number": 3
    },
    {
     "cell_type": "code",
     "collapsed": false,
     "input": [
      "c.fetchmany(10)"
     ],
     "language": "python",
     "metadata": {},
     "outputs": [
      {
       "metadata": {},
       "output_type": "pyout",
       "prompt_number": 4,
       "text": [
        "[(u'offer', u'category', u'quantity', u'company', u'offervalue', u'brand'),\n",
        " (1190530, 9115, 1, 108500080, 5, 93904),\n",
        " (1194044, 9909, 1, 107127979, 1, 6732),\n",
        " (1197502, 3203, 1, 106414464, 0.75, 13474),\n",
        " (1198271, 5558, 1, 107120272, 1.5, 5072),\n",
        " (1198272, 5558, 1, 107120272, 1.5, 5072),\n",
        " (1198273, 5558, 1, 107120272, 1.5, 5072),\n",
        " (1198274, 5558, 1, 107120272, 1.5, 5072),\n",
        " (1198275, 5558, 1, 107120272, 1.5, 5072),\n",
        " (1199256, 4401, 1, 105100050, 2, 13791)]"
       ]
      }
     ],
     "prompt_number": 4
    },
    {
     "cell_type": "code",
     "collapsed": false,
     "input": [],
     "language": "python",
     "metadata": {},
     "outputs": []
    },
    {
     "cell_type": "code",
     "collapsed": false,
     "input": [
      "# Creating history table\n",
      "c.execute('''CREATE TABLE history (\n",
      "                 id INTEGER unique,\n",
      "                 chain INTEGER,\n",
      "                 offer INTEGER,\n",
      "                 market INTEGER,\n",
      "                 repeattrips INTEGER,\n",
      "                 repeater BOOL,\n",
      "                 offerdate DATE)''')"
     ],
     "language": "python",
     "metadata": {},
     "outputs": [
      {
       "metadata": {},
       "output_type": "pyout",
       "prompt_number": 602,
       "text": [
        "<sqlite3.Cursor at 0x109c7df80>"
       ]
      }
     ],
     "prompt_number": 602
    },
    {
     "cell_type": "code",
     "collapsed": false,
     "input": [
      "#### sqlite3 '/Users/crista/Desktop/gads2014course/DAT6_clb/Final_Project/shopping.db'\n",
      "#### .separator ','\n",
      "#### .import '/Users/crista/Desktop/gads2014course/DAT6_clb/Final_Project/history.csv' history"
     ],
     "language": "python",
     "metadata": {},
     "outputs": []
    },
    {
     "cell_type": "code",
     "collapsed": false,
     "input": [
      "c.execute('SELECT * FROM history LIMIT 10')"
     ],
     "language": "python",
     "metadata": {},
     "outputs": [
      {
       "metadata": {},
       "output_type": "pyout",
       "prompt_number": 605,
       "text": [
        "<sqlite3.Cursor at 0x109c7df80>"
       ]
      }
     ],
     "prompt_number": 605
    },
    {
     "cell_type": "code",
     "collapsed": false,
     "input": [
      "c.fetchmany(10)"
     ],
     "language": "python",
     "metadata": {},
     "outputs": [
      {
       "metadata": {},
       "output_type": "pyout",
       "prompt_number": 606,
       "text": [
        "[(u'id',\n",
        "  u'chain',\n",
        "  u'offer',\n",
        "  u'market',\n",
        "  u'repeattrips',\n",
        "  u'repeater',\n",
        "  u'offerdate'),\n",
        " (86246, 205, 1208251, 34, 5, u't', u'2013-04-24'),\n",
        " (86252, 205, 1197502, 34, 16, u't', u'2013-03-27'),\n",
        " (12682470, 18, 1197502, 11, 0, u'f', u'2013-03-28'),\n",
        " (12996040, 15, 1197502, 9, 0, u'f', u'2013-03-25'),\n",
        " (13089312, 15, 1204821, 9, 0, u'f', u'2013-04-01'),\n",
        " (13179265, 14, 1197502, 8, 0, u'f', u'2013-03-29'),\n",
        " (13251776, 15, 1200581, 9, 0, u'f', u'2013-03-30'),\n",
        " (13540129, 14, 1200581, 8, 0, u'f', u'2013-03-30'),\n",
        " (13807224, 4, 1204576, 1, 0, u'f', u'2013-04-05')]"
       ]
      }
     ],
     "prompt_number": 606
    },
    {
     "cell_type": "code",
     "collapsed": false,
     "input": [],
     "language": "python",
     "metadata": {},
     "outputs": []
    },
    {
     "cell_type": "code",
     "collapsed": false,
     "input": [
      "# Creating transactions tables\n",
      "# Column names:  id,chain,dept,category,company,brand,date,\n",
      "#     productsize,productmeasure,purchasequantity,purchaseamount\n",
      "\n",
      "c.execute('''CREATE TABLE transactions9 (\n",
      "                 id INTEGER,\n",
      "                 chain INTEGER,\n",
      "                 dept INTEGER,\n",
      "                 category INTEGER,\n",
      "                 company INTEGER,\n",
      "                 brand INTEGER,\n",
      "                 date DATE,\n",
      "                 productsize INTEGER,\n",
      "                 productmeasure CHAR(10),\n",
      "                 purchasequantity INTEGER,\n",
      "                 purchaseamount INTEGER)''')"
     ],
     "language": "python",
     "metadata": {},
     "outputs": [
      {
       "metadata": {},
       "output_type": "pyout",
       "prompt_number": 22,
       "text": [
        "<sqlite3.Cursor at 0x109856730>"
       ]
      }
     ],
     "prompt_number": 22
    },
    {
     "cell_type": "code",
     "collapsed": false,
     "input": [
      "# .import '/Users/crista/Desktop/gads2014course/DAT6_clb/Final_Project/history.csv' history\n",
      "# .import '/Users/crista/Desktop/gads2014course/DAT6_clb/Final_Project/transactions0.csv' transactions0\n",
      "# .import '/Users/crista/Desktop/gads2014course/DAT6_clb/Final_Project/transactions1.csv' transactions1\n",
      "# and so on"
     ],
     "language": "python",
     "metadata": {},
     "outputs": []
    },
    {
     "cell_type": "code",
     "collapsed": false,
     "input": [
      "c.close()"
     ],
     "language": "python",
     "metadata": {},
     "outputs": [],
     "prompt_number": 4
    },
    {
     "cell_type": "code",
     "collapsed": false,
     "input": [],
     "language": "python",
     "metadata": {},
     "outputs": [],
     "prompt_number": 4
    },
    {
     "cell_type": "code",
     "collapsed": false,
     "input": [
      "%load_ext sql"
     ],
     "language": "python",
     "metadata": {},
     "outputs": [],
     "prompt_number": 5
    },
    {
     "cell_type": "code",
     "collapsed": false,
     "input": [
      "%%bash\n",
      "sqlite3 shopping.db .tables"
     ],
     "language": "python",
     "metadata": {},
     "outputs": [
      {
       "output_type": "stream",
       "stream": "stdout",
       "text": [
        "history         transactions0   transactions3   transactions6   transactions9 \n",
        "history_offers  transactions1   transactions4   transactions7 \n",
        "offers          transactions2   transactions5   transactions8 \n"
       ]
      }
     ],
     "prompt_number": 6
    },
    {
     "cell_type": "code",
     "collapsed": false,
     "input": [
      "%%sql sqlite:///shopping.db\n",
      "SELECT * FROM transactions0 LIMIT 10"
     ],
     "language": "python",
     "metadata": {},
     "outputs": [
      {
       "output_type": "stream",
       "stream": "stdout",
       "text": [
        "Done.\n"
       ]
      },
      {
       "html": [
        "<table>\n",
        "    <tr>\n",
        "        <th>id</th>\n",
        "        <th>chain</th>\n",
        "        <th>dept</th>\n",
        "        <th>category</th>\n",
        "        <th>company</th>\n",
        "        <th>brand</th>\n",
        "        <th>date</th>\n",
        "        <th>productsize</th>\n",
        "        <th>productmeasure</th>\n",
        "        <th>purchasequantity</th>\n",
        "        <th>purchaseamount</th>\n",
        "    </tr>\n",
        "    <tr>\n",
        "        <td>13089312</td>\n",
        "        <td>15</td>\n",
        "        <td>96</td>\n",
        "        <td>9632</td>\n",
        "        <td>107675070</td>\n",
        "        <td>52936</td>\n",
        "        <td>2012-03-05</td>\n",
        "        <td>1</td>\n",
        "        <td>CT</td>\n",
        "        <td>1</td>\n",
        "        <td>15</td>\n",
        "    </tr>\n",
        "    <tr>\n",
        "        <td>13089312</td>\n",
        "        <td>15</td>\n",
        "        <td>58</td>\n",
        "        <td>5811</td>\n",
        "        <td>102113020</td>\n",
        "        <td>28503</td>\n",
        "        <td>2012-03-05</td>\n",
        "        <td>8</td>\n",
        "        <td>OZ</td>\n",
        "        <td>1</td>\n",
        "        <td>5.99</td>\n",
        "    </tr>\n",
        "    <tr>\n",
        "        <td>13089312</td>\n",
        "        <td>15</td>\n",
        "        <td>99</td>\n",
        "        <td>9902</td>\n",
        "        <td>107432676</td>\n",
        "        <td>1161</td>\n",
        "        <td>2012-03-05</td>\n",
        "        <td>14</td>\n",
        "        <td>OZ</td>\n",
        "        <td>1</td>\n",
        "        <td>1.25</td>\n",
        "    </tr>\n",
        "    <tr>\n",
        "        <td>13089312</td>\n",
        "        <td>15</td>\n",
        "        <td>58</td>\n",
        "        <td>5823</td>\n",
        "        <td>107300777</td>\n",
        "        <td>3899</td>\n",
        "        <td>2012-03-05</td>\n",
        "        <td>5</td>\n",
        "        <td>OZ</td>\n",
        "        <td>1</td>\n",
        "        <td>4.99</td>\n",
        "    </tr>\n",
        "    <tr>\n",
        "        <td>13089312</td>\n",
        "        <td>15</td>\n",
        "        <td>37</td>\n",
        "        <td>3706</td>\n",
        "        <td>104119646</td>\n",
        "        <td>14582</td>\n",
        "        <td>2012-03-05</td>\n",
        "        <td>19</td>\n",
        "        <td>OZ</td>\n",
        "        <td>2</td>\n",
        "        <td>3.78</td>\n",
        "    </tr>\n",
        "    <tr>\n",
        "        <td>13089312</td>\n",
        "        <td>15</td>\n",
        "        <td>4</td>\n",
        "        <td>427</td>\n",
        "        <td>10980090</td>\n",
        "        <td>18366</td>\n",
        "        <td>2012-03-09</td>\n",
        "        <td>1</td>\n",
        "        <td>OZ</td>\n",
        "        <td>1</td>\n",
        "        <td>1.29</td>\n",
        "    </tr>\n",
        "    <tr>\n",
        "        <td>13089312</td>\n",
        "        <td>15</td>\n",
        "        <td>95</td>\n",
        "        <td>9518</td>\n",
        "        <td>1072047373</td>\n",
        "        <td>7848</td>\n",
        "        <td>2012-03-09</td>\n",
        "        <td>1</td>\n",
        "        <td>CT</td>\n",
        "        <td>1</td>\n",
        "        <td>3.69</td>\n",
        "    </tr>\n",
        "    <tr>\n",
        "        <td>13089312</td>\n",
        "        <td>15</td>\n",
        "        <td>9</td>\n",
        "        <td>907</td>\n",
        "        <td>102113020</td>\n",
        "        <td>15704</td>\n",
        "        <td>2012-03-09</td>\n",
        "        <td>22</td>\n",
        "        <td>OZ</td>\n",
        "        <td>1</td>\n",
        "        <td>2.99</td>\n",
        "    </tr>\n",
        "    <tr>\n",
        "        <td>13089312</td>\n",
        "        <td>15</td>\n",
        "        <td>99</td>\n",
        "        <td>9908</td>\n",
        "        <td>102113020</td>\n",
        "        <td>15704</td>\n",
        "        <td>2012-03-09</td>\n",
        "        <td>10</td>\n",
        "        <td>OZ</td>\n",
        "        <td>2</td>\n",
        "        <td>5.01</td>\n",
        "    </tr>\n",
        "    <tr>\n",
        "        <td>13089312</td>\n",
        "        <td>15</td>\n",
        "        <td>99</td>\n",
        "        <td>9902</td>\n",
        "        <td>107432676</td>\n",
        "        <td>1161</td>\n",
        "        <td>2012-03-09</td>\n",
        "        <td>14</td>\n",
        "        <td>OZ</td>\n",
        "        <td>1</td>\n",
        "        <td>-0.32</td>\n",
        "    </tr>\n",
        "</table>"
       ],
       "metadata": {},
       "output_type": "pyout",
       "prompt_number": 7,
       "text": [
        "[(13089312, 15, 96, 9632, 107675070, 52936, u'2012-03-05', 1, u'CT', 1, 15),\n",
        " (13089312, 15, 58, 5811, 102113020, 28503, u'2012-03-05', 8, u'OZ', 1, 5.99),\n",
        " (13089312, 15, 99, 9902, 107432676, 1161, u'2012-03-05', 14, u'OZ', 1, 1.25),\n",
        " (13089312, 15, 58, 5823, 107300777, 3899, u'2012-03-05', 5, u'OZ', 1, 4.99),\n",
        " (13089312, 15, 37, 3706, 104119646, 14582, u'2012-03-05', 19, u'OZ', 2, 3.78),\n",
        " (13089312, 15, 4, 427, 10980090, 18366, u'2012-03-09', 1, u'OZ', 1, 1.29),\n",
        " (13089312, 15, 95, 9518, 1072047373, 7848, u'2012-03-09', 1, u'CT', 1, 3.69),\n",
        " (13089312, 15, 9, 907, 102113020, 15704, u'2012-03-09', 22, u'OZ', 1, 2.99),\n",
        " (13089312, 15, 99, 9908, 102113020, 15704, u'2012-03-09', 10, u'OZ', 2, 5.01),\n",
        " (13089312, 15, 99, 9902, 107432676, 1161, u'2012-03-09', 14, u'OZ', 1, -0.32)]"
       ]
      }
     ],
     "prompt_number": 7
    },
    {
     "cell_type": "code",
     "collapsed": false,
     "input": [
      "%%sql sqlite:///shopping.db\n",
      "SELECT * FROM offers LIMIT 5\n",
      "# this did have a bad first row"
     ],
     "language": "python",
     "metadata": {},
     "outputs": [
      {
       "output_type": "stream",
       "stream": "stdout",
       "text": [
        "Done.\n"
       ]
      },
      {
       "html": [
        "<table>\n",
        "    <tr>\n",
        "        <th>offer</th>\n",
        "        <th>category</th>\n",
        "        <th>quantity</th>\n",
        "        <th>company</th>\n",
        "        <th>offervalue</th>\n",
        "        <th>brand</th>\n",
        "    </tr>\n",
        "    <tr>\n",
        "        <td>1190530</td>\n",
        "        <td>9115</td>\n",
        "        <td>1</td>\n",
        "        <td>108500080</td>\n",
        "        <td>5</td>\n",
        "        <td>93904</td>\n",
        "    </tr>\n",
        "    <tr>\n",
        "        <td>1194044</td>\n",
        "        <td>9909</td>\n",
        "        <td>1</td>\n",
        "        <td>107127979</td>\n",
        "        <td>1</td>\n",
        "        <td>6732</td>\n",
        "    </tr>\n",
        "    <tr>\n",
        "        <td>1197502</td>\n",
        "        <td>3203</td>\n",
        "        <td>1</td>\n",
        "        <td>106414464</td>\n",
        "        <td>0.75</td>\n",
        "        <td>13474</td>\n",
        "    </tr>\n",
        "    <tr>\n",
        "        <td>1198271</td>\n",
        "        <td>5558</td>\n",
        "        <td>1</td>\n",
        "        <td>107120272</td>\n",
        "        <td>1.5</td>\n",
        "        <td>5072</td>\n",
        "    </tr>\n",
        "    <tr>\n",
        "        <td>1198272</td>\n",
        "        <td>5558</td>\n",
        "        <td>1</td>\n",
        "        <td>107120272</td>\n",
        "        <td>1.5</td>\n",
        "        <td>5072</td>\n",
        "    </tr>\n",
        "</table>"
       ],
       "metadata": {},
       "output_type": "pyout",
       "prompt_number": 8,
       "text": [
        "[(1190530, 9115, 1, 108500080, 5, 93904),\n",
        " (1194044, 9909, 1, 107127979, 1, 6732),\n",
        " (1197502, 3203, 1, 106414464, 0.75, 13474),\n",
        " (1198271, 5558, 1, 107120272, 1.5, 5072),\n",
        " (1198272, 5558, 1, 107120272, 1.5, 5072)]"
       ]
      }
     ],
     "prompt_number": 8
    },
    {
     "cell_type": "code",
     "collapsed": false,
     "input": [
      "%%sql sqlite:///shopping.db\n",
      "DELETE FROM offers\n",
      "WHERE offer = 'offer'"
     ],
     "language": "python",
     "metadata": {},
     "outputs": [
      {
       "output_type": "stream",
       "stream": "stdout",
       "text": [
        "1 rows affected.\n"
       ]
      },
      {
       "metadata": {},
       "output_type": "pyout",
       "prompt_number": 9,
       "text": [
        "[]"
       ]
      }
     ],
     "prompt_number": 9
    },
    {
     "cell_type": "code",
     "collapsed": false,
     "input": [
      "%%sql sqlite:///shopping.db\n",
      "SELECT * FROM offers LIMIT 5"
     ],
     "language": "python",
     "metadata": {},
     "outputs": [
      {
       "output_type": "stream",
       "stream": "stdout",
       "text": [
        "Done.\n"
       ]
      },
      {
       "html": [
        "<table>\n",
        "    <tr>\n",
        "        <th>offer</th>\n",
        "        <th>category</th>\n",
        "        <th>quantity</th>\n",
        "        <th>company</th>\n",
        "        <th>offervalue</th>\n",
        "        <th>brand</th>\n",
        "    </tr>\n",
        "    <tr>\n",
        "        <td>1190530</td>\n",
        "        <td>9115</td>\n",
        "        <td>1</td>\n",
        "        <td>108500080</td>\n",
        "        <td>5</td>\n",
        "        <td>93904</td>\n",
        "    </tr>\n",
        "    <tr>\n",
        "        <td>1194044</td>\n",
        "        <td>9909</td>\n",
        "        <td>1</td>\n",
        "        <td>107127979</td>\n",
        "        <td>1</td>\n",
        "        <td>6732</td>\n",
        "    </tr>\n",
        "    <tr>\n",
        "        <td>1197502</td>\n",
        "        <td>3203</td>\n",
        "        <td>1</td>\n",
        "        <td>106414464</td>\n",
        "        <td>0.75</td>\n",
        "        <td>13474</td>\n",
        "    </tr>\n",
        "    <tr>\n",
        "        <td>1198271</td>\n",
        "        <td>5558</td>\n",
        "        <td>1</td>\n",
        "        <td>107120272</td>\n",
        "        <td>1.5</td>\n",
        "        <td>5072</td>\n",
        "    </tr>\n",
        "    <tr>\n",
        "        <td>1198272</td>\n",
        "        <td>5558</td>\n",
        "        <td>1</td>\n",
        "        <td>107120272</td>\n",
        "        <td>1.5</td>\n",
        "        <td>5072</td>\n",
        "    </tr>\n",
        "</table>"
       ],
       "metadata": {},
       "output_type": "pyout",
       "prompt_number": 10,
       "text": [
        "[(1190530, 9115, 1, 108500080, 5, 93904),\n",
        " (1194044, 9909, 1, 107127979, 1, 6732),\n",
        " (1197502, 3203, 1, 106414464, 0.75, 13474),\n",
        " (1198271, 5558, 1, 107120272, 1.5, 5072),\n",
        " (1198272, 5558, 1, 107120272, 1.5, 5072)]"
       ]
      }
     ],
     "prompt_number": 10
    },
    {
     "cell_type": "code",
     "collapsed": false,
     "input": [
      "%%sql sqlite:///shopping.db\n",
      "SELECT * FROM history LIMIT 5"
     ],
     "language": "python",
     "metadata": {},
     "outputs": [
      {
       "output_type": "stream",
       "stream": "stdout",
       "text": [
        "Done.\n"
       ]
      },
      {
       "html": [
        "<table>\n",
        "    <tr>\n",
        "        <th>id</th>\n",
        "        <th>chain</th>\n",
        "        <th>offer</th>\n",
        "        <th>market</th>\n",
        "        <th>repeattrips</th>\n",
        "        <th>repeater</th>\n",
        "        <th>offerdate</th>\n",
        "    </tr>\n",
        "    <tr>\n",
        "        <td>86246</td>\n",
        "        <td>205</td>\n",
        "        <td>1208251</td>\n",
        "        <td>34</td>\n",
        "        <td>5</td>\n",
        "        <td>t</td>\n",
        "        <td>2013-04-24</td>\n",
        "    </tr>\n",
        "    <tr>\n",
        "        <td>86252</td>\n",
        "        <td>205</td>\n",
        "        <td>1197502</td>\n",
        "        <td>34</td>\n",
        "        <td>16</td>\n",
        "        <td>t</td>\n",
        "        <td>2013-03-27</td>\n",
        "    </tr>\n",
        "    <tr>\n",
        "        <td>12682470</td>\n",
        "        <td>18</td>\n",
        "        <td>1197502</td>\n",
        "        <td>11</td>\n",
        "        <td>0</td>\n",
        "        <td>f</td>\n",
        "        <td>2013-03-28</td>\n",
        "    </tr>\n",
        "    <tr>\n",
        "        <td>12996040</td>\n",
        "        <td>15</td>\n",
        "        <td>1197502</td>\n",
        "        <td>9</td>\n",
        "        <td>0</td>\n",
        "        <td>f</td>\n",
        "        <td>2013-03-25</td>\n",
        "    </tr>\n",
        "    <tr>\n",
        "        <td>13089312</td>\n",
        "        <td>15</td>\n",
        "        <td>1204821</td>\n",
        "        <td>9</td>\n",
        "        <td>0</td>\n",
        "        <td>f</td>\n",
        "        <td>2013-04-01</td>\n",
        "    </tr>\n",
        "</table>"
       ],
       "metadata": {},
       "output_type": "pyout",
       "prompt_number": 9,
       "text": [
        "[(86246, 205, 1208251, 34, 5, u't', u'2013-04-24'),\n",
        " (86252, 205, 1197502, 34, 16, u't', u'2013-03-27'),\n",
        " (12682470, 18, 1197502, 11, 0, u'f', u'2013-03-28'),\n",
        " (12996040, 15, 1197502, 9, 0, u'f', u'2013-03-25'),\n",
        " (13089312, 15, 1204821, 9, 0, u'f', u'2013-04-01')]"
       ]
      }
     ],
     "prompt_number": 9
    },
    {
     "cell_type": "code",
     "collapsed": false,
     "input": [
      "%%sql sqlite:///shopping.db\n",
      "DELETE FROM history\n",
      "WHERE id = 'id'"
     ],
     "language": "python",
     "metadata": {},
     "outputs": [
      {
       "output_type": "stream",
       "stream": "stdout",
       "text": [
        "1 rows affected.\n"
       ]
      },
      {
       "metadata": {},
       "output_type": "pyout",
       "prompt_number": 12,
       "text": [
        "[]"
       ]
      }
     ],
     "prompt_number": 12
    },
    {
     "cell_type": "code",
     "collapsed": false,
     "input": [
      "%%sql sqlite:///shopping.db\n",
      "UPDATE history\n",
      "SET repeater = 1\n",
      "WHERE repeater = 't'"
     ],
     "language": "python",
     "metadata": {},
     "outputs": [
      {
       "output_type": "stream",
       "stream": "stdout",
       "text": [
        "43438 rows affected.\n"
       ]
      },
      {
       "metadata": {},
       "output_type": "pyout",
       "prompt_number": 10,
       "text": [
        "[]"
       ]
      }
     ],
     "prompt_number": 10
    },
    {
     "cell_type": "code",
     "collapsed": false,
     "input": [
      "%%sql sqlite:///shopping.db\n",
      "UPDATE history\n",
      "SET repeater = 0\n",
      "WHERE repeater = 'f'"
     ],
     "language": "python",
     "metadata": {},
     "outputs": [
      {
       "output_type": "stream",
       "stream": "stdout",
       "text": [
        "116619 rows affected.\n"
       ]
      },
      {
       "metadata": {},
       "output_type": "pyout",
       "prompt_number": 11,
       "text": [
        "[]"
       ]
      }
     ],
     "prompt_number": 11
    },
    {
     "cell_type": "code",
     "collapsed": false,
     "input": [
      "%%sql sqlite:///shopping.db\n",
      "SELECT * FROM history LIMIT 5"
     ],
     "language": "python",
     "metadata": {},
     "outputs": [
      {
       "output_type": "stream",
       "stream": "stdout",
       "text": [
        "Done.\n"
       ]
      },
      {
       "html": [
        "<table>\n",
        "    <tr>\n",
        "        <th>id</th>\n",
        "        <th>chain</th>\n",
        "        <th>offer</th>\n",
        "        <th>market</th>\n",
        "        <th>repeattrips</th>\n",
        "        <th>repeater</th>\n",
        "        <th>offerdate</th>\n",
        "    </tr>\n",
        "    <tr>\n",
        "        <td>86246</td>\n",
        "        <td>205</td>\n",
        "        <td>1208251</td>\n",
        "        <td>34</td>\n",
        "        <td>5</td>\n",
        "        <td>1</td>\n",
        "        <td>2013-04-24</td>\n",
        "    </tr>\n",
        "    <tr>\n",
        "        <td>86252</td>\n",
        "        <td>205</td>\n",
        "        <td>1197502</td>\n",
        "        <td>34</td>\n",
        "        <td>16</td>\n",
        "        <td>1</td>\n",
        "        <td>2013-03-27</td>\n",
        "    </tr>\n",
        "    <tr>\n",
        "        <td>12682470</td>\n",
        "        <td>18</td>\n",
        "        <td>1197502</td>\n",
        "        <td>11</td>\n",
        "        <td>0</td>\n",
        "        <td>0</td>\n",
        "        <td>2013-03-28</td>\n",
        "    </tr>\n",
        "    <tr>\n",
        "        <td>12996040</td>\n",
        "        <td>15</td>\n",
        "        <td>1197502</td>\n",
        "        <td>9</td>\n",
        "        <td>0</td>\n",
        "        <td>0</td>\n",
        "        <td>2013-03-25</td>\n",
        "    </tr>\n",
        "    <tr>\n",
        "        <td>13089312</td>\n",
        "        <td>15</td>\n",
        "        <td>1204821</td>\n",
        "        <td>9</td>\n",
        "        <td>0</td>\n",
        "        <td>0</td>\n",
        "        <td>2013-04-01</td>\n",
        "    </tr>\n",
        "</table>"
       ],
       "metadata": {},
       "output_type": "pyout",
       "prompt_number": 12,
       "text": [
        "[(86246, 205, 1208251, 34, 5, 1, u'2013-04-24'),\n",
        " (86252, 205, 1197502, 34, 16, 1, u'2013-03-27'),\n",
        " (12682470, 18, 1197502, 11, 0, 0, u'2013-03-28'),\n",
        " (12996040, 15, 1197502, 9, 0, 0, u'2013-03-25'),\n",
        " (13089312, 15, 1204821, 9, 0, 0, u'2013-04-01')]"
       ]
      }
     ],
     "prompt_number": 12
    },
    {
     "cell_type": "code",
     "collapsed": false,
     "input": [
      "%%sql sqlite:///shopping.db\n",
      "DROP TABLE history_offers"
     ],
     "language": "python",
     "metadata": {},
     "outputs": [
      {
       "output_type": "stream",
       "stream": "stdout",
       "text": [
        "Done.\n"
       ]
      },
      {
       "metadata": {},
       "output_type": "pyout",
       "prompt_number": 13,
       "text": [
        "[]"
       ]
      }
     ],
     "prompt_number": 13
    },
    {
     "cell_type": "code",
     "collapsed": false,
     "input": [
      "%%sql sqlite:///shopping.db\n",
      "SELECT ht.id, offerdate, ht.offer, chain, market\n",
      "    , repeattrips, repeater, category, quantity, company, offervalue, brand \n",
      "FROM history ht\n",
      "JOIN offers ot\n",
      "ON ht.offer = ot.offer\n",
      "LIMIT 10"
     ],
     "language": "python",
     "metadata": {},
     "outputs": [
      {
       "output_type": "stream",
       "stream": "stdout",
       "text": [
        "Done.\n"
       ]
      },
      {
       "html": [
        "<table>\n",
        "    <tr>\n",
        "        <th>id</th>\n",
        "        <th>offerdate</th>\n",
        "        <th>offer</th>\n",
        "        <th>chain</th>\n",
        "        <th>market</th>\n",
        "        <th>repeattrips</th>\n",
        "        <th>repeater</th>\n",
        "        <th>category</th>\n",
        "        <th>quantity</th>\n",
        "        <th>company</th>\n",
        "        <th>offervalue</th>\n",
        "        <th>brand</th>\n",
        "    </tr>\n",
        "    <tr>\n",
        "        <td>86246</td>\n",
        "        <td>2013-04-24</td>\n",
        "        <td>1208251</td>\n",
        "        <td>205</td>\n",
        "        <td>34</td>\n",
        "        <td>5</td>\n",
        "        <td>1</td>\n",
        "        <td>2202</td>\n",
        "        <td>1</td>\n",
        "        <td>104460040</td>\n",
        "        <td>2</td>\n",
        "        <td>3718</td>\n",
        "    </tr>\n",
        "    <tr>\n",
        "        <td>86252</td>\n",
        "        <td>2013-03-27</td>\n",
        "        <td>1197502</td>\n",
        "        <td>205</td>\n",
        "        <td>34</td>\n",
        "        <td>16</td>\n",
        "        <td>1</td>\n",
        "        <td>3203</td>\n",
        "        <td>1</td>\n",
        "        <td>106414464</td>\n",
        "        <td>0.75</td>\n",
        "        <td>13474</td>\n",
        "    </tr>\n",
        "    <tr>\n",
        "        <td>12682470</td>\n",
        "        <td>2013-03-28</td>\n",
        "        <td>1197502</td>\n",
        "        <td>18</td>\n",
        "        <td>11</td>\n",
        "        <td>0</td>\n",
        "        <td>0</td>\n",
        "        <td>3203</td>\n",
        "        <td>1</td>\n",
        "        <td>106414464</td>\n",
        "        <td>0.75</td>\n",
        "        <td>13474</td>\n",
        "    </tr>\n",
        "    <tr>\n",
        "        <td>12996040</td>\n",
        "        <td>2013-03-25</td>\n",
        "        <td>1197502</td>\n",
        "        <td>15</td>\n",
        "        <td>9</td>\n",
        "        <td>0</td>\n",
        "        <td>0</td>\n",
        "        <td>3203</td>\n",
        "        <td>1</td>\n",
        "        <td>106414464</td>\n",
        "        <td>0.75</td>\n",
        "        <td>13474</td>\n",
        "    </tr>\n",
        "    <tr>\n",
        "        <td>13089312</td>\n",
        "        <td>2013-04-01</td>\n",
        "        <td>1204821</td>\n",
        "        <td>15</td>\n",
        "        <td>9</td>\n",
        "        <td>0</td>\n",
        "        <td>0</td>\n",
        "        <td>5619</td>\n",
        "        <td>1</td>\n",
        "        <td>107717272</td>\n",
        "        <td>1.5</td>\n",
        "        <td>102504</td>\n",
        "    </tr>\n",
        "    <tr>\n",
        "        <td>13179265</td>\n",
        "        <td>2013-03-29</td>\n",
        "        <td>1197502</td>\n",
        "        <td>14</td>\n",
        "        <td>8</td>\n",
        "        <td>0</td>\n",
        "        <td>0</td>\n",
        "        <td>3203</td>\n",
        "        <td>1</td>\n",
        "        <td>106414464</td>\n",
        "        <td>0.75</td>\n",
        "        <td>13474</td>\n",
        "    </tr>\n",
        "    <tr>\n",
        "        <td>13251776</td>\n",
        "        <td>2013-03-30</td>\n",
        "        <td>1200581</td>\n",
        "        <td>15</td>\n",
        "        <td>9</td>\n",
        "        <td>0</td>\n",
        "        <td>0</td>\n",
        "        <td>1726</td>\n",
        "        <td>1</td>\n",
        "        <td>104460040</td>\n",
        "        <td>1.25</td>\n",
        "        <td>7668</td>\n",
        "    </tr>\n",
        "    <tr>\n",
        "        <td>13540129</td>\n",
        "        <td>2013-03-30</td>\n",
        "        <td>1200581</td>\n",
        "        <td>14</td>\n",
        "        <td>8</td>\n",
        "        <td>0</td>\n",
        "        <td>0</td>\n",
        "        <td>1726</td>\n",
        "        <td>1</td>\n",
        "        <td>104460040</td>\n",
        "        <td>1.25</td>\n",
        "        <td>7668</td>\n",
        "    </tr>\n",
        "    <tr>\n",
        "        <td>13807224</td>\n",
        "        <td>2013-04-05</td>\n",
        "        <td>1204576</td>\n",
        "        <td>4</td>\n",
        "        <td>1</td>\n",
        "        <td>0</td>\n",
        "        <td>0</td>\n",
        "        <td>5616</td>\n",
        "        <td>1</td>\n",
        "        <td>104610040</td>\n",
        "        <td>1</td>\n",
        "        <td>15889</td>\n",
        "    </tr>\n",
        "    <tr>\n",
        "        <td>13873775</td>\n",
        "        <td>2013-03-26</td>\n",
        "        <td>1197502</td>\n",
        "        <td>4</td>\n",
        "        <td>1</td>\n",
        "        <td>0</td>\n",
        "        <td>0</td>\n",
        "        <td>3203</td>\n",
        "        <td>1</td>\n",
        "        <td>106414464</td>\n",
        "        <td>0.75</td>\n",
        "        <td>13474</td>\n",
        "    </tr>\n",
        "</table>"
       ],
       "metadata": {},
       "output_type": "pyout",
       "prompt_number": 14,
       "text": [
        "[(86246, u'2013-04-24', 1208251, 205, 34, 5, 1, 2202, 1, 104460040, 2, 3718),\n",
        " (86252, u'2013-03-27', 1197502, 205, 34, 16, 1, 3203, 1, 106414464, 0.75, 13474),\n",
        " (12682470, u'2013-03-28', 1197502, 18, 11, 0, 0, 3203, 1, 106414464, 0.75, 13474),\n",
        " (12996040, u'2013-03-25', 1197502, 15, 9, 0, 0, 3203, 1, 106414464, 0.75, 13474),\n",
        " (13089312, u'2013-04-01', 1204821, 15, 9, 0, 0, 5619, 1, 107717272, 1.5, 102504),\n",
        " (13179265, u'2013-03-29', 1197502, 14, 8, 0, 0, 3203, 1, 106414464, 0.75, 13474),\n",
        " (13251776, u'2013-03-30', 1200581, 15, 9, 0, 0, 1726, 1, 104460040, 1.25, 7668),\n",
        " (13540129, u'2013-03-30', 1200581, 14, 8, 0, 0, 1726, 1, 104460040, 1.25, 7668),\n",
        " (13807224, u'2013-04-05', 1204576, 4, 1, 0, 0, 5616, 1, 104610040, 1, 15889),\n",
        " (13873775, u'2013-03-26', 1197502, 4, 1, 0, 0, 3203, 1, 106414464, 0.75, 13474)]"
       ]
      }
     ],
     "prompt_number": 14
    },
    {
     "cell_type": "code",
     "collapsed": false,
     "input": [
      "%%sql sqlite:///shopping.db\n",
      "CREATE TABLE history_offers AS\n",
      "SELECT ht.id, offerdate, ht.offer, chain, market\n",
      "    , repeattrips, repeater\n",
      "    , category, quantity, company, offervalue, brand \n",
      "FROM history ht\n",
      "JOIN offers ot\n",
      "ON ht.offer = ot.offer"
     ],
     "language": "python",
     "metadata": {},
     "outputs": [
      {
       "output_type": "stream",
       "stream": "stdout",
       "text": [
        "Done.\n"
       ]
      },
      {
       "metadata": {},
       "output_type": "pyout",
       "prompt_number": 15,
       "text": [
        "[]"
       ]
      }
     ],
     "prompt_number": 15
    },
    {
     "cell_type": "code",
     "collapsed": false,
     "input": [
      "%%sql sqlite:///shopping.db\n",
      "SELECT * FROM history_offers LIMIT 10"
     ],
     "language": "python",
     "metadata": {},
     "outputs": [
      {
       "output_type": "stream",
       "stream": "stdout",
       "text": [
        "Done.\n"
       ]
      },
      {
       "html": [
        "<table>\n",
        "    <tr>\n",
        "        <th>id</th>\n",
        "        <th>offerdate</th>\n",
        "        <th>offer</th>\n",
        "        <th>chain</th>\n",
        "        <th>market</th>\n",
        "        <th>repeattrips</th>\n",
        "        <th>repeater</th>\n",
        "        <th>category</th>\n",
        "        <th>quantity</th>\n",
        "        <th>company</th>\n",
        "        <th>offervalue</th>\n",
        "        <th>brand</th>\n",
        "    </tr>\n",
        "    <tr>\n",
        "        <td>86246</td>\n",
        "        <td>2013-04-24</td>\n",
        "        <td>1208251</td>\n",
        "        <td>205</td>\n",
        "        <td>34</td>\n",
        "        <td>5</td>\n",
        "        <td>1</td>\n",
        "        <td>2202</td>\n",
        "        <td>1</td>\n",
        "        <td>104460040</td>\n",
        "        <td>2</td>\n",
        "        <td>3718</td>\n",
        "    </tr>\n",
        "    <tr>\n",
        "        <td>86252</td>\n",
        "        <td>2013-03-27</td>\n",
        "        <td>1197502</td>\n",
        "        <td>205</td>\n",
        "        <td>34</td>\n",
        "        <td>16</td>\n",
        "        <td>1</td>\n",
        "        <td>3203</td>\n",
        "        <td>1</td>\n",
        "        <td>106414464</td>\n",
        "        <td>0.75</td>\n",
        "        <td>13474</td>\n",
        "    </tr>\n",
        "    <tr>\n",
        "        <td>12682470</td>\n",
        "        <td>2013-03-28</td>\n",
        "        <td>1197502</td>\n",
        "        <td>18</td>\n",
        "        <td>11</td>\n",
        "        <td>0</td>\n",
        "        <td>0</td>\n",
        "        <td>3203</td>\n",
        "        <td>1</td>\n",
        "        <td>106414464</td>\n",
        "        <td>0.75</td>\n",
        "        <td>13474</td>\n",
        "    </tr>\n",
        "    <tr>\n",
        "        <td>12996040</td>\n",
        "        <td>2013-03-25</td>\n",
        "        <td>1197502</td>\n",
        "        <td>15</td>\n",
        "        <td>9</td>\n",
        "        <td>0</td>\n",
        "        <td>0</td>\n",
        "        <td>3203</td>\n",
        "        <td>1</td>\n",
        "        <td>106414464</td>\n",
        "        <td>0.75</td>\n",
        "        <td>13474</td>\n",
        "    </tr>\n",
        "    <tr>\n",
        "        <td>13089312</td>\n",
        "        <td>2013-04-01</td>\n",
        "        <td>1204821</td>\n",
        "        <td>15</td>\n",
        "        <td>9</td>\n",
        "        <td>0</td>\n",
        "        <td>0</td>\n",
        "        <td>5619</td>\n",
        "        <td>1</td>\n",
        "        <td>107717272</td>\n",
        "        <td>1.5</td>\n",
        "        <td>102504</td>\n",
        "    </tr>\n",
        "    <tr>\n",
        "        <td>13179265</td>\n",
        "        <td>2013-03-29</td>\n",
        "        <td>1197502</td>\n",
        "        <td>14</td>\n",
        "        <td>8</td>\n",
        "        <td>0</td>\n",
        "        <td>0</td>\n",
        "        <td>3203</td>\n",
        "        <td>1</td>\n",
        "        <td>106414464</td>\n",
        "        <td>0.75</td>\n",
        "        <td>13474</td>\n",
        "    </tr>\n",
        "    <tr>\n",
        "        <td>13251776</td>\n",
        "        <td>2013-03-30</td>\n",
        "        <td>1200581</td>\n",
        "        <td>15</td>\n",
        "        <td>9</td>\n",
        "        <td>0</td>\n",
        "        <td>0</td>\n",
        "        <td>1726</td>\n",
        "        <td>1</td>\n",
        "        <td>104460040</td>\n",
        "        <td>1.25</td>\n",
        "        <td>7668</td>\n",
        "    </tr>\n",
        "    <tr>\n",
        "        <td>13540129</td>\n",
        "        <td>2013-03-30</td>\n",
        "        <td>1200581</td>\n",
        "        <td>14</td>\n",
        "        <td>8</td>\n",
        "        <td>0</td>\n",
        "        <td>0</td>\n",
        "        <td>1726</td>\n",
        "        <td>1</td>\n",
        "        <td>104460040</td>\n",
        "        <td>1.25</td>\n",
        "        <td>7668</td>\n",
        "    </tr>\n",
        "    <tr>\n",
        "        <td>13807224</td>\n",
        "        <td>2013-04-05</td>\n",
        "        <td>1204576</td>\n",
        "        <td>4</td>\n",
        "        <td>1</td>\n",
        "        <td>0</td>\n",
        "        <td>0</td>\n",
        "        <td>5616</td>\n",
        "        <td>1</td>\n",
        "        <td>104610040</td>\n",
        "        <td>1</td>\n",
        "        <td>15889</td>\n",
        "    </tr>\n",
        "    <tr>\n",
        "        <td>13873775</td>\n",
        "        <td>2013-03-26</td>\n",
        "        <td>1197502</td>\n",
        "        <td>4</td>\n",
        "        <td>1</td>\n",
        "        <td>0</td>\n",
        "        <td>0</td>\n",
        "        <td>3203</td>\n",
        "        <td>1</td>\n",
        "        <td>106414464</td>\n",
        "        <td>0.75</td>\n",
        "        <td>13474</td>\n",
        "    </tr>\n",
        "</table>"
       ],
       "metadata": {},
       "output_type": "pyout",
       "prompt_number": 16,
       "text": [
        "[(86246, u'2013-04-24', 1208251, 205, 34, 5, 1, 2202, 1, 104460040, 2, 3718),\n",
        " (86252, u'2013-03-27', 1197502, 205, 34, 16, 1, 3203, 1, 106414464, 0.75, 13474),\n",
        " (12682470, u'2013-03-28', 1197502, 18, 11, 0, 0, 3203, 1, 106414464, 0.75, 13474),\n",
        " (12996040, u'2013-03-25', 1197502, 15, 9, 0, 0, 3203, 1, 106414464, 0.75, 13474),\n",
        " (13089312, u'2013-04-01', 1204821, 15, 9, 0, 0, 5619, 1, 107717272, 1.5, 102504),\n",
        " (13179265, u'2013-03-29', 1197502, 14, 8, 0, 0, 3203, 1, 106414464, 0.75, 13474),\n",
        " (13251776, u'2013-03-30', 1200581, 15, 9, 0, 0, 1726, 1, 104460040, 1.25, 7668),\n",
        " (13540129, u'2013-03-30', 1200581, 14, 8, 0, 0, 1726, 1, 104460040, 1.25, 7668),\n",
        " (13807224, u'2013-04-05', 1204576, 4, 1, 0, 0, 5616, 1, 104610040, 1, 15889),\n",
        " (13873775, u'2013-03-26', 1197502, 4, 1, 0, 0, 3203, 1, 106414464, 0.75, 13474)]"
       ]
      }
     ],
     "prompt_number": 16
    },
    {
     "cell_type": "code",
     "collapsed": false,
     "input": [
      "%%sql sqlite:///shopping.db\n",
      "SELECT COUNT(DISTINCT id) AS num_shoppers FROM history_offers"
     ],
     "language": "python",
     "metadata": {},
     "outputs": [
      {
       "output_type": "stream",
       "stream": "stdout",
       "text": [
        "Done.\n"
       ]
      },
      {
       "html": [
        "<table>\n",
        "    <tr>\n",
        "        <th>num_shoppers</th>\n",
        "    </tr>\n",
        "    <tr>\n",
        "        <td>160057</td>\n",
        "    </tr>\n",
        "</table>"
       ],
       "metadata": {},
       "output_type": "pyout",
       "prompt_number": 19,
       "text": [
        "[(160057,)]"
       ]
      }
     ],
     "prompt_number": 19
    },
    {
     "cell_type": "code",
     "collapsed": false,
     "input": [
      "%%sql sqlite:///shopping.db\n",
      "SELECT COUNT(1) AS num_rows FROM history_offers"
     ],
     "language": "python",
     "metadata": {},
     "outputs": [
      {
       "output_type": "stream",
       "stream": "stdout",
       "text": [
        "Done.\n"
       ]
      },
      {
       "html": [
        "<table>\n",
        "    <tr>\n",
        "        <th>num_rows</th>\n",
        "    </tr>\n",
        "    <tr>\n",
        "        <td>160057</td>\n",
        "    </tr>\n",
        "</table>"
       ],
       "metadata": {},
       "output_type": "pyout",
       "prompt_number": 18,
       "text": [
        "[(160057,)]"
       ]
      }
     ],
     "prompt_number": 18
    },
    {
     "cell_type": "markdown",
     "metadata": {},
     "source": [
      "# DID SOME DATA VIZ, CAME BACK\n",
      "# ESTABLISH NEW TABLE, ADD MORE VARIABLES"
     ]
    },
    {
     "cell_type": "code",
     "collapsed": false,
     "input": [
      "%%sql sqlite:///shopping.db\n",
      "CREATE TABLE shopvars AS\n",
      "SELECT id, repeater, repeattrips\n",
      "    , offerdate, offer, chain, market\n",
      "    , category, quantity, company, offervalue, brand\n",
      "FROM history_offers"
     ],
     "language": "python",
     "metadata": {},
     "outputs": [
      {
       "output_type": "stream",
       "stream": "stdout",
       "text": [
        "Done.\n"
       ]
      },
      {
       "metadata": {},
       "output_type": "pyout",
       "prompt_number": 27,
       "text": [
        "[]"
       ]
      }
     ],
     "prompt_number": 27
    },
    {
     "cell_type": "code",
     "collapsed": false,
     "input": [
      "%%sql sqlite:///shopping.db\n",
      "DROP TABLE shopvars"
     ],
     "language": "python",
     "metadata": {},
     "outputs": [
      {
       "output_type": "stream",
       "stream": "stdout",
       "text": [
        "Done.\n"
       ]
      },
      {
       "metadata": {},
       "output_type": "pyout",
       "prompt_number": 25,
       "text": [
        "[]"
       ]
      }
     ],
     "prompt_number": 25
    },
    {
     "cell_type": "code",
     "collapsed": false,
     "input": [
      "%%sql sqlite:///shopping.db\n",
      "CREATE TABLE shopview AS\n",
      "SELECT sh.*, tr.num_purchases\n",
      "FROM shopvars sh\n",
      "LEFT JOIN\n",
      "    (\n",
      "    SELECT transactions0.id, COUNT(1) AS num_purchases\n",
      "    FROM transactions0\n",
      "    INNER JOIN shopvars\n",
      "    ON transactions0.id = shopvars.id\n",
      "    GROUP BY 1\n",
      "    ) tr\n",
      "ON sh.id = tr.id"
     ],
     "language": "python",
     "metadata": {},
     "outputs": [
      {
       "output_type": "stream",
       "stream": "stdout",
       "text": [
        "Done.\n"
       ]
      },
      {
       "metadata": {},
       "output_type": "pyout",
       "prompt_number": 30,
       "text": [
        "[]"
       ]
      }
     ],
     "prompt_number": 30
    },
    {
     "cell_type": "code",
     "collapsed": false,
     "input": [
      "%%sql sqlite:///shopping.db\n",
      "DROP TABLE shopvars"
     ],
     "language": "python",
     "metadata": {},
     "outputs": [
      {
       "output_type": "stream",
       "stream": "stdout",
       "text": [
        "Done.\n"
       ]
      },
      {
       "metadata": {},
       "output_type": "pyout",
       "prompt_number": 32,
       "text": [
        "[]"
       ]
      }
     ],
     "prompt_number": 32
    },
    {
     "cell_type": "code",
     "collapsed": false,
     "input": [
      "%%sql sqlite:///shopping.db\n",
      "CREATE TABLE shopvars AS\n",
      "SELECT * FROM shopview"
     ],
     "language": "python",
     "metadata": {},
     "outputs": [
      {
       "output_type": "stream",
       "stream": "stdout",
       "text": [
        "Done.\n"
       ]
      },
      {
       "metadata": {},
       "output_type": "pyout",
       "prompt_number": 35,
       "text": [
        "[]"
       ]
      }
     ],
     "prompt_number": 35
    },
    {
     "cell_type": "code",
     "collapsed": false,
     "input": [
      "%%sql sqlite:///shopping.db\n",
      "DROP TABLE shopview"
     ],
     "language": "python",
     "metadata": {},
     "outputs": [
      {
       "output_type": "stream",
       "stream": "stdout",
       "text": [
        "Done.\n"
       ]
      },
      {
       "metadata": {},
       "output_type": "pyout",
       "prompt_number": 36,
       "text": [
        "[]"
       ]
      }
     ],
     "prompt_number": 36
    },
    {
     "cell_type": "code",
     "collapsed": false,
     "input": [
      "%%sql sqlite:///shopping.db\n",
      "CREATE TABLE shopview AS\n",
      "SELECT sh.*, tr.num_trips\n",
      "FROM shopvars sh\n",
      "LEFT JOIN\n",
      "    (\n",
      "    SELECT transactions0.id, COUNT(DISTINCT date) AS num_trips\n",
      "    FROM transactions0\n",
      "    INNER JOIN shopvars\n",
      "    ON transactions0.id = shopvars.id\n",
      "    GROUP BY 1\n",
      "    ) tr\n",
      "ON sh.id = tr.id"
     ],
     "language": "python",
     "metadata": {},
     "outputs": [
      {
       "output_type": "stream",
       "stream": "stdout",
       "text": [
        "Done.\n"
       ]
      },
      {
       "metadata": {},
       "output_type": "pyout",
       "prompt_number": 39,
       "text": [
        "[]"
       ]
      }
     ],
     "prompt_number": 39
    },
    {
     "cell_type": "code",
     "collapsed": false,
     "input": [
      "%%sql sqlite:///shopping.db\n",
      "SELECT * FROM shopview LIMIT 3"
     ],
     "language": "python",
     "metadata": {},
     "outputs": [
      {
       "output_type": "stream",
       "stream": "stdout",
       "text": [
        "Done.\n"
       ]
      },
      {
       "html": [
        "<table>\n",
        "    <tr>\n",
        "        <th>id</th>\n",
        "        <th>repeater</th>\n",
        "        <th>repeattrips</th>\n",
        "        <th>offerdate</th>\n",
        "        <th>offer</th>\n",
        "        <th>chain</th>\n",
        "        <th>market</th>\n",
        "        <th>category</th>\n",
        "        <th>quantity</th>\n",
        "        <th>company</th>\n",
        "        <th>offervalue</th>\n",
        "        <th>brand</th>\n",
        "        <th>num_purchases</th>\n",
        "        <th>num_trips</th>\n",
        "        <th>min_date</th>\n",
        "        <th>max_date</th>\n",
        "        <th>offer_delay</th>\n",
        "        <th>shopper_age</th>\n",
        "        <th>shopper_lifetime</th>\n",
        "        <th>total_purs_spend</th>\n",
        "    </tr>\n",
        "    <tr>\n",
        "        <td>86246</td>\n",
        "        <td>1</td>\n",
        "        <td>5</td>\n",
        "        <td>2013-04-24</td>\n",
        "        <td>1208251</td>\n",
        "        <td>205</td>\n",
        "        <td>34</td>\n",
        "        <td>2202</td>\n",
        "        <td>1</td>\n",
        "        <td>104460040</td>\n",
        "        <td>2</td>\n",
        "        <td>3718</td>\n",
        "        <td>None</td>\n",
        "        <td>None</td>\n",
        "        <td>None</td>\n",
        "        <td>None</td>\n",
        "        <td>None</td>\n",
        "        <td>None</td>\n",
        "        <td>None</td>\n",
        "        <td>None</td>\n",
        "    </tr>\n",
        "    <tr>\n",
        "        <td>86252</td>\n",
        "        <td>1</td>\n",
        "        <td>16</td>\n",
        "        <td>2013-03-27</td>\n",
        "        <td>1197502</td>\n",
        "        <td>205</td>\n",
        "        <td>34</td>\n",
        "        <td>3203</td>\n",
        "        <td>1</td>\n",
        "        <td>106414464</td>\n",
        "        <td>0.75</td>\n",
        "        <td>13474</td>\n",
        "        <td>None</td>\n",
        "        <td>None</td>\n",
        "        <td>None</td>\n",
        "        <td>None</td>\n",
        "        <td>None</td>\n",
        "        <td>None</td>\n",
        "        <td>None</td>\n",
        "        <td>None</td>\n",
        "    </tr>\n",
        "    <tr>\n",
        "        <td>12682470</td>\n",
        "        <td>0</td>\n",
        "        <td>0</td>\n",
        "        <td>2013-03-28</td>\n",
        "        <td>1197502</td>\n",
        "        <td>18</td>\n",
        "        <td>11</td>\n",
        "        <td>3203</td>\n",
        "        <td>1</td>\n",
        "        <td>106414464</td>\n",
        "        <td>0.75</td>\n",
        "        <td>13474</td>\n",
        "        <td>None</td>\n",
        "        <td>None</td>\n",
        "        <td>None</td>\n",
        "        <td>None</td>\n",
        "        <td>None</td>\n",
        "        <td>None</td>\n",
        "        <td>None</td>\n",
        "        <td>None</td>\n",
        "    </tr>\n",
        "</table>"
       ],
       "metadata": {},
       "output_type": "pyout",
       "prompt_number": 65,
       "text": [
        "[(86246, 1, 5, u'2013-04-24', 1208251, 205, 34, 2202, 1, 104460040, 2, 3718, None, None, None, None, None, None, None, None),\n",
        " (86252, 1, 16, u'2013-03-27', 1197502, 205, 34, 3203, 1, 106414464, 0.75, 13474, None, None, None, None, None, None, None, None),\n",
        " (12682470, 0, 0, u'2013-03-28', 1197502, 18, 11, 3203, 1, 106414464, 0.75, 13474, None, None, None, None, None, None, None, None)]"
       ]
      }
     ],
     "prompt_number": 65
    },
    {
     "cell_type": "code",
     "collapsed": false,
     "input": [],
     "language": "python",
     "metadata": {},
     "outputs": []
    },
    {
     "cell_type": "code",
     "collapsed": false,
     "input": [
      "%%sql sqlite:///shopping.db\n",
      "DROP TABLE shopvars"
     ],
     "language": "python",
     "metadata": {},
     "outputs": [
      {
       "output_type": "stream",
       "stream": "stdout",
       "text": [
        "Done.\n"
       ]
      },
      {
       "metadata": {},
       "output_type": "pyout",
       "prompt_number": 42,
       "text": [
        "[]"
       ]
      }
     ],
     "prompt_number": 42
    },
    {
     "cell_type": "code",
     "collapsed": false,
     "input": [
      "%%sql sqlite:///shopping.db\n",
      "CREATE TABLE shopvars AS\n",
      "SELECT * FROM shopview"
     ],
     "language": "python",
     "metadata": {},
     "outputs": [
      {
       "output_type": "stream",
       "stream": "stdout",
       "text": [
        "Done.\n"
       ]
      },
      {
       "metadata": {},
       "output_type": "pyout",
       "prompt_number": 43,
       "text": [
        "[]"
       ]
      }
     ],
     "prompt_number": 43
    },
    {
     "cell_type": "code",
     "collapsed": false,
     "input": [
      "%%sql sqlite:///shopping.db\n",
      "DROP TABLE shopview"
     ],
     "language": "python",
     "metadata": {},
     "outputs": [
      {
       "output_type": "stream",
       "stream": "stdout",
       "text": [
        "(OperationalError) no such table: shopview u'DROP TABLE shopview' ()\n"
       ]
      }
     ],
     "prompt_number": 57
    },
    {
     "cell_type": "code",
     "collapsed": false,
     "input": [
      "%%sql sqlite:///shopping.db\n",
      "CREATE TABLE shopview AS\n",
      "SELECT sh.*, tr.min_date, tr.max_date\n",
      "    , (strftime('%s',sh.offerdate) - strftime('%s',tr.max_date))/(3600*24) AS offer_delay\n",
      "    , (strftime('%s',sh.offerdate) - strftime('%s',tr.min_date))/(3600*24) AS shopper_age\n",
      "    , (strftime('%s',tr.max_date) - strftime('%s',tr.min_date))/(3600*24) AS shopper_lifetime\n",
      "    , total_purs_spend\n",
      "FROM shopvars sh\n",
      "LEFT JOIN\n",
      "    (\n",
      "    SELECT transactions0.id, MIN(date) AS min_date, MAX(date) AS max_date\n",
      "        , SUM(purchaseamount) AS total_purs_spend\n",
      "    FROM transactions0\n",
      "    INNER JOIN shopvars\n",
      "    ON transactions0.id = shopvars.id\n",
      "    GROUP BY 1\n",
      "    ) tr\n",
      "ON sh.id = tr.id"
     ],
     "language": "python",
     "metadata": {},
     "outputs": [
      {
       "output_type": "stream",
       "stream": "stdout",
       "text": [
        "Done.\n"
       ]
      },
      {
       "metadata": {},
       "output_type": "pyout",
       "prompt_number": 58,
       "text": [
        "[]"
       ]
      }
     ],
     "prompt_number": 58
    },
    {
     "cell_type": "code",
     "collapsed": false,
     "input": [
      "%%sql sqlite:///shopping.db\n",
      "SELECT * FROM shopview LIMIT 4"
     ],
     "language": "python",
     "metadata": {},
     "outputs": [
      {
       "output_type": "stream",
       "stream": "stdout",
       "text": [
        "(OperationalError) no such table: shopview u'SELECT * FROM shopview LIMIT 4' ()\n"
       ]
      }
     ],
     "prompt_number": 63
    },
    {
     "cell_type": "code",
     "collapsed": false,
     "input": [
      "%%sql sqlite:///shopping.db\n",
      "DROP TABLE shopvars"
     ],
     "language": "python",
     "metadata": {},
     "outputs": [
      {
       "output_type": "stream",
       "stream": "stdout",
       "text": [
        "Done.\n"
       ]
      },
      {
       "metadata": {},
       "output_type": "pyout",
       "prompt_number": 60,
       "text": [
        "[]"
       ]
      }
     ],
     "prompt_number": 60
    },
    {
     "cell_type": "code",
     "collapsed": false,
     "input": [
      "%%sql sqlite:///shopping.db\n",
      "CREATE TABLE shopvars AS\n",
      "SELECT * FROM shopview"
     ],
     "language": "python",
     "metadata": {},
     "outputs": [
      {
       "output_type": "stream",
       "stream": "stdout",
       "text": [
        "Done.\n"
       ]
      },
      {
       "metadata": {},
       "output_type": "pyout",
       "prompt_number": 61,
       "text": [
        "[]"
       ]
      }
     ],
     "prompt_number": 61
    },
    {
     "cell_type": "code",
     "collapsed": false,
     "input": [
      "%%sql sqlite:///shopping.db\n",
      "DROP TABLE shopview"
     ],
     "language": "python",
     "metadata": {},
     "outputs": [
      {
       "output_type": "stream",
       "stream": "stdout",
       "text": [
        "Done.\n"
       ]
      },
      {
       "metadata": {},
       "output_type": "pyout",
       "prompt_number": 62,
       "text": [
        "[]"
       ]
      }
     ],
     "prompt_number": 62
    },
    {
     "cell_type": "code",
     "collapsed": false,
     "input": [
      "%%sql sqlite:///shopping.db\n",
      "-- Number of times each shopper had purchased the offer category before\n",
      "\n",
      "SELECT id_trans\n",
      "    , MAX(CASE WHEN id_offer IS NOT NULL THEN num_purchases ELSE 0 END) AS num_match_cats\n",
      "FROM\n",
      "    (\n",
      "    SELECT trans.id AS id_trans, ho.id AS id_offer, num_purchases\n",
      "    FROM\n",
      "        (\n",
      "        SELECT id, category, COUNT(1) AS num_purchases\n",
      "        FROM transactions0\n",
      "        GROUP BY 1, 2\n",
      "        ) trans\n",
      "    LEFT JOIN\n",
      "        (\n",
      "        SELECT DISTINCT id, category\n",
      "        FROM history_offers\n",
      "        ) ho\n",
      "    ON trans.id = ho.id\n",
      "    AND trans.category = ho.category\n",
      "    ) m\n",
      "GROUP BY 1\n",
      "LIMIT 10"
     ],
     "language": "python",
     "metadata": {},
     "outputs": [
      {
       "output_type": "stream",
       "stream": "stdout",
       "text": [
        "Done.\n"
       ]
      },
      {
       "html": [
        "<table>\n",
        "    <tr>\n",
        "        <th>id_trans</th>\n",
        "        <th>num_purchases_category</th>\n",
        "    </tr>\n",
        "    <tr>\n",
        "        <td>13089312</td>\n",
        "        <td>0</td>\n",
        "    </tr>\n",
        "    <tr>\n",
        "        <td>13251776</td>\n",
        "        <td>10</td>\n",
        "    </tr>\n",
        "    <tr>\n",
        "        <td>17041984</td>\n",
        "        <td>0</td>\n",
        "    </tr>\n",
        "    <tr>\n",
        "        <td>17486592</td>\n",
        "        <td>1</td>\n",
        "    </tr>\n",
        "    <tr>\n",
        "        <td>21603296</td>\n",
        "        <td>0</td>\n",
        "    </tr>\n",
        "    <tr>\n",
        "        <td>23194432</td>\n",
        "        <td>0</td>\n",
        "    </tr>\n",
        "    <tr>\n",
        "        <td>48445984</td>\n",
        "        <td>0</td>\n",
        "    </tr>\n",
        "    <tr>\n",
        "        <td>48747840</td>\n",
        "        <td>0</td>\n",
        "    </tr>\n",
        "    <tr>\n",
        "        <td>48991232</td>\n",
        "        <td>0</td>\n",
        "    </tr>\n",
        "    <tr>\n",
        "        <td>49315424</td>\n",
        "        <td>2</td>\n",
        "    </tr>\n",
        "</table>"
       ],
       "metadata": {},
       "output_type": "pyout",
       "prompt_number": 66,
       "text": [
        "[(13089312, 0),\n",
        " (13251776, 10),\n",
        " (17041984, 0),\n",
        " (17486592, 1),\n",
        " (21603296, 0),\n",
        " (23194432, 0),\n",
        " (48445984, 0),\n",
        " (48747840, 0),\n",
        " (48991232, 0),\n",
        " (49315424, 2)]"
       ]
      }
     ],
     "prompt_number": 66
    },
    {
     "cell_type": "code",
     "collapsed": false,
     "input": [
      "%%sql sqlite:///shopping.db\n",
      "CREATE TABLE shopview AS\n",
      "SELECT sh.*, COALESCE(tr.num_purchases,0) AS num_match_cats\n",
      "FROM shopvars sh\n",
      "LEFT JOIN\n",
      "    (\n",
      "    SELECT tr0.id, tr0.category, COUNT(1) AS num_purchases\n",
      "    FROM transactions0 tr0\n",
      "    INNER JOIN shopvars\n",
      "    ON tr0.id = shopvars.id\n",
      "    AND tr0.category = shopvars.category\n",
      "    GROUP BY 1, 2\n",
      "    ) tr\n",
      "ON sh.id = tr.id"
     ],
     "language": "python",
     "metadata": {},
     "outputs": [
      {
       "output_type": "stream",
       "stream": "stdout",
       "text": [
        "Done.\n"
       ]
      },
      {
       "metadata": {},
       "output_type": "pyout",
       "prompt_number": 73,
       "text": [
        "[]"
       ]
      }
     ],
     "prompt_number": 73
    },
    {
     "cell_type": "code",
     "collapsed": false,
     "input": [
      "%%sql sqlite:///shopping.db\n",
      "DROP TABLE shopvars"
     ],
     "language": "python",
     "metadata": {},
     "outputs": [
      {
       "output_type": "stream",
       "stream": "stdout",
       "text": [
        "Done.\n"
       ]
      },
      {
       "metadata": {},
       "output_type": "pyout",
       "prompt_number": 75,
       "text": [
        "[]"
       ]
      }
     ],
     "prompt_number": 75
    },
    {
     "cell_type": "code",
     "collapsed": false,
     "input": [
      "%%sql sqlite:///shopping.db\n",
      "CREATE TABLE shopvars AS\n",
      "SELECT * FROM shopview"
     ],
     "language": "python",
     "metadata": {},
     "outputs": [
      {
       "output_type": "stream",
       "stream": "stdout",
       "text": [
        "Done.\n"
       ]
      },
      {
       "metadata": {},
       "output_type": "pyout",
       "prompt_number": 76,
       "text": [
        "[]"
       ]
      }
     ],
     "prompt_number": 76
    },
    {
     "cell_type": "code",
     "collapsed": false,
     "input": [
      "%%sql sqlite:///shopping.db\n",
      "DROP TABLE shopview"
     ],
     "language": "python",
     "metadata": {},
     "outputs": [
      {
       "output_type": "stream",
       "stream": "stdout",
       "text": [
        "Done.\n"
       ]
      },
      {
       "metadata": {},
       "output_type": "pyout",
       "prompt_number": 77,
       "text": [
        "[]"
       ]
      }
     ],
     "prompt_number": 77
    },
    {
     "cell_type": "code",
     "collapsed": false,
     "input": [
      "%%sql sqlite:///shopping.db\n",
      "CREATE TABLE shopview AS\n",
      "SELECT sh.*, COALESCE(tr.num_purchases,0) AS num_match_brand\n",
      "FROM shopvars sh\n",
      "LEFT JOIN\n",
      "    (\n",
      "    SELECT tr0.id, tr0.brand, COUNT(1) AS num_purchases\n",
      "    FROM transactions0 tr0\n",
      "    INNER JOIN shopvars\n",
      "    ON tr0.id = shopvars.id\n",
      "    AND tr0.brand = shopvars.brand\n",
      "    GROUP BY 1, 2\n",
      "    ) tr\n",
      "ON sh.id = tr.id"
     ],
     "language": "python",
     "metadata": {},
     "outputs": [
      {
       "output_type": "stream",
       "stream": "stdout",
       "text": [
        "Done.\n"
       ]
      },
      {
       "metadata": {},
       "output_type": "pyout",
       "prompt_number": 81,
       "text": [
        "[]"
       ]
      }
     ],
     "prompt_number": 81
    },
    {
     "cell_type": "code",
     "collapsed": false,
     "input": [
      "%%sql sqlite:///shopping.db\n",
      "DROP TABLE shopvars"
     ],
     "language": "python",
     "metadata": {},
     "outputs": [
      {
       "output_type": "stream",
       "stream": "stdout",
       "text": [
        "Done.\n"
       ]
      },
      {
       "metadata": {},
       "output_type": "pyout",
       "prompt_number": 82,
       "text": [
        "[]"
       ]
      }
     ],
     "prompt_number": 82
    },
    {
     "cell_type": "code",
     "collapsed": false,
     "input": [
      "%%sql sqlite:///shopping.db\n",
      "CREATE TABLE shopvars AS\n",
      "SELECT id, repeater, repeattrips, offerdate, offer\n",
      "    , chain, market, category, quantity, company\n",
      "    , offervalue, brand, num_purchases, num_trips, min_date, max_date, offer_delay\n",
      "    , shopper_age, shopper_lifetime, total_purs_spend\n",
      "    , num_match_cats AS num_match_cat\n",
      "    , num_match_brand\n",
      "FROM shopview"
     ],
     "language": "python",
     "metadata": {},
     "outputs": [
      {
       "output_type": "stream",
       "stream": "stdout",
       "text": [
        "Done.\n"
       ]
      },
      {
       "metadata": {},
       "output_type": "pyout",
       "prompt_number": 86,
       "text": [
        "[]"
       ]
      }
     ],
     "prompt_number": 86
    },
    {
     "cell_type": "code",
     "collapsed": false,
     "input": [
      "%%sql sqlite:///shopping.db\n",
      "DROP TABLE shopview"
     ],
     "language": "python",
     "metadata": {},
     "outputs": [
      {
       "output_type": "stream",
       "stream": "stdout",
       "text": [
        "Done.\n"
       ]
      },
      {
       "metadata": {},
       "output_type": "pyout",
       "prompt_number": 88,
       "text": [
        "[]"
       ]
      }
     ],
     "prompt_number": 88
    },
    {
     "cell_type": "code",
     "collapsed": false,
     "input": [
      "%%sql sqlite:///shopping.db\n",
      "SELECT * FROM shopvars LIMIT 3"
     ],
     "language": "python",
     "metadata": {},
     "outputs": [
      {
       "output_type": "stream",
       "stream": "stdout",
       "text": [
        "Done.\n"
       ]
      },
      {
       "html": [
        "<table>\n",
        "    <tr>\n",
        "        <th>id</th>\n",
        "        <th>repeater</th>\n",
        "        <th>repeattrips</th>\n",
        "        <th>offerdate</th>\n",
        "        <th>offer</th>\n",
        "        <th>chain</th>\n",
        "        <th>market</th>\n",
        "        <th>category</th>\n",
        "        <th>quantity</th>\n",
        "        <th>company</th>\n",
        "        <th>offervalue</th>\n",
        "        <th>brand</th>\n",
        "        <th>num_purchases</th>\n",
        "        <th>num_trips</th>\n",
        "        <th>min_date</th>\n",
        "        <th>max_date</th>\n",
        "        <th>offer_delay</th>\n",
        "        <th>shopper_age</th>\n",
        "        <th>shopper_lifetime</th>\n",
        "        <th>total_purs_spend</th>\n",
        "        <th>num_match_cat</th>\n",
        "        <th>num_match_brand</th>\n",
        "    </tr>\n",
        "    <tr>\n",
        "        <td>86246</td>\n",
        "        <td>1</td>\n",
        "        <td>5</td>\n",
        "        <td>2013-04-24</td>\n",
        "        <td>1208251</td>\n",
        "        <td>205</td>\n",
        "        <td>34</td>\n",
        "        <td>2202</td>\n",
        "        <td>1</td>\n",
        "        <td>104460040</td>\n",
        "        <td>2</td>\n",
        "        <td>3718</td>\n",
        "        <td>None</td>\n",
        "        <td>None</td>\n",
        "        <td>None</td>\n",
        "        <td>None</td>\n",
        "        <td>None</td>\n",
        "        <td>None</td>\n",
        "        <td>None</td>\n",
        "        <td>None</td>\n",
        "        <td>0</td>\n",
        "        <td>0</td>\n",
        "    </tr>\n",
        "    <tr>\n",
        "        <td>86252</td>\n",
        "        <td>1</td>\n",
        "        <td>16</td>\n",
        "        <td>2013-03-27</td>\n",
        "        <td>1197502</td>\n",
        "        <td>205</td>\n",
        "        <td>34</td>\n",
        "        <td>3203</td>\n",
        "        <td>1</td>\n",
        "        <td>106414464</td>\n",
        "        <td>0.75</td>\n",
        "        <td>13474</td>\n",
        "        <td>None</td>\n",
        "        <td>None</td>\n",
        "        <td>None</td>\n",
        "        <td>None</td>\n",
        "        <td>None</td>\n",
        "        <td>None</td>\n",
        "        <td>None</td>\n",
        "        <td>None</td>\n",
        "        <td>0</td>\n",
        "        <td>0</td>\n",
        "    </tr>\n",
        "    <tr>\n",
        "        <td>12682470</td>\n",
        "        <td>0</td>\n",
        "        <td>0</td>\n",
        "        <td>2013-03-28</td>\n",
        "        <td>1197502</td>\n",
        "        <td>18</td>\n",
        "        <td>11</td>\n",
        "        <td>3203</td>\n",
        "        <td>1</td>\n",
        "        <td>106414464</td>\n",
        "        <td>0.75</td>\n",
        "        <td>13474</td>\n",
        "        <td>None</td>\n",
        "        <td>None</td>\n",
        "        <td>None</td>\n",
        "        <td>None</td>\n",
        "        <td>None</td>\n",
        "        <td>None</td>\n",
        "        <td>None</td>\n",
        "        <td>None</td>\n",
        "        <td>0</td>\n",
        "        <td>0</td>\n",
        "    </tr>\n",
        "</table>"
       ],
       "metadata": {},
       "output_type": "pyout",
       "prompt_number": 87,
       "text": [
        "[(86246, 1, 5, u'2013-04-24', 1208251, 205, 34, 2202, 1, 104460040, 2, 3718, None, None, None, None, None, None, None, None, 0, 0),\n",
        " (86252, 1, 16, u'2013-03-27', 1197502, 205, 34, 3203, 1, 106414464, 0.75, 13474, None, None, None, None, None, None, None, None, 0, 0),\n",
        " (12682470, 0, 0, u'2013-03-28', 1197502, 18, 11, 3203, 1, 106414464, 0.75, 13474, None, None, None, None, None, None, None, None, 0, 0)]"
       ]
      }
     ],
     "prompt_number": 87
    },
    {
     "cell_type": "code",
     "collapsed": false,
     "input": [
      "%%sql sqlite:///shopping.db\n",
      "SELECT id, repeater, offerdate, category, quantity, company, offervalue\n",
      "    , brand, num_purchases, num_trips, min_date, max_date, offer_delay\n",
      "    , shopper_age, shopper_lifetime, total_purs_spend, num_match_cat, num_match_brand\n",
      "FROM shopvars\n",
      "WHERE num_purchases IS NOT NULL\n",
      "LIMIT 10"
     ],
     "language": "python",
     "metadata": {},
     "outputs": [
      {
       "output_type": "stream",
       "stream": "stdout",
       "text": [
        "Done.\n"
       ]
      },
      {
       "html": [
        "<table>\n",
        "    <tr>\n",
        "        <th>id</th>\n",
        "        <th>repeater</th>\n",
        "        <th>offerdate</th>\n",
        "        <th>category</th>\n",
        "        <th>quantity</th>\n",
        "        <th>company</th>\n",
        "        <th>offervalue</th>\n",
        "        <th>brand</th>\n",
        "        <th>num_purchases</th>\n",
        "        <th>num_trips</th>\n",
        "        <th>min_date</th>\n",
        "        <th>max_date</th>\n",
        "        <th>offer_delay</th>\n",
        "        <th>shopper_age</th>\n",
        "        <th>shopper_lifetime</th>\n",
        "        <th>total_purs_spend</th>\n",
        "        <th>num_match_cat</th>\n",
        "        <th>num_match_brand</th>\n",
        "    </tr>\n",
        "    <tr>\n",
        "        <td>13089312</td>\n",
        "        <td>0</td>\n",
        "        <td>2013-04-01</td>\n",
        "        <td>5619</td>\n",
        "        <td>1</td>\n",
        "        <td>107717272</td>\n",
        "        <td>1.5</td>\n",
        "        <td>102504</td>\n",
        "        <td>1218</td>\n",
        "        <td>132</td>\n",
        "        <td>2012-03-05</td>\n",
        "        <td>2013-03-31</td>\n",
        "        <td>1</td>\n",
        "        <td>392</td>\n",
        "        <td>391</td>\n",
        "        <td>3890.68</td>\n",
        "        <td>0</td>\n",
        "        <td>3</td>\n",
        "    </tr>\n",
        "    <tr>\n",
        "        <td>13251776</td>\n",
        "        <td>0</td>\n",
        "        <td>2013-03-30</td>\n",
        "        <td>1726</td>\n",
        "        <td>1</td>\n",
        "        <td>104460040</td>\n",
        "        <td>1.25</td>\n",
        "        <td>7668</td>\n",
        "        <td>2391</td>\n",
        "        <td>134</td>\n",
        "        <td>2012-03-02</td>\n",
        "        <td>2013-03-24</td>\n",
        "        <td>6</td>\n",
        "        <td>393</td>\n",
        "        <td>387</td>\n",
        "        <td>12512.59</td>\n",
        "        <td>10</td>\n",
        "        <td>0</td>\n",
        "    </tr>\n",
        "    <tr>\n",
        "        <td>17486592</td>\n",
        "        <td>1</td>\n",
        "        <td>2013-04-17</td>\n",
        "        <td>3203</td>\n",
        "        <td>1</td>\n",
        "        <td>106414464</td>\n",
        "        <td>0.75</td>\n",
        "        <td>13474</td>\n",
        "        <td>1526</td>\n",
        "        <td>141</td>\n",
        "        <td>2012-03-03</td>\n",
        "        <td>2013-04-15</td>\n",
        "        <td>2</td>\n",
        "        <td>410</td>\n",
        "        <td>408</td>\n",
        "        <td>8078.55</td>\n",
        "        <td>1</td>\n",
        "        <td>0</td>\n",
        "    </tr>\n",
        "    <tr>\n",
        "        <td>21603296</td>\n",
        "        <td>0</td>\n",
        "        <td>2013-04-26</td>\n",
        "        <td>2202</td>\n",
        "        <td>1</td>\n",
        "        <td>104460040</td>\n",
        "        <td>2</td>\n",
        "        <td>3718</td>\n",
        "        <td>703</td>\n",
        "        <td>94</td>\n",
        "        <td>2012-03-05</td>\n",
        "        <td>2013-04-19</td>\n",
        "        <td>7</td>\n",
        "        <td>417</td>\n",
        "        <td>410</td>\n",
        "        <td>3923.55</td>\n",
        "        <td>0</td>\n",
        "        <td>2</td>\n",
        "    </tr>\n",
        "    <tr>\n",
        "        <td>48445984</td>\n",
        "        <td>0</td>\n",
        "        <td>2013-03-25</td>\n",
        "        <td>3203</td>\n",
        "        <td>1</td>\n",
        "        <td>106414464</td>\n",
        "        <td>0.75</td>\n",
        "        <td>13474</td>\n",
        "        <td>1730</td>\n",
        "        <td>225</td>\n",
        "        <td>2012-03-02</td>\n",
        "        <td>2013-03-24</td>\n",
        "        <td>1</td>\n",
        "        <td>388</td>\n",
        "        <td>387</td>\n",
        "        <td>8982.77</td>\n",
        "        <td>0</td>\n",
        "        <td>0</td>\n",
        "    </tr>\n",
        "    <tr>\n",
        "        <td>48991232</td>\n",
        "        <td>0</td>\n",
        "        <td>2013-03-28</td>\n",
        "        <td>3203</td>\n",
        "        <td>1</td>\n",
        "        <td>106414464</td>\n",
        "        <td>0.75</td>\n",
        "        <td>13474</td>\n",
        "        <td>358</td>\n",
        "        <td>43</td>\n",
        "        <td>2012-03-06</td>\n",
        "        <td>2013-03-19</td>\n",
        "        <td>9</td>\n",
        "        <td>387</td>\n",
        "        <td>378</td>\n",
        "        <td>1386.67</td>\n",
        "        <td>0</td>\n",
        "        <td>0</td>\n",
        "    </tr>\n",
        "    <tr>\n",
        "        <td>49315424</td>\n",
        "        <td>0</td>\n",
        "        <td>2013-03-31</td>\n",
        "        <td>3203</td>\n",
        "        <td>1</td>\n",
        "        <td>106414464</td>\n",
        "        <td>0.75</td>\n",
        "        <td>13474</td>\n",
        "        <td>361</td>\n",
        "        <td>58</td>\n",
        "        <td>2012-03-03</td>\n",
        "        <td>2013-03-24</td>\n",
        "        <td>7</td>\n",
        "        <td>393</td>\n",
        "        <td>386</td>\n",
        "        <td>1316.14</td>\n",
        "        <td>2</td>\n",
        "        <td>0</td>\n",
        "    </tr>\n",
        "    <tr>\n",
        "        <td>50380832</td>\n",
        "        <td>0</td>\n",
        "        <td>2013-04-02</td>\n",
        "        <td>3203</td>\n",
        "        <td>1</td>\n",
        "        <td>106414464</td>\n",
        "        <td>0.75</td>\n",
        "        <td>13474</td>\n",
        "        <td>784</td>\n",
        "        <td>50</td>\n",
        "        <td>2012-03-03</td>\n",
        "        <td>2013-03-20</td>\n",
        "        <td>13</td>\n",
        "        <td>395</td>\n",
        "        <td>382</td>\n",
        "        <td>3431.79</td>\n",
        "        <td>0</td>\n",
        "        <td>0</td>\n",
        "    </tr>\n",
        "    <tr>\n",
        "        <td>53391520</td>\n",
        "        <td>0</td>\n",
        "        <td>2013-03-28</td>\n",
        "        <td>3203</td>\n",
        "        <td>1</td>\n",
        "        <td>106414464</td>\n",
        "        <td>0.75</td>\n",
        "        <td>13474</td>\n",
        "        <td>441</td>\n",
        "        <td>91</td>\n",
        "        <td>2012-03-08</td>\n",
        "        <td>2013-03-24</td>\n",
        "        <td>4</td>\n",
        "        <td>385</td>\n",
        "        <td>381</td>\n",
        "        <td>2059.09</td>\n",
        "        <td>0</td>\n",
        "        <td>0</td>\n",
        "    </tr>\n",
        "    <tr>\n",
        "        <td>59192576</td>\n",
        "        <td>0</td>\n",
        "        <td>2013-04-02</td>\n",
        "        <td>3203</td>\n",
        "        <td>1</td>\n",
        "        <td>106414464</td>\n",
        "        <td>0.75</td>\n",
        "        <td>13474</td>\n",
        "        <td>665</td>\n",
        "        <td>76</td>\n",
        "        <td>2012-03-08</td>\n",
        "        <td>2013-03-18</td>\n",
        "        <td>15</td>\n",
        "        <td>390</td>\n",
        "        <td>375</td>\n",
        "        <td>3710.19</td>\n",
        "        <td>0</td>\n",
        "        <td>0</td>\n",
        "    </tr>\n",
        "</table>"
       ],
       "metadata": {},
       "output_type": "pyout",
       "prompt_number": 92,
       "text": [
        "[(13089312, 0, u'2013-04-01', 5619, 1, 107717272, 1.5, 102504, 1218, 132, u'2012-03-05', u'2013-03-31', 1, 392, 391, 3890.679999999957, 0, 3),\n",
        " (13251776, 0, u'2013-03-30', 1726, 1, 104460040, 1.25, 7668, 2391, 134, u'2012-03-02', u'2013-03-24', 6, 393, 387, 12512.589999999842, 10, 0),\n",
        " (17486592, 1, u'2013-04-17', 3203, 1, 106414464, 0.75, 13474, 1526, 141, u'2012-03-03', u'2013-04-15', 2, 410, 408, 8078.549999999863, 1, 0),\n",
        " (21603296, 0, u'2013-04-26', 2202, 1, 104460040, 2, 3718, 703, 94, u'2012-03-05', u'2013-04-19', 7, 417, 410, 3923.5499999999665, 0, 2),\n",
        " (48445984, 0, u'2013-03-25', 3203, 1, 106414464, 0.75, 13474, 1730, 225, u'2012-03-02', u'2013-03-24', 1, 388, 387, 8982.769999999871, 0, 0),\n",
        " (48991232, 0, u'2013-03-28', 3203, 1, 106414464, 0.75, 13474, 358, 43, u'2012-03-06', u'2013-03-19', 9, 387, 378, 1386.6700000000026, 0, 0),\n",
        " (49315424, 0, u'2013-03-31', 3203, 1, 106414464, 0.75, 13474, 361, 58, u'2012-03-03', u'2013-03-24', 7, 393, 386, 1316.1400000000021, 2, 0),\n",
        " (50380832, 0, u'2013-04-02', 3203, 1, 106414464, 0.75, 13474, 784, 50, u'2012-03-03', u'2013-03-20', 13, 395, 382, 3431.7899999999854, 0, 0),\n",
        " (53391520, 0, u'2013-03-28', 3203, 1, 106414464, 0.75, 13474, 441, 91, u'2012-03-08', u'2013-03-24', 4, 385, 381, 2059.0900000000015, 0, 0),\n",
        " (59192576, 0, u'2013-04-02', 3203, 1, 106414464, 0.75, 13474, 665, 76, u'2012-03-08', u'2013-03-18', 15, 390, 375, 3710.1899999999705, 0, 0)]"
       ]
      }
     ],
     "prompt_number": 92
    },
    {
     "cell_type": "code",
     "collapsed": false,
     "input": [],
     "language": "python",
     "metadata": {},
     "outputs": []
    }
   ],
   "metadata": {}
  }
 ]
}