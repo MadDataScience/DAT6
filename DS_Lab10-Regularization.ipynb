{
 "metadata": {
  "name": "",
  "signature": "sha256:14754ba39982328447597a39c3c80c408d2f0eeed9f3e4b29bd89113c377a455"
 },
 "nbformat": 3,
 "nbformat_minor": 0,
 "worksheets": [
  {
   "cells": [
    {
     "cell_type": "markdown",
     "metadata": {},
     "source": [
      "Lab\n",
      "==========================================\n",
      "Regularization and Imputation\n",
      "------------------------------------------\n",
      "Alessandro D. Gagliardi  \n",
      "*(adapted from Olivier Grisel's tutorial)*"
     ]
    },
    {
     "cell_type": "code",
     "collapsed": false,
     "input": [
      "%matplotlib inline\n",
      "import matplotlib.pyplot as plt\n",
      "import numpy as np\n",
      "import pandas as pd"
     ],
     "language": "python",
     "metadata": {},
     "outputs": []
    },
    {
     "cell_type": "heading",
     "level": 2,
     "metadata": {},
     "source": [
      "Loading tabular data from the UCI machine learning site in a pandas Data Frame"
     ]
    },
    {
     "cell_type": "markdown",
     "metadata": {},
     "source": [
      "Let us have a look at the Communities and Crime Unnormalized Data Set at:\n",
      "\n",
      "[http://archive.ics.uci.edu/ml/datasets/Communities+and+Crime+Unnormalized](http://archive.ics.uci.edu/ml/datasets/Communities+and+Crime+Unnormalized)\n",
      "\n",
      "We can load the CSV file as a pandas data frame in one line:"
     ]
    },
    {
     "cell_type": "code",
     "collapsed": false,
     "input": [
      "crime = pd.read_csv(\"http://archive.ics.uci.edu/ml/machine-learning-databases/00211/CommViolPredUnnormalizedData.txt\", header = None, na_values  = '?',\n",
      "                    names = ['communityname', 'state', 'countyCode', 'communityCode', 'fold', 'population', 'householdsize', 'racepctblack', 'racePctWhite', 'racePctAsian', 'racePctHisp', 'agePct12t21', 'agePct12t29', 'agePct16t24', 'agePct65up', 'numbUrban', 'pctUrban', 'medIncome', 'pctWWage', 'pctWFarmSelf', 'pctWInvInc', 'pctWSocSec', 'pctWPubAsst', 'pctWRetire', 'medFamInc', 'perCapInc', 'whitePerCap', 'blackPerCap', 'indianPerCap', 'AsianPerCap', 'OtherPerCap', 'HispPerCap', 'NumUnderPov', 'PctPopUnderPov', 'PctLess9thGrade', 'PctNotHSGrad', 'PctBSorMore', 'PctUnemployed', 'PctEmploy', 'PctEmplManu', 'PctEmplProfServ', 'PctOccupManu', 'PctOccupMgmtProf', 'MalePctDivorce', 'MalePctNevMarr', 'FemalePctDiv', 'TotalPctDiv', 'PersPerFam', 'PctFam2Par', 'PctKids2Par', 'PctYoungKids2Par', 'PctTeen2Par', 'PctWorkMomYoungKids', 'PctWorkMom', 'NumKidsBornNeverMar', 'PctKidsBornNeverMar', 'NumImmig', 'PctImmigRecent', 'PctImmigRec5', 'PctImmigRec8', 'PctImmigRec10', 'PctRecentImmig', 'PctRecImmig5', 'PctRecImmig8', 'PctRecImmig10', 'PctSpeakEnglOnly', 'PctNotSpeakEnglWell', 'PctLargHouseFam', 'PctLargHouseOccup', 'PersPerOccupHous', 'PersPerOwnOccHous', 'PersPerRentOccHous', 'PctPersOwnOccup', 'PctPersDenseHous', 'PctHousLess3BR', 'MedNumBR', 'HousVacant', 'PctHousOccup', 'PctHousOwnOcc', 'PctVacantBoarded', 'PctVacMore6Mos', 'MedYrHousBuilt', 'PctHousNoPhone', 'PctWOFullPlumb', 'OwnOccLowQuart', 'OwnOccMedVal', 'OwnOccHiQuart', 'OwnOccQrange', 'RentLowQ', 'RentMedian', 'RentHighQ', 'RentQrange', 'MedRent', 'MedRentPctHousInc', 'MedOwnCostPctInc', 'MedOwnCostPctIncNoMtg', 'NumInShelters', 'NumStreet', 'PctForeignBorn', 'PctBornSameState', 'PctSameHouse85', 'PctSameCity85', 'PctSameState85', 'LemasSwornFT', 'LemasSwFTPerPop', 'LemasSwFTFieldOps', 'LemasSwFTFieldPerPop', 'LemasTotalReq', 'LemasTotReqPerPop', 'PolicReqPerOffic', 'PolicPerPop', 'RacialMatchCommPol', 'PctPolicWhite', 'PctPolicBlack', 'PctPolicHisp', 'PctPolicAsian', 'PctPolicMinor', 'OfficAssgnDrugUnits', 'NumKindsDrugsSeiz', 'PolicAveOTWorked', 'LandArea', 'PopDens', 'PctUsePubTrans', 'PolicCars', 'PolicOperBudg', 'LemasPctPolicOnPatr', 'LemasGangUnitDeploy', 'LemasPctOfficDrugUn', 'PolicBudgPerPop', 'murders', 'murdPerPop', 'rapes', 'rapesPerPop', 'robberies', 'robbbPerPop', 'assaults', 'assaultPerPop', 'burglaries', 'burglPerPop', 'larcenies', 'larcPerPop', 'autoTheft', 'autoTheftPerPop', 'arsons', 'arsonsPerPop', 'ViolentCrimesPerPop', 'nonViolPerPop'])"
     ],
     "language": "python",
     "metadata": {},
     "outputs": []
    },
    {
     "cell_type": "markdown",
     "metadata": {},
     "source": [
      "### Attribute Information:\n",
      "```\n",
      "(125 predictive, 4 non-predictive, 18 potential goal) \n",
      "-- communityname: Community name - not predictive - for information only (string) \n",
      "-- state: US state (by 2 letter postal abbreviation)(nominal) \n",
      "-- countyCode: numeric code for county - not predictive, and many missing values (numeric) \n",
      "-- communityCode: numeric code for community - not predictive and many missing values (numeric) \n",
      "-- fold: fold number for non-random 10 fold cross validation, potentially useful for debugging, paired tests - not predictive (numeric - integer) \n",
      "\n",
      "-- population: population for community: (numeric - expected to be integer) \n",
      "-- householdsize: mean people per household (numeric - decimal) \n",
      "-- racepctblack: percentage of population that is african american (numeric - decimal) \n",
      "-- racePctWhite: percentage of population that is caucasian (numeric - decimal) \n",
      "-- racePctAsian: percentage of population that is of asian heritage (numeric - decimal) \n",
      "-- racePctHisp: percentage of population that is of hispanic heritage (numeric - decimal) \n",
      "-- agePct12t21: percentage of population that is 12-21 in age (numeric - decimal) \n",
      "-- agePct12t29: percentage of population that is 12-29 in age (numeric - decimal) \n",
      "-- agePct16t24: percentage of population that is 16-24 in age (numeric - decimal) \n",
      "-- agePct65up: percentage of population that is 65 and over in age (numeric - decimal) \n",
      "-- numbUrban: number of people living in areas classified as urban (numeric - expected to be integer) \n",
      "-- pctUrban: percentage of people living in areas classified as urban (numeric - decimal) \n",
      "-- medIncome: median household income (numeric - may be integer) \n",
      "-- pctWWage: percentage of households with wage or salary income in 1989 (numeric - decimal) \n",
      "-- pctWFarmSelf: percentage of households with farm or self employment income in 1989 (numeric - decimal) \n",
      "-- pctWInvInc: percentage of households with investment / rent income in 1989 (numeric - decimal) \n",
      "-- pctWSocSec: percentage of households with social security income in 1989 (numeric - decimal) \n",
      "-- pctWPubAsst: percentage of households with public assistance income in 1989 (numeric - decimal) \n",
      "-- pctWRetire: percentage of households with retirement income in 1989 (numeric - decimal) \n",
      "-- medFamInc: median family income (differs from household income for non-family households) (numeric - may be integer) \n",
      "-- perCapInc: per capita income (numeric - decimal) \n",
      "-- whitePerCap: per capita income for caucasians (numeric - decimal) \n",
      "-- blackPerCap: per capita income for african americans (numeric - decimal) \n",
      "-- indianPerCap: per capita income for native americans (numeric - decimal) \n",
      "-- AsianPerCap: per capita income for people with asian heritage (numeric - decimal) \n",
      "-- OtherPerCap: per capita income for people with 'other' heritage (numeric - decimal) \n",
      "-- HispPerCap: per capita income for people with hispanic heritage (numeric - decimal) \n",
      "-- NumUnderPov: number of people under the poverty level (numeric - expected to be integer) \n",
      "-- PctPopUnderPov: percentage of people under the poverty level (numeric - decimal) \n",
      "-- PctLess9thGrade: percentage of people 25 and over with less than a 9th grade education (numeric - decimal) \n",
      "-- PctNotHSGrad: percentage of people 25 and over that are not high school graduates (numeric - decimal) \n",
      "-- PctBSorMore: percentage of people 25 and over with a bachelors degree or higher education (numeric - decimal) \n",
      "-- PctUnemployed: percentage of people 16 and over, in the labor force, and unemployed (numeric - decimal) \n",
      "-- PctEmploy: percentage of people 16 and over who are employed (numeric - decimal) \n",
      "-- PctEmplManu: percentage of people 16 and over who are employed in manufacturing (numeric - decimal) \n",
      "-- PctEmplProfServ: percentage of people 16 and over who are employed in professional services (numeric - decimal) \n",
      "-- PctOccupManu: percentage of people 16 and over who are employed in manufacturing (numeric - decimal) #### No longer sure of difference from PctEmplManu - may include unemployed manufacturing workers #### \n",
      "-- PctOccupMgmtProf: percentage of people 16 and over who are employed in management or professional occupations (numeric - decimal) \n",
      "-- MalePctDivorce: percentage of males who are divorced (numeric - decimal) \n",
      "-- MalePctNevMarr: percentage of males who have never married (numeric - decimal) \n",
      "-- FemalePctDiv: percentage of females who are divorced (numeric - decimal) \n",
      "-- TotalPctDiv: percentage of population who are divorced (numeric - decimal) \n",
      "-- PersPerFam: mean number of people per family (numeric - decimal) \n",
      "-- PctFam2Par: percentage of families (with kids) that are headed by two parents (numeric - decimal) \n",
      "-- PctKids2Par: percentage of kids in family housing with two parents (numeric - decimal) \n",
      "-- PctYoungKids2Par: percent of kids 4 and under in two parent households (numeric - decimal) \n",
      "-- PctTeen2Par: percent of kids age 12-17 in two parent households (numeric - decimal) \n",
      "-- PctWorkMomYoungKids: percentage of moms of kids 6 and under in labor force (numeric - decimal) \n",
      "-- PctWorkMom: percentage of moms of kids under 18 in labor force (numeric - decimal) \n",
      "-- NumKidsBornNeverMar: number of kids born to never married (numeric - expected to be integer) \n",
      "-- PctKidsBornNeverMar: percentage of kids born to never married (numeric - decimal) \n",
      "-- NumImmig: total number of people known to be foreign born (numeric - expected to be integer) \n",
      "-- PctImmigRecent: percentage of _immigrants_ who immigated within last 3 years (numeric - decimal) \n",
      "-- PctImmigRec5: percentage of _immigrants_ who immigated within last 5 years (numeric - decimal) \n",
      "-- PctImmigRec8: percentage of _immigrants_ who immigated within last 8 years (numeric - decimal) \n",
      "-- PctImmigRec10: percentage of _immigrants_ who immigated within last 10 years (numeric - decimal) \n",
      "-- PctRecentImmig: percent of _population_ who have immigrated within the last 3 years (numeric - decimal) \n",
      "-- PctRecImmig5: percent of _population_ who have immigrated within the last 5 years (numeric - decimal) \n",
      "-- PctRecImmig8: percent of _population_ who have immigrated within the last 8 years (numeric - decimal) \n",
      "-- PctRecImmig10: percent of _population_ who have immigrated within the last 10 years (numeric - decimal) \n",
      "-- PctSpeakEnglOnly: percent of people who speak only English (numeric - decimal) \n",
      "-- PctNotSpeakEnglWell: percent of people who do not speak English well (numeric - decimal) \n",
      "-- PctLargHouseFam: percent of family households that are large (6 or more) (numeric - decimal) \n",
      "-- PctLargHouseOccup: percent of all occupied households that are large (6 or more people) (numeric - decimal) \n",
      "-- PersPerOccupHous: mean persons per household (numeric - decimal) \n",
      "-- PersPerOwnOccHous: mean persons per owner occupied household (numeric - decimal) \n",
      "-- PersPerRentOccHous: mean persons per rental household (numeric - decimal) \n",
      "-- PctPersOwnOccup: percent of people in owner occupied households (numeric - decimal) \n",
      "-- PctPersDenseHous: percent of persons in dense housing (more than 1 person per room) (numeric - decimal) \n",
      "-- PctHousLess3BR: percent of housing units with less than 3 bedrooms (numeric - decimal) \n",
      "-- MedNumBR: median number of bedrooms (numeric - decimal) \n",
      "-- HousVacant: number of vacant households (numeric - expected to be integer) \n",
      "-- PctHousOccup: percent of housing occupied (numeric - decimal) \n",
      "-- PctHousOwnOcc: percent of households owner occupied (numeric - decimal) \n",
      "-- PctVacantBoarded: percent of vacant housing that is boarded up (numeric - decimal) \n",
      "-- PctVacMore6Mos: percent of vacant housing that has been vacant more than 6 months (numeric - decimal) \n",
      "-- MedYrHousBuilt: median year housing units built (numeric - may be integer) \n",
      "-- PctHousNoPhone: percent of occupied housing units without phone (in 1990, this was rare!) (numeric - decimal) \n",
      "-- PctWOFullPlumb: percent of housing without complete plumbing facilities (numeric - decimal) \n",
      "-- OwnOccLowQuart: owner occupied housing - lower quartile value (numeric - decimal) \n",
      "-- OwnOccMedVal: owner occupied housing - median value (numeric - decimal) \n",
      "-- OwnOccHiQuart: owner occupied housing - upper quartile value (numeric - decimal) \n",
      "-- OwnOccQrange: owner occupied housing - difference between upper quartile and lower quartile values (numeric - decimal) \n",
      "-- RentLowQ: rental housing - lower quartile rent (numeric - decimal) \n",
      "-- RentMedian: rental housing - median rent (Census variable H32B from file STF1A) (numeric - decimal) \n",
      "-- RentHighQ: rental housing - upper quartile rent (numeric - decimal) \n",
      "-- RentQrange: rental housing - difference between upper quartile and lower quartile rent (numeric - decimal) \n",
      "-- MedRent: median gross rent (Census variable H43A from file STF3A - includes utilities) (numeric - decimal) \n",
      "-- MedRentPctHousInc: median gross rent as a percentage of household income (numeric - decimal) \n",
      "-- MedOwnCostPctInc: median owners cost as a percentage of household income - for owners with a mortgage (numeric - decimal) \n",
      "-- MedOwnCostPctIncNoMtg: median owners cost as a percentage of household income - for owners without a mortgage (numeric - decimal) \n",
      "-- NumInShelters: number of people in homeless shelters (numeric - expected to be integer) \n",
      "-- NumStreet: number of homeless people counted in the street (numeric - expected to be integer) \n",
      "-- PctForeignBorn: percent of people foreign born (numeric - decimal) \n",
      "-- PctBornSameState: percent of people born in the same state as currently living (numeric - decimal) \n",
      "-- PctSameHouse85: percent of people living in the same house as in 1985 (5 years before) (numeric - decimal) \n",
      "-- PctSameCity85: percent of people living in the same city as in 1985 (5 years before) (numeric - decimal) \n",
      "-- PctSameState85: percent of people living in the same state as in 1985 (5 years before) (numeric - decimal) \n",
      "-- LemasSwornFT: number of sworn full time police officers (numeric - expected to be integer) \n",
      "-- LemasSwFTPerPop: sworn full time police officers per 100K population (numeric - decimal) \n",
      "-- LemasSwFTFieldOps: number of sworn full time police officers in field operations (on the street as opposed to administrative etc) (numeric - expected to be integer) \n",
      "-- LemasSwFTFieldPerPop: sworn full time police officers in field operations (on the street as opposed to administrative etc) per 100K population (numeric - decimal) \n",
      "-- LemasTotalReq: total requests for police (numeric - expected to be integer) \n",
      "-- LemasTotReqPerPop: total requests for police per 100K popuation (numeric - decimal) \n",
      "-- PolicReqPerOffic: total requests for police per police officer (numeric - decimal) \n",
      "-- PolicPerPop: police officers per 100K population (numeric - decimal) \n",
      "-- RacialMatchCommPol: a measure of the racial match between the community and the police force. High values indicate proportions in community and police force are similar (numeric - decimal) \n",
      "-- PctPolicWhite: percent of police that are caucasian (numeric - decimal) \n",
      "-- PctPolicBlack: percent of police that are african american (numeric - decimal) \n",
      "-- PctPolicHisp: percent of police that are hispanic (numeric - decimal) \n",
      "-- PctPolicAsian: percent of police that are asian (numeric - decimal) \n",
      "-- PctPolicMinor: percent of police that are minority of any kind (numeric - decimal) \n",
      "-- OfficAssgnDrugUnits: number of officers assigned to special drug units (numeric - expected to be integer) \n",
      "-- NumKindsDrugsSeiz: number of different kinds of drugs seized (numeric - expected to be integer) \n",
      "-- PolicAveOTWorked: police average overtime worked (numeric - decimal) \n",
      "-- LandArea: land area in square miles (numeric - decimal) \n",
      "-- PopDens: population density in persons per square mile (numeric - decimal) \n",
      "-- PctUsePubTrans: percent of people using public transit for commuting (numeric - decimal) \n",
      "-- PolicCars: number of police cars (numeric - expected to be integer) \n",
      "-- PolicOperBudg: police operating budget (numeric - may be integer) \n",
      "-- LemasPctPolicOnPatr: percent of sworn full time police officers on patrol (numeric - decimal) \n",
      "-- LemasGangUnitDeploy: gang unit deployed (numeric - integer - but really nominal - 0 means NO, 10 means YES, 5 means Part Time) \n",
      "-- LemasPctOfficDrugUn: percent of officers assigned to drug units (numeric - decimal) \n",
      "-- PolicBudgPerPop: police operating budget per population (numeric - decimal) \n",
      "\n",
      "-- murders: number of murders in 1995 (numeric - expected to be integer) potential GOAL attribute (to be predicted) \n",
      "-- murdPerPop: number of murders per 100K population (numeric - decimal) potential GOAL attribute (to be predicted) \n",
      "-- rapes: number of rapes in 1995 (numeric - expected to be integer) potential GOAL attribute (to be predicted) \n",
      "-- rapesPerPop: number of rapes per 100K population (numeric - decimal) potential GOAL attribute (to be predicted) \n",
      "-- robberies: number of robberies in 1995 (numeric - expected to be integer) potential GOAL attribute (to be predicted) \n",
      "-- robbbPerPop: number of robberies per 100K population (numeric - decimal) potential GOAL attribute (to be predicted) \n",
      "-- assaults: number of assaults in 1995 (numeric - expected to be integer) potential GOAL attribute (to be predicted) \n",
      "-- assaultPerPop: number of assaults per 100K population (numeric - decimal) potential GOAL attribute (to be predicted) \n",
      "-- burglaries: number of burglaries in 1995 (numeric - expected to be integer) potential GOAL attribute (to be predicted) \n",
      "-- burglPerPop: number of burglaries per 100K population (numeric - decimal) potential GOAL attribute (to be predicted) \n",
      "-- larcenies: number of larcenies in 1995 (numeric - expected to be integer) potential GOAL attribute (to be predicted) \n",
      "-- larcPerPop: number of larcenies per 100K population (numeric - decimal) potential GOAL attribute (to be predicted) \n",
      "-- autoTheft: number of auto thefts in 1995 (numeric - expected to be integer) potential GOAL attribute (to be predicted) \n",
      "-- autoTheftPerPop: number of auto thefts per 100K population (numeric - decimal) potential GOAL attribute (to be predicted) \n",
      "-- arsons: number of arsons in 1995 (numeric - expected to be integer) potential GOAL attribute (to be predicted) \n",
      "-- arsonsPerPop: number of arsons per 100K population (numeric - decimal) potential GOAL attribute (to be predicted) \n",
      "-- ViolentCrimesPerPop: total number of violent crimes per 100K popuation (numeric - decimal) GOAL attribute (to be predicted) \n",
      "-- nonViolPerPop: total number of non-violent crimes per 100K popuation (numeric - decimal) potential GOAL attribute (to be predicted) \n",
      "```"
     ]
    },
    {
     "cell_type": "code",
     "collapsed": false,
     "input": [
      "len(crime)"
     ],
     "language": "python",
     "metadata": {},
     "outputs": []
    },
    {
     "cell_type": "markdown",
     "metadata": {},
     "source": [
      "Our dataset has 2215 records, but some rows have missing values:"
     ]
    },
    {
     "cell_type": "code",
     "collapsed": false,
     "input": [
      "crime.count()"
     ],
     "language": "python",
     "metadata": {},
     "outputs": []
    },
    {
     "cell_type": "markdown",
     "metadata": {},
     "source": [
      "This cannot be directly fed to a scikit-learn model:\n",
      "\n",
      "\n",
      "- the target variable (murder) is mixed with the input data\n",
      "\n",
      "- some attribute such as fold have no predictive values for the task\n",
      "\n",
      "- some attribute values are missing (nan: \"not a number\")"
     ]
    },
    {
     "cell_type": "heading",
     "level": 2,
     "metadata": {},
     "source": [
      "Predicting murder"
     ]
    },
    {
     "cell_type": "markdown",
     "metadata": {},
     "source": [
      "For this exercise, we will want to predict whether or not there is at least one murder using the 125 predictive features. Let us have a look at the `murders` column:"
     ]
    },
    {
     "cell_type": "code",
     "collapsed": false,
     "input": [
      "crime.murders.dtype"
     ],
     "language": "python",
     "metadata": {},
     "outputs": []
    },
    {
     "cell_type": "markdown",
     "metadata": {},
     "source": [
      "`crime.murders` is an instance of the pandas `Series` class with an integer dtype:"
     ]
    },
    {
     "cell_type": "code",
     "collapsed": false,
     "input": [
      "murder = (crime.murders > 0).map(float)"
     ],
     "language": "python",
     "metadata": {},
     "outputs": []
    },
    {
     "cell_type": "code",
     "collapsed": false,
     "input": [
      "crime.murders.__class__.__module__, crime.murders.__class__.__name__"
     ],
     "language": "python",
     "metadata": {},
     "outputs": []
    },
    {
     "cell_type": "markdown",
     "metadata": {},
     "source": [
      "The `data` object is an instance pandas `DataFrame` class:"
     ]
    },
    {
     "cell_type": "code",
     "collapsed": false,
     "input": [
      "crime.__class__.__module__, crime.__class__.__name__"
     ],
     "language": "python",
     "metadata": {},
     "outputs": []
    },
    {
     "cell_type": "markdown",
     "metadata": {},
     "source": [
      "`Series` can be seen as homegeneous, 1D columns. `DataFrame` instances are heterogenous collections of columns with the same length.\n",
      "\n",
      "The original data frame can be aggregated by counting rows where `murders` is greater than zero:"
     ]
    },
    {
     "cell_type": "code",
     "collapsed": false,
     "input": [
      "from __future__ import division\n",
      "sum(crime.murders > 0) / len(crime)"
     ],
     "language": "python",
     "metadata": {},
     "outputs": []
    },
    {
     "cell_type": "markdown",
     "metadata": {},
     "source": [
      "From this the dataset, about 54% of the communities studied had at least one murder occur in them. \n",
      "\n",
      "We will convert this into a vector of boolean values representing whether there was a murder in the community as follows:"
     ]
    },
    {
     "cell_type": "code",
     "collapsed": false,
     "input": [
      "target = (crime.murders > 0).values"
     ],
     "language": "python",
     "metadata": {},
     "outputs": []
    },
    {
     "cell_type": "code",
     "collapsed": false,
     "input": [
      "type(target)"
     ],
     "language": "python",
     "metadata": {},
     "outputs": []
    },
    {
     "cell_type": "code",
     "collapsed": false,
     "input": [
      "target.dtype"
     ],
     "language": "python",
     "metadata": {},
     "outputs": []
    },
    {
     "cell_type": "code",
     "collapsed": false,
     "input": [
      "target[:5]"
     ],
     "language": "python",
     "metadata": {},
     "outputs": []
    },
    {
     "cell_type": "heading",
     "level": 2,
     "metadata": {},
     "source": [
      "Training a predictive model on numerical features"
     ]
    },
    {
     "cell_type": "code",
     "collapsed": false,
     "input": [
      "features = crime[crime.columns[5:-18]]"
     ],
     "language": "python",
     "metadata": {},
     "outputs": []
    },
    {
     "cell_type": "markdown",
     "metadata": {},
     "source": [
      "Let's make sure that all of our features are numeric:"
     ]
    },
    {
     "cell_type": "code",
     "collapsed": false,
     "input": [
      "set(features.dtypes)"
     ],
     "language": "python",
     "metadata": {},
     "outputs": []
    },
    {
     "cell_type": "markdown",
     "metadata": {},
     "source": [
      "Recall that we have missing values:"
     ]
    },
    {
     "cell_type": "code",
     "collapsed": false,
     "input": [
      "features.count()"
     ],
     "language": "python",
     "metadata": {},
     "outputs": []
    },
    {
     "cell_type": "markdown",
     "metadata": {},
     "source": [
      "Let's use pandas `fillna` method to impute the missing data with median values:"
     ]
    },
    {
     "cell_type": "code",
     "collapsed": false,
     "input": [
      "median_features = features.dropna().median()\n",
      "median_features"
     ],
     "language": "python",
     "metadata": {},
     "outputs": []
    },
    {
     "cell_type": "code",
     "collapsed": false,
     "input": [
      "imputed_features = features.fillna(median_features)\n",
      "imputed_features.count()"
     ],
     "language": "python",
     "metadata": {},
     "outputs": []
    },
    {
     "cell_type": "markdown",
     "metadata": {},
     "source": [
      "Now that the data frame is clean, we can convert it into an homogeneous numpy array of floating point values:"
     ]
    },
    {
     "cell_type": "code",
     "collapsed": false,
     "input": [
      "features_array = imputed_features.values\n",
      "features_array"
     ],
     "language": "python",
     "metadata": {},
     "outputs": []
    },
    {
     "cell_type": "code",
     "collapsed": false,
     "input": [
      "from sklearn.cross_validation import train_test_split\n",
      "\n",
      "features_train, features_test, target_train, target_test = train_test_split(\n",
      "    features_array, target, test_size=0.20, random_state=0)"
     ],
     "language": "python",
     "metadata": {},
     "outputs": []
    },
    {
     "cell_type": "code",
     "collapsed": false,
     "input": [
      "features_train.shape"
     ],
     "language": "python",
     "metadata": {},
     "outputs": []
    },
    {
     "cell_type": "code",
     "collapsed": false,
     "input": [
      "features_test.shape"
     ],
     "language": "python",
     "metadata": {},
     "outputs": []
    },
    {
     "cell_type": "code",
     "collapsed": false,
     "input": [
      "target_train.shape"
     ],
     "language": "python",
     "metadata": {},
     "outputs": []
    },
    {
     "cell_type": "code",
     "collapsed": false,
     "input": [
      "target_test.shape"
     ],
     "language": "python",
     "metadata": {},
     "outputs": []
    },
    {
     "cell_type": "markdown",
     "metadata": {},
     "source": [
      "Let's try our `Logit` model from `statsmodels`:"
     ]
    },
    {
     "cell_type": "code",
     "collapsed": false,
     "input": [
      "import statsmodels.api as sm\n",
      "\n",
      "lr = sm.Logit(target, features_array)\n",
      "lr.fit()"
     ],
     "language": "python",
     "metadata": {},
     "outputs": []
    },
    {
     "cell_type": "markdown",
     "metadata": {},
     "source": [
      "Let's try `LogisticRegression` from sklearn:"
     ]
    },
    {
     "cell_type": "code",
     "collapsed": false,
     "input": [
      "from sklearn.linear_model import LogisticRegression\n",
      "\n",
      "lr = LogisticRegression()\n",
      "lr.fit(features_array, target)"
     ],
     "language": "python",
     "metadata": {},
     "outputs": []
    },
    {
     "cell_type": "markdown",
     "metadata": {},
     "source": [
      "Unfortunately, scikit-learn's models don't come with a `summary` function:"
     ]
    },
    {
     "cell_type": "code",
     "collapsed": false,
     "input": [
      "lr.summary()"
     ],
     "language": "python",
     "metadata": {},
     "outputs": []
    },
    {
     "cell_type": "markdown",
     "metadata": {},
     "source": [
      "You can access the coefficients, though:"
     ]
    },
    {
     "cell_type": "code",
     "collapsed": false,
     "input": [
      "lr.coef_"
     ],
     "language": "python",
     "metadata": {},
     "outputs": []
    },
    {
     "cell_type": "code",
     "collapsed": false,
     "input": [
      "target_predicted = lr.predict(features_test)"
     ],
     "language": "python",
     "metadata": {},
     "outputs": []
    },
    {
     "cell_type": "code",
     "collapsed": false,
     "input": [
      "from sklearn.metrics import accuracy_score\n",
      "\n",
      "accuracy_score(target_test, target_predicted)"
     ],
     "language": "python",
     "metadata": {},
     "outputs": []
    },
    {
     "cell_type": "markdown",
     "metadata": {},
     "source": [
      "This first model has around 79% accuracy: this is better than our baseline that always predicts murder."
     ]
    },
    {
     "cell_type": "heading",
     "level": 3,
     "metadata": {},
     "source": [
      "ROC AUC"
     ]
    },
    {
     "cell_type": "code",
     "collapsed": false,
     "input": [
      "target_predicted_proba = lr.predict_proba(features_test)\n",
      "target_predicted_proba[:5]"
     ],
     "language": "python",
     "metadata": {},
     "outputs": []
    },
    {
     "cell_type": "code",
     "collapsed": false,
     "input": [
      "from sklearn.metrics import roc_curve\n",
      "from sklearn.metrics import auc\n",
      "\n",
      "def plot_roc_curve(target_test, target_predicted_proba):\n",
      "    fpr, tpr, thresholds = roc_curve(target_test, target_predicted_proba[:, 1])\n",
      "    \n",
      "    roc_auc = auc(fpr, tpr)\n",
      "    # Plot ROC curve\n",
      "    plt.plot(fpr, tpr, label='ROC curve (area = %0.3f)' % roc_auc)\n",
      "    plt.plot([0, 1], [0, 1], 'k--')  # random predictions curve\n",
      "    plt.xlim([0.0, 1.0])\n",
      "    plt.ylim([0.0, 1.0])\n",
      "    plt.xlabel('False Positive Rate or (1 - Specifity)')\n",
      "    plt.ylabel('True Positive Rate or (Sensitivity)')\n",
      "    plt.title('Receiver Operating Characteristic')\n",
      "    plt.legend(loc=\"lower right\")"
     ],
     "language": "python",
     "metadata": {},
     "outputs": []
    },
    {
     "cell_type": "code",
     "collapsed": false,
     "input": [
      "plot_roc_curve(target_test, target_predicted_proba)"
     ],
     "language": "python",
     "metadata": {},
     "outputs": []
    },
    {
     "cell_type": "code",
     "collapsed": false,
     "input": [
      "from sklearn.metrics import confusion_matrix\n",
      "\n",
      "print(confusion_matrix(target_test, target_predicted))"
     ],
     "language": "python",
     "metadata": {},
     "outputs": []
    },
    {
     "cell_type": "code",
     "collapsed": false,
     "input": [
      "from sklearn.metrics import classification_report\n",
      "\n",
      "print(classification_report(target_test, target_predicted,\n",
      "                            target_names=['no murders', 'at least one murder']))"
     ],
     "language": "python",
     "metadata": {},
     "outputs": []
    },
    {
     "cell_type": "heading",
     "level": 3,
     "metadata": {},
     "source": [
      "Cross-validation"
     ]
    },
    {
     "cell_type": "markdown",
     "metadata": {},
     "source": [
      "We previously decided to randomly split the data to evaluate the model on 20% of held-out data. However the location randomness of the split might have a significant impact in the estimated accuracy:"
     ]
    },
    {
     "cell_type": "code",
     "collapsed": false,
     "input": [
      "features_train, features_test, target_train, target_test = train_test_split(\n",
      "    features_array, target, test_size=0.20, random_state=0)\n",
      "\n",
      "lr.fit(features_train, target_train).score(features_test, target_test)"
     ],
     "language": "python",
     "metadata": {},
     "outputs": []
    },
    {
     "cell_type": "code",
     "collapsed": false,
     "input": [
      "features_train, features_test, target_train, target_test = train_test_split(\n",
      "    features_array, target, test_size=0.20, random_state=1)\n",
      "\n",
      "lr.fit(features_train, target_train).score(features_test, target_test)"
     ],
     "language": "python",
     "metadata": {},
     "outputs": []
    },
    {
     "cell_type": "code",
     "collapsed": false,
     "input": [
      "features_train, features_test, target_train, target_test = train_test_split(\n",
      "    features_array, target, test_size=0.20, random_state=2)\n",
      "\n",
      "lr.fit(features_train, target_train).score(features_test, target_test)"
     ],
     "language": "python",
     "metadata": {},
     "outputs": []
    },
    {
     "cell_type": "markdown",
     "metadata": {},
     "source": [
      "So instead of using a single train / test split, we can use a group of them and compute the min, max and mean scores as an estimation of the real test score while not underestimating the variability:"
     ]
    },
    {
     "cell_type": "code",
     "collapsed": false,
     "input": [
      "from sklearn.cross_validation import cross_val_score\n",
      "\n",
      "scores = cross_val_score(lr, features_array, target, cv=5)\n",
      "scores"
     ],
     "language": "python",
     "metadata": {},
     "outputs": []
    },
    {
     "cell_type": "code",
     "collapsed": false,
     "input": [
      "scores.min(), scores.mean(), scores.max()"
     ],
     "language": "python",
     "metadata": {},
     "outputs": []
    },
    {
     "cell_type": "markdown",
     "metadata": {},
     "source": [
      "`cross_val_score` reports accuracy by default be it can also be used to report other performance metrics such as ROC-AUC or f1-score:"
     ]
    },
    {
     "cell_type": "code",
     "collapsed": false,
     "input": [
      "scores = cross_val_score(lr, features_array, target, cv=5, scoring='roc_auc')\n",
      "scores.min(), scores.mean(), scores.max()"
     ],
     "language": "python",
     "metadata": {},
     "outputs": []
    },
    {
     "cell_type": "markdown",
     "metadata": {},
     "source": [
      "1-2 Pairs\n",
      "=========\n",
      "\n",
      "- Use `GridSearchCV` to explore different values of `C` (our regularization constant, $\\lambda$, from the lecture)\n",
      "- `LogisticRegression` defaults to the **L2-norm** penalty for regularization. Try `penalty=l1`.\n",
      "- Which parameters work best?"
     ]
    },
    {
     "cell_type": "markdown",
     "metadata": {},
     "source": [
      "Homework\n",
      "=========\n",
      "# MIDTERM!!!!"
     ]
    }
   ],
   "metadata": {}
  }
 ]
}