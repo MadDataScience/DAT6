{
 "metadata": {
  "name": "",
  "signature": "sha256:8b5dd8174f23ab177e89f35d81a2c8b46b180c55eebcc152e0155ce2c554c693"
 },
 "nbformat": 3,
 "nbformat_minor": 0,
 "worksheets": [
  {
   "cells": [
    {
     "cell_type": "code",
     "collapsed": false,
     "input": [
      "%matplotlib inline\n",
      "import matplotlib.pyplot as plt\n",
      "import numpy as np\n",
      "import pandas as pd\n",
      "import scipy.stats as stats\n",
      "import statsmodels.formula.api as smf\n",
      "\n",
      "from statsmodels.stats.anova import anova_lm"
     ],
     "language": "python",
     "metadata": {},
     "outputs": [],
     "prompt_number": 1
    },
    {
     "cell_type": "markdown",
     "metadata": {},
     "source": [
      "Level 1\n",
      "--------\n",
      "\n",
      "Use `enron.db` from last week.\n",
      "\n",
      "1. Select a `DataFrame` containing the recipient count (as before) and the `department` of the sender for each message.\n",
      "\n",
      "2. Create a histogram of the recipient count.\n",
      "\n",
      "3. Create a new column based on the `log` of the recipient count.\n",
      "\n",
      "4. Create a histogram of that log.\n",
      "\n",
      "5. Create a boxplot of the log, splitting the data based on the `department` of the sender.\n",
      "\n",
      "6. Compute the sample mean and standard deviation of the log in the three groups.\n",
      "\n",
      "7. Compute a 95% confidence interval for the difference in recipient count between the three groups. \n",
      "\n",
      "8. At level $\\alpha=5\\%$, test the null hypothesis that the average recipient count does not differ between the three groups. What assumptions are you making? What can you conclude?"
     ]
    },
    {
     "cell_type": "code",
     "collapsed": false,
     "input": [
      "%matplotlib inline\n",
      "import numpy as np\n",
      "import pandas as pd\n",
      "import sqlite3\n",
      "import statsmodels.formula.api as smf\n",
      "from pandas.io import sql\n",
      "conn = sqlite3.connect('enron.db')"
     ],
     "language": "python",
     "metadata": {},
     "outputs": [],
     "prompt_number": 2
    },
    {
     "cell_type": "heading",
     "level": 3,
     "metadata": {},
     "source": [
      "1. Select a `DataFrame` containing the recipient count (as before) and the `department` of the sender for each message."
     ]
    },
    {
     "cell_type": "code",
     "collapsed": false,
     "input": [
      "spammers = sql.frame_query(\"\"\"SELECT mid, MAX(rno) AS recipient_count, department\n",
      "    FROM EmployeeBase JOIN MessageBase ON eid = from_eid JOIN RecipientBase USING (mid) GROUP BY mid\"\"\", conn, \"mid\")"
     ],
     "language": "python",
     "metadata": {},
     "outputs": [],
     "prompt_number": 3
    },
    {
     "cell_type": "heading",
     "level": 3,
     "metadata": {},
     "source": [
      "2. Create a histogram of the recipient count."
     ]
    },
    {
     "cell_type": "code",
     "collapsed": false,
     "input": [
      "spammers.recipient_count.hist()"
     ],
     "language": "python",
     "metadata": {},
     "outputs": [
      {
       "metadata": {},
       "output_type": "pyout",
       "prompt_number": 4,
       "text": [
        "<matplotlib.axes.AxesSubplot at 0x1090f0910>"
       ]
      },
      {
       "metadata": {},
       "output_type": "display_data",
       "png": "[encoded data removed]",
       "text": [
        "<matplotlib.figure.Figure at 0x108ea3a90>"
       ]
      }
     ],
     "prompt_number": 4
    },
    {
     "cell_type": "heading",
     "level": 3,
     "metadata": {},
     "source": [
      "3. Create a new column based on the `log` of the recipient count."
     ]
    },
    {
     "cell_type": "code",
     "collapsed": false,
     "input": [
      "spammers['log_recipient_count'] = np.log(spammers.recipient_count)"
     ],
     "language": "python",
     "metadata": {},
     "outputs": [],
     "prompt_number": 5
    },
    {
     "cell_type": "heading",
     "level": 3,
     "metadata": {},
     "source": [
      "4. Create a histogram of that log."
     ]
    },
    {
     "cell_type": "code",
     "collapsed": false,
     "input": [
      "spammers.log_recipient_count.hist()"
     ],
     "language": "python",
     "metadata": {},
     "outputs": [
      {
       "metadata": {},
       "output_type": "pyout",
       "prompt_number": 6,
       "text": [
        "<matplotlib.axes.AxesSubplot at 0x109394390>"
       ]
      },
      {
       "metadata": {},
       "output_type": "display_data",
       "png": "[encoded data removed]",
       "text": [
        "<matplotlib.figure.Figure at 0x1041e9150>"
       ]
      }
     ],
     "prompt_number": 6
    },
    {
     "cell_type": "heading",
     "level": 3,
     "metadata": {},
     "source": [
      "5. Create a boxplot of the log, splitting the data based on the `department` of the sender."
     ]
    },
    {
     "cell_type": "code",
     "collapsed": false,
     "input": [
      "spammers.boxplot(column='log_recipient_count', by='department')"
     ],
     "language": "python",
     "metadata": {},
     "outputs": [
      {
       "metadata": {},
       "output_type": "pyout",
       "prompt_number": 7,
       "text": [
        "<matplotlib.axes.AxesSubplot at 0x10950e210>"
       ]
      },
      {
       "metadata": {},
       "output_type": "display_data",
       "png": "[encoded data removed]",
       "text": [
        "<matplotlib.figure.Figure at 0x109501810>"
       ]
      }
     ],
     "prompt_number": 7
    },
    {
     "cell_type": "heading",
     "level": 3,
     "metadata": {},
     "source": [
      "6. Compute the sample mean and standard deviation of the log in the three groups."
     ]
    },
    {
     "cell_type": "code",
     "collapsed": false,
     "input": [
      "spammers.groupby('department').log_recipient_count.mean()"
     ],
     "language": "python",
     "metadata": {},
     "outputs": [
      {
       "metadata": {},
       "output_type": "pyout",
       "prompt_number": 8,
       "text": [
        "department\n",
        "Legal         0.401037\n",
        "Other         0.307250\n",
        "Trading       0.259529\n",
        "Name: log_recipient_count, dtype: float64"
       ]
      }
     ],
     "prompt_number": 8
    },
    {
     "cell_type": "code",
     "collapsed": false,
     "input": [
      "spammers.groupby('department').log_recipient_count.std()"
     ],
     "language": "python",
     "metadata": {},
     "outputs": [
      {
       "metadata": {},
       "output_type": "pyout",
       "prompt_number": 9,
       "text": [
        "department\n",
        "Legal         0.593603\n",
        "Other         0.578159\n",
        "Trading       0.532759\n",
        "Name: log_recipient_count, dtype: float64"
       ]
      }
     ],
     "prompt_number": 9
    },
    {
     "cell_type": "code",
     "collapsed": false,
     "input": [
      "spammers.groupby('department').log_recipient_count.describe().unstack(1)"
     ],
     "language": "python",
     "metadata": {},
     "outputs": [
      {
       "html": [
        "<div style=\"max-height:1000px;max-width:1500px;overflow:auto;\">\n",
        "<table border=\"1\" class=\"dataframe\">\n",
        "  <thead>\n",
        "    <tr style=\"text-align: right;\">\n",
        "      <th></th>\n",
        "      <th>count</th>\n",
        "      <th>mean</th>\n",
        "      <th>std</th>\n",
        "      <th>min</th>\n",
        "      <th>25%</th>\n",
        "      <th>50%</th>\n",
        "      <th>75%</th>\n",
        "      <th>max</th>\n",
        "    </tr>\n",
        "    <tr>\n",
        "      <th>department</th>\n",
        "      <th></th>\n",
        "      <th></th>\n",
        "      <th></th>\n",
        "      <th></th>\n",
        "      <th></th>\n",
        "      <th></th>\n",
        "      <th></th>\n",
        "      <th></th>\n",
        "    </tr>\n",
        "  </thead>\n",
        "  <tbody>\n",
        "    <tr>\n",
        "      <th>Legal</th>\n",
        "      <td> 10396</td>\n",
        "      <td> 0.401037</td>\n",
        "      <td> 0.593603</td>\n",
        "      <td> 0</td>\n",
        "      <td> 0</td>\n",
        "      <td> 0</td>\n",
        "      <td> 0.693147</td>\n",
        "      <td> 3.044522</td>\n",
        "    </tr>\n",
        "    <tr>\n",
        "      <th>Other</th>\n",
        "      <td>  6852</td>\n",
        "      <td> 0.307250</td>\n",
        "      <td> 0.578159</td>\n",
        "      <td> 0</td>\n",
        "      <td> 0</td>\n",
        "      <td> 0</td>\n",
        "      <td> 0.693147</td>\n",
        "      <td> 4.043051</td>\n",
        "    </tr>\n",
        "    <tr>\n",
        "      <th>Trading</th>\n",
        "      <td>  4387</td>\n",
        "      <td> 0.259529</td>\n",
        "      <td> 0.532759</td>\n",
        "      <td> 0</td>\n",
        "      <td> 0</td>\n",
        "      <td> 0</td>\n",
        "      <td> 0.000000</td>\n",
        "      <td> 2.995732</td>\n",
        "    </tr>\n",
        "  </tbody>\n",
        "</table>\n",
        "<p>3 rows \u00d7 8 columns</p>\n",
        "</div>"
       ],
       "metadata": {},
       "output_type": "pyout",
       "prompt_number": 10,
       "text": [
        "            count      mean       std  min  25%  50%       75%       max\n",
        "department                                                              \n",
        "Legal       10396  0.401037  0.593603    0    0    0  0.693147  3.044522\n",
        "Other        6852  0.307250  0.578159    0    0    0  0.693147  4.043051\n",
        "Trading      4387  0.259529  0.532759    0    0    0  0.000000  2.995732\n",
        "\n",
        "[3 rows x 8 columns]"
       ]
      }
     ],
     "prompt_number": 10
    },
    {
     "cell_type": "code",
     "collapsed": false,
     "input": [
      "print smf.glm(\"log_recipient_count ~ department - 1\", spammers).fit().summary()"
     ],
     "language": "python",
     "metadata": {},
     "outputs": [
      {
       "output_type": "stream",
       "stream": "stdout",
       "text": [
        "                  Generalized Linear Model Regression Results                  \n",
        "===============================================================================\n",
        "Dep. Variable:     log_recipient_count   No. Observations:                21635\n",
        "Model:                             GLM   Df Residuals:                    21632\n",
        "Model Family:                 Gaussian   Df Model:                            2\n",
        "Link Function:                identity   Scale:                  0.332737797179\n",
        "Method:                           IRLS   Log-Likelihood:                -18794.\n",
        "Date:                 Wed, 14 May 2014   Deviance:                       7197.8\n",
        "Time:                         20:56:16   Pearson chi2:                 7.20e+03\n",
        "No. Iterations:                      3                                         \n",
        "=======================================================================================\n",
        "                          coef    std err          t      P>|t|      [95.0% Conf. Int.]\n",
        "---------------------------------------------------------------------------------------\n",
        "department[Legal]       0.4010      0.006     70.887      0.000         0.390     0.412\n",
        "department[Other]       0.3072      0.007     44.091      0.000         0.294     0.321\n",
        "department[Trading]     0.2595      0.009     29.800      0.000         0.242     0.277\n",
        "=======================================================================================\n"
       ]
      }
     ],
     "prompt_number": 11
    },
    {
     "cell_type": "heading",
     "level": 3,
     "metadata": {},
     "source": [
      "7. Compute a 95% confidence interval for the difference in recipient count between the three groups. "
     ]
    },
    {
     "cell_type": "code",
     "collapsed": false,
     "input": [
      "print smf.glm(\"log_recipient_count ~ department == 'Legal'\", spammers).fit().summary()"
     ],
     "language": "python",
     "metadata": {},
     "outputs": [
      {
       "output_type": "stream",
       "stream": "stdout",
       "text": [
        "                  Generalized Linear Model Regression Results                  \n",
        "===============================================================================\n",
        "Dep. Variable:     log_recipient_count   No. Observations:                21635\n",
        "Model:                             GLM   Df Residuals:                    21633\n",
        "Model Family:                 Gaussian   Df Model:                            1\n",
        "Link Function:                identity   Scale:                  0.333003969087\n",
        "Method:                           IRLS   Log-Likelihood:                -18803.\n",
        "Date:                 Wed, 14 May 2014   Deviance:                       7203.9\n",
        "Time:                         20:56:17   Pearson chi2:                 7.20e+03\n",
        "No. Iterations:                      3                                         \n",
        "=================================================================================================\n",
        "                                    coef    std err          t      P>|t|      [95.0% Conf. Int.]\n",
        "-------------------------------------------------------------------------------------------------\n",
        "Intercept                         0.2886      0.005     53.024      0.000         0.278     0.299\n",
        "department == 'Legal'[T.True]     0.1124      0.008     14.316      0.000         0.097     0.128\n",
        "=================================================================================================\n"
       ]
      }
     ],
     "prompt_number": 12
    },
    {
     "cell_type": "code",
     "collapsed": false,
     "input": [
      "print smf.glm(\"log_recipient_count ~ department == 'Trading'\", spammers).fit().summary()"
     ],
     "language": "python",
     "metadata": {},
     "outputs": [
      {
       "output_type": "stream",
       "stream": "stdout",
       "text": [
        "                  Generalized Linear Model Regression Results                  \n",
        "===============================================================================\n",
        "Dep. Variable:     log_recipient_count   No. Observations:                21635\n",
        "Model:                             GLM   Df Residuals:                    21633\n",
        "Model Family:                 Gaussian   Df Model:                            1\n",
        "Link Function:                identity   Scale:                  0.334401668781\n",
        "Method:                           IRLS   Log-Likelihood:                -18848.\n",
        "Date:                 Wed, 14 May 2014   Deviance:                       7234.1\n",
        "Time:                         20:56:17   Pearson chi2:                 7.23e+03\n",
        "No. Iterations:                      3                                         \n",
        "===================================================================================================\n",
        "                                      coef    std err          t      P>|t|      [95.0% Conf. Int.]\n",
        "---------------------------------------------------------------------------------------------------\n",
        "Intercept                           0.3638      0.004     82.618      0.000         0.355     0.372\n",
        "department == 'Trading'[T.True]    -0.1043      0.010    -10.661      0.000        -0.123    -0.085\n",
        "===================================================================================================\n"
       ]
      }
     ],
     "prompt_number": 13
    },
    {
     "cell_type": "code",
     "collapsed": false,
     "input": [
      "print smf.glm(\"log_recipient_count ~ department == 'Other'\", spammers).fit().summary()"
     ],
     "language": "python",
     "metadata": {},
     "outputs": [
      {
       "output_type": "stream",
       "stream": "stdout",
       "text": [
        "                  Generalized Linear Model Regression Results                  \n",
        "===============================================================================\n",
        "Dep. Variable:     log_recipient_count   No. Observations:                21635\n",
        "Model:                             GLM   Df Residuals:                    21633\n",
        "Model Family:                 Gaussian   Df Model:                            1\n",
        "Link Function:                identity   Scale:                  0.335578154682\n",
        "Method:                           IRLS   Log-Likelihood:                -18886.\n",
        "Date:                 Wed, 14 May 2014   Deviance:                       7259.6\n",
        "Time:                         20:56:17   Pearson chi2:                 7.26e+03\n",
        "No. Iterations:                      3                                         \n",
        "=================================================================================================\n",
        "                                    coef    std err          t      P>|t|      [95.0% Conf. Int.]\n",
        "-------------------------------------------------------------------------------------------------\n",
        "Intercept                         0.3590      0.005     75.358      0.000         0.350     0.368\n",
        "department == 'Other'[T.True]    -0.0518      0.008     -6.118      0.000        -0.068    -0.035\n",
        "=================================================================================================\n"
       ]
      }
     ],
     "prompt_number": 14
    },
    {
     "cell_type": "heading",
     "level": 3,
     "metadata": {},
     "source": [
      "8. At level $\\alpha=5\\%$, test the null hypothesis that the average recipient count does not differ between the three groups. What assumptions are you making? What can you conclude?"
     ]
    },
    {
     "cell_type": "code",
     "collapsed": false,
     "input": [
      "print smf.ols(\"log_recipient_count ~ department\", spammers).fit().summary(alpha=.1)"
     ],
     "language": "python",
     "metadata": {},
     "outputs": [
      {
       "output_type": "stream",
       "stream": "stdout",
       "text": [
        "                             OLS Regression Results                            \n",
        "===============================================================================\n",
        "Dep. Variable:     log_recipient_count   R-squared:                       0.010\n",
        "Model:                             OLS   Adj. R-squared:                  0.010\n",
        "Method:                  Least Squares   F-statistic:                     111.7\n",
        "Date:                 Wed, 14 May 2014   Prob (F-statistic):           5.44e-49\n",
        "Time:                         20:56:18   Log-Likelihood:                -18794.\n",
        "No. Observations:                21635   AIC:                         3.759e+04\n",
        "Df Residuals:                    21632   BIC:                         3.762e+04\n",
        "Df Model:                            2                                         \n",
        "Covariance Type:             nonrobust                                         \n",
        "=========================================================================================\n",
        "                            coef    std err          t      P>|t|      [90.0% Conf. Int.]\n",
        "-----------------------------------------------------------------------------------------\n",
        "Intercept                 0.4010      0.006     70.887      0.000         0.392     0.410\n",
        "department[T.Other]      -0.0938      0.009    -10.449      0.000        -0.109    -0.079\n",
        "department[T.Trading]    -0.1415      0.010    -13.626      0.000        -0.159    -0.124\n",
        "==============================================================================\n",
        "Omnibus:                     6257.587   Durbin-Watson:                   1.858\n",
        "Prob(Omnibus):                  0.000   Jarque-Bera (JB):            14622.508\n",
        "Skew:                           1.652   Prob(JB):                         0.00\n",
        "Kurtosis:                       5.303   Cond. No.                         3.32\n",
        "==============================================================================\n",
        "\n",
        "Warnings:\n",
        "[1] Standard Errors assume that the covariance matrix of the errors is correctly specified.\n"
       ]
      }
     ],
     "prompt_number": 15
    },
    {
     "cell_type": "markdown",
     "metadata": {},
     "source": [
      "5.44e-49"
     ]
    }
   ],
   "metadata": {}
  }
 ]
}