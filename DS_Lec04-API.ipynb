{
 "metadata": {
  "celltoolbar": "Slideshow",
  "name": "",
  "signature": "sha256:f0582dbe0c2c3116af8b5f6da47f831e30ab6d480664d40c1e9d3665525f178f"
 },
 "nbformat": 3,
 "nbformat_minor": 0,
 "worksheets": [
  {
   "cells": [
    {
     "cell_type": "markdown",
     "metadata": {
      "slideshow": {
       "slide_type": "slide"
      }
     },
     "source": [
      "Data Science\n",
      "====\n",
      "### APIs, JSON, NoSQL Databases\n",
      "\n",
      "Alessandro Gagliardi  \n",
      "Sr. Data Scientist, [Glassdoor.com](Glassdoor.com)"
     ]
    },
    {
     "cell_type": "markdown",
     "metadata": {
      "slideshow": {
       "slide_type": "slide"
      }
     },
     "source": [
      "Last Time\n",
      "=================\n",
      "- Relational Databases\n",
      "    - Normalization\n",
      "    - Natural vs. Artificial Keys\n",
      "    - Star Schema\n",
      "    - `JOIN`\n",
      "    - `GROUP BY`\n",
      "    - `MAX`\n",
      "- Pandas\n",
      "    - `.head()`\n",
      "    - `.join()`\n",
      "    - `.merge()`\n",
      "    - `.hist()`\n",
      "    - `.plot()`\n",
      "    - `.mean()`\n",
      "    - `.map()`\n",
      "    - `.groupby()`\n",
      "    - `.count()`\n",
      "    - `.resample()`\n",
      "    \n",
      "### Questions?"
     ]
    },
    {
     "cell_type": "markdown",
     "metadata": {
      "slideshow": {
       "slide_type": "slide"
      }
     },
     "source": [
      "Agenda\n",
      "------\n",
      "\n",
      "1. APIs & JSON\n",
      "2. NoSQL Databases\n",
      "3. Lab: Twitter & MongoDB"
     ]
    },
    {
     "cell_type": "heading",
     "level": 1,
     "metadata": {
      "slideshow": {
       "slide_type": "slide"
      }
     },
     "source": [
      "1. APIs & JSON"
     ]
    },
    {
     "cell_type": "markdown",
     "metadata": {
      "slideshow": {
       "slide_type": "slide"
      }
     },
     "source": [
      "Speaking broadly:\n",
      "\n",
      "> An application programming interface (API) specifies how some software components should interact with each other.\n",
      "\n",
      "More specifically:\n",
      "\n",
      "> A web API is a programmatic interface to a defined request-response message system, typically expressed in JSON or XML, which is exposed via the web\u2014most commonly by means of an HTTP-based web server.\n",
      "\n",
      "<small>*from [Wikipedia](http://en.wikipedia.org/wiki/Application_programming_interface)*</small>"
     ]
    },
    {
     "cell_type": "markdown",
     "metadata": {
      "slideshow": {
       "slide_type": "slide"
      }
     },
     "source": [
      "Web APIs allow people to interact with the structures of an application to: \n",
      "\n",
      "- get\n",
      "- put\n",
      "- delete \n",
      "- update  \n",
      "\n",
      "data"
     ]
    },
    {
     "cell_type": "markdown",
     "metadata": {
      "slideshow": {
       "slide_type": "fragment"
      }
     },
     "source": [
      "Best practices for web APIs are to use RESTful principles."
     ]
    },
    {
     "cell_type": "markdown",
     "metadata": {
      "slideshow": {
       "slide_type": "notes"
      }
     },
     "source": [
      "Think of some web services you might like to get data from. Perhaps they have APIs?"
     ]
    },
    {
     "cell_type": "markdown",
     "metadata": {
      "slideshow": {
       "slide_type": "fragment"
      }
     },
     "source": [
      "REST = REpresentational State Transfer"
     ]
    },
    {
     "cell_type": "markdown",
     "metadata": {
      "slideshow": {
       "slide_type": "slide"
      }
     },
     "source": [
      "REST vs. SQL\n",
      "    \n",
      "`GET    ( ~ SELECT)`  \n",
      "`POST   ( ~ UPDATE)`  \n",
      "`PUT    ( ~ INSERT)`  \n",
      "`DELETE ( ~ DELETE)`  "
     ]
    },
    {
     "cell_type": "markdown",
     "metadata": {
      "slideshow": {
       "slide_type": "subslide"
      }
     },
     "source": [
      "<H3>RESTful web API HTTP methods</H3>\n",
      "<TABLE>\n",
      "<TR><TH>Resource</TH><TH>GET</TH><TH>PUT</TH><TH>POST</TH><TH>DELETE</TH></TR>\n",
      "<TR><TH>Collection URI, such as http://example.com/resources</TH><TD><B>List</B> the URIs and perhaps other details of the collection's members.</TD><TD><B>Replace</B> the entire collection with another collection.</TD><TD><B>Create</B> a new entry in the collection. The new entry's URI is assigned automatically and is usually returned by the operation.</TD><TD><B>Delete</B> the entire collection.</TD></TR>\n",
      "<TR><TH>Element URI, such as http://example.com/resources/item17</TH><TD><B>Retrieve</B> a representation of the addressed member of the collection, expressed in an appropriate Internet media type.</TD><TD><B>Replace</B> the addressed member of the collection, or if it doesn't exist, create it.</TD><TD>Not generally used. Treat the addressed member as a collection in its own right and create a new entry in it.</TD><TD><B>Delete</B> the addressed member of the collection.</TD></TR>\n",
      "</TABLE>\n",
      "\n",
      "<SMALL>*From http://en.wikipedia.org/wiki/Representational_state_transfer*</SMALL>"
     ]
    },
    {
     "cell_type": "markdown",
     "metadata": {
      "slideshow": {
       "slide_type": "slide"
      }
     },
     "source": [
      "#### HTTP requests can be handled easily using Python's `requests` library.\n",
      "\n",
      "First we will load our credentials which we keep in a [YAML](http://www.yaml.org/) file for safe keeping."
     ]
    },
    {
     "cell_type": "code",
     "collapsed": false,
     "input": [
      "import yaml\n",
      "credentials = yaml.load(open('/Users/alessandro.gagliardi/api_cred.yml'))"
     ],
     "language": "python",
     "metadata": {
      "slideshow": {
       "slide_type": "fragment"
      }
     },
     "outputs": [],
     "prompt_number": 1
    },
    {
     "cell_type": "markdown",
     "metadata": {
      "slideshow": {
       "slide_type": "fragment"
      }
     },
     "source": [
      "Then we pass those credentials in to a GET request using the requests library. In this case, I am querying my own user data from Github:"
     ]
    },
    {
     "cell_type": "code",
     "collapsed": false,
     "input": [
      "import requests\n",
      "r = requests.get('https://api.github.com/user', \n",
      "                 auth=(credentials['USER'], credentials['PASS']))"
     ],
     "language": "python",
     "metadata": {
      "slideshow": {
       "slide_type": "fragment"
      }
     },
     "outputs": [],
     "prompt_number": 2
    },
    {
     "cell_type": "markdown",
     "metadata": {
      "slideshow": {
       "slide_type": "fragment"
      }
     },
     "source": [
      "Requests gives us an object from which we can read its content."
     ]
    },
    {
     "cell_type": "code",
     "collapsed": false,
     "input": [
      "r.content"
     ],
     "language": "python",
     "metadata": {
      "slideshow": {
       "slide_type": "fragment"
      }
     },
     "outputs": [
      {
       "metadata": {},
       "output_type": "pyout",
       "prompt_number": 3,
       "text": [
        "'{\"login\":\"eklypse\",\"id\":896607,\"avatar_url\":\"https://avatars.githubusercontent.com/u/896607?\",\"gravatar_id\":\"42c577edc388cc9d1050927da89d47cc\",\"url\":\"https://api.github.com/users/eklypse\",\"html_url\":\"https://github.com/eklypse\",\"followers_url\":\"https://api.github.com/users/eklypse/followers\",\"following_url\":\"https://api.github.com/users/eklypse/following{/other_user}\",\"gists_url\":\"https://api.github.com/users/eklypse/gists{/gist_id}\",\"starred_url\":\"https://api.github.com/users/eklypse/starred{/owner}{/repo}\",\"subscriptions_url\":\"https://api.github.com/users/eklypse/subscriptions\",\"organizations_url\":\"https://api.github.com/users/eklypse/orgs\",\"repos_url\":\"https://api.github.com/users/eklypse/repos\",\"events_url\":\"https://api.github.com/users/eklypse/events{/privacy}\",\"received_events_url\":\"https://api.github.com/users/eklypse/received_events\",\"type\":\"User\",\"site_admin\":false,\"name\":\"Alessandro D. Gagliardi\",\"company\":\"Glassdoor.com\",\"blog\":\"twitter.com/MadDataScience\",\"location\":\"San Francisco\",\"email\":null,\"hireable\":false,\"bio\":null,\"public_repos\":7,\"public_gists\":1,\"followers\":6,\"following\":21,\"created_at\":\"2011-07-05T20:17:04Z\",\"updated_at\":\"2014-04-17T04:29:30Z\",\"private_gists\":1,\"total_private_repos\":2,\"owned_private_repos\":0,\"disk_usage\":88449,\"collaborators\":0,\"plan\":{\"name\":\"free\",\"space\":307200,\"collaborators\":0,\"private_repos\":0}}'"
       ]
      }
     ],
     "prompt_number": 3
    },
    {
     "cell_type": "markdown",
     "metadata": {
      "slideshow": {
       "slide_type": "subslide"
      }
     },
     "source": [
      "#### One of the reasons we like JSON is that it is easy to transform into a Python `dict` object using the `json` library:"
     ]
    },
    {
     "cell_type": "code",
     "collapsed": false,
     "input": [
      "import json\n",
      "user = json.loads(r.content)\n",
      "user"
     ],
     "language": "python",
     "metadata": {
      "slideshow": {
       "slide_type": "fragment"
      }
     },
     "outputs": [
      {
       "metadata": {},
       "output_type": "pyout",
       "prompt_number": 4,
       "text": [
        "{u'avatar_url': u'https://avatars.githubusercontent.com/u/896607?',\n",
        " u'bio': None,\n",
        " u'blog': u'twitter.com/MadDataScience',\n",
        " u'collaborators': 0,\n",
        " u'company': u'Glassdoor.com',\n",
        " u'created_at': u'2011-07-05T20:17:04Z',\n",
        " u'disk_usage': 88449,\n",
        " u'email': None,\n",
        " u'events_url': u'https://api.github.com/users/eklypse/events{/privacy}',\n",
        " u'followers': 6,\n",
        " u'followers_url': u'https://api.github.com/users/eklypse/followers',\n",
        " u'following': 21,\n",
        " u'following_url': u'https://api.github.com/users/eklypse/following{/other_user}',\n",
        " u'gists_url': u'https://api.github.com/users/eklypse/gists{/gist_id}',\n",
        " u'gravatar_id': u'42c577edc388cc9d1050927da89d47cc',\n",
        " u'hireable': False,\n",
        " u'html_url': u'https://github.com/eklypse',\n",
        " u'id': 896607,\n",
        " u'location': u'San Francisco',\n",
        " u'login': u'eklypse',\n",
        " u'name': u'Alessandro D. Gagliardi',\n",
        " u'organizations_url': u'https://api.github.com/users/eklypse/orgs',\n",
        " u'owned_private_repos': 0,\n",
        " u'plan': {u'collaborators': 0,\n",
        "  u'name': u'free',\n",
        "  u'private_repos': 0,\n",
        "  u'space': 307200},\n",
        " u'private_gists': 1,\n",
        " u'public_gists': 1,\n",
        " u'public_repos': 7,\n",
        " u'received_events_url': u'https://api.github.com/users/eklypse/received_events',\n",
        " u'repos_url': u'https://api.github.com/users/eklypse/repos',\n",
        " u'site_admin': False,\n",
        " u'starred_url': u'https://api.github.com/users/eklypse/starred{/owner}{/repo}',\n",
        " u'subscriptions_url': u'https://api.github.com/users/eklypse/subscriptions',\n",
        " u'total_private_repos': 2,\n",
        " u'type': u'User',\n",
        " u'updated_at': u'2014-04-17T04:29:30Z',\n",
        " u'url': u'https://api.github.com/users/eklypse'}"
       ]
      }
     ],
     "prompt_number": 4
    },
    {
     "cell_type": "code",
     "collapsed": false,
     "input": [
      "print user.keys()"
     ],
     "language": "python",
     "metadata": {
      "slideshow": {
       "slide_type": "skip"
      }
     },
     "outputs": [
      {
       "output_type": "stream",
       "stream": "stdout",
       "text": [
        "[u'disk_usage', u'private_gists', u'public_repos', u'site_admin', u'subscriptions_url', u'gravatar_id', u'hireable', u'id', u'followers_url', u'following_url', u'collaborators', u'total_private_repos', u'blog', u'followers', u'location', u'type', u'email', u'bio', u'gists_url', u'owned_private_repos', u'company', u'events_url', u'html_url', u'updated_at', u'plan', u'received_events_url', u'starred_url', u'public_gists', u'name', u'organizations_url', u'url', u'created_at', u'avatar_url', u'repos_url', u'following', u'login']\n"
       ]
      }
     ],
     "prompt_number": 5
    },
    {
     "cell_type": "markdown",
     "metadata": {
      "slideshow": {
       "slide_type": "subslide"
      }
     },
     "source": [
      "We can access values in this dict directly (such as my hireable status) and even render the url of my avatar:"
     ]
    },
    {
     "cell_type": "code",
     "collapsed": false,
     "input": [
      "from IPython.display import Image\n",
      "print \"Hireable: {}\".format(user.get('hireable'))\n",
      "Image(url=user.get('avatar_url'))"
     ],
     "language": "python",
     "metadata": {
      "slideshow": {
       "slide_type": "fragment"
      }
     },
     "outputs": [
      {
       "output_type": "stream",
       "stream": "stdout",
       "text": [
        "Hireable: False\n"
       ]
      },
      {
       "html": [
        "<img src=\"https://avatars.githubusercontent.com/u/896607?\"/>"
       ],
       "metadata": {},
       "output_type": "pyout",
       "prompt_number": 6,
       "text": [
        "<IPython.core.display.Image at 0x10073ce50>"
       ]
      }
     ],
     "prompt_number": 6
    },
    {
     "cell_type": "heading",
     "level": 1,
     "metadata": {
      "slideshow": {
       "slide_type": "slide"
      }
     },
     "source": [
      "Twitter API"
     ]
    },
    {
     "cell_type": "markdown",
     "metadata": {
      "slideshow": {
       "slide_type": "slide"
      }
     },
     "source": [
      "<img src=\"assets/twitter.png\" />"
     ]
    },
    {
     "cell_type": "markdown",
     "metadata": {
      "slideshow": {
       "slide_type": "slide"
      }
     },
     "source": [
      "<img src=assets/twitterlib.png />"
     ]
    },
    {
     "cell_type": "markdown",
     "metadata": {
      "slideshow": {
       "slide_type": "notes"
      }
     },
     "source": [
      "Twitter has no less than 10 python libraries. We'll be using Python Twitter Tools because it's what's used in Mining the Social Web."
     ]
    },
    {
     "cell_type": "markdown",
     "metadata": {
      "slideshow": {
       "slide_type": "skip"
      }
     },
     "source": [
      "#### Some services (like Twitter) have released Python libraries of their own to make using their API even easier."
     ]
    },
    {
     "cell_type": "code",
     "collapsed": false,
     "input": [
      "import twitter\n",
      "\n",
      "auth = twitter.oauth.OAuth(credentials['ACCESS_TOKEN'], \n",
      "                           credentials['ACCESS_TOKEN_SECRET'],\n",
      "                           credentials['API_KEY'],\n",
      "                           credentials['API_SECRET'])\n",
      "\n",
      "twitter_api = twitter.Twitter(auth=auth)\n",
      "\n",
      "print twitter_api"
     ],
     "language": "python",
     "metadata": {
      "slideshow": {
       "slide_type": "slide"
      }
     },
     "outputs": [
      {
       "output_type": "stream",
       "stream": "stdout",
       "text": [
        "<twitter.api.Twitter object at 0x1062ec810>\n"
       ]
      }
     ],
     "prompt_number": 7
    },
    {
     "cell_type": "markdown",
     "metadata": {
      "slideshow": {
       "slide_type": "skip"
      }
     },
     "source": [
      "#### Using a library like this, we don't even need to specify the URL (that's handled internally)."
     ]
    },
    {
     "cell_type": "markdown",
     "metadata": {
      "slideshow": {
       "slide_type": "slide"
      }
     },
     "source": [
      "Using a library like this, it's easy to do something like search for tweets mentioning `#bigdata`  \n",
      "\n",
      "The results are transformed into a Python object (which in this case is a thin wrapper around a `dict`)"
     ]
    },
    {
     "cell_type": "code",
     "collapsed": false,
     "input": [
      "bigdata = twitter_api.search.tweets(q='#bigdata', count=5)\n",
      "type(bigdata)"
     ],
     "language": "python",
     "metadata": {
      "slideshow": {
       "slide_type": "fragment"
      }
     },
     "outputs": [
      {
       "metadata": {},
       "output_type": "pyout",
       "prompt_number": 8,
       "text": [
        "twitter.api.TwitterDictResponse"
       ]
      }
     ],
     "prompt_number": 8
    },
    {
     "cell_type": "code",
     "collapsed": false,
     "input": [
      "for status in bigdata['statuses']:\n",
      "    print status.get('text')"
     ],
     "language": "python",
     "metadata": {
      "slideshow": {
       "slide_type": "fragment"
      }
     },
     "outputs": [
      {
       "output_type": "stream",
       "stream": "stdout",
       "text": [
        "RT @mapr: Gear up for today's @ApacheMahout meetup! Hosted by Intuit in Mountain View @ 6pm. http://t.co/wM0NwPjtdZ #machinelearning #hadoo\u2026\n",
        "RT @iron_light: \"Knowledge Ecology\" translates to dynamic \"Knowledge Management\" #JoinTheConversation http://t.co/83HrO0sOMc #bigdata http:\u2026\n",
        "I hate that stores use my phone #, as a #database ID. Bad idea for these mobile times. I will forever be tied to 2004 cell. #bigdata\n",
        "RT @BigDataBorat: Result of Pok\u00e9mon or #bigdata survey in: Tokutek is database most likely confuse as Pok\u00e9mon http://t.co/YaNKY5wfSJ\n",
        "RT @BigDataBorat: Result of Pok\u00e9mon or #bigdata survey in: Tokutek is database most likely confuse as Pok\u00e9mon http://t.co/YaNKY5wfSJ\n"
       ]
      }
     ],
     "prompt_number": 9
    },
    {
     "cell_type": "markdown",
     "metadata": {
      "slideshow": {
       "slide_type": "skip"
      }
     },
     "source": [
      "<img src=assets/twitterapp.png />"
     ]
    },
    {
     "cell_type": "heading",
     "level": 1,
     "metadata": {
      "slideshow": {
       "slide_type": "slide"
      }
     },
     "source": [
      "2. NoSQL"
     ]
    },
    {
     "cell_type": "markdown",
     "metadata": {
      "slideshow": {
       "slide_type": "slide"
      }
     },
     "source": [
      "NoSQL databases are a new trend in databases"
     ]
    },
    {
     "cell_type": "markdown",
     "metadata": {
      "slideshow": {
       "slide_type": "fragment"
      }
     },
     "source": [
      "The name **NoSQL** refers to the lack of a relational structure between stored objects. Data are *semi-structured*."
     ]
    },
    {
     "cell_type": "markdown",
     "metadata": {
      "slideshow": {
       "slide_type": "fragment"
      }
     },
     "source": [
      "Most importantly they attempt to minimize the need for **JOIN** operations, or solve other data needs"
     ]
    },
    {
     "cell_type": "markdown",
     "metadata": {
      "slideshow": {
       "slide_type": "fragment"
      }
     },
     "source": [
      "This is good for engineers but bad for data scientists."
     ]
    },
    {
     "cell_type": "markdown",
     "metadata": {
      "slideshow": {
       "slide_type": "fragment"
      }
     },
     "source": [
      "Still, NoSQL databases have their uses."
     ]
    },
    {
     "cell_type": "markdown",
     "metadata": {
      "slideshow": {
       "slide_type": "slide"
      }
     },
     "source": [
      "### What makes a NoSQL database?\n",
      "\n",
      "* Doesn't use SQL as query language\n",
      "    - usually more primitive query langauge\n",
      "    - sometimes key/value only\n",
      "* BASE rather than ACID\n",
      "    - that is, sacrifices consistency for availability\n",
      "* Schemaless\n",
      "    - that is, data need not conform to a predefined schema (i.e. *semi-structured*)"
     ]
    },
    {
     "cell_type": "markdown",
     "metadata": {
      "slideshow": {
       "slide_type": "subslide"
      }
     },
     "source": [
      "### BASE vs ACID\n",
      "\n",
      "* ACID\n",
      "    - Atomicity\n",
      "    - Consistency\n",
      "    - Isolation\n",
      "    - Durability\n",
      "* BASE\n",
      "    - Basically Available\n",
      "    - Soft-state\n",
      "    - Eventual consistency"
     ]
    },
    {
     "cell_type": "markdown",
     "metadata": {
      "slideshow": {
       "slide_type": "subslide"
      }
     },
     "source": [
      "## CAP\n",
      "\n",
      "* Consistency\n",
      "    - all nodes always give the same answer\n",
      "* Availability\n",
      "    - nodes always answer queries and accept updates\n",
      "* Partition-tolerance\n",
      "    - system continues working even if one or more nodes go down"
     ]
    },
    {
     "cell_type": "markdown",
     "metadata": {
      "slideshow": {
       "slide_type": "fragment"
      }
     },
     "source": [
      "### CAP Theorem: Pick two"
     ]
    },
    {
     "cell_type": "markdown",
     "metadata": {
      "slideshow": {
       "slide_type": "subslide"
      }
     },
     "source": [
      "### Eventual consistency\n",
      "\n",
      "* A key property of non-ACID systems\n",
      "* Means\n",
      "    - if no further changes made,\n",
      "    - eventually all nodes will be consistent\n",
      "* In itself eventual consistency is a very weak guarantee\n",
      "    - when is \"eventually\"?\n",
      "    - in practice it means the system can be inconsetent at any time\n",
      "* Stronger guarantees are sometimes made\n",
      "    - with prediction and measuring, actual behavior can be quantified\n",
      "    - in practice, systems often *appear* strongly consistent"
     ]
    },
    {
     "cell_type": "markdown",
     "metadata": {
      "slideshow": {
       "slide_type": "slide"
      }
     },
     "source": [
      "NoSQL Examples\n",
      "--------------\n",
      "\n",
      "* Memcached\n",
      "* Cassandra\n",
      "* MongoDB"
     ]
    },
    {
     "cell_type": "markdown",
     "metadata": {
      "slideshow": {
       "slide_type": "notes"
      }
     },
     "source": [
      "More Examples:\n",
      "--------------\n",
      "* Apache HBase\n",
      "* CouchDB\n",
      "* DynamoDB"
     ]
    },
    {
     "cell_type": "markdown",
     "metadata": {
      "slideshow": {
       "slide_type": "slide"
      }
     },
     "source": [
      "**Memcached**:\n",
      "\n",
      " - Developed by LiveJournal\n",
      " - Distributed key-value store (like a Python Dict)\n",
      " - Supports two **very fast** operations: **get** and **set**\n",
      "\n",
      "Memcached is best used for storing application configuration settings, and essential **caching** those settings."
     ]
    },
    {
     "cell_type": "markdown",
     "metadata": {
      "slideshow": {
       "slide_type": "slide"
      }
     },
     "source": [
      "**Cassandra**:\n",
      "\n",
      " - Developed by Facebook\n",
      " - Messages application and Inbox Search\n",
      " - Key-Value (ish)\n",
      "      - Supports query by key or key range\n",
      " - Very fast writing speeds\n",
      " - Useful for record keeping, logging\n"
     ]
    },
    {
     "cell_type": "markdown",
     "metadata": {
      "slideshow": {
       "slide_type": "slide"
      }
     },
     "source": [
      "**Mongo**:\n",
      "\n",
      " - Developed by 10Gen (now MongoDB, Inc)\n",
      " - Document and Collection Structure\n",
      " - BSON (JSON-like) Storage system\n",
      " - Aggregation Framework"
     ]
    },
    {
     "cell_type": "markdown",
     "metadata": {
      "slideshow": {
       "slide_type": "notes"
      }
     },
     "source": [
      "When might you want to use a NoSQL database? When not?"
     ]
    },
    {
     "cell_type": "heading",
     "level": 1,
     "metadata": {
      "slideshow": {
       "slide_type": "slide"
      }
     },
     "source": [
      "Mongo"
     ]
    },
    {
     "cell_type": "markdown",
     "metadata": {
      "slideshow": {
       "slide_type": "slide"
      }
     },
     "source": [
      "### What is MongoDB?\n",
      "\n",
      "MongoDB is an open-source document database that provides high performance, high availability, and automatic scaling."
     ]
    },
    {
     "cell_type": "markdown",
     "metadata": {
      "slideshow": {
       "slide_type": "fragment"
      }
     },
     "source": [
      "#### Document Database\n",
      "\n",
      "A record in MongoDB is a document, which is a data structure composed of field and value pairs. MongoDB documents are similar to JSON objects. The values of fields may include other documents, arrays, and arrays of documents.\n",
      "\n",
      "<img src=http://docs.mongodb.org/v2.4/_images/crud-annotated-document.png />\n",
      "\n",
      "A MongoDB document.\n",
      "\n",
      "The advantages of using documents are:\n",
      "\n",
      "-   Documents (i.e. objects) correspond to native data types in many programming language.\n",
      "-   Embedded documents and arrays reduce need for expensive joins.\n",
      "-   Dynamic schema supports fluent polymorphism."
     ]
    },
    {
     "cell_type": "markdown",
     "metadata": {
      "slideshow": {
       "slide_type": "notes"
      }
     },
     "source": [
      "Notice how similar this looks to a Python dictionary."
     ]
    },
    {
     "cell_type": "markdown",
     "metadata": {
      "slideshow": {
       "slide_type": "slide"
      }
     },
     "source": [
      "Let's get started:\n",
      "=========================\n",
      "*Open* [`DS_Lab04-API`](DS_Lab04-API.slides.html?theme=ga)\n",
      "-------------------------"
     ]
    }
   ],
   "metadata": {}
  }
 ]
}