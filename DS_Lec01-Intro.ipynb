{
 "metadata": {
  "celltoolbar": "Slideshow",
  "name": "",
  "signature": "sha256:e9619f44a116e59fc32f136cd2186ae6b073ad850ccaf639fb71dfbe59be2a04"
 },
 "nbformat": 3,
 "nbformat_minor": 0,
 "worksheets": [
  {
   "cells": [
    {
     "cell_type": "markdown",
     "metadata": {
      "slideshow": {
       "slide_type": "slide"
      }
     },
     "source": [
      "Data Science\n",
      "=========================\n",
      "Introduction and Overview\n",
      "-------------------------\n",
      "  \n",
      "Alessandro Gagliardi  \n",
      "Sr. Data Scientist, [Glassdoor.com](Glassdoor.com)"
     ]
    },
    {
     "cell_type": "heading",
     "level": 1,
     "metadata": {
      "slideshow": {
       "slide_type": "slide"
      }
     },
     "source": [
      "Welcome!"
     ]
    },
    {
     "cell_type": "markdown",
     "metadata": {
      "slideshow": {
       "slide_type": "notes"
      }
     },
     "source": [
      "Welcome to General Assembly's Data Science course."
     ]
    },
    {
     "cell_type": "markdown",
     "metadata": {
      "slideshow": {
       "slide_type": "slide"
      }
     },
     "source": [
      "<table border=\"0\" style=\"border-collapse:collapse;\" cellspacing=\"0\">\n",
      "<tr><td>Instructor:<td>Alessandro Gagliardi</td></tr>\n",
      "<tr><td></td><td>[ADFGagliardi+GA@Gmail.com](mailto:adfgagliardi+ga@gmail.com)</td></tr>\n",
      "<tr><td>EiRs:<td>Drew Stevens, [dss9@columbia.edu](mailto:dss9@columbia.edu)</td></tr>\n",
      "<tr><td></td><td>Nir Kaldero, [nirkaldero@gmail.com](mailto:nirkaldero@gmail.com)</td></tr>\n",
      "<tr><td>Classes:<td>6:30pm-9:30pm, Mondays and Wednesdays</td></tr>\n",
      "<tr><td></td><td>April 14 \u2013 June 30, 2014 (no class May 26)</td></tr>\n",
      "<tr><td>Office Hours:<td>by appointment</td></tr>\n",
      "<!--tr><td>Outside of classwork:<td>Roughly 3 hours a week.-->\n",
      "</table>"
     ]
    },
    {
     "cell_type": "markdown",
     "metadata": {
      "slideshow": {
       "slide_type": "notes"
      }
     },
     "source": [
      "The class will meet every Monday and Wednesday until June 30 except for May 26 which is Memorial Day."
     ]
    },
    {
     "cell_type": "markdown",
     "metadata": {
      "slideshow": {
       "slide_type": "slide"
      }
     },
     "source": [
      "Who am I?\n",
      "=================================\n",
      "Alessandro Gagliardi \n",
      "---------------------------------\n",
      "\n",
      "- 1997 - 2001 - Studied Computer Science at UC Santa Cruz  \n",
      "- 2001 - 2002 - Developed web-based educational CRM in New York \n",
      "- 2002 - 2003 - Took some time off  \n",
      "- 2003 - 2005 - Worked as a independent consultant for startups in New York\n",
      "- 2005 - 2010 - Studient Integrative Neuroscience at Rutgers\n",
      "- 2010 - 2011 - Taught Psychology and Neuroscience at USF, NDNU, CIIS \n",
      "- 2011 - 2014 - Returned to industry as a Data Scientist at Socialize, Path, and Glassdoor"
     ]
    },
    {
     "cell_type": "markdown",
     "metadata": {
      "slideshow": {
       "slide_type": "subslide"
      }
     },
     "source": [
      "Who are the Experts in Residence?\n",
      "=================================\n",
      "Nir  Kaldero\n",
      "---------------------------------\n",
      "\n",
      "- 2007 - 2010 - Served in a data science (Economics) unit @ Intelligence corps IDF \n",
      "- 2010 - 2012 - Studied Economics and Business @ IDC, Israel \n",
      "- 2011 - Worked as a Consultant & Team Leader for Maccabi World Union (YLC) \n",
      "- 2011 - 2012 - Worked as a Strategic Consultant for Cadillac \n",
      "- 2012 - 2013 - Transferred to UC Berkeley as a visiting PhD student @ Econ Department \n",
      "- 2012 - Currently - Research Scholar (Visiting Scholar) @ UC Berkeley, Econ  \n",
      "- 2013 - Currently - working as an independent consultant for startups in the Bay-Area  \n",
      "\n",
      " \n",
      "Fields of Research: Industrial Organizations, Marketing (strategy) , Microeconomics, finance. "
     ]
    },
    {
     "cell_type": "markdown",
     "metadata": {
      "slideshow": {
       "slide_type": "subslide"
      }
     },
     "source": [
      "Who are the Experts in Residence?\n",
      "=================================\n",
      "Drew Stevens \n",
      "---------------------------------\n",
      "Drew has been a technologist for almost twenty years with experience ranging from large scale consulting, and blue-chip organizations and small to medium sized start-ups. He is an experienced software developer and technical architect with deep knowledge of database design and infrastructure, messaging tiers, and cloud based-computing.\u00a0 \n",
      "\n",
      "In his current role at Stem, Drew is responsible for designing, and sometimes implementing, technically strategic aspects of the proprietary system for collecting, storing, analyzing, and acting on real-time streams of energy-related telemetry using various machine learning and data science methods.\u00a0 \n",
      "\n",
      "Drew received a bachelor\u2019s degree in Mechanical Engineering with an undeclared minor in Computer Science from the School of Engineering at Columbia University in the City of New York.  \n"
     ]
    },
    {
     "cell_type": "markdown",
     "metadata": {
      "slideshow": {
       "slide_type": "slide"
      }
     },
     "source": [
      "## Who are you?\n",
      "\n",
      "- Your name\n",
      "- Where you work and what you do there\n",
      "- What you hope to get out of this course"
     ]
    },
    {
     "cell_type": "markdown",
     "metadata": {
      "slideshow": {
       "slide_type": "slide"
      }
     },
     "source": [
      "Today:\n",
      "------\n",
      "\n",
      "1. Lecture:\n",
      "    1. What is Data Science?  \n",
      "    2. Origins of Data Science  \n",
      "    3. Goals of the Course  \n",
      "2. Lab:\n",
      "    - Python"
     ]
    },
    {
     "cell_type": "markdown",
     "metadata": {
      "slideshow": {
       "slide_type": "slide"
      }
     },
     "source": [
      "A. What is Data Science?\n",
      "========================"
     ]
    },
    {
     "cell_type": "markdown",
     "metadata": {
      "slideshow": {
       "slide_type": "notes"
      }
     },
     "source": [
      "List examples:  \n",
      "\n",
      "- Recommendation Engines\n",
      "    - Collaborative Filtering (Amazon, Netflix)\n",
      "    - PYMK (LinkedIn, etc.)\n",
      "    - Other (Pandora, etc.)\n",
      "- Data Viz (NYT, etc.)\n",
      "- Fraud detection\n",
      "- Business Intelligence (Obama 2012, etc.)"
     ]
    },
    {
     "cell_type": "heading",
     "level": 2,
     "metadata": {
      "slideshow": {
       "slide_type": "slide"
      }
     },
     "source": [
      "Data Science = Data + Science"
     ]
    },
    {
     "cell_type": "markdown",
     "metadata": {
      "slideshow": {
       "slide_type": "subslide"
      }
     },
     "source": [
      "## Data can be:"
     ]
    },
    {
     "cell_type": "markdown",
     "metadata": {
      "slideshow": {
       "slide_type": "notes"
      }
     },
     "source": [
      "1. Most data does not conform to any predetermined schema. Must ETL it first. Will cover next class.\n",
      "2. Machine-readable but unpredictable. Good for communication. Bad for analysis. Mongo, XML, JSON, etc. Will cover Monday.\n",
      "3. Must be structured prior to analysis. Fields always there, always same type. SQL, R, Pandas. Next week and beyond.\n",
      "    - Excel is semi-structured but has some structured capabilities. Special case."
     ]
    },
    {
     "cell_type": "markdown",
     "metadata": {
      "slideshow": {
       "slide_type": "fragment"
      }
     },
     "source": [
      "### Unstructured (e.g. Email, Photos, Books, etc.)"
     ]
    },
    {
     "cell_type": "markdown",
     "metadata": {
      "slideshow": {
       "slide_type": "fragment"
      }
     },
     "source": [
      "### Semi-Structured (e.g. XML, JSON, NoSQL, APIs, etc.)"
     ]
    },
    {
     "cell_type": "markdown",
     "metadata": {
      "slideshow": {
       "slide_type": "fragment"
      }
     },
     "source": [
      "### Structured (e.g. SQL, Data Frames, etc.)"
     ]
    },
    {
     "cell_type": "markdown",
     "metadata": {
      "slideshow": {
       "slide_type": "skip"
      }
     },
     "source": [
      "1. Most data in the world is unstructured. That is, it does not conform to any predetermined computer-readable form. Before we can work with this sort of data, we need to extract it, transform it into something usable, and load it into our system, whatever that system may be. Extract, transform, load is ETL and its one of the less glamorous and more time consuming parts of the job, so it is important to know how to do it efficiently. We will cover this in the next class.\n",
      "2. Semi-structured data is a relatively new thing and has a lot to do with the web. Semi-structured data is machine readable but does not conform to a rigid structure. This is both a blessing and a curse. The flexibility it provides makes it a lot easier for different systems to talk to one another. But that same flexibility makes working with the data in aggregate more difficult. Many \"NoSQL\" databases use a semi-structured schema. Those of you who are over 30 probably remember XML which was a popular standard for semi-structured in the late 90's and early 2000's. Fortunately, XML has largely been replaced by JSON which is easier to read by both humans (because it doesn't have so many angle brackets) and computers (because it is less flexible and therefore less ambiguous). We will be covering how to work with this sort of data next Monday. \n",
      "3. Ultimately, Data Scientists need our data to be structured before we can do anything with it. Relational databases are structured. And once we get into Pandas and R, we will learn about data frames which are also structured. Structured data are consistent throughout. For example, a given field will have the same data type no matter what. This is extremely important because it makes it possible to work across all of the data in aggregate. This opens up the possibility to do everything from calculate sums so measuring relationships and predicting outcomes. We will cover the basics of how to work with this kind of data next week and for the most part, the rest of this course will deal with data in this form. \n",
      "    1. As an aside, you might be wondering where Excel spreadsheets would fit in this list. I would place it somewhere between Structured and Semi-structured. We might call it \"mostly structured\". Unlike fully structured data, an Excel spreadsheet can accept different datatypes in a column. But unlike semi-structured data, it will complain when you do this (at least, as soon as you try to do an operation on that column). It probably belongs in the semi-structured category but because of the ability to do structured operations in a spreadsheet, I'm reluctant to put it there."
     ]
    },
    {
     "cell_type": "markdown",
     "metadata": {
      "slideshow": {
       "slide_type": "subslide"
      }
     },
     "source": [
      "## Science can be:"
     ]
    },
    {
     "cell_type": "markdown",
     "metadata": {
      "slideshow": {
       "slide_type": "notes"
      }
     },
     "source": [
      "1. Once we've got data in a form we can use, first we look at it. Sometimes that is enough to derive valuable insights.\n",
      "2. Then we might try to model the data which can be useful for making inferences and predictions"
     ]
    },
    {
     "cell_type": "markdown",
     "metadata": {
      "slideshow": {
       "slide_type": "fragment"
      }
     },
     "source": [
      "### Explorations / Explanations\n",
      "- Data Visualization (e.g. ggplot2, Tableau, d3.js, etc.)\n",
      "- Unsupervised Machine Learning (e.g. clustering, etc.)\n",
      "- etc....\n",
      "<br />"
     ]
    },
    {
     "cell_type": "markdown",
     "metadata": {
      "slideshow": {
       "slide_type": "fragment"
      }
     },
     "source": [
      "### Inferences / Predictions\n",
      "- Regression Models (e.g. Linear Models, Logistic Regression)\n",
      "- Supervised Machine Learning (e.g. Neural Nets, Genetic Algorithms)\n",
      "- etc....  \n",
      "<br />"
     ]
    },
    {
     "cell_type": "markdown",
     "metadata": {
      "slideshow": {
       "slide_type": "slide"
      }
     },
     "source": [
      "Data Science Workflow\n",
      "=====================\n",
      "From [a Taxonomy of Data Science](http://www.dataists.com/2010/09/a-taxonomy-of-data-science/) (by Dataists)"
     ]
    },
    {
     "cell_type": "markdown",
     "metadata": {
      "slideshow": {
       "slide_type": "fragment"
      }
     },
     "source": [
      "A. Obtain"
     ]
    },
    {
     "cell_type": "markdown",
     "metadata": {
      "slideshow": {
       "slide_type": "fragment"
      }
     },
     "source": [
      "B. Scrub"
     ]
    },
    {
     "cell_type": "markdown",
     "metadata": {
      "slideshow": {
       "slide_type": "fragment"
      }
     },
     "source": [
      "C. Explore"
     ]
    },
    {
     "cell_type": "markdown",
     "metadata": {
      "slideshow": {
       "slide_type": "fragment"
      }
     },
     "source": [
      "D. Model"
     ]
    },
    {
     "cell_type": "markdown",
     "metadata": {
      "slideshow": {
       "slide_type": "fragment"
      }
     },
     "source": [
      "E. Interpret"
     ]
    },
    {
     "cell_type": "markdown",
     "metadata": {
      "slideshow": {
       "slide_type": "subslide"
      }
     },
     "source": [
      "## Workflow Example:\n",
      "### Problem: what are the leading indicators that a user will make a new purchase?"
     ]
    },
    {
     "cell_type": "markdown",
     "metadata": {
      "slideshow": {
       "slide_type": "fragment"
      }
     },
     "source": [
      "A. Collect data around user retention, user actions within the product, potentially find data outside of company"
     ]
    },
    {
     "cell_type": "markdown",
     "metadata": {
      "slideshow": {
       "slide_type": "fragment"
      }
     },
     "source": [
      "B. Extract aggregated values from raw data  \n",
      "\n",
      "1. How many times did a user share through Facebook within a week? A month?\n",
      "2. How often did they open up our emails?"
     ]
    },
    {
     "cell_type": "markdown",
     "metadata": {
      "slideshow": {
       "slide_type": "fragment"
      }
     },
     "source": [
      "C. Examine data to find common distributions and correlations"
     ]
    },
    {
     "cell_type": "markdown",
     "metadata": {
      "slideshow": {
       "slide_type": "fragment"
      }
     },
     "source": [
      "D. Extract new meaning to predict if user would purchase again"
     ]
    },
    {
     "cell_type": "markdown",
     "metadata": {
      "slideshow": {
       "slide_type": "fragment"
      }
     },
     "source": [
      "E. Share results (and probably also go back to the drawing board)"
     ]
    },
    {
     "cell_type": "heading",
     "level": 1,
     "metadata": {
      "slideshow": {
       "slide_type": "slide"
      }
     },
     "source": [
      "B. Origins of Data Science"
     ]
    },
    {
     "cell_type": "markdown",
     "metadata": {
      "slideshow": {
       "slide_type": "notes"
      }
     },
     "source": [
      "What do you think are some fields that might have influenced Data Science?"
     ]
    },
    {
     "cell_type": "markdown",
     "metadata": {
      "slideshow": {
       "slide_type": "fragment"
      }
     },
     "source": [
      "1974 - Peter Naur published _Concise Survey of Computer Methods_:\n",
      "> A basic principle of data science is this: The data representation must be chosen with due regard to the transformation to be achieved and the data processing tools available. This stresses the importance of concern for the characteristics of the data processing tools."
     ]
    },
    {
     "cell_type": "markdown",
     "metadata": {
      "slideshow": {
       "slide_type": "slide"
      }
     },
     "source": [
      "Data Science = Computer Science + Statistics\n",
      "============================================"
     ]
    },
    {
     "cell_type": "markdown",
     "metadata": {
      "slideshow": {
       "slide_type": "fragment"
      }
     },
     "source": [
      "Computer Science\n",
      "----------------\n",
      "1. Artificial Intelligence (Alan Turing)\n",
      "2. Relational Calculus / First-Order Logic (Edgar F. Codd)"
     ]
    },
    {
     "cell_type": "markdown",
     "metadata": {
      "slideshow": {
       "slide_type": "fragment"
      }
     },
     "source": [
      "Statistics\n",
      "----------------\n",
      "1. Probability and Significance (Ronald Fisher)\n",
      "2. Statistical Learning Theory (Vladimir N. Vapnik)"
     ]
    },
    {
     "cell_type": "markdown",
     "metadata": {
      "slideshow": {
       "slide_type": "subslide"
      }
     },
     "source": [
      "Other Fields Contributing to Data Science\n",
      "============================================"
     ]
    },
    {
     "cell_type": "markdown",
     "metadata": {
      "slideshow": {
       "slide_type": "fragment"
      }
     },
     "source": [
      "Psychology\n",
      "----------------\n",
      "1. Signal Detection Theory\n",
      "2. Connectionism & Parallel Distributed Processing"
     ]
    },
    {
     "cell_type": "markdown",
     "metadata": {
      "slideshow": {
       "slide_type": "fragment"
      }
     },
     "source": [
      "Complex Systems\n",
      "----------------\n",
      "1. Artificial Life\n",
      "2. Graph Theory"
     ]
    },
    {
     "cell_type": "markdown",
     "metadata": {
      "slideshow": {
       "slide_type": "fragment"
      }
     },
     "source": [
      "## What else?"
     ]
    },
    {
     "cell_type": "heading",
     "level": 1,
     "metadata": {
      "slideshow": {
       "slide_type": "slide"
      }
     },
     "source": [
      "C. Goals of the Course"
     ]
    },
    {
     "cell_type": "markdown",
     "metadata": {
      "slideshow": {
       "slide_type": "skip"
      }
     },
     "source": [
      "At the completion of this course, you will be able to:\n",
      "\n",
      "- Employ the Map/Reduce paradigm to transform big unstructured data\n",
      "- Access data from web-based application programming interfaces (APIs)\n",
      "- Use Structured Query Language (SQL) functions like JOIN and GROUP\n",
      "- Explore and present data through visualizations\n",
      "- Apply generalized linear models (GLMs)\n",
      "- Detect clusters in multivariate data\n",
      "- Predict categories using supervised machine learning techniques"
     ]
    },
    {
     "cell_type": "markdown",
     "metadata": {
      "slideshow": {
       "slide_type": "subslide"
      }
     },
     "source": [
      "## At the completion of this course, you will be able to:"
     ]
    },
    {
     "cell_type": "markdown",
     "metadata": {
      "slideshow": {
       "slide_type": "fragment"
      }
     },
     "source": [
      "#### Explore and present data through visualizations"
     ]
    },
    {
     "cell_type": "markdown",
     "metadata": {
      "slideshow": {
       "slide_type": "fragment"
      }
     },
     "source": [
      "#### Apply the 1st, 2nd, and 3rd Normal Form"
     ]
    },
    {
     "cell_type": "markdown",
     "metadata": {
      "slideshow": {
       "slide_type": "fragment"
      }
     },
     "source": [
      "#### Access data from web-based application programming interfaces (APIs)"
     ]
    },
    {
     "cell_type": "markdown",
     "metadata": {
      "slideshow": {
       "slide_type": "fragment"
      }
     },
     "source": [
      "#### Determine statistical significance"
     ]
    },
    {
     "cell_type": "markdown",
     "metadata": {
      "slideshow": {
       "slide_type": "fragment"
      }
     },
     "source": [
      "#### Apply generalized linear models (GLMs)"
     ]
    },
    {
     "cell_type": "markdown",
     "metadata": {
      "slideshow": {
       "slide_type": "fragment"
      }
     },
     "source": [
      "#### Detect clusters in multivariate data"
     ]
    },
    {
     "cell_type": "markdown",
     "metadata": {
      "slideshow": {
       "slide_type": "fragment"
      }
     },
     "source": [
      "#### Predict categories using supervised machine learning techniques"
     ]
    },
    {
     "cell_type": "markdown",
     "metadata": {
      "slideshow": {
       "slide_type": "fragment"
      }
     },
     "source": [
      "#### Apply these techniques to big data"
     ]
    },
    {
     "cell_type": "markdown",
     "metadata": {
      "slideshow": {
       "slide_type": "slide"
      }
     },
     "source": [
      "Tentative Course Outline\n",
      "------------------------\n",
      "\n",
      "1. Intro and Overview\n",
      "2. Getting started with IPython & Git\n",
      "3. SQL and Relational Theory\n",
      "4. APIs and semi-structured data\n",
      "5. Structuring Data\n",
      "6. Probability, A/B Tests & Statistical Significance\n",
      "7. Intro to ML and Linear Regression, ANOVA\n",
      "8. Logistic Regression, Regularization\n",
      "9. Principal Components Analysis\n",
      "10. Clustering: Hierarchical and K-Means\n",
      "11. Time Series Analysis\n",
      "12. Midterm Review & Project Elevator Pitches\n",
      "13. Nonlinear Models\n",
      "14. *Guest Lecture TBD*\n",
      "15. Grid Search and Parameter Selection\n",
      "16. IPython.parallel & StarCluster\n",
      "17. Hadoop Distributed File System and Streaming\n",
      "18. *Guest Lecture TBD* & Final Project Working Session\n",
      "19. *Guest Lecture TBD* & Final Project Working Session\n",
      "20. Final Project Presentations (12 min. each)\n",
      "21. Final Project Presentations (12 min. each)\n",
      "22. Where to Go Next"
     ]
    },
    {
     "cell_type": "markdown",
     "metadata": {
      "slideshow": {
       "slide_type": "slide"
      }
     },
     "source": [
      "Project Schedule\n",
      "----------------\n",
      "\n",
      "| Date | Milestone |  \n",
      "| ---- | --------- |\n",
      "| 4/23 | Preliminary Project Proposals Due (3-4 sentences) |\n",
      "| 4/30 | EiR Feedback on Project Proposals Returned |\n",
      "| 5/7  | Formal Proposals Due (including data and methods chosen) |\n",
      "| 5/14 | EiR Feedback on Formal Proposals Returned |\n",
      "| 5/14 | ***Midterm Assessment Due*** |\n",
      "| 5/21 | Projects live on Github |\n",
      "| 5/21 | **Project Elevator Pitch in class (4 minutes each)** |\n",
      "| 5/28 | Peer Feedback Due |\n",
      "| 6/4  | At least one working model |\n",
      "| 6/11 | Final EiR Feedback Due |\n",
      "| 6/23-25 | **Final Presentations (12 minutes each)** |"
     ]
    },
    {
     "cell_type": "markdown",
     "metadata": {
      "slideshow": {
       "slide_type": "slide"
      }
     },
     "source": [
      "Typical Class\n",
      "----------------\n",
      "\n",
      "* **Pre-work** (0-30 min.) Students investigate a topic and present\n",
      "* **Theory and Background** (30-80 min.) Laptops closed, paper and pen(cil) only\n",
      "* **Code walk-through** (20-45 min.) Laptops open, follow along\n",
      "* **Break** (5-10 min.) You know what this is\n",
      "* **Paired Programming** (30-100 min.) One student drives, the other navigates\n",
      "* **Individual work** (0-40 min.) Time permitting, otherwise homework"
     ]
    },
    {
     "cell_type": "heading",
     "level": 1,
     "metadata": {
      "slideshow": {
       "slide_type": "slide"
      }
     },
     "source": [
      "Lab"
     ]
    },
    {
     "cell_type": "heading",
     "level": 1,
     "metadata": {
      "slideshow": {
       "slide_type": "slide"
      }
     },
     "source": [
      "Discussion"
     ]
    }
   ],
   "metadata": {}
  }
 ]
}