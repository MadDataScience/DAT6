{
 "metadata": {
  "celltoolbar": "Slideshow",
  "name": "",
  "signature": "sha256:e8d5deb6507f6893297242ab4371a898d746e0caab7d98d7df29bb929654a413"
 },
 "nbformat": 3,
 "nbformat_minor": 0,
 "worksheets": [
  {
   "cells": [
    {
     "cell_type": "markdown",
     "metadata": {
      "slideshow": {
       "slide_type": "slide"
      }
     },
     "source": [
      "Data Science\n",
      "================================\n",
      "Bayes and Validation\n",
      "--------------------------------\n",
      "Alessandro D. Gagliardi"
     ]
    },
    {
     "cell_type": "markdown",
     "metadata": {
      "slideshow": {
       "slide_type": "slide"
      }
     },
     "source": [
      "1. Classification Problems\n",
      "2. Bayes Theorem\n",
      "3. Why we shouldn't use linear regression for classification problems\n",
      "4. Building Effective Classifiers\n",
      "2. Receiver Operating Characteristic (ROC) curves\n",
      "3. Na\u00efve Bayes\n",
      "4. Lab"
     ]
    },
    {
     "cell_type": "heading",
     "level": 1,
     "metadata": {
      "slideshow": {
       "slide_type": "slide"
      }
     },
     "source": [
      "Classification Problems"
     ]
    },
    {
     "cell_type": "markdown",
     "metadata": {
      "slideshow": {
       "slide_type": "subslide"
      }
     },
     "source": [
      "<img src=\"assets/machine_learning4.png\" width=\"800\" />"
     ]
    },
    {
     "cell_type": "markdown",
     "metadata": {
      "slideshow": {
       "slide_type": "subslide"
      }
     },
     "source": [
      "<img src=\"assets/machine_learning3.png\" width=\"800\" />"
     ]
    },
    {
     "cell_type": "markdown",
     "metadata": {
      "slideshow": {
       "slide_type": "subslide"
      }
     },
     "source": [
      "<img src=\"assets/machine_learning5.png\" width=\"800\" />"
     ]
    },
    {
     "cell_type": "markdown",
     "metadata": {
      "slideshow": {
       "slide_type": "slide"
      }
     },
     "source": [
      "How does a classification problem work?\n",
      "----\n",
      "Input data, output predicted labels.\n",
      "<img src=\"assets/classification_io.png\" width=\"800\" />"
     ]
    },
    {
     "cell_type": "markdown",
     "metadata": {
      "slideshow": {
       "slide_type": "subslide"
      }
     },
     "source": [
      "What steps does a classification problem require?\n",
      "----\n",
      "1. Split the dataset\n",
      "2. Train the model\n",
      "3. Test the model\n",
      "4. Make predictions with new data"
     ]
    },
    {
     "cell_type": "markdown",
     "metadata": {
      "slideshow": {
       "slide_type": "subslide"
      }
     },
     "source": [
      "### Model of breaking apart data for train, test, and output\n",
      "<img src=\"assets/test_train.png\" width=\"800\" />"
     ]
    },
    {
     "cell_type": "heading",
     "level": 1,
     "metadata": {
      "slideshow": {
       "slide_type": "slide"
      }
     },
     "source": [
      "Bayes Theorem"
     ]
    },
    {
     "cell_type": "markdown",
     "metadata": {
      "slideshow": {
       "slide_type": "slide"
      }
     },
     "source": [
      "Problem\n",
      "========================================================\n",
      "You have a database of 100 emails.\n",
      "\n",
      "* 60 of those 100 emails are spam\n",
      "    * 48 of those 60 emails that are spam have the word \"buy\"\n",
      "    * 12 of those 60 emails that are spam don't have the word \"buy\"\n",
      "* 40 of those 100 emails aren't spam\n",
      "    * 4 of those 40 emails that aren't spam have the word \"buy\"\n",
      "    * 36 of those 40 emails that aren't spam don't have the word \"buy\"\n",
      "\n",
      "What is the probability that an email is spam if it has the word \"buy\"? "
     ]
    },
    {
     "cell_type": "markdown",
     "metadata": {
      "slideshow": {
       "slide_type": "subslide"
      }
     },
     "source": [
      "Solution\n",
      "========================================================\n",
      "There are 48 emails that are spam and have the word \"buy\".\n",
      "And there are 52 emails that have the word \"buy\": 48 that are spam plus 4 that aren't spam.\n",
      "So the probability that an email is spam if it has the word \"buy\" is 48/52 = 0.92\n",
      "\n",
      "If you understood this answer then you have understood the Bayes Theorem (in a nutshell) "
     ]
    },
    {
     "cell_type": "heading",
     "level": 1,
     "metadata": {
      "slideshow": {
       "slide_type": "slide"
      }
     },
     "source": [
      "Some Definitions:"
     ]
    },
    {
     "cell_type": "markdown",
     "metadata": {
      "slideshow": {
       "slide_type": "slide"
      }
     },
     "source": [
      "Sample Space\n",
      "========================================================\n",
      "Q. What do we call the space for all possible events?"
     ]
    },
    {
     "cell_type": "markdown",
     "metadata": {
      "slideshow": {
       "slide_type": "fragment"
      }
     },
     "source": [
      "A. This set is called the sample space $\\Omega$.  \n",
      "(e.g. the numbers 1 through 6 on a six-sided die)"
     ]
    },
    {
     "cell_type": "markdown",
     "metadata": {
      "slideshow": {
       "slide_type": "fragment"
      }
     },
     "source": [
      "All events (such as $A$) are included in this space"
     ]
    },
    {
     "cell_type": "markdown",
     "metadata": {
      "slideshow": {
       "slide_type": "fragment"
      }
     },
     "source": [
      "The probability of the sample space $P(\\Omega)$ is 1.  "
     ]
    },
    {
     "cell_type": "markdown",
     "metadata": {
      "slideshow": {
       "slide_type": "slide"
      }
     },
     "source": [
      "Intersecting Probabilities\n",
      "========================================================\n",
      "Q. Consider two events $A$ & $B$. How can we characterize the **intersection** of these events?"
     ]
    },
    {
     "cell_type": "markdown",
     "metadata": {
      "slideshow": {
       "slide_type": "fragment"
      }
     },
     "source": [
      "A. With the joint probability of $A$ and $B$, written $P(AB)$."
     ]
    },
    {
     "cell_type": "markdown",
     "metadata": {
      "slideshow": {
       "slide_type": "fragment"
      }
     },
     "source": [
      "e.g.  \n",
      "$P(A) =$ probability of being female  \n",
      "$P(B) =$ probability of having long hair"
     ]
    },
    {
     "cell_type": "markdown",
     "metadata": {
      "slideshow": {
       "slide_type": "fragment"
      }
     },
     "source": [
      "$P(AB)$ = the probability of being female & having long hair "
     ]
    },
    {
     "cell_type": "markdown",
     "metadata": {
      "slideshow": {
       "slide_type": "slide"
      }
     },
     "source": [
      "Conditional Probability\n",
      "========================================================\n",
      "Q. Suppose event $B$ has occurred. What quantity represents the probability of $A$ given this information about $B$?"
     ]
    },
    {
     "cell_type": "markdown",
     "metadata": {
      "slideshow": {
       "slide_type": "fragment"
      }
     },
     "source": [
      "A. The intersection of $A$ & $B$ divided by region $B$."
     ]
    },
    {
     "cell_type": "markdown",
     "metadata": {
      "slideshow": {
       "slide_type": "fragment"
      }
     },
     "source": [
      "This is called the conditional probability of $A$ given $B$:  "
     ]
    },
    {
     "cell_type": "markdown",
     "metadata": {
      "slideshow": {
       "slide_type": "fragment"
      }
     },
     "source": [
      "$$ P(A|B) = \\frac{P(AB)}{P(B)} $$"
     ]
    },
    {
     "cell_type": "markdown",
     "metadata": {
      "slideshow": {
       "slide_type": "fragment"
      }
     },
     "source": [
      "Notice, with this we can also write $P(AB) = P(A|B) \\times P(B)$."
     ]
    },
    {
     "cell_type": "heading",
     "level": 1,
     "metadata": {
      "slideshow": {
       "slide_type": "slide"
      }
     },
     "source": [
      "probability with the help of small animals"
     ]
    },
    {
     "cell_type": "markdown",
     "metadata": {
      "slideshow": {
       "slide_type": "subslide"
      }
     },
     "source": [
      "Sample Space\n",
      "========================================================\n",
      "![Sample Space](assets/probability1.jpg)"
     ]
    },
    {
     "cell_type": "markdown",
     "metadata": {
      "slideshow": {
       "slide_type": "subslide"
      }
     },
     "source": [
      "$P(puppy) = 4/9$\n",
      "========================================================\n",
      "![P(puppy) = 0.44](assets/probability2.jpg)"
     ]
    },
    {
     "cell_type": "markdown",
     "metadata": {
      "slideshow": {
       "slide_type": "subslide"
      }
     },
     "source": [
      "$P(dark) = 5/9$\n",
      "========================================================\n",
      "![P(dark) = 0.56](assets/probability3.jpg)"
     ]
    },
    {
     "cell_type": "markdown",
     "metadata": {
      "slideshow": {
       "slide_type": "subslide"
      }
     },
     "source": [
      "$P(puppy|dark) = \\frac{P(puppy, dark)}{P(dark)}$\n",
      "========================================================\n",
      "![P(puppy) = 0.44](assets/probability4.jpg)"
     ]
    },
    {
     "cell_type": "markdown",
     "metadata": {
      "slideshow": {
       "slide_type": "subslide"
      }
     },
     "source": [
      "$P(puppy|dark) = \\frac{.444 \\times .556}{.556} = \\frac{.249}{.556} = .44$\n",
      "========================================================\n",
      "![P(puppy) = 0.44](assets/probability5.jpg)"
     ]
    },
    {
     "cell_type": "markdown",
     "metadata": {
      "slideshow": {
       "slide_type": "slide"
      }
     },
     "source": [
      "Bayes Theorem\n",
      "========================================================\n",
      "$P(AB) = P(A|B) \\times P(B)\\qquad$"
     ]
    },
    {
     "cell_type": "markdown",
     "metadata": {
      "slideshow": {
       "slide_type": "fragment"
      }
     },
     "source": [
      "$P(BA) = P(B|A) \\times P(A)\\qquad$ by substitution"
     ]
    },
    {
     "cell_type": "markdown",
     "metadata": {
      "slideshow": {
       "slide_type": "fragment"
      }
     },
     "source": [
      "But $P(AB) = P(BA)\\qquad$ since event $AB =$ event $BA$ "
     ]
    },
    {
     "cell_type": "markdown",
     "metadata": {
      "slideshow": {
       "slide_type": "fragment"
      }
     },
     "source": [
      "$\\hookrightarrow P(A|B) \\times P(B) = P(B|A) \\times P(A)\\>$\tby combining the above  "
     ]
    },
    {
     "cell_type": "markdown",
     "metadata": {
      "slideshow": {
       "slide_type": "fragment"
      }
     },
     "source": [
      "$\\hookrightarrow P(A|B) = \\frac{P(B|A) \\times P(A)}{P(B)}\\>$\tby rearranging last step"
     ]
    },
    {
     "cell_type": "markdown",
     "metadata": {
      "slideshow": {
       "slide_type": "slide"
      }
     },
     "source": [
      "Bayes\u2019 Theorem\n",
      "========================================================\n",
      "This result is called **Bayes\u2019 theorem**. Here it is again:\n",
      "### $$ P(A|B) = \\frac{P(B|A) \\times P(A)}{P(B)} $$"
     ]
    },
    {
     "cell_type": "markdown",
     "metadata": {
      "slideshow": {
       "slide_type": "slide"
      }
     },
     "source": [
      "Problem\n",
      "========================================================\n",
      "<small>*this example taken from [the Cartoon Guide to Statistics](http://www.harpercollins.com/browseinside/index.aspx?isbn13=9780062731029) by Larry Gonick & Woollcott Smith*</small>  \n",
      "Suppose a rare disease infects one out of every 1000 people in a population..."
     ]
    },
    {
     "cell_type": "markdown",
     "metadata": {
      "slideshow": {
       "slide_type": "fragment"
      }
     },
     "source": [
      "and suppose that there is a good, but not perfect, test for this disease: if a person has the disease, the test comes back positive 99% of the time. One the other hand, the test also produces some *false positives*. About 2% of uninfected patients also test positive."
     ]
    },
    {
     "cell_type": "markdown",
     "metadata": {
      "slideshow": {
       "slide_type": "fragment"
      }
     },
     "source": [
      "You just tested positive. Whate are your chances of having the disease?"
     ]
    },
    {
     "cell_type": "markdown",
     "metadata": {
      "slideshow": {
       "slide_type": "subslide"
      }
     },
     "source": [
      "Solution\n",
      "========================================================\n",
      "We have two events to work with:\n",
      "\n",
      "**A** : patient has the disease  \n",
      "**B** : patient tests positive  "
     ]
    },
    {
     "cell_type": "markdown",
     "metadata": {
      "slideshow": {
       "slide_type": "fragment"
      }
     },
     "source": [
      "The information about the test's effectiveness can be written:\n",
      "\n",
      "$$ P(A) = .001 $$\n",
      "$$ P(B|A) = .99 $$\n",
      "$$ P(B|\\neg A) = .02 $$"
     ]
    },
    {
     "cell_type": "markdown",
     "metadata": {
      "slideshow": {
       "slide_type": "fragment"
      }
     },
     "source": [
      "$$ P(A|B) = ???$$"
     ]
    },
    {
     "cell_type": "markdown",
     "metadata": {
      "slideshow": {
       "slide_type": "slide"
      }
     },
     "source": [
      "|           | A              | not A              | sum  |\n",
      "| --------- | -------------- | ------------------ | ---- |\n",
      "|     **B** | $P(A \\& B)$     | $P(\\neg A \\& B)$     | $P(B)$ |\n",
      "| **not B** | $P(A \\&\\neg B)$ | $P(\\neg A \\&\\neg B)$ | $P(\\neg B)$ \n",
      "|           | $P(A)$           | $P(\\neg A)$           | $1$\n",
      "\n"
     ]
    },
    {
     "cell_type": "markdown",
     "metadata": {
      "slideshow": {
       "slide_type": "fragment"
      }
     },
     "source": [
      "$$ P(A \\& B) = P(B|A)P(A) = (.99)(.001) = .00099 $$\n",
      "$$ P(\\neg A \\& B) = P(B|\\neg A)P(\\neg A) = (.02)(.999) = .01998 $$"
     ]
    },
    {
     "cell_type": "markdown",
     "metadata": {
      "slideshow": {
       "slide_type": "fragment"
      }
     },
     "source": [
      "lets fill in some of these numbers:  \n",
      "\n",
      "|           | A              | not A              | sum  |\n",
      "| --------- | -------------- | ------------------ | ---- |\n",
      "|     **B** | $.00099$     | $.01998$     | $.02097$ |\n",
      "| **not B** | $P(A \\&\\neg B)$ | $P(\\neg A \\&\\neg B)$ | $P(\\neg B)$ \n",
      "|           | $.001$           | $.999$           | $1$"
     ]
    },
    {
     "cell_type": "markdown",
     "metadata": {
      "slideshow": {
       "slide_type": "subslide"
      }
     },
     "source": [
      "arithmetic gives us the rest:  \n",
      "\n",
      "|           | A              | not A              | sum  |\n",
      "| --------- | -------------- | ------------------ | ---- |\n",
      "|     **B** | $.00099$     | $.01998$     | $.02097$ |\n",
      "| **not B** | $.00001$ | $.97902$ | $.98903$ \n",
      "|           | $.001$           | $.999$           | $1$"
     ]
    },
    {
     "cell_type": "markdown",
     "metadata": {
      "slideshow": {
       "slide_type": "fragment"
      }
     },
     "source": [
      "From which we directly derive:\n",
      "$$ P(A|B) = \\frac{P(A \\& B)}{P(B)} = \\frac{.00099}{.02097} = .0472 $$"
     ]
    },
    {
     "cell_type": "markdown",
     "metadata": {
      "slideshow": {
       "slide_type": "slide"
      }
     },
     "source": [
      "Conditional Mean\n",
      "================\n",
      "The key variable in any regression problem is the **conditional mean** of the outcome variable y given the value of the covariate x:"
     ]
    },
    {
     "cell_type": "markdown",
     "metadata": {
      "slideshow": {
       "slide_type": "fragment"
      }
     },
     "source": [
      "_Conditional mean_: $E(y|x)$"
     ]
    },
    {
     "cell_type": "markdown",
     "metadata": {
      "slideshow": {
       "slide_type": "fragment"
      }
     },
     "source": [
      "In linear regression, we assume that this conditional mean is a linear function taking values in $(-\\infty, +\\infty)$:"
     ]
    },
    {
     "cell_type": "markdown",
     "metadata": {
      "slideshow": {
       "slide_type": "fragment"
      }
     },
     "source": [
      "$$ E(y|x) = \\alpha + \\beta x $$"
     ]
    },
    {
     "cell_type": "markdown",
     "metadata": {
      "slideshow": {
       "slide_type": "slide"
      }
     },
     "source": [
      "Why we shouldn't use linear regression for classification problems\n",
      "========================================================\n",
      "Bounds can be greater than 0 and 1\n",
      "\n",
      "Sometimes extra data can really throw off our thresholds\n",
      "\n",
      "Impossible to scale/predict when data throws off the regression"
     ]
    },
    {
     "cell_type": "markdown",
     "metadata": {
      "slideshow": {
       "slide_type": "slide"
      }
     },
     "source": [
      "Example: the Whickham survey\n",
      "========================================================\n",
      "Data on age, smoking, and mortality from a one-in-six survey of the electoral roll in Whickham, in the UK. The survey was conducted in 1972-1974 among women who were classified as current smokers or as never having smoked. A follow-up on those in the survey was conducted twenty years later.  "
     ]
    },
    {
     "cell_type": "code",
     "collapsed": false,
     "input": [
      "%matplotlib inline\n",
      "%load_ext rmagic\n",
      "import numpy as np\n",
      "from sklearn import svm, datasets\n",
      "from sklearn.utils import shuffle\n",
      "from sklearn.metrics import roc_curve, auc\n",
      "import matplotlib.pyplot as plt"
     ],
     "language": "python",
     "metadata": {
      "slideshow": {
       "slide_type": "skip"
      }
     },
     "outputs": [],
     "prompt_number": 1
    },
    {
     "cell_type": "code",
     "collapsed": false,
     "input": [
      "%%R\n",
      "#install.packages(\"mosaic\")\n",
      "library(mosaic)\n",
      "data(Whickham)"
     ],
     "language": "python",
     "metadata": {
      "slideshow": {
       "slide_type": "skip"
      }
     },
     "outputs": [
      {
       "metadata": {},
       "output_type": "display_data",
       "text": [
        "Loading required package: grid\n",
        "Loading required package: lattice\n",
        "Loading required package: car\n",
        "\n",
        "Attaching package: \u2018mosaic\u2019\n",
        "\n",
        "The following object is masked from \u2018package:car\u2019:\n",
        "\n",
        "    logit\n",
        "\n",
        "The following objects are masked from \u2018package:stats\u2019:\n",
        "\n",
        "    binom.test, cor, cov, D, fivenum, IQR, median, prop.test, sd,\n",
        "    t.test, var\n",
        "\n",
        "The following objects are masked from \u2018package:base\u2019:\n",
        "\n",
        "    max, mean, min, print, prod, range, sample, sum\n",
        "\n"
       ]
      }
     ],
     "prompt_number": 2
    },
    {
     "cell_type": "code",
     "collapsed": false,
     "input": [
      "%R print(head(Whickham))"
     ],
     "language": "python",
     "metadata": {
      "slideshow": {
       "slide_type": "-"
      }
     },
     "outputs": [
      {
       "metadata": {},
       "output_type": "display_data",
       "text": [
        "  outcome smoker age\n",
        "1   Alive    Yes  23\n",
        "2   Alive    Yes  18\n",
        "3    Dead    Yes  71\n",
        "4   Alive     No  67\n",
        "5   Alive     No  64\n",
        "6   Alive    Yes  38\n"
       ]
      }
     ],
     "prompt_number": 3
    },
    {
     "cell_type": "markdown",
     "metadata": {
      "slideshow": {
       "slide_type": "subslide"
      }
     },
     "source": [
      "Convert categories to binomial values:\n",
      "========================================================"
     ]
    },
    {
     "cell_type": "code",
     "collapsed": false,
     "input": [
      "%%R\n",
      "Whickham$outcome <- as.integer(Whickham$outcome == 'Alive')\n",
      "lm(outcome ~ 1, Whickham)"
     ],
     "language": "python",
     "metadata": {
      "slideshow": {
       "slide_type": "-"
      }
     },
     "outputs": [
      {
       "metadata": {},
       "output_type": "display_data",
       "text": [
        "\n",
        "Call:\n",
        "lm(formula = outcome ~ 1, data = Whickham)\n",
        "\n",
        "Coefficients:\n",
        "(Intercept)  \n",
        "     0.7192  \n",
        "\n"
       ]
      }
     ],
     "prompt_number": 4
    },
    {
     "cell_type": "markdown",
     "metadata": {},
     "source": [
      "Modeling the intercept tells us that 71.9% of women surveyed were still alive 20-years later."
     ]
    },
    {
     "cell_type": "markdown",
     "metadata": {
      "slideshow": {
       "slide_type": "subslide"
      }
     },
     "source": [
      "Modeling smoker\n",
      "========================================================\n",
      "Add whether or not the woman was a smoker to the model:"
     ]
    },
    {
     "cell_type": "code",
     "collapsed": false,
     "input": [
      "%R print(lm(outcome ~ smoker, Whickham))"
     ],
     "language": "python",
     "metadata": {},
     "outputs": [
      {
       "metadata": {},
       "output_type": "display_data",
       "text": [
        "\n",
        "Call:\n",
        "lm(formula = outcome ~ smoker, data = Whickham)\n",
        "\n",
        "Coefficients:\n",
        "(Intercept)    smokerYes  \n",
        "    0.68579      0.07538  \n",
        "\n"
       ]
      }
     ],
     "prompt_number": 5
    },
    {
     "cell_type": "markdown",
     "metadata": {},
     "source": [
      "...smokers are 7.54% more likely to survive?!?"
     ]
    },
    {
     "cell_type": "markdown",
     "metadata": {
      "slideshow": {
       "slide_type": "subslide"
      }
     },
     "source": [
      "Modeling smoker + age\n",
      "========================================================"
     ]
    },
    {
     "cell_type": "code",
     "collapsed": false,
     "input": [
      "%R print(lm(outcome ~ smoker + age, Whickham))"
     ],
     "language": "python",
     "metadata": {},
     "outputs": [
      {
       "metadata": {},
       "output_type": "display_data",
       "text": [
        "\n",
        "Call:\n",
        "lm(formula = outcome ~ smoker + age, data = Whickham)\n",
        "\n",
        "Coefficients:\n",
        "(Intercept)    smokerYes          age  \n",
        "    1.47255      0.01047     -0.01616  \n",
        "\n"
       ]
      }
     ],
     "prompt_number": 6
    },
    {
     "cell_type": "markdown",
     "metadata": {},
     "source": [
      "A 20-year old smoker: $1.47 + 0.01 - 0.016 \\times 20 = 1.16$  \n",
      "...has a $116\\%$ chance of being a live 20-years later??"
     ]
    },
    {
     "cell_type": "markdown",
     "metadata": {
      "slideshow": {
       "slide_type": "subslide"
      }
     },
     "source": [
      "Probability(?) of Outcome\n",
      "========================================================"
     ]
    },
    {
     "cell_type": "code",
     "collapsed": false,
     "input": [
      "%%R\n",
      "library(ggplot2)"
     ],
     "language": "python",
     "metadata": {
      "slideshow": {
       "slide_type": "skip"
      }
     },
     "outputs": [],
     "prompt_number": 7
    },
    {
     "cell_type": "code",
     "collapsed": false,
     "input": [
      "%%R -w 800 -h 600\n",
      "ggplot(Whickham,aes(age,outcome,col=smoker))+geom_jitter(pos=position_jitter(h=.1))+geom_smooth(meth='lm')"
     ],
     "language": "python",
     "metadata": {},
     "outputs": [
      {
       "metadata": {},
       "output_type": "display_data",
       "png": "[encoded data removed]"
      }
     ],
     "prompt_number": 16
    },
    {
     "cell_type": "markdown",
     "metadata": {
      "slideshow": {
       "slide_type": "slide"
      }
     },
     "source": [
      "Logistic Regression\n",
      "========================================================\n",
      "In linear regression, we used a set of covariates to predict the value of a **(continuous) outcome variable.**\n"
     ]
    },
    {
     "cell_type": "markdown",
     "metadata": {
      "slideshow": {
       "slide_type": "fragment"
      }
     },
     "source": [
      "In logistic regression, we use a set of covariates to predict _probabilities_ of **(binary) class membership.**"
     ]
    },
    {
     "cell_type": "markdown",
     "metadata": {
      "slideshow": {
       "slide_type": "fragment"
      }
     },
     "source": [
      "These probabilities are then mapped to _class labels_, thus solving the classification problem."
     ]
    },
    {
     "cell_type": "markdown",
     "metadata": {
      "slideshow": {
       "slide_type": "subslide"
      }
     },
     "source": [
      "We use logistic regression to convert probabilities...\n",
      "========================================================\n",
      "![probabilities](assets/logistic_regression1.png)"
     ]
    },
    {
     "cell_type": "markdown",
     "metadata": {
      "slideshow": {
       "slide_type": "subslide"
      }
     },
     "source": [
      "...into class labels!\n",
      "========================================================\n",
      "![class labels](assets/logistic_regression2.png)"
     ]
    },
    {
     "cell_type": "markdown",
     "metadata": {
      "slideshow": {
       "slide_type": "slide"
      }
     },
     "source": [
      "Bernoulli (binomial) Distribution\n",
      "========================================================"
     ]
    },
    {
     "cell_type": "code",
     "collapsed": false,
     "input": [
      "%%R -w 800 -h 600\n",
      "ggplot(Whickham, aes(age, outcome, color=smoker)) + geom_jitter(position = position_jitter(height = .1)) + \n",
      "                    geom_smooth(method='glm', family='binomial') + xlab(\"Age\") + ylab(\"Alive=1, Dead=0\")"
     ],
     "language": "python",
     "metadata": {},
     "outputs": [
      {
       "metadata": {},
       "output_type": "display_data",
       "png": "[encoded data removed]"
      }
     ],
     "prompt_number": 18
    },
    {
     "cell_type": "markdown",
     "metadata": {},
     "source": [
      "This utilizes logit for our link function."
     ]
    },
    {
     "cell_type": "markdown",
     "metadata": {
      "slideshow": {
       "slide_type": "slide"
      }
     },
     "source": [
      "Linear Regression Coefficients\n",
      "========================================================\n",
      "Linear regression coefficients are fairly easy to interpret:"
     ]
    },
    {
     "cell_type": "code",
     "collapsed": false,
     "input": [
      "%R print(glm(outcome ~ smoker + age, family = \"gaussian\", data = Whickham)$coefficients)"
     ],
     "language": "python",
     "metadata": {},
     "outputs": [
      {
       "metadata": {},
       "output_type": "display_data",
       "text": [
        "(Intercept)   smokerYes         age \n",
        " 1.47255430  0.01047434 -0.01615546 \n"
       ]
      }
     ],
     "prompt_number": 10
    },
    {
     "cell_type": "markdown",
     "metadata": {},
     "source": [
      "$$ y = 1.47 + 0.01 \\times (smoker = Yes) - 0.016 \\times age $$  \n",
      "\n",
      "$y$ is the dependant variable"
     ]
    },
    {
     "cell_type": "markdown",
     "metadata": {
      "slideshow": {
       "slide_type": "slide"
      }
     },
     "source": [
      "Logistic Regression Coefficients\n",
      "========================================================\n",
      "Logistic regression coefficients are less straightforward:"
     ]
    },
    {
     "cell_type": "code",
     "collapsed": false,
     "input": [
      "%R print(glm(outcome ~ smoker + age, family = \"binomial\", data = Whickham)$coefficients)"
     ],
     "language": "python",
     "metadata": {},
     "outputs": [
      {
       "metadata": {},
       "output_type": "display_data",
       "text": [
        "(Intercept)   smokerYes         age \n",
        "  7.5992213  -0.2046991  -0.1236832 \n"
       ]
      }
     ],
     "prompt_number": 11
    },
    {
     "cell_type": "markdown",
     "metadata": {},
     "source": [
      "$$ y = 7.599 - 0.205 \\times (smoker = Yes) - 0.124 \\times age $$"
     ]
    },
    {
     "cell_type": "markdown",
     "metadata": {
      "slideshow": {
       "slide_type": "fragment"
      }
     },
     "source": [
      "Take our 20-year old smoker:  \n",
      "$$ y = 7.6 - 0.2 - 0.123 \\times 20 = 4.9 $$  "
     ]
    },
    {
     "cell_type": "markdown",
     "metadata": {
      "slideshow": {
       "slide_type": "fragment"
      }
     },
     "source": [
      "But what does $y = 4.9$ mean?"
     ]
    },
    {
     "cell_type": "markdown",
     "metadata": {
      "slideshow": {
       "slide_type": "slide"
      }
     },
     "source": [
      "Interepeting Results\n",
      "========================================================\n",
      "In linear regression, the parameter $\\beta$ represents the change in the response variable for a unit change in the covariate."
     ]
    },
    {
     "cell_type": "markdown",
     "metadata": {
      "slideshow": {
       "slide_type": "fragment"
      }
     },
     "source": [
      "In logistic regression, $\\beta$ represents the change in the logit function for a unit change in the covariate."
     ]
    },
    {
     "cell_type": "markdown",
     "metadata": {
      "slideshow": {
       "slide_type": "fragment"
      }
     },
     "source": [
      "$$ \\pi(1) = \\frac{e^\\beta}{1+e^\\beta} $$"
     ]
    },
    {
     "cell_type": "markdown",
     "metadata": {
      "slideshow": {
       "slide_type": "fragment"
      }
     },
     "source": [
      "$$ \\frac{e^{4.9}}{1+e^{4.9}} = 0.99 $$"
     ]
    },
    {
     "cell_type": "markdown",
     "metadata": {
      "slideshow": {
       "slide_type": "fragment"
      }
     },
     "source": [
      "In other words, our 20-year-old smoker has a 99% chance of surviving another 20 years."
     ]
    },
    {
     "cell_type": "heading",
     "level": 1,
     "metadata": {
      "slideshow": {
       "slide_type": "slide"
      }
     },
     "source": [
      "Building Effective Classifiers"
     ]
    },
    {
     "cell_type": "markdown",
     "metadata": {
      "slideshow": {
       "slide_type": "subslide"
      }
     },
     "source": [
      "Where we find error\n",
      "------------------------------\n",
      "\n",
      "1. Training error  \n",
      "2. Generalization error  \n",
      "3. Out of Sample (new data) error  "
     ]
    },
    {
     "cell_type": "markdown",
     "metadata": {
      "slideshow": {
       "slide_type": "slide"
      }
     },
     "source": [
      "Training error\n",
      "------------------------------\n",
      "What happens if we had no test data and only used a training set?"
     ]
    },
    {
     "cell_type": "markdown",
     "metadata": {
      "slideshow": {
       "slide_type": "subslide"
      }
     },
     "source": [
      "#### Q: Why should we use training & test sets?"
     ]
    },
    {
     "cell_type": "markdown",
     "metadata": {
      "slideshow": {
       "slide_type": "fragment"
      }
     },
     "source": [
      "*Thought experiment:  \n",
      "Suppose instead, we train our model using the entire dataset*"
     ]
    },
    {
     "cell_type": "markdown",
     "metadata": {
      "slideshow": {
       "slide_type": "fragment"
      }
     },
     "source": [
      "*Q: How low can we push the training error?*"
     ]
    },
    {
     "cell_type": "markdown",
     "metadata": {
      "slideshow": {
       "slide_type": "fragment"
      }
     },
     "source": [
      "* *We can make the model arbitrarily complex (effectively \u201cmemorizing\u201d the entire training set).*"
     ]
    },
    {
     "cell_type": "markdown",
     "metadata": {
      "slideshow": {
       "slide_type": "fragment"
      }
     },
     "source": [
      "*A: Down to zero!*"
     ]
    },
    {
     "cell_type": "markdown",
     "metadata": {
      "slideshow": {
       "slide_type": "fragment"
      }
     },
     "source": [
      "#### This phenomenon is called overfitting."
     ]
    },
    {
     "cell_type": "markdown",
     "metadata": {
      "slideshow": {
       "slide_type": "subslide"
      }
     },
     "source": [
      "<img src=\"assets/overfitting_fig.png\" />\n",
      "_source: Data Analysis with Open Source Tools, by Philipp K. Janert. O\u2019Reilly Media, 2011_"
     ]
    },
    {
     "cell_type": "markdown",
     "metadata": {
      "slideshow": {
       "slide_type": "subslide"
      }
     },
     "source": [
      "<img src=\"assets/under_overfit.png\" />  \n",
      "_source: [dtreg.com](http://www.dtreg.com)_"
     ]
    },
    {
     "cell_type": "markdown",
     "metadata": {
      "slideshow": {
       "slide_type": "subslide"
      }
     },
     "source": [
      "<img src=\"assets/overfitting_ex.png\" width=\"600\" />  \n",
      "_source: [dtreg.com](http://www.dtreg.com)_"
     ]
    },
    {
     "cell_type": "markdown",
     "metadata": {
      "slideshow": {
       "slide_type": "subslide"
      }
     },
     "source": [
      "#### Q: Why should we use training & test sets?\n",
      "\n",
      "*Thought experiment:  \n",
      "Suppose instead, we train our model using the entire dataset.*\n",
      "\n",
      "*Q: How low can we push the training error?*  \n",
      "\n",
      "* *We can make the model arbitrarily complex (effectively \u201cmemorizing\u201d the entire training set).*\n",
      "*A: Down to zero!*\n",
      "\n",
      "#### A: Training error is not a good estimate of OOS accuracy."
     ]
    },
    {
     "cell_type": "markdown",
     "metadata": {
      "slideshow": {
       "slide_type": "slide"
      }
     },
     "source": [
      "Generalization Error\n",
      "------------------------------\n",
      "How well does the model generalize to **unseen** data?"
     ]
    },
    {
     "cell_type": "markdown",
     "metadata": {
      "slideshow": {
       "slide_type": "subslide"
      }
     },
     "source": [
      "Generalization Error\n",
      "------------------------------\n",
      "### Try training the model on a subset of the data:  \n",
      "\n",
      "<img src=\"assets/generalization-error-pace-subset1.png\"/>  \n",
      "\n",
      "### Does the error remain the same with different training data?"
     ]
    },
    {
     "cell_type": "markdown",
     "metadata": {
      "slideshow": {
       "slide_type": "subslide"
      }
     },
     "source": [
      "Generalization Error\n",
      "------------------------------\n",
      "<img src=\"assets/generalization-error-pace-subset2.png\"/>  \n",
      "\n",
      "### NO!"
     ]
    },
    {
     "cell_type": "markdown",
     "metadata": {
      "slideshow": {
       "slide_type": "subslide"
      }
     },
     "source": [
      "Generalization Error\n",
      "------------------------------\n",
      "* Generalization error gives a high variance estimate of OOS error\n",
      "* Insufficient training can lead to incorrect model selection"
     ]
    },
    {
     "cell_type": "markdown",
     "metadata": {
      "slideshow": {
       "slide_type": "subslide"
      }
     },
     "source": [
      "Generalization Error\n",
      "------------------------------\n",
      "### Something is still missing!"
     ]
    },
    {
     "cell_type": "markdown",
     "metadata": {
      "slideshow": {
       "slide_type": "fragment"
      }
     },
     "source": [
      "#### Q: How can we do better?"
     ]
    },
    {
     "cell_type": "markdown",
     "metadata": {
      "slideshow": {
       "slide_type": "fragment"
      }
     },
     "source": [
      "*Thought experiment:  \n",
      "Different train/test splits will give us different generalization errors.*"
     ]
    },
    {
     "cell_type": "markdown",
     "metadata": {
      "slideshow": {
       "slide_type": "fragment"
      }
     },
     "source": [
      "*Q: What if we did a bunch of these?*"
     ]
    },
    {
     "cell_type": "markdown",
     "metadata": {
      "slideshow": {
       "slide_type": "fragment"
      }
     },
     "source": [
      "*A: Now you\u2019re talking!*"
     ]
    },
    {
     "cell_type": "markdown",
     "metadata": {
      "slideshow": {
       "slide_type": "fragment"
      }
     },
     "source": [
      "#### A: Cross-validation."
     ]
    },
    {
     "cell_type": "markdown",
     "metadata": {
      "slideshow": {
       "slide_type": "slide"
      }
     },
     "source": [
      "Cross Validation\n",
      "------------------------------------\n",
      "Assessing a model using different subsets of the data for training and testing\n",
      "\n",
      "#### Examples of Cross Validation\n",
      "\n",
      "* N-fold cross validation\n",
      "* Random sub-sampling validation\n",
      "* Leave-one-out cross validation"
     ]
    },
    {
     "cell_type": "markdown",
     "metadata": {
      "slideshow": {
       "slide_type": "subslide"
      }
     },
     "source": [
      "N-fold cross validation\n",
      "------------------------------------\n",
      "\n",
      "1. Randomly split the dataset into n equal groups\n",
      "2. Use partition 1 as test set & union of other groups as training \n",
      "3. Find generalization error\n",
      "4. Repeat steps 2-3 using different group as test set at each iteration\n",
      "5. Take average generalization error as estimate of OOS accuracy\n",
      "<img src=\"assets/cross-validation.jpg\" width=\"600\"/>"
     ]
    },
    {
     "cell_type": "markdown",
     "metadata": {
      "slideshow": {
       "slide_type": "subslide"
      }
     },
     "source": [
      "Features of n-fold cross-validation:\n",
      "------------------------------------\n",
      "\n",
      "1. More accurate estimate of OOS prediction error.  \n",
      "2. More efficient use of data than single train/test split.\n",
      "    - Each record in our dataset is used for both training and testing.\n",
      "3. Presents tradeoff between efficiency and computational expense.\n",
      "    - 10-fold CV is 10x more expensive than a single train/test split\n",
      "4. Can be used for model selection."
     ]
    },
    {
     "cell_type": "markdown",
     "metadata": {
      "slideshow": {
       "slide_type": "slide"
      }
     },
     "source": [
      "Types of Errors\n",
      "==============="
     ]
    },
    {
     "cell_type": "markdown",
     "metadata": {
      "slideshow": {
       "slide_type": "skip"
      }
     },
     "source": [
      "_(section adapted from [Diagnostic tests: ROC curves, sensitivity, and specificity](http://www.walkerbioscience.com/pdfs/ROC tutorial.pdf) by Michael Walker)_"
     ]
    },
    {
     "cell_type": "markdown",
     "metadata": {
      "slideshow": {
       "slide_type": "-"
      }
     },
     "source": [
      "|                                   | Null hypothesis (H0) is true      | Null hypothesis (H0) is false     |\n",
      "|:---------------------------------:|:---------------------------------:|:---------------------------------:|\n",
      "| **Reject null hypothesis**        | Type I error<br/>False positive   | Correct outcome<br/>True positive |\n",
      "| **Fail to reject null hypothesis**| Correct outcome<br/>True negative | Type II error<br/>False negative  |"
     ]
    },
    {
     "cell_type": "markdown",
     "metadata": {
      "slideshow": {
       "slide_type": "subslide"
      }
     },
     "source": [
      "Notation for conditional probability\n",
      "--------------------------------------------------------\n",
      "\n",
      "* Suppose that the patient has the disease (according to gold standard)\n",
      "* Notation to specify the probability that the test for the patient is positive, given that the patient has the disease:\n",
      "    - P(Test positive | patient has disease) \n",
      "    - P(T+ | D+)\n",
      "* This notation describes the conditional probability."
     ]
    },
    {
     "cell_type": "markdown",
     "metadata": {
      "slideshow": {
       "slide_type": "subslide"
      }
     },
     "source": [
      "Sensitivity and Specificity\n",
      "--------------------------------------------------------\n",
      "\n",
      "* We want the test to be positive when the patient has the disease:\n",
      "* Sensitivity\n",
      "     - P(Test positive | patient has disease)\n",
      "* We want the test to be negative when the patient does not have the disease:\n",
      "* Specificity\n",
      "     - P(Test negative | patient does not have disease"
     ]
    },
    {
     "cell_type": "markdown",
     "metadata": {
      "slideshow": {
       "slide_type": "subslide"
      }
     },
     "source": [
      "High threshold:\n",
      "--------------------------------------------------------\n",
      "\n",
      "Few false positive predictions, but lots of false negatives\n",
      "\n",
      "- Good specificity = P(Test negative | patient does not have disease)\n",
      "- Poor sensitivity = P(Test positive | patient has disease)"
     ]
    },
    {
     "cell_type": "markdown",
     "metadata": {
      "slideshow": {
       "slide_type": "subslide"
      }
     },
     "source": [
      "Low threshold:\n",
      "--------------------------------------------------------\n",
      "\n",
      "Many false positive predictions, but few false negatives\n",
      "\n",
      "- Poor specificity = P(Test negative | patient does not have disease)\n",
      "- Good sensitivity = P(Test positive | patient has disease)"
     ]
    },
    {
     "cell_type": "markdown",
     "metadata": {
      "slideshow": {
       "slide_type": "subslide"
      }
     },
     "source": [
      "PPV and NPV\n",
      "--------------------------------------------------------\n",
      "* Positive predictive value (PPV)\n",
      "     - P(patient has disease | Test positive ) \n",
      "     - P(D+ | T+)\n",
      "* Negative predictive value (NPV)\n",
      "     - P(patient does not have disease | Test negative )\n",
      "     - P(D- | T-)"
     ]
    },
    {
     "cell_type": "markdown",
     "metadata": {
      "slideshow": {
       "slide_type": "subslide"
      }
     },
     "source": [
      "ROC curves\n",
      "--------------------------------------------------------\n",
      "* We plot sensitivity against 1 \u2013 specificity to create the ROC curve for a test"
     ]
    },
    {
     "cell_type": "markdown",
     "metadata": {
      "slideshow": {
       "slide_type": "fragment"
      }
     },
     "source": [
      "* For a single diagnostic test, sensitivity and specificity vary with the threshold we use."
     ]
    },
    {
     "cell_type": "markdown",
     "metadata": {
      "slideshow": {
       "slide_type": "fragment"
      }
     },
     "source": [
      "* For a test that cannot separate the two classes, the ROC curve is a straight 45 degree line.\n",
      "* Good tests approach the top left corner of the ROC curve."
     ]
    },
    {
     "cell_type": "markdown",
     "metadata": {
      "slideshow": {
       "slide_type": "fragment"
      }
     },
     "source": [
      "* The area under the ROC curve (AUC) describes test accuracy"
     ]
    },
    {
     "cell_type": "code",
     "collapsed": false,
     "input": [
      "random_state = np.random.RandomState(0)\n",
      "\n",
      "# Import some data to play with\n",
      "iris = datasets.load_iris()\n",
      "X = iris.data\n",
      "y = iris.target\n",
      "\n",
      "# Make it a binary classification problem by removing the third class\n",
      "X, y = X[y != 2], y[y != 2]\n",
      "n_samples, n_features = X.shape\n",
      "\n",
      "# Add noisy features to make the problem harder\n",
      "X = np.c_[X, random_state.randn(n_samples, 200 * n_features)]\n",
      "\n",
      "# shuffle and split training and test sets\n",
      "X, y = shuffle(X, y, random_state=random_state)\n",
      "half = int(n_samples / 2)\n",
      "X_train, X_test = X[:half], X[half:]\n",
      "y_train, y_test = y[:half], y[half:]\n",
      "\n",
      "# Run classifier\n",
      "classifier = svm.SVC(kernel='linear', probability=True)"
     ],
     "language": "python",
     "metadata": {
      "slideshow": {
       "slide_type": "skip"
      }
     },
     "outputs": [],
     "prompt_number": 12
    },
    {
     "cell_type": "code",
     "collapsed": false,
     "input": [
      "probas_ = classifier.fit(X_train, y_train).predict_proba(X_test)\n",
      "\n",
      "# Compute ROC curve and area the curve\n",
      "fpr, tpr, thresholds = roc_curve(y_test, probas_[:, 1])\n",
      "roc_auc = auc(fpr, tpr)\n",
      "print \"Area under the ROC curve : %f\" % roc_auc"
     ],
     "language": "python",
     "metadata": {
      "slideshow": {
       "slide_type": "skip"
      }
     },
     "outputs": []
    },
    {
     "cell_type": "code",
     "collapsed": false,
     "input": [
      "plt.figure(figsize=(12,8))\n",
      "plt.plot(fpr, tpr, label='ROC curve (area = %0.2f)' % roc_auc)\n",
      "plt.plot([0, 1], [0, 1], 'k--')\n",
      "plt.xlabel('False Positive Rate'); plt.ylabel('True Positive Rate')\n",
      "plt.legend(loc=\"lower right\")"
     ],
     "language": "python",
     "metadata": {
      "slideshow": {
       "slide_type": "subslide"
      }
     },
     "outputs": [
      {
       "metadata": {},
       "output_type": "pyout",
       "prompt_number": 19,
       "text": [
        "<matplotlib.legend.Legend at 0x10d6c54d0>"
       ]
      },
      {
       "metadata": {},
       "output_type": "display_data",
       "png": "[encoded data removed]",
       "text": [
        "<matplotlib.figure.Figure at 0x10d6c5490>"
       ]
      }
     ],
     "prompt_number": 19
    },
    {
     "cell_type": "heading",
     "level": 1,
     "metadata": {
      "slideshow": {
       "slide_type": "slide"
      }
     },
     "source": [
      "Na\u00efve Bayes Classification"
     ]
    },
    {
     "cell_type": "markdown",
     "metadata": {
      "slideshow": {
       "slide_type": "slide"
      }
     },
     "source": [
      "Bayesian Inference\n",
      "========================================================\n",
      "Suppose we have a dataset with features $x_1, \\ldots, x_n$ and a class label $C$.  \n",
      "What can we say about classification using Bayes\u2019 theorem?\n",
      "\n",
      "$$ P(C | x_1, \\ldots, x_n) = \\frac{P(x_1, \\ldots, x_n | C) \\times P(C)}{P(x_1, \\ldots, x_n)} $$\n",
      "\n",
      "Bayes\u2019 theorem can help us to determine the probability of a record belonging to a class, *given* the data we observe."
     ]
    },
    {
     "cell_type": "markdown",
     "metadata": {
      "slideshow": {
       "slide_type": "subslide"
      }
     },
     "source": [
      "Bayesian Inference\n",
      "========================================================\n",
      "$$ P(C | x_1, \\ldots, x_n) = \\frac{P(x_1, \\ldots, x_n | C) \\times P(C)}{P(x_1, \\ldots, x_n)} $$ \n",
      "\n",
      "In plain English the above equation can be written as  \n",
      "\n",
      "$$ \\mbox{posterior} = \\frac{\\mbox{likelihood} \\times \\mbox{prior}}{\\mbox{evidence}} $$"
     ]
    },
    {
     "cell_type": "markdown",
     "metadata": {
      "slideshow": {
       "slide_type": "subslide"
      }
     },
     "source": [
      "The Likelihood Function\n",
      "========================================================\n",
      "$P(x_1, \\ldots, x_n | C)$ is our **likelihood function**. It represents the joint probability of observing features $x_1, \\ldots, x_n$ given that that record belongs to class $C$."
     ]
    },
    {
     "cell_type": "markdown",
     "metadata": {
      "slideshow": {
       "slide_type": "fragment"
      }
     },
     "source": [
      "We can observe the value of the likelihood function from the training data."
     ]
    },
    {
     "cell_type": "markdown",
     "metadata": {
      "slideshow": {
       "slide_type": "subslide"
      }
     },
     "source": [
      "The Prior\n",
      "========================================================\n",
      "$P(C)$ is the **prior probability** of $C$. It represents the probability of a record belonging to class $C$ before the data is taken into account."
     ]
    },
    {
     "cell_type": "markdown",
     "metadata": {
      "slideshow": {
       "slide_type": "fragment"
      }
     },
     "source": [
      "The value of the prior is also observed from the data."
     ]
    },
    {
     "cell_type": "markdown",
     "metadata": {
      "slideshow": {
       "slide_type": "subslide"
      }
     },
     "source": [
      "The Normalization Constant\n",
      "========================================================\n",
      "$P(x_1, \\ldots, x_n)$  is the **normalization constant**. It doesn\u2019t depend on $C$, and is generally ignored until the end of the computation.\n"
     ]
    },
    {
     "cell_type": "markdown",
     "metadata": {
      "slideshow": {
       "slide_type": "fragment"
      }
     },
     "source": [
      "The normalization constant doesn\u2019t tell us much."
     ]
    },
    {
     "cell_type": "markdown",
     "metadata": {
      "slideshow": {
       "slide_type": "subslide"
      }
     },
     "source": [
      "The Posterior\n",
      "========================================================\n",
      "$P(C | x_1, \\ldots, x_n)$ is the **posterior probability** of $C$. It represents the probability of a record belonging to class $C$ after the data is taken into account."
     ]
    },
    {
     "cell_type": "markdown",
     "metadata": {
      "slideshow": {
       "slide_type": "fragment"
      }
     },
     "source": [
      "The goal of any Bayesian computation is to find (\"learn\") the posterior distribution of a particular variable."
     ]
    },
    {
     "cell_type": "markdown",
     "metadata": {
      "slideshow": {
       "slide_type": "subslide"
      }
     },
     "source": [
      "Bayesian Inference\n",
      "========================================================\n",
      "The idea of Bayesian inference, then, is to *update* our beliefs about the distribution of $C$ using the data (\"evidence\") at our disposal.\n",
      "\n",
      "$$ P(C | x_1, \\ldots, x_n) = \\frac{P(x_1, \\ldots, x_n | C) \\times P(C)}{P(x_1, \\ldots, x_n)} $$\n",
      "\n",
      "Then we can use the posterior for prediction."
     ]
    },
    {
     "cell_type": "markdown",
     "metadata": {
      "slideshow": {
       "slide_type": "slide"
      }
     },
     "source": [
      "Na\u00efve Bayesian Classification\n",
      "========================================================\n",
      "Q. What piece of the puzzle we\u2019ve seen so far looks like it could intractably difficult in practice?"
     ]
    },
    {
     "cell_type": "markdown",
     "metadata": {
      "slideshow": {
       "slide_type": "subslide"
      }
     },
     "source": [
      "Na\u00efve Bayesian Classification\n",
      "========================================================\n",
      "Remember the likelihood function?  \n",
      "$P(x_1, \\ldots, x_n | C)$"
     ]
    },
    {
     "cell_type": "markdown",
     "metadata": {
      "slideshow": {
       "slide_type": "fragment"
      }
     },
     "source": [
      "Observing this exactly would require us to have enough data for every possible combination of features to make a reasonable estimate."
     ]
    },
    {
     "cell_type": "markdown",
     "metadata": {
      "slideshow": {
       "slide_type": "subslide"
      }
     },
     "source": [
      "Na\u00efve Bayesian Classification\n",
      "========================================================\n",
      "Q. What piece of the puzzle we\u2019ve seen so far looks like it could intractably difficult in practice?\n",
      "\n",
      "A. Estimating the full likelihood function."
     ]
    },
    {
     "cell_type": "markdown",
     "metadata": {
      "slideshow": {
       "slide_type": "subslide"
      }
     },
     "source": [
      "Na\u00efve Bayesian Classification\n",
      "========================================================\n",
      "Q. So what can we do about it?"
     ]
    },
    {
     "cell_type": "markdown",
     "metadata": {
      "slideshow": {
       "slide_type": "fragment"
      }
     },
     "source": [
      "A. Make a simplifying assumption. In particular, we assume that the features $x_1, \\ldots, x_n$ are conditionally independent from each other:"
     ]
    },
    {
     "cell_type": "markdown",
     "metadata": {
      "slideshow": {
       "slide_type": "fragment"
      }
     },
     "source": [
      "$$ P(x_1, \\ldots, x_n | C) \\approx P(x_1 | C) \\times P(x_2 | C) \\times \\ldots \\times P(x_n|C) $$"
     ]
    },
    {
     "cell_type": "markdown",
     "metadata": {
      "slideshow": {
       "slide_type": "fragment"
      }
     },
     "source": [
      "This \"na\u00efve\" assumption simplifies the likelihood function to make it tractable."
     ]
    },
    {
     "cell_type": "markdown",
     "metadata": {
      "slideshow": {
       "slide_type": "slide"
      }
     },
     "source": [
      "LAB\n",
      "===\n",
      "In the `DAT6` folder, from the command line:\n",
      "```bash\n",
      "git commit -am ...\n",
      "git checkout gh-pages\n",
      "git pull\n",
      "git checkout personal\n",
      "git merge gh-pages\n",
      "ipython notebook\n",
      "```\n",
      "Then open `DS_Lab09-TM`"
     ]
    }
   ],
   "metadata": {}
  }
 ]
}