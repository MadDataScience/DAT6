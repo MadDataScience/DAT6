{
 "metadata": {
  "celltoolbar": "Slideshow",
  "name": "",
  "signature": "sha256:e6184e5b96c8984cb295522a39a80afa3ee58f611443813b0dd5db8035ab9ac7"
 },
 "nbformat": 3,
 "nbformat_minor": 0,
 "worksheets": [
  {
   "cells": [
    {
     "cell_type": "markdown",
     "metadata": {
      "slideshow": {
       "slide_type": "slide"
      }
     },
     "source": [
      "Data Science\n",
      "==========================\n",
      "SQL and Relational Algebra\n",
      "--------------------------\n",
      "Alessandro D. Gagliardi"
     ]
    },
    {
     "cell_type": "markdown",
     "metadata": {
      "slideshow": {
       "slide_type": "slide"
      }
     },
     "source": [
      "Last Week: Python\n",
      "=================\n",
      "Questions?\n",
      "-----------------"
     ]
    },
    {
     "cell_type": "markdown",
     "metadata": {
      "slideshow": {
       "slide_type": "slide"
      }
     },
     "source": [
      "Agenda\n",
      "------\n",
      "\n",
      "1. Database Evolution\n",
      "2. Normalization\n",
      "3. Natural and Artificial Keys\n",
      "4. Star Schema\n",
      "5. Lab"
     ]
    },
    {
     "cell_type": "markdown",
     "metadata": {
      "slideshow": {
       "slide_type": "slide"
      }
     },
     "source": [
      "Lab\n",
      "================\n",
      "Pair Programming\n",
      "----------------"
     ]
    },
    {
     "cell_type": "heading",
     "level": 4,
     "metadata": {},
     "source": [
      "1. Start with a reasonably well-defined task."
     ]
    },
    {
     "cell_type": "heading",
     "level": 4,
     "metadata": {},
     "source": [
      "2. Agree on one tiny goal at a time."
     ]
    },
    {
     "cell_type": "heading",
     "level": 4,
     "metadata": {
      "slideshow": {
       "slide_type": "fragment"
      }
     },
     "source": [
      "3. Rely on your partner, support your partner."
     ]
    },
    {
     "cell_type": "heading",
     "level": 4,
     "metadata": {
      "slideshow": {
       "slide_type": "fragment"
      }
     },
     "source": [
      "4. Talk a lot!"
     ]
    },
    {
     "cell_type": "heading",
     "level": 4,
     "metadata": {
      "slideshow": {
       "slide_type": "fragment"
      }
     },
     "source": [
      "5. Sync up frequently."
     ]
    },
    {
     "cell_type": "heading",
     "level": 4,
     "metadata": {
      "slideshow": {
       "slide_type": "fragment"
      }
     },
     "source": [
      "6. Take a moment to celebrate as you complete tasks and overcome problems."
     ]
    },
    {
     "cell_type": "heading",
     "level": 4,
     "metadata": {
      "slideshow": {
       "slide_type": "fragment"
      }
     },
     "source": [
      "7. Switch roles often\u2014at least every ~~half hour~~ class(?)"
     ]
    },
    {
     "cell_type": "heading",
     "level": 4,
     "metadata": {
      "slideshow": {
       "slide_type": "fragment"
      }
     },
     "source": [
      "Questions?"
     ]
    },
    {
     "cell_type": "heading",
     "level": 1,
     "metadata": {
      "slideshow": {
       "slide_type": "slide"
      }
     },
     "source": [
      "Relational Databases"
     ]
    },
    {
     "cell_type": "markdown",
     "metadata": {
      "slideshow": {
       "slide_type": "subslide"
      }
     },
     "source": [
      "> Those who cannot remember the past are condemned to repeat it.\n",
      "\n",
      "_The Life of Reason_, by George Santayana"
     ]
    },
    {
     "cell_type": "markdown",
     "metadata": {
      "slideshow": {
       "slide_type": "slide"
      }
     },
     "source": [
      "DB Evolution\n",
      "------------\n",
      "\n",
      "* 1960s\n",
      "    - Hierarchical data structure (IBM IMS)\n",
      "    - Network data structure (CODASYL)\n",
      "* 1970s\n",
      "    - Relational data model\n",
      "        * A Relational Model of Data for Large Shared Data Banks \u2013 E. F. Codd [1970]\n",
      "    - System R (IBM), Ingres (Berkeley)"
     ]
    },
    {
     "cell_type": "markdown",
     "metadata": {
      "slideshow": {
       "slide_type": "subslide"
      }
     },
     "source": [
      "DB Evolution\n",
      "------------\n",
      "\n",
      "* 1980s\n",
      "    - Commercialization of RDBMS (relational database management systems)\n",
      "        * Oracle, Sybase, IBM DB2, Informix\n",
      "    - SQL (Structured Query Language)\n",
      "    - ACID (**A**tomic, **C**onsistent, **I**solated, **D**urable)\n",
      "* 1990s\n",
      "    - PC RDBMS\n",
      "        * Paradox, Microsoft SQL Server & Access\n",
      "    - Larger DBs, driven by internet\n",
      "    - Consolidation among commercial DB vendors"
     ]
    },
    {
     "cell_type": "markdown",
     "metadata": {
      "slideshow": {
       "slide_type": "subslide"
      }
     },
     "source": [
      "DB Evolution\n",
      "------------\n",
      "\n",
      "* 2000s\n",
      "    - Commercialization of Open Source RDBMS\n",
      "        * MySQL, Postgres\n",
      "    - Evolving requirements expose RDBMS limitations\n",
      "        * Storing complex and dynamic objects\n",
      "        * Processing increasing data volumes\n",
      "        * Analyzing massive amounts of data"
     ]
    },
    {
     "cell_type": "markdown",
     "metadata": {
      "slideshow": {
       "slide_type": "slide"
      }
     },
     "source": [
      "Keys\n",
      "====\n",
      "* A primary key is a unique identifier of a record in a table\n",
      "* A foreign key (when enforced) indicates a dependancy between two tables \n",
      "    - often (though not necessarily) the primary key of the other table\n",
      "* Keys can be *composite*."
     ]
    },
    {
     "cell_type": "heading",
     "level": 1,
     "metadata": {
      "slideshow": {
       "slide_type": "slide"
      }
     },
     "source": [
      "Normalization"
     ]
    },
    {
     "cell_type": "markdown",
     "metadata": {
      "slideshow": {
       "slide_type": "slide"
      }
     },
     "source": [
      "The objectives of normalization were stated as follows by Codd:\n",
      "\n",
      "> 1. To free the collection of relations from undesirable insertion, update and deletion dependencies;\n",
      "> 2. To reduce the need for restructuring the collection of relations, as new types of data are introduced, and thus increase the life span of application programs;\n",
      "> 3. To make the relational model more informative to users;\n",
      "> 4. To make the collection of relations neutral to the query statistics, where these statistics are liable to change as time goes by.  \n",
      "\n",
      "Codd, E.F. \"Further Normalization of the Data Base Relational Model\", p. 34"
     ]
    },
    {
     "cell_type": "markdown",
     "metadata": {
      "slideshow": {
       "slide_type": "slide"
      }
     },
     "source": [
      "First normal form (1NF) \n",
      "---\n",
      "A relation is in *first normal form* if the domain of each attribute contains only **atomic** values, and the value of each attribute contains only a **single value** from that domain."
     ]
    },
    {
     "cell_type": "heading",
     "level": 3,
     "metadata": {
      "slideshow": {
       "slide_type": "skip"
      }
     },
     "source": [
      "What?"
     ]
    },
    {
     "cell_type": "markdown",
     "metadata": {
      "slideshow": {
       "slide_type": "subslide"
      }
     },
     "source": [
      "##### The following scenario illustrates how a database design might violate first normal form."
     ]
    },
    {
     "cell_type": "markdown",
     "metadata": {
      "slideshow": {
       "slide_type": "notes"
      }
     },
     "source": [
      "*Taken from [http://en.wikipedia.org/wiki/First_normal_form](http://en.wikipedia.org/wiki/First_normal_form)*"
     ]
    },
    {
     "cell_type": "markdown",
     "metadata": {
      "slideshow": {
       "slide_type": "fragment"
      }
     },
     "source": [
      "Suppose a designer wishes to record the names and telephone numbers of customers. He defines a customer table which looks like this:\n",
      "\n",
      "\n",
      "### Customer \n",
      "\n",
      "| Customer ID | First Name | Surname   | Telephone Number |\n",
      "| -----------:| ---------- | --------- | ---------------- |\n",
      "|         123 | Robert     | Ingram    | 555-861-2025     |\n",
      "|         456 | Jane       | Wright    | 555-403-1659     |\n",
      "|         789 | Maria      | Fernandez | 555-808-9633     |"
     ]
    },
    {
     "cell_type": "markdown",
     "metadata": {
      "slideshow": {
       "slide_type": "subslide"
      }
     },
     "source": [
      "The designer then becomes aware of a requirement to record **multiple** telephone numbers for some customers. He reasons that the simplest way of doing this is to allow the \"Telephone Number\" field in any given record to contain more than one value:\n",
      "\n",
      "\n",
      "### Customer \n",
      "\n",
      "| Customer ID | First Name | Surname   | Telephone Number |\n",
      "| -----------:| ---------- | --------- | ---------------- |\n",
      "|         123 | Robert     | Ingram    | 555-861-2025     |\n",
      "|         456 | Jane       | Wright    | 555-403-1659     |\n",
      "|             |            |           | 555-776-4100 |\n",
      "|         789 | Maria      | Fernandez | 555-808-9633     |\n",
      "\n",
      "Assuming, however, that the Telephone Number column is defined on some telephone number-like domain, such as the domain of 12-character strings, the representation above is not in first normal form. It is in violation of first normal form as a single field has been allowed to contain multiple values. A typical _relational database management system_ will not allow fields in a table to contain multiple values in this way.\n"
     ]
    },
    {
     "cell_type": "markdown",
     "metadata": {
      "slideshow": {
       "slide_type": "subslide"
      }
     },
     "source": [
      "## A design that complies with 1NF:\n",
      "\n",
      "A design that is unambiguously in first normal form makes use of two tables: a Customer Name table and a Customer Telephone Number table.\n",
      "\n",
      "### Customer Name \n",
      "\n",
      "| Customer ID | First Name | Surname   |\n",
      "| -----------:| ---------- | --------- |\n",
      "|         123 | Robert     | Ingram    |\n",
      "|         456 | Jane       | Wright    |\n",
      "|         789 | Maria      | Fernandez |\n",
      "\n",
      "\n",
      "### Customer Telephone Number \n",
      "\n",
      "| Customer ID | Telephone Number |\n",
      "| ---:| --- |\n",
      "| 123 | 555-861-2025 |\n",
      "| 456 | 555-403-1659 |\n",
      "| 456 | 555-776-4100 |\n",
      "| 789 | 555-808-9633 |\n",
      "\n",
      "Repeating groups of telephone numbers do not occur in this design. Instead, each Customer-to-Telephone Number link appears on its own record. With Customer ID as key, a one-to-many relationship exists between the two tables. A record in the \"parent\" table, Customer Name, can have many telephone number records in the \"child\" table, Customer Telephone Number, but each telephone number belongs to one, and only one customer."
     ]
    },
    {
     "cell_type": "markdown",
     "metadata": {
      "slideshow": {
       "slide_type": "slide"
      }
     },
     "source": [
      "Second normal form (2NF)\n",
      "---\n",
      "A table is in 2NF *if and only if* it is in 1NF and every *non-prime attribute* of the table is dependent on *the whole of a candidate key*."
     ]
    },
    {
     "cell_type": "heading",
     "level": 3,
     "metadata": {
      "slideshow": {
       "slide_type": "skip"
      }
     },
     "source": [
      "What?"
     ]
    },
    {
     "cell_type": "markdown",
     "metadata": {
      "slideshow": {
       "slide_type": "subslide"
      }
     },
     "source": [
      "##### Consider a table describing employees' skills:\n",
      "\n",
      "### Employees' Skills \n",
      "\n",
      "| Employee \t|Skill \t|Current Work Location|\n",
      "| - | - | - |\n",
      "| Brown \t|Light Cleaning \t|73 Industrial Way|\n",
      "| Brown \t|Typing \t|73 Industrial Way|\n",
      "| Harrison \t|Light Cleaning \t|73 Industrial Way|\n",
      "| Jones \t|Shorthand \t|114 Main Street|\n",
      "| Jones \t|Typing \t|114 Main Street|\n",
      "| Jones \t|Whittling \t|114 Main Street|\n",
      "\n",
      "Neither {Employee} nor {Skill} is a candidate key for the table. This is because a given Employee might need to appear more than once (he might have multiple Skills), and a given Skill might need to appear more than once (it might be possessed by multiple Employees). Only the composite key {Employee, Skill} qualifies as a candidate key for the table."
     ]
    },
    {
     "cell_type": "markdown",
     "metadata": {
      "slideshow": {
       "slide_type": "notes"
      }
     },
     "source": [
      "*Taken from [http://en.wikipedia.org/wiki/Second_normal_form](http://en.wikipedia.org/wiki/Second_normal_form)*"
     ]
    },
    {
     "cell_type": "markdown",
     "metadata": {
      "slideshow": {
       "slide_type": "subslide"
      }
     },
     "source": [
      "The remaining attribute, Current Work Location, is dependent on only part of the candidate key, namely Employee. Therefore the table is not in 2NF. Note the redundancy in the way Current Work Locations are represented: we are told three times that Jones works at 114 Main Street, and twice that Brown works at 73 Industrial Way. This redundancy makes the table vulnerable to update anomalies: it is, for example, possible to update Jones' work location on his \"**Shorthand**\" and \"**Typing**\" records and not update his \"**Whittling**\" record. The resulting data would imply contradictory answers to the question \"What is Jones' current work location?\"\n",
      "\n",
      "### Employees' Skills \n",
      "\n",
      "| Employee \t|Skill \t|Current Work Location|\n",
      "| - | - | - |\n",
      "| Brown \t|Light Cleaning \t|73 Industrial Way|\n",
      "| Brown \t|Typing \t|73 Industrial Way|\n",
      "| Harrison \t|Light Cleaning \t|73 Industrial Way|\n",
      "| Jones \t|Shorthand \t|*414 Brannon Street* |\n",
      "| Jones \t|Typing \t|*414 Brannon Street* |\n",
      "| Jones \t|Whittling \t|114 Main Street|"
     ]
    },
    {
     "cell_type": "markdown",
     "metadata": {
      "slideshow": {
       "slide_type": "subslide"
      }
     },
     "source": [
      "A 2NF alternative to this design would represent the same information in two tables: an \"Employees\" table with candidate key {Employee}, and an \"Employees' Skills\" table with candidate key {Employee, Skill}:\n",
      "\n",
      "\n",
      "### Employees \n",
      "\n",
      "| Employee \t|Current Work Location\n",
      "| --- | ---\n",
      "| Brown \t|73 Industrial Way\n",
      "| Harrison \t|73 Industrial Way\n",
      "| Jones \t|114 Main Street\n",
      "\n",
      "\n",
      "### Employees' Skills\n",
      "\n",
      "|Employee \t|Skill\n",
      "| --- | ---\n",
      "|Brown \t|Light Cleaning\n",
      "|Brown \t|Typing\n",
      "|Harrison \t|Light Cleaning\n",
      "|Jones \t|Shorthand\n",
      "|Jones \t|Typing\n",
      "|Jones \t|Whittling\n",
      "\n",
      "Neither of these tables can suffer from update anomalies."
     ]
    },
    {
     "cell_type": "markdown",
     "metadata": {
      "slideshow": {
       "slide_type": "fragment"
      }
     },
     "source": [
      "Not all 2NF tables are free from update anomalies, however. This brings us to..."
     ]
    },
    {
     "cell_type": "markdown",
     "metadata": {
      "slideshow": {
       "slide_type": "slide"
      }
     },
     "source": [
      "Third normal form (3NF)\n",
      "---\n",
      "3NF was originally defined by E.F. Codd in 1971\n",
      "\n",
      "A table is in 3NF *if and only if* it is in 2NF and every *non-prime attribute* of the table is *non-transitively* (i.e. directly) dependent on *every superkey* of that table."
     ]
    },
    {
     "cell_type": "markdown",
     "metadata": {
      "slideshow": {
       "slide_type": "fragment"
      }
     },
     "source": [
      "Or...  \n",
      "*\"[Every] non-key [attribute] must provide a fact about the key, the whole key, and nothing but the key (so help me Codd).\"*\n"
     ]
    },
    {
     "cell_type": "markdown",
     "metadata": {
      "slideshow": {
       "slide_type": "fragment"
      }
     },
     "source": [
      "* Requiring existence of \"the key\" ensures that the table is in 1NF\n",
      "* Requiring that non-key attributes be dependent on \"the whole key\" ensures 2NF\n",
      "* Requiring that non-key attributes be dependent on \"nothing but the key\" ensures 3NF"
     ]
    },
    {
     "cell_type": "markdown",
     "metadata": {
      "slideshow": {
       "slide_type": "subslide"
      }
     },
     "source": [
      "##### An example of a 2NF table that fails to meet the requirements of 3NF is:\n",
      "\n",
      "### Tournament Winners \n",
      "\n",
      "|Tournament \t|Year \t|Winner \t|Winner Date of Birth\n",
      "| --- | --- | --- | ---\n",
      "|Indiana Invitational \t|1998 \t|Al Fredrickson \t|21 July 1975\n",
      "|Cleveland Open \t|1999 \t|Bob Albertson \t|28 September 1968\n",
      "|Des Moines Masters \t|1999 \t|Al Fredrickson \t|21 July 1975\n",
      "|Indiana Invitational \t|1999 \t|Chip Masterson \t|14 March 1977\n",
      "\n",
      "Because each row in the table needs to tell us who won a particular Tournament in a particular Year, the composite key {Tournament, Year} is a minimal set of attributes guaranteed to uniquely identify a row. That is, {Tournament, Year} is a candidate key for the table.\n",
      "\n",
      "The breach of 3NF occurs because the non-prime attribute **Winner Date of Birth** is transitively dependent on the candidate key {Tournament, Year} via the non-prime attribute Winner. The fact that Winner Date of Birth is functionally dependent on Winner makes the table vulnerable to logical inconsistencies, as there is nothing to stop the same person from being shown with different dates of birth on different records."
     ]
    },
    {
     "cell_type": "markdown",
     "metadata": {
      "slideshow": {
       "slide_type": "notes"
      }
     },
     "source": [
      "*Taken from [http://en.wikipedia.org/wiki/Third_normal_form](http://en.wikipedia.org/wiki/Third_normal_form)*"
     ]
    },
    {
     "cell_type": "markdown",
     "metadata": {
      "slideshow": {
       "slide_type": "subslide"
      }
     },
     "source": [
      "In order to express the same facts without violating 3NF, it is necessary to split the table into two:\n",
      "\n",
      "###Tournament Winners \n",
      "\n",
      "|Tournament \t|Year \t|Winner\n",
      "| --- | --- | ---\n",
      "|Indiana Invitational \t|1998 \t|Al Fredrickson\n",
      "|Cleveland Open \t|1999 \t|Bob Albertson\n",
      "|Des Moines Masters \t|1999 \t|Al Fredrickson\n",
      "|Indiana Invitational \t|1999 \t|Chip Masterson\n",
      "\n",
      "### Player Dates of Birth \n",
      "\n",
      "|Player \t|Date of Birth\n",
      "| --- | ---\n",
      "|Chip Masterson \t|14 March 1977\n",
      "|Al Fredrickson \t|21 July 1975\n",
      "|Bob Albertson \t|28 September 1968\n",
      "\n",
      "\n",
      "Update anomalies cannot occur in these tables, which are both in 3NF."
     ]
    },
    {
     "cell_type": "markdown",
     "metadata": {
      "slideshow": {
       "slide_type": "slide"
      }
     },
     "source": [
      "> I believe firmly that anything less than a fully normalized design is strongly contraindicated ... [Y]ou should \"denormalize\" only as a last resort. That is, you should back off from a fully normalized design only if all other strategies for improving performance have somehow failed to meet requirements.\n",
      "\n",
      "Date, C.J. Database in Depth: Relational Theory for Practitioners. O'Reilly (2005), p. 152"
     ]
    },
    {
     "cell_type": "heading",
     "level": 1,
     "metadata": {
      "slideshow": {
       "slide_type": "slide"
      }
     },
     "source": [
      "Natural vs. Artificial Keys"
     ]
    },
    {
     "cell_type": "markdown",
     "metadata": {
      "slideshow": {
       "slide_type": "slide"
      }
     },
     "source": [
      "Consider these two representations of our `players` table:\n",
      "\n",
      "|Player (PK) \t|Date of Birth\n",
      "| --- |:---:\n",
      "|Chip Masterson \t|14 March 1977\n",
      "|Al Fredrickson \t|21 July 1975\n",
      "|Bob Albertson \t|28 September 1968\n",
      "\n",
      "| id (PK) |Player \t|Date of Birth\n",
      "|:----:| --- |:---:\n",
      "| 1|Chip Masterson \t|14 March 1977\n",
      "| 2|Al Fredrickson \t|21 July 1975\n",
      "| 3|Bob Albertson \t|28 September 1968\n",
      "\n",
      "Which is better? Why?"
     ]
    },
    {
     "cell_type": "markdown",
     "metadata": {
      "slideshow": {
       "slide_type": "notes"
      }
     },
     "source": [
      "NKs are meaningful, but harder to insure uniqueness  \n",
      "AKs take less memory, but have no intrinsic meaning"
     ]
    },
    {
     "cell_type": "markdown",
     "metadata": {
      "slideshow": {
       "slide_type": "subslide"
      }
     },
     "source": [
      "### Player Dates of Birth \n",
      "\n",
      "| id (PK) |Player \t|Date of Birth\n",
      "|:----:| --- |:---:\n",
      "| 1|Chip Masterson \t|14 March 1977\n",
      "| 2|Al Fredrickson \t|21 July 1975\n",
      "| 3|Bob Albertson \t|28 September 1968\n",
      "\n",
      "###Tournament Winners \n",
      "\n",
      "| id (PK) |Tournament       |Year \t|Winner_id (FK)\n",
      "|:-------:| --------------- | ----- |:---:\n",
      "| 1|Indiana Invitational \t|1998 \t| 2\n",
      "| 2|Cleveland Open      \t|1999 \t| 3\n",
      "| 3|Des Moines Masters   \t|1999 \t| 2\n",
      "| 4|Indiana Invitational \t|1999 \t| 1"
     ]
    },
    {
     "cell_type": "markdown",
     "metadata": {
      "slideshow": {
       "slide_type": "notes"
      }
     },
     "source": [
      "Note: in order to know who won a tournament, you'd need to perform a JOIN. This can be expensive."
     ]
    },
    {
     "cell_type": "markdown",
     "metadata": {
      "slideshow": {
       "slide_type": "slide"
      }
     },
     "source": [
      "Star Schema\n",
      "===========\n",
      "<img src=\"assets/Star-schema-example.png\" />"
     ]
    },
    {
     "cell_type": "markdown",
     "metadata": {
      "slideshow": {
       "slide_type": "slide"
      }
     },
     "source": [
      "Example\n",
      "=========================\n",
      "*Open* [`DS_Lab03-RDBMS`](DS_Lab03-RDBMS.slides.html?theme=ga)\n",
      "-------------------------"
     ]
    }
   ],
   "metadata": {}
  }
 ]
}