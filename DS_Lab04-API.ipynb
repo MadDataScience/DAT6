{
 "metadata": {
  "celltoolbar": "Slideshow",
  "name": "",
  "signature": "sha256:c1f37c60f76dfa07873f340eebcf06e8d2ee0ece9b485df7e4a633bd49c3db20"
 },
 "nbformat": 3,
 "nbformat_minor": 0,
 "worksheets": [
  {
   "cells": [
    {
     "cell_type": "markdown",
     "metadata": {
      "slideshow": {
       "slide_type": "slide"
      }
     },
     "source": [
      "Lab\n",
      "===================\n",
      "Twitter & MongoDB\n",
      "-------------------\n",
      "Alessandro D. Gagliardi"
     ]
    },
    {
     "cell_type": "markdown",
     "metadata": {
      "slideshow": {
       "slide_type": "subslide"
      }
     },
     "source": [
      "Importing Libraries\n",
      "-------------------"
     ]
    },
    {
     "cell_type": "code",
     "collapsed": false,
     "input": [
      "# standard library:\n",
      "import os  \n",
      "\n",
      "from pprint import pprint\n",
      "\n",
      "# other modules:\n",
      "import matplotlib.pyplot as plt\n",
      "import pandas as pd\n",
      "import twitter\n",
      "import yaml\n",
      "\n",
      "from pymongo import MongoClient"
     ],
     "language": "python",
     "metadata": {
      "slideshow": {
       "slide_type": "-"
      }
     },
     "outputs": [],
     "prompt_number": 1
    },
    {
     "cell_type": "markdown",
     "metadata": {
      "slideshow": {
       "slide_type": "slide"
      }
     },
     "source": [
      "Twitter Trends\n",
      "=============="
     ]
    },
    {
     "cell_type": "heading",
     "level": 3,
     "metadata": {
      "slideshow": {
       "slide_type": "subslide"
      }
     },
     "source": [
      "Connect to Twitter:"
     ]
    },
    {
     "cell_type": "code",
     "collapsed": false,
     "input": [
      "credentials = yaml.load(open(os.path.expanduser('~/api_cred.yml')))\n",
      "\n",
      "auth = twitter.oauth.OAuth(credentials['ACCESS_TOKEN'], \n",
      "                           credentials['ACCESS_TOKEN_SECRET'],\n",
      "                           credentials['API_KEY'],\n",
      "                           credentials['API_SECRET'])\n",
      "\n",
      "twitter_api = twitter.Twitter(auth=auth)"
     ],
     "language": "python",
     "metadata": {
      "slideshow": {
       "slide_type": "-"
      }
     },
     "outputs": [],
     "prompt_number": 2
    },
    {
     "cell_type": "code",
     "collapsed": false,
     "input": [
      "# The Yahoo! Where On Earth ID for the entire world is 1.\n",
      "# See https://dev.twitter.com/docs/api/1.1/get/trends/place and\n",
      "# http://developer.yahoo.com/geo/geoplanet/\n",
      "\n",
      "WORLD_WOE_ID = 1\n",
      "US_WOE_ID = 23424977\n",
      "\n",
      "# Prefix ID with the underscore for query string parameterization.\n",
      "# Without the underscore, the twitter package appends the ID value\n",
      "# to the URL itself as a special case keyword argument.\n",
      "\n",
      "world_trends = twitter_api.trends.place(_id=WORLD_WOE_ID)\n",
      "us_trends = twitter_api.trends.place(_id=US_WOE_ID)\n",
      "\n",
      "pprint(world_trends)"
     ],
     "language": "python",
     "metadata": {
      "slideshow": {
       "slide_type": "slide"
      }
     },
     "outputs": [
      {
       "output_type": "stream",
       "stream": "stdout",
       "text": [
        "[{u'as_of': u'2014-04-20T02:17:08Z',\n",
        "  u'created_at': u'2014-04-20T02:12:36Z',\n",
        "  u'locations': [{u'name': u'Worldwide', u'woeid': 1}],\n",
        "  u'trends': [{u'name': u'#SiempreMePasaEstoDe',\n",
        "               u'promoted_content': None,\n",
        "               u'query': u'%23SiempreMePasaEstoDe',\n",
        "               u'url': u'http://twitter.com/search?q=%23SiempreMePasaEstoDe'},\n",
        "              {u'name': u'#MahoganyRT',\n",
        "               u'promoted_content': None,\n",
        "               u'query': u'%23MahoganyRT',\n",
        "               u'url': u'http://twitter.com/search?q=%23MahoganyRT'},\n",
        "              {u'name': u'#ClanessaNoAltasHoras',\n",
        "               u'promoted_content': None,\n",
        "               u'query': u'%23ClanessaNoAltasHoras',\n",
        "               u'url': u'http://twitter.com/search?q=%23ClanessaNoAltasHoras'},\n",
        "              {u'name': u'Happy Easter Sunday',\n",
        "               u'promoted_content': None,\n",
        "               u'query': u'%22Happy+Easter+Sunday%22',\n",
        "               u'url': u'http://twitter.com/search?q=%22Happy+Easter+Sunday%22'},\n",
        "              {u'name': u'#KeepUpIndonesia',\n",
        "               u'promoted_content': None,\n",
        "               u'query': u'%23KeepUpIndonesia',\n",
        "               u'url': u'http://twitter.com/search?q=%23KeepUpIndonesia'},\n",
        "              {u'name': u'#EsDePocoHombre',\n",
        "               u'promoted_content': None,\n",
        "               u'query': u'%23EsDePocoHombre',\n",
        "               u'url': u'http://twitter.com/search?q=%23EsDePocoHombre'},\n",
        "              {u'name': u'Mark Herberholz',\n",
        "               u'promoted_content': None,\n",
        "               u'query': u'%22Mark+Herberholz%22',\n",
        "               u'url': u'http://twitter.com/search?q=%22Mark+Herberholz%22'},\n",
        "              {u'name': u'Jesus is Alive',\n",
        "               u'promoted_content': None,\n",
        "               u'query': u'%22Jesus+is+Alive%22',\n",
        "               u'url': u'http://twitter.com/search?q=%22Jesus+is+Alive%22'},\n",
        "              {u'name': u'30-27 Werdum',\n",
        "               u'promoted_content': None,\n",
        "               u'query': u'%2230-27+Werdum%22',\n",
        "               u'url': u'http://twitter.com/search?q=%2230-27+Werdum%22'},\n",
        "              {u'name': u'1458 Espectadores',\n",
        "               u'promoted_content': None,\n",
        "               u'query': u'%221458+Espectadores%22',\n",
        "               u'url': u'http://twitter.com/search?q=%221458+Espectadores%22'}]}]\n"
       ]
      }
     ],
     "prompt_number": 3
    },
    {
     "cell_type": "code",
     "collapsed": false,
     "input": [
      "pprint(us_trends)"
     ],
     "language": "python",
     "metadata": {
      "slideshow": {
       "slide_type": "subslide"
      }
     },
     "outputs": [
      {
       "output_type": "stream",
       "stream": "stdout",
       "text": [
        "[{u'as_of': u'2014-04-20T02:17:09Z',\n",
        "  u'created_at': u'2014-04-20T02:12:36Z',\n",
        "  u'locations': [{u'name': u'United States', u'woeid': 23424977}],\n",
        "  u'trends': [{u'name': u'#MahoganyRT',\n",
        "               u'promoted_content': None,\n",
        "               u'query': u'%23MahoganyRT',\n",
        "               u'url': u'http://twitter.com/search?q=%23MahoganyRT'},\n",
        "              {u'name': u'#romeoplaymmmyeah',\n",
        "               u'promoted_content': None,\n",
        "               u'query': u'%23romeoplaymmmyeah',\n",
        "               u'url': u'http://twitter.com/search?q=%23romeoplaymmmyeah'},\n",
        "              {u'name': u'#ADayLateAndADollarShort',\n",
        "               u'promoted_content': None,\n",
        "               u'query': u'%23ADayLateAndADollarShort',\n",
        "               u'url': u'http://twitter.com/search?q=%23ADayLateAndADollarShort'},\n",
        "              {u'name': u'Westbrook and Durant',\n",
        "               u'promoted_content': None,\n",
        "               u'query': u'%22Westbrook+and+Durant%22',\n",
        "               u'url': u'http://twitter.com/search?q=%22Westbrook+and+Durant%22'},\n",
        "              {u'name': u'#WerdumvsBrowne',\n",
        "               u'promoted_content': None,\n",
        "               u'query': u'%23WerdumvsBrowne',\n",
        "               u'url': u'http://twitter.com/search?q=%23WerdumvsBrowne'},\n",
        "              {u'name': u'#TenCommandments',\n",
        "               u'promoted_content': None,\n",
        "               u'query': u'%23TenCommandments',\n",
        "               u'url': u'http://twitter.com/search?q=%23TenCommandments'},\n",
        "              {u'name': u'Travis Browne',\n",
        "               u'promoted_content': None,\n",
        "               u'query': u'%22Travis+Browne%22',\n",
        "               u'url': u'http://twitter.com/search?q=%22Travis+Browne%22'},\n",
        "              {u'name': u'Tomorrow is Easter',\n",
        "               u'promoted_content': None,\n",
        "               u'query': u'%22Tomorrow+is+Easter%22',\n",
        "               u'url': u'http://twitter.com/search?q=%22Tomorrow+is+Easter%22'},\n",
        "              {u'name': u'The Devil Wears Prada',\n",
        "               u'promoted_content': None,\n",
        "               u'query': u'%22The+Devil+Wears+Prada%22',\n",
        "               u'url': u'http://twitter.com/search?q=%22The+Devil+Wears+Prada%22'},\n",
        "              {u'name': u'Derek Fisher',\n",
        "               u'promoted_content': None,\n",
        "               u'query': u'%22Derek+Fisher%22',\n",
        "               u'url': u'http://twitter.com/search?q=%22Derek+Fisher%22'}]}]\n"
       ]
      }
     ],
     "prompt_number": 4
    },
    {
     "cell_type": "heading",
     "level": 3,
     "metadata": {
      "slideshow": {
       "slide_type": "subslide"
      }
     },
     "source": [
      "Do any of these trends intersect?"
     ]
    },
    {
     "cell_type": "code",
     "collapsed": false,
     "input": [
      "world_trends_set = set([trend['name'] for trends in world_trends\n",
      "                        for trend in trends['trends']])\n",
      "\n",
      "us_trends_set = set([trend['name'] for trends in us_trends\n",
      "                     for trend in trends['trends']]) \n",
      "\n",
      "world_trends_set.intersection(us_trends_set)"
     ],
     "language": "python",
     "metadata": {
      "slideshow": {
       "slide_type": "fragment"
      }
     },
     "outputs": [
      {
       "metadata": {},
       "output_type": "pyout",
       "prompt_number": 5,
       "text": [
        "{u'#MahoganyRT'}"
       ]
      }
     ],
     "prompt_number": 5
    },
    {
     "cell_type": "markdown",
     "metadata": {
      "slideshow": {
       "slide_type": "slide"
      }
     },
     "source": [
      "Twitter Statuses\n",
      "================"
     ]
    },
    {
     "cell_type": "code",
     "collapsed": false,
     "input": [
      "q = world_trends[0]['trends'][0]['name']\n",
      "\n",
      "count = 100\n",
      "\n",
      "# See https://dev.twitter.com/docs/api/1.1/get/search/tweets\n",
      "\n",
      "search_results = twitter_api.search.tweets(q=q, count=count)\n",
      "\n",
      "statuses = search_results['statuses']"
     ],
     "language": "python",
     "metadata": {
      "slideshow": {
       "slide_type": "fragment"
      }
     },
     "outputs": [],
     "prompt_number": 6
    },
    {
     "cell_type": "code",
     "collapsed": false,
     "input": [
      "len(statuses)"
     ],
     "language": "python",
     "metadata": {
      "slideshow": {
       "slide_type": "fragment"
      }
     },
     "outputs": [
      {
       "metadata": {},
       "output_type": "pyout",
       "prompt_number": 7,
       "text": [
        "100"
       ]
      }
     ],
     "prompt_number": 7
    },
    {
     "cell_type": "heading",
     "level": 3,
     "metadata": {
      "slideshow": {
       "slide_type": "subslide"
      }
     },
     "source": [
      "More?"
     ]
    },
    {
     "cell_type": "code",
     "collapsed": false,
     "input": [
      "search_results['search_metadata'].get('next_results')"
     ],
     "language": "python",
     "metadata": {
      "slideshow": {
       "slide_type": "fragment"
      }
     },
     "outputs": [
      {
       "metadata": {},
       "output_type": "pyout",
       "prompt_number": 8,
       "text": [
        "u'?max_id=457704145387257855&q=%23SiempreMePasaEstoDe&count=100&include_entities=1'"
       ]
      }
     ],
     "prompt_number": 8
    },
    {
     "cell_type": "code",
     "collapsed": false,
     "input": [
      "if 'next_results' in search_results['search_metadata']:\n",
      "    next_results = search_results['search_metadata']['next_results']\n",
      "    kwargs = dict([ kv.split('=') for kv in next_results[1:].split(\"&\") ])\n",
      "    search_results = twitter_api.search.tweets(**kwargs)\n",
      "    statuses += search_results['statuses']\n",
      "\n",
      "len(statuses)"
     ],
     "language": "python",
     "metadata": {
      "slideshow": {
       "slide_type": "fragment"
      }
     },
     "outputs": [
      {
       "metadata": {},
       "output_type": "pyout",
       "prompt_number": 9,
       "text": [
        "200"
       ]
      }
     ],
     "prompt_number": 9
    },
    {
     "cell_type": "markdown",
     "metadata": {
      "slideshow": {
       "slide_type": "slide"
      }
     },
     "source": [
      "Mongo\n",
      "====="
     ]
    },
    {
     "cell_type": "markdown",
     "metadata": {
      "slideshow": {
       "slide_type": "subslide"
      }
     },
     "source": [
      "from the command line:\n",
      "```bash\n",
      "$ mkdir -p data/db\n",
      "$ mongod --dbpath data/db\n",
      "```"
     ]
    },
    {
     "cell_type": "heading",
     "level": 3,
     "metadata": {
      "slideshow": {
       "slide_type": "slide"
      }
     },
     "source": [
      "Connect to our Mongo database management server (DBMS):"
     ]
    },
    {
     "cell_type": "code",
     "collapsed": false,
     "input": [
      "c = MongoClient()"
     ],
     "language": "python",
     "metadata": {
      "slideshow": {
       "slide_type": "fragment"
      }
     },
     "outputs": [],
     "prompt_number": 10
    },
    {
     "cell_type": "heading",
     "level": 4,
     "metadata": {
      "slideshow": {
       "slide_type": "fragment"
      }
     },
     "source": [
      "Create a database called `twitter`:"
     ]
    },
    {
     "cell_type": "code",
     "collapsed": false,
     "input": [
      "db = c.twitter"
     ],
     "language": "python",
     "metadata": {
      "slideshow": {
       "slide_type": "fragment"
      }
     },
     "outputs": [],
     "prompt_number": 11
    },
    {
     "cell_type": "markdown",
     "metadata": {
      "slideshow": {
       "slide_type": "notes"
      }
     },
     "source": [
      "##### Yes, it's that easy."
     ]
    },
    {
     "cell_type": "heading",
     "level": 4,
     "metadata": {
      "slideshow": {
       "slide_type": "slide"
      }
     },
     "source": [
      "Insert the results we pulled from Twitter and store them as a document in a collection named `tweets`:"
     ]
    },
    {
     "cell_type": "code",
     "collapsed": false,
     "input": [
      "statuses_ids = db.tweets.insert(statuses)\n",
      "statuses_ids[:5]"
     ],
     "language": "python",
     "metadata": {
      "slideshow": {
       "slide_type": "fragment"
      }
     },
     "outputs": [
      {
       "metadata": {},
       "output_type": "pyout",
       "prompt_number": 12,
       "text": [
        "[ObjectId('53532e26bcdefe1199f65732'),\n",
        " ObjectId('53532e26bcdefe1199f65733'),\n",
        " ObjectId('53532e26bcdefe1199f65734'),\n",
        " ObjectId('53532e26bcdefe1199f65735'),\n",
        " ObjectId('53532e26bcdefe1199f65736')]"
       ]
      }
     ],
     "prompt_number": 12
    },
    {
     "cell_type": "heading",
     "level": 3,
     "metadata": {
      "slideshow": {
       "slide_type": "slide"
      }
     },
     "source": [
      "`ObjectId`s"
     ]
    },
    {
     "cell_type": "markdown",
     "metadata": {
      "slideshow": {
       "slide_type": "fragment"
      }
     },
     "source": [
      "**ObjectId** is a 12-byte **BSON** type, constructed using:\n",
      "\n",
      "-    a 4-byte value representing the seconds since the Unix epoch,\n",
      "-    a 3-byte machine identifier,\n",
      "-    a 2-byte process id, and\n",
      "-    a 3-byte counter, starting with a random value.\n",
      "\n",
      "In MongoDB, documents stored in a collection require a unique `_id` field that acts as a **primary key**. Because ObjectIds are small, most likely unique, and fast to generate, MongoDB uses ObjectIds as the default value for the `_id` field if the `_id` field is not specified. \n",
      "\n",
      "<!--small><i>from http://docs.mongodb.org/manual/reference/object-id/</i></small-->"
     ]
    },
    {
     "cell_type": "markdown",
     "metadata": {
      "slideshow": {
       "slide_type": "notes"
      }
     },
     "source": [
      "Using ObjectIds for the `_id` field provides the following additional benefits:\n",
      "\n",
      "- you can access the insertion time of the ObjectId, using the `.generation_time` property in pymongo. \n",
      "- sorting on an `_id` field that stores ObjectId values is roughly equivalent to sorting by insertion time."
     ]
    },
    {
     "cell_type": "heading",
     "level": 3,
     "metadata": {
      "slideshow": {
       "slide_type": "slide"
      }
     },
     "source": [
      "Test the contents of our database:"
     ]
    },
    {
     "cell_type": "code",
     "collapsed": false,
     "input": [
      "c.database_names()"
     ],
     "language": "python",
     "metadata": {
      "slideshow": {
       "slide_type": "fragment"
      }
     },
     "outputs": [
      {
       "metadata": {},
       "output_type": "pyout",
       "prompt_number": 13,
       "text": [
        "[u'local', u'twitter']"
       ]
      }
     ],
     "prompt_number": 13
    },
    {
     "cell_type": "code",
     "collapsed": false,
     "input": [
      "db = c.twitter\n",
      "db.collection_names()"
     ],
     "language": "python",
     "metadata": {
      "slideshow": {
       "slide_type": "fragment"
      }
     },
     "outputs": [
      {
       "metadata": {},
       "output_type": "pyout",
       "prompt_number": 14,
       "text": [
        "[u'system.indexes', u'tweets', u'canada', u'us']"
       ]
      }
     ],
     "prompt_number": 14
    },
    {
     "cell_type": "code",
     "collapsed": false,
     "input": [
      "db.tweets.find_one()"
     ],
     "language": "python",
     "metadata": {
      "slideshow": {
       "slide_type": "fragment"
      }
     },
     "outputs": [
      {
       "metadata": {},
       "output_type": "pyout",
       "prompt_number": 15,
       "text": [
        "{u'_id': ObjectId('53531654bcdefe0e658cbf07'),\n",
        " u'contributors': None,\n",
        " u'coordinates': None,\n",
        " u'created_at': u'Sun Apr 20 00:34:04 +0000 2014',\n",
        " u'entities': {u'hashtags': [{u'indices': [11, 22], u'text': u'NashTo2Mil'},\n",
        "   {u'indices': [23, 34], u'text': u'NashTo2Mil'},\n",
        "   {u'indices': [35, 46], u'text': u'Nash2ToMil'},\n",
        "   {u'indices': [47, 58], u'text': u'NashTo2Mil'},\n",
        "   {u'indices': [59, 70], u'text': u'NashTo2Mil'},\n",
        "   {u'indices': [71, 82], u'text': u'Nash2ToMil'},\n",
        "   {u'indices': [83, 94], u'text': u'NashTo2Mil'},\n",
        "   {u'indices': [95, 106], u'text': u'NashTo2Mil'},\n",
        "   {u'indices': [107, 118], u'text': u'Nash2ToMil'}],\n",
        "  u'symbols': [],\n",
        "  u'urls': [],\n",
        "  u'user_mentions': [{u'id': 310072711,\n",
        "    u'id_str': u'310072711',\n",
        "    u'indices': [0, 10],\n",
        "    u'name': u'Nash',\n",
        "    u'screen_name': u'Nashgrier'}]},\n",
        " u'favorite_count': 0,\n",
        " u'favorited': False,\n",
        " u'geo': None,\n",
        " u'id': 457678549789708288L,\n",
        " u'id_str': u'457678549789708288',\n",
        " u'in_reply_to_screen_name': u'Nashgrier',\n",
        " u'in_reply_to_status_id': None,\n",
        " u'in_reply_to_status_id_str': None,\n",
        " u'in_reply_to_user_id': 310072711,\n",
        " u'in_reply_to_user_id_str': u'310072711',\n",
        " u'lang': u'it',\n",
        " u'metadata': {u'iso_language_code': u'it', u'result_type': u'recent'},\n",
        " u'place': None,\n",
        " u'retweet_count': 0,\n",
        " u'retweeted': False,\n",
        " u'source': u'<a href=\"https://twitter.com/download/android\" rel=\"nofollow\">Twitter for  Android</a>',\n",
        " u'text': u'@Nashgrier #NashTo2Mil #NashTo2Mil #Nash2ToMil #NashTo2Mil #NashTo2Mil #Nash2ToMil #NashTo2Mil #NashTo2Mil #Nash2ToMil x85',\n",
        " u'truncated': False,\n",
        " u'user': {u'contributors_enabled': False,\n",
        "  u'created_at': u'Fri Aug 16 23:27:37 +0000 2013',\n",
        "  u'default_profile': True,\n",
        "  u'default_profile_image': False,\n",
        "  u'description': u'one direction \\u2665_\\u2665',\n",
        "  u'entities': {u'description': {u'urls': []}},\n",
        "  u'favourites_count': 30,\n",
        "  u'follow_request_sent': False,\n",
        "  u'followers_count': 61,\n",
        "  u'following': False,\n",
        "  u'friends_count': 86,\n",
        "  u'geo_enabled': False,\n",
        "  u'id': 1676879275,\n",
        "  u'id_str': u'1676879275',\n",
        "  u'is_translation_enabled': False,\n",
        "  u'is_translator': False,\n",
        "  u'lang': u'en',\n",
        "  u'listed_count': 1,\n",
        "  u'location': u'ireland',\n",
        "  u'name': u'niamh',\n",
        "  u'notifications': False,\n",
        "  u'profile_background_color': u'C0DEED',\n",
        "  u'profile_background_image_url': u'http://abs.twimg.com/images/themes/theme1/bg.png',\n",
        "  u'profile_background_image_url_https': u'https://abs.twimg.com/images/themes/theme1/bg.png',\n",
        "  u'profile_background_tile': False,\n",
        "  u'profile_banner_url': u'https://pbs.twimg.com/profile_banners/1676879275/1393193679',\n",
        "  u'profile_image_url': u'http://pbs.twimg.com/profile_images/437708680042405889/1Loj3lOe_normal.jpeg',\n",
        "  u'profile_image_url_https': u'https://pbs.twimg.com/profile_images/437708680042405889/1Loj3lOe_normal.jpeg',\n",
        "  u'profile_link_color': u'0084B4',\n",
        "  u'profile_sidebar_border_color': u'C0DEED',\n",
        "  u'profile_sidebar_fill_color': u'DDEEF6',\n",
        "  u'profile_text_color': u'333333',\n",
        "  u'profile_use_background_image': True,\n",
        "  u'protected': False,\n",
        "  u'screen_name': u'radicalzniall',\n",
        "  u'statuses_count': 377,\n",
        "  u'time_zone': u'Atlantic Time (Canada)',\n",
        "  u'url': None,\n",
        "  u'utc_offset': -10800,\n",
        "  u'verified': False}}"
       ]
      }
     ],
     "prompt_number": 15
    },
    {
     "cell_type": "markdown",
     "metadata": {
      "slideshow": {
       "slide_type": "notes"
      }
     },
     "source": [
      "Notice the `_id` included in the document along with the values we already saw before."
     ]
    },
    {
     "cell_type": "markdown",
     "metadata": {
      "slideshow": {
       "slide_type": "slide"
      }
     },
     "source": [
      "Now that we have our data in MongoDB, we can use some of it's search functionality. For example:"
     ]
    },
    {
     "cell_type": "code",
     "collapsed": false,
     "input": [
      "popular_tweets = db.tweets.find({'retweet_count': {\"$gte\": 3}})\n",
      "popular_tweets.count()"
     ],
     "language": "python",
     "metadata": {
      "slideshow": {
       "slide_type": "fragment"
      }
     },
     "outputs": [
      {
       "metadata": {},
       "output_type": "pyout",
       "prompt_number": 16,
       "text": [
        "52"
       ]
      }
     ],
     "prompt_number": 16
    },
    {
     "cell_type": "markdown",
     "metadata": {
      "slideshow": {
       "slide_type": "slide"
      }
     },
     "source": [
      "Making Sense with Pandas\n",
      "========================"
     ]
    },
    {
     "cell_type": "code",
     "collapsed": false,
     "input": [
      "pd.DataFrame(db.tweets.find(fields=['created_at', 'retweet_count', 'favorite_count']))"
     ],
     "language": "python",
     "metadata": {
      "slideshow": {
       "slide_type": "slide"
      }
     },
     "outputs": [
      {
       "ename": "PandasError",
       "evalue": "DataFrame constructor not properly called!",
       "output_type": "pyerr",
       "traceback": [
        "\u001b[0;31m---------------------------------------------------------------------------\u001b[0m\n\u001b[0;31mPandasError\u001b[0m                               Traceback (most recent call last)",
        "\u001b[0;32m<ipython-input-17-87a1cfed5405>\u001b[0m in \u001b[0;36m<module>\u001b[0;34m()\u001b[0m\n\u001b[0;32m----> 1\u001b[0;31m \u001b[0mpd\u001b[0m\u001b[0;34m.\u001b[0m\u001b[0mDataFrame\u001b[0m\u001b[0;34m(\u001b[0m\u001b[0mdb\u001b[0m\u001b[0;34m.\u001b[0m\u001b[0mtweets\u001b[0m\u001b[0;34m.\u001b[0m\u001b[0mfind\u001b[0m\u001b[0;34m(\u001b[0m\u001b[0mfields\u001b[0m\u001b[0;34m=\u001b[0m\u001b[0;34m[\u001b[0m\u001b[0;34m'created_at'\u001b[0m\u001b[0;34m,\u001b[0m \u001b[0;34m'retweet_count'\u001b[0m\u001b[0;34m,\u001b[0m \u001b[0;34m'favorite_count'\u001b[0m\u001b[0;34m]\u001b[0m\u001b[0;34m)\u001b[0m\u001b[0;34m)\u001b[0m\u001b[0;34m\u001b[0m\u001b[0m\n\u001b[0m",
        "\u001b[0;32m/Users/alessandro.gagliardi/anaconda/lib/python2.7/site-packages/pandas/core/frame.pyc\u001b[0m in \u001b[0;36m__init__\u001b[0;34m(self, data, index, columns, dtype, copy)\u001b[0m\n\u001b[1;32m    271\u001b[0m                                          copy=False)\n\u001b[1;32m    272\u001b[0m             \u001b[0;32melse\u001b[0m\u001b[0;34m:\u001b[0m\u001b[0;34m\u001b[0m\u001b[0m\n\u001b[0;32m--> 273\u001b[0;31m                 \u001b[0;32mraise\u001b[0m \u001b[0mPandasError\u001b[0m\u001b[0;34m(\u001b[0m\u001b[0;34m'DataFrame constructor not properly called!'\u001b[0m\u001b[0;34m)\u001b[0m\u001b[0;34m\u001b[0m\u001b[0m\n\u001b[0m\u001b[1;32m    274\u001b[0m \u001b[0;34m\u001b[0m\u001b[0m\n\u001b[1;32m    275\u001b[0m         \u001b[0mNDFrame\u001b[0m\u001b[0;34m.\u001b[0m\u001b[0m__init__\u001b[0m\u001b[0;34m(\u001b[0m\u001b[0mself\u001b[0m\u001b[0;34m,\u001b[0m \u001b[0mmgr\u001b[0m\u001b[0;34m,\u001b[0m \u001b[0mfastpath\u001b[0m\u001b[0;34m=\u001b[0m\u001b[0mTrue\u001b[0m\u001b[0;34m)\u001b[0m\u001b[0;34m\u001b[0m\u001b[0m\n",
        "\u001b[0;31mPandasError\u001b[0m: DataFrame constructor not properly called!"
       ]
      }
     ],
     "prompt_number": 17
    },
    {
     "cell_type": "code",
     "collapsed": false,
     "input": [
      "retweet_favorites = pd.DataFrame(list(db.tweets.find(fields=['created_at','retweet_count','favorite_count'])))\n",
      "retweet_favorites.head()"
     ],
     "language": "python",
     "metadata": {
      "slideshow": {
       "slide_type": "subslide"
      }
     },
     "outputs": [
      {
       "html": [
        "<div style=\"max-height:1000px;max-width:1500px;overflow:auto;\">\n",
        "<table border=\"1\" class=\"dataframe\">\n",
        "  <thead>\n",
        "    <tr style=\"text-align: right;\">\n",
        "      <th></th>\n",
        "      <th>_id</th>\n",
        "      <th>created_at</th>\n",
        "      <th>favorite_count</th>\n",
        "      <th>retweet_count</th>\n",
        "    </tr>\n",
        "  </thead>\n",
        "  <tbody>\n",
        "    <tr>\n",
        "      <th>0</th>\n",
        "      <td> 53531654bcdefe0e658cbf07</td>\n",
        "      <td> Sun Apr 20 00:34:04 +0000 2014</td>\n",
        "      <td> 0</td>\n",
        "      <td>     0</td>\n",
        "    </tr>\n",
        "    <tr>\n",
        "      <th>1</th>\n",
        "      <td> 53531654bcdefe0e658cbf08</td>\n",
        "      <td> Sun Apr 20 00:34:04 +0000 2014</td>\n",
        "      <td> 0</td>\n",
        "      <td> 22327</td>\n",
        "    </tr>\n",
        "    <tr>\n",
        "      <th>2</th>\n",
        "      <td> 53531654bcdefe0e658cbf09</td>\n",
        "      <td> Sun Apr 20 00:34:04 +0000 2014</td>\n",
        "      <td> 0</td>\n",
        "      <td>     0</td>\n",
        "    </tr>\n",
        "    <tr>\n",
        "      <th>3</th>\n",
        "      <td> 53531654bcdefe0e658cbf0a</td>\n",
        "      <td> Sun Apr 20 00:34:04 +0000 2014</td>\n",
        "      <td> 0</td>\n",
        "      <td>     0</td>\n",
        "    </tr>\n",
        "    <tr>\n",
        "      <th>4</th>\n",
        "      <td> 53531654bcdefe0e658cbf0b</td>\n",
        "      <td> Sun Apr 20 00:34:04 +0000 2014</td>\n",
        "      <td> 0</td>\n",
        "      <td>     0</td>\n",
        "    </tr>\n",
        "  </tbody>\n",
        "</table>\n",
        "<p>5 rows \u00d7 4 columns</p>\n",
        "</div>"
       ],
       "metadata": {},
       "output_type": "pyout",
       "prompt_number": 18,
       "text": [
        "                        _id                      created_at  favorite_count  \\\n",
        "0  53531654bcdefe0e658cbf07  Sun Apr 20 00:34:04 +0000 2014               0   \n",
        "1  53531654bcdefe0e658cbf08  Sun Apr 20 00:34:04 +0000 2014               0   \n",
        "2  53531654bcdefe0e658cbf09  Sun Apr 20 00:34:04 +0000 2014               0   \n",
        "3  53531654bcdefe0e658cbf0a  Sun Apr 20 00:34:04 +0000 2014               0   \n",
        "4  53531654bcdefe0e658cbf0b  Sun Apr 20 00:34:04 +0000 2014               0   \n",
        "\n",
        "   retweet_count  \n",
        "0              0  \n",
        "1          22327  \n",
        "2              0  \n",
        "3              0  \n",
        "4              0  \n",
        "\n",
        "[5 rows x 4 columns]"
       ]
      }
     ],
     "prompt_number": 18
    },
    {
     "cell_type": "markdown",
     "metadata": {
      "slideshow": {
       "slide_type": "slide"
      }
     },
     "source": [
      "`.describe()` is a useful method to get the gist of our data."
     ]
    },
    {
     "cell_type": "code",
     "collapsed": false,
     "input": [
      "retweet_favorites.describe()"
     ],
     "language": "python",
     "metadata": {
      "slideshow": {
       "slide_type": "-"
      }
     },
     "outputs": [
      {
       "html": [
        "<div style=\"max-height:1000px;max-width:1500px;overflow:auto;\">\n",
        "<table border=\"1\" class=\"dataframe\">\n",
        "  <thead>\n",
        "    <tr style=\"text-align: right;\">\n",
        "      <th></th>\n",
        "      <th>favorite_count</th>\n",
        "      <th>retweet_count</th>\n",
        "    </tr>\n",
        "  </thead>\n",
        "  <tbody>\n",
        "    <tr>\n",
        "      <th>count</th>\n",
        "      <td> 400.0000</td>\n",
        "      <td>   400.000000</td>\n",
        "    </tr>\n",
        "    <tr>\n",
        "      <th>mean</th>\n",
        "      <td>   0.0150</td>\n",
        "      <td>   125.025000</td>\n",
        "    </tr>\n",
        "    <tr>\n",
        "      <th>std</th>\n",
        "      <td>   0.1408</td>\n",
        "      <td>  1578.105185</td>\n",
        "    </tr>\n",
        "    <tr>\n",
        "      <th>min</th>\n",
        "      <td>   0.0000</td>\n",
        "      <td>     0.000000</td>\n",
        "    </tr>\n",
        "    <tr>\n",
        "      <th>25%</th>\n",
        "      <td>   0.0000</td>\n",
        "      <td>     0.000000</td>\n",
        "    </tr>\n",
        "    <tr>\n",
        "      <th>50%</th>\n",
        "      <td>   0.0000</td>\n",
        "      <td>     0.000000</td>\n",
        "    </tr>\n",
        "    <tr>\n",
        "      <th>75%</th>\n",
        "      <td>   0.0000</td>\n",
        "      <td>     1.000000</td>\n",
        "    </tr>\n",
        "    <tr>\n",
        "      <th>max</th>\n",
        "      <td>   2.0000</td>\n",
        "      <td> 22327.000000</td>\n",
        "    </tr>\n",
        "  </tbody>\n",
        "</table>\n",
        "<p>8 rows \u00d7 2 columns</p>\n",
        "</div>"
       ],
       "metadata": {},
       "output_type": "pyout",
       "prompt_number": 19,
       "text": [
        "       favorite_count  retweet_count\n",
        "count        400.0000     400.000000\n",
        "mean           0.0150     125.025000\n",
        "std            0.1408    1578.105185\n",
        "min            0.0000       0.000000\n",
        "25%            0.0000       0.000000\n",
        "50%            0.0000       0.000000\n",
        "75%            0.0000       1.000000\n",
        "max            2.0000   22327.000000\n",
        "\n",
        "[8 rows x 2 columns]"
       ]
      }
     ],
     "prompt_number": 19
    },
    {
     "cell_type": "markdown",
     "metadata": {
      "slideshow": {
       "slide_type": "subslide"
      }
     },
     "source": [
      "However, when applied to a DataFrame, it only describes numeric columns."
     ]
    },
    {
     "cell_type": "code",
     "collapsed": false,
     "input": [
      "retweet_favorites.dtypes"
     ],
     "language": "python",
     "metadata": {
      "slideshow": {
       "slide_type": "-"
      }
     },
     "outputs": [
      {
       "metadata": {},
       "output_type": "pyout",
       "prompt_number": 20,
       "text": [
        "_id               object\n",
        "created_at        object\n",
        "favorite_count     int64\n",
        "retweet_count      int64\n",
        "dtype: object"
       ]
      }
     ],
     "prompt_number": 20
    },
    {
     "cell_type": "markdown",
     "metadata": {
      "slideshow": {
       "slide_type": "subslide"
      }
     },
     "source": [
      "`.describe()` can be called on individual columns (i.e. `Series`), even if they are not numeric."
     ]
    },
    {
     "cell_type": "code",
     "collapsed": false,
     "input": [
      "retweet_favorites.created_at.describe()"
     ],
     "language": "python",
     "metadata": {
      "slideshow": {
       "slide_type": "-"
      }
     },
     "outputs": [
      {
       "metadata": {},
       "output_type": "pyout",
       "prompt_number": 21,
       "text": [
        "count                                400\n",
        "unique                               117\n",
        "top       Sun Apr 20 00:33:55 +0000 2014\n",
        "freq                                  16\n",
        "Name: created_at, dtype: object"
       ]
      }
     ],
     "prompt_number": 21
    },
    {
     "cell_type": "markdown",
     "metadata": {
      "slideshow": {
       "slide_type": "fragment"
      }
     },
     "source": [
      "However, in this case `created_at` is being treated as a string, which is not very helpful. We can fix that with `pandas.to_datetime`:"
     ]
    },
    {
     "cell_type": "code",
     "collapsed": false,
     "input": [
      "retweet_favorites.created_at.map(pd.to_datetime).describe()"
     ],
     "language": "python",
     "metadata": {
      "slideshow": {
       "slide_type": "fragment"
      }
     },
     "outputs": [
      {
       "metadata": {},
       "output_type": "pyout",
       "prompt_number": 22,
       "text": [
        "count                     400\n",
        "unique                    117\n",
        "first     2014-04-20 00:33:45\n",
        "last      2014-04-20 02:16:53\n",
        "top       2014-04-20 00:33:55\n",
        "freq                       16\n",
        "Name: created_at, dtype: object"
       ]
      }
     ],
     "prompt_number": 22
    },
    {
     "cell_type": "markdown",
     "metadata": {
      "slideshow": {
       "slide_type": "notes"
      }
     },
     "source": [
      "Not all that interesting though, since all of these tweets were collected within a couple seconds of each other."
     ]
    },
    {
     "cell_type": "markdown",
     "metadata": {
      "slideshow": {
       "slide_type": "slide"
      }
     },
     "source": [
      "Mongo allows us to access subfields directly."
     ]
    },
    {
     "cell_type": "code",
     "collapsed": false,
     "input": [
      "mentions_followers = list(db.tweets.find(fields=['entities.user_mentions', 'user.followers_count']))\n",
      "pd.DataFrame(mentions_followers).head()"
     ],
     "language": "python",
     "metadata": {
      "slideshow": {
       "slide_type": "-"
      }
     },
     "outputs": [
      {
       "html": [
        "<div style=\"max-height:1000px;max-width:1500px;overflow:auto;\">\n",
        "<table border=\"1\" class=\"dataframe\">\n",
        "  <thead>\n",
        "    <tr style=\"text-align: right;\">\n",
        "      <th></th>\n",
        "      <th>_id</th>\n",
        "      <th>entities</th>\n",
        "      <th>user</th>\n",
        "    </tr>\n",
        "  </thead>\n",
        "  <tbody>\n",
        "    <tr>\n",
        "      <th>0</th>\n",
        "      <td> 53531654bcdefe0e658cbf07</td>\n",
        "      <td> {u'user_mentions': [{u'indices': [0, 10], u'sc...</td>\n",
        "      <td>  {u'followers_count': 61}</td>\n",
        "    </tr>\n",
        "    <tr>\n",
        "      <th>1</th>\n",
        "      <td> 53531654bcdefe0e658cbf08</td>\n",
        "      <td> {u'user_mentions': [{u'indices': [3, 13], u'sc...</td>\n",
        "      <td> {u'followers_count': 635}</td>\n",
        "    </tr>\n",
        "    <tr>\n",
        "      <th>2</th>\n",
        "      <td> 53531654bcdefe0e658cbf09</td>\n",
        "      <td> {u'user_mentions': [{u'indices': [0, 10], u'sc...</td>\n",
        "      <td>  {u'followers_count': 32}</td>\n",
        "    </tr>\n",
        "    <tr>\n",
        "      <th>3</th>\n",
        "      <td> 53531654bcdefe0e658cbf0a</td>\n",
        "      <td> {u'user_mentions': [{u'indices': [0, 10], u'sc...</td>\n",
        "      <td>  {u'followers_count': 14}</td>\n",
        "    </tr>\n",
        "    <tr>\n",
        "      <th>4</th>\n",
        "      <td> 53531654bcdefe0e658cbf0b</td>\n",
        "      <td>                            {u'user_mentions': []}</td>\n",
        "      <td>  {u'followers_count': 18}</td>\n",
        "    </tr>\n",
        "  </tbody>\n",
        "</table>\n",
        "<p>5 rows \u00d7 3 columns</p>\n",
        "</div>"
       ],
       "metadata": {},
       "output_type": "pyout",
       "prompt_number": 23,
       "text": [
        "                        _id  \\\n",
        "0  53531654bcdefe0e658cbf07   \n",
        "1  53531654bcdefe0e658cbf08   \n",
        "2  53531654bcdefe0e658cbf09   \n",
        "3  53531654bcdefe0e658cbf0a   \n",
        "4  53531654bcdefe0e658cbf0b   \n",
        "\n",
        "                                            entities  \\\n",
        "0  {u'user_mentions': [{u'indices': [0, 10], u'sc...   \n",
        "1  {u'user_mentions': [{u'indices': [3, 13], u'sc...   \n",
        "2  {u'user_mentions': [{u'indices': [0, 10], u'sc...   \n",
        "3  {u'user_mentions': [{u'indices': [0, 10], u'sc...   \n",
        "4                             {u'user_mentions': []}   \n",
        "\n",
        "                        user  \n",
        "0   {u'followers_count': 61}  \n",
        "1  {u'followers_count': 635}  \n",
        "2   {u'followers_count': 32}  \n",
        "3   {u'followers_count': 14}  \n",
        "4   {u'followers_count': 18}  \n",
        "\n",
        "[5 rows x 3 columns]"
       ]
      }
     ],
     "prompt_number": 23
    },
    {
     "cell_type": "markdown",
     "metadata": {
      "slideshow": {
       "slide_type": "subslide"
      }
     },
     "source": [
      "Pandas doesn't know how to parse the sub-documents however, so we must tell it explicitly:"
     ]
    },
    {
     "cell_type": "code",
     "collapsed": false,
     "input": [
      "mentions_followers_df = pd.DataFrame({'user_mentions': len(tweet['entities']['user_mentions']), \n",
      "              'followers_count': tweet['user'].get('followers_count')} for tweet in mentions_followers)\n",
      "mentions_followers_df.head()"
     ],
     "language": "python",
     "metadata": {
      "slideshow": {
       "slide_type": "-"
      }
     },
     "outputs": [
      {
       "html": [
        "<div style=\"max-height:1000px;max-width:1500px;overflow:auto;\">\n",
        "<table border=\"1\" class=\"dataframe\">\n",
        "  <thead>\n",
        "    <tr style=\"text-align: right;\">\n",
        "      <th></th>\n",
        "      <th>followers_count</th>\n",
        "      <th>user_mentions</th>\n",
        "    </tr>\n",
        "  </thead>\n",
        "  <tbody>\n",
        "    <tr>\n",
        "      <th>0</th>\n",
        "      <td>  61</td>\n",
        "      <td> 1</td>\n",
        "    </tr>\n",
        "    <tr>\n",
        "      <th>1</th>\n",
        "      <td> 635</td>\n",
        "      <td> 1</td>\n",
        "    </tr>\n",
        "    <tr>\n",
        "      <th>2</th>\n",
        "      <td>  32</td>\n",
        "      <td> 1</td>\n",
        "    </tr>\n",
        "    <tr>\n",
        "      <th>3</th>\n",
        "      <td>  14</td>\n",
        "      <td> 1</td>\n",
        "    </tr>\n",
        "    <tr>\n",
        "      <th>4</th>\n",
        "      <td>  18</td>\n",
        "      <td> 0</td>\n",
        "    </tr>\n",
        "  </tbody>\n",
        "</table>\n",
        "<p>5 rows \u00d7 2 columns</p>\n",
        "</div>"
       ],
       "metadata": {},
       "output_type": "pyout",
       "prompt_number": 24,
       "text": [
        "   followers_count  user_mentions\n",
        "0               61              1\n",
        "1              635              1\n",
        "2               32              1\n",
        "3               14              1\n",
        "4               18              0\n",
        "\n",
        "[5 rows x 2 columns]"
       ]
      }
     ],
     "prompt_number": 24
    },
    {
     "cell_type": "markdown",
     "metadata": {
      "slideshow": {
       "slide_type": "slide"
      }
     },
     "source": [
      "Perhaps `user_mentions` and `followers_count` are correlated?"
     ]
    },
    {
     "cell_type": "code",
     "collapsed": false,
     "input": [
      "plt.scatter(mentions_followers_df.user_mentions, mentions_followers_df.followers_count)\n",
      "mentions_followers_df.corr()"
     ],
     "language": "python",
     "metadata": {
      "slideshow": {
       "slide_type": "-"
      }
     },
     "outputs": [
      {
       "html": [
        "<div style=\"max-height:1000px;max-width:1500px;overflow:auto;\">\n",
        "<table border=\"1\" class=\"dataframe\">\n",
        "  <thead>\n",
        "    <tr style=\"text-align: right;\">\n",
        "      <th></th>\n",
        "      <th>followers_count</th>\n",
        "      <th>user_mentions</th>\n",
        "    </tr>\n",
        "  </thead>\n",
        "  <tbody>\n",
        "    <tr>\n",
        "      <th>followers_count</th>\n",
        "      <td> 1.000000</td>\n",
        "      <td>-0.065969</td>\n",
        "    </tr>\n",
        "    <tr>\n",
        "      <th>user_mentions</th>\n",
        "      <td>-0.065969</td>\n",
        "      <td> 1.000000</td>\n",
        "    </tr>\n",
        "  </tbody>\n",
        "</table>\n",
        "<p>2 rows \u00d7 2 columns</p>\n",
        "</div>"
       ],
       "metadata": {},
       "output_type": "pyout",
       "prompt_number": 25,
       "text": [
        "                 followers_count  user_mentions\n",
        "followers_count         1.000000      -0.065969\n",
        "user_mentions          -0.065969       1.000000\n",
        "\n",
        "[2 rows x 2 columns]"
       ]
      },
      {
       "metadata": {},
       "output_type": "display_data",
       "png": "[encoded data removed]",
       "text": [
        "<matplotlib.figure.Figure at 0x108878cd0>"
       ]
      }
     ],
     "prompt_number": 25
    },
    {
     "cell_type": "markdown",
     "metadata": {
      "slideshow": {
       "slide_type": "fragment"
      }
     },
     "source": [
      "Perhaps not."
     ]
    },
    {
     "cell_type": "markdown",
     "metadata": {
      "slideshow": {
       "slide_type": "slide"
      }
     },
     "source": [
      "Lab\n",
      "============\n",
      "1-2 Pairs\n",
      "------------"
     ]
    },
    {
     "cell_type": "markdown",
     "metadata": {
      "slideshow": {
       "slide_type": "notes"
      }
     },
     "source": [
      "Raise two fingers if you understand the material well.  \n",
      "Raise one finger if you understand this material OK.  \n",
      "Now, 1 find a 2 and sit next to them. While you work through this exercise, only 1's can type."
     ]
    },
    {
     "cell_type": "markdown",
     "metadata": {
      "slideshow": {
       "slide_type": "fragment"
      }
     },
     "source": [
      "The [Yahoo! Where On Earth ID](https://developer.yahoo.com/geo/geoplanet/) of Canada is 23424775.  \n",
      "Use it to find Twitter trends in Canada and compare it to US trends. What's the difference between them?  \n",
      "\n",
      "- Insert the last 100 tweets for all Canada-only trends into a `canada` collection.  \n",
      "- Insert the last 100 tweets for all US-only trends into a `us` collections.  \n",
      "- For this (small and not very representative) sample, which users have the highest `follower_count`?"
     ]
    },
    {
     "cell_type": "markdown",
     "metadata": {
      "slideshow": {
       "slide_type": "fragment"
      }
     },
     "source": [
      "Individually:\n",
      "------------\n",
      "Find tweets where `'retweet_count': {\"$gt\": 0}`.  \n",
      "What is their `count`?  \n",
      "Is there anything about them that stands out as retweetable?"
     ]
    },
    {
     "cell_type": "markdown",
     "metadata": {
      "slideshow": {
       "slide_type": "notes"
      }
     },
     "source": [
      "Further exercises:  \n",
      "\n",
      "* Twitter - _Mining-the-Social-Web-2nd-Edition_: [Chapter 1 - Mining Twitter](http://nbviewer.ipython.org/github/ptwobrussell/Mining-the-Social-Web-2nd-Edition/blob/master/ipynb/__Chapter%201%20-%20Mining%20Twitter%20%28Full-Text%20Sampler%29.ipynb)\n",
      "* Mongo - [Aggregation Framework](http://docs.mongodb.org/manual/aggregation/)"
     ]
    },
    {
     "cell_type": "markdown",
     "metadata": {
      "slideshow": {
       "slide_type": "slide"
      }
     },
     "source": [
      "Next week:\n",
      "==============\n",
      "Exploring Data\n",
      "--------------"
     ]
    }
   ],
   "metadata": {}
  }
 ]
}