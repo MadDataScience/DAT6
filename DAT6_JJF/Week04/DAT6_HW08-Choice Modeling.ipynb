{
 "metadata": {
  "name": "",
  "signature": "sha256:98b6f3d1c02d7a3b01ce38b5dab84d2f1605c13e05e2c3749a6e84eff38f4eea"
 },
 "nbformat": 3,
 "nbformat_minor": 0,
 "worksheets": [
  {
   "cells": [
    {
     "cell_type": "markdown",
     "metadata": {},
     "source": [
      "**___**\n",
      "## NOTE TO TA/GRADER:\n",
      "I realize I didn't take out the in-class portion here, but I missed class and would appreciate a once over.\n",
      "Thanks\n",
      "~JF\n",
      "**___**"
     ]
    },
    {
     "cell_type": "markdown",
     "metadata": {},
     "source": [
      "#Lab - Choice Modeling\n",
      "Handy Stats References:\n",
      "- http://logisticregressionanalysis.com/\n",
      "- http://blog.yhathq.com/posts/logistic-regression-and-python.html\n",
      "- http://www.ats.ucla.edu/stat/mult_pkg/faq/general/odds_ratio.htm"
     ]
    },
    {
     "cell_type": "heading",
     "level": 5,
     "metadata": {},
     "source": [
      "Data - Grocery type of data about Milk Consumption "
     ]
    },
    {
     "cell_type": "heading",
     "level": 6,
     "metadata": {},
     "source": [
      "Variables:"
     ]
    },
    {
     "cell_type": "heading",
     "level": 6,
     "metadata": {},
     "source": [
      "id - unique number for each consumer, 500 observations "
     ]
    },
    {
     "cell_type": "heading",
     "level": 6,
     "metadata": {},
     "source": [
      "product - binary variable (1,0); if product ==1 : consumer bought 2% milk, otherwise : fat-milk"
     ]
    },
    {
     "cell_type": "heading",
     "level": 6,
     "metadata": {},
     "source": [
      "full_price - full price before promotion (if any)"
     ]
    },
    {
     "cell_type": "heading",
     "level": 6,
     "metadata": {},
     "source": [
      "full_pri - the price after the discount/promotion "
     ]
    },
    {
     "cell_type": "heading",
     "level": 6,
     "metadata": {},
     "source": [
      "disc_price - totall amount of discount"
     ]
    },
    {
     "cell_type": "heading",
     "level": 6,
     "metadata": {},
     "source": [
      "bundel - if consumers buy the products as a bundel (2 per 6, 1 per 3)"
     ]
    },
    {
     "cell_type": "heading",
     "level": 6,
     "metadata": {},
     "source": [
      "time_day : 1== morning (until noon), otherwise: after noon-close"
     ]
    },
    {
     "cell_type": "heading",
     "level": 6,
     "metadata": {},
     "source": [
      "repeated? - if consumer i is a repated buyer in the store"
     ]
    },
    {
     "cell_type": "heading",
     "level": 6,
     "metadata": {},
     "source": [
      "repeated_bundel? - if consumer already buy the product as a bundel before"
     ]
    },
    {
     "cell_type": "heading",
     "level": 2,
     "metadata": {},
     "source": [
      "Pull the data"
     ]
    },
    {
     "cell_type": "code",
     "collapsed": false,
     "input": [
      "%matplotlib inline\n",
      "import pandas as pd\n",
      "import statsmodels.api as sm\n",
      "import statsmodels.formula.api as smf\n",
      "import numpy as np\n",
      "from math import exp"
     ],
     "language": "python",
     "metadata": {},
     "outputs": [],
     "prompt_number": 1
    },
    {
     "cell_type": "code",
     "collapsed": false,
     "input": [
      "mdata = pd.read_csv('../../DAT6/data/milkdata.csv')\n",
      "mdata.head(3)"
     ],
     "language": "python",
     "metadata": {},
     "outputs": [
      {
       "html": [
        "<div style=\"max-height:1000px;max-width:1500px;overflow:auto;\">\n",
        "<table border=\"1\" class=\"dataframe\">\n",
        "  <thead>\n",
        "    <tr style=\"text-align: right;\">\n",
        "      <th></th>\n",
        "      <th>id</th>\n",
        "      <th>product</th>\n",
        "      <th>full_price</th>\n",
        "      <th>full_pri</th>\n",
        "      <th>promo</th>\n",
        "      <th>disc_price</th>\n",
        "      <th>bundle</th>\n",
        "      <th>time_day</th>\n",
        "      <th>repeated?</th>\n",
        "      <th>repeated_bundle?</th>\n",
        "    </tr>\n",
        "  </thead>\n",
        "  <tbody>\n",
        "    <tr>\n",
        "      <th>0</th>\n",
        "      <td> 1</td>\n",
        "      <td> 1</td>\n",
        "      <td> 2</td>\n",
        "      <td> 1.58</td>\n",
        "      <td> 1</td>\n",
        "      <td> 0.42</td>\n",
        "      <td> 1</td>\n",
        "      <td> 1</td>\n",
        "      <td> 1</td>\n",
        "      <td> 1</td>\n",
        "    </tr>\n",
        "    <tr>\n",
        "      <th>1</th>\n",
        "      <td> 2</td>\n",
        "      <td> 1</td>\n",
        "      <td> 2</td>\n",
        "      <td> 1.15</td>\n",
        "      <td> 1</td>\n",
        "      <td> 0.85</td>\n",
        "      <td> 1</td>\n",
        "      <td> 1</td>\n",
        "      <td> 0</td>\n",
        "      <td> 1</td>\n",
        "    </tr>\n",
        "    <tr>\n",
        "      <th>2</th>\n",
        "      <td> 3</td>\n",
        "      <td> 1</td>\n",
        "      <td> 3</td>\n",
        "      <td> 2.25</td>\n",
        "      <td> 1</td>\n",
        "      <td> 0.75</td>\n",
        "      <td> 0</td>\n",
        "      <td> 1</td>\n",
        "      <td> 1</td>\n",
        "      <td> 1</td>\n",
        "    </tr>\n",
        "  </tbody>\n",
        "</table>\n",
        "<p>3 rows \u00d7 10 columns</p>\n",
        "</div>"
       ],
       "metadata": {},
       "output_type": "pyout",
       "prompt_number": 2,
       "text": [
        "   id  product  full_price  full_pri  promo  disc_price  bundle  time_day  \\\n",
        "0   1        1           2      1.58      1        0.42       1         1   \n",
        "1   2        1           2      1.15      1        0.85       1         1   \n",
        "2   3        1           3      2.25      1        0.75       0         1   \n",
        "\n",
        "   repeated?  repeated_bundle?  \n",
        "0          1                 1  \n",
        "1          0                 1  \n",
        "2          1                 1  \n",
        "\n",
        "[3 rows x 10 columns]"
       ]
      }
     ],
     "prompt_number": 2
    },
    {
     "cell_type": "heading",
     "level": 2,
     "metadata": {},
     "source": [
      "summary statistics (all variables)"
     ]
    },
    {
     "cell_type": "code",
     "collapsed": false,
     "input": [
      "mdata.describe()"
     ],
     "language": "python",
     "metadata": {},
     "outputs": [
      {
       "html": [
        "<div style=\"max-height:1000px;max-width:1500px;overflow:auto;\">\n",
        "<table border=\"1\" class=\"dataframe\">\n",
        "  <thead>\n",
        "    <tr style=\"text-align: right;\">\n",
        "      <th></th>\n",
        "      <th>id</th>\n",
        "      <th>product</th>\n",
        "      <th>full_price</th>\n",
        "      <th>full_pri</th>\n",
        "      <th>promo</th>\n",
        "      <th>disc_price</th>\n",
        "      <th>bundle</th>\n",
        "      <th>time_day</th>\n",
        "      <th>repeated?</th>\n",
        "      <th>repeated_bundle?</th>\n",
        "    </tr>\n",
        "  </thead>\n",
        "  <tbody>\n",
        "    <tr>\n",
        "      <th>count</th>\n",
        "      <td> 500.000000</td>\n",
        "      <td> 500.000000</td>\n",
        "      <td> 500.000000</td>\n",
        "      <td> 500.000000</td>\n",
        "      <td> 500.000000</td>\n",
        "      <td> 500.000000</td>\n",
        "      <td> 500.000000</td>\n",
        "      <td> 500.000000</td>\n",
        "      <td> 500.00000</td>\n",
        "      <td> 500.000000</td>\n",
        "    </tr>\n",
        "    <tr>\n",
        "      <th>mean</th>\n",
        "      <td> 250.500000</td>\n",
        "      <td>   0.656000</td>\n",
        "      <td>   2.490000</td>\n",
        "      <td>   2.022760</td>\n",
        "      <td>   0.582000</td>\n",
        "      <td>   0.554360</td>\n",
        "      <td>   0.622000</td>\n",
        "      <td>   0.704000</td>\n",
        "      <td>   0.77600</td>\n",
        "      <td>   0.748000</td>\n",
        "    </tr>\n",
        "    <tr>\n",
        "      <th>std</th>\n",
        "      <td> 144.481833</td>\n",
        "      <td>   0.475517</td>\n",
        "      <td>   0.500401</td>\n",
        "      <td>   0.513379</td>\n",
        "      <td>   0.493724</td>\n",
        "      <td>   0.562047</td>\n",
        "      <td>   0.485373</td>\n",
        "      <td>   0.456948</td>\n",
        "      <td>   0.41734</td>\n",
        "      <td>   0.434596</td>\n",
        "    </tr>\n",
        "    <tr>\n",
        "      <th>min</th>\n",
        "      <td>   1.000000</td>\n",
        "      <td>   0.000000</td>\n",
        "      <td>   2.000000</td>\n",
        "      <td>   1.000000</td>\n",
        "      <td>   0.000000</td>\n",
        "      <td>  -1.000000</td>\n",
        "      <td>   0.000000</td>\n",
        "      <td>   0.000000</td>\n",
        "      <td>   0.00000</td>\n",
        "      <td>   0.000000</td>\n",
        "    </tr>\n",
        "    <tr>\n",
        "      <th>25%</th>\n",
        "      <td> 125.750000</td>\n",
        "      <td>   0.000000</td>\n",
        "      <td>   2.000000</td>\n",
        "      <td>   1.630000</td>\n",
        "      <td>   0.000000</td>\n",
        "      <td>   0.000000</td>\n",
        "      <td>   0.000000</td>\n",
        "      <td>   0.000000</td>\n",
        "      <td>   1.00000</td>\n",
        "      <td>   0.000000</td>\n",
        "    </tr>\n",
        "    <tr>\n",
        "      <th>50%</th>\n",
        "      <td> 250.500000</td>\n",
        "      <td>   1.000000</td>\n",
        "      <td>   2.000000</td>\n",
        "      <td>   2.000000</td>\n",
        "      <td>   1.000000</td>\n",
        "      <td>   0.480000</td>\n",
        "      <td>   1.000000</td>\n",
        "      <td>   1.000000</td>\n",
        "      <td>   1.00000</td>\n",
        "      <td>   1.000000</td>\n",
        "    </tr>\n",
        "    <tr>\n",
        "      <th>75%</th>\n",
        "      <td> 375.250000</td>\n",
        "      <td>   1.000000</td>\n",
        "      <td>   3.000000</td>\n",
        "      <td>   2.400000</td>\n",
        "      <td>   1.000000</td>\n",
        "      <td>   1.000000</td>\n",
        "      <td>   1.000000</td>\n",
        "      <td>   1.000000</td>\n",
        "      <td>   1.00000</td>\n",
        "      <td>   1.000000</td>\n",
        "    </tr>\n",
        "    <tr>\n",
        "      <th>max</th>\n",
        "      <td> 500.000000</td>\n",
        "      <td>   1.000000</td>\n",
        "      <td>   3.000000</td>\n",
        "      <td>   3.000000</td>\n",
        "      <td>   1.000000</td>\n",
        "      <td>   2.000000</td>\n",
        "      <td>   1.000000</td>\n",
        "      <td>   1.000000</td>\n",
        "      <td>   1.00000</td>\n",
        "      <td>   1.000000</td>\n",
        "    </tr>\n",
        "  </tbody>\n",
        "</table>\n",
        "<p>8 rows \u00d7 10 columns</p>\n",
        "</div>"
       ],
       "metadata": {},
       "output_type": "pyout",
       "prompt_number": 3,
       "text": [
        "               id     product  full_price    full_pri       promo  disc_price  \\\n",
        "count  500.000000  500.000000  500.000000  500.000000  500.000000  500.000000   \n",
        "mean   250.500000    0.656000    2.490000    2.022760    0.582000    0.554360   \n",
        "std    144.481833    0.475517    0.500401    0.513379    0.493724    0.562047   \n",
        "min      1.000000    0.000000    2.000000    1.000000    0.000000   -1.000000   \n",
        "25%    125.750000    0.000000    2.000000    1.630000    0.000000    0.000000   \n",
        "50%    250.500000    1.000000    2.000000    2.000000    1.000000    0.480000   \n",
        "75%    375.250000    1.000000    3.000000    2.400000    1.000000    1.000000   \n",
        "max    500.000000    1.000000    3.000000    3.000000    1.000000    2.000000   \n",
        "\n",
        "           bundle    time_day  repeated?  repeated_bundle?  \n",
        "count  500.000000  500.000000  500.00000        500.000000  \n",
        "mean     0.622000    0.704000    0.77600          0.748000  \n",
        "std      0.485373    0.456948    0.41734          0.434596  \n",
        "min      0.000000    0.000000    0.00000          0.000000  \n",
        "25%      0.000000    0.000000    1.00000          0.000000  \n",
        "50%      1.000000    1.000000    1.00000          1.000000  \n",
        "75%      1.000000    1.000000    1.00000          1.000000  \n",
        "max      1.000000    1.000000    1.00000          1.000000  \n",
        "\n",
        "[8 rows x 10 columns]"
       ]
      }
     ],
     "prompt_number": 3
    },
    {
     "cell_type": "heading",
     "level": 2,
     "metadata": {},
     "source": [
      "plot the distribution (or  density) of full_pri (price after promotion)"
     ]
    },
    {
     "cell_type": "code",
     "collapsed": false,
     "input": [
      "mdata['full_pri'].hist()"
     ],
     "language": "python",
     "metadata": {},
     "outputs": [
      {
       "metadata": {},
       "output_type": "pyout",
       "prompt_number": 4,
       "text": [
        "<matplotlib.axes.AxesSubplot at 0xca53240>"
       ]
      },
      {
       "metadata": {},
       "output_type": "display_data",
       "png": "[encoded data removed]",
       "text": [
        "<matplotlib.figure.Figure at 0xcabd550>"
       ]
      }
     ],
     "prompt_number": 4
    },
    {
     "cell_type": "heading",
     "level": 2,
     "metadata": {},
     "source": [
      "plot the distribution of promo (total promotion)\n"
     ]
    },
    {
     "cell_type": "code",
     "collapsed": false,
     "input": [
      "mdata['disc_price'].hist()"
     ],
     "language": "python",
     "metadata": {},
     "outputs": [
      {
       "metadata": {},
       "output_type": "pyout",
       "prompt_number": 5,
       "text": [
        "<matplotlib.axes.AxesSubplot at 0xcac0780>"
       ]
      },
      {
       "metadata": {},
       "output_type": "display_data",
       "png": "[encoded data removed]",
       "text": [
        "<matplotlib.figure.Figure at 0xcad2e10>"
       ]
      }
     ],
     "prompt_number": 5
    },
    {
     "cell_type": "heading",
     "level": 2,
     "metadata": {},
     "source": [
      "Run a simple logit model where yi = Prob(product i = 1) on all other variables in the data"
     ]
    },
    {
     "cell_type": "code",
     "collapsed": false,
     "input": [
      "mdata['intercept']=1\n",
      "mdata.columns[2:]"
     ],
     "language": "python",
     "metadata": {},
     "outputs": [
      {
       "metadata": {},
       "output_type": "pyout",
       "prompt_number": 6,
       "text": [
        "Index([u'full_price', u'full_pri', u'promo', u'disc_price', u'bundle', u'time_day', u'repeated?', u'repeated_bundle?', u'intercept'], dtype='object')"
       ]
      }
     ],
     "prompt_number": 6
    },
    {
     "cell_type": "code",
     "collapsed": false,
     "input": [
      "# lets get rid of those pesky question marks\n",
      "mdata = mdata.rename(columns={'repeated?': 'repeated', 'repeated_bundle?': 'repeated_bundle'})"
     ],
     "language": "python",
     "metadata": {},
     "outputs": [],
     "prompt_number": 7
    },
    {
     "cell_type": "code",
     "collapsed": false,
     "input": [
      "train_cols = mdata.columns[2:]\n",
      "train_cols"
     ],
     "language": "python",
     "metadata": {},
     "outputs": [
      {
       "metadata": {},
       "output_type": "pyout",
       "prompt_number": 8,
       "text": [
        "Index([u'full_price', u'full_pri', u'promo', u'disc_price', u'bundle', u'time_day', u'repeated', u'repeated_bundle', u'intercept'], dtype='object')"
       ]
      }
     ],
     "prompt_number": 8
    },
    {
     "cell_type": "code",
     "collapsed": false,
     "input": [
      "logit = sm.Logit(mdata[\"product\"], mdata[train_cols])"
     ],
     "language": "python",
     "metadata": {},
     "outputs": [],
     "prompt_number": 9
    },
    {
     "cell_type": "code",
     "collapsed": false,
     "input": [
      "logit.fit?"
     ],
     "language": "python",
     "metadata": {},
     "outputs": [],
     "prompt_number": 10
    },
    {
     "cell_type": "code",
     "collapsed": false,
     "input": [
      "results=logit.fit()\n",
      "results.summary()"
     ],
     "language": "python",
     "metadata": {},
     "outputs": [
      {
       "output_type": "stream",
       "stream": "stdout",
       "text": [
        "Optimization terminated successfully.\n",
        "         Current function value: 0.581433\n",
        "         Iterations 5\n"
       ]
      },
      {
       "html": [
        "<table class=\"simpletable\">\n",
        "<caption>Logit Regression Results</caption>\n",
        "<tr>\n",
        "  <th>Dep. Variable:</th>      <td>product</td>     <th>  No. Observations:  </th>  <td>   500</td>  \n",
        "</tr>\n",
        "<tr>\n",
        "  <th>Model:</th>               <td>Logit</td>      <th>  Df Residuals:      </th>  <td>   491</td>  \n",
        "</tr>\n",
        "<tr>\n",
        "  <th>Method:</th>               <td>MLE</td>       <th>  Df Model:          </th>  <td>     8</td>  \n",
        "</tr>\n",
        "<tr>\n",
        "  <th>Date:</th>          <td>Wed, 14 May 2014</td> <th>  Pseudo R-squ.:     </th>  <td>0.09667</td> \n",
        "</tr>\n",
        "<tr>\n",
        "  <th>Time:</th>              <td>17:48:02</td>     <th>  Log-Likelihood:    </th> <td> -290.72</td> \n",
        "</tr>\n",
        "<tr>\n",
        "  <th>converged:</th>           <td>True</td>       <th>  LL-Null:           </th> <td> -321.83</td> \n",
        "</tr>\n",
        "<tr>\n",
        "  <th> </th>                      <td> </td>        <th>  LLR p-value:       </th> <td>1.707e-10</td>\n",
        "</tr>\n",
        "</table>\n",
        "<table class=\"simpletable\">\n",
        "<tr>\n",
        "         <td></td>            <th>coef</th>     <th>std err</th>      <th>z</th>      <th>P>|z|</th> <th>[95.0% Conf. Int.]</th> \n",
        "</tr>\n",
        "<tr>\n",
        "  <th>full_price</th>      <td>   -0.8031</td> <td>    0.521</td> <td>   -1.540</td> <td> 0.123</td> <td>   -1.825     0.219</td>\n",
        "</tr>\n",
        "<tr>\n",
        "  <th>full_pri</th>        <td>    0.5510</td> <td>    0.494</td> <td>    1.117</td> <td> 0.264</td> <td>   -0.416     1.518</td>\n",
        "</tr>\n",
        "<tr>\n",
        "  <th>promo</th>           <td>   -0.2663</td> <td>    0.459</td> <td>   -0.580</td> <td> 0.562</td> <td>   -1.166     0.633</td>\n",
        "</tr>\n",
        "<tr>\n",
        "  <th>disc_price</th>      <td>    0.5445</td> <td>    0.568</td> <td>    0.958</td> <td> 0.338</td> <td>   -0.569     1.658</td>\n",
        "</tr>\n",
        "<tr>\n",
        "  <th>bundle</th>          <td>    0.8087</td> <td>    0.273</td> <td>    2.959</td> <td> 0.003</td> <td>    0.273     1.344</td>\n",
        "</tr>\n",
        "<tr>\n",
        "  <th>time_day</th>        <td>    1.4127</td> <td>    0.214</td> <td>    6.588</td> <td> 0.000</td> <td>    0.992     1.833</td>\n",
        "</tr>\n",
        "<tr>\n",
        "  <th>repeated</th>        <td>    0.7193</td> <td>    0.274</td> <td>    2.625</td> <td> 0.009</td> <td>    0.182     1.256</td>\n",
        "</tr>\n",
        "<tr>\n",
        "  <th>repeated_bundle</th> <td>    0.4979</td> <td>    0.415</td> <td>    1.200</td> <td> 0.230</td> <td>   -0.315     1.311</td>\n",
        "</tr>\n",
        "<tr>\n",
        "  <th>intercept</th>       <td>   -0.9701</td> <td>    0.717</td> <td>   -1.352</td> <td> 0.176</td> <td>   -2.376     0.436</td>\n",
        "</tr>\n",
        "</table>"
       ],
       "metadata": {},
       "output_type": "pyout",
       "prompt_number": 11,
       "text": [
        "<class 'statsmodels.iolib.summary.Summary'>\n",
        "\"\"\"\n",
        "                           Logit Regression Results                           \n",
        "==============================================================================\n",
        "Dep. Variable:                product   No. Observations:                  500\n",
        "Model:                          Logit   Df Residuals:                      491\n",
        "Method:                           MLE   Df Model:                            8\n",
        "Date:                Wed, 14 May 2014   Pseudo R-squ.:                 0.09667\n",
        "Time:                        17:48:02   Log-Likelihood:                -290.72\n",
        "converged:                       True   LL-Null:                       -321.83\n",
        "                                        LLR p-value:                 1.707e-10\n",
        "===================================================================================\n",
        "                      coef    std err          z      P>|z|      [95.0% Conf. Int.]\n",
        "-----------------------------------------------------------------------------------\n",
        "full_price         -0.8031      0.521     -1.540      0.123        -1.825     0.219\n",
        "full_pri            0.5510      0.494      1.117      0.264        -0.416     1.518\n",
        "promo              -0.2663      0.459     -0.580      0.562        -1.166     0.633\n",
        "disc_price          0.5445      0.568      0.958      0.338        -0.569     1.658\n",
        "bundle              0.8087      0.273      2.959      0.003         0.273     1.344\n",
        "time_day            1.4127      0.214      6.588      0.000         0.992     1.833\n",
        "repeated            0.7193      0.274      2.625      0.009         0.182     1.256\n",
        "repeated_bundle     0.4979      0.415      1.200      0.230        -0.315     1.311\n",
        "intercept          -0.9701      0.717     -1.352      0.176        -2.376     0.436\n",
        "===================================================================================\n",
        "\"\"\""
       ]
      }
     ],
     "prompt_number": 11
    },
    {
     "cell_type": "heading",
     "level": 3,
     "metadata": {},
     "source": [
      "Questions:"
     ]
    },
    {
     "cell_type": "heading",
     "level": 2,
     "metadata": {},
     "source": [
      "What we are tryng to find?"
     ]
    },
    {
     "cell_type": "heading",
     "level": 3,
     "metadata": {},
     "source": [
      "1. What is the expeced probability that a consumer will buy 2% milk if all other variables are equal to the avegrage (mean) number in the whole sample?"
     ]
    },
    {
     "cell_type": "code",
     "collapsed": false,
     "input": [
      "effects = 0.0\n",
      "for x in mdata.columns[2:-1]:\n",
      "    effects = effects + results.params[x]* mdata[x].mean()\n",
      "print effects    \n",
      "prob_2percent = (exp(results.params.intercept + effects))/(exp(1 + results.params.intercept + effects))\n",
      "prob_2percent\n",
      "\n",
      "# QUESTION - is there a way to use logit.predict() here - docs are sparse..."
     ],
     "language": "python",
     "metadata": {},
     "outputs": [
      {
       "output_type": "stream",
       "stream": "stdout",
       "text": [
        "1.68989056936\n"
       ]
      },
      {
       "metadata": {},
       "output_type": "pyout",
       "prompt_number": 12,
       "text": [
        "0.3678794411714423"
       ]
      }
     ],
     "prompt_number": 12
    },
    {
     "cell_type": "heading",
     "level": 3,
     "metadata": {},
     "source": [
      "2. Which variables are signficant and which are not? (95 percent confident)"
     ]
    },
    {
     "cell_type": "markdown",
     "metadata": {},
     "source": [
      "____\n",
      "- bundle\n",
      "- time_day\n",
      "- repeated?\n",
      "____\n"
     ]
    },
    {
     "cell_type": "heading",
     "level": 3,
     "metadata": {},
     "source": [
      "3. Which variables are consistent with your prior intuition and which are not?"
     ]
    },
    {
     "cell_type": "markdown",
     "metadata": {},
     "source": [
      "____\n",
      "**Are: **\n",
      "- full_price\n",
      "- bundle\n",
      "- time_day\n",
      "- repeated?\n",
      "\n",
      "**Are Not:**\n",
      "- promo\n",
      "____"
     ]
    },
    {
     "cell_type": "heading",
     "level": 3,
     "metadata": {},
     "source": [
      "4. By reading the output from this regression - would you recommend for the Marketing Team to sell milk in bundle? yes? no? explain?"
     ]
    },
    {
     "cell_type": "markdown",
     "metadata": {},
     "source": [
      "___\n",
      "Yes. Bundling milk has a strong (relatively to other x ind vars) positive effect on driving customers to buy it and the likelihood of that effect being jive is very low.\n",
      "___"
     ]
    },
    {
     "cell_type": "heading",
     "level": 2,
     "metadata": {},
     "source": [
      "Interpret the estimated (betas):"
     ]
    },
    {
     "cell_type": "heading",
     "level": 2,
     "metadata": {},
     "source": [
      "Pair Excercise:"
     ]
    },
    {
     "cell_type": "heading",
     "level": 3,
     "metadata": {},
     "source": [
      "1. Run the same model with LPM"
     ]
    },
    {
     "cell_type": "code",
     "collapsed": false,
     "input": [
      "results_ols = smf.ols('product ~ full_price + full_pri + promo + disc_price + bundle + time_day + repeated + repeated_bundle', data=mdata).fit()\n",
      "print results_ols.summary()"
     ],
     "language": "python",
     "metadata": {},
     "outputs": [
      {
       "output_type": "stream",
       "stream": "stdout",
       "text": [
        "                            OLS Regression Results                            \n",
        "==============================================================================\n",
        "Dep. Variable:                product   R-squared:                       0.124\n",
        "Model:                            OLS   Adj. R-squared:                  0.109\n",
        "Method:                 Least Squares   F-statistic:                     8.659\n",
        "Date:                Wed, 14 May 2014   Prob (F-statistic):           4.43e-11\n",
        "Time:                        17:48:03   Log-Likelihood:                -304.30\n",
        "No. Observations:                 500   AIC:                             626.6\n",
        "Df Residuals:                     491   BIC:                             664.5\n",
        "Df Model:                           8                                         \n",
        "===================================================================================\n",
        "                      coef    std err          t      P>|t|      [95.0% Conf. Int.]\n",
        "-----------------------------------------------------------------------------------\n",
        "Intercept           0.2927      0.143      2.042      0.042         0.011     0.574\n",
        "full_price         -0.1570      0.104     -1.515      0.130        -0.361     0.047\n",
        "full_pri            0.1064      0.098      1.085      0.279        -0.086     0.299\n",
        "promo              -0.0601      0.093     -0.648      0.517        -0.242     0.122\n",
        "disc_price          0.1083      0.113      0.960      0.338        -0.113     0.330\n",
        "bundle              0.1631      0.055      2.964      0.003         0.055     0.271\n",
        "time_day            0.3149      0.045      7.074      0.000         0.227     0.402\n",
        "repeated            0.1483      0.056      2.648      0.008         0.038     0.258\n",
        "repeated_bundle     0.1014      0.084      1.205      0.229        -0.064     0.267\n",
        "==============================================================================\n",
        "Omnibus:                      167.154   Durbin-Watson:                   0.588\n",
        "Prob(Omnibus):                  0.000   Jarque-Bera (JB):               53.176\n",
        "Skew:                          -0.595   Prob(JB):                     2.84e-12\n",
        "Kurtosis:                       1.933   Cond. No.                         32.8\n",
        "==============================================================================\n"
       ]
      }
     ],
     "prompt_number": 13
    },
    {
     "cell_type": "heading",
     "level": 3,
     "metadata": {},
     "source": [
      "2. Predict y_hat"
     ]
    },
    {
     "cell_type": "code",
     "collapsed": false,
     "input": [
      "# The hard way...\n",
      "def get_effect(i):\n",
      "    effects_ols = 0.0\n",
      "    for x in mdata.columns[2:-1]:\n",
      "        effects_ols += results_ols.params[x]* mdata.iloc[i][x]\n",
      "    return effects_ols\n",
      "yhat = []\n",
      "for i, r in  mdata.iterrows():\n",
      "    yhat.append(results_ols.params.Intercept + get_effect(i))"
     ],
     "language": "python",
     "metadata": {},
     "outputs": [],
     "prompt_number": 14
    },
    {
     "cell_type": "heading",
     "level": 3,
     "metadata": {},
     "source": [
      "3. Plot the distribution of y_hat, is there a problem?"
     ]
    },
    {
     "cell_type": "code",
     "collapsed": false,
     "input": [
      "pd.Series(yhat).hist()"
     ],
     "language": "python",
     "metadata": {},
     "outputs": [
      {
       "metadata": {},
       "output_type": "pyout",
       "prompt_number": 15,
       "text": [
        "<matplotlib.axes.AxesSubplot at 0x159777f0>"
       ]
      },
      {
       "metadata": {},
       "output_type": "display_data",
       "png": "[encoded data removed]",
       "text": [
        "<matplotlib.figure.Figure at 0xcaeecf8>"
       ]
      }
     ],
     "prompt_number": 15
    },
    {
     "cell_type": "markdown",
     "metadata": {},
     "source": [
      "___\n",
      "Nothing jumps out at me as a problem.  Should I have results > and/or <0?  Maybe adding the err would put some over?\n",
      "___\n"
     ]
    },
    {
     "cell_type": "heading",
     "level": 3,
     "metadata": {},
     "source": [
      "4. Plot the distribution of y_hat from the logit model, is there a problem?"
     ]
    },
    {
     "cell_type": "code",
     "collapsed": false,
     "input": [
      "# the easy way\n",
      "df_toss = pd.DataFrame(results.predict()).hist()"
     ],
     "language": "python",
     "metadata": {},
     "outputs": [
      {
       "ename": "NameError",
       "evalue": "name 'pd' is not defined",
       "output_type": "pyerr",
       "traceback": [
        "\u001b[1;31m---------------------------------------------------------------------------\u001b[0m\n\u001b[1;31mNameError\u001b[0m                                 Traceback (most recent call last)",
        "\u001b[1;32m<ipython-input-1-cc9be4c48168>\u001b[0m in \u001b[0;36m<module>\u001b[1;34m()\u001b[0m\n\u001b[0;32m      1\u001b[0m \u001b[1;31m# the easy way\u001b[0m\u001b[1;33m\u001b[0m\u001b[1;33m\u001b[0m\u001b[0m\n\u001b[1;32m----> 2\u001b[1;33m \u001b[0mdf_toss\u001b[0m \u001b[1;33m=\u001b[0m \u001b[0mpd\u001b[0m\u001b[1;33m.\u001b[0m\u001b[0mDataFrame\u001b[0m\u001b[1;33m(\u001b[0m\u001b[0mresults\u001b[0m\u001b[1;33m.\u001b[0m\u001b[0mpredict\u001b[0m\u001b[1;33m(\u001b[0m\u001b[1;33m)\u001b[0m\u001b[1;33m)\u001b[0m\u001b[1;33m.\u001b[0m\u001b[0mhist\u001b[0m\u001b[1;33m(\u001b[0m\u001b[1;33m)\u001b[0m\u001b[1;33m\u001b[0m\u001b[0m\n\u001b[0m",
        "\u001b[1;31mNameError\u001b[0m: name 'pd' is not defined"
       ]
      }
     ],
     "prompt_number": 1
    },
    {
     "cell_type": "code",
     "collapsed": false,
     "input": [
      " mdata.columns"
     ],
     "language": "python",
     "metadata": {},
     "outputs": [
      {
       "metadata": {},
       "output_type": "pyout",
       "prompt_number": 26,
       "text": [
        "Index([u'id', u'product', u'full_price', u'full_pri', u'promo', u'disc_price', u'bundle', u'time_day', u'repeated', u'repeated_bundle', u'intercept'], dtype='object')"
       ]
      }
     ],
     "prompt_number": 26
    },
    {
     "cell_type": "code",
     "collapsed": false,
     "input": [
      "def get_effect(i):\n",
      "    effects = 0.0\n",
      "    for x in mdata.columns[2:-1]:\n",
      "        effects += results.params[x] * mdata.iloc[i][x]\n",
      "    return effects\n",
      "yhat_logit = []\n",
      "for i, r in  mdata.iterrows():\n",
      "    yhat_logit.append(results.params.intercept + get_effect(i)) \n",
      "#print yhat_logit    \n",
      "pd.Series(yhat_logit).hist()"
     ],
     "language": "python",
     "metadata": {},
     "outputs": [
      {
       "metadata": {},
       "output_type": "pyout",
       "prompt_number": 30,
       "text": [
        "<matplotlib.axes.AxesSubplot at 0x165d92b0>"
       ]
      },
      {
       "metadata": {},
       "output_type": "display_data",
       "png": "[encoded data removed]",
       "text": [
        "<matplotlib.figure.Figure at 0x165d4eb8>"
       ]
      }
     ],
     "prompt_number": 30
    },
    {
     "cell_type": "markdown",
     "metadata": {},
     "source": [
      "___\n",
      "**WTF???** I thought logit bound our results b/t 1 & 0?\n",
      "___\n",
      "\n"
     ]
    },
    {
     "cell_type": "heading",
     "level": 2,
     "metadata": {},
     "source": [
      "Homework: (or if we have time in class)"
     ]
    },
    {
     "cell_type": "heading",
     "level": 3,
     "metadata": {},
     "source": [
      "1. Run the next logit model:"
     ]
    },
    {
     "cell_type": "heading",
     "level": 4,
     "metadata": {},
     "source": [
      "y = bundel (if buyera are buying milk in bundels)\n"
     ]
    },
    {
     "cell_type": "heading",
     "level": 4,
     "metadata": {},
     "source": [
      "x = product, full_price, full_pri, promo, disc_pricem, time_day, repeated"
     ]
    },
    {
     "cell_type": "code",
     "collapsed": false,
     "input": [
      "mdata2 = mdata[['bundle', 'product', 'full_price', 'full_pri', 'promo', 'disc_price', 'time_day', 'repeated']]\n",
      "train_cols2 = mdata2.columns[1:]\n",
      "logit2 = sm.Logit(mdata2['bundle'], mdata2[train_cols2])\n",
      "results2=logit2.fit()\n",
      "results2.summary()"
     ],
     "language": "python",
     "metadata": {},
     "outputs": [
      {
       "output_type": "stream",
       "stream": "stdout",
       "text": [
        "Optimization terminated successfully.\n",
        "         Current function value: 0.640931\n",
        "         Iterations 5\n"
       ]
      },
      {
       "html": [
        "<table class=\"simpletable\">\n",
        "<caption>Logit Regression Results</caption>\n",
        "<tr>\n",
        "  <th>Dep. Variable:</th>      <td>bundle</td>      <th>  No. Observations:  </th>  <td>   500</td> \n",
        "</tr>\n",
        "<tr>\n",
        "  <th>Model:</th>               <td>Logit</td>      <th>  Df Residuals:      </th>  <td>   493</td> \n",
        "</tr>\n",
        "<tr>\n",
        "  <th>Method:</th>               <td>MLE</td>       <th>  Df Model:          </th>  <td>     6</td> \n",
        "</tr>\n",
        "<tr>\n",
        "  <th>Date:</th>          <td>Tue, 13 May 2014</td> <th>  Pseudo R-squ.:     </th>  <td>0.03340</td>\n",
        "</tr>\n",
        "<tr>\n",
        "  <th>Time:</th>              <td>20:38:51</td>     <th>  Log-Likelihood:    </th> <td> -320.47</td>\n",
        "</tr>\n",
        "<tr>\n",
        "  <th>converged:</th>           <td>True</td>       <th>  LL-Null:           </th> <td> -331.54</td>\n",
        "</tr>\n",
        "<tr>\n",
        "  <th> </th>                      <td> </td>        <th>  LLR p-value:       </th> <td>0.001139</td>\n",
        "</tr>\n",
        "</table>\n",
        "<table class=\"simpletable\">\n",
        "<tr>\n",
        "       <td></td>         <th>coef</th>     <th>std err</th>      <th>z</th>      <th>P>|z|</th> <th>[95.0% Conf. Int.]</th> \n",
        "</tr>\n",
        "<tr>\n",
        "  <th>product</th>    <td>    0.5589</td> <td>    0.207</td> <td>    2.696</td> <td> 0.007</td> <td>    0.153     0.965</td>\n",
        "</tr>\n",
        "<tr>\n",
        "  <th>full_price</th> <td>    1.5986</td> <td>    0.489</td> <td>    3.270</td> <td> 0.001</td> <td>    0.640     2.557</td>\n",
        "</tr>\n",
        "<tr>\n",
        "  <th>full_pri</th>   <td>   -1.1878</td> <td>    0.431</td> <td>   -2.757</td> <td> 0.006</td> <td>   -2.032    -0.344</td>\n",
        "</tr>\n",
        "<tr>\n",
        "  <th>promo</th>      <td>    0.1976</td> <td>    0.351</td> <td>    0.562</td> <td> 0.574</td> <td>   -0.491     0.886</td>\n",
        "</tr>\n",
        "<tr>\n",
        "  <th>disc_price</th> <td>   -1.6529</td> <td>    0.535</td> <td>   -3.089</td> <td> 0.002</td> <td>   -2.702    -0.604</td>\n",
        "</tr>\n",
        "<tr>\n",
        "  <th>time_day</th>   <td>   -0.3666</td> <td>    0.218</td> <td>   -1.682</td> <td> 0.093</td> <td>   -0.794     0.061</td>\n",
        "</tr>\n",
        "<tr>\n",
        "  <th>repeated</th>   <td>   -0.4511</td> <td>    0.264</td> <td>   -1.708</td> <td> 0.088</td> <td>   -0.969     0.067</td>\n",
        "</tr>\n",
        "</table>"
       ],
       "metadata": {},
       "output_type": "pyout",
       "prompt_number": 105,
       "text": [
        "<class 'statsmodels.iolib.summary.Summary'>\n",
        "\"\"\"\n",
        "                           Logit Regression Results                           \n",
        "==============================================================================\n",
        "Dep. Variable:                 bundle   No. Observations:                  500\n",
        "Model:                          Logit   Df Residuals:                      493\n",
        "Method:                           MLE   Df Model:                            6\n",
        "Date:                Tue, 13 May 2014   Pseudo R-squ.:                 0.03340\n",
        "Time:                        20:38:51   Log-Likelihood:                -320.47\n",
        "converged:                       True   LL-Null:                       -331.54\n",
        "                                        LLR p-value:                  0.001139\n",
        "==============================================================================\n",
        "                 coef    std err          z      P>|z|      [95.0% Conf. Int.]\n",
        "------------------------------------------------------------------------------\n",
        "product        0.5589      0.207      2.696      0.007         0.153     0.965\n",
        "full_price     1.5986      0.489      3.270      0.001         0.640     2.557\n",
        "full_pri      -1.1878      0.431     -2.757      0.006        -2.032    -0.344\n",
        "promo          0.1976      0.351      0.562      0.574        -0.491     0.886\n",
        "disc_price    -1.6529      0.535     -3.089      0.002        -2.702    -0.604\n",
        "time_day      -0.3666      0.218     -1.682      0.093        -0.794     0.061\n",
        "repeated      -0.4511      0.264     -1.708      0.088        -0.969     0.067\n",
        "==============================================================================\n",
        "\"\"\""
       ]
      }
     ],
     "prompt_number": 105
    },
    {
     "cell_type": "heading",
     "level": 4,
     "metadata": {},
     "source": [
      "2. Are consumer more likley to buy 2% milk vs. fat-milk? yes or no? explain"
     ]
    },
    {
     "cell_type": "markdown",
     "metadata": {},
     "source": [
      "___\n",
      "Product == 1 means 2%Milk.\n",
      "Yes, more likely to buy 2%.  Because the product coef is positive and the p-val so low. \n",
      "___"
     ]
    },
    {
     "cell_type": "heading",
     "level": 5,
     "metadata": {},
     "source": [
      "3. Is the effect of promotion negative or positive on the outcome (Ignore significance)? Can promotions drive consumer to buy in boundle?"
     ]
    },
    {
     "cell_type": "markdown",
     "metadata": {},
     "source": [
      "___\n",
      "It is positive.  Yes they can.\n",
      "___"
     ]
    },
    {
     "cell_type": "heading",
     "level": 5,
     "metadata": {},
     "source": [
      "4. Calculate the odds ratio for this regression"
     ]
    },
    {
     "cell_type": "code",
     "collapsed": false,
     "input": [
      "print np.exp(results2.params)"
     ],
     "language": "python",
     "metadata": {},
     "outputs": [
      {
       "output_type": "stream",
       "stream": "stdout",
       "text": [
        "product       1.748662\n",
        "full_price    4.946059\n",
        "full_pri      0.304879\n",
        "promo         1.218491\n",
        "disc_price    0.191498\n",
        "time_day      0.693060\n",
        "repeated      0.636896\n",
        "dtype: float64\n"
       ]
      }
     ],
     "prompt_number": 106
    },
    {
     "cell_type": "markdown",
     "metadata": {},
     "source": [
      "___\n",
      "**Questions**\n",
      "need explanation of how continuous x var values impact odds of y.\n",
      "is it fair to say in this example that as Full_price goes up by 1 the odds of consumer buying in a bundle is 4.9x higher?\n",
      "___\n"
     ]
    },
    {
     "cell_type": "heading",
     "level": 5,
     "metadata": {},
     "source": [
      "5. Can you think, with the results we got from this regression, about a strategy to convert consumers to buy halthier milk (2%) rather than fat-milk? "
     ]
    },
    {
     "cell_type": "markdown",
     "metadata": {},
     "source": [
      "___\n",
      "- Bundle 2% and not whole milk\n",
      "- Raise the price of Whole/lower the price of 2%\n",
      "___"
     ]
    }
   ],
   "metadata": {}
  }
 ]
}