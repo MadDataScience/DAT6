{
 "metadata": {
  "name": "",
  "signature": "sha256:83dc6415a8ee4efc5ec97a920635306c3a03f722a95924a78d05b24337739241"
 },
 "nbformat": 3,
 "nbformat_minor": 0,
 "worksheets": [
  {
   "cells": [
    {
     "cell_type": "markdown",
     "metadata": {
      "slideshow": {
       "slide_type": "slide"
      }
     },
     "source": [
      "Homework DS05 - Stats\n",
      "========\n",
      "Jeff Fiore\n",
      "\n",
      "From Lec5 28 April 2014\n"
     ]
    },
    {
     "cell_type": "heading",
     "level": 3,
     "metadata": {},
     "source": [
      "Setup"
     ]
    },
    {
     "cell_type": "code",
     "collapsed": false,
     "input": [
      "%matplotlib inline\n",
      "import os\n",
      "import matplotlib.pyplot as plt\n",
      "import numpy as np\n",
      "import pandas as pd\n",
      "import statsmodels.api as sm\n",
      "import sqlite3\n",
      "from pandas.io import sql\n",
      "%load_ext sql\n",
      "conn = sqlite3.connect('enron.db')"
     ],
     "language": "python",
     "metadata": {
      "slideshow": {
       "slide_type": "subslide"
      }
     },
     "outputs": []
    },
    {
     "cell_type": "heading",
     "level": 3,
     "metadata": {},
     "source": [
      "1. Create a boxplot of the message recipient count (MAX(rno)), splitting the data based on the seniority of the sender."
     ]
    },
    {
     "cell_type": "code",
     "collapsed": false,
     "input": [
      "# qry into a DataFrame\n",
      "mrc = sql.frame_query(\"\"\"SELECT mid, max(rno) as to_count, from_eid, seniority\n",
      "                        FROM MessageBase\n",
      "                        JOIN RecipientBase Using(mid)\n",
      "                        JOIN EmployeeBase ON from_eid = eid\n",
      "                        GROUP BY mid\"\"\", \n",
      "                      conn, \"mid\")\n",
      "# take a look\n",
      "mrc.head()"
     ],
     "language": "python",
     "metadata": {},
     "outputs": []
    },
    {
     "cell_type": "code",
     "collapsed": false,
     "input": [
      "# plot horizontal\n",
      "mrc.boxplot(column=\"to_count\", by=\"seniority\", figsize=(12, 4), vert=False, widths=.75)"
     ],
     "language": "python",
     "metadata": {},
     "outputs": []
    },
    {
     "cell_type": "heading",
     "level": 3,
     "metadata": {},
     "source": [
      "2. Compute the sample mean and standard deviation in the two groups."
     ]
    },
    {
     "cell_type": "code",
     "collapsed": false,
     "input": [
      "# break up data based on seniority\n",
      "dfSr = mrc[mrc['seniority'] == 'Senior']\n",
      "dfJr = mrc[mrc['seniority'] == 'Junior']\n",
      "# Show me the money!\n",
      "print(\"Mean message recipient count by Seniority\")\n",
      "print(\"Pop Mean Senior: %f, Std: %f\" %(dfSr.to_count.mean(), dfSr.to_count.std()))\n",
      "print(\"Pop Mean Junior: %f, Std: %f\" %(dfJr.to_count.mean(), dfJr.to_count.std()))"
     ],
     "language": "python",
     "metadata": {},
     "outputs": []
    },
    {
     "cell_type": "heading",
     "level": 3,
     "metadata": {},
     "source": [
      "3. Create a histogram of the recipient count within each group."
     ]
    },
    {
     "cell_type": "code",
     "collapsed": false,
     "input": [
      "fig = plt.figure(figsize=(12,4))\n",
      "fig.suptitle('Message Recipient Count by Seniority',fontsize=12, fontweight='bold')\n",
      "axS = fig.add_subplot(1,2,1) # one rows, two column, first plot\n",
      "dfSr.to_count.hist(bins=range(60), alpha=.75)\n",
      "axS.set_title('Senior')\n",
      "axS.set_xlabel('Message Count'), axS.set_ylabel('Recipient Count')\n",
      "axJ = fig.add_subplot(1,2,2) # one rows, two column, 2nd plot\n",
      "dfJr.to_count.hist(bins=range(60), alpha=.75)\n",
      "axJ.set_title('Junior')\n",
      "axJ.set_xlabel('Message Count'), axJ.set_ylabel('Recipient Count')"
     ],
     "language": "python",
     "metadata": {},
     "outputs": []
    },
    {
     "cell_type": "heading",
     "level": 3,
     "metadata": {},
     "source": [
      "4. Compute a 90% confidence interval for the difference in recipient count between the two groups. "
     ]
    },
    {
     "cell_type": "code",
     "collapsed": false,
     "input": [
      "from scipy.stats import t as tdist\n",
      "# Senior\n",
      "sample = dfSr.to_count\n",
      "N = sample.count()\n",
      "cutoff = tdist.isf(0.95,N-1)\n",
      "L = sample.mean() - cutoff*sample.std()/np.sqrt(N)\n",
      "U = sample.mean() + cutoff*sample.std()/np.sqrt(N)\n",
      "print \"90% Confidence Interval - SENIOR\"\n",
      "print \"L: {}\\tU: {}\".format(L, U)"
     ],
     "language": "python",
     "metadata": {},
     "outputs": []
    },
    {
     "cell_type": "code",
     "collapsed": false,
     "input": [
      "from scipy.stats import t as tdist\n",
      "# Junior\n",
      "sample = dfJr.to_count\n",
      "N = sample.count()\n",
      "cutoff = tdist.isf(0.95,N-1)\n",
      "L = sample.mean() - cutoff*sample.std()/np.sqrt(N)\n",
      "U = sample.mean() + cutoff*sample.std()/np.sqrt(N)\n",
      "print \"90% Confidence Interval - JUNIOR\"\n",
      "print \"L: {}\\tU: {}\".format(L, U)"
     ],
     "language": "python",
     "metadata": {},
     "outputs": []
    },
    {
     "cell_type": "heading",
     "level": 4,
     "metadata": {},
     "source": [
      "What is a problem with this? How might you fix it?"
     ]
    },
    {
     "cell_type": "markdown",
     "metadata": {},
     "source": [
      "The results are heavily wighted toward 1, which is the most common num of recipients.  A more interesting test might leave this out; just looking at messages w/ multiple recipients.  Genuniely, I don't get this too well at all yet, so would appreciate reviwing this question at the top of class."
     ]
    },
    {
     "cell_type": "heading",
     "level": 3,
     "metadata": {},
     "source": [
      "5. At level \u03b1=5%, test the null hypothesis that the average recipient count does not differ between the two groups. "
     ]
    },
    {
     "cell_type": "code",
     "collapsed": false,
     "input": [
      "import scipy.stats\n",
      "t, p = scipy.stats.ttest_ind(dfSr.to_count, dfJr.to_count, equal_var=True)\n",
      "'t-statistic = {:6.6} pvalue = {:.4}'.format(t, p)"
     ],
     "language": "python",
     "metadata": {},
     "outputs": []
    },
    {
     "cell_type": "heading",
     "level": 4,
     "metadata": {},
     "source": [
      "What assumptions are you making? What can you conclude?"
     ]
    },
    {
     "cell_type": "markdown",
     "metadata": {},
     "source": [
      "Assumptions:\n",
      " - The variances are the same in the two populations - reasonable I suppose, but hardly a sure thing\n",
      " - These two data sets are independent - probably not a great assumption"
     ]
    },
    {
     "cell_type": "markdown",
     "metadata": {},
     "source": [
      "Conclusion\n",
      " - The probability that tehre is not a difference in avg number of recipeints b/t the two groups and seeing these results is about 0.2% or 1 in 500: pretty low.  We can reasonably reject the null hypothesis give this sample."
     ]
    },
    {
     "cell_type": "heading",
     "level": 3,
     "metadata": {},
     "source": [
      "6. Repeat the test in 5. using OLS."
     ]
    },
    {
     "cell_type": "code",
     "collapsed": false,
     "input": [
      "mod3 = sm.OLS.from_formula(\"to_count ~ seniority\", mrc)\n",
      "res3 = mod3.fit()\n",
      "print res3.summary(alpha = .05)"
     ],
     "language": "python",
     "metadata": {},
     "outputs": []
    }
   ],
   "metadata": {}
  }
 ]
}