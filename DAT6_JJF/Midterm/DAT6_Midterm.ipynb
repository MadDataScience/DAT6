{
 "metadata": {
  "name": "",
  "signature": "sha256:96c0c63859f8f5e38f2f06faea7fceae8e7fb7a20e91c0dd135feb928f8c116d"
 },
 "nbformat": 3,
 "nbformat_minor": 0,
 "worksheets": [
  {
   "cells": [
    {
     "cell_type": "markdown",
     "metadata": {},
     "source": [
      "DAT6 SF: HOMEWORK 10 \u201cMIDTERM\u201d \u2013 LOGISTIC REGRESSION\n",
      "====================================================\n",
      "Assigned: Wednesday, May 14\n",
      "\n",
      "Due: Monday, May 26 by 11:59PM\n",
      "\n",
      "Submission Method: Submit via Schoology. Feel free to push to Github after the deadline has passed. Work independently on this midterm assignment."
     ]
    },
    {
     "cell_type": "markdown",
     "metadata": {},
     "source": [
      "### Load packages and functions that we will use"
     ]
    },
    {
     "cell_type": "code",
     "collapsed": false,
     "input": [
      "#import data and packages\n",
      "import pandas as pd\n",
      "%matplotlib inline\n",
      "import matplotlib.pyplot as plt\n",
      "import numpy as np\n",
      "import statsmodels.api as sm\n",
      "from sklearn.cross_validation import train_test_split\n",
      "from sklearn.linear_model import LogisticRegression\n",
      "from sklearn.metrics import classification_report\n",
      "from sklearn.preprocessing import StandardScaler \n",
      "from sklearn.grid_search import GridSearchCV\n",
      "from sklearn.pipeline import Pipeline"
     ],
     "language": "python",
     "metadata": {},
     "outputs": [],
     "prompt_number": 1
    },
    {
     "cell_type": "markdown",
     "metadata": {},
     "source": [
      "### Loading tabular data from the Titanic kaggle challenge in a pandas Data Frame\n",
      "\n",
      "Let's have a look at the Titanic dataset from the Kaggle Getting Started challenge at:\n",
      "\n",
      "https://www.kaggle.com/c/titanic-gettingStarted\n",
      "\n",
      "We can load the CSV file as a pandas data frame in one line:"
     ]
    },
    {
     "cell_type": "code",
     "collapsed": false,
     "input": [
      "#data = pd.read_csv('https://dl.dropboxusercontent.com/u/5743203/data/titanic/titanic_train.csv')\n",
      "data = pd.read_csv('titanic_train.csv')"
     ],
     "language": "python",
     "metadata": {},
     "outputs": [],
     "prompt_number": 2
    },
    {
     "cell_type": "markdown",
     "metadata": {},
     "source": [
      "### Have a look at the data"
     ]
    },
    {
     "cell_type": "code",
     "collapsed": false,
     "input": [
      "data.info()"
     ],
     "language": "python",
     "metadata": {},
     "outputs": [
      {
       "output_type": "stream",
       "stream": "stdout",
       "text": [
        "<class 'pandas.core.frame.DataFrame'>\n",
        "Int64Index: 891 entries, 0 to 890\n",
        "Data columns (total 12 columns):\n",
        "PassengerId    891 non-null int64\n",
        "Survived       891 non-null int64\n",
        "Pclass         891 non-null int64\n",
        "Name           891 non-null object\n",
        "Sex            891 non-null object\n",
        "Age            714 non-null float64\n",
        "SibSp          891 non-null int64\n",
        "Parch          891 non-null int64\n",
        "Ticket         891 non-null object\n",
        "Fare           891 non-null float64\n",
        "Cabin          204 non-null object\n",
        "Embarked       889 non-null object\n",
        "dtypes: float64(2), int64(5), object(5)"
       ]
      }
     ],
     "prompt_number": 3
    },
    {
     "cell_type": "code",
     "collapsed": false,
     "input": [
      "data.head()"
     ],
     "language": "python",
     "metadata": {},
     "outputs": [
      {
       "html": [
        "<div style=\"max-height:1000px;max-width:1500px;overflow:auto;\">\n",
        "<table border=\"1\" class=\"dataframe\">\n",
        "  <thead>\n",
        "    <tr style=\"text-align: right;\">\n",
        "      <th></th>\n",
        "      <th>PassengerId</th>\n",
        "      <th>Survived</th>\n",
        "      <th>Pclass</th>\n",
        "      <th>Name</th>\n",
        "      <th>Sex</th>\n",
        "      <th>Age</th>\n",
        "      <th>SibSp</th>\n",
        "      <th>Parch</th>\n",
        "      <th>Ticket</th>\n",
        "      <th>Fare</th>\n",
        "      <th>Cabin</th>\n",
        "      <th>Embarked</th>\n",
        "    </tr>\n",
        "  </thead>\n",
        "  <tbody>\n",
        "    <tr>\n",
        "      <th>0</th>\n",
        "      <td> 1</td>\n",
        "      <td> 0</td>\n",
        "      <td> 3</td>\n",
        "      <td>                           Braund, Mr. Owen Harris</td>\n",
        "      <td>   male</td>\n",
        "      <td> 22</td>\n",
        "      <td> 1</td>\n",
        "      <td> 0</td>\n",
        "      <td>        A/5 21171</td>\n",
        "      <td>  7.2500</td>\n",
        "      <td>  NaN</td>\n",
        "      <td> S</td>\n",
        "    </tr>\n",
        "    <tr>\n",
        "      <th>1</th>\n",
        "      <td> 2</td>\n",
        "      <td> 1</td>\n",
        "      <td> 1</td>\n",
        "      <td> Cumings, Mrs. John Bradley (Florence Briggs Th...</td>\n",
        "      <td> female</td>\n",
        "      <td> 38</td>\n",
        "      <td> 1</td>\n",
        "      <td> 0</td>\n",
        "      <td>         PC 17599</td>\n",
        "      <td> 71.2833</td>\n",
        "      <td>  C85</td>\n",
        "      <td> C</td>\n",
        "    </tr>\n",
        "    <tr>\n",
        "      <th>2</th>\n",
        "      <td> 3</td>\n",
        "      <td> 1</td>\n",
        "      <td> 3</td>\n",
        "      <td>                            Heikkinen, Miss. Laina</td>\n",
        "      <td> female</td>\n",
        "      <td> 26</td>\n",
        "      <td> 0</td>\n",
        "      <td> 0</td>\n",
        "      <td> STON/O2. 3101282</td>\n",
        "      <td>  7.9250</td>\n",
        "      <td>  NaN</td>\n",
        "      <td> S</td>\n",
        "    </tr>\n",
        "    <tr>\n",
        "      <th>3</th>\n",
        "      <td> 4</td>\n",
        "      <td> 1</td>\n",
        "      <td> 1</td>\n",
        "      <td>      Futrelle, Mrs. Jacques Heath (Lily May Peel)</td>\n",
        "      <td> female</td>\n",
        "      <td> 35</td>\n",
        "      <td> 1</td>\n",
        "      <td> 0</td>\n",
        "      <td>           113803</td>\n",
        "      <td> 53.1000</td>\n",
        "      <td> C123</td>\n",
        "      <td> S</td>\n",
        "    </tr>\n",
        "    <tr>\n",
        "      <th>4</th>\n",
        "      <td> 5</td>\n",
        "      <td> 0</td>\n",
        "      <td> 3</td>\n",
        "      <td>                          Allen, Mr. William Henry</td>\n",
        "      <td>   male</td>\n",
        "      <td> 35</td>\n",
        "      <td> 0</td>\n",
        "      <td> 0</td>\n",
        "      <td>           373450</td>\n",
        "      <td>  8.0500</td>\n",
        "      <td>  NaN</td>\n",
        "      <td> S</td>\n",
        "    </tr>\n",
        "  </tbody>\n",
        "</table>\n",
        "<p>5 rows \u00d7 12 columns</p>\n",
        "</div>"
       ],
       "metadata": {},
       "output_type": "pyout",
       "prompt_number": 4,
       "text": [
        "   PassengerId  Survived  Pclass  \\\n",
        "0            1         0       3   \n",
        "1            2         1       1   \n",
        "2            3         1       3   \n",
        "3            4         1       1   \n",
        "4            5         0       3   \n",
        "\n",
        "                                                Name     Sex  Age  SibSp  \\\n",
        "0                            Braund, Mr. Owen Harris    male   22      1   \n",
        "1  Cumings, Mrs. John Bradley (Florence Briggs Th...  female   38      1   \n",
        "2                             Heikkinen, Miss. Laina  female   26      0   \n",
        "3       Futrelle, Mrs. Jacques Heath (Lily May Peel)  female   35      1   \n",
        "4                           Allen, Mr. William Henry    male   35      0   \n",
        "\n",
        "   Parch            Ticket     Fare Cabin Embarked  \n",
        "0      0         A/5 21171   7.2500   NaN        S  \n",
        "1      0          PC 17599  71.2833   C85        C  \n",
        "2      0  STON/O2. 3101282   7.9250   NaN        S  \n",
        "3      0            113803  53.1000  C123        S  \n",
        "4      0            373450   8.0500   NaN        S  \n",
        "\n",
        "[5 rows x 12 columns]"
       ]
      }
     ],
     "prompt_number": 4
    },
    {
     "cell_type": "markdown",
     "metadata": {},
     "source": [
      "## Question 1:\n",
      "Several passengers are missing data points for age. Impute the missing values so that there are no \u201cNaN\u201d values for age as inputs to your model. Explain what value or values you used for the missing age data and why you used those values. (Hint: Think statistically here. Explain your thinking and choices.)\n"
     ]
    },
    {
     "cell_type": "markdown",
     "metadata": {},
     "source": [
      "From the previous exercises we know that Sex and PClass are important feature in predicting survival. Let's double check that."
     ]
    },
    {
     "cell_type": "code",
     "collapsed": false,
     "input": [
      "grouped_by_age_pclass = data.groupby(['Sex', 'Pclass']).mean()\n",
      "grouped_by_age_pclass"
     ],
     "language": "python",
     "metadata": {},
     "outputs": [
      {
       "html": [
        "<div style=\"max-height:1000px;max-width:1500px;overflow:auto;\">\n",
        "<table border=\"1\" class=\"dataframe\">\n",
        "  <thead>\n",
        "    <tr style=\"text-align: right;\">\n",
        "      <th></th>\n",
        "      <th></th>\n",
        "      <th>PassengerId</th>\n",
        "      <th>Survived</th>\n",
        "      <th>Age</th>\n",
        "      <th>SibSp</th>\n",
        "      <th>Parch</th>\n",
        "      <th>Fare</th>\n",
        "    </tr>\n",
        "    <tr>\n",
        "      <th>Sex</th>\n",
        "      <th>Pclass</th>\n",
        "      <th></th>\n",
        "      <th></th>\n",
        "      <th></th>\n",
        "      <th></th>\n",
        "      <th></th>\n",
        "      <th></th>\n",
        "    </tr>\n",
        "  </thead>\n",
        "  <tbody>\n",
        "    <tr>\n",
        "      <th rowspan=\"3\" valign=\"top\">female</th>\n",
        "      <th>1</th>\n",
        "      <td> 469.212766</td>\n",
        "      <td> 0.968085</td>\n",
        "      <td> 34.611765</td>\n",
        "      <td> 0.553191</td>\n",
        "      <td> 0.457447</td>\n",
        "      <td> 106.125798</td>\n",
        "    </tr>\n",
        "    <tr>\n",
        "      <th>2</th>\n",
        "      <td> 443.105263</td>\n",
        "      <td> 0.921053</td>\n",
        "      <td> 28.722973</td>\n",
        "      <td> 0.486842</td>\n",
        "      <td> 0.605263</td>\n",
        "      <td>  21.970121</td>\n",
        "    </tr>\n",
        "    <tr>\n",
        "      <th>3</th>\n",
        "      <td> 399.729167</td>\n",
        "      <td> 0.500000</td>\n",
        "      <td> 21.750000</td>\n",
        "      <td> 0.895833</td>\n",
        "      <td> 0.798611</td>\n",
        "      <td>  16.118810</td>\n",
        "    </tr>\n",
        "    <tr>\n",
        "      <th rowspan=\"3\" valign=\"top\">male</th>\n",
        "      <th>1</th>\n",
        "      <td> 455.729508</td>\n",
        "      <td> 0.368852</td>\n",
        "      <td> 41.281386</td>\n",
        "      <td> 0.311475</td>\n",
        "      <td> 0.278689</td>\n",
        "      <td>  67.226127</td>\n",
        "    </tr>\n",
        "    <tr>\n",
        "      <th>2</th>\n",
        "      <td> 447.962963</td>\n",
        "      <td> 0.157407</td>\n",
        "      <td> 30.740707</td>\n",
        "      <td> 0.342593</td>\n",
        "      <td> 0.222222</td>\n",
        "      <td>  19.741782</td>\n",
        "    </tr>\n",
        "    <tr>\n",
        "      <th>3</th>\n",
        "      <td> 455.515850</td>\n",
        "      <td> 0.135447</td>\n",
        "      <td> 26.507589</td>\n",
        "      <td> 0.498559</td>\n",
        "      <td> 0.224784</td>\n",
        "      <td>  12.661633</td>\n",
        "    </tr>\n",
        "  </tbody>\n",
        "</table>\n",
        "<p>6 rows \u00d7 6 columns</p>\n",
        "</div>"
       ],
       "metadata": {},
       "output_type": "pyout",
       "prompt_number": 5,
       "text": [
        "               PassengerId  Survived        Age     SibSp     Parch  \\\n",
        "Sex    Pclass                                                         \n",
        "female 1        469.212766  0.968085  34.611765  0.553191  0.457447   \n",
        "       2        443.105263  0.921053  28.722973  0.486842  0.605263   \n",
        "       3        399.729167  0.500000  21.750000  0.895833  0.798611   \n",
        "male   1        455.729508  0.368852  41.281386  0.311475  0.278689   \n",
        "       2        447.962963  0.157407  30.740707  0.342593  0.222222   \n",
        "       3        455.515850  0.135447  26.507589  0.498559  0.224784   \n",
        "\n",
        "                     Fare  \n",
        "Sex    Pclass              \n",
        "female 1       106.125798  \n",
        "       2        21.970121  \n",
        "       3        16.118810  \n",
        "male   1        67.226127  \n",
        "       2        19.741782  \n",
        "       3        12.661633  \n",
        "\n",
        "[6 rows x 6 columns]"
       ]
      }
     ],
     "prompt_number": 5
    },
    {
     "cell_type": "markdown",
     "metadata": {},
     "source": [
      "Survival rates are very different in these classes"
     ]
    },
    {
     "cell_type": "code",
     "collapsed": false,
     "input": [
      "grouped_by_age_pclass.Survived.round(3)*100"
     ],
     "language": "python",
     "metadata": {},
     "outputs": [
      {
       "metadata": {},
       "output_type": "pyout",
       "prompt_number": 6,
       "text": [
        "Sex     Pclass\n",
        "female  1         96.8\n",
        "        2         92.1\n",
        "        3         50.0\n",
        "male    1         36.9\n",
        "        2         15.7\n",
        "        3         13.5\n",
        "Name: Survived, dtype: float64"
       ]
      }
     ],
     "prompt_number": 6
    },
    {
     "cell_type": "markdown",
     "metadata": {},
     "source": [
      "Average ages are also quite different in these classes"
     ]
    },
    {
     "cell_type": "markdown",
     "metadata": {},
     "source": [
      "Let's look closer. Age distribution for male and female population"
     ]
    },
    {
     "cell_type": "code",
     "collapsed": false,
     "input": [
      "# Plot distribution of passenger ages\n",
      "plt.hist(data[data.Sex == 'male']['Age'].dropna().values, bins=16, range=(0,80), alpha = .3, label='male', normed = True)\n",
      "plt.hist(data[data.Sex == 'female']['Age'].dropna().values, bins=16, range=(0,80), alpha = .3, label='female', normed = True)\n",
      "plt.ylabel('Count')\n",
      "plt.xlabel('Age')\n",
      "plt.title('Histogram of Passenger Ages')\n",
      "plt.legend(loc= 'best')\n",
      "plt.show()\n"
     ],
     "language": "python",
     "metadata": {},
     "outputs": [
      {
       "metadata": {},
       "output_type": "display_data",
       "png": "[encoded data removed]",
       "text": [
        "<matplotlib.figure.Figure at 0x3cf0240>"
       ]
      }
     ],
     "prompt_number": 7
    },
    {
     "cell_type": "markdown",
     "metadata": {},
     "source": [
      "A simple idea: use the mean value per sex and Pclass to fill the missing values\n",
      "\n",
      "A slightly more complex idea: draw random values from the distribution of ages of a certain sex and class"
     ]
    },
    {
     "cell_type": "markdown",
     "metadata": {},
     "source": [
      "Let's Keep It Simple"
     ]
    },
    {
     "cell_type": "code",
     "collapsed": false,
     "input": [
      "data.fillna(grouped_by_age_pclass, inplace=True)"
     ],
     "language": "python",
     "metadata": {},
     "outputs": [],
     "prompt_number": 8
    },
    {
     "cell_type": "code",
     "collapsed": false,
     "input": [
      "data.info()"
     ],
     "language": "python",
     "metadata": {},
     "outputs": [
      {
       "output_type": "stream",
       "stream": "stdout",
       "text": [
        "<class 'pandas.core.frame.DataFrame'>\n",
        "Int64Index: 891 entries, 0 to 890\n",
        "Data columns (total 12 columns):\n",
        "PassengerId    891 non-null int64\n",
        "Survived       891 non-null int64\n",
        "Pclass         891 non-null int64\n",
        "Name           891 non-null object\n",
        "Sex            891 non-null object\n",
        "Age            891 non-null float64\n",
        "SibSp          891 non-null int64\n",
        "Parch          891 non-null int64\n",
        "Ticket         891 non-null object\n",
        "Fare           891 non-null float64\n",
        "Cabin          204 non-null object\n",
        "Embarked       889 non-null object\n",
        "dtypes: float64(2), int64(5), object(5)"
       ]
      }
     ],
     "prompt_number": 9
    },
    {
     "cell_type": "markdown",
     "metadata": {},
     "source": [
      "## Question 2:\n",
      "####Create and run a logistic regression on the Titanic data to predict the survival of passengers.\n",
      "\n",
      "####a. Make sure your model results are reproducible by the instructor team, given any random aspects to your code / steps."
     ]
    },
    {
     "cell_type": "code",
     "collapsed": false,
     "input": [
      "# convert sex to int, store in new col bSex - Males:1 Female:0\n",
      "data['bSex'] = data['Sex'].map(lambda x:  1 if x == 'male' else 0 )\n",
      "data['bSex'].describe()"
     ],
     "language": "python",
     "metadata": {},
     "outputs": [
      {
       "metadata": {},
       "output_type": "pyout",
       "prompt_number": 10,
       "text": [
        "count    891.000000\n",
        "mean       0.647587\n",
        "std        0.477990\n",
        "min        0.000000\n",
        "25%        0.000000\n",
        "50%        1.000000\n",
        "75%        1.000000\n",
        "max        1.000000\n",
        "Name: bSex, dtype: float64"
       ]
      }
     ],
     "prompt_number": 10
    },
    {
     "cell_type": "code",
     "collapsed": false,
     "input": [
      "# pick the training cols\n",
      "train_cols = ['Pclass','Age','SibSp','Parch','Fare','bSex']"
     ],
     "language": "python",
     "metadata": {},
     "outputs": [],
     "prompt_number": 11
    },
    {
     "cell_type": "code",
     "collapsed": false,
     "input": [
      "# set up a pipeline and parameters to gridsearch for the best params of the scaling and regresison model given our data\n",
      "pipeline = Pipeline((\n",
      "    ('scl', StandardScaler()),\n",
      "    ('lgr', LogisticRegression()),\n",
      "))\n",
      "\n",
      "parameters = {\n",
      "        'scl__with_mean': [True, False],\n",
      "        'scl__with_std': [True, False],\n",
      "        'lgr__penalty': ['l1', 'l2'],\n",
      "        'lgr__C': [.0001, .001, .01, .1, .2, .4,.8, 1.0],\n",
      "}\n",
      "gs = GridSearchCV(pipeline, parameters, verbose=3, refit=False, n_jobs=2)\n",
      "_ = gs.fit( data[train_cols],data[\"Survived\"])"
     ],
     "language": "python",
     "metadata": {},
     "outputs": [
      {
       "output_type": "stream",
       "stream": "stderr",
       "text": [
        "[Parallel(n_jobs=2)]: Done   1 jobs       | elapsed:    0.9s\n",
        "[Parallel(n_jobs=2)]: Done  32 jobs       | elapsed:    1.9s\n",
        "[Parallel(n_jobs=2)]: Done 128 jobs       | elapsed:    2.2s\n",
        "[Parallel(n_jobs=2)]: Done 190 out of 192 | elapsed:    2.4s remaining:    0.0s\n",
        "[Parallel(n_jobs=2)]: Done 192 out of 192 | elapsed:    2.5s finished\n"
       ]
      },
      {
       "output_type": "stream",
       "stream": "stdout",
       "text": [
        "Fitting 3 folds for each of 64 candidates, totalling 192 fits\n"
       ]
      }
     ],
     "prompt_number": 12
    },
    {
     "cell_type": "code",
     "collapsed": false,
     "input": [
      "gs.grid_scores_"
     ],
     "language": "python",
     "metadata": {},
     "outputs": [
      {
       "metadata": {},
       "output_type": "pyout",
       "prompt_number": 13,
       "text": [
        "[mean: 0.61616, std: 0.00000, params: {'lgr__C': 0.0001, 'lgr__penalty': 'l1', 'scl__with_mean': True, 'scl__with_std': True},\n",
        " mean: 0.61616, std: 0.00000, params: {'lgr__C': 0.0001, 'lgr__penalty': 'l1', 'scl__with_mean': True, 'scl__with_std': False},\n",
        " mean: 0.61616, std: 0.00000, params: {'lgr__C': 0.0001, 'lgr__penalty': 'l1', 'scl__with_mean': False, 'scl__with_std': True},\n",
        " mean: 0.61616, std: 0.00000, params: {'lgr__C': 0.0001, 'lgr__penalty': 'l1', 'scl__with_mean': False, 'scl__with_std': False},\n",
        " mean: 0.77441, std: 0.00476, params: {'lgr__C': 0.0001, 'lgr__penalty': 'l2', 'scl__with_mean': True, 'scl__with_std': True},\n",
        " mean: 0.67677, std: 0.01531, params: {'lgr__C': 0.0001, 'lgr__penalty': 'l2', 'scl__with_mean': True, 'scl__with_std': False},\n",
        " mean: 0.61616, std: 0.00000, params: {'lgr__C': 0.0001, 'lgr__penalty': 'l2', 'scl__with_mean': False, 'scl__with_std': True},\n",
        " mean: 0.67228, std: 0.00884, params: {'lgr__C': 0.0001, 'lgr__penalty': 'l2', 'scl__with_mean': False, 'scl__with_std': False},\n",
        " mean: 0.61616, std: 0.00000, params: {'lgr__C': 0.001, 'lgr__penalty': 'l1', 'scl__with_mean': True, 'scl__with_std': True},\n",
        " mean: 0.66105, std: 0.01299, params: {'lgr__C': 0.001, 'lgr__penalty': 'l1', 'scl__with_mean': True, 'scl__with_std': False},\n",
        " mean: 0.61616, std: 0.00000, params: {'lgr__C': 0.001, 'lgr__penalty': 'l1', 'scl__with_mean': False, 'scl__with_std': True},\n",
        " mean: 0.66891, std: 0.00317, params: {'lgr__C': 0.001, 'lgr__penalty': 'l1', 'scl__with_mean': False, 'scl__with_std': False},\n",
        " mean: 0.77441, std: 0.00991, params: {'lgr__C': 0.001, 'lgr__penalty': 'l2', 'scl__with_mean': True, 'scl__with_std': True},\n",
        " mean: 0.68350, std: 0.01455, params: {'lgr__C': 0.001, 'lgr__penalty': 'l2', 'scl__with_mean': True, 'scl__with_std': False},\n",
        " mean: 0.63636, std: 0.00476, params: {'lgr__C': 0.001, 'lgr__penalty': 'l2', 'scl__with_mean': False, 'scl__with_std': True},\n",
        " mean: 0.68126, std: 0.01299, params: {'lgr__C': 0.001, 'lgr__penalty': 'l2', 'scl__with_mean': False, 'scl__with_std': False},\n",
        " mean: 0.78676, std: 0.01041, params: {'lgr__C': 0.01, 'lgr__penalty': 'l1', 'scl__with_mean': True, 'scl__with_std': True},\n",
        " mean: 0.67565, std: 0.01657, params: {'lgr__C': 0.01, 'lgr__penalty': 'l1', 'scl__with_mean': True, 'scl__with_std': False},\n",
        " mean: 0.61616, std: 0.00000, params: {'lgr__C': 0.01, 'lgr__penalty': 'l1', 'scl__with_mean': False, 'scl__with_std': True},\n",
        " mean: 0.67116, std: 0.01041, params: {'lgr__C': 0.01, 'lgr__penalty': 'l1', 'scl__with_mean': False, 'scl__with_std': False},\n",
        " mean: 0.78002, std: 0.00794, params: {'lgr__C': 0.01, 'lgr__penalty': 'l2', 'scl__with_mean': True, 'scl__with_std': True},\n",
        " mean: 0.75309, std: 0.03210, params: {'lgr__C': 0.01, 'lgr__penalty': 'l2', 'scl__with_mean': True, 'scl__with_std': False},\n",
        " mean: 0.77666, std: 0.01563, params: {'lgr__C': 0.01, 'lgr__penalty': 'l2', 'scl__with_mean': False, 'scl__with_std': True},\n",
        " mean: 0.70819, std: 0.02239, params: {'lgr__C': 0.01, 'lgr__penalty': 'l2', 'scl__with_mean': False, 'scl__with_std': False},\n",
        " mean: 0.77666, std: 0.00572, params: {'lgr__C': 0.1, 'lgr__penalty': 'l1', 'scl__with_mean': True, 'scl__with_std': True},\n",
        " mean: 0.77666, std: 0.00794, params: {'lgr__C': 0.1, 'lgr__penalty': 'l1', 'scl__with_mean': True, 'scl__with_std': False},\n",
        " mean: 0.78114, std: 0.00991, params: {'lgr__C': 0.1, 'lgr__penalty': 'l1', 'scl__with_mean': False, 'scl__with_std': True},\n",
        " mean: 0.77441, std: 0.00727, params: {'lgr__C': 0.1, 'lgr__penalty': 'l1', 'scl__with_mean': False, 'scl__with_std': False},\n",
        " mean: 0.79125, std: 0.00476, params: {'lgr__C': 0.1, 'lgr__penalty': 'l2', 'scl__with_mean': True, 'scl__with_std': True},\n",
        " mean: 0.79461, std: 0.00825, params: {'lgr__C': 0.1, 'lgr__penalty': 'l2', 'scl__with_mean': True, 'scl__with_std': False},\n",
        " mean: 0.78563, std: 0.00635, params: {'lgr__C': 0.1, 'lgr__penalty': 'l2', 'scl__with_mean': False, 'scl__with_std': True},\n",
        " mean: 0.79012, std: 0.01563, params: {'lgr__C': 0.1, 'lgr__penalty': 'l2', 'scl__with_mean': False, 'scl__with_std': False},\n",
        " mean: 0.78563, std: 0.00317, params: {'lgr__C': 0.2, 'lgr__penalty': 'l1', 'scl__with_mean': True, 'scl__with_std': True},\n",
        " mean: 0.78676, std: 0.00692, params: {'lgr__C': 0.2, 'lgr__penalty': 'l1', 'scl__with_mean': True, 'scl__with_std': False},\n",
        " mean: 0.78002, std: 0.00692, params: {'lgr__C': 0.2, 'lgr__penalty': 'l1', 'scl__with_mean': False, 'scl__with_std': True},\n",
        " mean: 0.78114, std: 0.00476, params: {'lgr__C': 0.2, 'lgr__penalty': 'l1', 'scl__with_mean': False, 'scl__with_std': False},\n",
        " mean: 0.79237, std: 0.00420, params: {'lgr__C': 0.2, 'lgr__penalty': 'l2', 'scl__with_mean': True, 'scl__with_std': True},\n",
        " mean: 0.79012, std: 0.01041, params: {'lgr__C': 0.2, 'lgr__penalty': 'l2', 'scl__with_mean': True, 'scl__with_std': False},\n",
        " mean: 0.78451, std: 0.00727, params: {'lgr__C': 0.2, 'lgr__penalty': 'l2', 'scl__with_mean': False, 'scl__with_std': True},\n",
        " mean: 0.78339, std: 0.01384, params: {'lgr__C': 0.2, 'lgr__penalty': 'l2', 'scl__with_mean': False, 'scl__with_std': False},\n",
        " mean: 0.79125, std: 0.00275, params: {'lgr__C': 0.4, 'lgr__penalty': 'l1', 'scl__with_mean': True, 'scl__with_std': True},\n",
        " mean: 0.78900, std: 0.00420, params: {'lgr__C': 0.4, 'lgr__penalty': 'l1', 'scl__with_mean': True, 'scl__with_std': False},\n",
        " mean: 0.78227, std: 0.00420, params: {'lgr__C': 0.4, 'lgr__penalty': 'l1', 'scl__with_mean': False, 'scl__with_std': True},\n",
        " mean: 0.78676, std: 0.00794, params: {'lgr__C': 0.4, 'lgr__penalty': 'l1', 'scl__with_mean': False, 'scl__with_std': False},\n",
        " mean: 0.79125, std: 0.00275, params: {'lgr__C': 0.4, 'lgr__penalty': 'l2', 'scl__with_mean': True, 'scl__with_std': True},\n",
        " mean: 0.79125, std: 0.00952, params: {'lgr__C': 0.4, 'lgr__penalty': 'l2', 'scl__with_mean': True, 'scl__with_std': False},\n",
        " mean: 0.78227, std: 0.00635, params: {'lgr__C': 0.4, 'lgr__penalty': 'l2', 'scl__with_mean': False, 'scl__with_std': True},\n",
        " mean: 0.78676, std: 0.00840, params: {'lgr__C': 0.4, 'lgr__penalty': 'l2', 'scl__with_mean': False, 'scl__with_std': False},\n",
        " mean: 0.79125, std: 0.00275, params: {'lgr__C': 0.8, 'lgr__penalty': 'l1', 'scl__with_mean': True, 'scl__with_std': True},\n",
        " mean: 0.79125, std: 0.00275, params: {'lgr__C': 0.8, 'lgr__penalty': 'l1', 'scl__with_mean': True, 'scl__with_std': False},\n",
        " mean: 0.79012, std: 0.00317, params: {'lgr__C': 0.8, 'lgr__penalty': 'l1', 'scl__with_mean': False, 'scl__with_std': True},\n",
        " mean: 0.79012, std: 0.00317, params: {'lgr__C': 0.8, 'lgr__penalty': 'l1', 'scl__with_mean': False, 'scl__with_std': False},\n",
        " mean: 0.79237, std: 0.00420, params: {'lgr__C': 0.8, 'lgr__penalty': 'l2', 'scl__with_mean': True, 'scl__with_std': True},\n",
        " mean: 0.79012, std: 0.00794, params: {'lgr__C': 0.8, 'lgr__penalty': 'l2', 'scl__with_mean': True, 'scl__with_std': False},\n",
        " mean: 0.78900, std: 0.00692, params: {'lgr__C': 0.8, 'lgr__penalty': 'l2', 'scl__with_mean': False, 'scl__with_std': True},\n",
        " mean: 0.79012, std: 0.00572, params: {'lgr__C': 0.8, 'lgr__penalty': 'l2', 'scl__with_mean': False, 'scl__with_std': False},\n",
        " mean: 0.79125, std: 0.00275, params: {'lgr__C': 1.0, 'lgr__penalty': 'l1', 'scl__with_mean': True, 'scl__with_std': True},\n",
        " mean: 0.79125, std: 0.00275, params: {'lgr__C': 1.0, 'lgr__penalty': 'l1', 'scl__with_mean': True, 'scl__with_std': False},\n",
        " mean: 0.79237, std: 0.00317, params: {'lgr__C': 1.0, 'lgr__penalty': 'l1', 'scl__with_mean': False, 'scl__with_std': True},\n",
        " mean: 0.79125, std: 0.00550, params: {'lgr__C': 1.0, 'lgr__penalty': 'l1', 'scl__with_mean': False, 'scl__with_std': False},\n",
        " mean: 0.79237, std: 0.00420, params: {'lgr__C': 1.0, 'lgr__penalty': 'l2', 'scl__with_mean': True, 'scl__with_std': True},\n",
        " mean: 0.79125, std: 0.00727, params: {'lgr__C': 1.0, 'lgr__penalty': 'l2', 'scl__with_mean': True, 'scl__with_std': False},\n",
        " mean: 0.78788, std: 0.00476, params: {'lgr__C': 1.0, 'lgr__penalty': 'l2', 'scl__with_mean': False, 'scl__with_std': True},\n",
        " mean: 0.79125, std: 0.00727, params: {'lgr__C': 1.0, 'lgr__penalty': 'l2', 'scl__with_mean': False, 'scl__with_std': False}]"
       ]
      }
     ],
     "prompt_number": 13
    },
    {
     "cell_type": "code",
     "collapsed": false,
     "input": [
      "gs.best_params_"
     ],
     "language": "python",
     "metadata": {},
     "outputs": [
      {
       "metadata": {},
       "output_type": "pyout",
       "prompt_number": 14,
       "text": [
        "{'lgr__C': 0.1,\n",
        " 'lgr__penalty': 'l2',\n",
        " 'scl__with_mean': True,\n",
        " 'scl__with_std': False}"
       ]
      }
     ],
     "prompt_number": 14
    },
    {
     "cell_type": "code",
     "collapsed": false,
     "input": [
      "# Now that we have the best params - apply\n",
      "scaler = StandardScaler(with_std=False)\n",
      "X_scaled = scaler.fit_transform(data[train_cols], data[\"Survived\"])\n",
      "X_scaled"
     ],
     "language": "python",
     "metadata": {},
     "outputs": [
      {
       "metadata": {},
       "output_type": "pyout",
       "prompt_number": 15,
       "text": [
        "array([[  0.69135802,  -8.21350751,   0.47699214,  -0.38159371,\n",
        "        -24.95420797,   0.35241302],\n",
        "       [ -1.30864198,   7.78649249,   0.47699214,  -0.38159371,\n",
        "         39.07909203,  -0.64758698],\n",
        "       [  0.69135802,  -4.21350751,  -0.52300786,  -0.38159371,\n",
        "        -24.27920797,  -0.64758698],\n",
        "       ..., \n",
        "       [  0.69135802,   4.39825719,   0.47699214,   1.61840629,\n",
        "         -8.75420797,  -0.64758698],\n",
        "       [ -1.30864198,  -4.21350751,  -0.52300786,  -0.38159371,\n",
        "         -2.20420797,   0.35241302],\n",
        "       [  0.69135802,   1.78649249,  -0.52300786,  -0.38159371,\n",
        "        -24.45420797,   0.35241302]])"
       ]
      }
     ],
     "prompt_number": 15
    },
    {
     "cell_type": "code",
     "collapsed": false,
     "input": [
      "# create model & fit\n",
      "mod = LogisticRegression(C=0.1, penalty='l2')\n",
      "res = mod.fit(X_scaled,data[\"Survived\"])"
     ],
     "language": "python",
     "metadata": {},
     "outputs": [],
     "prompt_number": 16
    },
    {
     "cell_type": "markdown",
     "metadata": {},
     "source": [
      "#### b. For your model output, include coefficient values, residuals, and standard errors."
     ]
    },
    {
     "cell_type": "code",
     "collapsed": false,
     "input": [
      "\n",
      "print('Coefficients: %s'% mod.coef_)\n",
      "print(\"Residual sum of squares: %.3f\"\n",
      "      % np.mean((mod.predict(X_scaled) - data[\"Survived\"]) ** 2))\n"
     ],
     "language": "python",
     "metadata": {},
     "outputs": [
      {
       "output_type": "stream",
       "stream": "stdout",
       "text": [
        "Coefficients: [[-0.78073775 -0.0216353  -0.23847331 -0.04197287  0.00432468 -2.01927438]]\n",
        "Residual sum of squares: 0.203\n"
       ]
      }
     ],
     "prompt_number": 17
    },
    {
     "cell_type": "markdown",
     "metadata": {},
     "source": [
      "    **NOTE TO GRADER:** I'm not sure how to compute std errs so I'll use statsmodel.logit to get the summary here recognizing it is going to be slighty different than sklearn results\n"
     ]
    },
    {
     "cell_type": "code",
     "collapsed": false,
     "input": [
      "#turn results of scaler back to df for pretty output - i realize these are scaled not orignial vals\n",
      "dfX = pd.DataFrame(columns=train_cols, data=X_scaled)\n",
      "# create model & fit\n",
      "logit = sm.Logit(data[\"Survived\"], dfX)\n",
      "logit.fit().summary()"
     ],
     "language": "python",
     "metadata": {},
     "outputs": [
      {
       "output_type": "stream",
       "stream": "stdout",
       "text": [
        "Optimization terminated successfully.\n",
        "         Current function value: 0.478423\n",
        "         Iterations 6\n"
       ]
      },
      {
       "html": [
        "<table class=\"simpletable\">\n",
        "<caption>Logit Regression Results</caption>\n",
        "<tr>\n",
        "  <th>Dep. Variable:</th>     <td>Survived</td>     <th>  No. Observations:  </th>  <td>   891</td>  \n",
        "</tr>\n",
        "<tr>\n",
        "  <th>Model:</th>               <td>Logit</td>      <th>  Df Residuals:      </th>  <td>   885</td>  \n",
        "</tr>\n",
        "<tr>\n",
        "  <th>Method:</th>               <td>MLE</td>       <th>  Df Model:          </th>  <td>     5</td>  \n",
        "</tr>\n",
        "<tr>\n",
        "  <th>Date:</th>          <td>Mon, 26 May 2014</td> <th>  Pseudo R-squ.:     </th>  <td>0.2816</td>  \n",
        "</tr>\n",
        "<tr>\n",
        "  <th>Time:</th>              <td>21:24:39</td>     <th>  Log-Likelihood:    </th> <td> -426.28</td> \n",
        "</tr>\n",
        "<tr>\n",
        "  <th>converged:</th>           <td>True</td>       <th>  LL-Null:           </th> <td> -593.33</td> \n",
        "</tr>\n",
        "<tr>\n",
        "  <th> </th>                      <td> </td>        <th>  LLR p-value:       </th> <td>4.619e-70</td>\n",
        "</tr>\n",
        "</table>\n",
        "<table class=\"simpletable\">\n",
        "<tr>\n",
        "     <td></td>       <th>coef</th>     <th>std err</th>      <th>z</th>      <th>P>|z|</th> <th>[95.0% Conf. Int.]</th> \n",
        "</tr>\n",
        "<tr>\n",
        "  <th>Pclass</th> <td>   -0.8756</td> <td>    0.135</td> <td>   -6.495</td> <td> 0.000</td> <td>   -1.140    -0.611</td>\n",
        "</tr>\n",
        "<tr>\n",
        "  <th>Age</th>    <td>   -0.0228</td> <td>    0.006</td> <td>   -3.865</td> <td> 0.000</td> <td>   -0.034    -0.011</td>\n",
        "</tr>\n",
        "<tr>\n",
        "  <th>SibSp</th>  <td>   -0.2842</td> <td>    0.097</td> <td>   -2.926</td> <td> 0.003</td> <td>   -0.475    -0.094</td>\n",
        "</tr>\n",
        "<tr>\n",
        "  <th>Parch</th>  <td>   -0.1726</td> <td>    0.118</td> <td>   -1.464</td> <td> 0.143</td> <td>   -0.404     0.058</td>\n",
        "</tr>\n",
        "<tr>\n",
        "  <th>Fare</th>   <td>    0.0058</td> <td>    0.003</td> <td>    1.874</td> <td> 0.061</td> <td>   -0.000     0.012</td>\n",
        "</tr>\n",
        "<tr>\n",
        "  <th>bSex</th>   <td>   -2.8032</td> <td>    0.206</td> <td>  -13.606</td> <td> 0.000</td> <td>   -3.207    -2.399</td>\n",
        "</tr>\n",
        "</table>"
       ],
       "metadata": {},
       "output_type": "pyout",
       "prompt_number": 41,
       "text": [
        "<class 'statsmodels.iolib.summary.Summary'>\n",
        "\"\"\"\n",
        "                           Logit Regression Results                           \n",
        "==============================================================================\n",
        "Dep. Variable:               Survived   No. Observations:                  891\n",
        "Model:                          Logit   Df Residuals:                      885\n",
        "Method:                           MLE   Df Model:                            5\n",
        "Date:                Mon, 26 May 2014   Pseudo R-squ.:                  0.2816\n",
        "Time:                        21:24:39   Log-Likelihood:                -426.28\n",
        "converged:                       True   LL-Null:                       -593.33\n",
        "                                        LLR p-value:                 4.619e-70\n",
        "==============================================================================\n",
        "                 coef    std err          z      P>|z|      [95.0% Conf. Int.]\n",
        "------------------------------------------------------------------------------\n",
        "Pclass        -0.8756      0.135     -6.495      0.000        -1.140    -0.611\n",
        "Age           -0.0228      0.006     -3.865      0.000        -0.034    -0.011\n",
        "SibSp         -0.2842      0.097     -2.926      0.003        -0.475    -0.094\n",
        "Parch         -0.1726      0.118     -1.464      0.143        -0.404     0.058\n",
        "Fare           0.0058      0.003      1.874      0.061        -0.000     0.012\n",
        "bSex          -2.8032      0.206    -13.606      0.000        -3.207    -2.399\n",
        "==============================================================================\n",
        "\"\"\""
       ]
      }
     ],
     "prompt_number": 41
    },
    {
     "cell_type": "markdown",
     "metadata": {},
     "source": [
      "####c. Explain which features are predictive for this logistic regression and, intuitively, why you think this may be so. Describe your thinking / logic in words. It is not sufficient to cite output statistics."
     ]
    },
    {
     "cell_type": "markdown",
     "metadata": {},
     "source": [
      "- **Pclass** is very predictive - besides jiving w/ results in Q1, it makes sense that the wealty/powerful would be more likeley to be given priority/better equited to make themselves a priority, and were probably not in the bowels of the ship\n",
      "- **Age** - is very predictive - besides jiving w/ results in Q1, it makes sense that women and children would be spared, at lest those of a certain class...\n",
      "- **SibSP** - significant predictor - makes sense because groups of sibilngs would be less likely to split up, and it was likely harder to find lifeboats that could fit larger groups.\n",
      "- **Fare** - weaker predictor - I'm a little surprised that this does not have a stronger effect as it is likely highly correlated to Pclass\n",
      "- **bSex** - our strongest predictor - ladies first! - recall M are 0 in my data"
     ]
    },
    {
     "cell_type": "markdown",
     "metadata": {},
     "source": [
      "####d. Make sure that you can push new data points through your model to get regression output. We will be providing a test set for this purpose."
     ]
    },
    {
     "cell_type": "code",
     "collapsed": false,
     "input": [
      "#load test data\n",
      "data_test = pd.read_csv('titanic_test.csv')\n",
      "# convert sex to int, store in new col bSex - Males:1 Female:0\n",
      "data_test['bSex'] = data_test['Sex'].map(lambda x:  1 if x == 'male' else 0 )\n",
      "#fill in Age - same as with test set\n",
      "data_test.fillna(grouped_by_age_pclass, inplace=True)\n",
      "#data_test.info()"
     ],
     "language": "python",
     "metadata": {},
     "outputs": [],
     "prompt_number": 21
    },
    {
     "cell_type": "code",
     "collapsed": false,
     "input": [
      "# scale, predict, show LIMIT 5\n",
      "tst_scaled = scaler.transform(data_test[train_cols])\n",
      "y_predict = res.predict(tst_scaled)\n",
      "y_predict[:15]"
     ],
     "language": "python",
     "metadata": {},
     "outputs": [
      {
       "metadata": {},
       "output_type": "pyout",
       "prompt_number": 35,
       "text": [
        "array([0, 0, 0, 0, 1, 0, 1, 0, 1, 0, 0, 0, 1, 0, 1], dtype=int64)"
       ]
      }
     ],
     "prompt_number": 35
    },
    {
     "cell_type": "code",
     "collapsed": false,
     "input": [
      "y_pred_p = res.predict_proba(tst_scaled)\n",
      "y_pred_p[:15]"
     ],
     "language": "python",
     "metadata": {},
     "outputs": [
      {
       "metadata": {},
       "output_type": "pyout",
       "prompt_number": 36,
       "text": [
        "array([[ 0.86547249,  0.13452751],\n",
        "       [ 0.58776487,  0.41223513],\n",
        "       [ 0.84126938,  0.15873062],\n",
        "       [ 0.84496423,  0.15503577],\n",
        "       [ 0.45833602,  0.54166398],\n",
        "       [ 0.80407284,  0.19592716],\n",
        "       [ 0.43677491,  0.56322509],\n",
        "       [ 0.74758215,  0.25241785],\n",
        "       [ 0.37468846,  0.62531154],\n",
        "       [ 0.87823216,  0.12176784],\n",
        "       [ 0.82374373,  0.17625627],\n",
        "       [ 0.61544397,  0.38455603],\n",
        "       [ 0.1139015 ,  0.8860985 ],\n",
        "       [ 0.86497791,  0.13502209],\n",
        "       [ 0.19138559,  0.80861441]])"
       ]
      }
     ],
     "prompt_number": 36
    },
    {
     "cell_type": "markdown",
     "metadata": {},
     "source": [
      "** Question:** Does LogisticRegression just pick .5 as a default?  Would seem so."
     ]
    },
    {
     "cell_type": "markdown",
     "metadata": {},
     "source": [
      "## Question 3:\n",
      "####3.a Implement cross-validation for your logistic regression. "
     ]
    },
    {
     "cell_type": "code",
     "collapsed": false,
     "input": [
      "# do it again using cv\n",
      "from sklearn.cross_validation import cross_val_score\n",
      "scores = cross_val_score(mod, X_scaled, data['Survived'], cv=4)\n",
      "scores"
     ],
     "language": "python",
     "metadata": {},
     "outputs": [
      {
       "metadata": {},
       "output_type": "pyout",
       "prompt_number": 45,
       "text": [
        "array([ 0.78475336,  0.80269058,  0.79820628,  0.77927928])"
       ]
      }
     ],
     "prompt_number": 45
    },
    {
     "cell_type": "markdown",
     "metadata": {},
     "source": [
      "####3.b Pick the number of folds. Explain your choice."
     ]
    },
    {
     "cell_type": "markdown",
     "metadata": {},
     "source": [
      "    I chose 4 so that we had a decent n in the test set each time (n=222).  I tessted much larger numbers which is cheap w/ such a small data set, but results seemed more spurious."
     ]
    },
    {
     "cell_type": "markdown",
     "metadata": {},
     "source": [
      "## Question 4:\n",
      "\n",
      "####Create an ROC curve for your logistic regression by varying the threshold value for survival.\n",
      "\n",
      "####a. Plot this ROC curve visually."
     ]
    },
    {
     "cell_type": "code",
     "collapsed": false,
     "input": [
      "from sklearn.metrics import roc_curve\n",
      "from sklearn.metrics import auc\n",
      "\n",
      "def plot_roc_curve(target_test, target_predicted_proba):\n",
      "    fpr, tpr, thresholds = roc_curve(target_test, target_predicted_proba[:, 1])\n",
      "\n",
      "    roc_auc = auc(fpr, tpr)\n",
      "    # Plot ROC curve\n",
      "    plt.plot(fpr, tpr, label='ROC curve (area = %0.3f)' % roc_auc)\n",
      "    plt.plot([0, 1], [0, 1], 'k--')  # random predictions curve\n",
      "    plt.xlim([0.0, 1.0])\n",
      "    plt.ylim([0.0, 1.0])\n",
      "    plt.xlabel('False Positive Rate or (1 - Specifity)')\n",
      "    plt.ylabel('True Positive Rate or (Sensitivity)')\n",
      "    plt.title('Receiver Operating Characteristic')\n",
      "    plt.legend(loc=\"lower right\")\n",
      "    return pd.concat([pd.Series(fpr), pd.Series(tpr), pd.Series(thresholds)], axis=1, ignore_index=True)"
     ],
     "language": "python",
     "metadata": {},
     "outputs": [],
     "prompt_number": 102
    },
    {
     "cell_type": "code",
     "collapsed": false,
     "input": [
      "predicted_proba = mod.predict_proba(X_scaled)\n",
      "df = plot_roc_curve(data['Survived'], predicted_proba)"
     ],
     "language": "python",
     "metadata": {},
     "outputs": [
      {
       "metadata": {},
       "output_type": "display_data",
       "png": "[encoded data removed]",
       "text": [
        "<matplotlib.figure.Figure at 0x1614fbe0>"
       ]
      }
     ],
     "prompt_number": 103
    },
    {
     "cell_type": "markdown",
     "metadata": {},
     "source": [
      "####b. What is the AUC for your model?"
     ]
    },
    {
     "cell_type": "markdown",
     "metadata": {},
     "source": [
      " - 0.849"
     ]
    },
    {
     "cell_type": "markdown",
     "metadata": {},
     "source": [
      "####c. Explain why the model has achieved this level of accuracy/precision."
     ]
    },
    {
     "cell_type": "markdown",
     "metadata": {},
     "source": [
      "    AUC of .85 is pretty good - a solid B.  Scaling the data and using grid search to optimize parameters helped improve the model."
     ]
    },
    {
     "cell_type": "markdown",
     "metadata": {},
     "source": [
      "####d. Explain how you could improve these metrics, as potential next steps."
     ]
    },
    {
     "cell_type": "markdown",
     "metadata": {},
     "source": [
      "    remove some independent variables that are not very strong predictors\n",
      "    increase the sample size\n",
      "    investigate if PCA yeilded independent vars that worked better, deal w/ multicolinarity in the data - say b/t class & fare, sib & parch\n",
      "    "
     ]
    },
    {
     "cell_type": "markdown",
     "metadata": {},
     "source": [
      "####e. Armed with this knowledge, what threshold value would you use? Why? Describe your thinking."
     ]
    },
    {
     "cell_type": "markdown",
     "metadata": {},
     "source": [
      "    In this example I don't have a strong preference for specificity over sensitivity so I would pick a thrshold wehre that was well balanced - roughly .8 in this case"
     ]
    },
    {
     "cell_type": "code",
     "collapsed": false,
     "input": [],
     "language": "python",
     "metadata": {},
     "outputs": []
    }
   ],
   "metadata": {}
  }
 ]
}