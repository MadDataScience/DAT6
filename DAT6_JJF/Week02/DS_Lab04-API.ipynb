{
 "metadata": {
  "celltoolbar": "Slideshow",
  "name": "",
  "signature": "sha256:d013ae4ae23fbb3d20728fd4a5d73a8785afabb631db39acbc1948c67b6c488e"
 },
 "nbformat": 3,
 "nbformat_minor": 0,
 "worksheets": [
  {
   "cells": [
    {
     "cell_type": "markdown",
     "metadata": {
      "slideshow": {
       "slide_type": "slide"
      }
     },
     "source": [
      "Lab\n",
      "===================\n",
      "Twitter & MongoDB\n",
      "-------------------\n",
      "Alessandro D. Gagliardi"
     ]
    },
    {
     "cell_type": "markdown",
     "metadata": {
      "slideshow": {
       "slide_type": "subslide"
      }
     },
     "source": [
      "Importing Libraries\n",
      "-------------------"
     ]
    },
    {
     "cell_type": "code",
     "collapsed": false,
     "input": [
      "# standard library:\n",
      "import os  \n",
      "\n",
      "from pprint import pprint\n",
      "\n",
      "# other modules:\n",
      "import matplotlib.pyplot as plt\n",
      "import pandas as pd\n",
      "import twitter\n",
      "import yaml\n",
      "\n",
      "from pymongo import MongoClient\n",
      "%matplotlib inline"
     ],
     "language": "python",
     "metadata": {
      "slideshow": {
       "slide_type": "-"
      }
     },
     "outputs": []
    },
    {
     "cell_type": "markdown",
     "metadata": {
      "slideshow": {
       "slide_type": "slide"
      }
     },
     "source": [
      "Twitter Trends\n",
      "=============="
     ]
    },
    {
     "cell_type": "heading",
     "level": 3,
     "metadata": {
      "slideshow": {
       "slide_type": "subslide"
      }
     },
     "source": [
      "Connect to Twitter:"
     ]
    },
    {
     "cell_type": "code",
     "collapsed": false,
     "input": [
      "credentials = yaml.load(open('E:\\\\GOOGLEDRIVE\\\\Google Drive\\\\Personal\\\\GA\\\\Class\\\\data\\\\twitter.api_cred.yml'))\n",
      "\n",
      "auth = twitter.oauth.OAuth(credentials['ACCESS_TOKEN'], \n",
      "                           credentials['ACCESS_TOKEN_SECRET'],\n",
      "                           credentials['API_KEY'],\n",
      "                           credentials['API_SECRET'])\n",
      "\n",
      "twitter_api = twitter.Twitter(auth=auth)\n",
      "type(twitter_api)"
     ],
     "language": "python",
     "metadata": {
      "slideshow": {
       "slide_type": "-"
      }
     },
     "outputs": []
    },
    {
     "cell_type": "code",
     "collapsed": false,
     "input": [
      "# The Yahoo! Where On Earth ID for the entire world is 1.\n",
      "# See https://dev.twitter.com/docs/api/1.1/get/trends/place and\n",
      "# http://developer.yahoo.com/geo/geoplanet/\n",
      "\n",
      "WORLD_WOE_ID = 1\n",
      "US_WOE_ID = 23424977\n",
      "\n",
      "# Prefix ID with the underscore for query string parameterization.\n",
      "# Without the underscore, the twitter package appends the ID value\n",
      "# to the URL itself as a special case keyword argument.\n",
      "\n",
      "world_trends = twitter_api.trends.place(_id=WORLD_WOE_ID)\n",
      "us_trends = twitter_api.trends.place(_id=US_WOE_ID)\n",
      "\n",
      "pprint(world_trends)"
     ],
     "language": "python",
     "metadata": {
      "slideshow": {
       "slide_type": "slide"
      }
     },
     "outputs": [
      {
       "output_type": "stream",
       "stream": "stdout",
       "text": [
        "[{u'as_of': u'2014-04-29T01:22:59Z',\n",
        "  u'created_at': u'2014-04-29T01:22:10Z',\n",
        "  u'locations': [{u'name': u'Worldwide', u'woeid': 1}],\n",
        "  u'trends': [{u'name': u'#IfICalledACoach',\n",
        "               u'promoted_content': None,\n",
        "               u'query': u'%23IfICalledACoach',\n",
        "               u'url': u'http://twitter.com/search?q=%23IfICalledACoach'},\n",
        "              {u'name': u'#ArjonaEnCALA',\n",
        "               u'promoted_content': None,\n",
        "               u'query': u'%23ArjonaEnCALA',\n",
        "               u'url': u'http://twitter.com/search?q=%23ArjonaEnCALA'},\n",
        "              {u'name': u'#UnaVezMeConquistaron',\n",
        "               u'promoted_content': None,\n",
        "               u'query': u'%23UnaVezMeConquistaron',\n",
        "               u'url': u'http://twitter.com/search?q=%23UnaVezMeConquistaron'},\n",
        "              {u'name': u'#BieberStoleFromParamore',\n",
        "               u'promoted_content': None,\n",
        "               u'query': u'%23BieberStoleFromParamore',\n",
        "               u'url': u'http://twitter.com/search?q=%23BieberStoleFromParamore'},\n",
        "              {u'name': u'#NadieMejorQueYo',\n",
        "               u'promoted_content': None,\n",
        "               u'query': u'%23NadieMejorQueYo',\n",
        "               u'url': u'http://twitter.com/search?q=%23NadieMejorQueYo'},\n",
        "              {u'name': u'Zayn Is An Angel',\n",
        "               u'promoted_content': None,\n",
        "               u'query': u'%22Zayn+Is+An+Angel%22',\n",
        "               u'url': u'http://twitter.com/search?q=%22Zayn+Is+An+Angel%22'},\n",
        "              {u'name': u'Clara Vende a Alian\\xe7a e Ajuda a Marina',\n",
        "               u'promoted_content': None,\n",
        "               u'query': u'%22Clara+Vende+a+Alian%C3%A7a+e+Ajuda+a+Marina%22',\n",
        "               u'url': u'http://twitter.com/search?q=%22Clara+Vende+a+Alian%C3%A7a+e+Ajuda+a+Marina%22'},\n",
        "              {u'name': u'Biasa Aja Kheleus',\n",
        "               u'promoted_content': None,\n",
        "               u'query': u'%22Biasa+Aja+Kheleus%22',\n",
        "               u'url': u'http://twitter.com/search?q=%22Biasa+Aja+Kheleus%22'},\n",
        "              {u'name': u'Katy Keene',\n",
        "               u'promoted_content': None,\n",
        "               u'query': u'%22Katy+Keene%22',\n",
        "               u'url': u'http://twitter.com/search?q=%22Katy+Keene%22'},\n",
        "              {u'name': u'Last JOX',\n",
        "               u'promoted_content': None,\n",
        "               u'query': u'%22Last+JOX%22',\n",
        "               u'url': u'http://twitter.com/search?q=%22Last+JOX%22'}]}]\n"
       ]
      }
     ],
     "prompt_number": 19
    },
    {
     "cell_type": "code",
     "collapsed": false,
     "input": [
      "pprint(us_trends)"
     ],
     "language": "python",
     "metadata": {
      "slideshow": {
       "slide_type": "subslide"
      }
     },
     "outputs": [
      {
       "output_type": "stream",
       "stream": "stdout",
       "text": [
        "[{u'as_of': u'2014-04-29T01:22:59Z',\n",
        "  u'created_at': u'2014-04-29T01:17:57Z',\n",
        "  u'locations': [{u'name': u'United States', u'woeid': 23424977}],\n",
        "  u'trends': [{u'name': u'Last JOX',\n",
        "               u'promoted_content': None,\n",
        "               u'query': u'%22Last+JOX%22',\n",
        "               u'url': u'http://twitter.com/search?q=%22Last+JOX%22'},\n",
        "              {u'name': u'#FastFirebirds',\n",
        "               u'promoted_content': None,\n",
        "               u'query': u'%23FastFirebirds',\n",
        "               u'url': u'http://twitter.com/search?q=%23FastFirebirds'},\n",
        "              {u'name': u'#bbwlareunion',\n",
        "               u'promoted_content': None,\n",
        "               u'query': u'%23bbwlareunion',\n",
        "               u'url': u'http://twitter.com/search?q=%23bbwlareunion'},\n",
        "              {u'name': u\"Who's in New York\",\n",
        "               u'promoted_content': None,\n",
        "               u'query': u'%22Who%27s+in+New+York%22',\n",
        "               u'url': u'http://twitter.com/search?q=%22Who%27s+in+New+York%22'},\n",
        "              {u'name': u'#IfICalledACoach',\n",
        "               u'promoted_content': None,\n",
        "               u'query': u'%23IfICalledACoach',\n",
        "               u'url': u'http://twitter.com/search?q=%23IfICalledACoach'},\n",
        "              {u'name': u'#dwtsshirtoff',\n",
        "               u'promoted_content': None,\n",
        "               u'query': u'%23dwtsshirtoff',\n",
        "               u'url': u'http://twitter.com/search?q=%23dwtsshirtoff'},\n",
        "              {u'name': u'Pretty Woman',\n",
        "               u'promoted_content': None,\n",
        "               u'query': u'%22Pretty+Woman%22',\n",
        "               u'url': u'http://twitter.com/search?q=%22Pretty+Woman%22'},\n",
        "              {u'name': u'#JustinToDC',\n",
        "               u'promoted_content': None,\n",
        "               u'query': u'%23JustinToDC',\n",
        "               u'url': u'http://twitter.com/search?q=%23JustinToDC'},\n",
        "              {u'name': u'LeBron vs the Bobcats',\n",
        "               u'promoted_content': None,\n",
        "               u'query': u'%22LeBron+vs+the+Bobcats%22',\n",
        "               u'url': u'http://twitter.com/search?q=%22LeBron+vs+the+Bobcats%22'},\n",
        "              {u'name': u'Mike Scott',\n",
        "               u'promoted_content': None,\n",
        "               u'query': u'%22Mike+Scott%22',\n",
        "               u'url': u'http://twitter.com/search?q=%22Mike+Scott%22'}]}]\n"
       ]
      }
     ],
     "prompt_number": 20
    },
    {
     "cell_type": "heading",
     "level": 3,
     "metadata": {
      "slideshow": {
       "slide_type": "subslide"
      }
     },
     "source": [
      "Do any of these trends intersect?"
     ]
    },
    {
     "cell_type": "code",
     "collapsed": false,
     "input": [
      "world_trends_set = set([trend['name'] for trends in world_trends\n",
      "                        for trend in trends['trends']])\n",
      "\n",
      "us_trends_set = set([trend['name'] for trends in us_trends\n",
      "                     for trend in trends['trends']]) \n",
      "\n",
      "world_trends_set.intersection(us_trends_set)"
     ],
     "language": "python",
     "metadata": {
      "slideshow": {
       "slide_type": "fragment"
      }
     },
     "outputs": [
      {
       "metadata": {},
       "output_type": "pyout",
       "prompt_number": 21,
       "text": [
        "{u'#IfICalledACoach', u'Last JOX'}"
       ]
      }
     ],
     "prompt_number": 21
    },
    {
     "cell_type": "markdown",
     "metadata": {
      "slideshow": {
       "slide_type": "slide"
      }
     },
     "source": [
      "Twitter Statuses\n",
      "================"
     ]
    },
    {
     "cell_type": "code",
     "collapsed": false,
     "input": [
      "q = world_trends[0]['trends'][0]['name']\n",
      "print \"Query term \\\"%s\\\"\" %q\n",
      "\n",
      "count = 100\n",
      "\n",
      "# See https://dev.twitter.com/docs/api/1.1/get/search/tweets\n",
      "\n",
      "search_results = twitter_api.search.tweets(q=q, count=count)\n",
      "print type(search_results)\n",
      "\n",
      "statuses = search_results['statuses']"
     ],
     "language": "python",
     "metadata": {
      "slideshow": {
       "slide_type": "fragment"
      }
     },
     "outputs": [
      {
       "output_type": "stream",
       "stream": "stdout",
       "text": [
        "Query term \"#IfICalledACoach\"\n",
        "<class 'twitter.api.TwitterDictResponse'>"
       ]
      },
      {
       "output_type": "stream",
       "stream": "stdout",
       "text": [
        "\n"
       ]
      }
     ],
     "prompt_number": 22
    },
    {
     "cell_type": "code",
     "collapsed": false,
     "input": [
      "len(statuses)"
     ],
     "language": "python",
     "metadata": {
      "slideshow": {
       "slide_type": "fragment"
      }
     },
     "outputs": []
    },
    {
     "cell_type": "heading",
     "level": 3,
     "metadata": {
      "slideshow": {
       "slide_type": "subslide"
      }
     },
     "source": [
      "\n",
      "\n",
      "More?"
     ]
    },
    {
     "cell_type": "code",
     "collapsed": false,
     "input": [
      "search_results['search_metadata'].get('next_results')"
     ],
     "language": "python",
     "metadata": {
      "slideshow": {
       "slide_type": "fragment"
      }
     },
     "outputs": []
    },
    {
     "cell_type": "code",
     "collapsed": false,
     "input": [
      "if 'next_results' in search_results['search_metadata']:\n",
      "    next_results = search_results['search_metadata']['next_results']\n",
      "    kwargs = dict([ kv.split('=') for kv in next_results[1:].split(\"&\") ])\n",
      "    search_results = twitter_api.search.tweets(**kwargs)\n",
      "    statuses += search_results['statuses']\n",
      "\n",
      "len(statuses)"
     ],
     "language": "python",
     "metadata": {
      "slideshow": {
       "slide_type": "fragment"
      }
     },
     "outputs": [
      {
       "metadata": {},
       "output_type": "pyout",
       "prompt_number": 23,
       "text": [
        "200"
       ]
      }
     ],
     "prompt_number": 23
    },
    {
     "cell_type": "markdown",
     "metadata": {
      "slideshow": {
       "slide_type": "slide"
      }
     },
     "source": [
      "Mongo\n",
      "====="
     ]
    },
    {
     "cell_type": "markdown",
     "metadata": {
      "slideshow": {
       "slide_type": "subslide"
      }
     },
     "source": [
      "from the command line:\n",
      "```bash\n",
      "$ mkdir -p data/db\n",
      "$ mongod --dbpath data/db\n",
      "```"
     ]
    },
    {
     "cell_type": "heading",
     "level": 3,
     "metadata": {
      "slideshow": {
       "slide_type": "slide"
      }
     },
     "source": [
      "Connect to our Mongo database management server (DBMS):"
     ]
    },
    {
     "cell_type": "code",
     "collapsed": false,
     "input": [
      "c = MongoClient()"
     ],
     "language": "python",
     "metadata": {
      "slideshow": {
       "slide_type": "fragment"
      }
     },
     "outputs": [],
     "prompt_number": 24
    },
    {
     "cell_type": "heading",
     "level": 4,
     "metadata": {
      "slideshow": {
       "slide_type": "fragment"
      }
     },
     "source": [
      "    Create a database called `twitter`:"
     ]
    },
    {
     "cell_type": "code",
     "collapsed": false,
     "input": [
      "db = c.twitter"
     ],
     "language": "python",
     "metadata": {
      "slideshow": {
       "slide_type": "fragment"
      }
     },
     "outputs": [],
     "prompt_number": 25
    },
    {
     "cell_type": "markdown",
     "metadata": {
      "slideshow": {
       "slide_type": "notes"
      }
     },
     "source": [
      "##### Yes, it's that easy."
     ]
    },
    {
     "cell_type": "heading",
     "level": 4,
     "metadata": {
      "slideshow": {
       "slide_type": "slide"
      }
     },
     "source": [
      "Insert the results we pulled from Twitter and store them as a document in a collection named `tweets`:"
     ]
    },
    {
     "cell_type": "code",
     "collapsed": false,
     "input": [
      "db.tweets.drop()\n",
      "statuses_ids = db.tweets.insert(statuses)\n",
      "statuses_ids[:5]"
     ],
     "language": "python",
     "metadata": {
      "slideshow": {
       "slide_type": "fragment"
      }
     },
     "outputs": [
      {
       "metadata": {},
       "output_type": "pyout",
       "prompt_number": 26,
       "text": [
        "[ObjectId('535efef38a46d58a006fc409'),\n",
        " ObjectId('535efef38a46d58a006fc40a'),\n",
        " ObjectId('535efef38a46d58a006fc40b'),\n",
        " ObjectId('535efef38a46d58a006fc40c'),\n",
        " ObjectId('535efef38a46d58a006fc40d')]"
       ]
      }
     ],
     "prompt_number": 26
    },
    {
     "cell_type": "heading",
     "level": 3,
     "metadata": {
      "slideshow": {
       "slide_type": "slide"
      }
     },
     "source": [
      "`ObjectId`s"
     ]
    },
    {
     "cell_type": "markdown",
     "metadata": {
      "slideshow": {
       "slide_type": "fragment"
      }
     },
     "source": [
      "**ObjectId** is a 12-byte **BSON** type, constructed using:\n",
      "\n",
      "-    a 4-byte value representing the seconds since the Unix epoch,\n",
      "-    a 3-byte machine identifier,\n",
      "-    a 2-byte process id, and\n",
      "-    a 3-byte counter, starting with a random value.\n",
      "\n",
      "In MongoDB, documents stored in a collection require a unique `_id` field that acts as a **primary key**. Because ObjectIds are small, most likely unique, and fast to generate, MongoDB uses ObjectIds as the default value for the `_id` field if the `_id` field is not specified. \n",
      "\n",
      "<!--small><i>from http://docs.mongodb.org/manual/reference/object-id/</i></small-->"
     ]
    },
    {
     "cell_type": "markdown",
     "metadata": {
      "slideshow": {
       "slide_type": "notes"
      }
     },
     "source": [
      "Using ObjectIds for the `_id` field provides the following additional benefits:\n",
      "\n",
      "- you can access the insertion time of the ObjectId, using the `.generation_time` property in pymongo. \n",
      "- sorting on an `_id` field that stores ObjectId values is roughly equivalent to sorting by insertion time."
     ]
    },
    {
     "cell_type": "heading",
     "level": 3,
     "metadata": {
      "slideshow": {
       "slide_type": "slide"
      }
     },
     "source": [
      "Test the contents of our database:"
     ]
    },
    {
     "cell_type": "code",
     "collapsed": false,
     "input": [
      "c.database_names()"
     ],
     "language": "python",
     "metadata": {
      "slideshow": {
       "slide_type": "fragment"
      }
     },
     "outputs": [
      {
       "metadata": {},
       "output_type": "pyout",
       "prompt_number": 27,
       "text": [
        "[u'local', u'twitter', u'admin']"
       ]
      }
     ],
     "prompt_number": 27
    },
    {
     "cell_type": "code",
     "collapsed": false,
     "input": [
      "db = c.twitter\n",
      "db.collection_names()"
     ],
     "language": "python",
     "metadata": {
      "slideshow": {
       "slide_type": "fragment"
      }
     },
     "outputs": [
      {
       "metadata": {},
       "output_type": "pyout",
       "prompt_number": 28,
       "text": [
        "[u'system.indexes',\n",
        " u'TrendyTweetsCN',\n",
        " u'TrendyTweetsUS',\n",
        " u'myresults',\n",
        " u'tweets']"
       ]
      }
     ],
     "prompt_number": 28
    },
    {
     "cell_type": "code",
     "collapsed": false,
     "input": [
      "db.tweets.find_one()"
     ],
     "language": "python",
     "metadata": {
      "slideshow": {
       "slide_type": "fragment"
      }
     },
     "outputs": [
      {
       "metadata": {},
       "output_type": "pyout",
       "prompt_number": 29,
       "text": [
        "{u'_id': ObjectId('535efef38a46d58a006fc409'),\n",
        " u'contributors': None,\n",
        " u'coordinates': None,\n",
        " u'created_at': u'Tue Apr 29 01:22:52 +0000 2014',\n",
        " u'entities': {u'hashtags': [{u'indices': [67, 83],\n",
        "    u'text': u'IfIcalledacoach'}],\n",
        "  u'symbols': [],\n",
        "  u'urls': [],\n",
        "  u'user_mentions': [{u'id': 58528137,\n",
        "    u'id_str': u'58528137',\n",
        "    u'indices': [15, 26],\n",
        "    u'name': u'Adam Levine',\n",
        "    u'screen_name': u'adamlevine'},\n",
        "   {u'id': 14920785,\n",
        "    u'id_str': u'14920785',\n",
        "    u'indices': [53, 66],\n",
        "    u'name': u'Blake Shelton',\n",
        "    u'screen_name': u'blakeshelton'}]},\n",
        " u'favorite_count': 0,\n",
        " u'favorited': False,\n",
        " u'geo': None,\n",
        " u'id': 460952320981741568L,\n",
        " u'id_str': u'460952320981741568',\n",
        " u'in_reply_to_screen_name': None,\n",
        " u'in_reply_to_status_id': None,\n",
        " u'in_reply_to_status_id_str': None,\n",
        " u'in_reply_to_user_id': None,\n",
        " u'in_reply_to_user_id_str': None,\n",
        " u'lang': u'en',\n",
        " u'metadata': {u'iso_language_code': u'en', u'result_type': u'recent'},\n",
        " u'place': None,\n",
        " u'retweet_count': 0,\n",
        " u'retweeted': False,\n",
        " u'source': u'<a href=\"http://twitter.com/download/android\" rel=\"nofollow\">Twitter for Android</a>',\n",
        " u'text': u'I keep calling @adamlevine but no answer :( not even @blakeshelton #IfIcalledacoach',\n",
        " u'truncated': False,\n",
        " u'user': {u'contributors_enabled': False,\n",
        "  u'created_at': u'Fri Aug 02 22:47:22 +0000 2013',\n",
        "  u'default_profile': True,\n",
        "  u'default_profile_image': False,\n",
        "  u'description': u'Always & Forever',\n",
        "  u'entities': {u'description': {u'urls': []}},\n",
        "  u'favourites_count': 1,\n",
        "  u'follow_request_sent': False,\n",
        "  u'followers_count': 1,\n",
        "  u'following': False,\n",
        "  u'friends_count': 39,\n",
        "  u'geo_enabled': False,\n",
        "  u'id': 1641498218,\n",
        "  u'id_str': u'1641498218',\n",
        "  u'is_translation_enabled': False,\n",
        "  u'is_translator': False,\n",
        "  u'lang': u'en',\n",
        "  u'listed_count': 0,\n",
        "  u'location': u'',\n",
        "  u'name': u'Lily Gurung',\n",
        "  u'notifications': False,\n",
        "  u'profile_background_color': u'C0DEED',\n",
        "  u'profile_background_image_url': u'http://abs.twimg.com/images/themes/theme1/bg.png',\n",
        "  u'profile_background_image_url_https': u'https://abs.twimg.com/images/themes/theme1/bg.png',\n",
        "  u'profile_background_tile': False,\n",
        "  u'profile_image_url': u'http://pbs.twimg.com/profile_images/446333381861572608/cxyKRoI2_normal.jpeg',\n",
        "  u'profile_image_url_https': u'https://pbs.twimg.com/profile_images/446333381861572608/cxyKRoI2_normal.jpeg',\n",
        "  u'profile_link_color': u'0084B4',\n",
        "  u'profile_sidebar_border_color': u'C0DEED',\n",
        "  u'profile_sidebar_fill_color': u'DDEEF6',\n",
        "  u'profile_text_color': u'333333',\n",
        "  u'profile_use_background_image': True,\n",
        "  u'protected': False,\n",
        "  u'screen_name': u'IlianaGurung',\n",
        "  u'statuses_count': 10,\n",
        "  u'time_zone': None,\n",
        "  u'url': None,\n",
        "  u'utc_offset': None,\n",
        "  u'verified': False}}"
       ]
      }
     ],
     "prompt_number": 29
    },
    {
     "cell_type": "markdown",
     "metadata": {
      "slideshow": {
       "slide_type": "notes"
      }
     },
     "source": [
      "Notice the `_id` included in the document along with the values we already saw before."
     ]
    },
    {
     "cell_type": "markdown",
     "metadata": {
      "slideshow": {
       "slide_type": "slide"
      }
     },
     "source": [
      "Now that we have our data in MongoDB, we can use some of it's search functionality. For example:"
     ]
    },
    {
     "cell_type": "code",
     "collapsed": false,
     "input": [
      "popular_tweets = db.tweets.find({'retweet_count': {\"$gte\": 3}})\n",
      "popular_tweets.count()"
     ],
     "language": "python",
     "metadata": {
      "slideshow": {
       "slide_type": "fragment"
      }
     },
     "outputs": [
      {
       "metadata": {},
       "output_type": "pyout",
       "prompt_number": 30,
       "text": [
        "91"
       ]
      }
     ],
     "prompt_number": 30
    },
    {
     "cell_type": "markdown",
     "metadata": {
      "slideshow": {
       "slide_type": "slide"
      }
     },
     "source": [
      "Making Sense with Pandas\n",
      "========================"
     ]
    },
    {
     "cell_type": "code",
     "collapsed": false,
     "input": [
      "pd.DataFrame(db.tweets.find(fields=['created_at', 'retweet_count', 'favorite_count']))"
     ],
     "language": "python",
     "metadata": {
      "slideshow": {
       "slide_type": "slide"
      }
     },
     "outputs": [
      {
       "ename": "PandasError",
       "evalue": "DataFrame constructor not properly called!",
       "output_type": "pyerr",
       "traceback": [
        "\u001b[1;31m---------------------------------------------------------------------------\u001b[0m\n\u001b[1;31mPandasError\u001b[0m                               Traceback (most recent call last)",
        "\u001b[1;32m<ipython-input-31-87a1cfed5405>\u001b[0m in \u001b[0;36m<module>\u001b[1;34m()\u001b[0m\n\u001b[1;32m----> 1\u001b[1;33m \u001b[0mpd\u001b[0m\u001b[1;33m.\u001b[0m\u001b[0mDataFrame\u001b[0m\u001b[1;33m(\u001b[0m\u001b[0mdb\u001b[0m\u001b[1;33m.\u001b[0m\u001b[0mtweets\u001b[0m\u001b[1;33m.\u001b[0m\u001b[0mfind\u001b[0m\u001b[1;33m(\u001b[0m\u001b[0mfields\u001b[0m\u001b[1;33m=\u001b[0m\u001b[1;33m[\u001b[0m\u001b[1;34m'created_at'\u001b[0m\u001b[1;33m,\u001b[0m \u001b[1;34m'retweet_count'\u001b[0m\u001b[1;33m,\u001b[0m \u001b[1;34m'favorite_count'\u001b[0m\u001b[1;33m]\u001b[0m\u001b[1;33m)\u001b[0m\u001b[1;33m)\u001b[0m\u001b[1;33m\u001b[0m\u001b[0m\n\u001b[0m",
        "\u001b[1;32mC:\\Users\\Jeff.Fiore\\Anaconda\\lib\\site-packages\\pandas\\core\\frame.pyc\u001b[0m in \u001b[0;36m__init__\u001b[1;34m(self, data, index, columns, dtype, copy)\u001b[0m\n\u001b[0;32m    271\u001b[0m                                          copy=False)\n\u001b[0;32m    272\u001b[0m             \u001b[1;32melse\u001b[0m\u001b[1;33m:\u001b[0m\u001b[1;33m\u001b[0m\u001b[0m\n\u001b[1;32m--> 273\u001b[1;33m                 \u001b[1;32mraise\u001b[0m \u001b[0mPandasError\u001b[0m\u001b[1;33m(\u001b[0m\u001b[1;34m'DataFrame constructor not properly called!'\u001b[0m\u001b[1;33m)\u001b[0m\u001b[1;33m\u001b[0m\u001b[0m\n\u001b[0m\u001b[0;32m    274\u001b[0m \u001b[1;33m\u001b[0m\u001b[0m\n\u001b[0;32m    275\u001b[0m         \u001b[0mNDFrame\u001b[0m\u001b[1;33m.\u001b[0m\u001b[0m__init__\u001b[0m\u001b[1;33m(\u001b[0m\u001b[0mself\u001b[0m\u001b[1;33m,\u001b[0m \u001b[0mmgr\u001b[0m\u001b[1;33m,\u001b[0m \u001b[0mfastpath\u001b[0m\u001b[1;33m=\u001b[0m\u001b[0mTrue\u001b[0m\u001b[1;33m)\u001b[0m\u001b[1;33m\u001b[0m\u001b[0m\n",
        "\u001b[1;31mPandasError\u001b[0m: DataFrame constructor not properly called!"
       ]
      }
     ],
     "prompt_number": 31
    },
    {
     "cell_type": "code",
     "collapsed": false,
     "input": [
      "retweet_favorites = pd.DataFrame(list(db.tweets.find(fields=['created_at','retweet_count','favorite_count'])))\n",
      "retweet_favorites.head()"
     ],
     "language": "python",
     "metadata": {
      "slideshow": {
       "slide_type": "subslide"
      }
     },
     "outputs": [
      {
       "html": [
        "<div style=\"max-height:1000px;max-width:1500px;overflow:auto;\">\n",
        "<table border=\"1\" class=\"dataframe\">\n",
        "  <thead>\n",
        "    <tr style=\"text-align: right;\">\n",
        "      <th></th>\n",
        "      <th>_id</th>\n",
        "      <th>created_at</th>\n",
        "      <th>favorite_count</th>\n",
        "      <th>retweet_count</th>\n",
        "    </tr>\n",
        "  </thead>\n",
        "  <tbody>\n",
        "    <tr>\n",
        "      <th>0</th>\n",
        "      <td> 535efef38a46d58a006fc409</td>\n",
        "      <td> Tue Apr 29 01:22:52 +0000 2014</td>\n",
        "      <td> 0</td>\n",
        "      <td> 0</td>\n",
        "    </tr>\n",
        "    <tr>\n",
        "      <th>1</th>\n",
        "      <td> 535efef38a46d58a006fc412</td>\n",
        "      <td> Tue Apr 29 01:22:49 +0000 2014</td>\n",
        "      <td> 0</td>\n",
        "      <td> 0</td>\n",
        "    </tr>\n",
        "    <tr>\n",
        "      <th>2</th>\n",
        "      <td> 535efef38a46d58a006fc40a</td>\n",
        "      <td> Tue Apr 29 01:22:51 +0000 2014</td>\n",
        "      <td> 0</td>\n",
        "      <td> 0</td>\n",
        "    </tr>\n",
        "    <tr>\n",
        "      <th>3</th>\n",
        "      <td> 535efef38a46d58a006fc40b</td>\n",
        "      <td> Tue Apr 29 01:22:51 +0000 2014</td>\n",
        "      <td> 0</td>\n",
        "      <td> 0</td>\n",
        "    </tr>\n",
        "    <tr>\n",
        "      <th>4</th>\n",
        "      <td> 535efef38a46d58a006fc40c</td>\n",
        "      <td> Tue Apr 29 01:22:51 +0000 2014</td>\n",
        "      <td> 0</td>\n",
        "      <td> 5</td>\n",
        "    </tr>\n",
        "  </tbody>\n",
        "</table>\n",
        "<p>5 rows \u00d7 4 columns</p>\n",
        "</div>"
       ],
       "metadata": {},
       "output_type": "pyout",
       "prompt_number": 32,
       "text": [
        "                        _id                      created_at  favorite_count  \\\n",
        "0  535efef38a46d58a006fc409  Tue Apr 29 01:22:52 +0000 2014               0   \n",
        "1  535efef38a46d58a006fc412  Tue Apr 29 01:22:49 +0000 2014               0   \n",
        "2  535efef38a46d58a006fc40a  Tue Apr 29 01:22:51 +0000 2014               0   \n",
        "3  535efef38a46d58a006fc40b  Tue Apr 29 01:22:51 +0000 2014               0   \n",
        "4  535efef38a46d58a006fc40c  Tue Apr 29 01:22:51 +0000 2014               0   \n",
        "\n",
        "   retweet_count  \n",
        "0              0  \n",
        "1              0  \n",
        "2              0  \n",
        "3              0  \n",
        "4              5  \n",
        "\n",
        "[5 rows x 4 columns]"
       ]
      }
     ],
     "prompt_number": 32
    },
    {
     "cell_type": "markdown",
     "metadata": {
      "slideshow": {
       "slide_type": "slide"
      }
     },
     "source": [
      "`.describe()` is a useful method to get the gist of our data."
     ]
    },
    {
     "cell_type": "code",
     "collapsed": false,
     "input": [
      "retweet_favorites.describe()"
     ],
     "language": "python",
     "metadata": {
      "slideshow": {
       "slide_type": "-"
      }
     },
     "outputs": [
      {
       "html": [
        "<div style=\"max-height:1000px;max-width:1500px;overflow:auto;\">\n",
        "<table border=\"1\" class=\"dataframe\">\n",
        "  <thead>\n",
        "    <tr style=\"text-align: right;\">\n",
        "      <th></th>\n",
        "      <th>favorite_count</th>\n",
        "      <th>retweet_count</th>\n",
        "    </tr>\n",
        "  </thead>\n",
        "  <tbody>\n",
        "    <tr>\n",
        "      <th>count</th>\n",
        "      <td> 200.000000</td>\n",
        "      <td>  200.000000</td>\n",
        "    </tr>\n",
        "    <tr>\n",
        "      <th>mean</th>\n",
        "      <td>   0.015000</td>\n",
        "      <td>  460.420000</td>\n",
        "    </tr>\n",
        "    <tr>\n",
        "      <th>std</th>\n",
        "      <td>   0.121857</td>\n",
        "      <td> 1012.001928</td>\n",
        "    </tr>\n",
        "    <tr>\n",
        "      <th>min</th>\n",
        "      <td>   0.000000</td>\n",
        "      <td>    0.000000</td>\n",
        "    </tr>\n",
        "    <tr>\n",
        "      <th>25%</th>\n",
        "      <td>   0.000000</td>\n",
        "      <td>    0.000000</td>\n",
        "    </tr>\n",
        "    <tr>\n",
        "      <th>50%</th>\n",
        "      <td>   0.000000</td>\n",
        "      <td>    0.000000</td>\n",
        "    </tr>\n",
        "    <tr>\n",
        "      <th>75%</th>\n",
        "      <td>   0.000000</td>\n",
        "      <td>  503.000000</td>\n",
        "    </tr>\n",
        "    <tr>\n",
        "      <th>max</th>\n",
        "      <td>   1.000000</td>\n",
        "      <td> 3913.000000</td>\n",
        "    </tr>\n",
        "  </tbody>\n",
        "</table>\n",
        "<p>8 rows \u00d7 2 columns</p>\n",
        "</div>"
       ],
       "metadata": {},
       "output_type": "pyout",
       "prompt_number": 33,
       "text": [
        "       favorite_count  retweet_count\n",
        "count      200.000000     200.000000\n",
        "mean         0.015000     460.420000\n",
        "std          0.121857    1012.001928\n",
        "min          0.000000       0.000000\n",
        "25%          0.000000       0.000000\n",
        "50%          0.000000       0.000000\n",
        "75%          0.000000     503.000000\n",
        "max          1.000000    3913.000000\n",
        "\n",
        "[8 rows x 2 columns]"
       ]
      }
     ],
     "prompt_number": 33
    },
    {
     "cell_type": "markdown",
     "metadata": {
      "slideshow": {
       "slide_type": "subslide"
      }
     },
     "source": [
      "However, when applied to a DataFrame, it only describes numeric columns."
     ]
    },
    {
     "cell_type": "code",
     "collapsed": false,
     "input": [
      "retweet_favorites.dtypes"
     ],
     "language": "python",
     "metadata": {
      "slideshow": {
       "slide_type": "-"
      }
     },
     "outputs": [
      {
       "metadata": {},
       "output_type": "pyout",
       "prompt_number": 34,
       "text": [
        "_id               object\n",
        "created_at        object\n",
        "favorite_count     int64\n",
        "retweet_count      int64\n",
        "dtype: object"
       ]
      }
     ],
     "prompt_number": 34
    },
    {
     "cell_type": "markdown",
     "metadata": {
      "slideshow": {
       "slide_type": "subslide"
      }
     },
     "source": [
      "`.describe()` can be called on individual columns (i.e. `Series`), even if they are not numeric."
     ]
    },
    {
     "cell_type": "code",
     "collapsed": false,
     "input": [
      "retweet_favorites.created_at.describe()"
     ],
     "language": "python",
     "metadata": {
      "slideshow": {
       "slide_type": "-"
      }
     },
     "outputs": [
      {
       "metadata": {},
       "output_type": "pyout",
       "prompt_number": 35,
       "text": [
        "count                                200\n",
        "unique                                54\n",
        "top       Tue Apr 29 01:22:38 +0000 2014\n",
        "freq                                  10\n",
        "Name: created_at, dtype: object"
       ]
      }
     ],
     "prompt_number": 35
    },
    {
     "cell_type": "markdown",
     "metadata": {
      "slideshow": {
       "slide_type": "fragment"
      }
     },
     "source": [
      "However, in this case `created_at` is being treated as a string, which is not very helpful. We can fix that with `pandas.to_datetime`:"
     ]
    },
    {
     "cell_type": "code",
     "collapsed": false,
     "input": [
      "retweet_favorites.created_at.map(pd.to_datetime).describe()"
     ],
     "language": "python",
     "metadata": {
      "slideshow": {
       "slide_type": "fragment"
      }
     },
     "outputs": [
      {
       "metadata": {},
       "output_type": "pyout",
       "prompt_number": 36,
       "text": [
        "count                     200\n",
        "unique                     54\n",
        "first     2014-04-29 01:21:57\n",
        "last      2014-04-29 01:22:52\n",
        "top       2014-04-29 01:22:38\n",
        "freq                       10\n",
        "Name: created_at, dtype: object"
       ]
      }
     ],
     "prompt_number": 36
    },
    {
     "cell_type": "markdown",
     "metadata": {
      "slideshow": {
       "slide_type": "notes"
      }
     },
     "source": [
      "Not all that interesting though, since all of these tweets were collected within a couple seconds of each other."
     ]
    },
    {
     "cell_type": "markdown",
     "metadata": {
      "slideshow": {
       "slide_type": "slide"
      }
     },
     "source": [
      "Mongo allows us to access subfields directly."
     ]
    },
    {
     "cell_type": "code",
     "collapsed": false,
     "input": [
      "mentions_followers = list(db.tweets.find(fields=['entities.user_mentions', 'user.followers_count']))\n",
      "pd.DataFrame(mentions_followers).head()"
     ],
     "language": "python",
     "metadata": {
      "slideshow": {
       "slide_type": "-"
      }
     },
     "outputs": [
      {
       "html": [
        "<div style=\"max-height:1000px;max-width:1500px;overflow:auto;\">\n",
        "<table border=\"1\" class=\"dataframe\">\n",
        "  <thead>\n",
        "    <tr style=\"text-align: right;\">\n",
        "      <th></th>\n",
        "      <th>_id</th>\n",
        "      <th>entities</th>\n",
        "      <th>user</th>\n",
        "    </tr>\n",
        "  </thead>\n",
        "  <tbody>\n",
        "    <tr>\n",
        "      <th>0</th>\n",
        "      <td> 535efef38a46d58a006fc409</td>\n",
        "      <td> {u'user_mentions': [{u'indices': [15, 26], u's...</td>\n",
        "      <td>    {u'followers_count': 1}</td>\n",
        "    </tr>\n",
        "    <tr>\n",
        "      <th>1</th>\n",
        "      <td> 535efef38a46d58a006fc412</td>\n",
        "      <td> {u'user_mentions': [{u'indices': [63, 74], u's...</td>\n",
        "      <td>   {u'followers_count': 25}</td>\n",
        "    </tr>\n",
        "    <tr>\n",
        "      <th>2</th>\n",
        "      <td> 535efef38a46d58a006fc40a</td>\n",
        "      <td>                            {u'user_mentions': []}</td>\n",
        "      <td> {u'followers_count': 4190}</td>\n",
        "    </tr>\n",
        "    <tr>\n",
        "      <th>3</th>\n",
        "      <td> 535efef38a46d58a006fc40b</td>\n",
        "      <td> {u'user_mentions': [{u'indices': [91, 103], u'...</td>\n",
        "      <td>   {u'followers_count': 31}</td>\n",
        "    </tr>\n",
        "    <tr>\n",
        "      <th>4</th>\n",
        "      <td> 535efef38a46d58a006fc40c</td>\n",
        "      <td> {u'user_mentions': [{u'indices': [3, 16], u'sc...</td>\n",
        "      <td>   {u'followers_count': 90}</td>\n",
        "    </tr>\n",
        "  </tbody>\n",
        "</table>\n",
        "<p>5 rows \u00d7 3 columns</p>\n",
        "</div>"
       ],
       "metadata": {},
       "output_type": "pyout",
       "prompt_number": 37,
       "text": [
        "                        _id  \\\n",
        "0  535efef38a46d58a006fc409   \n",
        "1  535efef38a46d58a006fc412   \n",
        "2  535efef38a46d58a006fc40a   \n",
        "3  535efef38a46d58a006fc40b   \n",
        "4  535efef38a46d58a006fc40c   \n",
        "\n",
        "                                            entities  \\\n",
        "0  {u'user_mentions': [{u'indices': [15, 26], u's...   \n",
        "1  {u'user_mentions': [{u'indices': [63, 74], u's...   \n",
        "2                             {u'user_mentions': []}   \n",
        "3  {u'user_mentions': [{u'indices': [91, 103], u'...   \n",
        "4  {u'user_mentions': [{u'indices': [3, 16], u'sc...   \n",
        "\n",
        "                         user  \n",
        "0     {u'followers_count': 1}  \n",
        "1    {u'followers_count': 25}  \n",
        "2  {u'followers_count': 4190}  \n",
        "3    {u'followers_count': 31}  \n",
        "4    {u'followers_count': 90}  \n",
        "\n",
        "[5 rows x 3 columns]"
       ]
      }
     ],
     "prompt_number": 37
    },
    {
     "cell_type": "markdown",
     "metadata": {
      "slideshow": {
       "slide_type": "subslide"
      }
     },
     "source": [
      "Pandas doesn't know how to parse the sub-documents however, so we must tell it explicitly:"
     ]
    },
    {
     "cell_type": "code",
     "collapsed": false,
     "input": [
      "mentions_followers_df = pd.DataFrame({'user_mentions': len(tweet['entities']['user_mentions']), \n",
      "              'followers_count': tweet['user'].get('followers_count')} for tweet in mentions_followers)\n",
      "mentions_followers_df.head()"
     ],
     "language": "python",
     "metadata": {
      "slideshow": {
       "slide_type": "-"
      }
     },
     "outputs": [
      {
       "html": [
        "<div style=\"max-height:1000px;max-width:1500px;overflow:auto;\">\n",
        "<table border=\"1\" class=\"dataframe\">\n",
        "  <thead>\n",
        "    <tr style=\"text-align: right;\">\n",
        "      <th></th>\n",
        "      <th>followers_count</th>\n",
        "      <th>user_mentions</th>\n",
        "    </tr>\n",
        "  </thead>\n",
        "  <tbody>\n",
        "    <tr>\n",
        "      <th>0</th>\n",
        "      <td>    1</td>\n",
        "      <td> 2</td>\n",
        "    </tr>\n",
        "    <tr>\n",
        "      <th>1</th>\n",
        "      <td>   25</td>\n",
        "      <td> 1</td>\n",
        "    </tr>\n",
        "    <tr>\n",
        "      <th>2</th>\n",
        "      <td> 4190</td>\n",
        "      <td> 0</td>\n",
        "    </tr>\n",
        "    <tr>\n",
        "      <th>3</th>\n",
        "      <td>   31</td>\n",
        "      <td> 3</td>\n",
        "    </tr>\n",
        "    <tr>\n",
        "      <th>4</th>\n",
        "      <td>   90</td>\n",
        "      <td> 3</td>\n",
        "    </tr>\n",
        "  </tbody>\n",
        "</table>\n",
        "<p>5 rows \u00d7 2 columns</p>\n",
        "</div>"
       ],
       "metadata": {},
       "output_type": "pyout",
       "prompt_number": 38,
       "text": [
        "   followers_count  user_mentions\n",
        "0                1              2\n",
        "1               25              1\n",
        "2             4190              0\n",
        "3               31              3\n",
        "4               90              3\n",
        "\n",
        "[5 rows x 2 columns]"
       ]
      }
     ],
     "prompt_number": 38
    },
    {
     "cell_type": "markdown",
     "metadata": {
      "slideshow": {
       "slide_type": "slide"
      }
     },
     "source": [
      "Perhaps `user_mentions` and `followers_count` are correlated?"
     ]
    },
    {
     "cell_type": "code",
     "collapsed": false,
     "input": [
      "plt.scatter(mentions_followers_df.user_mentions, mentions_followers_df.followers_count)\n",
      "mentions_followers_df.corr()"
     ],
     "language": "python",
     "metadata": {
      "slideshow": {
       "slide_type": "-"
      }
     },
     "outputs": [
      {
       "html": [
        "<div style=\"max-height:1000px;max-width:1500px;overflow:auto;\">\n",
        "<table border=\"1\" class=\"dataframe\">\n",
        "  <thead>\n",
        "    <tr style=\"text-align: right;\">\n",
        "      <th></th>\n",
        "      <th>followers_count</th>\n",
        "      <th>user_mentions</th>\n",
        "    </tr>\n",
        "  </thead>\n",
        "  <tbody>\n",
        "    <tr>\n",
        "      <th>followers_count</th>\n",
        "      <td> 1.000000</td>\n",
        "      <td>-0.121134</td>\n",
        "    </tr>\n",
        "    <tr>\n",
        "      <th>user_mentions</th>\n",
        "      <td>-0.121134</td>\n",
        "      <td> 1.000000</td>\n",
        "    </tr>\n",
        "  </tbody>\n",
        "</table>\n",
        "<p>2 rows \u00d7 2 columns</p>\n",
        "</div>"
       ],
       "metadata": {},
       "output_type": "pyout",
       "prompt_number": 39,
       "text": [
        "                 followers_count  user_mentions\n",
        "followers_count         1.000000      -0.121134\n",
        "user_mentions          -0.121134       1.000000\n",
        "\n",
        "[2 rows x 2 columns]"
       ]
      },
      {
       "metadata": {},
       "output_type": "display_data",
       "png": "[encoded data removed]",
       "text": [
        "<matplotlib.figure.Figure at 0xcdbf198>"
       ]
      }
     ],
     "prompt_number": 39
    },
    {
     "cell_type": "markdown",
     "metadata": {
      "slideshow": {
       "slide_type": "fragment"
      }
     },
     "source": [
      "Perhaps not."
     ]
    },
    {
     "cell_type": "markdown",
     "metadata": {
      "slideshow": {
       "slide_type": "slide"
      }
     },
     "source": [
      "Lab\n",
      "============\n",
      "1-2 Pairs\n",
      "------------"
     ]
    },
    {
     "cell_type": "markdown",
     "metadata": {
      "slideshow": {
       "slide_type": "notes"
      }
     },
     "source": [
      "Raise two fingers if you understand the material well.  \n",
      "Raise one finger if you understand this material OK.  \n",
      "Now, 1 find a 2 and sit next to them. While you work through this exercise, only 1's can type."
     ]
    },
    {
     "cell_type": "markdown",
     "metadata": {
      "slideshow": {
       "slide_type": "fragment"
      }
     },
     "source": [
      "The [Yahoo! Where On Earth ID](https://developer.yahoo.com/geo/geoplanet/) of Canada is 23424775.  \n",
      "Use it to find Twitter trends in Canada and compare it to US trends. What's the difference between them?  \n",
      "\n",
      "- Insert the last 100 tweets for all Canada-only trends into a `canada` collection.  \n",
      "- Insert the last 100 tweets for all US-only trends into a `us` collections.  \n",
      "- For this (small and not very representative) sample, which users have the highest `follower_count`?"
     ]
    },
    {
     "cell_type": "code",
     "collapsed": false,
     "input": [
      "WORLD_WOE_ID = 1\n",
      "US_WOE_ID = 23424977\n",
      "CN_WOE_ID = 23424775\n",
      "\n",
      "# Prefix ID with the underscore for query string parameterization.\n",
      "# Without the underscore, the twitter package appends the ID value\n",
      "# to the URL itself as a special case keyword argument.\n",
      "\n",
      "# Grab the trends again\n",
      "us_trends = twitter_api.trends.place(_id=US_WOE_ID)\n",
      "cn_trends = twitter_api.trends.place(_id=CN_WOE_ID)\n",
      "pprint(cn_trends)"
     ],
     "language": "python",
     "metadata": {
      "slideshow": {
       "slide_type": "fragment"
      }
     },
     "outputs": [
      {
       "output_type": "stream",
       "stream": "stdout",
       "text": [
        "[{u'as_of': u'2014-04-29T01:23:19Z',\n",
        "  u'created_at': u'2014-04-29T01:17:57Z',\n",
        "  u'locations': [{u'name': u'Canada', u'woeid': 23424775}],\n",
        "  u'trends': [{u'name': u'#dwtsshirtoff',\n",
        "               u'promoted_content': None,\n",
        "               u'query': u'%23dwtsshirtoff',\n",
        "               u'url': u'http://twitter.com/search?q=%23dwtsshirtoff'},\n",
        "              {u'name': u'#malkin',\n",
        "               u'promoted_content': None,\n",
        "               u'query': u'%23malkin',\n",
        "               u'url': u'http://twitter.com/search?q=%23malkin'},\n",
        "              {u'name': u'#hatty',\n",
        "               u'promoted_content': None,\n",
        "               u'query': u'%23hatty',\n",
        "               u'url': u'http://twitter.com/search?q=%23hatty'},\n",
        "              {u'name': u'Mike Scott',\n",
        "               u'promoted_content': None,\n",
        "               u'query': u'%22Mike+Scott%22',\n",
        "               u'url': u'http://twitter.com/search?q=%22Mike+Scott%22'},\n",
        "              {u'name': u'#VoiceTop10',\n",
        "               u'promoted_content': None,\n",
        "               u'query': u'%23VoiceTop10',\n",
        "               u'url': u'http://twitter.com/search?q=%23VoiceTop10'},\n",
        "              {u'name': u'Damien Sandow',\n",
        "               u'promoted_content': None,\n",
        "               u'query': u'%22Damien+Sandow%22',\n",
        "               u'url': u'http://twitter.com/search?q=%22Damien+Sandow%22'},\n",
        "              {u'name': u\"Who's in New York\",\n",
        "               u'promoted_content': None,\n",
        "               u'query': u'%22Who%27s+in+New+York%22',\n",
        "               u'url': u'http://twitter.com/search?q=%22Who%27s+in+New+York%22'},\n",
        "              {u'name': u'Last JOX',\n",
        "               u'promoted_content': None,\n",
        "               u'query': u'%22Last+JOX%22',\n",
        "               u'url': u'http://twitter.com/search?q=%22Last+JOX%22'},\n",
        "              {u'name': u'#masterchefcanada',\n",
        "               u'promoted_content': None,\n",
        "               u'query': u'%23masterchefcanada',\n",
        "               u'url': u'http://twitter.com/search?q=%23masterchefcanada'},\n",
        "              {u'name': u'Vitale',\n",
        "               u'promoted_content': None,\n",
        "               u'query': u'Vitale',\n",
        "               u'url': u'http://twitter.com/search?q=Vitale'}]}]\n"
       ]
      }
     ],
     "prompt_number": 40
    },
    {
     "cell_type": "code",
     "collapsed": false,
     "input": [
      "# boil each down to a list of unique\n",
      "cn_trends_set = set([trend['name'] for trends in cn_trends\n",
      "                        for trend in trends['trends']])\n",
      "\n",
      "us_trends_set = set([trend['name'] for trends in us_trends\n",
      "                     for trend in trends['trends']]) \n",
      "print 'US'\n",
      "print(us_trends_set)\n",
      "print 'CN'\n",
      "print(cn_trends_set)\n",
      "print 'INTERSECT'\n",
      "print us_trends_set.intersection(cn_trends_set)"
     ],
     "language": "python",
     "metadata": {},
     "outputs": [
      {
       "output_type": "stream",
       "stream": "stdout",
       "text": [
        "US\n",
        "set([u'Mike Scott', u'Last JOX', u'#bbwlareunion', u'#dwtsshirtoff', u\"Who's in New York\", u'#FastFirebirds', u'#JustinToDC', u'#IfICalledACoach', u'Pretty Woman', u'LeBron vs the Bobcats'])\n",
        "CN\n",
        "set([u'Mike Scott', u'Last JOX', u'#VoiceTop10', u'#dwtsshirtoff', u'Damien Sandow', u\"Who's in New York\", u'#malkin', u'#masterchefcanada', u'#hatty', u'Vitale'])\n",
        "INTERSECT\n",
        "set([u'Mike Scott', u'Last JOX', u'#dwtsshirtoff', u\"Who's in New York\"])\n"
       ]
      }
     ],
     "prompt_number": 41
    },
    {
     "cell_type": "code",
     "collapsed": false,
     "input": [
      "# get US & Canada only trends\n",
      "usonly_trends = us_trends_set.difference(cn_trends_set)\n",
      "pprint (usonly_trends)"
     ],
     "language": "python",
     "metadata": {},
     "outputs": [
      {
       "output_type": "stream",
       "stream": "stdout",
       "text": [
        "set([u'#FastFirebirds',\n",
        "     u'#IfICalledACoach',\n",
        "     u'#JustinToDC',\n",
        "     u'#bbwlareunion',\n",
        "     u'LeBron vs the Bobcats',\n",
        "     u'Pretty Woman'])\n"
       ]
      }
     ],
     "prompt_number": 42
    },
    {
     "cell_type": "code",
     "collapsed": false,
     "input": [
      "cnonly_trends = cn_trends_set.difference(us_trends_set)\n",
      "pprint(cnonly_trends)\n"
     ],
     "language": "python",
     "metadata": {},
     "outputs": [
      {
       "output_type": "stream",
       "stream": "stdout",
       "text": [
        "set([u'#VoiceTop10',\n",
        "     u'#hatty',\n",
        "     u'#malkin',\n",
        "     u'#masterchefcanada',\n",
        "     u'Damien Sandow',\n",
        "     u'Vitale'])\n"
       ]
      }
     ],
     "prompt_number": 43
    },
    {
     "cell_type": "code",
     "collapsed": false,
     "input": [
      "# clean out db collections\n",
      "db.TrendyTweetsCN.drop()\n",
      "db.TrendyTweetsUS.drop()"
     ],
     "language": "python",
     "metadata": {},
     "outputs": [],
     "prompt_number": 44
    },
    {
     "cell_type": "code",
     "collapsed": false,
     "input": [
      "# a few see the structure of what we want to get out\n",
      "#p=twitter_api.search.tweets(q=cn_trends[0]['trends'][0]['name'], count=3)\n",
      "#s = search_results['statuses']\n",
      "#pprint(s)\n",
      "\n",
      "#Loop over trends for US & CN, adding 100 matching tweets for each to new tables\n",
      "#  twitter_api.trends.place retunrs a list one long so use [0]\n",
      "for trend in cn_trends[0]['trends']:\n",
      "    #  just insert the tweet status - ditch metadata\n",
      "    search_results = twitter_api.search.tweets(q=trend['name'], count=100)\n",
      "    for st in search_results['statuses']:\n",
      "        db.TrendyTweetsCN.insert(st)\n",
      "for trend in us_trends[0]['trends']:\n",
      "    search_results = twitter_api.search.tweets(q=trend['name'], count=100)\n",
      "    for st in search_results['statuses']:\n",
      "        db.TrendyTweetsUS.insert(st)\n"
     ],
     "language": "python",
     "metadata": {},
     "outputs": [],
     "prompt_number": 46
    },
    {
     "cell_type": "code",
     "collapsed": false,
     "input": [
      "db.TrendyTweetsCN.count()"
     ],
     "language": "python",
     "metadata": {},
     "outputs": []
    },
    {
     "cell_type": "code",
     "collapsed": false,
     "input": [
      "db.TrendyTweetsCN.find_one()\n"
     ],
     "language": "python",
     "metadata": {},
     "outputs": []
    },
    {
     "cell_type": "code",
     "collapsed": false,
     "input": [
      "# get list of data from each tweet grab only the necessary cols to find most followed\n",
      "candidatesCN = list(db.TrendyTweetsCN.find(fields=['user.followers_count', 'user.name']))\n",
      "candidatesUS = list(db.TrendyTweetsUS.find(fields=['user.followers_count', 'user.name']))\n",
      "pd.DataFrame(candidatesCN).head()\n",
      "\n"
     ],
     "language": "python",
     "metadata": {},
     "outputs": [
      {
       "html": [
        "<div style=\"max-height:1000px;max-width:1500px;overflow:auto;\">\n",
        "<table border=\"1\" class=\"dataframe\">\n",
        "  <thead>\n",
        "    <tr style=\"text-align: right;\">\n",
        "      <th></th>\n",
        "      <th>_id</th>\n",
        "      <th>user</th>\n",
        "    </tr>\n",
        "  </thead>\n",
        "  <tbody>\n",
        "    <tr>\n",
        "      <th>0</th>\n",
        "      <td> 535efefe8a46d58a006fc4d1</td>\n",
        "      <td> {u'followers_count': 5746, u'name': u'Avid Alex'}</td>\n",
        "    </tr>\n",
        "    <tr>\n",
        "      <th>1</th>\n",
        "      <td> 535efefe8a46d58a006fc4d3</td>\n",
        "      <td>      {u'followers_count': 3, u'name': u'Rose H.'}</td>\n",
        "    </tr>\n",
        "    <tr>\n",
        "      <th>2</th>\n",
        "      <td> 535efefe8a46d58a006fc4d2</td>\n",
        "      <td> {u'followers_count': 144, u'name': u'Tyra Alex...</td>\n",
        "    </tr>\n",
        "    <tr>\n",
        "      <th>3</th>\n",
        "      <td> 535efefe8a46d58a006fc4d4</td>\n",
        "      <td> {u'followers_count': 14, u'name': u'Mary McCar...</td>\n",
        "    </tr>\n",
        "    <tr>\n",
        "      <th>4</th>\n",
        "      <td> 535efefe8a46d58a006fc4d5</td>\n",
        "      <td> {u'followers_count': 755, u'name': u'WWAT 21.0...</td>\n",
        "    </tr>\n",
        "  </tbody>\n",
        "</table>\n",
        "<p>5 rows \u00d7 2 columns</p>\n",
        "</div>"
       ],
       "metadata": {},
       "output_type": "pyout",
       "prompt_number": 47,
       "text": [
        "                        _id                                               user\n",
        "0  535efefe8a46d58a006fc4d1  {u'followers_count': 5746, u'name': u'Avid Alex'}\n",
        "1  535efefe8a46d58a006fc4d3       {u'followers_count': 3, u'name': u'Rose H.'}\n",
        "2  535efefe8a46d58a006fc4d2  {u'followers_count': 144, u'name': u'Tyra Alex...\n",
        "3  535efefe8a46d58a006fc4d4  {u'followers_count': 14, u'name': u'Mary McCar...\n",
        "4  535efefe8a46d58a006fc4d5  {u'followers_count': 755, u'name': u'WWAT 21.0...\n",
        "\n",
        "[5 rows x 2 columns]"
       ]
      }
     ],
     "prompt_number": 47
    },
    {
     "cell_type": "code",
     "collapsed": false,
     "input": [
      "# put in DataFrame for getting Max\n",
      "candidatesCN = pd.DataFrame({'followers': tweet['user']['followers_count'], \n",
      "              'name': tweet['user'].get('name')} for tweet in candidatesCN)\n",
      "candidatesUS = pd.DataFrame({'followers': tweet['user']['followers_count'], \n",
      "              'name': tweet['user'].get('name')} for tweet in candidatesUS)\n",
      "candidatesCN.head()"
     ],
     "language": "python",
     "metadata": {},
     "outputs": [
      {
       "html": [
        "<div style=\"max-height:1000px;max-width:1500px;overflow:auto;\">\n",
        "<table border=\"1\" class=\"dataframe\">\n",
        "  <thead>\n",
        "    <tr style=\"text-align: right;\">\n",
        "      <th></th>\n",
        "      <th>followers</th>\n",
        "      <th>name</th>\n",
        "    </tr>\n",
        "  </thead>\n",
        "  <tbody>\n",
        "    <tr>\n",
        "      <th>0</th>\n",
        "      <td> 5746</td>\n",
        "      <td>     Avid Alex</td>\n",
        "    </tr>\n",
        "    <tr>\n",
        "      <th>1</th>\n",
        "      <td>    3</td>\n",
        "      <td>       Rose H.</td>\n",
        "    </tr>\n",
        "    <tr>\n",
        "      <th>2</th>\n",
        "      <td>  144</td>\n",
        "      <td>  Tyra Alexein</td>\n",
        "    </tr>\n",
        "    <tr>\n",
        "      <th>3</th>\n",
        "      <td>   14</td>\n",
        "      <td>  Mary McCarty</td>\n",
        "    </tr>\n",
        "    <tr>\n",
        "      <th>4</th>\n",
        "      <td>  755</td>\n",
        "      <td> WWAT 21.06.14</td>\n",
        "    </tr>\n",
        "  </tbody>\n",
        "</table>\n",
        "<p>5 rows \u00d7 2 columns</p>\n",
        "</div>"
       ],
       "metadata": {},
       "output_type": "pyout",
       "prompt_number": 48,
       "text": [
        "   followers           name\n",
        "0       5746      Avid Alex\n",
        "1          3        Rose H.\n",
        "2        144   Tyra Alexein\n",
        "3         14   Mary McCarty\n",
        "4        755  WWAT 21.06.14\n",
        "\n",
        "[5 rows x 2 columns]"
       ]
      }
     ],
     "prompt_number": 48
    },
    {
     "cell_type": "code",
     "collapsed": false,
     "input": [
      "# find the most followed using idxmax()\n",
      "# twitKingCN = candidatesCN.groupby(['name', 'followers'])['followers'].max()  # wrong\n",
      "kingTwitCN = candidatesCN.ix[candidatesCN['followers'].idxmax()]\n",
      "kingTwitUS = candidatesUS.ix[candidatesUS['followers'].idxmax()]\n",
      "\n",
      "print kingTwitCN\n",
      "print kingTwitUS\n"
     ],
     "language": "python",
     "metadata": {},
     "outputs": [
      {
       "output_type": "stream",
       "stream": "stdout",
       "text": [
        "followers          170138\n",
        "name         Greg Anthony\n",
        "Name: 1144, dtype: object\n",
        "followers               245593\n",
        "name         Gas Monkey Garage\n",
        "Name: 128, dtype: object\n"
       ]
      }
     ],
     "prompt_number": 49
    },
    {
     "cell_type": "markdown",
     "metadata": {
      "slideshow": {
       "slide_type": "fragment"
      }
     },
     "source": [
      "Individually:\n",
      "------------\n",
      "Find tweets where `'retweet_count': {\"$gt\": 0}`.  \n",
      "What is their `count`?  \n",
      "Is there anything about them that stands out as retweetable?"
     ]
    },
    {
     "cell_type": "code",
     "collapsed": false,
     "input": [
      "# filter tweets for those that were retweeted\n",
      "retweets = list(db.TrendyTweetsUS.find( {'retweet_count' : {\"$gt\":0}}))\n",
      "\n",
      "# Print the count\n",
      "print \"%d of %d trendy (in the US) tweets were retweeted\" % (len(retweets) , db.TrendyTweetsUS.count())\n",
      "\n"
     ],
     "language": "python",
     "metadata": {},
     "outputs": [
      {
       "output_type": "stream",
       "stream": "stdout",
       "text": [
        "620 of 996 trendy (in the US) tweets were retweeted\n"
       ]
      }
     ],
     "prompt_number": 50
    },
    {
     "cell_type": "heading",
     "level": 6,
     "metadata": {
      "slideshow": {
       "slide_type": "notes"
      }
     },
     "source": [
      "Is there anything about them that stands out as retweetable?"
     ]
    },
    {
     "cell_type": "code",
     "collapsed": false,
     "input": [
      "# Are they sensitive material?\n",
      "print (pd.DataFrame(retweets)['possibly_sensitive'].value_counts())\n",
      "#DAT6 INSTRUCTOR:  Any idea why results don't add up to the count above?"
     ],
     "language": "python",
     "metadata": {
      "slideshow": {
       "slide_type": "-"
      }
     },
     "outputs": [
      {
       "output_type": "stream",
       "stream": "stdout",
       "text": [
        "False    255\n",
        "True       2\n",
        "dtype: int64\n"
       ]
      }
     ],
     "prompt_number": 51
    },
    {
     "cell_type": "code",
     "collapsed": false,
     "input": [
      "# Do the most retweeted have similar tags?\n",
      "\n",
      "# just grab the hashtags & count of retweeted\n",
      "retweets = list(db.TrendyTweetsUS.find( {'retweet_count' : {\"$gt\":0}}, {'entities':1, 'retweet_count':1}))\n",
      "df = pd.DataFrame({'retweet_count' : tweet['retweet_count'],\n",
      "                'tag_count': len(tweet['entities']['hashtags']),\n",
      "                'tags': [x['text'] for x in tweet['entities']['hashtags']]} \n",
      "                for tweet in retweets)\n",
      "# drop those w/ zero tags\n",
      "df = df[df['tag_count']>0]    \n",
      "\n",
      "# sort & list 25 most retweeted\n",
      "df.sort('retweet_count', ascending=False, inplace=True)\n",
      "\n",
      "print df.head(n=250)\n",
      "\n"
     ],
     "language": "python",
     "metadata": {},
     "outputs": [
      {
       "output_type": "stream",
       "stream": "stdout",
       "text": [
        "     retweet_count  tag_count                                    tags\n",
        "282           3933          2  [AdamsPhoneNumberTHO, IfICalledACoach]\n",
        "335           3933          2  [AdamsPhoneNumberTHO, IfICalledACoach]\n",
        "309           3933          2  [AdamsPhoneNumberTHO, IfICalledACoach]\n",
        "179           1561          2                   [BBWLA, BBWLAReunion]\n",
        "202           1561          2                   [BBWLA, BBWLAReunion]\n",
        "194           1561          2                   [BBWLA, BBWLAReunion]\n",
        "191           1561          2                   [BBWLA, BBWLAReunion]\n",
        "182           1561          2                   [BBWLA, BBWLAReunion]\n",
        "137           1561          2                   [BBWLA, BBWLAReunion]\n",
        "180           1561          2                   [BBWLA, BBWLAReunion]\n",
        "131           1561          2                   [BBWLA, BBWLAReunion]\n",
        "128           1561          2                   [BBWLA, BBWLAReunion]\n",
        "124           1561          2                   [BBWLA, BBWLAReunion]\n",
        "174           1561          2                   [BBWLA, BBWLAReunion]\n",
        "170           1561          2                   [BBWLA, BBWLAReunion]\n",
        "160           1561          2                   [BBWLA, BBWLAReunion]\n",
        "181           1046          2                   [BBWLA, bbwlareunion]\n",
        "148           1046          2                   [BBWLA, bbwlareunion]\n",
        "189           1046          2                   [BBWLA, bbwlareunion]\n",
        "190           1046          2                   [BBWLA, bbwlareunion]\n",
        "151           1046          2                   [BBWLA, bbwlareunion]\n",
        "161            714          1                          [bbwlareunion]\n",
        "308            629          2           [IfICalledACoach, VoiceTop10]\n",
        "316            629          2           [IfICalledACoach, VoiceTop10]\n",
        "337            629          2           [IfICalledACoach, VoiceTop10]\n",
        "334            629          2           [IfICalledACoach, VoiceTop10]\n",
        "333            629          2           [IfICalledACoach, VoiceTop10]\n",
        "332            629          2           [IfICalledACoach, VoiceTop10]\n",
        "324            629          2           [IfICalledACoach, VoiceTop10]\n",
        "323            629          2           [IfICalledACoach, VoiceTop10]\n",
        "322            629          2           [IfICalledACoach, VoiceTop10]\n",
        "310            629          2           [IfICalledACoach, VoiceTop10]\n",
        "319            629          2           [IfICalledACoach, VoiceTop10]\n",
        "313            629          2           [IfICalledACoach, VoiceTop10]\n",
        "311            629          2           [IfICalledACoach, VoiceTop10]\n",
        "289            629          2           [IfICalledACoach, VoiceTop10]\n",
        "290            629          2           [IfICalledACoach, VoiceTop10]\n",
        "291            629          2           [IfICalledACoach, VoiceTop10]\n",
        "294            629          2           [IfICalledACoach, VoiceTop10]\n",
        "296            629          2           [IfICalledACoach, VoiceTop10]\n",
        "297            629          2           [IfICalledACoach, VoiceTop10]\n",
        "298            629          2           [IfICalledACoach, VoiceTop10]\n",
        "303            629          2           [IfICalledACoach, VoiceTop10]\n",
        "165            601          1                          [bbwlareunion]\n",
        "320            578          1                       [IfICalledACoach]\n",
        "157            543          1                          [bbwlareunion]\n",
        "24             426          1                                   [JOX]\n",
        "129            366          1                          [BBWLAReunion]\n",
        "155            287          1                          [bbwlareunion]\n",
        "172            282          1                          [bbwlareunion]\n",
        "474            266          1                              [NBAonTNT]\n",
        "455            266          1                              [NBAonTNT]\n",
        "456            266          1                              [NBAonTNT]\n",
        "457            266          1                              [NBAonTNT]\n",
        "459            266          1                              [NBAonTNT]\n",
        "460            266          1                              [NBAonTNT]\n",
        "462            266          1                              [NBAonTNT]\n",
        "464            266          1                              [NBAonTNT]\n",
        "465            266          1                              [NBAonTNT]\n",
        "466            266          1                              [NBAonTNT]\n",
        "               ...        ...                                     ...\n",
        "\n",
        "[250 rows x 3 columns]\n"
       ]
      }
     ],
     "prompt_number": 52
    },
    {
     "cell_type": "code",
     "collapsed": false,
     "input": [
      "# maybe more tags = more retweeting?\n",
      "df = pd.DataFrame({'retweet_count' : tweet['retweet_count'],\n",
      "                'tagsCount': len(tweet['entities']['hashtags'])} \n",
      "                for tweet in retweets)\n",
      "print (df.corr())\n",
      "\n",
      "plt.xlabel('reweet count')\n",
      "plt.ylabel('hastag count')\n",
      "plt.title('Tags vs Retweets')\n",
      "plt.scatter(df.values[:, 0], df.values[:, 1])\n"
     ],
     "language": "python",
     "metadata": {},
     "outputs": [
      {
       "output_type": "stream",
       "stream": "stdout",
       "text": [
        "               retweet_count  tagsCount\n",
        "retweet_count       1.000000  -0.543404\n",
        "tagsCount          -0.543404   1.000000\n",
        "\n",
        "[2 rows x 2 columns]\n"
       ]
      },
      {
       "metadata": {},
       "output_type": "pyout",
       "prompt_number": 53,
       "text": [
        "<matplotlib.collections.PathCollection at 0x11a3cd68>"
       ]
      },
      {
       "metadata": {},
       "output_type": "display_data",
       "png": "[encoded data removed]",
       "text": [
        "<matplotlib.figure.Figure at 0xe0a2ef0>"
       ]
      }
     ],
     "prompt_number": 53
    },
    {
     "cell_type": "code",
     "collapsed": false,
     "input": [
      "# Most common(popular?) tags more retweeted?\n",
      "\n",
      "# Use map/reduce in mongo to count occurences of disticnt tags across the collection\n",
      "from bson.code import Code\n",
      "map = Code(\"function () {\"\n",
      "            \"  this.entities.hashtags.forEach(function(z) {\"\n",
      "            \"    emit(z.text, 1);\"\n",
      "            \"  });\"\n",
      "            \"}\")\n",
      "reduce = Code(\"function (key, values) {\"\n",
      "               \"  var total = 0;\"\n",
      "               \"  for (var i = 0; i < values.length; i++) {\"\n",
      "               \"    total += values[i];\"\n",
      "               \"  }\"\n",
      "               \"  return total;\"\n",
      "               \"}\")\n",
      "tag_occurs = (db.TrendyTweetsUS.map_reduce(map, reduce, \"myresults\"))\n",
      "print type(tag_occurs)\n",
      "print tag_occurs\n",
      "for doc in tag_occurs.find():\n",
      "    #print \"%s : %s\" %(doc['_id'],doc['value'])\n",
      "    print doc\n",
      "    \n",
      "    ''''\n",
      "#x = tag_occurs.find({})\n",
      "\n",
      "# add to dict b/c I can't figure out how to read otherwise...\n",
      "lookup = {}\n",
      "for doc in tag_occurs.find():\n",
      "    lookup[doc['_id']] = doc['value']\n",
      "    #print \"%s : %d\" % (doc['_id'], lookup[doc['_id']])\n",
      "    #print doc\n",
      "    \n",
      "# create a function for assigning a popularity factor to a tweet based on popularity of its tags\n",
      "#  this simply adds the number of occurences for each tag together\n",
      "def assignPopularFactor (tags):\n",
      "    factor = 0\n",
      "    for tag in tags:\n",
      "        try:\n",
      "            factor += lookup[tag]\n",
      "        except:\n",
      "            continue\n",
      "    return factor\n",
      "\n",
      "# create new df\n",
      "df = pd.DataFrame({'retweet_count' : tweet['retweet_count'],\n",
      "                'tag_count': len(tweet['entities']['hashtags']),\n",
      "                'tags': [x['text'] for x in tweet['entities']['hashtags']]} \n",
      "                for tweet in retweets)\n",
      "\n",
      "# map pop_factor to new column\n",
      "df['pop_factor'] = df['tags'].map(lambda x: assignPopularFactor(x))\n",
      "\n",
      "# drop those w/ only 1 retweet\n",
      "df = df[df['retweet_count']>1] \n",
      "df = df[df['retweet_count']<500]  #try removing outiers of most retweeted\n",
      "\n",
      "# correlation\n",
      "df2 = df[['retweet_count','pop_factor']]\n",
      "print df2.corr()\n",
      "\n",
      "# describe\n",
      "print df.pop_factor.describe()\n",
      "print df.retweet_count.describe()\n",
      "\n",
      "# Plot\n",
      "plt.xlabel('reweet count')\n",
      "plt.ylabel('pop factor')\n",
      "plt.title('PopFactor vs Retweets')\n",
      "plt.scatter(df.retweet_count, df.pop_factor)\n",
      "'''"
     ],
     "language": "python",
     "metadata": {},
     "outputs": [
      {
       "output_type": "stream",
       "stream": "stdout",
       "text": [
        "<class 'pymongo.collection.Collection'>\n",
        "Collection(Database(MongoClient('localhost', 27017), u'twitter'), u'myresults')\n",
        "{u'_id': u'ABCFamily', u'value': 1.0}\n",
        "{u'_id': u'ATL', u'value': 1.0}\n",
        "{u'_id': u'ATLvsIND', u'value': 1.0}\n",
        "{u'_id': u'AbdullahAbdulaziz', u'value': 5.0}\n",
        "{u'_id': u'AdamsPhoneNumberTHO', u'value': 3.0}\n",
        "{u'_id': u'BBWLA', u'value': 35.0}\n",
        "{u'_id': u'BBWLAReunion', u'value': 35.0}\n",
        "{u'_id': u'BBWLAreunion', u'value': 1.0}\n",
        "{u'_id': u'BasketballWivesLAReunion', u'value': 1.0}\n",
        "{u'_id': u'BeatDownFromTheATown', u'value': 1.0}\n",
        "{u'_id': u'DC_FollowSpree', u'value': 1.0}\n",
        "{u'_id': u'DWTS', u'value': 21.0}\n",
        "{u'_id': u'DWTS18', u'value': 2.0}\n",
        "{u'_id': u'DWTSSHIRTOFF', u'value': 9.0}\n",
        "{u'_id': u'DWTSShirtOFF', u'value': 1.0}\n",
        "{u'_id': u'DWTSShirtOff', u'value': 40.0}\n",
        "{u'_id': u'DWTSShirtoff', u'value': 8.0}\n",
        "{u'_id': u'DWTSshirtoff', u'value': 14.0}\n",
        "{u'_id': u'Disgrace', u'value': 1.0}\n",
        "{u'_id': u'Dwtsshirtoff', u'value': 1.0}\n",
        "{u'_id': u'FUEGO', u'value': 1.0}\n",
        "{u'_id': u'FastFireBirds', u'value': 2.0}\n",
        "{u'_id': u'FastFirebirds', u'value': 72.0}\n",
        "{u'_id': u'FastNLive', u'value': 6.0}\n",
        "{u'_id': u'FastNLoud', u'value': 47.0}\n",
        "{u'_id': u'Ferrari', u'value': 1.0}\n",
        "{u'_id': u'GOHAWKS', u'value': 4.0}\n",
        "{u'_id': u'GoHawks', u'value': 1.0}\n",
        "{u'_id': u'Hawks', u'value': 2.0}\n",
        "{u'_id': u'ICOTPOOL', u'value': 1.0}\n",
        "{u'_id': u'IfICalledACoach', u'value': 99.0}\n",
        "{u'_id': u'IfIcalledaCoach', u'value': 1.0}\n",
        "{u'_id': u'IfIcalledacoach', u'value': 1.0}\n",
        "{u'_id': u'Ificalledacoach', u'value': 1.0}\n",
        "{u'_id': u'ItsMyTurn', u'value': 2.0}\n",
        "{u'_id': u'JOX', u'value': 3.0}\n",
        "{u'_id': u'JUSTINTODC', u'value': 1.0}\n",
        "{u'_id': u'JustinComeToDC', u'value': 1.0}\n",
        "{u'_id': u'JustinToDC', u'value': 58.0}\n",
        "{u'_id': u'JustinToDMV', u'value': 2.0}\n",
        "{u'_id': u'JustinToDc', u'value': 5.0}\n",
        "{u'_id': u'JustintoDC', u'value': 35.0}\n",
        "{u'_id': u'JustintoDE', u'value': 4.0}\n",
        "{u'_id': u'LatinNight', u'value': 1.0}\n",
        "{u'_id': u'Lol', u'value': 1.0}\n",
        "{u'_id': u'LoveSomebody', u'value': 1.0}\n",
        "{u'_id': u'NBAPlayoffs', u'value': 7.0}\n",
        "{u'_id': u'NBAextra', u'value': 1.0}\n",
        "{u'_id': u'NBAonTNT', u'value': 66.0}\n",
        "{u'_id': u'NBAplayoffs', u'value': 4.0}\n",
        "{u'_id': u'OnFire', u'value': 1.0}\n",
        "{u'_id': u'PACERSvHAWKS', u'value': 2.0}\n",
        "{u'_id': u'POPQUIZ', u'value': 1.0}\n",
        "{u'_id': u'Pacers', u'value': 1.0}\n",
        "{u'_id': u'RHOC', u'value': 1.0}\n",
        "{u'_id': u'RaesCommentary', u'value': 3.0}\n",
        "{u'_id': u'RanaSamahaTeam', u'value': 2.0}\n",
        "{u'_id': u'TeamAdam', u'value': 1.0}\n",
        "{u'_id': u'TeamShakira', u'value': 1.0}\n",
        "{u'_id': u'TheVoice', u'value': 2.0}\n",
        "{u'_id': u'Trending', u'value': 1.0}\n",
        "{u'_id': u'UmitimBaKo', u'value': 1.0}\n",
        "{u'_id': u'UncleJackie', u'value': 1.0}\n",
        "{u'_id': u'VH1', u'value': 3.0}\n",
        "{u'_id': u'VoiceLive', u'value': 1.0}\n",
        "{u'_id': u'VoiceTop10', u'value': 26.0}\n",
        "{u'_id': u'WarOnMen', u'value': 1.0}\n",
        "{u'_id': u'WeTheNorth', u'value': 1.0}\n",
        "{u'_id': u'WhatIf', u'value': 1.0}\n",
        "{u'_id': u'WhereUnbelievableHappens', u'value': 1.0}\n",
        "{u'_id': u'WhyBeInARelationshipWhen', u'value': 1.0}\n",
        "{u'_id': u'Winnipeg', u'value': 1.0}\n",
        "{u'_id': u'aaronbeerpong', u'value': 10.0}\n",
        "{u'_id': u'aaronlovesmustangs', u'value': 1.0}\n",
        "{u'_id': u'bbwla', u'value': 1.0}\n",
        "{u'_id': u'bbwla3', u'value': 1.0}\n",
        "{u'_id': u'bbwlareunion', u'value': 65.0}\n",
        "{u'_id': u'bossmonkey', u'value': 1.0}\n",
        "{u'_id': u'burntheshirts', u'value': 1.0}\n",
        "{u'_id': u'carterV', u'value': 8.0}\n",
        "{u'_id': u'classic', u'value': 1.0}\n",
        "{u'_id': u'dontleavemeopen', u'value': 1.0}\n",
        "{u'_id': u'dundermifflin', u'value': 1.0}\n",
        "{u'_id': u'dwtsshirtoff', u'value': 36.0}\n",
        "{u'_id': u'facts', u'value': 1.0}\n",
        "{u'_id': u'fast', u'value': 1.0}\n",
        "{u'_id': u'fastFirebirds', u'value': 1.0}\n",
        "{u'_id': u'fastfirebirds', u'value': 27.0}\n",
        "{u'_id': u'fastnloud', u'value': 6.0}\n",
        "{u'_id': u'gasmonkey', u'value': 3.0}\n",
        "{u'_id': u'gorgeous', u'value': 1.0}\n",
        "{u'_id': u'ifIcalledaCoach', u'value': 1.0}\n",
        "{u'_id': u'ificalledacoach', u'value': 8.0}\n",
        "{u'_id': u'illWait', u'value': 1.0}\n",
        "{u'_id': u'iwillsing', u'value': 8.0}\n",
        "{u'_id': u'joxisreal', u'value': 1.0}\n",
        "{u'_id': u'justintoDC', u'value': 1.0}\n",
        "{u'_id': u'justintodc', u'value': 6.0}\n",
        "{u'_id': u'love', u'value': 1.0}\n",
        "{u'_id': u'malkin', u'value': 1.0}\n",
        "{u'_id': u'nepatism', u'value': 1.0}\n",
        "{u'_id': u'nerves', u'value': 1.0}\n",
        "{u'_id': u'neverwouldhavehappened', u'value': 1.0}\n",
        "{u'_id': u'newfavorite', u'value': 1.0}\n",
        "{u'_id': u'pleaseeeeeee', u'value': 1.0}\n",
        "{u'_id': u'richardbeerpong', u'value': 11.0}\n",
        "{u'_id': u'teamtoomuch', u'value': 1.0}\n",
        "{u'_id': u'torn', u'value': 1.0}\n",
        "{u'_id': u'trndnl', u'value': 2.0}\n",
        "{u'_id': u'vh1', u'value': 1.0}\n",
        "{u'_id': u'wahoowa', u'value': 1.0}\n",
        "{u'_id': u'weaknesses', u'value': 1.0}\n"
       ]
      }
     ],
     "prompt_number": 64
    },
    {
     "cell_type": "markdown",
     "metadata": {
      "slideshow": {
       "slide_type": "notes"
      }
     },
     "source": [
      "Further exercises:  \n",
      "\n",
      "* Twitter - _Mining-the-Social-Web-2nd-Edition_: [Chapter 1 - Mining Twitter](http://nbviewer.ipython.org/github/ptwobrussell/Mining-the-Social-Web-2nd-Edition/blob/master/ipynb/__Chapter%201%20-%20Mining%20Twitter%20%28Full-Text%20Sampler%29.ipynb)\n",
      "* Mongo - [Aggregation Framework](http://docs.mongodb.org/manual/aggregation/)"
     ]
    },
    {
     "cell_type": "markdown",
     "metadata": {
      "slideshow": {
       "slide_type": "slide"
      }
     },
     "source": [
      "Next week:\n",
      "==============\n",
      "Exploring Data\n",
      "--------------"
     ]
    }
   ],
   "metadata": {}
  }
 ]
}