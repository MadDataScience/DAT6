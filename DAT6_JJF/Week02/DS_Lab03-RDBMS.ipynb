{
 "metadata": {
  "celltoolbar": "Slideshow",
  "name": "",
  "signature": "sha256:41cc60709769630c4c3877a164918f4d0255694cfa305124213c3e0a00b606be"
 },
 "nbformat": 3,
 "nbformat_minor": 0,
 "worksheets": [
  {
   "cells": [
    {
     "cell_type": "markdown",
     "metadata": {
      "slideshow": {
       "slide_type": "slide"
      }
     },
     "source": [
      "Lab\n",
      "===================\n",
      "SQL and Data Frames\n",
      "-------------------\n",
      "Alessandro D. Gagliardi"
     ]
    },
    {
     "cell_type": "markdown",
     "metadata": {
      "slideshow": {
       "slide_type": "slide"
      }
     },
     "source": [
      "Enron\n",
      "=====\n",
      "\n",
      "<img src=\"http://upload.wikimedia.org/wikipedia/en/thumb/9/9a/Enron_Logo.svg/150px-Enron_Logo.svg.png\" />\n",
      "\n",
      "### Download the sample database at: [tinyurl.com/enron-db](https://github.com/eklypse/GA_DS_SF_2014_01/raw/master/enron.db)"
     ]
    },
    {
     "cell_type": "markdown",
     "metadata": {
      "slideshow": {
       "slide_type": "subslide"
      }
     },
     "source": [
      "`pip install ipython-sql`  \n",
      "**for sql magic**"
     ]
    },
    {
     "cell_type": "code",
     "collapsed": false,
     "input": [
      "%load_ext sql"
     ],
     "language": "python",
     "metadata": {
      "slideshow": {
       "slide_type": "subslide"
      }
     },
     "outputs": [
      {
       "output_type": "stream",
       "stream": "stdout",
       "text": [
        "The sql extension is already loaded. To reload it, use:\n",
        "  %reload_ext sql\n"
       ]
      }
     ],
     "prompt_number": 2
    },
    {
     "cell_type": "code",
     "collapsed": false,
     "input": [
      "%%bash\n",
      "sqlite3 enron.db .tables"
     ],
     "language": "python",
     "metadata": {
      "slideshow": {
       "slide_type": "slide"
      }
     },
     "outputs": [
      {
       "output_type": "stream",
       "stream": "stdout",
       "text": [
        "Couldn't find program: u'bash'\n"
       ]
      }
     ],
     "prompt_number": 2
    },
    {
     "cell_type": "markdown",
     "metadata": {
      "slideshow": {
       "slide_type": "fragment"
      }
     },
     "source": [
      "We only care about the `*Base` tables:\n",
      "\n",
      "- EmployeeBase\n",
      "- MessageBase\n",
      "- RecipientBase\n",
      "\n",
      "(The other tables are derived from those. We don't need them for this exercise.)"
     ]
    },
    {
     "cell_type": "code",
     "collapsed": false,
     "input": [
      "%%sql sqlite:///enron.db\n",
      "SELECT * FROM EmployeeBase LIMIT 5"
     ],
     "language": "python",
     "metadata": {
      "slideshow": {
       "slide_type": "slide"
      }
     },
     "outputs": [
      {
       "output_type": "stream",
       "stream": "stdout",
       "text": [
        "Done.\n"
       ]
      },
      {
       "html": [
        "<table>\n",
        "    <tr>\n",
        "        <th>eid</th>\n",
        "        <th>name</th>\n",
        "        <th>department</th>\n",
        "        <th>longdepartment</th>\n",
        "        <th>title</th>\n",
        "        <th>gender</th>\n",
        "        <th>seniority</th>\n",
        "    </tr>\n",
        "    <tr>\n",
        "        <td>1</td>\n",
        "        <td>John Arnold</td>\n",
        "        <td>Trading</td>\n",
        "        <td>ENA Gas Financial</td>\n",
        "        <td>VP Trading</td>\n",
        "        <td>Male</td>\n",
        "        <td>Senior</td>\n",
        "    </tr>\n",
        "    <tr>\n",
        "        <td>2</td>\n",
        "        <td>Harry Arora</td>\n",
        "        <td>Trading</td>\n",
        "        <td>ENA East Power</td>\n",
        "        <td>VP Trading</td>\n",
        "        <td>Male</td>\n",
        "        <td>Senior</td>\n",
        "    </tr>\n",
        "    <tr>\n",
        "        <td>3</td>\n",
        "        <td>Robert Badeer</td>\n",
        "        <td>Trading</td>\n",
        "        <td>ENA West Power</td>\n",
        "        <td>Mgr Trading</td>\n",
        "        <td>Male</td>\n",
        "        <td>Junior</td>\n",
        "    </tr>\n",
        "    <tr>\n",
        "        <td>4</td>\n",
        "        <td>Susan Bailey</td>\n",
        "        <td>Legal</td>\n",
        "        <td>ENA Legal</td>\n",
        "        <td>Specialist Legal</td>\n",
        "        <td>Female</td>\n",
        "        <td>Junior</td>\n",
        "    </tr>\n",
        "    <tr>\n",
        "        <td>5</td>\n",
        "        <td>Eric Bass</td>\n",
        "        <td>Trading</td>\n",
        "        <td>ENA Gas Texas</td>\n",
        "        <td>Trader</td>\n",
        "        <td>Male</td>\n",
        "        <td>Junior</td>\n",
        "    </tr>\n",
        "</table>"
       ],
       "metadata": {},
       "output_type": "pyout",
       "prompt_number": 3,
       "text": [
        "[(1, u'John Arnold', u'Trading', u'ENA Gas Financial', u'VP Trading', u'Male', u'Senior'),\n",
        " (2, u'Harry Arora', u'Trading', u'ENA East Power', u'VP Trading', u'Male', u'Senior'),\n",
        " (3, u'Robert Badeer', u'Trading', u'ENA West Power', u'Mgr Trading', u'Male', u'Junior'),\n",
        " (4, u'Susan Bailey', u'Legal', u'ENA Legal', u'Specialist Legal', u'Female', u'Junior'),\n",
        " (5, u'Eric Bass', u'Trading', u'ENA Gas Texas', u'Trader', u'Male', u'Junior')]"
       ]
      }
     ],
     "prompt_number": 3
    },
    {
     "cell_type": "code",
     "collapsed": false,
     "input": [
      "%%sql sqlite:///enron.db\n",
      "SELECT * FROM MessageBase LIMIT 5"
     ],
     "language": "python",
     "metadata": {
      "slideshow": {
       "slide_type": "subslide"
      }
     },
     "outputs": [
      {
       "output_type": "stream",
       "stream": "stdout",
       "text": [
        "Done.\n"
       ]
      },
      {
       "html": [
        "<table>\n",
        "    <tr>\n",
        "        <th>mid</th>\n",
        "        <th>filename</th>\n",
        "        <th>unix_time</th>\n",
        "        <th>subject</th>\n",
        "        <th>from_eid</th>\n",
        "    </tr>\n",
        "    <tr>\n",
        "        <td>1</td>\n",
        "        <td>taylor-m/sent/11</td>\n",
        "        <td>910930020</td>\n",
        "        <td>Cd$ CME letter</td>\n",
        "        <td>138</td>\n",
        "    </tr>\n",
        "    <tr>\n",
        "        <td>2</td>\n",
        "        <td>taylor-m/sent/17</td>\n",
        "        <td>911459940</td>\n",
        "        <td>Indemnification</td>\n",
        "        <td>138</td>\n",
        "    </tr>\n",
        "    <tr>\n",
        "        <td>3</td>\n",
        "        <td>taylor-m/sent/18</td>\n",
        "        <td>911463840</td>\n",
        "        <td>Re: Indemnification</td>\n",
        "        <td>138</td>\n",
        "    </tr>\n",
        "    <tr>\n",
        "        <td>4</td>\n",
        "        <td>taylor-m/sent/23</td>\n",
        "        <td>911874180</td>\n",
        "        <td>Re: Coral Energy, L.P.</td>\n",
        "        <td>138</td>\n",
        "    </tr>\n",
        "    <tr>\n",
        "        <td>5</td>\n",
        "        <td>taylor-m/sent/27</td>\n",
        "        <td>912396120</td>\n",
        "        <td>Bankruptcy Code revisions</td>\n",
        "        <td>138</td>\n",
        "    </tr>\n",
        "</table>"
       ],
       "metadata": {},
       "output_type": "pyout",
       "prompt_number": 4,
       "text": [
        "[(1, u'taylor-m/sent/11', 910930020, u'Cd$ CME letter', 138),\n",
        " (2, u'taylor-m/sent/17', 911459940, u'Indemnification', 138),\n",
        " (3, u'taylor-m/sent/18', 911463840, u'Re: Indemnification', 138),\n",
        " (4, u'taylor-m/sent/23', 911874180, u'Re: Coral Energy, L.P.', 138),\n",
        " (5, u'taylor-m/sent/27', 912396120, u'Bankruptcy Code revisions', 138)]"
       ]
      }
     ],
     "prompt_number": 4
    },
    {
     "cell_type": "markdown",
     "metadata": {
      "slideshow": {
       "slide_type": "fragment"
      }
     },
     "source": [
      "`from_eid` looks like a foreign key"
     ]
    },
    {
     "cell_type": "code",
     "collapsed": false,
     "input": [
      "%%sql sqlite:///enron.db\n",
      "SELECT unix_time, name, department, title, gender, seniority, subject, filename \n",
      "FROM EmployeeBase JOIN MessageBase ON eid = from_eid LIMIT 5"
     ],
     "language": "python",
     "metadata": {
      "slideshow": {
       "slide_type": "subslide"
      }
     },
     "outputs": [
      {
       "output_type": "stream",
       "stream": "stdout",
       "text": [
        "Done.\n"
       ]
      },
      {
       "html": [
        "<table>\n",
        "    <tr>\n",
        "        <th>unix_time</th>\n",
        "        <th>name</th>\n",
        "        <th>department</th>\n",
        "        <th>title</th>\n",
        "        <th>gender</th>\n",
        "        <th>seniority</th>\n",
        "        <th>subject</th>\n",
        "        <th>filename</th>\n",
        "    </tr>\n",
        "    <tr>\n",
        "        <td>910930020</td>\n",
        "        <td>Mark E. Taylor</td>\n",
        "        <td>Legal</td>\n",
        "        <td>VP &amp; Gen Cnsl</td>\n",
        "        <td>Male</td>\n",
        "        <td>Senior</td>\n",
        "        <td>Cd$ CME letter</td>\n",
        "        <td>taylor-m/sent/11</td>\n",
        "    </tr>\n",
        "    <tr>\n",
        "        <td>911459940</td>\n",
        "        <td>Mark E. Taylor</td>\n",
        "        <td>Legal</td>\n",
        "        <td>VP &amp; Gen Cnsl</td>\n",
        "        <td>Male</td>\n",
        "        <td>Senior</td>\n",
        "        <td>Indemnification</td>\n",
        "        <td>taylor-m/sent/17</td>\n",
        "    </tr>\n",
        "    <tr>\n",
        "        <td>911463840</td>\n",
        "        <td>Mark E. Taylor</td>\n",
        "        <td>Legal</td>\n",
        "        <td>VP &amp; Gen Cnsl</td>\n",
        "        <td>Male</td>\n",
        "        <td>Senior</td>\n",
        "        <td>Re: Indemnification</td>\n",
        "        <td>taylor-m/sent/18</td>\n",
        "    </tr>\n",
        "    <tr>\n",
        "        <td>911874180</td>\n",
        "        <td>Mark E. Taylor</td>\n",
        "        <td>Legal</td>\n",
        "        <td>VP &amp; Gen Cnsl</td>\n",
        "        <td>Male</td>\n",
        "        <td>Senior</td>\n",
        "        <td>Re: Coral Energy, L.P.</td>\n",
        "        <td>taylor-m/sent/23</td>\n",
        "    </tr>\n",
        "    <tr>\n",
        "        <td>912396120</td>\n",
        "        <td>Mark E. Taylor</td>\n",
        "        <td>Legal</td>\n",
        "        <td>VP &amp; Gen Cnsl</td>\n",
        "        <td>Male</td>\n",
        "        <td>Senior</td>\n",
        "        <td>Bankruptcy Code revisions</td>\n",
        "        <td>taylor-m/sent/27</td>\n",
        "    </tr>\n",
        "</table>"
       ],
       "metadata": {},
       "output_type": "pyout",
       "prompt_number": 5,
       "text": [
        "[(910930020, u'Mark E. Taylor', u'Legal', u'VP & Gen Cnsl', u'Male', u'Senior', u'Cd$ CME letter', u'taylor-m/sent/11'),\n",
        " (911459940, u'Mark E. Taylor', u'Legal', u'VP & Gen Cnsl', u'Male', u'Senior', u'Indemnification', u'taylor-m/sent/17'),\n",
        " (911463840, u'Mark E. Taylor', u'Legal', u'VP & Gen Cnsl', u'Male', u'Senior', u'Re: Indemnification', u'taylor-m/sent/18'),\n",
        " (911874180, u'Mark E. Taylor', u'Legal', u'VP & Gen Cnsl', u'Male', u'Senior', u'Re: Coral Energy, L.P.', u'taylor-m/sent/23'),\n",
        " (912396120, u'Mark E. Taylor', u'Legal', u'VP & Gen Cnsl', u'Male', u'Senior', u'Bankruptcy Code revisions', u'taylor-m/sent/27')]"
       ]
      }
     ],
     "prompt_number": 5
    },
    {
     "cell_type": "markdown",
     "metadata": {
      "slideshow": {
       "slide_type": "subslide"
      }
     },
     "source": [
      "Finally, `RecipientBase`:"
     ]
    },
    {
     "cell_type": "code",
     "collapsed": false,
     "input": [
      "%%sql sqlite:///enron.db\n",
      "SELECT * FROM RecipientBase LIMIT 9"
     ],
     "language": "python",
     "metadata": {
      "slideshow": {
       "slide_type": "-"
      }
     },
     "outputs": [
      {
       "output_type": "stream",
       "stream": "stdout",
       "text": [
        "Done.\n"
       ]
      },
      {
       "html": [
        "<table>\n",
        "    <tr>\n",
        "        <th>mid</th>\n",
        "        <th>rno</th>\n",
        "        <th>to_eid</th>\n",
        "    </tr>\n",
        "    <tr>\n",
        "        <td>1</td>\n",
        "        <td>1</td>\n",
        "        <td>59</td>\n",
        "    </tr>\n",
        "    <tr>\n",
        "        <td>2</td>\n",
        "        <td>1</td>\n",
        "        <td>15</td>\n",
        "    </tr>\n",
        "    <tr>\n",
        "        <td>3</td>\n",
        "        <td>1</td>\n",
        "        <td>15</td>\n",
        "    </tr>\n",
        "    <tr>\n",
        "        <td>4</td>\n",
        "        <td>1</td>\n",
        "        <td>109</td>\n",
        "    </tr>\n",
        "    <tr>\n",
        "        <td>4</td>\n",
        "        <td>2</td>\n",
        "        <td>49</td>\n",
        "    </tr>\n",
        "    <tr>\n",
        "        <td>4</td>\n",
        "        <td>3</td>\n",
        "        <td>120</td>\n",
        "    </tr>\n",
        "    <tr>\n",
        "        <td>4</td>\n",
        "        <td>4</td>\n",
        "        <td>59</td>\n",
        "    </tr>\n",
        "    <tr>\n",
        "        <td>5</td>\n",
        "        <td>1</td>\n",
        "        <td>45</td>\n",
        "    </tr>\n",
        "    <tr>\n",
        "        <td>5</td>\n",
        "        <td>2</td>\n",
        "        <td>53</td>\n",
        "    </tr>\n",
        "</table>"
       ],
       "metadata": {},
       "output_type": "pyout",
       "prompt_number": 6,
       "text": [
        "[(1, 1, 59),\n",
        " (2, 1, 15),\n",
        " (3, 1, 15),\n",
        " (4, 1, 109),\n",
        " (4, 2, 49),\n",
        " (4, 3, 120),\n",
        " (4, 4, 59),\n",
        " (5, 1, 45),\n",
        " (5, 2, 53)]"
       ]
      }
     ],
     "prompt_number": 6
    },
    {
     "cell_type": "markdown",
     "metadata": {
      "slideshow": {
       "slide_type": "fragment"
      }
     },
     "source": [
      "It looks like we can use this to determine how many recipients each message received  \n",
      "i.e. `MAX(rno)`"
     ]
    },
    {
     "cell_type": "code",
     "collapsed": false,
     "input": [
      "%%sql sqlite:///enron.db\n",
      "SELECT * FROM RecipientBase WHERE rno = 57"
     ],
     "language": "python",
     "metadata": {
      "slideshow": {
       "slide_type": "skip"
      }
     },
     "outputs": [
      {
       "output_type": "stream",
       "stream": "stdout",
       "text": [
        "Done.\n"
       ]
      },
      {
       "html": [
        "<table>\n",
        "    <tr>\n",
        "        <th>mid</th>\n",
        "        <th>rno</th>\n",
        "        <th>to_eid</th>\n",
        "    </tr>\n",
        "    <tr>\n",
        "        <td>12116</td>\n",
        "        <td>57</td>\n",
        "        <td>51</td>\n",
        "    </tr>\n",
        "    <tr>\n",
        "        <td>12151</td>\n",
        "        <td>57</td>\n",
        "        <td>51</td>\n",
        "    </tr>\n",
        "</table>"
       ],
       "metadata": {},
       "output_type": "pyout",
       "prompt_number": 7,
       "text": [
        "[(12116, 57, 51), (12151, 57, 51)]"
       ]
      }
     ],
     "prompt_number": 7
    },
    {
     "cell_type": "code",
     "collapsed": false,
     "input": [
      "%%sql sqlite:///enron.db\n",
      "SELECT * FROM MessageBase WHERE mid IN (12116, 12151)"
     ],
     "language": "python",
     "metadata": {
      "slideshow": {
       "slide_type": "skip"
      }
     },
     "outputs": [
      {
       "output_type": "stream",
       "stream": "stdout",
       "text": [
        "Done.\n"
       ]
      },
      {
       "html": [
        "<table>\n",
        "    <tr>\n",
        "        <th>mid</th>\n",
        "        <th>filename</th>\n",
        "        <th>unix_time</th>\n",
        "        <th>subject</th>\n",
        "        <th>from_eid</th>\n",
        "    </tr>\n",
        "    <tr>\n",
        "        <td>12116</td>\n",
        "        <td>baughman-d/all_documents/398</td>\n",
        "        <td>990510780</td>\n",
        "        <td></td>\n",
        "        <td>67</td>\n",
        "    </tr>\n",
        "    <tr>\n",
        "        <td>12151</td>\n",
        "        <td>baughman-d/ect_admin/22</td>\n",
        "        <td>990546780</td>\n",
        "        <td></td>\n",
        "        <td>67</td>\n",
        "    </tr>\n",
        "</table>"
       ],
       "metadata": {},
       "output_type": "pyout",
       "prompt_number": 8,
       "text": [
        "[(12116, u'baughman-d/all_documents/398', 990510780, u'', 67),\n",
        " (12151, u'baughman-d/ect_admin/22', 990546780, u'', 67)]"
       ]
      }
     ],
     "prompt_number": 8
    },
    {
     "cell_type": "code",
     "collapsed": false,
     "input": [
      "%%sql sqlite:///enron.db\n",
      "SELECT * FROM EmployeeBase WHERE eid=67"
     ],
     "language": "python",
     "metadata": {
      "slideshow": {
       "slide_type": "skip"
      }
     },
     "outputs": [
      {
       "output_type": "stream",
       "stream": "stdout",
       "text": [
        "Done.\n"
       ]
      },
      {
       "html": [
        "<table>\n",
        "    <tr>\n",
        "        <th>eid</th>\n",
        "        <th>name</th>\n",
        "        <th>department</th>\n",
        "        <th>longdepartment</th>\n",
        "        <th>title</th>\n",
        "        <th>gender</th>\n",
        "        <th>seniority</th>\n",
        "    </tr>\n",
        "    <tr>\n",
        "        <td>67</td>\n",
        "        <td>John J. Lavorato</td>\n",
        "        <td>Other</td>\n",
        "        <td>EWS</td>\n",
        "        <td>ENA President &amp; CEO</td>\n",
        "        <td>Male</td>\n",
        "        <td>Senior</td>\n",
        "    </tr>\n",
        "</table>"
       ],
       "metadata": {},
       "output_type": "pyout",
       "prompt_number": 9,
       "text": [
        "[(67, u'John J. Lavorato', u'Other', u'EWS', u'ENA President & CEO', u'Male', u'Senior')]"
       ]
      }
     ],
     "prompt_number": 9
    },
    {
     "cell_type": "markdown",
     "metadata": {
      "slideshow": {
       "slide_type": "subslide"
      }
     },
     "source": [
      "Who sent the email to the most recipients?"
     ]
    },
    {
     "cell_type": "code",
     "collapsed": false,
     "input": [
      "%%sql sqlite:///enron.db\n",
      "SELECT name, title, MAX(rno)\n",
      "FROM EmployeeBase \n",
      "JOIN MessageBase ON eid = from_eid \n",
      "JOIN RecipientBase USING(mid)"
     ],
     "language": "python",
     "metadata": {
      "slideshow": {
       "slide_type": "-"
      }
     },
     "outputs": [
      {
       "output_type": "stream",
       "stream": "stdout",
       "text": [
        "Done.\n"
       ]
      },
      {
       "html": [
        "<table>\n",
        "    <tr>\n",
        "        <th>name</th>\n",
        "        <th>title</th>\n",
        "        <th>MAX(rno)</th>\n",
        "    </tr>\n",
        "    <tr>\n",
        "        <td>Phillip K. Allen</td>\n",
        "        <td>Mng Dir Trading</td>\n",
        "        <td>57</td>\n",
        "    </tr>\n",
        "</table>"
       ],
       "metadata": {},
       "output_type": "pyout",
       "prompt_number": 10,
       "text": [
        "[(u'Phillip K. Allen', u'Mng Dir Trading', 57)]"
       ]
      }
     ],
     "prompt_number": 10
    },
    {
     "cell_type": "markdown",
     "metadata": {
      "slideshow": {
       "slide_type": "subslide"
      }
     },
     "source": [
      "Who are the top five senders of mass emails?"
     ]
    },
    {
     "cell_type": "code",
     "collapsed": false,
     "input": [
      "%%sql sqlite:///enron.db\n",
      "SELECT name, title, MAX(rno) AS recipient_count\n",
      "FROM EmployeeBase \n",
      "JOIN MessageBase ON eid = from_eid \n",
      "JOIN RecipientBase USING(mid) \n",
      "GROUP BY name, title ORDER BY recipient_count DESC LIMIT 5"
     ],
     "language": "python",
     "metadata": {
      "slideshow": {
       "slide_type": "-"
      }
     },
     "outputs": [
      {
       "output_type": "stream",
       "stream": "stdout",
       "text": [
        "Done.\n"
       ]
      },
      {
       "html": [
        "<table>\n",
        "    <tr>\n",
        "        <th>name</th>\n",
        "        <th>title</th>\n",
        "        <th>recipient_count</th>\n",
        "    </tr>\n",
        "    <tr>\n",
        "        <td>John J. Lavorato</td>\n",
        "        <td>ENA President &amp; CEO</td>\n",
        "        <td>57</td>\n",
        "    </tr>\n",
        "    <tr>\n",
        "        <td>Kenneth Lay</td>\n",
        "        <td>President &amp; CEO</td>\n",
        "        <td>52</td>\n",
        "    </tr>\n",
        "    <tr>\n",
        "        <td>Sally Beck</td>\n",
        "        <td>VP</td>\n",
        "        <td>49</td>\n",
        "    </tr>\n",
        "    <tr>\n",
        "        <td>Monique Sanchez </td>\n",
        "        <td>Associate</td>\n",
        "        <td>24</td>\n",
        "    </tr>\n",
        "    <tr>\n",
        "        <td>Louise Kitchen</td>\n",
        "        <td>COO</td>\n",
        "        <td>21</td>\n",
        "    </tr>\n",
        "</table>"
       ],
       "metadata": {},
       "output_type": "pyout",
       "prompt_number": 11,
       "text": [
        "[(u'John J. Lavorato', u'ENA President & CEO', 57),\n",
        " (u'Kenneth Lay', u'President & CEO', 52),\n",
        " (u'Sally Beck', u'VP', 49),\n",
        " (u'Monique Sanchez ', u'Associate', 24),\n",
        " (u'Louise Kitchen', u'COO', 21)]"
       ]
      }
     ],
     "prompt_number": 11
    },
    {
     "cell_type": "heading",
     "level": 1,
     "metadata": {
      "slideshow": {
       "slide_type": "slide"
      }
     },
     "source": [
      "Pandas Data Frames"
     ]
    },
    {
     "cell_type": "code",
     "collapsed": false,
     "input": [
      "import pandas as pd\n",
      "import sqlite3\n",
      "from pandas.io import sql\n",
      "conn = sqlite3.connect('enron.db')"
     ],
     "language": "python",
     "metadata": {
      "slideshow": {
       "slide_type": "subslide"
      }
     },
     "outputs": [],
     "prompt_number": 12
    },
    {
     "cell_type": "code",
     "collapsed": false,
     "input": [
      "sql.frame_query(\"\"\"SELECT mid, unix_time, subject, from_eid \n",
      "                FROM MessageBase LIMIT 5\"\"\", conn, \"mid\")"
     ],
     "language": "python",
     "metadata": {
      "slideshow": {
       "slide_type": "slide"
      }
     },
     "outputs": [
      {
       "html": [
        "<div style=\"max-height:1000px;max-width:1500px;overflow:auto;\">\n",
        "<table border=\"1\" class=\"dataframe\">\n",
        "  <thead>\n",
        "    <tr style=\"text-align: right;\">\n",
        "      <th></th>\n",
        "      <th>unix_time</th>\n",
        "      <th>subject</th>\n",
        "      <th>from_eid</th>\n",
        "    </tr>\n",
        "    <tr>\n",
        "      <th>mid</th>\n",
        "      <th></th>\n",
        "      <th></th>\n",
        "      <th></th>\n",
        "    </tr>\n",
        "  </thead>\n",
        "  <tbody>\n",
        "    <tr>\n",
        "      <th>1</th>\n",
        "      <td> 910930020</td>\n",
        "      <td>            Cd$ CME letter</td>\n",
        "      <td> 138</td>\n",
        "    </tr>\n",
        "    <tr>\n",
        "      <th>2</th>\n",
        "      <td> 911459940</td>\n",
        "      <td>           Indemnification</td>\n",
        "      <td> 138</td>\n",
        "    </tr>\n",
        "    <tr>\n",
        "      <th>3</th>\n",
        "      <td> 911463840</td>\n",
        "      <td>       Re: Indemnification</td>\n",
        "      <td> 138</td>\n",
        "    </tr>\n",
        "    <tr>\n",
        "      <th>4</th>\n",
        "      <td> 911874180</td>\n",
        "      <td>    Re: Coral Energy, L.P.</td>\n",
        "      <td> 138</td>\n",
        "    </tr>\n",
        "    <tr>\n",
        "      <th>5</th>\n",
        "      <td> 912396120</td>\n",
        "      <td> Bankruptcy Code revisions</td>\n",
        "      <td> 138</td>\n",
        "    </tr>\n",
        "  </tbody>\n",
        "</table>\n",
        "<p>5 rows \u00d7 3 columns</p>\n",
        "</div>"
       ],
       "metadata": {},
       "output_type": "pyout",
       "prompt_number": 13,
       "text": [
        "     unix_time                    subject  from_eid\n",
        "mid                                                \n",
        "1    910930020             Cd$ CME letter       138\n",
        "2    911459940            Indemnification       138\n",
        "3    911463840        Re: Indemnification       138\n",
        "4    911874180     Re: Coral Energy, L.P.       138\n",
        "5    912396120  Bankruptcy Code revisions       138\n",
        "\n",
        "[5 rows x 3 columns]"
       ]
      }
     ],
     "prompt_number": 13
    },
    {
     "cell_type": "code",
     "collapsed": false,
     "input": [
      "MessageBase = sql.frame_query(\"\"\"SELECT mid, unix_time, subject, from_eid \n",
      "                FROM MessageBase\"\"\", conn, \"mid\")\n",
      "MessageBase.head()"
     ],
     "language": "python",
     "metadata": {
      "slideshow": {
       "slide_type": "fragment"
      }
     },
     "outputs": [
      {
       "html": [
        "<div style=\"max-height:1000px;max-width:1500px;overflow:auto;\">\n",
        "<table border=\"1\" class=\"dataframe\">\n",
        "  <thead>\n",
        "    <tr style=\"text-align: right;\">\n",
        "      <th></th>\n",
        "      <th>unix_time</th>\n",
        "      <th>subject</th>\n",
        "      <th>from_eid</th>\n",
        "    </tr>\n",
        "    <tr>\n",
        "      <th>mid</th>\n",
        "      <th></th>\n",
        "      <th></th>\n",
        "      <th></th>\n",
        "    </tr>\n",
        "  </thead>\n",
        "  <tbody>\n",
        "    <tr>\n",
        "      <th>1</th>\n",
        "      <td> 910930020</td>\n",
        "      <td>            Cd$ CME letter</td>\n",
        "      <td> 138</td>\n",
        "    </tr>\n",
        "    <tr>\n",
        "      <th>2</th>\n",
        "      <td> 911459940</td>\n",
        "      <td>           Indemnification</td>\n",
        "      <td> 138</td>\n",
        "    </tr>\n",
        "    <tr>\n",
        "      <th>3</th>\n",
        "      <td> 911463840</td>\n",
        "      <td>       Re: Indemnification</td>\n",
        "      <td> 138</td>\n",
        "    </tr>\n",
        "    <tr>\n",
        "      <th>4</th>\n",
        "      <td> 911874180</td>\n",
        "      <td>    Re: Coral Energy, L.P.</td>\n",
        "      <td> 138</td>\n",
        "    </tr>\n",
        "    <tr>\n",
        "      <th>5</th>\n",
        "      <td> 912396120</td>\n",
        "      <td> Bankruptcy Code revisions</td>\n",
        "      <td> 138</td>\n",
        "    </tr>\n",
        "  </tbody>\n",
        "</table>\n",
        "<p>5 rows \u00d7 3 columns</p>\n",
        "</div>"
       ],
       "metadata": {},
       "output_type": "pyout",
       "prompt_number": 14,
       "text": [
        "     unix_time                    subject  from_eid\n",
        "mid                                                \n",
        "1    910930020             Cd$ CME letter       138\n",
        "2    911459940            Indemnification       138\n",
        "3    911463840        Re: Indemnification       138\n",
        "4    911874180     Re: Coral Energy, L.P.       138\n",
        "5    912396120  Bankruptcy Code revisions       138\n",
        "\n",
        "[5 rows x 3 columns]"
       ]
      }
     ],
     "prompt_number": 14
    },
    {
     "cell_type": "markdown",
     "metadata": {
      "slideshow": {
       "slide_type": "subslide"
      }
     },
     "source": [
      "SQL JOIN (with `USING`):"
     ]
    },
    {
     "cell_type": "code",
     "collapsed": false,
     "input": [
      "sql.frame_query(\"\"\"SELECT mid, unix_time, subject, from_eid, rno, to_eid \n",
      "                FROM MessageBase JOIN RecipientBase USING (mid) LIMIT 5\"\"\", conn, \"mid\")"
     ],
     "language": "python",
     "metadata": {
      "slideshow": {
       "slide_type": "-"
      }
     },
     "outputs": [
      {
       "html": [
        "<div style=\"max-height:1000px;max-width:1500px;overflow:auto;\">\n",
        "<table border=\"1\" class=\"dataframe\">\n",
        "  <thead>\n",
        "    <tr style=\"text-align: right;\">\n",
        "      <th></th>\n",
        "      <th>unix_time</th>\n",
        "      <th>subject</th>\n",
        "      <th>from_eid</th>\n",
        "      <th>rno</th>\n",
        "      <th>to_eid</th>\n",
        "    </tr>\n",
        "    <tr>\n",
        "      <th>mid</th>\n",
        "      <th></th>\n",
        "      <th></th>\n",
        "      <th></th>\n",
        "      <th></th>\n",
        "      <th></th>\n",
        "    </tr>\n",
        "  </thead>\n",
        "  <tbody>\n",
        "    <tr>\n",
        "      <th>1</th>\n",
        "      <td> 910930020</td>\n",
        "      <td>         Cd$ CME letter</td>\n",
        "      <td> 138</td>\n",
        "      <td> 1</td>\n",
        "      <td>  59</td>\n",
        "    </tr>\n",
        "    <tr>\n",
        "      <th>2</th>\n",
        "      <td> 911459940</td>\n",
        "      <td>        Indemnification</td>\n",
        "      <td> 138</td>\n",
        "      <td> 1</td>\n",
        "      <td>  15</td>\n",
        "    </tr>\n",
        "    <tr>\n",
        "      <th>3</th>\n",
        "      <td> 911463840</td>\n",
        "      <td>    Re: Indemnification</td>\n",
        "      <td> 138</td>\n",
        "      <td> 1</td>\n",
        "      <td>  15</td>\n",
        "    </tr>\n",
        "    <tr>\n",
        "      <th>4</th>\n",
        "      <td> 911874180</td>\n",
        "      <td> Re: Coral Energy, L.P.</td>\n",
        "      <td> 138</td>\n",
        "      <td> 1</td>\n",
        "      <td> 109</td>\n",
        "    </tr>\n",
        "    <tr>\n",
        "      <th>4</th>\n",
        "      <td> 911874180</td>\n",
        "      <td> Re: Coral Energy, L.P.</td>\n",
        "      <td> 138</td>\n",
        "      <td> 2</td>\n",
        "      <td>  49</td>\n",
        "    </tr>\n",
        "  </tbody>\n",
        "</table>\n",
        "<p>5 rows \u00d7 5 columns</p>\n",
        "</div>"
       ],
       "metadata": {},
       "output_type": "pyout",
       "prompt_number": 15,
       "text": [
        "     unix_time                 subject  from_eid  rno  to_eid\n",
        "mid                                                          \n",
        "1    910930020          Cd$ CME letter       138    1      59\n",
        "2    911459940         Indemnification       138    1      15\n",
        "3    911463840     Re: Indemnification       138    1      15\n",
        "4    911874180  Re: Coral Energy, L.P.       138    1     109\n",
        "4    911874180  Re: Coral Energy, L.P.       138    2      49\n",
        "\n",
        "[5 rows x 5 columns]"
       ]
      }
     ],
     "prompt_number": 15
    },
    {
     "cell_type": "markdown",
     "metadata": {
      "slideshow": {
       "slide_type": "subslide"
      }
     },
     "source": [
      "pandas.DataFrame.join"
     ]
    },
    {
     "cell_type": "code",
     "collapsed": false,
     "input": [
      "RecipientBase = sql.frame_query(\"SELECT * FROM RecipientBase\", conn, \"mid\")\n",
      "MessageBase.join(RecipientBase).head()"
     ],
     "language": "python",
     "metadata": {
      "slideshow": {
       "slide_type": "-"
      }
     },
     "outputs": [
      {
       "html": [
        "<div style=\"max-height:1000px;max-width:1500px;overflow:auto;\">\n",
        "<table border=\"1\" class=\"dataframe\">\n",
        "  <thead>\n",
        "    <tr style=\"text-align: right;\">\n",
        "      <th></th>\n",
        "      <th>unix_time</th>\n",
        "      <th>subject</th>\n",
        "      <th>from_eid</th>\n",
        "      <th>rno</th>\n",
        "      <th>to_eid</th>\n",
        "    </tr>\n",
        "    <tr>\n",
        "      <th>mid</th>\n",
        "      <th></th>\n",
        "      <th></th>\n",
        "      <th></th>\n",
        "      <th></th>\n",
        "      <th></th>\n",
        "    </tr>\n",
        "  </thead>\n",
        "  <tbody>\n",
        "    <tr>\n",
        "      <th>1</th>\n",
        "      <td> 910930020</td>\n",
        "      <td>         Cd$ CME letter</td>\n",
        "      <td> 138</td>\n",
        "      <td> 1</td>\n",
        "      <td>  59</td>\n",
        "    </tr>\n",
        "    <tr>\n",
        "      <th>2</th>\n",
        "      <td> 911459940</td>\n",
        "      <td>        Indemnification</td>\n",
        "      <td> 138</td>\n",
        "      <td> 1</td>\n",
        "      <td>  15</td>\n",
        "    </tr>\n",
        "    <tr>\n",
        "      <th>3</th>\n",
        "      <td> 911463840</td>\n",
        "      <td>    Re: Indemnification</td>\n",
        "      <td> 138</td>\n",
        "      <td> 1</td>\n",
        "      <td>  15</td>\n",
        "    </tr>\n",
        "    <tr>\n",
        "      <th>4</th>\n",
        "      <td> 911874180</td>\n",
        "      <td> Re: Coral Energy, L.P.</td>\n",
        "      <td> 138</td>\n",
        "      <td> 1</td>\n",
        "      <td> 109</td>\n",
        "    </tr>\n",
        "    <tr>\n",
        "      <th>4</th>\n",
        "      <td> 911874180</td>\n",
        "      <td> Re: Coral Energy, L.P.</td>\n",
        "      <td> 138</td>\n",
        "      <td> 2</td>\n",
        "      <td>  49</td>\n",
        "    </tr>\n",
        "  </tbody>\n",
        "</table>\n",
        "<p>5 rows \u00d7 5 columns</p>\n",
        "</div>"
       ],
       "metadata": {},
       "output_type": "pyout",
       "prompt_number": 16,
       "text": [
        "     unix_time                 subject  from_eid  rno  to_eid\n",
        "mid                                                          \n",
        "1    910930020          Cd$ CME letter       138    1      59\n",
        "2    911459940         Indemnification       138    1      15\n",
        "3    911463840     Re: Indemnification       138    1      15\n",
        "4    911874180  Re: Coral Energy, L.P.       138    1     109\n",
        "4    911874180  Re: Coral Energy, L.P.       138    2      49\n",
        "\n",
        "[5 rows x 5 columns]"
       ]
      }
     ],
     "prompt_number": 16
    },
    {
     "cell_type": "markdown",
     "metadata": {
      "slideshow": {
       "slide_type": "slide"
      }
     },
     "source": [
      "SQL JOIN (with `ON`):"
     ]
    },
    {
     "cell_type": "code",
     "collapsed": false,
     "input": [
      "sql.frame_query(\"\"\"SELECT mid, name, title, seniority,\n",
      "                          unix_time, subject, from_eid \n",
      "                     FROM EmployeeBase \n",
      "                     JOIN MessageBase ON eid = from_eid \n",
      "                    LIMIT 5\"\"\", conn, \"mid\")"
     ],
     "language": "python",
     "metadata": {
      "slideshow": {
       "slide_type": "-"
      }
     },
     "outputs": [
      {
       "html": [
        "<div style=\"max-height:1000px;max-width:1500px;overflow:auto;\">\n",
        "<table border=\"1\" class=\"dataframe\">\n",
        "  <thead>\n",
        "    <tr style=\"text-align: right;\">\n",
        "      <th></th>\n",
        "      <th>name</th>\n",
        "      <th>title</th>\n",
        "      <th>seniority</th>\n",
        "      <th>unix_time</th>\n",
        "      <th>subject</th>\n",
        "      <th>from_eid</th>\n",
        "    </tr>\n",
        "    <tr>\n",
        "      <th>mid</th>\n",
        "      <th></th>\n",
        "      <th></th>\n",
        "      <th></th>\n",
        "      <th></th>\n",
        "      <th></th>\n",
        "      <th></th>\n",
        "    </tr>\n",
        "  </thead>\n",
        "  <tbody>\n",
        "    <tr>\n",
        "      <th>1</th>\n",
        "      <td> Mark E. Taylor</td>\n",
        "      <td> VP &amp; Gen Cnsl</td>\n",
        "      <td> Senior</td>\n",
        "      <td> 910930020</td>\n",
        "      <td>            Cd$ CME letter</td>\n",
        "      <td> 138</td>\n",
        "    </tr>\n",
        "    <tr>\n",
        "      <th>2</th>\n",
        "      <td> Mark E. Taylor</td>\n",
        "      <td> VP &amp; Gen Cnsl</td>\n",
        "      <td> Senior</td>\n",
        "      <td> 911459940</td>\n",
        "      <td>           Indemnification</td>\n",
        "      <td> 138</td>\n",
        "    </tr>\n",
        "    <tr>\n",
        "      <th>3</th>\n",
        "      <td> Mark E. Taylor</td>\n",
        "      <td> VP &amp; Gen Cnsl</td>\n",
        "      <td> Senior</td>\n",
        "      <td> 911463840</td>\n",
        "      <td>       Re: Indemnification</td>\n",
        "      <td> 138</td>\n",
        "    </tr>\n",
        "    <tr>\n",
        "      <th>4</th>\n",
        "      <td> Mark E. Taylor</td>\n",
        "      <td> VP &amp; Gen Cnsl</td>\n",
        "      <td> Senior</td>\n",
        "      <td> 911874180</td>\n",
        "      <td>    Re: Coral Energy, L.P.</td>\n",
        "      <td> 138</td>\n",
        "    </tr>\n",
        "    <tr>\n",
        "      <th>5</th>\n",
        "      <td> Mark E. Taylor</td>\n",
        "      <td> VP &amp; Gen Cnsl</td>\n",
        "      <td> Senior</td>\n",
        "      <td> 912396120</td>\n",
        "      <td> Bankruptcy Code revisions</td>\n",
        "      <td> 138</td>\n",
        "    </tr>\n",
        "  </tbody>\n",
        "</table>\n",
        "<p>5 rows \u00d7 6 columns</p>\n",
        "</div>"
       ],
       "metadata": {},
       "output_type": "pyout",
       "prompt_number": 17,
       "text": [
        "               name          title seniority  unix_time  \\\n",
        "mid                                                       \n",
        "1    Mark E. Taylor  VP & Gen Cnsl    Senior  910930020   \n",
        "2    Mark E. Taylor  VP & Gen Cnsl    Senior  911459940   \n",
        "3    Mark E. Taylor  VP & Gen Cnsl    Senior  911463840   \n",
        "4    Mark E. Taylor  VP & Gen Cnsl    Senior  911874180   \n",
        "5    Mark E. Taylor  VP & Gen Cnsl    Senior  912396120   \n",
        "\n",
        "                       subject  from_eid  \n",
        "mid                                       \n",
        "1               Cd$ CME letter       138  \n",
        "2              Indemnification       138  \n",
        "3          Re: Indemnification       138  \n",
        "4       Re: Coral Energy, L.P.       138  \n",
        "5    Bankruptcy Code revisions       138  \n",
        "\n",
        "[5 rows x 6 columns]"
       ]
      }
     ],
     "prompt_number": 17
    },
    {
     "cell_type": "markdown",
     "metadata": {
      "slideshow": {
       "slide_type": "subslide"
      }
     },
     "source": [
      "pandas.DataFrame.merge"
     ]
    },
    {
     "cell_type": "code",
     "collapsed": false,
     "input": [
      "EmployeeBase = sql.frame_query(\"\"\"SELECT eid, name, title, seniority \n",
      "                                    FROM EmployeeBase\"\"\", conn, \"eid\")\n",
      "EmployeeBase.merge(MessageBase, right_on = 'from_eid', left_index = True).head()"
     ],
     "language": "python",
     "metadata": {
      "slideshow": {
       "slide_type": "-"
      }
     },
     "outputs": [
      {
       "html": [
        "<div style=\"max-height:1000px;max-width:1500px;overflow:auto;\">\n",
        "<table border=\"1\" class=\"dataframe\">\n",
        "  <thead>\n",
        "    <tr style=\"text-align: right;\">\n",
        "      <th></th>\n",
        "      <th>name</th>\n",
        "      <th>title</th>\n",
        "      <th>seniority</th>\n",
        "      <th>unix_time</th>\n",
        "      <th>subject</th>\n",
        "      <th>from_eid</th>\n",
        "    </tr>\n",
        "    <tr>\n",
        "      <th>mid</th>\n",
        "      <th></th>\n",
        "      <th></th>\n",
        "      <th></th>\n",
        "      <th></th>\n",
        "      <th></th>\n",
        "      <th></th>\n",
        "    </tr>\n",
        "  </thead>\n",
        "  <tbody>\n",
        "    <tr>\n",
        "      <th>1611</th>\n",
        "      <td> John Arnold</td>\n",
        "      <td> VP Trading</td>\n",
        "      <td> Senior</td>\n",
        "      <td> 954317280</td>\n",
        "      <td>        Re: Insurance Call Spread</td>\n",
        "      <td> 1</td>\n",
        "    </tr>\n",
        "    <tr>\n",
        "      <th>1615</th>\n",
        "      <td> John Arnold</td>\n",
        "      <td> VP Trading</td>\n",
        "      <td> Senior</td>\n",
        "      <td> 954328920</td>\n",
        "      <td> New curve generation methodology</td>\n",
        "      <td> 1</td>\n",
        "    </tr>\n",
        "    <tr>\n",
        "      <th>1722</th>\n",
        "      <td> John Arnold</td>\n",
        "      <td> VP Trading</td>\n",
        "      <td> Senior</td>\n",
        "      <td> 955447080</td>\n",
        "      <td> Option Analysis on NG Price Book</td>\n",
        "      <td> 1</td>\n",
        "    </tr>\n",
        "    <tr>\n",
        "      <th>1723</th>\n",
        "      <td> John Arnold</td>\n",
        "      <td> VP Trading</td>\n",
        "      <td> Senior</td>\n",
        "      <td> 955448160</td>\n",
        "      <td>                                 </td>\n",
        "      <td> 1</td>\n",
        "    </tr>\n",
        "    <tr>\n",
        "      <th>1763</th>\n",
        "      <td> John Arnold</td>\n",
        "      <td> VP Trading</td>\n",
        "      <td> Senior</td>\n",
        "      <td> 955701240</td>\n",
        "      <td>                      Re: options</td>\n",
        "      <td> 1</td>\n",
        "    </tr>\n",
        "  </tbody>\n",
        "</table>\n",
        "<p>5 rows \u00d7 6 columns</p>\n",
        "</div>"
       ],
       "metadata": {},
       "output_type": "pyout",
       "prompt_number": 18,
       "text": [
        "             name       title seniority  unix_time  \\\n",
        "mid                                                  \n",
        "1611  John Arnold  VP Trading    Senior  954317280   \n",
        "1615  John Arnold  VP Trading    Senior  954328920   \n",
        "1722  John Arnold  VP Trading    Senior  955447080   \n",
        "1723  John Arnold  VP Trading    Senior  955448160   \n",
        "1763  John Arnold  VP Trading    Senior  955701240   \n",
        "\n",
        "                               subject  from_eid  \n",
        "mid                                               \n",
        "1611         Re: Insurance Call Spread         1  \n",
        "1615  New curve generation methodology         1  \n",
        "1722  Option Analysis on NG Price Book         1  \n",
        "1723                                           1  \n",
        "1763                       Re: options         1  \n",
        "\n",
        "[5 rows x 6 columns]"
       ]
      }
     ],
     "prompt_number": 18
    },
    {
     "cell_type": "markdown",
     "metadata": {
      "slideshow": {
       "slide_type": "slide"
      }
     },
     "source": [
      "Histograms are a good way to get a feel for the data. For example:"
     ]
    },
    {
     "cell_type": "code",
     "collapsed": false,
     "input": [
      "% matplotlib inline\n",
      "MessageBase.unix_time.hist()"
     ],
     "language": "python",
     "metadata": {
      "slideshow": {
       "slide_type": "slide"
      }
     },
     "outputs": [
      {
       "metadata": {},
       "output_type": "pyout",
       "prompt_number": 19,
       "text": [
        "<matplotlib.axes.AxesSubplot at 0xd3bf208>"
       ]
      },
      {
       "metadata": {},
       "output_type": "display_data",
       "png": "[encoded data removed]",
       "text": [
        "<matplotlib.figure.Figure at 0xd3aecf8>"
       ]
      }
     ],
     "prompt_number": 19
    },
    {
     "cell_type": "code",
     "collapsed": false,
     "input": [
      "MessageBase.unix_time.mean()"
     ],
     "language": "python",
     "metadata": {
      "slideshow": {
       "slide_type": "skip"
      }
     },
     "outputs": [
      {
       "metadata": {},
       "output_type": "pyout",
       "prompt_number": 20,
       "text": [
        "985319365.65994918"
       ]
      }
     ],
     "prompt_number": 20
    },
    {
     "cell_type": "markdown",
     "metadata": {
      "slideshow": {
       "slide_type": "fragment"
      }
     },
     "source": [
      "What does this tell us? "
     ]
    },
    {
     "cell_type": "markdown",
     "metadata": {
      "slideshow": {
       "slide_type": "slide"
      }
     },
     "source": [
      "Convert `unix_time` to human readable form (i.e. `datetime`)"
     ]
    },
    {
     "cell_type": "markdown",
     "metadata": {
      "slideshow": {
       "slide_type": "notes"
      }
     },
     "source": [
      "`unix_time` (i.e. `unixepoch`) is easy for computers to read, but difficult for humans. It is the number of seconds since midnight, January 1, 1970. To make it more readable, we will map datetime.fromtimestamp onto that value to return a datetime object. We can then downsample the data from seconds to weeks. "
     ]
    },
    {
     "cell_type": "code",
     "collapsed": false,
     "input": [
      "from datetime import datetime\n",
      "dt = MessageBase.unix_time.map(datetime.fromtimestamp)\n",
      "MessageBase.groupby(dt).unix_time.count().resample('1W', how='sum').plot()"
     ],
     "language": "python",
     "metadata": {
      "slideshow": {
       "slide_type": "-"
      }
     },
     "outputs": [
      {
       "metadata": {},
       "output_type": "pyout",
       "prompt_number": 21,
       "text": [
        "<matplotlib.axes.AxesSubplot at 0xd44db38>"
       ]
      },
      {
       "metadata": {},
       "output_type": "display_data",
       "png": "[encoded data removed]",
       "text": [
        "<matplotlib.figure.Figure at 0xd473f60>"
       ]
      }
     ],
     "prompt_number": 21
    },
    {
     "cell_type": "markdown",
     "metadata": {
      "slideshow": {
       "slide_type": "fragment"
      }
     },
     "source": [
      "What does this tell us?"
     ]
    },
    {
     "cell_type": "markdown",
     "metadata": {
      "slideshow": {
       "slide_type": "slide"
      }
     },
     "source": [
      "Consider recipient counts (i.e. `MAX(rno)`)"
     ]
    },
    {
     "cell_type": "markdown",
     "metadata": {
      "slideshow": {
       "slide_type": "notes"
      }
     },
     "source": [
      "Perhaps the recipient counts would be interesting as well. This time we will cast `unix_time` to a datetime string in our query. Since this is a new query, we will also make sure it looks okay by calling `.head()` before we do anyting else:"
     ]
    },
    {
     "cell_type": "code",
     "collapsed": false,
     "input": [
      "recipient_counts = sql.frame_query(\"\"\"SELECT mid, datetime(unix_time, 'unixepoch') AS time_sent, \n",
      "                                             MAX(rno) AS recipient_count \n",
      "                                        FROM MessageBase JOIN RecipientBase USING (mid) \n",
      "                                       GROUP BY mid, time_sent\"\"\", \n",
      "                                   conn, \"mid\")\n",
      "recipient_counts.head()"
     ],
     "language": "python",
     "metadata": {
      "slideshow": {
       "slide_type": "fragment"
      }
     },
     "outputs": [
      {
       "html": [
        "<div style=\"max-height:1000px;max-width:1500px;overflow:auto;\">\n",
        "<table border=\"1\" class=\"dataframe\">\n",
        "  <thead>\n",
        "    <tr style=\"text-align: right;\">\n",
        "      <th></th>\n",
        "      <th>time_sent</th>\n",
        "      <th>recipient_count</th>\n",
        "    </tr>\n",
        "    <tr>\n",
        "      <th>mid</th>\n",
        "      <th></th>\n",
        "      <th></th>\n",
        "    </tr>\n",
        "  </thead>\n",
        "  <tbody>\n",
        "    <tr>\n",
        "      <th>1</th>\n",
        "      <td> 1998-11-13 04:07:00</td>\n",
        "      <td> 1</td>\n",
        "    </tr>\n",
        "    <tr>\n",
        "      <th>2</th>\n",
        "      <td> 1998-11-19 07:19:00</td>\n",
        "      <td> 1</td>\n",
        "    </tr>\n",
        "    <tr>\n",
        "      <th>3</th>\n",
        "      <td> 1998-11-19 08:24:00</td>\n",
        "      <td> 1</td>\n",
        "    </tr>\n",
        "    <tr>\n",
        "      <th>4</th>\n",
        "      <td> 1998-11-24 02:23:00</td>\n",
        "      <td> 4</td>\n",
        "    </tr>\n",
        "    <tr>\n",
        "      <th>5</th>\n",
        "      <td> 1998-11-30 03:22:00</td>\n",
        "      <td> 2</td>\n",
        "    </tr>\n",
        "  </tbody>\n",
        "</table>\n",
        "<p>5 rows \u00d7 2 columns</p>\n",
        "</div>"
       ],
       "metadata": {},
       "output_type": "pyout",
       "prompt_number": 22,
       "text": [
        "               time_sent  recipient_count\n",
        "mid                                      \n",
        "1    1998-11-13 04:07:00                1\n",
        "2    1998-11-19 07:19:00                1\n",
        "3    1998-11-19 08:24:00                1\n",
        "4    1998-11-24 02:23:00                4\n",
        "5    1998-11-30 03:22:00                2\n",
        "\n",
        "[5 rows x 2 columns]"
       ]
      }
     ],
     "prompt_number": 22
    },
    {
     "cell_type": "markdown",
     "metadata": {
      "slideshow": {
       "slide_type": "slide"
      }
     },
     "source": [
      "grouping objects"
     ]
    },
    {
     "cell_type": "markdown",
     "metadata": {
      "slideshow": {
       "slide_type": "notes"
      }
     },
     "source": [
      "When using `pandas.DataFrame.groupby` it is sometimes useful to create a grouping object first. In this case, we will do it by mapping the datetime strings we received from SQLite to a weekly period. (This could also have been done in SQL, but it would have come across as a string. This way it exists as a `pandas.Period` object which has more intelligence.)"
     ]
    },
    {
     "cell_type": "code",
     "collapsed": false,
     "input": [
      "w = recipient_counts.time_sent.map(lambda dt: pd.Period(dt, freq='W'))\n",
      "recipient_counts.groupby(w).recipient_count.mean().plot(ylim=(0,10))"
     ],
     "language": "python",
     "metadata": {
      "slideshow": {
       "slide_type": "-"
      }
     },
     "outputs": [
      {
       "metadata": {},
       "output_type": "pyout",
       "prompt_number": 23,
       "text": [
        "<matplotlib.axes.AxesSubplot at 0xe7671d0>"
       ]
      },
      {
       "metadata": {},
       "output_type": "display_data",
       "png": "[encoded data removed]",
       "text": [
        "<matplotlib.figure.Figure at 0xe763da0>"
       ]
      }
     ],
     "prompt_number": 23
    },
    {
     "cell_type": "markdown",
     "metadata": {
      "slideshow": {
       "slide_type": "slide"
      }
     },
     "source": [
      "Lab\n",
      "============\n",
      "1-2 Pairs\n",
      "------------"
     ]
    },
    {
     "cell_type": "markdown",
     "metadata": {
      "slideshow": {
       "slide_type": "notes"
      }
     },
     "source": [
      "Raise two fingers if you understand the material well.  \n",
      "Raise one finger if you understand this material OK.  \n",
      "Now, 1 find a 2 and sit next to them. While you work through this exercise, only 1's can type."
     ]
    },
    {
     "cell_type": "markdown",
     "metadata": {
      "slideshow": {
       "slide_type": "fragment"
      }
     },
     "source": [
      "Use [`matplotlib.pyplot.scatter`](http://matplotlib.org/api/pyplot_api.html#matplotlib.pyplot.scatter) (or `plt.scatter` for short) to plot the length of the `subject`s against the `recipient_count`."
     ]
    },
    {
     "cell_type": "markdown",
     "metadata": {
      "slideshow": {
       "slide_type": "skip"
      }
     },
     "source": [
      "Hint: Take advantage of IPython's help functionality:"
     ]
    },
    {
     "cell_type": "code",
     "collapsed": false,
     "input": [
      "import matplotlib.pyplot as plt\n",
      "#plt.scatter?\n",
      "\n",
      "recipient_counts = sql.frame_query(\"\"\"SELECT mid, MAX(rno) AS recipient_count, length(subject) as slen, subject\n",
      "                                       FROM MessageBase JOIN RecipientBase USING (mid) \n",
      "                                       GROUP BY mid\n",
      "                                       \"\"\", \n",
      "                                   conn, \"mid\")\n",
      "#recipient_counts\n",
      "#plt.scatter(recipient_counts.recipient_count,recipient_counts.slen)\n",
      "plt.scatter(recipient_counts.slen,recipient_counts.recipient_count)\n",
      "## Pandas\n",
      "\n"
     ],
     "language": "python",
     "metadata": {
      "slideshow": {
       "slide_type": "skip"
      }
     },
     "outputs": [
      {
       "metadata": {},
       "output_type": "pyout",
       "prompt_number": 30,
       "text": [
        "<matplotlib.collections.PathCollection at 0x112baeb8>"
       ]
      },
      {
       "metadata": {},
       "output_type": "display_data",
       "png": "[encoded data removed]",
       "text": [
        "<matplotlib.figure.Figure at 0x1129cdd8>"
       ]
      }
     ],
     "prompt_number": 30
    },
    {
     "cell_type": "markdown",
     "metadata": {
      "slideshow": {
       "slide_type": "fragment"
      }
     },
     "source": [
      "Individually:\n",
      "------------\n",
      "Plot the `median` `subject` `len`gth over time (using the same weekly grouping object above)"
     ]
    },
    {
     "cell_type": "code",
     "collapsed": false,
     "input": [
      "recipient_counts = sql.frame_query(\"\"\"SELECT mid, datetime(unix_time, 'unixepoch') AS time_sent, \n",
      "                                             length(subject) as subjlen, subject\n",
      "                                        FROM MessageBase \"\"\", \n",
      "                                   conn, \"mid\")\n",
      "recipient_counts.head()\n",
      "w = recipient_counts.time_sent.map(lambda dt: pd.Period(dt, freq='W'))\n",
      "recipient_counts.groupby(w).subjlen.median().plot()"
     ],
     "language": "python",
     "metadata": {},
     "outputs": [
      {
       "metadata": {},
       "output_type": "pyout",
       "prompt_number": 27,
       "text": [
        "<matplotlib.axes.AxesSubplot at 0x10c85550>"
       ]
      },
      {
       "metadata": {},
       "output_type": "display_data",
       "png": "[encoded data removed]",
       "text": [
        "<matplotlib.figure.Figure at 0x10c85198>"
       ]
      }
     ],
     "prompt_number": 27
    },
    {
     "cell_type": "raw",
     "metadata": {},
     "source": [
      "Further exercises: Try to find your own discoveries! (e.g. is there anything interesting you could say about the subjects of the emails. What about who sent the first ones and who sent the last ones? What about the recipients themselves? (hint: `to_eid` is a foreign key to `eid`)"
     ]
    },
    {
     "cell_type": "markdown",
     "metadata": {
      "slideshow": {
       "slide_type": "skip"
      }
     },
     "source": [
      "See [Pandas for SQL Developers](http://nbviewer.ipython.org/urls/bitbucket.org/hrojas/learn-pandas/raw/master/lessons/Pandas%20for%20SQL%20Developers.ipynb) for more examples about how Pandas and SQL compare."
     ]
    },
    {
     "cell_type": "markdown",
     "metadata": {
      "slideshow": {
       "slide_type": "slide"
      }
     },
     "source": [
      "Next Time:\n",
      "============\n",
      "APIs & NoSQL\n",
      "------------"
     ]
    }
   ],
   "metadata": {}
  }
 ]
}