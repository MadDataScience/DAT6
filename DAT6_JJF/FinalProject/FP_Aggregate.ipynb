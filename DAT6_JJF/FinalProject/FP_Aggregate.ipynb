{
 "metadata": {
  "name": "",
  "signature": "sha256:9fd9d98311a9cc7f5e4451ec7f07935ee56d287f4738c179396b18836b886034"
 },
 "nbformat": 3,
 "nbformat_minor": 0,
 "worksheets": [
  {
   "cells": [
    {
     "cell_type": "markdown",
     "metadata": {},
     "source": [
      "___\n",
      "##Aggregate\n",
      "This will roll up certain events from HistoryPoints table data up by driver as \n",
      "rates (dist evt/totdist) for interesting vars\n",
      "- realize this is not efficient, but keeping it simple\n",
      "\n",
      "Useful bits\n",
      "- [History Point Table Ref](https://api-preview.telogis.com/documentation/) \n",
      "- A sample DriverId 589387410\n",
      "___\n",
      "\n"
     ]
    },
    {
     "cell_type": "markdown",
     "metadata": {},
     "source": [
      "### Imports & Connect to DB"
     ]
    },
    {
     "cell_type": "code",
     "collapsed": false,
     "input": [
      "import csv\n",
      "from datetime import datetime, timedelta\n",
      "import pandas as pd\n",
      "from pandas.io import sql\n",
      "import sqlite3\n",
      "import yaml\n",
      "\n",
      "%load_ext sql\n",
      "conn = sqlite3.connect(\"E:\\\\GOOGLEDRIVE\\\\Google Drive\\\\Personal\\\\GA\\\\Class\\\\data\\\\tst_1day.db\")\n",
      "\n",
      "## if true this will test each function\n",
      "TEST = True"
     ],
     "language": "python",
     "metadata": {},
     "outputs": [],
     "prompt_number": 2
    },
    {
     "cell_type": "markdown",
     "metadata": {},
     "source": [
      "### Sum Ditance by Driver\n",
      "Return dataframe with DriverID and cumulative dist for the period held in tab_name\n",
      " - tab_name is period of raw HistoryPoint data stored as table in sqlite, created using FP_LoadingData.ipynb\n",
      " - accounts for drivers changing veh by using odo delta - dosen't matter what veh it was we just have dist\n",
      "\n",
      "**TODO: **\n",
      " - need to account for \"Time to live\""
     ]
    },
    {
     "cell_type": "code",
     "collapsed": true,
     "input": [
      "def get_dist_by_driver(tab_name):\n",
      "    qry_str = \"\"\"SELECT Driverid, SUM(CAST((substr(OdometerDelta, 0, length(OdometerDelta)-2)) AS REAL)) as TotDist\n",
      "                 FROM %s\n",
      "                 GROUP BY DriverId\"\"\" % tab_name\n",
      "    return sql.frame_query(qry_str, conn)\n",
      "\n",
      "#Test\n",
      "get_dist_by_driver('HistPts').head() if TEST else None"
     ],
     "language": "python",
     "metadata": {},
     "outputs": [
      {
       "html": [
        "<div style=\"max-height:1000px;max-width:1500px;overflow:auto;\">\n",
        "<table border=\"1\" class=\"dataframe\">\n",
        "  <thead>\n",
        "    <tr style=\"text-align: right;\">\n",
        "      <th></th>\n",
        "      <th>DriverId</th>\n",
        "      <th>TotDist</th>\n",
        "    </tr>\n",
        "  </thead>\n",
        "  <tbody>\n",
        "    <tr>\n",
        "      <th>0</th>\n",
        "      <td> 220422457</td>\n",
        "      <td> 140.3</td>\n",
        "    </tr>\n",
        "    <tr>\n",
        "      <th>1</th>\n",
        "      <td> 220422467</td>\n",
        "      <td>   0.1</td>\n",
        "    </tr>\n",
        "    <tr>\n",
        "      <th>2</th>\n",
        "      <td> 220422471</td>\n",
        "      <td>   0.0</td>\n",
        "    </tr>\n",
        "    <tr>\n",
        "      <th>3</th>\n",
        "      <td> 220422481</td>\n",
        "      <td> 106.6</td>\n",
        "    </tr>\n",
        "    <tr>\n",
        "      <th>4</th>\n",
        "      <td> 220422483</td>\n",
        "      <td>  75.5</td>\n",
        "    </tr>\n",
        "  </tbody>\n",
        "</table>\n",
        "<p>5 rows \u00d7 2 columns</p>\n",
        "</div>"
       ],
       "metadata": {},
       "output_type": "pyout",
       "prompt_number": 3,
       "text": [
        "    DriverId  TotDist\n",
        "0  220422457    140.3\n",
        "1  220422467      0.1\n",
        "2  220422471      0.0\n",
        "3  220422481    106.6\n",
        "4  220422483     75.5\n",
        "\n",
        "[5 rows x 2 columns]"
       ]
      }
     ],
     "prompt_number": 3
    },
    {
     "cell_type": "code",
     "collapsed": false,
     "input": [
      "# Get table of unique drivers & total milage\n",
      "driver_dists = get_dist_by_driver('HistPts')\n",
      "# test\n",
      "driver_dists.head() if TEST else None"
     ],
     "language": "python",
     "metadata": {},
     "outputs": [
      {
       "html": [
        "<div style=\"max-height:1000px;max-width:1500px;overflow:auto;\">\n",
        "<table border=\"1\" class=\"dataframe\">\n",
        "  <thead>\n",
        "    <tr style=\"text-align: right;\">\n",
        "      <th></th>\n",
        "      <th>DriverId</th>\n",
        "      <th>TotDist</th>\n",
        "    </tr>\n",
        "  </thead>\n",
        "  <tbody>\n",
        "    <tr>\n",
        "      <th>0</th>\n",
        "      <td> 220422457</td>\n",
        "      <td> 140.3</td>\n",
        "    </tr>\n",
        "    <tr>\n",
        "      <th>1</th>\n",
        "      <td> 220422467</td>\n",
        "      <td>   0.1</td>\n",
        "    </tr>\n",
        "    <tr>\n",
        "      <th>2</th>\n",
        "      <td> 220422471</td>\n",
        "      <td>   0.0</td>\n",
        "    </tr>\n",
        "    <tr>\n",
        "      <th>3</th>\n",
        "      <td> 220422481</td>\n",
        "      <td> 106.6</td>\n",
        "    </tr>\n",
        "    <tr>\n",
        "      <th>4</th>\n",
        "      <td> 220422483</td>\n",
        "      <td>  75.5</td>\n",
        "    </tr>\n",
        "  </tbody>\n",
        "</table>\n",
        "<p>5 rows \u00d7 2 columns</p>\n",
        "</div>"
       ],
       "metadata": {},
       "output_type": "pyout",
       "prompt_number": 15,
       "text": [
        "    DriverId  TotDist\n",
        "0  220422457    140.3\n",
        "1  220422467      0.1\n",
        "2  220422471      0.0\n",
        "3  220422481    106.6\n",
        "4  220422483     75.5\n",
        "\n",
        "[5 rows x 2 columns]"
       ]
      }
     ],
     "prompt_number": 15
    },
    {
     "cell_type": "markdown",
     "metadata": {},
     "source": [
      "### Sum distances for each type of event by driver\n",
      "realize this is not efficeint, trying to keep it simple"
     ]
    },
    {
     "cell_type": "code",
     "collapsed": false,
     "input": [
      "# BOOL METRIC DIST\n",
      "# for a given driver, sum the miles where col = true\n",
      "# return a distance as float \n",
      "\n",
      "def get_cum_dist_by_driver_and_metric(tab_name, driver_id, col):\n",
      "    #get cumulative odo from all recs for driver where colname val == true\n",
      "    qry_str = \"\"\"SELECT SUM(CAST((substr(OdometerDelta, 0, length(OdometerDelta)-2)) AS REAL))\n",
      "                    FROM %s\n",
      "                    WHERE DriverId = %s\n",
      "                    AND %s = 1\"\"\" % (tab_name, driver_id, col)\n",
      "    val = (conn.cursor().execute(qry_str)).next()[0]\n",
      "    if val == None:\n",
      "        return 0.0\n",
      "    else:\n",
      "        return val\n",
      "\n",
      "# test    \n",
      "get_cum_dist_by_driver_and_metric('HistPts', '220422457','CruiseControlActive') if TEST else None"
     ],
     "language": "python",
     "metadata": {},
     "outputs": [
      {
       "metadata": {},
       "output_type": "pyout",
       "prompt_number": 4,
       "text": [
        "23.199999999999996"
       ]
      }
     ],
     "prompt_number": 4
    },
    {
     "cell_type": "code",
     "collapsed": false,
     "input": [
      "# Load a list of TDE cols that are type bool from a txt file\n",
      "bool_cols = pd.read_csv(\".\\\\data\\\\boolCols.txt\", header=None, names=['colName'])\n",
      "bool_col_names = bool_cols.colName.tolist()\n",
      "driver_dists.columns.append(c for c in bool_col_names)\n",
      "driver_dists.columns"
     ],
     "language": "python",
     "metadata": {},
     "outputs": [
      {
       "ename": "ValueError",
       "evalue": "all the input arrays must have same number of dimensions",
       "output_type": "pyerr",
       "traceback": [
        "\u001b[1;31m---------------------------------------------------------------------------\u001b[0m\n\u001b[1;31mValueError\u001b[0m                                Traceback (most recent call last)",
        "\u001b[1;32m<ipython-input-16-88469cf0d9e6>\u001b[0m in \u001b[0;36m<module>\u001b[1;34m()\u001b[0m\n\u001b[0;32m      2\u001b[0m \u001b[0mbool_cols\u001b[0m \u001b[1;33m=\u001b[0m \u001b[0mpd\u001b[0m\u001b[1;33m.\u001b[0m\u001b[0mread_csv\u001b[0m\u001b[1;33m(\u001b[0m\u001b[1;34m\".\\\\data\\\\boolCols.txt\"\u001b[0m\u001b[1;33m,\u001b[0m \u001b[0mheader\u001b[0m\u001b[1;33m=\u001b[0m\u001b[0mNone\u001b[0m\u001b[1;33m,\u001b[0m \u001b[0mnames\u001b[0m\u001b[1;33m=\u001b[0m\u001b[1;33m[\u001b[0m\u001b[1;34m'colName'\u001b[0m\u001b[1;33m]\u001b[0m\u001b[1;33m)\u001b[0m\u001b[1;33m\u001b[0m\u001b[0m\n\u001b[0;32m      3\u001b[0m \u001b[0mbool_col_names\u001b[0m \u001b[1;33m=\u001b[0m \u001b[0mbool_cols\u001b[0m\u001b[1;33m.\u001b[0m\u001b[0mcolName\u001b[0m\u001b[1;33m.\u001b[0m\u001b[0mtolist\u001b[0m\u001b[1;33m(\u001b[0m\u001b[1;33m)\u001b[0m\u001b[1;33m\u001b[0m\u001b[0m\n\u001b[1;32m----> 4\u001b[1;33m \u001b[0mdriver_dists\u001b[0m\u001b[1;33m.\u001b[0m\u001b[0mcolumns\u001b[0m\u001b[1;33m.\u001b[0m\u001b[0mappend\u001b[0m\u001b[1;33m(\u001b[0m\u001b[0mc\u001b[0m \u001b[1;32mfor\u001b[0m \u001b[0mc\u001b[0m \u001b[1;32min\u001b[0m \u001b[0mbool_col_names\u001b[0m\u001b[1;33m)\u001b[0m\u001b[1;33m\u001b[0m\u001b[0m\n\u001b[0m\u001b[0;32m      5\u001b[0m \u001b[0mdriver_dists\u001b[0m\u001b[1;33m.\u001b[0m\u001b[0mcolumns\u001b[0m\u001b[1;33m\u001b[0m\u001b[0m\n",
        "\u001b[1;32mC:\\Users\\Jeff.Fiore\\Anaconda\\lib\\site-packages\\pandas\\core\\index.pyc\u001b[0m in \u001b[0;36mappend\u001b[1;34m(self, other)\u001b[0m\n\u001b[0;32m    666\u001b[0m                      for x in to_concat]\n\u001b[0;32m    667\u001b[0m \u001b[1;33m\u001b[0m\u001b[0m\n\u001b[1;32m--> 668\u001b[1;33m         \u001b[1;32mreturn\u001b[0m \u001b[0mIndex\u001b[0m\u001b[1;33m(\u001b[0m\u001b[0mnp\u001b[0m\u001b[1;33m.\u001b[0m\u001b[0mconcatenate\u001b[0m\u001b[1;33m(\u001b[0m\u001b[0mto_concat\u001b[0m\u001b[1;33m)\u001b[0m\u001b[1;33m,\u001b[0m \u001b[0mname\u001b[0m\u001b[1;33m=\u001b[0m\u001b[0mname\u001b[0m\u001b[1;33m)\u001b[0m\u001b[1;33m\u001b[0m\u001b[0m\n\u001b[0m\u001b[0;32m    669\u001b[0m \u001b[1;33m\u001b[0m\u001b[0m\n\u001b[0;32m    670\u001b[0m     \u001b[1;33m@\u001b[0m\u001b[0mstaticmethod\u001b[0m\u001b[1;33m\u001b[0m\u001b[0m\n",
        "\u001b[1;31mValueError\u001b[0m: all the input arrays must have same number of dimensions"
       ]
      }
     ],
     "prompt_number": 16
    },
    {
     "cell_type": "code",
     "collapsed": false,
     "input": [
      "# add all the event data to df of unique driver and total distance (driver_dists)\n",
      "for i, row in driver_dists.iterrows():\n",
      "    for col in bool_col_names:\n",
      "       row[col]= get_cum_dist_by_driver_and_metric('HistPts', row.DriverId, col)\n",
      "# test\n",
      "driver_dists.head() if TEST else None"
     ],
     "language": "python",
     "metadata": {},
     "outputs": [
      {
       "ename": "KeyboardInterrupt",
       "evalue": "",
       "output_type": "pyerr",
       "traceback": [
        "\u001b[1;31m---------------------------------------------------------------------------\u001b[0m\n\u001b[1;31mKeyboardInterrupt\u001b[0m                         Traceback (most recent call last)",
        "\u001b[1;32m<ipython-input-8-6e72df58a79b>\u001b[0m in \u001b[0;36m<module>\u001b[1;34m()\u001b[0m\n\u001b[0;32m      2\u001b[0m \u001b[1;32mfor\u001b[0m \u001b[0mi\u001b[0m\u001b[1;33m,\u001b[0m \u001b[0mrow\u001b[0m \u001b[1;32min\u001b[0m \u001b[0mdriver_dists\u001b[0m\u001b[1;33m.\u001b[0m\u001b[0miterrows\u001b[0m\u001b[1;33m(\u001b[0m\u001b[1;33m)\u001b[0m\u001b[1;33m:\u001b[0m\u001b[1;33m\u001b[0m\u001b[0m\n\u001b[0;32m      3\u001b[0m     \u001b[1;32mfor\u001b[0m \u001b[0mcol\u001b[0m \u001b[1;32min\u001b[0m \u001b[0mbool_col_names\u001b[0m\u001b[1;33m:\u001b[0m\u001b[1;33m\u001b[0m\u001b[0m\n\u001b[1;32m----> 4\u001b[1;33m        \u001b[0mrow\u001b[0m\u001b[1;33m[\u001b[0m\u001b[0mcol\u001b[0m\u001b[1;33m]\u001b[0m\u001b[1;33m=\u001b[0m \u001b[0mget_cum_dist_by_driver_and_metric\u001b[0m\u001b[1;33m(\u001b[0m\u001b[1;34m'HistPts'\u001b[0m\u001b[1;33m,\u001b[0m \u001b[0mrow\u001b[0m\u001b[1;33m.\u001b[0m\u001b[0mDriverId\u001b[0m\u001b[1;33m,\u001b[0m \u001b[0mcol\u001b[0m\u001b[1;33m)\u001b[0m\u001b[1;33m\u001b[0m\u001b[0m\n\u001b[0m\u001b[0;32m      5\u001b[0m \u001b[1;31m# test\u001b[0m\u001b[1;33m\u001b[0m\u001b[1;33m\u001b[0m\u001b[0m\n\u001b[0;32m      6\u001b[0m \u001b[0mdriver_dists\u001b[0m\u001b[1;33m.\u001b[0m\u001b[0mhead\u001b[0m\u001b[1;33m(\u001b[0m\u001b[1;33m)\u001b[0m \u001b[1;32mif\u001b[0m \u001b[0mTEST\u001b[0m \u001b[1;32melse\u001b[0m \u001b[0mNone\u001b[0m\u001b[1;33m\u001b[0m\u001b[0m\n",
        "\u001b[1;32m<ipython-input-4-5e84915093cc>\u001b[0m in \u001b[0;36mget_cum_dist_by_driver_and_metric\u001b[1;34m(tab_name, driver_id, col)\u001b[0m\n\u001b[0;32m     10\u001b[0m                     AND %s = 1\"\"\" % (tab_name, driver_id, col)\n\u001b[0;32m     11\u001b[0m     \u001b[1;31m#print driver_id\u001b[0m\u001b[1;33m\u001b[0m\u001b[1;33m\u001b[0m\u001b[0m\n\u001b[1;32m---> 12\u001b[1;33m     \u001b[0mval\u001b[0m \u001b[1;33m=\u001b[0m \u001b[1;33m(\u001b[0m\u001b[0mconn\u001b[0m\u001b[1;33m.\u001b[0m\u001b[0mcursor\u001b[0m\u001b[1;33m(\u001b[0m\u001b[1;33m)\u001b[0m\u001b[1;33m.\u001b[0m\u001b[0mexecute\u001b[0m\u001b[1;33m(\u001b[0m\u001b[0mqry_str\u001b[0m\u001b[1;33m)\u001b[0m\u001b[1;33m)\u001b[0m\u001b[1;33m.\u001b[0m\u001b[0mnext\u001b[0m\u001b[1;33m(\u001b[0m\u001b[1;33m)\u001b[0m\u001b[1;33m[\u001b[0m\u001b[1;36m0\u001b[0m\u001b[1;33m]\u001b[0m\u001b[1;33m\u001b[0m\u001b[0m\n\u001b[0m\u001b[0;32m     13\u001b[0m     \u001b[1;32mif\u001b[0m \u001b[0mval\u001b[0m \u001b[1;33m==\u001b[0m \u001b[0mNone\u001b[0m\u001b[1;33m:\u001b[0m\u001b[1;33m\u001b[0m\u001b[0m\n\u001b[0;32m     14\u001b[0m         \u001b[1;32mreturn\u001b[0m \u001b[1;36m0.0\u001b[0m\u001b[1;33m\u001b[0m\u001b[0m\n",
        "\u001b[1;31mKeyboardInterrupt\u001b[0m: "
       ]
      }
     ],
     "prompt_number": 8
    },
    {
     "cell_type": "code",
     "collapsed": false,
     "input": [
      "df.describe().T is Test else None"
     ],
     "language": "python",
     "metadata": {},
     "outputs": []
    },
    {
     "cell_type": "code",
     "collapsed": false,
     "input": [],
     "language": "python",
     "metadata": {},
     "outputs": []
    }
   ],
   "metadata": {}
  }
 ]
}