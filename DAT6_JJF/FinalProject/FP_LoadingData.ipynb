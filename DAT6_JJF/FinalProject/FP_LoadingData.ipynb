{
 "metadata": {
  "name": "",
  "signature": "sha256:0f57240c23b055dcb1c57fc5b70af6e511f02eec1fb2f00da3fddf34548878bd"
 },
 "nbformat": 3,
 "nbformat_minor": 0,
 "worksheets": [
  {
   "cells": [
    {
     "cell_type": "markdown",
     "metadata": {},
     "source": [
      "###Laoding_Data\n",
      "This calls out to the telogis data exchanges to query [History Point](https://api-preview.telogis.com/documentation/) (GPS Probe) data\n",
      "- Provide a start and end time rpt_start, rpt_end and it will break them up into 5m queries\n",
      "- Data returned form TDE is Filtered to \n",
      "  -- use only the right unit type \"M\"\n",
      "  -- ignore records w/ no driver or no unit ID\n",
      "  \n",
      "##### Important things may be commented out - look at the code as you run it\n",
      "___\n",
      "___"
     ]
    },
    {
     "cell_type": "markdown",
     "metadata": {},
     "source": [
      "####Imports and Connect to SQLite"
     ]
    },
    {
     "cell_type": "code",
     "collapsed": true,
     "input": [
      "import pandas as pd\n",
      "import yaml\n",
      "from datetime import datetime, timedelta\n",
      "from pandas.io import sql\n",
      "\n",
      "import sqlite3\n",
      "%load_ext sql\n",
      "conn = sqlite3.connect(\"E:\\\\GOOGLEDRIVE\\\\Google Drive\\\\Personal\\\\GA\\\\Class\\\\data\\\\tst_1day.db\")\n",
      "\n",
      "# test\n",
      "#sql.frame_query(\"\"\"SELECT * FROM HistPts LIMIT 10\"\"\", conn)"
     ],
     "language": "python",
     "metadata": {},
     "outputs": [
      {
       "output_type": "stream",
       "stream": "stdout",
       "text": [
        "The sql extension is already loaded. To reload it, use:\n",
        "  %reload_ext sql\n"
       ]
      },
      {
       "html": [
        "<div style=\"max-height:1000px;max-width:1500px;overflow:auto;\">\n",
        "<table border=\"1\" class=\"dataframe\">\n",
        "  <thead>\n",
        "    <tr style=\"text-align: right;\">\n",
        "      <th></th>\n",
        "      <th>UnitId</th>\n",
        "      <th>DriverId</th>\n",
        "      <th>Time</th>\n",
        "      <th>Tag</th>\n",
        "      <th>Vin</th>\n",
        "      <th>Lat</th>\n",
        "      <th>Lon</th>\n",
        "      <th>Address</th>\n",
        "      <th>GpsQuality</th>\n",
        "      <th>Heading</th>\n",
        "      <th>SerialNumber</th>\n",
        "      <th>EventIndex</th>\n",
        "      <th>EventCode</th>\n",
        "      <th>FirmwareVersion</th>\n",
        "      <th>Hdop</th>\n",
        "      <th>Vdop</th>\n",
        "      <th>Pdop</th>\n",
        "      <th>NumSatellites</th>\n",
        "      <th>UnitType</th>\n",
        "      <th>OdometerDelta</th>\n",
        "      <th></th>\n",
        "    </tr>\n",
        "  </thead>\n",
        "  <tbody>\n",
        "    <tr>\n",
        "      <th>0</th>\n",
        "      <td> 477105482</td>\n",
        "      <td> 589387410</td>\n",
        "      <td> 5/1/2014 12:00:09 AM</td>\n",
        "      <td> 12937</td>\n",
        "      <td> 1FT7W2ATXDEA92857</td>\n",
        "      <td> 31.988752</td>\n",
        "      <td>-102.121067</td>\n",
        "      <td> US|79703|Texas|Midland|Roosevelt Ave</td>\n",
        "      <td>  Excellent</td>\n",
        "      <td> 270</td>\n",
        "      <td> 9CANF3U1N</td>\n",
        "      <td> None</td>\n",
        "      <td> None</td>\n",
        "      <td> None</td>\n",
        "      <td> None</td>\n",
        "      <td> None</td>\n",
        "      <td> None</td>\n",
        "      <td> None</td>\n",
        "      <td> M</td>\n",
        "      <td>   0 km</td>\n",
        "      <td>...</td>\n",
        "    </tr>\n",
        "    <tr>\n",
        "      <th>1</th>\n",
        "      <td> 477105482</td>\n",
        "      <td> 589387410</td>\n",
        "      <td> 5/1/2014 12:00:53 AM</td>\n",
        "      <td> 12937</td>\n",
        "      <td> 1FT7W2ATXDEA92857</td>\n",
        "      <td> 31.988752</td>\n",
        "      <td>-102.121067</td>\n",
        "      <td> US|79703|Texas|Midland|Roosevelt Ave</td>\n",
        "      <td>  Excellent</td>\n",
        "      <td> 270</td>\n",
        "      <td> 9CANF3U1N</td>\n",
        "      <td> None</td>\n",
        "      <td> None</td>\n",
        "      <td> None</td>\n",
        "      <td> None</td>\n",
        "      <td> None</td>\n",
        "      <td> None</td>\n",
        "      <td> None</td>\n",
        "      <td> M</td>\n",
        "      <td>   0 km</td>\n",
        "      <td>...</td>\n",
        "    </tr>\n",
        "    <tr>\n",
        "      <th>2</th>\n",
        "      <td> 216795781</td>\n",
        "      <td> 321295699</td>\n",
        "      <td> 5/1/2014 12:00:01 AM</td>\n",
        "      <td> 10837</td>\n",
        "      <td> 1FTRF3BT4BEC15823</td>\n",
        "      <td> 32.025033</td>\n",
        "      <td>-101.907552</td>\n",
        "      <td>        US|79706|Texas|Midland|Fm-307</td>\n",
        "      <td>  Excellent</td>\n",
        "      <td> 254</td>\n",
        "      <td> 9CAN5T68L</td>\n",
        "      <td> None</td>\n",
        "      <td> None</td>\n",
        "      <td> None</td>\n",
        "      <td> None</td>\n",
        "      <td> None</td>\n",
        "      <td> None</td>\n",
        "      <td> None</td>\n",
        "      <td> M</td>\n",
        "      <td> 0.9 km</td>\n",
        "      <td>...</td>\n",
        "    </tr>\n",
        "    <tr>\n",
        "      <th>3</th>\n",
        "      <td> 216795781</td>\n",
        "      <td> 321295699</td>\n",
        "      <td> 5/1/2014 12:00:01 AM</td>\n",
        "      <td> 10837</td>\n",
        "      <td> 1FTRF3BT4BEC15823</td>\n",
        "      <td> 32.025033</td>\n",
        "      <td>-101.907552</td>\n",
        "      <td>        US|79706|Texas|Midland|Fm-307</td>\n",
        "      <td>  Excellent</td>\n",
        "      <td> 254</td>\n",
        "      <td> 9CAN5T68L</td>\n",
        "      <td> None</td>\n",
        "      <td> None</td>\n",
        "      <td> None</td>\n",
        "      <td> None</td>\n",
        "      <td> None</td>\n",
        "      <td> None</td>\n",
        "      <td> None</td>\n",
        "      <td> M</td>\n",
        "      <td>   0 km</td>\n",
        "      <td>...</td>\n",
        "    </tr>\n",
        "    <tr>\n",
        "      <th>4</th>\n",
        "      <td> 216795781</td>\n",
        "      <td> 321295699</td>\n",
        "      <td> 5/1/2014 12:00:01 AM</td>\n",
        "      <td> 10837</td>\n",
        "      <td> 1FTRF3BT4BEC15823</td>\n",
        "      <td> 32.025033</td>\n",
        "      <td>-101.907552</td>\n",
        "      <td>        US|79706|Texas|Midland|Fm-307</td>\n",
        "      <td>  Excellent</td>\n",
        "      <td> 254</td>\n",
        "      <td> 9CAN5T68L</td>\n",
        "      <td> None</td>\n",
        "      <td> None</td>\n",
        "      <td> None</td>\n",
        "      <td> None</td>\n",
        "      <td> None</td>\n",
        "      <td> None</td>\n",
        "      <td> None</td>\n",
        "      <td> M</td>\n",
        "      <td>   0 km</td>\n",
        "      <td>...</td>\n",
        "    </tr>\n",
        "    <tr>\n",
        "      <th>5</th>\n",
        "      <td> 216795781</td>\n",
        "      <td> 321295699</td>\n",
        "      <td> 5/1/2014 12:00:14 AM</td>\n",
        "      <td> 10837</td>\n",
        "      <td> 1FTRF3BT4BEC15823</td>\n",
        "      <td> 32.024808</td>\n",
        "      <td>-101.908534</td>\n",
        "      <td>        US|79706|Texas|Midland|Fm-307</td>\n",
        "      <td>  Excellent</td>\n",
        "      <td> 254</td>\n",
        "      <td> 9CAN5T68L</td>\n",
        "      <td> None</td>\n",
        "      <td> None</td>\n",
        "      <td> None</td>\n",
        "      <td> None</td>\n",
        "      <td> None</td>\n",
        "      <td> None</td>\n",
        "      <td> None</td>\n",
        "      <td> M</td>\n",
        "      <td> 0.1 km</td>\n",
        "      <td>...</td>\n",
        "    </tr>\n",
        "    <tr>\n",
        "      <th>6</th>\n",
        "      <td> 216795781</td>\n",
        "      <td> 321295699</td>\n",
        "      <td> 5/1/2014 12:00:14 AM</td>\n",
        "      <td> 10837</td>\n",
        "      <td> 1FTRF3BT4BEC15823</td>\n",
        "      <td> 32.024808</td>\n",
        "      <td>-101.908534</td>\n",
        "      <td>        US|79706|Texas|Midland|Fm-307</td>\n",
        "      <td>  Excellent</td>\n",
        "      <td> 254</td>\n",
        "      <td> 9CAN5T68L</td>\n",
        "      <td> None</td>\n",
        "      <td> None</td>\n",
        "      <td> None</td>\n",
        "      <td> None</td>\n",
        "      <td> None</td>\n",
        "      <td> None</td>\n",
        "      <td> None</td>\n",
        "      <td> M</td>\n",
        "      <td>   0 km</td>\n",
        "      <td>...</td>\n",
        "    </tr>\n",
        "    <tr>\n",
        "      <th>7</th>\n",
        "      <td> 216795781</td>\n",
        "      <td> 321295699</td>\n",
        "      <td> 5/1/2014 12:03:14 AM</td>\n",
        "      <td> 10837</td>\n",
        "      <td> 1FTRF3BT4BEC15823</td>\n",
        "      <td> 32.012763</td>\n",
        "      <td>-101.959905</td>\n",
        "      <td>        US|79706|Texas|Midland|Fm-307</td>\n",
        "      <td>  Excellent</td>\n",
        "      <td> 255</td>\n",
        "      <td> 9CAN5T68L</td>\n",
        "      <td> None</td>\n",
        "      <td> None</td>\n",
        "      <td> None</td>\n",
        "      <td> None</td>\n",
        "      <td> None</td>\n",
        "      <td> None</td>\n",
        "      <td> None</td>\n",
        "      <td> M</td>\n",
        "      <td> 5.1 km</td>\n",
        "      <td>...</td>\n",
        "    </tr>\n",
        "    <tr>\n",
        "      <th>8</th>\n",
        "      <td> 406951094</td>\n",
        "      <td> 524038244</td>\n",
        "      <td> 5/1/2014 12:03:18 AM</td>\n",
        "      <td> 11586</td>\n",
        "      <td> 1FT7X2B68CEA81652</td>\n",
        "      <td> 30.976520</td>\n",
        "      <td> -99.202980</td>\n",
        "      <td>  US|76887|Texas|Voca|County Road 216</td>\n",
        "      <td> Unreliable</td>\n",
        "      <td>   0</td>\n",
        "      <td> 9CAN6LCAJ</td>\n",
        "      <td> None</td>\n",
        "      <td> None</td>\n",
        "      <td> None</td>\n",
        "      <td> None</td>\n",
        "      <td> None</td>\n",
        "      <td> None</td>\n",
        "      <td> None</td>\n",
        "      <td> M</td>\n",
        "      <td>   0 km</td>\n",
        "      <td>...</td>\n",
        "    </tr>\n",
        "    <tr>\n",
        "      <th>9</th>\n",
        "      <td> 406951094</td>\n",
        "      <td> 524038244</td>\n",
        "      <td> 5/1/2014 12:03:18 AM</td>\n",
        "      <td> 11586</td>\n",
        "      <td> 1FT7X2B68CEA81652</td>\n",
        "      <td> 30.976520</td>\n",
        "      <td> -99.202980</td>\n",
        "      <td>  US|76887|Texas|Voca|County Road 216</td>\n",
        "      <td> Unreliable</td>\n",
        "      <td>   0</td>\n",
        "      <td> 9CAN6LCAJ</td>\n",
        "      <td> None</td>\n",
        "      <td> None</td>\n",
        "      <td> None</td>\n",
        "      <td> None</td>\n",
        "      <td> None</td>\n",
        "      <td> None</td>\n",
        "      <td> None</td>\n",
        "      <td> M</td>\n",
        "      <td>   0 km</td>\n",
        "      <td>...</td>\n",
        "    </tr>\n",
        "  </tbody>\n",
        "</table>\n",
        "<p>10 rows \u00d7 88 columns</p>\n",
        "</div>"
       ],
       "metadata": {},
       "output_type": "pyout",
       "prompt_number": 5,
       "text": [
        "      UnitId   DriverId                  Time    Tag                Vin  \\\n",
        "0  477105482  589387410  5/1/2014 12:00:09 AM  12937  1FT7W2ATXDEA92857   \n",
        "1  477105482  589387410  5/1/2014 12:00:53 AM  12937  1FT7W2ATXDEA92857   \n",
        "2  216795781  321295699  5/1/2014 12:00:01 AM  10837  1FTRF3BT4BEC15823   \n",
        "3  216795781  321295699  5/1/2014 12:00:01 AM  10837  1FTRF3BT4BEC15823   \n",
        "4  216795781  321295699  5/1/2014 12:00:01 AM  10837  1FTRF3BT4BEC15823   \n",
        "5  216795781  321295699  5/1/2014 12:00:14 AM  10837  1FTRF3BT4BEC15823   \n",
        "6  216795781  321295699  5/1/2014 12:00:14 AM  10837  1FTRF3BT4BEC15823   \n",
        "7  216795781  321295699  5/1/2014 12:03:14 AM  10837  1FTRF3BT4BEC15823   \n",
        "8  406951094  524038244  5/1/2014 12:03:18 AM  11586  1FT7X2B68CEA81652   \n",
        "9  406951094  524038244  5/1/2014 12:03:18 AM  11586  1FT7X2B68CEA81652   \n",
        "\n",
        "         Lat         Lon                               Address  GpsQuality  \\\n",
        "0  31.988752 -102.121067  US|79703|Texas|Midland|Roosevelt Ave   Excellent   \n",
        "1  31.988752 -102.121067  US|79703|Texas|Midland|Roosevelt Ave   Excellent   \n",
        "2  32.025033 -101.907552         US|79706|Texas|Midland|Fm-307   Excellent   \n",
        "3  32.025033 -101.907552         US|79706|Texas|Midland|Fm-307   Excellent   \n",
        "4  32.025033 -101.907552         US|79706|Texas|Midland|Fm-307   Excellent   \n",
        "5  32.024808 -101.908534         US|79706|Texas|Midland|Fm-307   Excellent   \n",
        "6  32.024808 -101.908534         US|79706|Texas|Midland|Fm-307   Excellent   \n",
        "7  32.012763 -101.959905         US|79706|Texas|Midland|Fm-307   Excellent   \n",
        "8  30.976520  -99.202980   US|76887|Texas|Voca|County Road 216  Unreliable   \n",
        "9  30.976520  -99.202980   US|76887|Texas|Voca|County Road 216  Unreliable   \n",
        "\n",
        "   Heading SerialNumber EventIndex EventCode FirmwareVersion  Hdop  Vdop  \\\n",
        "0      270    9CANF3U1N       None      None            None  None  None   \n",
        "1      270    9CANF3U1N       None      None            None  None  None   \n",
        "2      254    9CAN5T68L       None      None            None  None  None   \n",
        "3      254    9CAN5T68L       None      None            None  None  None   \n",
        "4      254    9CAN5T68L       None      None            None  None  None   \n",
        "5      254    9CAN5T68L       None      None            None  None  None   \n",
        "6      254    9CAN5T68L       None      None            None  None  None   \n",
        "7      255    9CAN5T68L       None      None            None  None  None   \n",
        "8        0    9CAN6LCAJ       None      None            None  None  None   \n",
        "9        0    9CAN6LCAJ       None      None            None  None  None   \n",
        "\n",
        "   Pdop NumSatellites UnitType OdometerDelta      \n",
        "0  None          None        M          0 km ...  \n",
        "1  None          None        M          0 km ...  \n",
        "2  None          None        M        0.9 km ...  \n",
        "3  None          None        M          0 km ...  \n",
        "4  None          None        M          0 km ...  \n",
        "5  None          None        M        0.1 km ...  \n",
        "6  None          None        M          0 km ...  \n",
        "7  None          None        M        5.1 km ...  \n",
        "8  None          None        M          0 km ...  \n",
        "9  None          None        M          0 km ...  \n",
        "\n",
        "[10 rows x 88 columns]"
       ]
      }
     ],
     "prompt_number": 5
    },
    {
     "cell_type": "markdown",
     "metadata": {},
     "source": [
      "####Set up some variables"
     ]
    },
    {
     "cell_type": "code",
     "collapsed": false,
     "input": [
      "# Fetch Creds\n",
      "credentials = yaml.load(open('E:\\\\GOOGLEDRIVE\\\\Google Drive\\\\Personal\\\\GA\\\\Class\\\\assignments\\\\FinalProject\\\\PXD_creds.yaml'))\n",
      "usr = \"%s:%s\" %(credentials['CUSTOMER'], credentials['USERNAME'])\n",
      "pwd = credentials['PASSWORD']\n",
      "\n",
      "# Template ID # This is the template to use in CustomerX acct should be Const\n",
      "templateId = \"658029576\"\n",
      "\n",
      "# Times in UTC format\n",
      "#  http://www.timeanddate.com/worldclock/converter.html\n",
      "rpt_start = \"2014-05-01T00:00:00.000Z\"\n",
      "rpt_end = \"2014-05-02T00:06:00.000Z\"\n",
      "\n",
      "# example if airbag at - Monday, May 5, 2014 at 10:50:00 PM UTC\n",
      "#&ReportStart=2014-05-05T10:52:00.000Z&ReportEnd=2014-05-05T10:54:00.000Z"
     ],
     "language": "python",
     "metadata": {},
     "outputs": [],
     "prompt_number": 22
    },
    {
     "cell_type": "markdown",
     "metadata": {},
     "source": [
      "#### Filter out bum records"
     ]
    },
    {
     "cell_type": "code",
     "collapsed": false,
     "input": [
      "# Filter recs that are dupe and or don't meet criteria for analysis\n",
      "def filter_crap(df):\n",
      "    # filter non Magnetti devices - UnitType != 'M'\n",
      "    df_filtered = df[df['UnitType'] == 'M']\n",
      "    # filter where unit or driver are null - these will be zero if not populated\n",
      "    df = df[df['DriverId'] != 0]\n",
      "    df = df[df['UnitId'] != 0]\n",
      "    return df"
     ],
     "language": "python",
     "metadata": {},
     "outputs": [],
     "prompt_number": 23
    },
    {
     "cell_type": "markdown",
     "metadata": {},
     "source": [
      "####Funciton for fetching data, filter via filter_crap() tne insert in DB"
     ]
    },
    {
     "cell_type": "code",
     "collapsed": false,
     "input": [
      "## Function to fetch data & add to SQLite\n",
      "def populate_db(template_id, usr, pwd, report_start, report_end, conn, target_table):\n",
      "    # Dates expected as string \"2014-03-01T00:00:00\", \"%Y-%m-%dT%H:%M:%S\"\n",
      "    \n",
      "    # Break this up into 5min intervals to keep data payload smallish\n",
      "    dt_start = datetime.strptime(report_start, \"%Y-%m-%dT%H:%M:%S.%fZ\")\n",
      "    dt_end = datetime.strptime(report_end, \"%Y-%m-%dT%H:%M:%S.%fZ\")\n",
      "    while dt_start <= dt_end:\n",
      "        \n",
      "        # convert time to strings for sending to TDE\n",
      "        dt_start_plus5 = dt_start + timedelta(minutes=5)\n",
      "        s_start = dt_start.strftime('%Y-%m-%dT%H:%M:%S.%fZ')\n",
      "        s_start_plus5 = dt_start_plus5.strftime('%Y-%m-%dT%H:%M:%S.%fZ')\n",
      "        url = \"https://api-preview.telogis.com/execute?template=%s&user=%s&pass=%s&ReportStart=%s&ReportEnd=%s\" %(template_id, usr, pwd, s_start, s_start_plus5)\n",
      "        print url\n",
      "        \n",
      "        df = pd.read_csv(url, header=0)\n",
      "        df = filter_crap(df)\n",
      "        sql.write_frame(df, target_table, conn, flavor='sqlite', if_exists='append')\n",
      "        \n",
      "        dt_start = dt_start_plus5\n",
      "\n",
      "# Test it\n",
      "#fetchTDETemplateData('x','x','x','2014-03-01T00:00:00', '2014-03-01T02:00:00')"
     ],
     "language": "python",
     "metadata": {},
     "outputs": [],
     "prompt_number": 24
    },
    {
     "cell_type": "markdown",
     "metadata": {},
     "source": [
      "####Fetch the motha grabin' data"
     ]
    },
    {
     "cell_type": "code",
     "collapsed": true,
     "input": [
      "# put results in a new table called \"HistPts\"\n",
      "#populate_db(templateId, usr, pwd, rpt_start, rpt_end, conn, \"HistPts\")\n"
     ],
     "language": "python",
     "metadata": {},
     "outputs": [
      {
       "output_type": "stream",
       "stream": "stdout",
       "text": [
        "https://api-preview.telogis.com/execute?template=658029576&user=pioneernatural:main&pass=Abbey0306&ReportStart=2014-05-01T00:00:00.000000Z&ReportEnd=2014-05-01T00:05:00.000000Z\n",
        "https://api-preview.telogis.com/execute?template=658029576&user=pioneernatural:main&pass=Abbey0306&ReportStart=2014-05-01T00:05:00.000000Z&ReportEnd=2014-05-01T00:10:00.000000Z"
       ]
      },
      {
       "output_type": "stream",
       "stream": "stdout",
       "text": [
        "\n",
        "https://api-preview.telogis.com/execute?template=658029576&user=pioneernatural:main&pass=Abbey0306&ReportStart=2014-05-01T00:10:00.000000Z&ReportEnd=2014-05-01T00:15:00.000000Z"
       ]
      },
      {
       "output_type": "stream",
       "stream": "stdout",
       "text": [
        "\n",
        "https://api-preview.telogis.com/execute?template=658029576&user=pioneernatural:main&pass=Abbey0306&ReportStart=2014-05-01T00:15:00.000000Z&ReportEnd=2014-05-01T00:20:00.000000Z"
       ]
      },
      {
       "output_type": "stream",
       "stream": "stdout",
       "text": [
        "\n",
        "https://api-preview.telogis.com/execute?template=658029576&user=pioneernatural:main&pass=Abbey0306&ReportStart=2014-05-01T00:20:00.000000Z&ReportEnd=2014-05-01T00:25:00.000000Z"
       ]
      },
      {
       "output_type": "stream",
       "stream": "stdout",
       "text": [
        "\n",
        "https://api-preview.telogis.com/execute?template=658029576&user=pioneernatural:main&pass=Abbey0306&ReportStart=2014-05-01T00:25:00.000000Z&ReportEnd=2014-05-01T00:30:00.000000Z"
       ]
      },
      {
       "output_type": "stream",
       "stream": "stdout",
       "text": [
        "\n",
        "https://api-preview.telogis.com/execute?template=658029576&user=pioneernatural:main&pass=Abbey0306&ReportStart=2014-05-01T00:30:00.000000Z&ReportEnd=2014-05-01T00:35:00.000000Z"
       ]
      },
      {
       "output_type": "stream",
       "stream": "stdout",
       "text": [
        "\n",
        "https://api-preview.telogis.com/execute?template=658029576&user=pioneernatural:main&pass=Abbey0306&ReportStart=2014-05-01T00:35:00.000000Z&ReportEnd=2014-05-01T00:40:00.000000Z"
       ]
      },
      {
       "output_type": "stream",
       "stream": "stdout",
       "text": [
        "\n",
        "https://api-preview.telogis.com/execute?template=658029576&user=pioneernatural:main&pass=Abbey0306&ReportStart=2014-05-01T00:40:00.000000Z&ReportEnd=2014-05-01T00:45:00.000000Z"
       ]
      },
      {
       "output_type": "stream",
       "stream": "stdout",
       "text": [
        "\n",
        "https://api-preview.telogis.com/execute?template=658029576&user=pioneernatural:main&pass=Abbey0306&ReportStart=2014-05-01T00:45:00.000000Z&ReportEnd=2014-05-01T00:50:00.000000Z"
       ]
      },
      {
       "output_type": "stream",
       "stream": "stdout",
       "text": [
        "\n",
        "https://api-preview.telogis.com/execute?template=658029576&user=pioneernatural:main&pass=Abbey0306&ReportStart=2014-05-01T00:50:00.000000Z&ReportEnd=2014-05-01T00:55:00.000000Z"
       ]
      },
      {
       "output_type": "stream",
       "stream": "stdout",
       "text": [
        "\n",
        "https://api-preview.telogis.com/execute?template=658029576&user=pioneernatural:main&pass=Abbey0306&ReportStart=2014-05-01T00:55:00.000000Z&ReportEnd=2014-05-01T01:00:00.000000Z"
       ]
      },
      {
       "output_type": "stream",
       "stream": "stdout",
       "text": [
        "\n",
        "https://api-preview.telogis.com/execute?template=658029576&user=pioneernatural:main&pass=Abbey0306&ReportStart=2014-05-01T01:00:00.000000Z&ReportEnd=2014-05-01T01:05:00.000000Z"
       ]
      },
      {
       "output_type": "stream",
       "stream": "stdout",
       "text": [
        "\n",
        "https://api-preview.telogis.com/execute?template=658029576&user=pioneernatural:main&pass=Abbey0306&ReportStart=2014-05-01T01:05:00.000000Z&ReportEnd=2014-05-01T01:10:00.000000Z"
       ]
      },
      {
       "output_type": "stream",
       "stream": "stdout",
       "text": [
        "\n",
        "https://api-preview.telogis.com/execute?template=658029576&user=pioneernatural:main&pass=Abbey0306&ReportStart=2014-05-01T01:10:00.000000Z&ReportEnd=2014-05-01T01:15:00.000000Z"
       ]
      },
      {
       "output_type": "stream",
       "stream": "stdout",
       "text": [
        "\n",
        "https://api-preview.telogis.com/execute?template=658029576&user=pioneernatural:main&pass=Abbey0306&ReportStart=2014-05-01T01:15:00.000000Z&ReportEnd=2014-05-01T01:20:00.000000Z"
       ]
      },
      {
       "output_type": "stream",
       "stream": "stdout",
       "text": [
        "\n",
        "https://api-preview.telogis.com/execute?template=658029576&user=pioneernatural:main&pass=Abbey0306&ReportStart=2014-05-01T01:20:00.000000Z&ReportEnd=2014-05-01T01:25:00.000000Z"
       ]
      },
      {
       "output_type": "stream",
       "stream": "stdout",
       "text": [
        "\n",
        "https://api-preview.telogis.com/execute?template=658029576&user=pioneernatural:main&pass=Abbey0306&ReportStart=2014-05-01T01:25:00.000000Z&ReportEnd=2014-05-01T01:30:00.000000Z"
       ]
      },
      {
       "output_type": "stream",
       "stream": "stdout",
       "text": [
        "\n",
        "https://api-preview.telogis.com/execute?template=658029576&user=pioneernatural:main&pass=Abbey0306&ReportStart=2014-05-01T01:30:00.000000Z&ReportEnd=2014-05-01T01:35:00.000000Z"
       ]
      },
      {
       "output_type": "stream",
       "stream": "stdout",
       "text": [
        "\n",
        "https://api-preview.telogis.com/execute?template=658029576&user=pioneernatural:main&pass=Abbey0306&ReportStart=2014-05-01T01:35:00.000000Z&ReportEnd=2014-05-01T01:40:00.000000Z"
       ]
      },
      {
       "output_type": "stream",
       "stream": "stdout",
       "text": [
        "\n",
        "https://api-preview.telogis.com/execute?template=658029576&user=pioneernatural:main&pass=Abbey0306&ReportStart=2014-05-01T01:40:00.000000Z&ReportEnd=2014-05-01T01:45:00.000000Z"
       ]
      },
      {
       "output_type": "stream",
       "stream": "stdout",
       "text": [
        "\n",
        "https://api-preview.telogis.com/execute?template=658029576&user=pioneernatural:main&pass=Abbey0306&ReportStart=2014-05-01T01:45:00.000000Z&ReportEnd=2014-05-01T01:50:00.000000Z"
       ]
      },
      {
       "output_type": "stream",
       "stream": "stdout",
       "text": [
        "\n",
        "https://api-preview.telogis.com/execute?template=658029576&user=pioneernatural:main&pass=Abbey0306&ReportStart=2014-05-01T01:50:00.000000Z&ReportEnd=2014-05-01T01:55:00.000000Z"
       ]
      },
      {
       "output_type": "stream",
       "stream": "stdout",
       "text": [
        "\n",
        "https://api-preview.telogis.com/execute?template=658029576&user=pioneernatural:main&pass=Abbey0306&ReportStart=2014-05-01T01:55:00.000000Z&ReportEnd=2014-05-01T02:00:00.000000Z"
       ]
      },
      {
       "output_type": "stream",
       "stream": "stdout",
       "text": [
        "\n",
        "https://api-preview.telogis.com/execute?template=658029576&user=pioneernatural:main&pass=Abbey0306&ReportStart=2014-05-01T02:00:00.000000Z&ReportEnd=2014-05-01T02:05:00.000000Z"
       ]
      },
      {
       "output_type": "stream",
       "stream": "stdout",
       "text": [
        "\n",
        "https://api-preview.telogis.com/execute?template=658029576&user=pioneernatural:main&pass=Abbey0306&ReportStart=2014-05-01T02:05:00.000000Z&ReportEnd=2014-05-01T02:10:00.000000Z"
       ]
      },
      {
       "output_type": "stream",
       "stream": "stdout",
       "text": [
        "\n",
        "https://api-preview.telogis.com/execute?template=658029576&user=pioneernatural:main&pass=Abbey0306&ReportStart=2014-05-01T02:10:00.000000Z&ReportEnd=2014-05-01T02:15:00.000000Z"
       ]
      },
      {
       "output_type": "stream",
       "stream": "stdout",
       "text": [
        "\n",
        "https://api-preview.telogis.com/execute?template=658029576&user=pioneernatural:main&pass=Abbey0306&ReportStart=2014-05-01T02:15:00.000000Z&ReportEnd=2014-05-01T02:20:00.000000Z"
       ]
      },
      {
       "output_type": "stream",
       "stream": "stdout",
       "text": [
        "\n",
        "https://api-preview.telogis.com/execute?template=658029576&user=pioneernatural:main&pass=Abbey0306&ReportStart=2014-05-01T02:20:00.000000Z&ReportEnd=2014-05-01T02:25:00.000000Z"
       ]
      },
      {
       "output_type": "stream",
       "stream": "stdout",
       "text": [
        "\n",
        "https://api-preview.telogis.com/execute?template=658029576&user=pioneernatural:main&pass=Abbey0306&ReportStart=2014-05-01T02:25:00.000000Z&ReportEnd=2014-05-01T02:30:00.000000Z"
       ]
      },
      {
       "output_type": "stream",
       "stream": "stdout",
       "text": [
        "\n",
        "https://api-preview.telogis.com/execute?template=658029576&user=pioneernatural:main&pass=Abbey0306&ReportStart=2014-05-01T02:30:00.000000Z&ReportEnd=2014-05-01T02:35:00.000000Z"
       ]
      },
      {
       "output_type": "stream",
       "stream": "stdout",
       "text": [
        "\n",
        "https://api-preview.telogis.com/execute?template=658029576&user=pioneernatural:main&pass=Abbey0306&ReportStart=2014-05-01T02:35:00.000000Z&ReportEnd=2014-05-01T02:40:00.000000Z"
       ]
      },
      {
       "output_type": "stream",
       "stream": "stdout",
       "text": [
        "\n",
        "https://api-preview.telogis.com/execute?template=658029576&user=pioneernatural:main&pass=Abbey0306&ReportStart=2014-05-01T02:40:00.000000Z&ReportEnd=2014-05-01T02:45:00.000000Z"
       ]
      },
      {
       "output_type": "stream",
       "stream": "stdout",
       "text": [
        "\n",
        "https://api-preview.telogis.com/execute?template=658029576&user=pioneernatural:main&pass=Abbey0306&ReportStart=2014-05-01T02:45:00.000000Z&ReportEnd=2014-05-01T02:50:00.000000Z"
       ]
      },
      {
       "output_type": "stream",
       "stream": "stdout",
       "text": [
        "\n",
        "https://api-preview.telogis.com/execute?template=658029576&user=pioneernatural:main&pass=Abbey0306&ReportStart=2014-05-01T02:50:00.000000Z&ReportEnd=2014-05-01T02:55:00.000000Z"
       ]
      },
      {
       "output_type": "stream",
       "stream": "stdout",
       "text": [
        "\n",
        "https://api-preview.telogis.com/execute?template=658029576&user=pioneernatural:main&pass=Abbey0306&ReportStart=2014-05-01T02:55:00.000000Z&ReportEnd=2014-05-01T03:00:00.000000Z"
       ]
      },
      {
       "output_type": "stream",
       "stream": "stdout",
       "text": [
        "\n",
        "https://api-preview.telogis.com/execute?template=658029576&user=pioneernatural:main&pass=Abbey0306&ReportStart=2014-05-01T03:00:00.000000Z&ReportEnd=2014-05-01T03:05:00.000000Z"
       ]
      },
      {
       "output_type": "stream",
       "stream": "stdout",
       "text": [
        "\n",
        "https://api-preview.telogis.com/execute?template=658029576&user=pioneernatural:main&pass=Abbey0306&ReportStart=2014-05-01T03:05:00.000000Z&ReportEnd=2014-05-01T03:10:00.000000Z"
       ]
      },
      {
       "output_type": "stream",
       "stream": "stdout",
       "text": [
        "\n",
        "https://api-preview.telogis.com/execute?template=658029576&user=pioneernatural:main&pass=Abbey0306&ReportStart=2014-05-01T03:10:00.000000Z&ReportEnd=2014-05-01T03:15:00.000000Z"
       ]
      },
      {
       "output_type": "stream",
       "stream": "stdout",
       "text": [
        "\n",
        "https://api-preview.telogis.com/execute?template=658029576&user=pioneernatural:main&pass=Abbey0306&ReportStart=2014-05-01T03:15:00.000000Z&ReportEnd=2014-05-01T03:20:00.000000Z"
       ]
      },
      {
       "output_type": "stream",
       "stream": "stdout",
       "text": [
        "\n",
        "https://api-preview.telogis.com/execute?template=658029576&user=pioneernatural:main&pass=Abbey0306&ReportStart=2014-05-01T03:20:00.000000Z&ReportEnd=2014-05-01T03:25:00.000000Z"
       ]
      },
      {
       "output_type": "stream",
       "stream": "stdout",
       "text": [
        "\n",
        "https://api-preview.telogis.com/execute?template=658029576&user=pioneernatural:main&pass=Abbey0306&ReportStart=2014-05-01T03:25:00.000000Z&ReportEnd=2014-05-01T03:30:00.000000Z"
       ]
      },
      {
       "output_type": "stream",
       "stream": "stdout",
       "text": [
        "\n",
        "https://api-preview.telogis.com/execute?template=658029576&user=pioneernatural:main&pass=Abbey0306&ReportStart=2014-05-01T03:30:00.000000Z&ReportEnd=2014-05-01T03:35:00.000000Z"
       ]
      },
      {
       "output_type": "stream",
       "stream": "stdout",
       "text": [
        "\n",
        "https://api-preview.telogis.com/execute?template=658029576&user=pioneernatural:main&pass=Abbey0306&ReportStart=2014-05-01T03:35:00.000000Z&ReportEnd=2014-05-01T03:40:00.000000Z"
       ]
      },
      {
       "output_type": "stream",
       "stream": "stdout",
       "text": [
        "\n",
        "https://api-preview.telogis.com/execute?template=658029576&user=pioneernatural:main&pass=Abbey0306&ReportStart=2014-05-01T03:40:00.000000Z&ReportEnd=2014-05-01T03:45:00.000000Z"
       ]
      },
      {
       "output_type": "stream",
       "stream": "stdout",
       "text": [
        "\n",
        "https://api-preview.telogis.com/execute?template=658029576&user=pioneernatural:main&pass=Abbey0306&ReportStart=2014-05-01T03:45:00.000000Z&ReportEnd=2014-05-01T03:50:00.000000Z"
       ]
      },
      {
       "output_type": "stream",
       "stream": "stdout",
       "text": [
        "\n",
        "https://api-preview.telogis.com/execute?template=658029576&user=pioneernatural:main&pass=Abbey0306&ReportStart=2014-05-01T03:50:00.000000Z&ReportEnd=2014-05-01T03:55:00.000000Z"
       ]
      },
      {
       "output_type": "stream",
       "stream": "stdout",
       "text": [
        "\n",
        "https://api-preview.telogis.com/execute?template=658029576&user=pioneernatural:main&pass=Abbey0306&ReportStart=2014-05-01T03:55:00.000000Z&ReportEnd=2014-05-01T04:00:00.000000Z"
       ]
      },
      {
       "output_type": "stream",
       "stream": "stdout",
       "text": [
        "\n",
        "https://api-preview.telogis.com/execute?template=658029576&user=pioneernatural:main&pass=Abbey0306&ReportStart=2014-05-01T04:00:00.000000Z&ReportEnd=2014-05-01T04:05:00.000000Z"
       ]
      },
      {
       "output_type": "stream",
       "stream": "stdout",
       "text": [
        "\n",
        "https://api-preview.telogis.com/execute?template=658029576&user=pioneernatural:main&pass=Abbey0306&ReportStart=2014-05-01T04:05:00.000000Z&ReportEnd=2014-05-01T04:10:00.000000Z"
       ]
      },
      {
       "output_type": "stream",
       "stream": "stdout",
       "text": [
        "\n",
        "https://api-preview.telogis.com/execute?template=658029576&user=pioneernatural:main&pass=Abbey0306&ReportStart=2014-05-01T04:10:00.000000Z&ReportEnd=2014-05-01T04:15:00.000000Z"
       ]
      },
      {
       "output_type": "stream",
       "stream": "stdout",
       "text": [
        "\n",
        "https://api-preview.telogis.com/execute?template=658029576&user=pioneernatural:main&pass=Abbey0306&ReportStart=2014-05-01T04:15:00.000000Z&ReportEnd=2014-05-01T04:20:00.000000Z"
       ]
      },
      {
       "output_type": "stream",
       "stream": "stdout",
       "text": [
        "\n",
        "https://api-preview.telogis.com/execute?template=658029576&user=pioneernatural:main&pass=Abbey0306&ReportStart=2014-05-01T04:20:00.000000Z&ReportEnd=2014-05-01T04:25:00.000000Z"
       ]
      },
      {
       "output_type": "stream",
       "stream": "stdout",
       "text": [
        "\n",
        "https://api-preview.telogis.com/execute?template=658029576&user=pioneernatural:main&pass=Abbey0306&ReportStart=2014-05-01T04:25:00.000000Z&ReportEnd=2014-05-01T04:30:00.000000Z"
       ]
      },
      {
       "output_type": "stream",
       "stream": "stdout",
       "text": [
        "\n",
        "https://api-preview.telogis.com/execute?template=658029576&user=pioneernatural:main&pass=Abbey0306&ReportStart=2014-05-01T04:30:00.000000Z&ReportEnd=2014-05-01T04:35:00.000000Z"
       ]
      },
      {
       "output_type": "stream",
       "stream": "stdout",
       "text": [
        "\n",
        "https://api-preview.telogis.com/execute?template=658029576&user=pioneernatural:main&pass=Abbey0306&ReportStart=2014-05-01T04:35:00.000000Z&ReportEnd=2014-05-01T04:40:00.000000Z"
       ]
      },
      {
       "output_type": "stream",
       "stream": "stdout",
       "text": [
        "\n",
        "https://api-preview.telogis.com/execute?template=658029576&user=pioneernatural:main&pass=Abbey0306&ReportStart=2014-05-01T04:40:00.000000Z&ReportEnd=2014-05-01T04:45:00.000000Z"
       ]
      },
      {
       "output_type": "stream",
       "stream": "stdout",
       "text": [
        "\n",
        "https://api-preview.telogis.com/execute?template=658029576&user=pioneernatural:main&pass=Abbey0306&ReportStart=2014-05-01T04:45:00.000000Z&ReportEnd=2014-05-01T04:50:00.000000Z"
       ]
      },
      {
       "output_type": "stream",
       "stream": "stdout",
       "text": [
        "\n",
        "https://api-preview.telogis.com/execute?template=658029576&user=pioneernatural:main&pass=Abbey0306&ReportStart=2014-05-01T04:50:00.000000Z&ReportEnd=2014-05-01T04:55:00.000000Z"
       ]
      },
      {
       "output_type": "stream",
       "stream": "stdout",
       "text": [
        "\n",
        "https://api-preview.telogis.com/execute?template=658029576&user=pioneernatural:main&pass=Abbey0306&ReportStart=2014-05-01T04:55:00.000000Z&ReportEnd=2014-05-01T05:00:00.000000Z"
       ]
      },
      {
       "output_type": "stream",
       "stream": "stdout",
       "text": [
        "\n",
        "https://api-preview.telogis.com/execute?template=658029576&user=pioneernatural:main&pass=Abbey0306&ReportStart=2014-05-01T05:00:00.000000Z&ReportEnd=2014-05-01T05:05:00.000000Z"
       ]
      },
      {
       "output_type": "stream",
       "stream": "stdout",
       "text": [
        "\n",
        "https://api-preview.telogis.com/execute?template=658029576&user=pioneernatural:main&pass=Abbey0306&ReportStart=2014-05-01T05:05:00.000000Z&ReportEnd=2014-05-01T05:10:00.000000Z"
       ]
      },
      {
       "output_type": "stream",
       "stream": "stdout",
       "text": [
        "\n",
        "https://api-preview.telogis.com/execute?template=658029576&user=pioneernatural:main&pass=Abbey0306&ReportStart=2014-05-01T05:10:00.000000Z&ReportEnd=2014-05-01T05:15:00.000000Z"
       ]
      },
      {
       "output_type": "stream",
       "stream": "stdout",
       "text": [
        "\n",
        "https://api-preview.telogis.com/execute?template=658029576&user=pioneernatural:main&pass=Abbey0306&ReportStart=2014-05-01T05:15:00.000000Z&ReportEnd=2014-05-01T05:20:00.000000Z"
       ]
      },
      {
       "output_type": "stream",
       "stream": "stdout",
       "text": [
        "\n",
        "https://api-preview.telogis.com/execute?template=658029576&user=pioneernatural:main&pass=Abbey0306&ReportStart=2014-05-01T05:20:00.000000Z&ReportEnd=2014-05-01T05:25:00.000000Z"
       ]
      },
      {
       "output_type": "stream",
       "stream": "stdout",
       "text": [
        "\n",
        "https://api-preview.telogis.com/execute?template=658029576&user=pioneernatural:main&pass=Abbey0306&ReportStart=2014-05-01T05:25:00.000000Z&ReportEnd=2014-05-01T05:30:00.000000Z"
       ]
      },
      {
       "output_type": "stream",
       "stream": "stdout",
       "text": [
        "\n",
        "https://api-preview.telogis.com/execute?template=658029576&user=pioneernatural:main&pass=Abbey0306&ReportStart=2014-05-01T05:30:00.000000Z&ReportEnd=2014-05-01T05:35:00.000000Z"
       ]
      },
      {
       "output_type": "stream",
       "stream": "stdout",
       "text": [
        "\n",
        "https://api-preview.telogis.com/execute?template=658029576&user=pioneernatural:main&pass=Abbey0306&ReportStart=2014-05-01T05:35:00.000000Z&ReportEnd=2014-05-01T05:40:00.000000Z"
       ]
      },
      {
       "output_type": "stream",
       "stream": "stdout",
       "text": [
        "\n",
        "https://api-preview.telogis.com/execute?template=658029576&user=pioneernatural:main&pass=Abbey0306&ReportStart=2014-05-01T05:40:00.000000Z&ReportEnd=2014-05-01T05:45:00.000000Z"
       ]
      },
      {
       "output_type": "stream",
       "stream": "stdout",
       "text": [
        "\n",
        "https://api-preview.telogis.com/execute?template=658029576&user=pioneernatural:main&pass=Abbey0306&ReportStart=2014-05-01T05:45:00.000000Z&ReportEnd=2014-05-01T05:50:00.000000Z"
       ]
      },
      {
       "output_type": "stream",
       "stream": "stdout",
       "text": [
        "\n",
        "https://api-preview.telogis.com/execute?template=658029576&user=pioneernatural:main&pass=Abbey0306&ReportStart=2014-05-01T05:50:00.000000Z&ReportEnd=2014-05-01T05:55:00.000000Z"
       ]
      },
      {
       "output_type": "stream",
       "stream": "stdout",
       "text": [
        "\n",
        "https://api-preview.telogis.com/execute?template=658029576&user=pioneernatural:main&pass=Abbey0306&ReportStart=2014-05-01T05:55:00.000000Z&ReportEnd=2014-05-01T06:00:00.000000Z"
       ]
      },
      {
       "output_type": "stream",
       "stream": "stdout",
       "text": [
        "\n",
        "https://api-preview.telogis.com/execute?template=658029576&user=pioneernatural:main&pass=Abbey0306&ReportStart=2014-05-01T06:00:00.000000Z&ReportEnd=2014-05-01T06:05:00.000000Z"
       ]
      },
      {
       "output_type": "stream",
       "stream": "stdout",
       "text": [
        "\n",
        "https://api-preview.telogis.com/execute?template=658029576&user=pioneernatural:main&pass=Abbey0306&ReportStart=2014-05-01T06:05:00.000000Z&ReportEnd=2014-05-01T06:10:00.000000Z"
       ]
      },
      {
       "output_type": "stream",
       "stream": "stdout",
       "text": [
        "\n",
        "https://api-preview.telogis.com/execute?template=658029576&user=pioneernatural:main&pass=Abbey0306&ReportStart=2014-05-01T06:10:00.000000Z&ReportEnd=2014-05-01T06:15:00.000000Z"
       ]
      },
      {
       "output_type": "stream",
       "stream": "stdout",
       "text": [
        "\n",
        "https://api-preview.telogis.com/execute?template=658029576&user=pioneernatural:main&pass=Abbey0306&ReportStart=2014-05-01T06:15:00.000000Z&ReportEnd=2014-05-01T06:20:00.000000Z"
       ]
      },
      {
       "output_type": "stream",
       "stream": "stdout",
       "text": [
        "\n",
        "https://api-preview.telogis.com/execute?template=658029576&user=pioneernatural:main&pass=Abbey0306&ReportStart=2014-05-01T06:20:00.000000Z&ReportEnd=2014-05-01T06:25:00.000000Z"
       ]
      },
      {
       "output_type": "stream",
       "stream": "stdout",
       "text": [
        "\n",
        "https://api-preview.telogis.com/execute?template=658029576&user=pioneernatural:main&pass=Abbey0306&ReportStart=2014-05-01T06:25:00.000000Z&ReportEnd=2014-05-01T06:30:00.000000Z"
       ]
      },
      {
       "output_type": "stream",
       "stream": "stdout",
       "text": [
        "\n",
        "https://api-preview.telogis.com/execute?template=658029576&user=pioneernatural:main&pass=Abbey0306&ReportStart=2014-05-01T06:30:00.000000Z&ReportEnd=2014-05-01T06:35:00.000000Z"
       ]
      },
      {
       "output_type": "stream",
       "stream": "stdout",
       "text": [
        "\n",
        "https://api-preview.telogis.com/execute?template=658029576&user=pioneernatural:main&pass=Abbey0306&ReportStart=2014-05-01T06:35:00.000000Z&ReportEnd=2014-05-01T06:40:00.000000Z"
       ]
      },
      {
       "output_type": "stream",
       "stream": "stdout",
       "text": [
        "\n",
        "https://api-preview.telogis.com/execute?template=658029576&user=pioneernatural:main&pass=Abbey0306&ReportStart=2014-05-01T06:40:00.000000Z&ReportEnd=2014-05-01T06:45:00.000000Z"
       ]
      },
      {
       "output_type": "stream",
       "stream": "stdout",
       "text": [
        "\n",
        "https://api-preview.telogis.com/execute?template=658029576&user=pioneernatural:main&pass=Abbey0306&ReportStart=2014-05-01T06:45:00.000000Z&ReportEnd=2014-05-01T06:50:00.000000Z"
       ]
      },
      {
       "output_type": "stream",
       "stream": "stdout",
       "text": [
        "\n",
        "https://api-preview.telogis.com/execute?template=658029576&user=pioneernatural:main&pass=Abbey0306&ReportStart=2014-05-01T06:50:00.000000Z&ReportEnd=2014-05-01T06:55:00.000000Z"
       ]
      },
      {
       "output_type": "stream",
       "stream": "stdout",
       "text": [
        "\n",
        "https://api-preview.telogis.com/execute?template=658029576&user=pioneernatural:main&pass=Abbey0306&ReportStart=2014-05-01T06:55:00.000000Z&ReportEnd=2014-05-01T07:00:00.000000Z"
       ]
      },
      {
       "output_type": "stream",
       "stream": "stdout",
       "text": [
        "\n",
        "https://api-preview.telogis.com/execute?template=658029576&user=pioneernatural:main&pass=Abbey0306&ReportStart=2014-05-01T07:00:00.000000Z&ReportEnd=2014-05-01T07:05:00.000000Z"
       ]
      },
      {
       "output_type": "stream",
       "stream": "stdout",
       "text": [
        "\n",
        "https://api-preview.telogis.com/execute?template=658029576&user=pioneernatural:main&pass=Abbey0306&ReportStart=2014-05-01T07:05:00.000000Z&ReportEnd=2014-05-01T07:10:00.000000Z"
       ]
      },
      {
       "output_type": "stream",
       "stream": "stdout",
       "text": [
        "\n",
        "https://api-preview.telogis.com/execute?template=658029576&user=pioneernatural:main&pass=Abbey0306&ReportStart=2014-05-01T07:10:00.000000Z&ReportEnd=2014-05-01T07:15:00.000000Z"
       ]
      },
      {
       "output_type": "stream",
       "stream": "stdout",
       "text": [
        "\n",
        "https://api-preview.telogis.com/execute?template=658029576&user=pioneernatural:main&pass=Abbey0306&ReportStart=2014-05-01T07:15:00.000000Z&ReportEnd=2014-05-01T07:20:00.000000Z"
       ]
      },
      {
       "output_type": "stream",
       "stream": "stdout",
       "text": [
        "\n",
        "https://api-preview.telogis.com/execute?template=658029576&user=pioneernatural:main&pass=Abbey0306&ReportStart=2014-05-01T07:20:00.000000Z&ReportEnd=2014-05-01T07:25:00.000000Z"
       ]
      },
      {
       "output_type": "stream",
       "stream": "stdout",
       "text": [
        "\n",
        "https://api-preview.telogis.com/execute?template=658029576&user=pioneernatural:main&pass=Abbey0306&ReportStart=2014-05-01T07:25:00.000000Z&ReportEnd=2014-05-01T07:30:00.000000Z"
       ]
      },
      {
       "output_type": "stream",
       "stream": "stdout",
       "text": [
        "\n",
        "https://api-preview.telogis.com/execute?template=658029576&user=pioneernatural:main&pass=Abbey0306&ReportStart=2014-05-01T07:30:00.000000Z&ReportEnd=2014-05-01T07:35:00.000000Z"
       ]
      },
      {
       "output_type": "stream",
       "stream": "stdout",
       "text": [
        "\n",
        "https://api-preview.telogis.com/execute?template=658029576&user=pioneernatural:main&pass=Abbey0306&ReportStart=2014-05-01T07:35:00.000000Z&ReportEnd=2014-05-01T07:40:00.000000Z"
       ]
      },
      {
       "output_type": "stream",
       "stream": "stdout",
       "text": [
        "\n",
        "https://api-preview.telogis.com/execute?template=658029576&user=pioneernatural:main&pass=Abbey0306&ReportStart=2014-05-01T07:40:00.000000Z&ReportEnd=2014-05-01T07:45:00.000000Z"
       ]
      },
      {
       "output_type": "stream",
       "stream": "stdout",
       "text": [
        "\n",
        "https://api-preview.telogis.com/execute?template=658029576&user=pioneernatural:main&pass=Abbey0306&ReportStart=2014-05-01T07:45:00.000000Z&ReportEnd=2014-05-01T07:50:00.000000Z"
       ]
      },
      {
       "output_type": "stream",
       "stream": "stdout",
       "text": [
        "\n",
        "https://api-preview.telogis.com/execute?template=658029576&user=pioneernatural:main&pass=Abbey0306&ReportStart=2014-05-01T07:50:00.000000Z&ReportEnd=2014-05-01T07:55:00.000000Z"
       ]
      },
      {
       "output_type": "stream",
       "stream": "stdout",
       "text": [
        "\n",
        "https://api-preview.telogis.com/execute?template=658029576&user=pioneernatural:main&pass=Abbey0306&ReportStart=2014-05-01T07:55:00.000000Z&ReportEnd=2014-05-01T08:00:00.000000Z"
       ]
      },
      {
       "output_type": "stream",
       "stream": "stdout",
       "text": [
        "\n",
        "https://api-preview.telogis.com/execute?template=658029576&user=pioneernatural:main&pass=Abbey0306&ReportStart=2014-05-01T08:00:00.000000Z&ReportEnd=2014-05-01T08:05:00.000000Z"
       ]
      },
      {
       "output_type": "stream",
       "stream": "stdout",
       "text": [
        "\n",
        "https://api-preview.telogis.com/execute?template=658029576&user=pioneernatural:main&pass=Abbey0306&ReportStart=2014-05-01T08:05:00.000000Z&ReportEnd=2014-05-01T08:10:00.000000Z"
       ]
      },
      {
       "output_type": "stream",
       "stream": "stdout",
       "text": [
        "\n",
        "https://api-preview.telogis.com/execute?template=658029576&user=pioneernatural:main&pass=Abbey0306&ReportStart=2014-05-01T08:10:00.000000Z&ReportEnd=2014-05-01T08:15:00.000000Z"
       ]
      },
      {
       "output_type": "stream",
       "stream": "stdout",
       "text": [
        "\n",
        "https://api-preview.telogis.com/execute?template=658029576&user=pioneernatural:main&pass=Abbey0306&ReportStart=2014-05-01T08:15:00.000000Z&ReportEnd=2014-05-01T08:20:00.000000Z"
       ]
      },
      {
       "output_type": "stream",
       "stream": "stdout",
       "text": [
        "\n",
        "https://api-preview.telogis.com/execute?template=658029576&user=pioneernatural:main&pass=Abbey0306&ReportStart=2014-05-01T08:20:00.000000Z&ReportEnd=2014-05-01T08:25:00.000000Z"
       ]
      },
      {
       "output_type": "stream",
       "stream": "stdout",
       "text": [
        "\n",
        "https://api-preview.telogis.com/execute?template=658029576&user=pioneernatural:main&pass=Abbey0306&ReportStart=2014-05-01T08:25:00.000000Z&ReportEnd=2014-05-01T08:30:00.000000Z"
       ]
      },
      {
       "output_type": "stream",
       "stream": "stdout",
       "text": [
        "\n",
        "https://api-preview.telogis.com/execute?template=658029576&user=pioneernatural:main&pass=Abbey0306&ReportStart=2014-05-01T08:30:00.000000Z&ReportEnd=2014-05-01T08:35:00.000000Z"
       ]
      },
      {
       "output_type": "stream",
       "stream": "stdout",
       "text": [
        "\n",
        "https://api-preview.telogis.com/execute?template=658029576&user=pioneernatural:main&pass=Abbey0306&ReportStart=2014-05-01T08:35:00.000000Z&ReportEnd=2014-05-01T08:40:00.000000Z"
       ]
      },
      {
       "output_type": "stream",
       "stream": "stdout",
       "text": [
        "\n",
        "https://api-preview.telogis.com/execute?template=658029576&user=pioneernatural:main&pass=Abbey0306&ReportStart=2014-05-01T08:40:00.000000Z&ReportEnd=2014-05-01T08:45:00.000000Z"
       ]
      },
      {
       "output_type": "stream",
       "stream": "stdout",
       "text": [
        "\n",
        "https://api-preview.telogis.com/execute?template=658029576&user=pioneernatural:main&pass=Abbey0306&ReportStart=2014-05-01T08:45:00.000000Z&ReportEnd=2014-05-01T08:50:00.000000Z"
       ]
      },
      {
       "output_type": "stream",
       "stream": "stdout",
       "text": [
        "\n",
        "https://api-preview.telogis.com/execute?template=658029576&user=pioneernatural:main&pass=Abbey0306&ReportStart=2014-05-01T08:50:00.000000Z&ReportEnd=2014-05-01T08:55:00.000000Z"
       ]
      },
      {
       "output_type": "stream",
       "stream": "stdout",
       "text": [
        "\n",
        "https://api-preview.telogis.com/execute?template=658029576&user=pioneernatural:main&pass=Abbey0306&ReportStart=2014-05-01T08:55:00.000000Z&ReportEnd=2014-05-01T09:00:00.000000Z"
       ]
      },
      {
       "output_type": "stream",
       "stream": "stdout",
       "text": [
        "\n",
        "https://api-preview.telogis.com/execute?template=658029576&user=pioneernatural:main&pass=Abbey0306&ReportStart=2014-05-01T09:00:00.000000Z&ReportEnd=2014-05-01T09:05:00.000000Z"
       ]
      },
      {
       "output_type": "stream",
       "stream": "stdout",
       "text": [
        "\n",
        "https://api-preview.telogis.com/execute?template=658029576&user=pioneernatural:main&pass=Abbey0306&ReportStart=2014-05-01T09:05:00.000000Z&ReportEnd=2014-05-01T09:10:00.000000Z"
       ]
      },
      {
       "output_type": "stream",
       "stream": "stdout",
       "text": [
        "\n",
        "https://api-preview.telogis.com/execute?template=658029576&user=pioneernatural:main&pass=Abbey0306&ReportStart=2014-05-01T09:10:00.000000Z&ReportEnd=2014-05-01T09:15:00.000000Z"
       ]
      },
      {
       "output_type": "stream",
       "stream": "stdout",
       "text": [
        "\n",
        "https://api-preview.telogis.com/execute?template=658029576&user=pioneernatural:main&pass=Abbey0306&ReportStart=2014-05-01T09:15:00.000000Z&ReportEnd=2014-05-01T09:20:00.000000Z"
       ]
      },
      {
       "output_type": "stream",
       "stream": "stdout",
       "text": [
        "\n",
        "https://api-preview.telogis.com/execute?template=658029576&user=pioneernatural:main&pass=Abbey0306&ReportStart=2014-05-01T09:20:00.000000Z&ReportEnd=2014-05-01T09:25:00.000000Z"
       ]
      },
      {
       "output_type": "stream",
       "stream": "stdout",
       "text": [
        "\n",
        "https://api-preview.telogis.com/execute?template=658029576&user=pioneernatural:main&pass=Abbey0306&ReportStart=2014-05-01T09:25:00.000000Z&ReportEnd=2014-05-01T09:30:00.000000Z"
       ]
      },
      {
       "output_type": "stream",
       "stream": "stdout",
       "text": [
        "\n",
        "https://api-preview.telogis.com/execute?template=658029576&user=pioneernatural:main&pass=Abbey0306&ReportStart=2014-05-01T09:30:00.000000Z&ReportEnd=2014-05-01T09:35:00.000000Z"
       ]
      },
      {
       "output_type": "stream",
       "stream": "stdout",
       "text": [
        "\n",
        "https://api-preview.telogis.com/execute?template=658029576&user=pioneernatural:main&pass=Abbey0306&ReportStart=2014-05-01T09:35:00.000000Z&ReportEnd=2014-05-01T09:40:00.000000Z"
       ]
      },
      {
       "output_type": "stream",
       "stream": "stdout",
       "text": [
        "\n",
        "https://api-preview.telogis.com/execute?template=658029576&user=pioneernatural:main&pass=Abbey0306&ReportStart=2014-05-01T09:40:00.000000Z&ReportEnd=2014-05-01T09:45:00.000000Z"
       ]
      },
      {
       "output_type": "stream",
       "stream": "stdout",
       "text": [
        "\n",
        "https://api-preview.telogis.com/execute?template=658029576&user=pioneernatural:main&pass=Abbey0306&ReportStart=2014-05-01T09:45:00.000000Z&ReportEnd=2014-05-01T09:50:00.000000Z"
       ]
      },
      {
       "output_type": "stream",
       "stream": "stdout",
       "text": [
        "\n",
        "https://api-preview.telogis.com/execute?template=658029576&user=pioneernatural:main&pass=Abbey0306&ReportStart=2014-05-01T09:50:00.000000Z&ReportEnd=2014-05-01T09:55:00.000000Z"
       ]
      },
      {
       "output_type": "stream",
       "stream": "stdout",
       "text": [
        "\n",
        "https://api-preview.telogis.com/execute?template=658029576&user=pioneernatural:main&pass=Abbey0306&ReportStart=2014-05-01T09:55:00.000000Z&ReportEnd=2014-05-01T10:00:00.000000Z"
       ]
      },
      {
       "output_type": "stream",
       "stream": "stdout",
       "text": [
        "\n",
        "https://api-preview.telogis.com/execute?template=658029576&user=pioneernatural:main&pass=Abbey0306&ReportStart=2014-05-01T10:00:00.000000Z&ReportEnd=2014-05-01T10:05:00.000000Z"
       ]
      },
      {
       "output_type": "stream",
       "stream": "stdout",
       "text": [
        "\n",
        "https://api-preview.telogis.com/execute?template=658029576&user=pioneernatural:main&pass=Abbey0306&ReportStart=2014-05-01T10:05:00.000000Z&ReportEnd=2014-05-01T10:10:00.000000Z"
       ]
      },
      {
       "output_type": "stream",
       "stream": "stdout",
       "text": [
        "\n",
        "https://api-preview.telogis.com/execute?template=658029576&user=pioneernatural:main&pass=Abbey0306&ReportStart=2014-05-01T10:10:00.000000Z&ReportEnd=2014-05-01T10:15:00.000000Z"
       ]
      },
      {
       "output_type": "stream",
       "stream": "stdout",
       "text": [
        "\n",
        "https://api-preview.telogis.com/execute?template=658029576&user=pioneernatural:main&pass=Abbey0306&ReportStart=2014-05-01T10:15:00.000000Z&ReportEnd=2014-05-01T10:20:00.000000Z"
       ]
      },
      {
       "output_type": "stream",
       "stream": "stdout",
       "text": [
        "\n",
        "https://api-preview.telogis.com/execute?template=658029576&user=pioneernatural:main&pass=Abbey0306&ReportStart=2014-05-01T10:20:00.000000Z&ReportEnd=2014-05-01T10:25:00.000000Z"
       ]
      },
      {
       "output_type": "stream",
       "stream": "stdout",
       "text": [
        "\n",
        "https://api-preview.telogis.com/execute?template=658029576&user=pioneernatural:main&pass=Abbey0306&ReportStart=2014-05-01T10:25:00.000000Z&ReportEnd=2014-05-01T10:30:00.000000Z"
       ]
      },
      {
       "output_type": "stream",
       "stream": "stdout",
       "text": [
        "\n",
        "https://api-preview.telogis.com/execute?template=658029576&user=pioneernatural:main&pass=Abbey0306&ReportStart=2014-05-01T10:30:00.000000Z&ReportEnd=2014-05-01T10:35:00.000000Z"
       ]
      },
      {
       "output_type": "stream",
       "stream": "stdout",
       "text": [
        "\n",
        "https://api-preview.telogis.com/execute?template=658029576&user=pioneernatural:main&pass=Abbey0306&ReportStart=2014-05-01T10:35:00.000000Z&ReportEnd=2014-05-01T10:40:00.000000Z"
       ]
      },
      {
       "output_type": "stream",
       "stream": "stdout",
       "text": [
        "\n",
        "https://api-preview.telogis.com/execute?template=658029576&user=pioneernatural:main&pass=Abbey0306&ReportStart=2014-05-01T10:40:00.000000Z&ReportEnd=2014-05-01T10:45:00.000000Z"
       ]
      },
      {
       "output_type": "stream",
       "stream": "stdout",
       "text": [
        "\n",
        "https://api-preview.telogis.com/execute?template=658029576&user=pioneernatural:main&pass=Abbey0306&ReportStart=2014-05-01T10:45:00.000000Z&ReportEnd=2014-05-01T10:50:00.000000Z"
       ]
      },
      {
       "output_type": "stream",
       "stream": "stdout",
       "text": [
        "\n",
        "https://api-preview.telogis.com/execute?template=658029576&user=pioneernatural:main&pass=Abbey0306&ReportStart=2014-05-01T10:50:00.000000Z&ReportEnd=2014-05-01T10:55:00.000000Z"
       ]
      },
      {
       "output_type": "stream",
       "stream": "stdout",
       "text": [
        "\n",
        "https://api-preview.telogis.com/execute?template=658029576&user=pioneernatural:main&pass=Abbey0306&ReportStart=2014-05-01T10:55:00.000000Z&ReportEnd=2014-05-01T11:00:00.000000Z"
       ]
      },
      {
       "output_type": "stream",
       "stream": "stdout",
       "text": [
        "\n",
        "https://api-preview.telogis.com/execute?template=658029576&user=pioneernatural:main&pass=Abbey0306&ReportStart=2014-05-01T11:00:00.000000Z&ReportEnd=2014-05-01T11:05:00.000000Z"
       ]
      },
      {
       "output_type": "stream",
       "stream": "stdout",
       "text": [
        "\n",
        "https://api-preview.telogis.com/execute?template=658029576&user=pioneernatural:main&pass=Abbey0306&ReportStart=2014-05-01T11:05:00.000000Z&ReportEnd=2014-05-01T11:10:00.000000Z"
       ]
      },
      {
       "output_type": "stream",
       "stream": "stdout",
       "text": [
        "\n",
        "https://api-preview.telogis.com/execute?template=658029576&user=pioneernatural:main&pass=Abbey0306&ReportStart=2014-05-01T11:10:00.000000Z&ReportEnd=2014-05-01T11:15:00.000000Z"
       ]
      },
      {
       "output_type": "stream",
       "stream": "stdout",
       "text": [
        "\n",
        "https://api-preview.telogis.com/execute?template=658029576&user=pioneernatural:main&pass=Abbey0306&ReportStart=2014-05-01T11:15:00.000000Z&ReportEnd=2014-05-01T11:20:00.000000Z"
       ]
      },
      {
       "output_type": "stream",
       "stream": "stdout",
       "text": [
        "\n",
        "https://api-preview.telogis.com/execute?template=658029576&user=pioneernatural:main&pass=Abbey0306&ReportStart=2014-05-01T11:20:00.000000Z&ReportEnd=2014-05-01T11:25:00.000000Z"
       ]
      },
      {
       "output_type": "stream",
       "stream": "stdout",
       "text": [
        "\n",
        "https://api-preview.telogis.com/execute?template=658029576&user=pioneernatural:main&pass=Abbey0306&ReportStart=2014-05-01T11:25:00.000000Z&ReportEnd=2014-05-01T11:30:00.000000Z"
       ]
      },
      {
       "output_type": "stream",
       "stream": "stdout",
       "text": [
        "\n",
        "https://api-preview.telogis.com/execute?template=658029576&user=pioneernatural:main&pass=Abbey0306&ReportStart=2014-05-01T11:30:00.000000Z&ReportEnd=2014-05-01T11:35:00.000000Z"
       ]
      },
      {
       "output_type": "stream",
       "stream": "stdout",
       "text": [
        "\n",
        "https://api-preview.telogis.com/execute?template=658029576&user=pioneernatural:main&pass=Abbey0306&ReportStart=2014-05-01T11:35:00.000000Z&ReportEnd=2014-05-01T11:40:00.000000Z"
       ]
      },
      {
       "output_type": "stream",
       "stream": "stdout",
       "text": [
        "\n",
        "https://api-preview.telogis.com/execute?template=658029576&user=pioneernatural:main&pass=Abbey0306&ReportStart=2014-05-01T11:40:00.000000Z&ReportEnd=2014-05-01T11:45:00.000000Z"
       ]
      },
      {
       "output_type": "stream",
       "stream": "stdout",
       "text": [
        "\n",
        "https://api-preview.telogis.com/execute?template=658029576&user=pioneernatural:main&pass=Abbey0306&ReportStart=2014-05-01T11:45:00.000000Z&ReportEnd=2014-05-01T11:50:00.000000Z"
       ]
      },
      {
       "output_type": "stream",
       "stream": "stdout",
       "text": [
        "\n",
        "https://api-preview.telogis.com/execute?template=658029576&user=pioneernatural:main&pass=Abbey0306&ReportStart=2014-05-01T11:50:00.000000Z&ReportEnd=2014-05-01T11:55:00.000000Z"
       ]
      },
      {
       "output_type": "stream",
       "stream": "stdout",
       "text": [
        "\n",
        "https://api-preview.telogis.com/execute?template=658029576&user=pioneernatural:main&pass=Abbey0306&ReportStart=2014-05-01T11:55:00.000000Z&ReportEnd=2014-05-01T12:00:00.000000Z"
       ]
      },
      {
       "output_type": "stream",
       "stream": "stdout",
       "text": [
        "\n",
        "https://api-preview.telogis.com/execute?template=658029576&user=pioneernatural:main&pass=Abbey0306&ReportStart=2014-05-01T12:00:00.000000Z&ReportEnd=2014-05-01T12:05:00.000000Z"
       ]
      },
      {
       "output_type": "stream",
       "stream": "stdout",
       "text": [
        "\n",
        "https://api-preview.telogis.com/execute?template=658029576&user=pioneernatural:main&pass=Abbey0306&ReportStart=2014-05-01T12:05:00.000000Z&ReportEnd=2014-05-01T12:10:00.000000Z"
       ]
      },
      {
       "output_type": "stream",
       "stream": "stdout",
       "text": [
        "\n",
        "https://api-preview.telogis.com/execute?template=658029576&user=pioneernatural:main&pass=Abbey0306&ReportStart=2014-05-01T12:10:00.000000Z&ReportEnd=2014-05-01T12:15:00.000000Z"
       ]
      },
      {
       "output_type": "stream",
       "stream": "stdout",
       "text": [
        "\n",
        "https://api-preview.telogis.com/execute?template=658029576&user=pioneernatural:main&pass=Abbey0306&ReportStart=2014-05-01T12:15:00.000000Z&ReportEnd=2014-05-01T12:20:00.000000Z"
       ]
      },
      {
       "output_type": "stream",
       "stream": "stdout",
       "text": [
        "\n",
        "https://api-preview.telogis.com/execute?template=658029576&user=pioneernatural:main&pass=Abbey0306&ReportStart=2014-05-01T12:20:00.000000Z&ReportEnd=2014-05-01T12:25:00.000000Z"
       ]
      },
      {
       "output_type": "stream",
       "stream": "stdout",
       "text": [
        "\n",
        "https://api-preview.telogis.com/execute?template=658029576&user=pioneernatural:main&pass=Abbey0306&ReportStart=2014-05-01T12:25:00.000000Z&ReportEnd=2014-05-01T12:30:00.000000Z"
       ]
      },
      {
       "output_type": "stream",
       "stream": "stdout",
       "text": [
        "\n",
        "https://api-preview.telogis.com/execute?template=658029576&user=pioneernatural:main&pass=Abbey0306&ReportStart=2014-05-01T12:30:00.000000Z&ReportEnd=2014-05-01T12:35:00.000000Z"
       ]
      },
      {
       "output_type": "stream",
       "stream": "stdout",
       "text": [
        "\n",
        "https://api-preview.telogis.com/execute?template=658029576&user=pioneernatural:main&pass=Abbey0306&ReportStart=2014-05-01T12:35:00.000000Z&ReportEnd=2014-05-01T12:40:00.000000Z"
       ]
      },
      {
       "output_type": "stream",
       "stream": "stdout",
       "text": [
        "\n",
        "https://api-preview.telogis.com/execute?template=658029576&user=pioneernatural:main&pass=Abbey0306&ReportStart=2014-05-01T12:40:00.000000Z&ReportEnd=2014-05-01T12:45:00.000000Z"
       ]
      },
      {
       "output_type": "stream",
       "stream": "stdout",
       "text": [
        "\n",
        "https://api-preview.telogis.com/execute?template=658029576&user=pioneernatural:main&pass=Abbey0306&ReportStart=2014-05-01T12:45:00.000000Z&ReportEnd=2014-05-01T12:50:00.000000Z"
       ]
      },
      {
       "output_type": "stream",
       "stream": "stdout",
       "text": [
        "\n",
        "https://api-preview.telogis.com/execute?template=658029576&user=pioneernatural:main&pass=Abbey0306&ReportStart=2014-05-01T12:50:00.000000Z&ReportEnd=2014-05-01T12:55:00.000000Z"
       ]
      },
      {
       "output_type": "stream",
       "stream": "stdout",
       "text": [
        "\n",
        "https://api-preview.telogis.com/execute?template=658029576&user=pioneernatural:main&pass=Abbey0306&ReportStart=2014-05-01T12:55:00.000000Z&ReportEnd=2014-05-01T13:00:00.000000Z"
       ]
      },
      {
       "output_type": "stream",
       "stream": "stdout",
       "text": [
        "\n",
        "https://api-preview.telogis.com/execute?template=658029576&user=pioneernatural:main&pass=Abbey0306&ReportStart=2014-05-01T13:00:00.000000Z&ReportEnd=2014-05-01T13:05:00.000000Z"
       ]
      },
      {
       "output_type": "stream",
       "stream": "stdout",
       "text": [
        "\n",
        "https://api-preview.telogis.com/execute?template=658029576&user=pioneernatural:main&pass=Abbey0306&ReportStart=2014-05-01T13:05:00.000000Z&ReportEnd=2014-05-01T13:10:00.000000Z"
       ]
      },
      {
       "output_type": "stream",
       "stream": "stdout",
       "text": [
        "\n",
        "https://api-preview.telogis.com/execute?template=658029576&user=pioneernatural:main&pass=Abbey0306&ReportStart=2014-05-01T13:10:00.000000Z&ReportEnd=2014-05-01T13:15:00.000000Z"
       ]
      },
      {
       "output_type": "stream",
       "stream": "stdout",
       "text": [
        "\n",
        "https://api-preview.telogis.com/execute?template=658029576&user=pioneernatural:main&pass=Abbey0306&ReportStart=2014-05-01T13:15:00.000000Z&ReportEnd=2014-05-01T13:20:00.000000Z"
       ]
      },
      {
       "output_type": "stream",
       "stream": "stdout",
       "text": [
        "\n",
        "https://api-preview.telogis.com/execute?template=658029576&user=pioneernatural:main&pass=Abbey0306&ReportStart=2014-05-01T13:20:00.000000Z&ReportEnd=2014-05-01T13:25:00.000000Z"
       ]
      },
      {
       "output_type": "stream",
       "stream": "stdout",
       "text": [
        "\n",
        "https://api-preview.telogis.com/execute?template=658029576&user=pioneernatural:main&pass=Abbey0306&ReportStart=2014-05-01T13:25:00.000000Z&ReportEnd=2014-05-01T13:30:00.000000Z"
       ]
      },
      {
       "output_type": "stream",
       "stream": "stdout",
       "text": [
        "\n",
        "https://api-preview.telogis.com/execute?template=658029576&user=pioneernatural:main&pass=Abbey0306&ReportStart=2014-05-01T13:30:00.000000Z&ReportEnd=2014-05-01T13:35:00.000000Z"
       ]
      },
      {
       "output_type": "stream",
       "stream": "stdout",
       "text": [
        "\n",
        "https://api-preview.telogis.com/execute?template=658029576&user=pioneernatural:main&pass=Abbey0306&ReportStart=2014-05-01T13:35:00.000000Z&ReportEnd=2014-05-01T13:40:00.000000Z"
       ]
      },
      {
       "output_type": "stream",
       "stream": "stdout",
       "text": [
        "\n",
        "https://api-preview.telogis.com/execute?template=658029576&user=pioneernatural:main&pass=Abbey0306&ReportStart=2014-05-01T13:40:00.000000Z&ReportEnd=2014-05-01T13:45:00.000000Z"
       ]
      },
      {
       "output_type": "stream",
       "stream": "stdout",
       "text": [
        "\n",
        "https://api-preview.telogis.com/execute?template=658029576&user=pioneernatural:main&pass=Abbey0306&ReportStart=2014-05-01T13:45:00.000000Z&ReportEnd=2014-05-01T13:50:00.000000Z"
       ]
      },
      {
       "output_type": "stream",
       "stream": "stdout",
       "text": [
        "\n",
        "https://api-preview.telogis.com/execute?template=658029576&user=pioneernatural:main&pass=Abbey0306&ReportStart=2014-05-01T13:50:00.000000Z&ReportEnd=2014-05-01T13:55:00.000000Z"
       ]
      },
      {
       "output_type": "stream",
       "stream": "stdout",
       "text": [
        "\n",
        "https://api-preview.telogis.com/execute?template=658029576&user=pioneernatural:main&pass=Abbey0306&ReportStart=2014-05-01T13:55:00.000000Z&ReportEnd=2014-05-01T14:00:00.000000Z"
       ]
      },
      {
       "output_type": "stream",
       "stream": "stdout",
       "text": [
        "\n",
        "https://api-preview.telogis.com/execute?template=658029576&user=pioneernatural:main&pass=Abbey0306&ReportStart=2014-05-01T14:00:00.000000Z&ReportEnd=2014-05-01T14:05:00.000000Z"
       ]
      },
      {
       "output_type": "stream",
       "stream": "stdout",
       "text": [
        "\n",
        "https://api-preview.telogis.com/execute?template=658029576&user=pioneernatural:main&pass=Abbey0306&ReportStart=2014-05-01T14:05:00.000000Z&ReportEnd=2014-05-01T14:10:00.000000Z"
       ]
      },
      {
       "output_type": "stream",
       "stream": "stdout",
       "text": [
        "\n",
        "https://api-preview.telogis.com/execute?template=658029576&user=pioneernatural:main&pass=Abbey0306&ReportStart=2014-05-01T14:10:00.000000Z&ReportEnd=2014-05-01T14:15:00.000000Z"
       ]
      },
      {
       "output_type": "stream",
       "stream": "stdout",
       "text": [
        "\n",
        "https://api-preview.telogis.com/execute?template=658029576&user=pioneernatural:main&pass=Abbey0306&ReportStart=2014-05-01T14:15:00.000000Z&ReportEnd=2014-05-01T14:20:00.000000Z"
       ]
      },
      {
       "output_type": "stream",
       "stream": "stdout",
       "text": [
        "\n",
        "https://api-preview.telogis.com/execute?template=658029576&user=pioneernatural:main&pass=Abbey0306&ReportStart=2014-05-01T14:20:00.000000Z&ReportEnd=2014-05-01T14:25:00.000000Z"
       ]
      },
      {
       "output_type": "stream",
       "stream": "stdout",
       "text": [
        "\n",
        "https://api-preview.telogis.com/execute?template=658029576&user=pioneernatural:main&pass=Abbey0306&ReportStart=2014-05-01T14:25:00.000000Z&ReportEnd=2014-05-01T14:30:00.000000Z"
       ]
      },
      {
       "output_type": "stream",
       "stream": "stdout",
       "text": [
        "\n",
        "https://api-preview.telogis.com/execute?template=658029576&user=pioneernatural:main&pass=Abbey0306&ReportStart=2014-05-01T14:30:00.000000Z&ReportEnd=2014-05-01T14:35:00.000000Z"
       ]
      },
      {
       "output_type": "stream",
       "stream": "stdout",
       "text": [
        "\n",
        "https://api-preview.telogis.com/execute?template=658029576&user=pioneernatural:main&pass=Abbey0306&ReportStart=2014-05-01T14:35:00.000000Z&ReportEnd=2014-05-01T14:40:00.000000Z"
       ]
      },
      {
       "output_type": "stream",
       "stream": "stdout",
       "text": [
        "\n",
        "https://api-preview.telogis.com/execute?template=658029576&user=pioneernatural:main&pass=Abbey0306&ReportStart=2014-05-01T14:40:00.000000Z&ReportEnd=2014-05-01T14:45:00.000000Z"
       ]
      },
      {
       "output_type": "stream",
       "stream": "stdout",
       "text": [
        "\n",
        "https://api-preview.telogis.com/execute?template=658029576&user=pioneernatural:main&pass=Abbey0306&ReportStart=2014-05-01T14:45:00.000000Z&ReportEnd=2014-05-01T14:50:00.000000Z"
       ]
      },
      {
       "output_type": "stream",
       "stream": "stdout",
       "text": [
        "\n",
        "https://api-preview.telogis.com/execute?template=658029576&user=pioneernatural:main&pass=Abbey0306&ReportStart=2014-05-01T14:50:00.000000Z&ReportEnd=2014-05-01T14:55:00.000000Z"
       ]
      },
      {
       "output_type": "stream",
       "stream": "stdout",
       "text": [
        "\n",
        "https://api-preview.telogis.com/execute?template=658029576&user=pioneernatural:main&pass=Abbey0306&ReportStart=2014-05-01T14:55:00.000000Z&ReportEnd=2014-05-01T15:00:00.000000Z"
       ]
      },
      {
       "output_type": "stream",
       "stream": "stdout",
       "text": [
        "\n",
        "https://api-preview.telogis.com/execute?template=658029576&user=pioneernatural:main&pass=Abbey0306&ReportStart=2014-05-01T15:00:00.000000Z&ReportEnd=2014-05-01T15:05:00.000000Z"
       ]
      },
      {
       "output_type": "stream",
       "stream": "stdout",
       "text": [
        "\n",
        "https://api-preview.telogis.com/execute?template=658029576&user=pioneernatural:main&pass=Abbey0306&ReportStart=2014-05-01T15:05:00.000000Z&ReportEnd=2014-05-01T15:10:00.000000Z"
       ]
      },
      {
       "output_type": "stream",
       "stream": "stdout",
       "text": [
        "\n",
        "https://api-preview.telogis.com/execute?template=658029576&user=pioneernatural:main&pass=Abbey0306&ReportStart=2014-05-01T15:10:00.000000Z&ReportEnd=2014-05-01T15:15:00.000000Z"
       ]
      },
      {
       "output_type": "stream",
       "stream": "stdout",
       "text": [
        "\n",
        "https://api-preview.telogis.com/execute?template=658029576&user=pioneernatural:main&pass=Abbey0306&ReportStart=2014-05-01T15:15:00.000000Z&ReportEnd=2014-05-01T15:20:00.000000Z"
       ]
      },
      {
       "output_type": "stream",
       "stream": "stdout",
       "text": [
        "\n",
        "https://api-preview.telogis.com/execute?template=658029576&user=pioneernatural:main&pass=Abbey0306&ReportStart=2014-05-01T15:20:00.000000Z&ReportEnd=2014-05-01T15:25:00.000000Z"
       ]
      },
      {
       "output_type": "stream",
       "stream": "stdout",
       "text": [
        "\n",
        "https://api-preview.telogis.com/execute?template=658029576&user=pioneernatural:main&pass=Abbey0306&ReportStart=2014-05-01T15:25:00.000000Z&ReportEnd=2014-05-01T15:30:00.000000Z"
       ]
      },
      {
       "output_type": "stream",
       "stream": "stdout",
       "text": [
        "\n",
        "https://api-preview.telogis.com/execute?template=658029576&user=pioneernatural:main&pass=Abbey0306&ReportStart=2014-05-01T15:30:00.000000Z&ReportEnd=2014-05-01T15:35:00.000000Z"
       ]
      },
      {
       "output_type": "stream",
       "stream": "stdout",
       "text": [
        "\n",
        "https://api-preview.telogis.com/execute?template=658029576&user=pioneernatural:main&pass=Abbey0306&ReportStart=2014-05-01T15:35:00.000000Z&ReportEnd=2014-05-01T15:40:00.000000Z"
       ]
      },
      {
       "output_type": "stream",
       "stream": "stdout",
       "text": [
        "\n",
        "https://api-preview.telogis.com/execute?template=658029576&user=pioneernatural:main&pass=Abbey0306&ReportStart=2014-05-01T15:40:00.000000Z&ReportEnd=2014-05-01T15:45:00.000000Z"
       ]
      },
      {
       "output_type": "stream",
       "stream": "stdout",
       "text": [
        "\n",
        "https://api-preview.telogis.com/execute?template=658029576&user=pioneernatural:main&pass=Abbey0306&ReportStart=2014-05-01T15:45:00.000000Z&ReportEnd=2014-05-01T15:50:00.000000Z"
       ]
      },
      {
       "output_type": "stream",
       "stream": "stdout",
       "text": [
        "\n",
        "https://api-preview.telogis.com/execute?template=658029576&user=pioneernatural:main&pass=Abbey0306&ReportStart=2014-05-01T15:50:00.000000Z&ReportEnd=2014-05-01T15:55:00.000000Z"
       ]
      },
      {
       "output_type": "stream",
       "stream": "stdout",
       "text": [
        "\n",
        "https://api-preview.telogis.com/execute?template=658029576&user=pioneernatural:main&pass=Abbey0306&ReportStart=2014-05-01T15:55:00.000000Z&ReportEnd=2014-05-01T16:00:00.000000Z"
       ]
      },
      {
       "output_type": "stream",
       "stream": "stdout",
       "text": [
        "\n",
        "https://api-preview.telogis.com/execute?template=658029576&user=pioneernatural:main&pass=Abbey0306&ReportStart=2014-05-01T16:00:00.000000Z&ReportEnd=2014-05-01T16:05:00.000000Z"
       ]
      },
      {
       "output_type": "stream",
       "stream": "stdout",
       "text": [
        "\n",
        "https://api-preview.telogis.com/execute?template=658029576&user=pioneernatural:main&pass=Abbey0306&ReportStart=2014-05-01T16:05:00.000000Z&ReportEnd=2014-05-01T16:10:00.000000Z"
       ]
      },
      {
       "output_type": "stream",
       "stream": "stdout",
       "text": [
        "\n",
        "https://api-preview.telogis.com/execute?template=658029576&user=pioneernatural:main&pass=Abbey0306&ReportStart=2014-05-01T16:10:00.000000Z&ReportEnd=2014-05-01T16:15:00.000000Z"
       ]
      },
      {
       "output_type": "stream",
       "stream": "stdout",
       "text": [
        "\n",
        "https://api-preview.telogis.com/execute?template=658029576&user=pioneernatural:main&pass=Abbey0306&ReportStart=2014-05-01T16:15:00.000000Z&ReportEnd=2014-05-01T16:20:00.000000Z"
       ]
      },
      {
       "output_type": "stream",
       "stream": "stdout",
       "text": [
        "\n",
        "https://api-preview.telogis.com/execute?template=658029576&user=pioneernatural:main&pass=Abbey0306&ReportStart=2014-05-01T16:20:00.000000Z&ReportEnd=2014-05-01T16:25:00.000000Z"
       ]
      },
      {
       "output_type": "stream",
       "stream": "stdout",
       "text": [
        "\n",
        "https://api-preview.telogis.com/execute?template=658029576&user=pioneernatural:main&pass=Abbey0306&ReportStart=2014-05-01T16:25:00.000000Z&ReportEnd=2014-05-01T16:30:00.000000Z"
       ]
      },
      {
       "output_type": "stream",
       "stream": "stdout",
       "text": [
        "\n",
        "https://api-preview.telogis.com/execute?template=658029576&user=pioneernatural:main&pass=Abbey0306&ReportStart=2014-05-01T16:30:00.000000Z&ReportEnd=2014-05-01T16:35:00.000000Z"
       ]
      },
      {
       "output_type": "stream",
       "stream": "stdout",
       "text": [
        "\n",
        "https://api-preview.telogis.com/execute?template=658029576&user=pioneernatural:main&pass=Abbey0306&ReportStart=2014-05-01T16:35:00.000000Z&ReportEnd=2014-05-01T16:40:00.000000Z"
       ]
      },
      {
       "output_type": "stream",
       "stream": "stdout",
       "text": [
        "\n",
        "https://api-preview.telogis.com/execute?template=658029576&user=pioneernatural:main&pass=Abbey0306&ReportStart=2014-05-01T16:40:00.000000Z&ReportEnd=2014-05-01T16:45:00.000000Z"
       ]
      },
      {
       "output_type": "stream",
       "stream": "stdout",
       "text": [
        "\n",
        "https://api-preview.telogis.com/execute?template=658029576&user=pioneernatural:main&pass=Abbey0306&ReportStart=2014-05-01T16:45:00.000000Z&ReportEnd=2014-05-01T16:50:00.000000Z"
       ]
      },
      {
       "output_type": "stream",
       "stream": "stdout",
       "text": [
        "\n",
        "https://api-preview.telogis.com/execute?template=658029576&user=pioneernatural:main&pass=Abbey0306&ReportStart=2014-05-01T16:50:00.000000Z&ReportEnd=2014-05-01T16:55:00.000000Z"
       ]
      },
      {
       "output_type": "stream",
       "stream": "stdout",
       "text": [
        "\n",
        "https://api-preview.telogis.com/execute?template=658029576&user=pioneernatural:main&pass=Abbey0306&ReportStart=2014-05-01T16:55:00.000000Z&ReportEnd=2014-05-01T17:00:00.000000Z"
       ]
      },
      {
       "output_type": "stream",
       "stream": "stdout",
       "text": [
        "\n",
        "https://api-preview.telogis.com/execute?template=658029576&user=pioneernatural:main&pass=Abbey0306&ReportStart=2014-05-01T17:00:00.000000Z&ReportEnd=2014-05-01T17:05:00.000000Z"
       ]
      },
      {
       "output_type": "stream",
       "stream": "stdout",
       "text": [
        "\n",
        "https://api-preview.telogis.com/execute?template=658029576&user=pioneernatural:main&pass=Abbey0306&ReportStart=2014-05-01T17:05:00.000000Z&ReportEnd=2014-05-01T17:10:00.000000Z"
       ]
      },
      {
       "output_type": "stream",
       "stream": "stdout",
       "text": [
        "\n",
        "https://api-preview.telogis.com/execute?template=658029576&user=pioneernatural:main&pass=Abbey0306&ReportStart=2014-05-01T17:10:00.000000Z&ReportEnd=2014-05-01T17:15:00.000000Z"
       ]
      },
      {
       "output_type": "stream",
       "stream": "stdout",
       "text": [
        "\n",
        "https://api-preview.telogis.com/execute?template=658029576&user=pioneernatural:main&pass=Abbey0306&ReportStart=2014-05-01T17:15:00.000000Z&ReportEnd=2014-05-01T17:20:00.000000Z"
       ]
      },
      {
       "output_type": "stream",
       "stream": "stdout",
       "text": [
        "\n",
        "https://api-preview.telogis.com/execute?template=658029576&user=pioneernatural:main&pass=Abbey0306&ReportStart=2014-05-01T17:20:00.000000Z&ReportEnd=2014-05-01T17:25:00.000000Z"
       ]
      },
      {
       "output_type": "stream",
       "stream": "stdout",
       "text": [
        "\n",
        "https://api-preview.telogis.com/execute?template=658029576&user=pioneernatural:main&pass=Abbey0306&ReportStart=2014-05-01T17:25:00.000000Z&ReportEnd=2014-05-01T17:30:00.000000Z"
       ]
      },
      {
       "output_type": "stream",
       "stream": "stdout",
       "text": [
        "\n",
        "https://api-preview.telogis.com/execute?template=658029576&user=pioneernatural:main&pass=Abbey0306&ReportStart=2014-05-01T17:30:00.000000Z&ReportEnd=2014-05-01T17:35:00.000000Z"
       ]
      },
      {
       "output_type": "stream",
       "stream": "stdout",
       "text": [
        "\n",
        "https://api-preview.telogis.com/execute?template=658029576&user=pioneernatural:main&pass=Abbey0306&ReportStart=2014-05-01T17:35:00.000000Z&ReportEnd=2014-05-01T17:40:00.000000Z"
       ]
      },
      {
       "output_type": "stream",
       "stream": "stdout",
       "text": [
        "\n",
        "https://api-preview.telogis.com/execute?template=658029576&user=pioneernatural:main&pass=Abbey0306&ReportStart=2014-05-01T17:40:00.000000Z&ReportEnd=2014-05-01T17:45:00.000000Z"
       ]
      },
      {
       "output_type": "stream",
       "stream": "stdout",
       "text": [
        "\n",
        "https://api-preview.telogis.com/execute?template=658029576&user=pioneernatural:main&pass=Abbey0306&ReportStart=2014-05-01T17:45:00.000000Z&ReportEnd=2014-05-01T17:50:00.000000Z"
       ]
      },
      {
       "output_type": "stream",
       "stream": "stdout",
       "text": [
        "\n",
        "https://api-preview.telogis.com/execute?template=658029576&user=pioneernatural:main&pass=Abbey0306&ReportStart=2014-05-01T17:50:00.000000Z&ReportEnd=2014-05-01T17:55:00.000000Z"
       ]
      },
      {
       "output_type": "stream",
       "stream": "stdout",
       "text": [
        "\n",
        "https://api-preview.telogis.com/execute?template=658029576&user=pioneernatural:main&pass=Abbey0306&ReportStart=2014-05-01T17:55:00.000000Z&ReportEnd=2014-05-01T18:00:00.000000Z"
       ]
      },
      {
       "output_type": "stream",
       "stream": "stdout",
       "text": [
        "\n",
        "https://api-preview.telogis.com/execute?template=658029576&user=pioneernatural:main&pass=Abbey0306&ReportStart=2014-05-01T18:00:00.000000Z&ReportEnd=2014-05-01T18:05:00.000000Z"
       ]
      },
      {
       "output_type": "stream",
       "stream": "stdout",
       "text": [
        "\n",
        "https://api-preview.telogis.com/execute?template=658029576&user=pioneernatural:main&pass=Abbey0306&ReportStart=2014-05-01T18:05:00.000000Z&ReportEnd=2014-05-01T18:10:00.000000Z"
       ]
      },
      {
       "output_type": "stream",
       "stream": "stdout",
       "text": [
        "\n",
        "https://api-preview.telogis.com/execute?template=658029576&user=pioneernatural:main&pass=Abbey0306&ReportStart=2014-05-01T18:10:00.000000Z&ReportEnd=2014-05-01T18:15:00.000000Z"
       ]
      },
      {
       "output_type": "stream",
       "stream": "stdout",
       "text": [
        "\n",
        "https://api-preview.telogis.com/execute?template=658029576&user=pioneernatural:main&pass=Abbey0306&ReportStart=2014-05-01T18:15:00.000000Z&ReportEnd=2014-05-01T18:20:00.000000Z"
       ]
      },
      {
       "output_type": "stream",
       "stream": "stdout",
       "text": [
        "\n",
        "https://api-preview.telogis.com/execute?template=658029576&user=pioneernatural:main&pass=Abbey0306&ReportStart=2014-05-01T18:20:00.000000Z&ReportEnd=2014-05-01T18:25:00.000000Z"
       ]
      },
      {
       "output_type": "stream",
       "stream": "stdout",
       "text": [
        "\n",
        "https://api-preview.telogis.com/execute?template=658029576&user=pioneernatural:main&pass=Abbey0306&ReportStart=2014-05-01T18:25:00.000000Z&ReportEnd=2014-05-01T18:30:00.000000Z"
       ]
      },
      {
       "output_type": "stream",
       "stream": "stdout",
       "text": [
        "\n",
        "https://api-preview.telogis.com/execute?template=658029576&user=pioneernatural:main&pass=Abbey0306&ReportStart=2014-05-01T18:30:00.000000Z&ReportEnd=2014-05-01T18:35:00.000000Z"
       ]
      },
      {
       "output_type": "stream",
       "stream": "stdout",
       "text": [
        "\n",
        "https://api-preview.telogis.com/execute?template=658029576&user=pioneernatural:main&pass=Abbey0306&ReportStart=2014-05-01T18:35:00.000000Z&ReportEnd=2014-05-01T18:40:00.000000Z"
       ]
      },
      {
       "output_type": "stream",
       "stream": "stdout",
       "text": [
        "\n",
        "https://api-preview.telogis.com/execute?template=658029576&user=pioneernatural:main&pass=Abbey0306&ReportStart=2014-05-01T18:40:00.000000Z&ReportEnd=2014-05-01T18:45:00.000000Z"
       ]
      },
      {
       "output_type": "stream",
       "stream": "stdout",
       "text": [
        "\n",
        "https://api-preview.telogis.com/execute?template=658029576&user=pioneernatural:main&pass=Abbey0306&ReportStart=2014-05-01T18:45:00.000000Z&ReportEnd=2014-05-01T18:50:00.000000Z"
       ]
      },
      {
       "output_type": "stream",
       "stream": "stdout",
       "text": [
        "\n",
        "https://api-preview.telogis.com/execute?template=658029576&user=pioneernatural:main&pass=Abbey0306&ReportStart=2014-05-01T18:50:00.000000Z&ReportEnd=2014-05-01T18:55:00.000000Z"
       ]
      },
      {
       "output_type": "stream",
       "stream": "stdout",
       "text": [
        "\n",
        "https://api-preview.telogis.com/execute?template=658029576&user=pioneernatural:main&pass=Abbey0306&ReportStart=2014-05-01T18:55:00.000000Z&ReportEnd=2014-05-01T19:00:00.000000Z"
       ]
      },
      {
       "output_type": "stream",
       "stream": "stdout",
       "text": [
        "\n",
        "https://api-preview.telogis.com/execute?template=658029576&user=pioneernatural:main&pass=Abbey0306&ReportStart=2014-05-01T19:00:00.000000Z&ReportEnd=2014-05-01T19:05:00.000000Z"
       ]
      },
      {
       "output_type": "stream",
       "stream": "stdout",
       "text": [
        "\n",
        "https://api-preview.telogis.com/execute?template=658029576&user=pioneernatural:main&pass=Abbey0306&ReportStart=2014-05-01T19:05:00.000000Z&ReportEnd=2014-05-01T19:10:00.000000Z"
       ]
      },
      {
       "output_type": "stream",
       "stream": "stdout",
       "text": [
        "\n",
        "https://api-preview.telogis.com/execute?template=658029576&user=pioneernatural:main&pass=Abbey0306&ReportStart=2014-05-01T19:10:00.000000Z&ReportEnd=2014-05-01T19:15:00.000000Z"
       ]
      },
      {
       "output_type": "stream",
       "stream": "stdout",
       "text": [
        "\n",
        "https://api-preview.telogis.com/execute?template=658029576&user=pioneernatural:main&pass=Abbey0306&ReportStart=2014-05-01T19:15:00.000000Z&ReportEnd=2014-05-01T19:20:00.000000Z"
       ]
      },
      {
       "output_type": "stream",
       "stream": "stdout",
       "text": [
        "\n",
        "https://api-preview.telogis.com/execute?template=658029576&user=pioneernatural:main&pass=Abbey0306&ReportStart=2014-05-01T19:20:00.000000Z&ReportEnd=2014-05-01T19:25:00.000000Z"
       ]
      },
      {
       "output_type": "stream",
       "stream": "stdout",
       "text": [
        "\n",
        "https://api-preview.telogis.com/execute?template=658029576&user=pioneernatural:main&pass=Abbey0306&ReportStart=2014-05-01T19:25:00.000000Z&ReportEnd=2014-05-01T19:30:00.000000Z"
       ]
      },
      {
       "output_type": "stream",
       "stream": "stdout",
       "text": [
        "\n",
        "https://api-preview.telogis.com/execute?template=658029576&user=pioneernatural:main&pass=Abbey0306&ReportStart=2014-05-01T19:30:00.000000Z&ReportEnd=2014-05-01T19:35:00.000000Z"
       ]
      },
      {
       "output_type": "stream",
       "stream": "stdout",
       "text": [
        "\n",
        "https://api-preview.telogis.com/execute?template=658029576&user=pioneernatural:main&pass=Abbey0306&ReportStart=2014-05-01T19:35:00.000000Z&ReportEnd=2014-05-01T19:40:00.000000Z"
       ]
      },
      {
       "output_type": "stream",
       "stream": "stdout",
       "text": [
        "\n",
        "https://api-preview.telogis.com/execute?template=658029576&user=pioneernatural:main&pass=Abbey0306&ReportStart=2014-05-01T19:40:00.000000Z&ReportEnd=2014-05-01T19:45:00.000000Z"
       ]
      },
      {
       "output_type": "stream",
       "stream": "stdout",
       "text": [
        "\n",
        "https://api-preview.telogis.com/execute?template=658029576&user=pioneernatural:main&pass=Abbey0306&ReportStart=2014-05-01T19:45:00.000000Z&ReportEnd=2014-05-01T19:50:00.000000Z"
       ]
      },
      {
       "output_type": "stream",
       "stream": "stdout",
       "text": [
        "\n",
        "https://api-preview.telogis.com/execute?template=658029576&user=pioneernatural:main&pass=Abbey0306&ReportStart=2014-05-01T19:50:00.000000Z&ReportEnd=2014-05-01T19:55:00.000000Z"
       ]
      },
      {
       "output_type": "stream",
       "stream": "stdout",
       "text": [
        "\n",
        "https://api-preview.telogis.com/execute?template=658029576&user=pioneernatural:main&pass=Abbey0306&ReportStart=2014-05-01T19:55:00.000000Z&ReportEnd=2014-05-01T20:00:00.000000Z"
       ]
      },
      {
       "output_type": "stream",
       "stream": "stdout",
       "text": [
        "\n",
        "https://api-preview.telogis.com/execute?template=658029576&user=pioneernatural:main&pass=Abbey0306&ReportStart=2014-05-01T20:00:00.000000Z&ReportEnd=2014-05-01T20:05:00.000000Z"
       ]
      },
      {
       "output_type": "stream",
       "stream": "stdout",
       "text": [
        "\n",
        "https://api-preview.telogis.com/execute?template=658029576&user=pioneernatural:main&pass=Abbey0306&ReportStart=2014-05-01T20:05:00.000000Z&ReportEnd=2014-05-01T20:10:00.000000Z"
       ]
      },
      {
       "output_type": "stream",
       "stream": "stdout",
       "text": [
        "\n",
        "https://api-preview.telogis.com/execute?template=658029576&user=pioneernatural:main&pass=Abbey0306&ReportStart=2014-05-01T20:10:00.000000Z&ReportEnd=2014-05-01T20:15:00.000000Z"
       ]
      },
      {
       "output_type": "stream",
       "stream": "stdout",
       "text": [
        "\n",
        "https://api-preview.telogis.com/execute?template=658029576&user=pioneernatural:main&pass=Abbey0306&ReportStart=2014-05-01T20:15:00.000000Z&ReportEnd=2014-05-01T20:20:00.000000Z"
       ]
      },
      {
       "output_type": "stream",
       "stream": "stdout",
       "text": [
        "\n",
        "https://api-preview.telogis.com/execute?template=658029576&user=pioneernatural:main&pass=Abbey0306&ReportStart=2014-05-01T20:20:00.000000Z&ReportEnd=2014-05-01T20:25:00.000000Z"
       ]
      },
      {
       "output_type": "stream",
       "stream": "stdout",
       "text": [
        "\n",
        "https://api-preview.telogis.com/execute?template=658029576&user=pioneernatural:main&pass=Abbey0306&ReportStart=2014-05-01T20:25:00.000000Z&ReportEnd=2014-05-01T20:30:00.000000Z"
       ]
      },
      {
       "output_type": "stream",
       "stream": "stdout",
       "text": [
        "\n",
        "https://api-preview.telogis.com/execute?template=658029576&user=pioneernatural:main&pass=Abbey0306&ReportStart=2014-05-01T20:30:00.000000Z&ReportEnd=2014-05-01T20:35:00.000000Z"
       ]
      },
      {
       "output_type": "stream",
       "stream": "stdout",
       "text": [
        "\n",
        "https://api-preview.telogis.com/execute?template=658029576&user=pioneernatural:main&pass=Abbey0306&ReportStart=2014-05-01T20:35:00.000000Z&ReportEnd=2014-05-01T20:40:00.000000Z"
       ]
      },
      {
       "output_type": "stream",
       "stream": "stdout",
       "text": [
        "\n",
        "https://api-preview.telogis.com/execute?template=658029576&user=pioneernatural:main&pass=Abbey0306&ReportStart=2014-05-01T20:40:00.000000Z&ReportEnd=2014-05-01T20:45:00.000000Z"
       ]
      },
      {
       "output_type": "stream",
       "stream": "stdout",
       "text": [
        "\n",
        "https://api-preview.telogis.com/execute?template=658029576&user=pioneernatural:main&pass=Abbey0306&ReportStart=2014-05-01T20:45:00.000000Z&ReportEnd=2014-05-01T20:50:00.000000Z"
       ]
      },
      {
       "output_type": "stream",
       "stream": "stdout",
       "text": [
        "\n",
        "https://api-preview.telogis.com/execute?template=658029576&user=pioneernatural:main&pass=Abbey0306&ReportStart=2014-05-01T20:50:00.000000Z&ReportEnd=2014-05-01T20:55:00.000000Z"
       ]
      },
      {
       "output_type": "stream",
       "stream": "stdout",
       "text": [
        "\n",
        "https://api-preview.telogis.com/execute?template=658029576&user=pioneernatural:main&pass=Abbey0306&ReportStart=2014-05-01T20:55:00.000000Z&ReportEnd=2014-05-01T21:00:00.000000Z"
       ]
      },
      {
       "output_type": "stream",
       "stream": "stdout",
       "text": [
        "\n",
        "https://api-preview.telogis.com/execute?template=658029576&user=pioneernatural:main&pass=Abbey0306&ReportStart=2014-05-01T21:00:00.000000Z&ReportEnd=2014-05-01T21:05:00.000000Z"
       ]
      },
      {
       "output_type": "stream",
       "stream": "stdout",
       "text": [
        "\n",
        "https://api-preview.telogis.com/execute?template=658029576&user=pioneernatural:main&pass=Abbey0306&ReportStart=2014-05-01T21:05:00.000000Z&ReportEnd=2014-05-01T21:10:00.000000Z"
       ]
      },
      {
       "output_type": "stream",
       "stream": "stdout",
       "text": [
        "\n",
        "https://api-preview.telogis.com/execute?template=658029576&user=pioneernatural:main&pass=Abbey0306&ReportStart=2014-05-01T21:10:00.000000Z&ReportEnd=2014-05-01T21:15:00.000000Z"
       ]
      },
      {
       "output_type": "stream",
       "stream": "stdout",
       "text": [
        "\n",
        "https://api-preview.telogis.com/execute?template=658029576&user=pioneernatural:main&pass=Abbey0306&ReportStart=2014-05-01T21:15:00.000000Z&ReportEnd=2014-05-01T21:20:00.000000Z"
       ]
      },
      {
       "output_type": "stream",
       "stream": "stdout",
       "text": [
        "\n",
        "https://api-preview.telogis.com/execute?template=658029576&user=pioneernatural:main&pass=Abbey0306&ReportStart=2014-05-01T21:20:00.000000Z&ReportEnd=2014-05-01T21:25:00.000000Z"
       ]
      },
      {
       "output_type": "stream",
       "stream": "stdout",
       "text": [
        "\n",
        "https://api-preview.telogis.com/execute?template=658029576&user=pioneernatural:main&pass=Abbey0306&ReportStart=2014-05-01T21:25:00.000000Z&ReportEnd=2014-05-01T21:30:00.000000Z"
       ]
      },
      {
       "output_type": "stream",
       "stream": "stdout",
       "text": [
        "\n",
        "https://api-preview.telogis.com/execute?template=658029576&user=pioneernatural:main&pass=Abbey0306&ReportStart=2014-05-01T21:30:00.000000Z&ReportEnd=2014-05-01T21:35:00.000000Z"
       ]
      },
      {
       "output_type": "stream",
       "stream": "stdout",
       "text": [
        "\n",
        "https://api-preview.telogis.com/execute?template=658029576&user=pioneernatural:main&pass=Abbey0306&ReportStart=2014-05-01T21:35:00.000000Z&ReportEnd=2014-05-01T21:40:00.000000Z"
       ]
      },
      {
       "output_type": "stream",
       "stream": "stdout",
       "text": [
        "\n",
        "https://api-preview.telogis.com/execute?template=658029576&user=pioneernatural:main&pass=Abbey0306&ReportStart=2014-05-01T21:40:00.000000Z&ReportEnd=2014-05-01T21:45:00.000000Z"
       ]
      },
      {
       "output_type": "stream",
       "stream": "stdout",
       "text": [
        "\n",
        "https://api-preview.telogis.com/execute?template=658029576&user=pioneernatural:main&pass=Abbey0306&ReportStart=2014-05-01T21:45:00.000000Z&ReportEnd=2014-05-01T21:50:00.000000Z"
       ]
      },
      {
       "output_type": "stream",
       "stream": "stdout",
       "text": [
        "\n",
        "https://api-preview.telogis.com/execute?template=658029576&user=pioneernatural:main&pass=Abbey0306&ReportStart=2014-05-01T21:50:00.000000Z&ReportEnd=2014-05-01T21:55:00.000000Z"
       ]
      },
      {
       "output_type": "stream",
       "stream": "stdout",
       "text": [
        "\n",
        "https://api-preview.telogis.com/execute?template=658029576&user=pioneernatural:main&pass=Abbey0306&ReportStart=2014-05-01T21:55:00.000000Z&ReportEnd=2014-05-01T22:00:00.000000Z"
       ]
      },
      {
       "output_type": "stream",
       "stream": "stdout",
       "text": [
        "\n",
        "https://api-preview.telogis.com/execute?template=658029576&user=pioneernatural:main&pass=Abbey0306&ReportStart=2014-05-01T22:00:00.000000Z&ReportEnd=2014-05-01T22:05:00.000000Z"
       ]
      },
      {
       "output_type": "stream",
       "stream": "stdout",
       "text": [
        "\n",
        "https://api-preview.telogis.com/execute?template=658029576&user=pioneernatural:main&pass=Abbey0306&ReportStart=2014-05-01T22:05:00.000000Z&ReportEnd=2014-05-01T22:10:00.000000Z"
       ]
      },
      {
       "output_type": "stream",
       "stream": "stdout",
       "text": [
        "\n",
        "https://api-preview.telogis.com/execute?template=658029576&user=pioneernatural:main&pass=Abbey0306&ReportStart=2014-05-01T22:10:00.000000Z&ReportEnd=2014-05-01T22:15:00.000000Z"
       ]
      },
      {
       "output_type": "stream",
       "stream": "stdout",
       "text": [
        "\n",
        "https://api-preview.telogis.com/execute?template=658029576&user=pioneernatural:main&pass=Abbey0306&ReportStart=2014-05-01T22:15:00.000000Z&ReportEnd=2014-05-01T22:20:00.000000Z"
       ]
      },
      {
       "output_type": "stream",
       "stream": "stdout",
       "text": [
        "\n",
        "https://api-preview.telogis.com/execute?template=658029576&user=pioneernatural:main&pass=Abbey0306&ReportStart=2014-05-01T22:20:00.000000Z&ReportEnd=2014-05-01T22:25:00.000000Z"
       ]
      },
      {
       "output_type": "stream",
       "stream": "stdout",
       "text": [
        "\n",
        "https://api-preview.telogis.com/execute?template=658029576&user=pioneernatural:main&pass=Abbey0306&ReportStart=2014-05-01T22:25:00.000000Z&ReportEnd=2014-05-01T22:30:00.000000Z"
       ]
      },
      {
       "output_type": "stream",
       "stream": "stdout",
       "text": [
        "\n",
        "https://api-preview.telogis.com/execute?template=658029576&user=pioneernatural:main&pass=Abbey0306&ReportStart=2014-05-01T22:30:00.000000Z&ReportEnd=2014-05-01T22:35:00.000000Z"
       ]
      },
      {
       "output_type": "stream",
       "stream": "stdout",
       "text": [
        "\n",
        "https://api-preview.telogis.com/execute?template=658029576&user=pioneernatural:main&pass=Abbey0306&ReportStart=2014-05-01T22:35:00.000000Z&ReportEnd=2014-05-01T22:40:00.000000Z"
       ]
      },
      {
       "output_type": "stream",
       "stream": "stdout",
       "text": [
        "\n",
        "https://api-preview.telogis.com/execute?template=658029576&user=pioneernatural:main&pass=Abbey0306&ReportStart=2014-05-01T22:40:00.000000Z&ReportEnd=2014-05-01T22:45:00.000000Z"
       ]
      },
      {
       "output_type": "stream",
       "stream": "stdout",
       "text": [
        "\n",
        "https://api-preview.telogis.com/execute?template=658029576&user=pioneernatural:main&pass=Abbey0306&ReportStart=2014-05-01T22:45:00.000000Z&ReportEnd=2014-05-01T22:50:00.000000Z"
       ]
      },
      {
       "output_type": "stream",
       "stream": "stdout",
       "text": [
        "\n",
        "https://api-preview.telogis.com/execute?template=658029576&user=pioneernatural:main&pass=Abbey0306&ReportStart=2014-05-01T22:50:00.000000Z&ReportEnd=2014-05-01T22:55:00.000000Z"
       ]
      },
      {
       "output_type": "stream",
       "stream": "stdout",
       "text": [
        "\n",
        "https://api-preview.telogis.com/execute?template=658029576&user=pioneernatural:main&pass=Abbey0306&ReportStart=2014-05-01T22:55:00.000000Z&ReportEnd=2014-05-01T23:00:00.000000Z"
       ]
      },
      {
       "output_type": "stream",
       "stream": "stdout",
       "text": [
        "\n",
        "https://api-preview.telogis.com/execute?template=658029576&user=pioneernatural:main&pass=Abbey0306&ReportStart=2014-05-01T23:00:00.000000Z&ReportEnd=2014-05-01T23:05:00.000000Z"
       ]
      },
      {
       "output_type": "stream",
       "stream": "stdout",
       "text": [
        "\n",
        "https://api-preview.telogis.com/execute?template=658029576&user=pioneernatural:main&pass=Abbey0306&ReportStart=2014-05-01T23:05:00.000000Z&ReportEnd=2014-05-01T23:10:00.000000Z"
       ]
      },
      {
       "output_type": "stream",
       "stream": "stdout",
       "text": [
        "\n",
        "https://api-preview.telogis.com/execute?template=658029576&user=pioneernatural:main&pass=Abbey0306&ReportStart=2014-05-01T23:10:00.000000Z&ReportEnd=2014-05-01T23:15:00.000000Z"
       ]
      },
      {
       "output_type": "stream",
       "stream": "stdout",
       "text": [
        "\n",
        "https://api-preview.telogis.com/execute?template=658029576&user=pioneernatural:main&pass=Abbey0306&ReportStart=2014-05-01T23:15:00.000000Z&ReportEnd=2014-05-01T23:20:00.000000Z"
       ]
      },
      {
       "output_type": "stream",
       "stream": "stdout",
       "text": [
        "\n",
        "https://api-preview.telogis.com/execute?template=658029576&user=pioneernatural:main&pass=Abbey0306&ReportStart=2014-05-01T23:20:00.000000Z&ReportEnd=2014-05-01T23:25:00.000000Z"
       ]
      },
      {
       "output_type": "stream",
       "stream": "stdout",
       "text": [
        "\n",
        "https://api-preview.telogis.com/execute?template=658029576&user=pioneernatural:main&pass=Abbey0306&ReportStart=2014-05-01T23:25:00.000000Z&ReportEnd=2014-05-01T23:30:00.000000Z"
       ]
      },
      {
       "output_type": "stream",
       "stream": "stdout",
       "text": [
        "\n",
        "https://api-preview.telogis.com/execute?template=658029576&user=pioneernatural:main&pass=Abbey0306&ReportStart=2014-05-01T23:30:00.000000Z&ReportEnd=2014-05-01T23:35:00.000000Z"
       ]
      },
      {
       "output_type": "stream",
       "stream": "stdout",
       "text": [
        "\n",
        "https://api-preview.telogis.com/execute?template=658029576&user=pioneernatural:main&pass=Abbey0306&ReportStart=2014-05-01T23:35:00.000000Z&ReportEnd=2014-05-01T23:40:00.000000Z"
       ]
      },
      {
       "output_type": "stream",
       "stream": "stdout",
       "text": [
        "\n",
        "https://api-preview.telogis.com/execute?template=658029576&user=pioneernatural:main&pass=Abbey0306&ReportStart=2014-05-01T23:40:00.000000Z&ReportEnd=2014-05-01T23:45:00.000000Z"
       ]
      },
      {
       "output_type": "stream",
       "stream": "stdout",
       "text": [
        "\n",
        "https://api-preview.telogis.com/execute?template=658029576&user=pioneernatural:main&pass=Abbey0306&ReportStart=2014-05-01T23:45:00.000000Z&ReportEnd=2014-05-01T23:50:00.000000Z"
       ]
      },
      {
       "output_type": "stream",
       "stream": "stdout",
       "text": [
        "\n",
        "https://api-preview.telogis.com/execute?template=658029576&user=pioneernatural:main&pass=Abbey0306&ReportStart=2014-05-01T23:50:00.000000Z&ReportEnd=2014-05-01T23:55:00.000000Z"
       ]
      },
      {
       "output_type": "stream",
       "stream": "stdout",
       "text": [
        "\n",
        "https://api-preview.telogis.com/execute?template=658029576&user=pioneernatural:main&pass=Abbey0306&ReportStart=2014-05-01T23:55:00.000000Z&ReportEnd=2014-05-02T00:00:00.000000Z"
       ]
      },
      {
       "output_type": "stream",
       "stream": "stdout",
       "text": [
        "\n",
        "https://api-preview.telogis.com/execute?template=658029576&user=pioneernatural:main&pass=Abbey0306&ReportStart=2014-05-02T00:00:00.000000Z&ReportEnd=2014-05-02T00:05:00.000000Z"
       ]
      },
      {
       "output_type": "stream",
       "stream": "stdout",
       "text": [
        "\n",
        "https://api-preview.telogis.com/execute?template=658029576&user=pioneernatural:main&pass=Abbey0306&ReportStart=2014-05-02T00:05:00.000000Z&ReportEnd=2014-05-02T00:10:00.000000Z"
       ]
      },
      {
       "output_type": "stream",
       "stream": "stdout",
       "text": [
        "\n"
       ]
      }
     ],
     "prompt_number": 25
    },
    {
     "cell_type": "markdown",
     "metadata": {},
     "source": [
      "#### Have a looksee - how many drivers?"
     ]
    },
    {
     "cell_type": "code",
     "collapsed": false,
     "input": [
      "df_drivers = sql.frame_query(\"\"\"SELECT DriverId FROM HistPts\"\"\", conn)\n",
      "df_drivers.describe(), df_drivers.head()\n"
     ],
     "language": "python",
     "metadata": {},
     "outputs": [
      {
       "metadata": {},
       "output_type": "pyout",
       "prompt_number": 6,
       "text": [
        "(           DriverId\n",
        " count  2.036260e+05\n",
        " mean   4.182284e+08\n",
        " std    1.159750e+08\n",
        " min    2.204225e+08\n",
        " 25%    3.166989e+08\n",
        " 50%    4.021537e+08\n",
        " 75%    5.146214e+08\n",
        " max    7.342711e+08\n",
        " \n",
        " [8 rows x 1 columns],     DriverId\n",
        " 0  589387410\n",
        " 1  589387410\n",
        " 2  321295699\n",
        " 3  321295699\n",
        " 4  321295699\n",
        " \n",
        " [5 rows x 1 columns])"
       ]
      }
     ],
     "prompt_number": 6
    },
    {
     "cell_type": "code",
     "collapsed": false,
     "input": [],
     "language": "python",
     "metadata": {},
     "outputs": []
    }
   ],
   "metadata": {}
  }
 ]
}