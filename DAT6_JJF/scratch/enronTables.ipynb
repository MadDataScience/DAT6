{
 "metadata": {
  "name": "",
  "signature": "sha256:ec65724a1da583b03effded4e971e4a527d0ada439e42923658b5fca4fcb6e80"
 },
 "nbformat": 3,
 "nbformat_minor": 0,
 "worksheets": [
  {
   "cells": [
    {
     "cell_type": "code",
     "collapsed": false,
     "input": [
      "%load_ext sql"
     ],
     "language": "python",
     "metadata": {},
     "outputs": [],
     "prompt_number": 2
    },
    {
     "cell_type": "code",
     "collapsed": false,
     "input": [
      "%%sql sqlite:///enron.db\n",
      "SELECT * FROM EmployeeBase LIMIT 5"
     ],
     "language": "python",
     "metadata": {},
     "outputs": [
      {
       "output_type": "stream",
       "stream": "stdout",
       "text": [
        "Done.\n"
       ]
      },
      {
       "html": [
        "<table>\n",
        "    <tr>\n",
        "        <th>eid</th>\n",
        "        <th>name</th>\n",
        "        <th>department</th>\n",
        "        <th>longdepartment</th>\n",
        "        <th>title</th>\n",
        "        <th>gender</th>\n",
        "        <th>seniority</th>\n",
        "    </tr>\n",
        "    <tr>\n",
        "        <td>1</td>\n",
        "        <td>John Arnold</td>\n",
        "        <td>Trading</td>\n",
        "        <td>ENA Gas Financial</td>\n",
        "        <td>VP Trading</td>\n",
        "        <td>Male</td>\n",
        "        <td>Senior</td>\n",
        "    </tr>\n",
        "    <tr>\n",
        "        <td>2</td>\n",
        "        <td>Harry Arora</td>\n",
        "        <td>Trading</td>\n",
        "        <td>ENA East Power</td>\n",
        "        <td>VP Trading</td>\n",
        "        <td>Male</td>\n",
        "        <td>Senior</td>\n",
        "    </tr>\n",
        "    <tr>\n",
        "        <td>3</td>\n",
        "        <td>Robert Badeer</td>\n",
        "        <td>Trading</td>\n",
        "        <td>ENA West Power</td>\n",
        "        <td>Mgr Trading</td>\n",
        "        <td>Male</td>\n",
        "        <td>Junior</td>\n",
        "    </tr>\n",
        "    <tr>\n",
        "        <td>4</td>\n",
        "        <td>Susan Bailey</td>\n",
        "        <td>Legal</td>\n",
        "        <td>ENA Legal</td>\n",
        "        <td>Specialist Legal</td>\n",
        "        <td>Female</td>\n",
        "        <td>Junior</td>\n",
        "    </tr>\n",
        "    <tr>\n",
        "        <td>5</td>\n",
        "        <td>Eric Bass</td>\n",
        "        <td>Trading</td>\n",
        "        <td>ENA Gas Texas</td>\n",
        "        <td>Trader</td>\n",
        "        <td>Male</td>\n",
        "        <td>Junior</td>\n",
        "    </tr>\n",
        "</table>"
       ],
       "metadata": {},
       "output_type": "pyout",
       "prompt_number": 8,
       "text": [
        "[(1, u'John Arnold', u'Trading', u'ENA Gas Financial', u'VP Trading', u'Male', u'Senior'),\n",
        " (2, u'Harry Arora', u'Trading', u'ENA East Power', u'VP Trading', u'Male', u'Senior'),\n",
        " (3, u'Robert Badeer', u'Trading', u'ENA West Power', u'Mgr Trading', u'Male', u'Junior'),\n",
        " (4, u'Susan Bailey', u'Legal', u'ENA Legal', u'Specialist Legal', u'Female', u'Junior'),\n",
        " (5, u'Eric Bass', u'Trading', u'ENA Gas Texas', u'Trader', u'Male', u'Junior')]"
       ]
      }
     ],
     "prompt_number": 8
    },
    {
     "cell_type": "code",
     "collapsed": false,
     "input": [
      "%%sql sqlite:///enron.db\n",
      "SELECT * FROM MessageBase LIMIT 5"
     ],
     "language": "python",
     "metadata": {},
     "outputs": [
      {
       "output_type": "stream",
       "stream": "stdout",
       "text": [
        "Done.\n"
       ]
      },
      {
       "html": [
        "<table>\n",
        "    <tr>\n",
        "        <th>mid</th>\n",
        "        <th>filename</th>\n",
        "        <th>unix_time</th>\n",
        "        <th>subject</th>\n",
        "        <th>from_eid</th>\n",
        "    </tr>\n",
        "    <tr>\n",
        "        <td>1</td>\n",
        "        <td>taylor-m/sent/11</td>\n",
        "        <td>910930020</td>\n",
        "        <td>Cd$ CME letter</td>\n",
        "        <td>138</td>\n",
        "    </tr>\n",
        "    <tr>\n",
        "        <td>2</td>\n",
        "        <td>taylor-m/sent/17</td>\n",
        "        <td>911459940</td>\n",
        "        <td>Indemnification</td>\n",
        "        <td>138</td>\n",
        "    </tr>\n",
        "    <tr>\n",
        "        <td>3</td>\n",
        "        <td>taylor-m/sent/18</td>\n",
        "        <td>911463840</td>\n",
        "        <td>Re: Indemnification</td>\n",
        "        <td>138</td>\n",
        "    </tr>\n",
        "    <tr>\n",
        "        <td>4</td>\n",
        "        <td>taylor-m/sent/23</td>\n",
        "        <td>911874180</td>\n",
        "        <td>Re: Coral Energy, L.P.</td>\n",
        "        <td>138</td>\n",
        "    </tr>\n",
        "    <tr>\n",
        "        <td>5</td>\n",
        "        <td>taylor-m/sent/27</td>\n",
        "        <td>912396120</td>\n",
        "        <td>Bankruptcy Code revisions</td>\n",
        "        <td>138</td>\n",
        "    </tr>\n",
        "</table>"
       ],
       "metadata": {},
       "output_type": "pyout",
       "prompt_number": 9,
       "text": [
        "[(1, u'taylor-m/sent/11', 910930020, u'Cd$ CME letter', 138),\n",
        " (2, u'taylor-m/sent/17', 911459940, u'Indemnification', 138),\n",
        " (3, u'taylor-m/sent/18', 911463840, u'Re: Indemnification', 138),\n",
        " (4, u'taylor-m/sent/23', 911874180, u'Re: Coral Energy, L.P.', 138),\n",
        " (5, u'taylor-m/sent/27', 912396120, u'Bankruptcy Code revisions', 138)]"
       ]
      }
     ],
     "prompt_number": 9
    },
    {
     "cell_type": "code",
     "collapsed": false,
     "input": [
      "%%sql sqlite:///enron.db\n",
      "SELECT * FROM RecipientBase LIMIT 5"
     ],
     "language": "python",
     "metadata": {},
     "outputs": [
      {
       "output_type": "stream",
       "stream": "stdout",
       "text": [
        "Done.\n"
       ]
      },
      {
       "html": [
        "<table>\n",
        "    <tr>\n",
        "        <th>mid</th>\n",
        "        <th>rno</th>\n",
        "        <th>to_eid</th>\n",
        "    </tr>\n",
        "    <tr>\n",
        "        <td>1</td>\n",
        "        <td>1</td>\n",
        "        <td>59</td>\n",
        "    </tr>\n",
        "    <tr>\n",
        "        <td>2</td>\n",
        "        <td>1</td>\n",
        "        <td>15</td>\n",
        "    </tr>\n",
        "    <tr>\n",
        "        <td>3</td>\n",
        "        <td>1</td>\n",
        "        <td>15</td>\n",
        "    </tr>\n",
        "    <tr>\n",
        "        <td>4</td>\n",
        "        <td>1</td>\n",
        "        <td>109</td>\n",
        "    </tr>\n",
        "    <tr>\n",
        "        <td>4</td>\n",
        "        <td>2</td>\n",
        "        <td>49</td>\n",
        "    </tr>\n",
        "</table>"
       ],
       "metadata": {},
       "output_type": "pyout",
       "prompt_number": 11,
       "text": [
        "[(1, 1, 59), (2, 1, 15), (3, 1, 15), (4, 1, 109), (4, 2, 49)]"
       ]
      }
     ],
     "prompt_number": 11
    },
    {
     "cell_type": "code",
     "collapsed": false,
     "input": [
      "%%sql sqlite:///enron.db\n",
      "SELECT mid, max(rno), from_eid, seniority\n",
      "FROM MessageBase\n",
      "JOIN RecipientBase Using(mid)\n",
      "JOIN EmployeeBase ON from_eid = eid\n",
      "GROUP BY mid\n",
      "LIMIT 50"
     ],
     "language": "python",
     "metadata": {},
     "outputs": []
    },
    {
     "cell_type": "code",
     "collapsed": false,
     "input": [],
     "language": "python",
     "metadata": {},
     "outputs": []
    }
   ],
   "metadata": {}
  }
 ]
}