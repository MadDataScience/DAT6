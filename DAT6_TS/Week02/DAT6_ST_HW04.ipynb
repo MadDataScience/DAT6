{
 "metadata": {
  "name": "",
  "signature": "sha256:3ea2a5b2cfeaaefa849b3ae9ca522d4d248028ffde91c3dbf95470b7b7a247a2"
 },
 "nbformat": 3,
 "nbformat_minor": 0,
 "worksheets": [
  {
   "cells": [
    {
     "cell_type": "markdown",
     "metadata": {},
     "source": [
      "Twitter & MongoDB\n",
      "-------------------\n",
      "DAT6"
     ]
    },
    {
     "cell_type": "code",
     "collapsed": false,
     "input": [
      "# standard library:\n",
      "import os  \n",
      "\n",
      "from pprint import pprint\n",
      "\n",
      "# other modules:\n",
      "import matplotlib.pyplot as plt\n",
      "import pandas as pd\n",
      "import twitter\n",
      "import yaml\n",
      "\n",
      "from pymongo import MongoClient"
     ],
     "language": "python",
     "metadata": {},
     "outputs": [],
     "prompt_number": 10
    },
    {
     "cell_type": "code",
     "collapsed": false,
     "input": [
      "# Constants\n",
      "US_WOE_ID = 23424977\n",
      "CAD_WOE_ID = 23424775\n",
      "\n",
      "tweet_count = 100"
     ],
     "language": "python",
     "metadata": {},
     "outputs": [],
     "prompt_number": 21
    },
    {
     "cell_type": "code",
     "collapsed": false,
     "input": [
      "%%bash\n",
      "ls ~/api_cred.yml"
     ],
     "language": "python",
     "metadata": {},
     "outputs": [
      {
       "output_type": "stream",
       "stream": "stdout",
       "text": [
        "/Users/t_sutinee/api_cred.yml\n"
       ]
      }
     ],
     "prompt_number": 12
    },
    {
     "cell_type": "code",
     "collapsed": false,
     "input": [
      "credentials = yaml.load(open(os.path.expanduser('~/api_cred.yml')))"
     ],
     "language": "python",
     "metadata": {},
     "outputs": [],
     "prompt_number": 15
    },
    {
     "cell_type": "code",
     "collapsed": false,
     "input": [
      "CONSUMER_KEY = 'zxPYy8HfTqpWROwmqMNeUKTeX'\n",
      "CONSUMER_SECRET = 'luHNhq6GJX3DJv87OEGLYl5k1s7bVHUR9pKqstteBVioP8rKDA'\n",
      "OAUTH_TOKEN = '136916065-UAYwpZ5MMmSWLF9VSpXxU0QRXnurFKUNwwZnu1WS'\n",
      "OAUTH_TOKEN_SECRET = 'VnN3jVs2ulABcsW99f6HRgrir2lzRVn3S0j0hySpmLiYw'\n",
      "\n",
      "auth = twitter.oauth.OAuth(OAUTH_TOKEN, OAUTH_TOKEN_SECRET,\n",
      "                           CONSUMER_KEY, CONSUMER_SECRET)\n",
      "\n",
      "twitter_api = twitter.Twitter(auth=auth)"
     ],
     "language": "python",
     "metadata": {},
     "outputs": [],
     "prompt_number": 18
    },
    {
     "cell_type": "code",
     "collapsed": false,
     "input": [
      "% mkdir -p data/db"
     ],
     "language": "python",
     "metadata": {},
     "outputs": [],
     "prompt_number": 5
    },
    {
     "cell_type": "code",
     "collapsed": false,
     "input": [
      "c = MongoClient()\n",
      "# create or attach to the \"twitter\" database\n",
      "db = c.twitter"
     ],
     "language": "python",
     "metadata": {},
     "outputs": [],
     "prompt_number": 20
    },
    {
     "cell_type": "code",
     "collapsed": false,
     "input": [
      "cad_trends = twitter_api.trends.place(_id=CAD_WOE_ID)\n",
      "us_trends = twitter_api.trends.place(_id=US_WOE_ID)"
     ],
     "language": "python",
     "metadata": {},
     "outputs": [],
     "prompt_number": 23
    },
    {
     "cell_type": "code",
     "collapsed": false,
     "input": [
      "cad_trends_set = set([trend['name'] for trends in cad_trends\n",
      "                        for trend in trends['trends']])\n",
      "\n",
      "us_trends_set = set([trend['name'] for trends in us_trends\n",
      "                     for trend in trends['trends']]) \n",
      "\n"
     ],
     "language": "python",
     "metadata": {},
     "outputs": [],
     "prompt_number": 25
    },
    {
     "cell_type": "code",
     "collapsed": false,
     "input": [
      "us_only = us_trends_set.difference(cad_trends_set)\n",
      "us_only"
     ],
     "language": "python",
     "metadata": {},
     "outputs": [
      {
       "metadata": {},
       "output_type": "pyout",
       "prompt_number": 30,
       "text": [
        "{u'#DWTSfinale',\n",
        " u'#GrimmieForTheWin',\n",
        " u'#WWELondon',\n",
        " u'Diddy Dirty Money',\n",
        " u'James & Peta',\n",
        " u'Kaleena',\n",
        " u'Love & Hip Hop',\n",
        " u'Stevie & Joseline'}"
       ]
      }
     ],
     "prompt_number": 30
    },
    {
     "cell_type": "code",
     "collapsed": false,
     "input": [
      "cad_only = cad_trends_set.difference(us_trends_set)\n",
      "cad_only"
     ],
     "language": "python",
     "metadata": {},
     "outputs": [
      {
       "metadata": {},
       "output_type": "pyout",
       "prompt_number": 31,
       "text": [
        "{u'#MONUMENTOUR',\n",
        " u'#TKEp2',\n",
        " u'#Tokarski',\n",
        " u'Happy Victoria Day',\n",
        " u'Kreider',\n",
        " u'PJ Stock',\n",
        " u'Price',\n",
        " u'Sara Diamond'}"
       ]
      }
     ],
     "prompt_number": 31
    },
    {
     "cell_type": "code",
     "collapsed": false,
     "input": [
      "#convert set object to list object so that indexes can be used on them\n",
      "cad_only = list(cad_only)\n",
      "us_only = list(us_only)\n",
      "\n",
      "type(cad_only)\n",
      "type(us_only)"
     ],
     "language": "python",
     "metadata": {},
     "outputs": [
      {
       "metadata": {},
       "output_type": "pyout",
       "prompt_number": 33,
       "text": [
        "list"
       ]
      }
     ],
     "prompt_number": 33
    },
    {
     "cell_type": "code",
     "collapsed": false,
     "input": [
      "cad_only[0:len(cad_only)]    \n"
     ],
     "language": "python",
     "metadata": {},
     "outputs": [
      {
       "metadata": {},
       "output_type": "pyout",
       "prompt_number": 34,
       "text": [
        "[u'Kreider',\n",
        " u'#MONUMENTOUR',\n",
        " u'#Tokarski',\n",
        " u'Happy Victoria Day',\n",
        " u'Price',\n",
        " u'Sara Diamond',\n",
        " u'PJ Stock',\n",
        " u'#TKEp2']"
       ]
      }
     ],
     "prompt_number": 34
    },
    {
     "cell_type": "code",
     "collapsed": false,
     "input": [
      "###test out how to retrieve tweets for one trend\n",
      "q = cad_only[0]\n",
      "count = 100\n",
      "\n",
      "# See https://dev.twitter.com/docs/api/1.1/get/search/tweets\n",
      "search_results = twitter_api.search.tweets(q=q, count=count)\n",
      "statuses = search_results['statuses']"
     ],
     "language": "python",
     "metadata": {},
     "outputs": [],
     "prompt_number": 35
    },
    {
     "cell_type": "code",
     "collapsed": false,
     "input": [
      "statuses[1]['user']['screen_name']"
     ],
     "language": "python",
     "metadata": {},
     "outputs": [
      {
       "metadata": {},
       "output_type": "pyout",
       "prompt_number": 36,
       "text": [
        "u'PhilStacey_SN'"
       ]
      }
     ],
     "prompt_number": 36
    },
    {
     "cell_type": "code",
     "collapsed": false,
     "input": [
      "statuses[1]['user']['followers_count']"
     ],
     "language": "python",
     "metadata": {},
     "outputs": [
      {
       "metadata": {},
       "output_type": "pyout",
       "prompt_number": 37,
       "text": [
        "1964"
       ]
      }
     ],
     "prompt_number": 37
    },
    {
     "cell_type": "code",
     "collapsed": false,
     "input": [
      "statuses[0]"
     ],
     "language": "python",
     "metadata": {},
     "outputs": [
      {
       "metadata": {},
       "output_type": "pyout",
       "prompt_number": 38,
       "text": [
        "{u'contributors': None,\n",
        " u'coordinates': None,\n",
        " u'created_at': u'Tue May 20 00:38:28 +0000 2014',\n",
        " u'entities': {u'hashtags': [],\n",
        "  u'symbols': [],\n",
        "  u'urls': [],\n",
        "  u'user_mentions': [{u'id': 429468742,\n",
        "    u'id_str': u'429468742',\n",
        "    u'indices': [3, 17],\n",
        "    u'name': u'NY Rangers Zone',\n",
        "    u'screen_name': u'NYRangersZone'}]},\n",
        " u'favorite_count': 0,\n",
        " u'favorited': False,\n",
        " u'geo': None,\n",
        " u'id': 468551296195112960,\n",
        " u'id_str': u'468551296195112960',\n",
        " u'in_reply_to_screen_name': None,\n",
        " u'in_reply_to_status_id': None,\n",
        " u'in_reply_to_status_id_str': None,\n",
        " u'in_reply_to_user_id': None,\n",
        " u'in_reply_to_user_id_str': None,\n",
        " u'lang': u'en',\n",
        " u'metadata': {u'iso_language_code': u'en', u'result_type': u'recent'},\n",
        " u'place': None,\n",
        " u'retweet_count': 5,\n",
        " u'retweeted': False,\n",
        " u'retweeted_status': {u'contributors': None,\n",
        "  u'coordinates': None,\n",
        "  u'created_at': u'Tue May 20 00:35:53 +0000 2014',\n",
        "  u'entities': {u'hashtags': [],\n",
        "   u'symbols': [],\n",
        "   u'urls': [],\n",
        "   u'user_mentions': []},\n",
        "  u'favorite_count': 18,\n",
        "  u'favorited': False,\n",
        "  u'geo': None,\n",
        "  u'id': 468550643137785856,\n",
        "  u'id_str': u'468550643137785856',\n",
        "  u'in_reply_to_screen_name': None,\n",
        "  u'in_reply_to_status_id': None,\n",
        "  u'in_reply_to_status_id_str': None,\n",
        "  u'in_reply_to_user_id': None,\n",
        "  u'in_reply_to_user_id_str': None,\n",
        "  u'lang': u'en',\n",
        "  u'metadata': {u'iso_language_code': u'en', u'result_type': u'recent'},\n",
        "  u'place': None,\n",
        "  u'retweet_count': 5,\n",
        "  u'retweeted': False,\n",
        "  u'source': u'<a href=\"http://twitter.com/download/iphone\" rel=\"nofollow\">Twitter for iPhone</a>',\n",
        "  u'text': u'This booing Kreider every time he touches the puck is going to get old. Sacrebleu!',\n",
        "  u'truncated': False,\n",
        "  u'user': {u'contributors_enabled': False,\n",
        "   u'created_at': u'Tue Dec 06 00:47:14 +0000 2011',\n",
        "   u'default_profile': False,\n",
        "   u'default_profile_image': False,\n",
        "   u'description': u'Bleeding Blue since birth. Uniting #NYR fans worldwide. Contributor for @BleacherReport http://t.co/16Jro5rTsM',\n",
        "   u'entities': {u'description': {u'urls': [{u'display_url': u'bleacherreport.com/users/291493-r\\u2026',\n",
        "       u'expanded_url': u'http://bleacherreport.com/users/291493-rob-waters',\n",
        "       u'indices': [88, 110],\n",
        "       u'url': u'http://t.co/16Jro5rTsM'}]},\n",
        "    u'url': {u'urls': [{u'display_url': u'nyrzone.com',\n",
        "       u'expanded_url': u'http://nyrzone.com',\n",
        "       u'indices': [0, 22],\n",
        "       u'url': u'http://t.co/RHe4Xvx4Uf'}]}},\n",
        "   u'favourites_count': 1339,\n",
        "   u'follow_request_sent': False,\n",
        "   u'followers_count': 6403,\n",
        "   u'following': False,\n",
        "   u'friends_count': 256,\n",
        "   u'geo_enabled': False,\n",
        "   u'id': 429468742,\n",
        "   u'id_str': u'429468742',\n",
        "   u'is_translation_enabled': False,\n",
        "   u'is_translator': False,\n",
        "   u'lang': u'en',\n",
        "   u'listed_count': 78,\n",
        "   u'location': u'Madison Square Garden',\n",
        "   u'name': u'NY Rangers Zone',\n",
        "   u'notifications': False,\n",
        "   u'profile_background_color': u'326693',\n",
        "   u'profile_background_image_url': u'http://pbs.twimg.com/profile_background_images/600439130/olwyna64c4osd9vk6v0a.jpeg',\n",
        "   u'profile_background_image_url_https': u'https://pbs.twimg.com/profile_background_images/600439130/olwyna64c4osd9vk6v0a.jpeg',\n",
        "   u'profile_background_tile': False,\n",
        "   u'profile_banner_url': u'https://pbs.twimg.com/profile_banners/429468742/1398899697',\n",
        "   u'profile_image_url': u'http://pbs.twimg.com/profile_images/416715261429817344/qV3f9Tzk_normal.jpeg',\n",
        "   u'profile_image_url_https': u'https://pbs.twimg.com/profile_images/416715261429817344/qV3f9Tzk_normal.jpeg',\n",
        "   u'profile_link_color': u'FF0000',\n",
        "   u'profile_sidebar_border_color': u'FFFFFF',\n",
        "   u'profile_sidebar_fill_color': u'001A4F',\n",
        "   u'profile_text_color': u'FFFFFF',\n",
        "   u'profile_use_background_image': True,\n",
        "   u'protected': False,\n",
        "   u'screen_name': u'NYRangersZone',\n",
        "   u'statuses_count': 18103,\n",
        "   u'time_zone': u'Eastern Time (US & Canada)',\n",
        "   u'url': u'http://t.co/RHe4Xvx4Uf',\n",
        "   u'utc_offset': -14400,\n",
        "   u'verified': False}},\n",
        " u'source': u'<a href=\"http://twitter.com/download/android\" rel=\"nofollow\">Twitter for Android</a>',\n",
        " u'text': u'RT @NYRangersZone: This booing Kreider every time he touches the puck is going to get old. Sacrebleu!',\n",
        " u'truncated': False,\n",
        " u'user': {u'contributors_enabled': False,\n",
        "  u'created_at': u'Wed Nov 09 13:41:42 +0000 2011',\n",
        "  u'default_profile': False,\n",
        "  u'default_profile_image': False,\n",
        "  u'description': u'',\n",
        "  u'entities': {u'description': {u'urls': []}},\n",
        "  u'favourites_count': 783,\n",
        "  u'follow_request_sent': False,\n",
        "  u'followers_count': 83,\n",
        "  u'following': False,\n",
        "  u'friends_count': 298,\n",
        "  u'geo_enabled': False,\n",
        "  u'id': 408480405,\n",
        "  u'id_str': u'408480405',\n",
        "  u'is_translation_enabled': False,\n",
        "  u'is_translator': False,\n",
        "  u'lang': u'en',\n",
        "  u'listed_count': 0,\n",
        "  u'location': u'Staten Island',\n",
        "  u'name': u'Heather',\n",
        "  u'notifications': False,\n",
        "  u'profile_background_color': u'FFFFFF',\n",
        "  u'profile_background_image_url': u'http://abs.twimg.com/images/themes/theme3/bg.gif',\n",
        "  u'profile_background_image_url_https': u'https://abs.twimg.com/images/themes/theme3/bg.gif',\n",
        "  u'profile_background_tile': False,\n",
        "  u'profile_banner_url': u'https://pbs.twimg.com/profile_banners/408480405/1392347724',\n",
        "  u'profile_image_url': u'http://pbs.twimg.com/profile_images/434164173522485248/cgdTAAEr_normal.jpeg',\n",
        "  u'profile_image_url_https': u'https://pbs.twimg.com/profile_images/434164173522485248/cgdTAAEr_normal.jpeg',\n",
        "  u'profile_link_color': u'72B9BF',\n",
        "  u'profile_sidebar_border_color': u'A0EEF5',\n",
        "  u'profile_sidebar_fill_color': u'1A3F57',\n",
        "  u'profile_text_color': u'9DDD95',\n",
        "  u'profile_use_background_image': True,\n",
        "  u'protected': False,\n",
        "  u'screen_name': u'heath418',\n",
        "  u'statuses_count': 1352,\n",
        "  u'time_zone': u'Central Time (US & Canada)',\n",
        "  u'url': None,\n",
        "  u'utc_offset': -18000,\n",
        "  u'verified': False}}"
       ]
      }
     ],
     "prompt_number": 38
    },
    {
     "cell_type": "code",
     "collapsed": false,
     "input": [
      "###retrieve tweets for all unique canada trends and insert them into its own mongo table\n",
      "c = MongoClient() \n",
      "db = c.twitter\n",
      "#set static variables\n",
      "count = 100  \n",
      "\n",
      "for i in range(0, len(cad_only)):\n",
      "    q = cad_only[i]\n",
      "    search_results = twitter_api.search.tweets(q=q, count=count)\n",
      "    statuses = search_results['statuses']     \n",
      "    statuses_ids = db.canada_tweets.insert(statuses)\n",
      "\n",
      "\n"
     ],
     "language": "python",
     "metadata": {},
     "outputs": [],
     "prompt_number": 41
    },
    {
     "cell_type": "code",
     "collapsed": false,
     "input": [
      "###retrieve tweets for all unique us trends and insert them into its own table\n",
      "\n",
      "#create database connection\n",
      "c = MongoClient()\n",
      "db = c.twitter\n",
      "\n",
      "#set static variables\n",
      "count = 100  \n",
      "\n",
      "for i in range(0, len(us_only)):\n",
      "    q = us_only[i]\n",
      "    search_results = twitter_api.search.tweets(q=q, count=count)\n",
      "    statuses = search_results['statuses']     \n",
      "    statuses_ids = db.us_tweets.insert(statuses)"
     ],
     "language": "python",
     "metadata": {},
     "outputs": [],
     "prompt_number": 42
    },
    {
     "cell_type": "code",
     "collapsed": false,
     "input": [
      "db.collection_names()"
     ],
     "language": "python",
     "metadata": {},
     "outputs": [
      {
       "metadata": {},
       "output_type": "pyout",
       "prompt_number": 43,
       "text": [
        "[u'tweets', u'system.indexes', u'canada_tweets', u'us_tweets']"
       ]
      }
     ],
     "prompt_number": 43
    },
    {
     "cell_type": "code",
     "collapsed": false,
     "input": [
      "x = db.tweets.find(fields=['name','follower_count'])\n",
      "\n",
      "pd.DataFrame(list(x)).head()"
     ],
     "language": "python",
     "metadata": {},
     "outputs": [
      {
       "html": [
        "<div style=\"max-height:1000px;max-width:1500px;overflow:auto;\">\n",
        "<table border=\"1\" class=\"dataframe\">\n",
        "  <thead>\n",
        "    <tr style=\"text-align: right;\">\n",
        "      <th></th>\n",
        "      <th>_id</th>\n",
        "    </tr>\n",
        "  </thead>\n",
        "  <tbody>\n",
        "    <tr>\n",
        "      <th>0</th>\n",
        "      <td> 535eef6b40a70518e1474362</td>\n",
        "    </tr>\n",
        "    <tr>\n",
        "      <th>1</th>\n",
        "      <td> 535eef6b40a70518e1474366</td>\n",
        "    </tr>\n",
        "    <tr>\n",
        "      <th>2</th>\n",
        "      <td> 535eef6b40a70518e1474360</td>\n",
        "    </tr>\n",
        "    <tr>\n",
        "      <th>3</th>\n",
        "      <td> 535eef6b40a70518e1474361</td>\n",
        "    </tr>\n",
        "    <tr>\n",
        "      <th>4</th>\n",
        "      <td> 535eef6b40a70518e1474363</td>\n",
        "    </tr>\n",
        "  </tbody>\n",
        "</table>\n",
        "<p>5 rows \u00d7 1 columns</p>\n",
        "</div>"
       ],
       "metadata": {},
       "output_type": "pyout",
       "prompt_number": 44,
       "text": [
        "                        _id\n",
        "0  535eef6b40a70518e1474362\n",
        "1  535eef6b40a70518e1474366\n",
        "2  535eef6b40a70518e1474360\n",
        "3  535eef6b40a70518e1474361\n",
        "4  535eef6b40a70518e1474363\n",
        "\n",
        "[5 rows x 1 columns]"
       ]
      }
     ],
     "prompt_number": 44
    },
    {
     "cell_type": "code",
     "collapsed": false,
     "input": [
      "us_follower_count = pd.DataFrame(list(db.us_tweets.find(fields=[\"user.name\",\"user.followers_count\"])))\n",
      "us_follower_count.head()\n",
      "\n",
      "cad_follower_count = pd.DataFrame(list(db.canada_tweets.find(fields=[\"user.name\",\"user.followers_count\"])))\n",
      "cad_follower_count.head()"
     ],
     "language": "python",
     "metadata": {},
     "outputs": [
      {
       "html": [
        "<div style=\"max-height:1000px;max-width:1500px;overflow:auto;\">\n",
        "<table border=\"1\" class=\"dataframe\">\n",
        "  <thead>\n",
        "    <tr style=\"text-align: right;\">\n",
        "      <th></th>\n",
        "      <th>_id</th>\n",
        "      <th>user</th>\n",
        "    </tr>\n",
        "  </thead>\n",
        "  <tbody>\n",
        "    <tr>\n",
        "      <th>0</th>\n",
        "      <td> 537aa45540a7050765f2591f</td>\n",
        "      <td> {u'followers_count': 423, u'name': u'alexa gue...</td>\n",
        "    </tr>\n",
        "    <tr>\n",
        "      <th>1</th>\n",
        "      <td> 537aa45540a7050765f25942</td>\n",
        "      <td>     {u'followers_count': 132, u'name': u'SKiPPY'}</td>\n",
        "    </tr>\n",
        "    <tr>\n",
        "      <th>2</th>\n",
        "      <td> 537aa45540a7050765f2591c</td>\n",
        "      <td> {u'followers_count': 616, u'name': u'Dominique '}</td>\n",
        "    </tr>\n",
        "    <tr>\n",
        "      <th>3</th>\n",
        "      <td> 537aa45540a7050765f2591d</td>\n",
        "      <td> {u'followers_count': 568, u'name': u'briana-ma...</td>\n",
        "    </tr>\n",
        "    <tr>\n",
        "      <th>4</th>\n",
        "      <td> 537aa45540a7050765f2591e</td>\n",
        "      <td>    {u'followers_count': 8, u'name': u'Adielishy'}</td>\n",
        "    </tr>\n",
        "  </tbody>\n",
        "</table>\n",
        "<p>5 rows \u00d7 2 columns</p>\n",
        "</div>"
       ],
       "metadata": {},
       "output_type": "pyout",
       "prompt_number": 45,
       "text": [
        "                        _id                                               user\n",
        "0  537aa45540a7050765f2591f  {u'followers_count': 423, u'name': u'alexa gue...\n",
        "1  537aa45540a7050765f25942      {u'followers_count': 132, u'name': u'SKiPPY'}\n",
        "2  537aa45540a7050765f2591c  {u'followers_count': 616, u'name': u'Dominique '}\n",
        "3  537aa45540a7050765f2591d  {u'followers_count': 568, u'name': u'briana-ma...\n",
        "4  537aa45540a7050765f2591e     {u'followers_count': 8, u'name': u'Adielishy'}\n",
        "\n",
        "[5 rows x 2 columns]"
       ]
      }
     ],
     "prompt_number": 45
    },
    {
     "cell_type": "code",
     "collapsed": false,
     "input": [
      "cad_follower_count2 = canada_follower_count['user'].apply(pd.Series)\n",
      "\n",
      "canada_follower_count2.describe()"
     ],
     "language": "python",
     "metadata": {},
     "outputs": []
    }
   ],
   "metadata": {}
  }
 ]
}