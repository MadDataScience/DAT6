{
 "metadata": {
  "name": "",
  "signature": "sha256:14419c824a2d873a8570e10d3ecb0a2a8f64ab32de6c5211ef77c033f2abf434"
 },
 "nbformat": 3,
 "nbformat_minor": 0,
 "worksheets": [
  {
   "cells": [
    {
     "cell_type": "markdown",
     "metadata": {},
     "source": [
      "Lab\n",
      "===================\n",
      "Probability and Statistics\n",
      "-------------------"
     ]
    },
    {
     "cell_type": "markdown",
     "metadata": {},
     "source": [
      "1-2 Pairs\n",
      "=========\n",
      "Start with the data on US and Canada trends from last week."
     ]
    },
    {
     "cell_type": "code",
     "collapsed": false,
     "input": [
      "%matplotlib inline\n",
      "import os\n",
      "import matplotlib.pyplot as plt\n",
      "import numpy as np\n",
      "import pandas as pd\n",
      "import statsmodels.api as sm\n",
      "import twitter\n",
      "import yaml\n"
     ],
     "language": "python",
     "metadata": {},
     "outputs": [],
     "prompt_number": 10
    },
    {
     "cell_type": "code",
     "collapsed": false,
     "input": [
      "from pymongo import MongoClient"
     ],
     "language": "python",
     "metadata": {},
     "outputs": [],
     "prompt_number": 12
    },
    {
     "cell_type": "code",
     "collapsed": false,
     "input": [
      "credentials = yaml.load(open(os.path.expanduser('~/api_cred.yml')))"
     ],
     "language": "python",
     "metadata": {},
     "outputs": [],
     "prompt_number": 14
    },
    {
     "cell_type": "heading",
     "level": 4,
     "metadata": {},
     "source": [
      "1. Create a histogram of `text_len` within each group. (Use `alpha = 0.5` to overlay them.)\n",
      "\n"
     ]
    },
    {
     "cell_type": "code",
     "collapsed": false,
     "input": [
      "ls"
     ],
     "language": "python",
     "metadata": {},
     "outputs": [
      {
       "output_type": "stream",
       "stream": "stdout",
       "text": [
        "DAT6_ST_HW05.ipynb  DAT6_ST_HW06.ipynb\r\n"
       ]
      }
     ],
     "prompt_number": 19
    },
    {
     "cell_type": "code",
     "collapsed": false,
     "input": [
      "c = MongoClient()\n",
      "db = c.twitter"
     ],
     "language": "python",
     "metadata": {},
     "outputs": [],
     "prompt_number": 21
    },
    {
     "cell_type": "code",
     "collapsed": false,
     "input": [
      "db = c.twitter"
     ],
     "language": "python",
     "metadata": {},
     "outputs": [],
     "prompt_number": 22
    },
    {
     "cell_type": "code",
     "collapsed": false,
     "input": [
      "c.database_names()"
     ],
     "language": "python",
     "metadata": {},
     "outputs": [
      {
       "metadata": {},
       "output_type": "pyout",
       "prompt_number": 23,
       "text": [
        "[u'local', u'twitter', u'admin']"
       ]
      }
     ],
     "prompt_number": 23
    },
    {
     "cell_type": "code",
     "collapsed": false,
     "input": [
      "db.collection_names()"
     ],
     "language": "python",
     "metadata": {},
     "outputs": [
      {
       "metadata": {},
       "output_type": "pyout",
       "prompt_number": 24,
       "text": [
        "[u'tweets', u'system.indexes']"
       ]
      }
     ],
     "prompt_number": 24
    },
    {
     "cell_type": "code",
     "collapsed": false,
     "input": [
      "db.USAtweets"
     ],
     "language": "python",
     "metadata": {},
     "outputs": [
      {
       "metadata": {},
       "output_type": "pyout",
       "prompt_number": 25,
       "text": [
        "Collection(Database(MongoClient('localhost', 27017), u'twitter'), u'USAtweets')"
       ]
      }
     ],
     "prompt_number": 25
    },
    {
     "cell_type": "code",
     "collapsed": false,
     "input": [
      "text_len_US['text_len'] = pd.Dataframe(list(db.us_tweets.find(fields=['text'])))\n",
      "text"
     ],
     "language": "python",
     "metadata": {},
     "outputs": []
    },
    {
     "cell_type": "heading",
     "level": 4,
     "metadata": {},
     "source": [
      "2. Compute the sample mean and standard deviation in the two groups.\n"
     ]
    },
    {
     "cell_type": "heading",
     "level": 4,
     "metadata": {},
     "source": [
      "\n",
      "3. Create a `DataFrame` concatenating data from each collection adding a `country` column to distinguish US from Canada. \n"
     ]
    },
    {
     "cell_type": "markdown",
     "metadata": {},
     "source": [
      "3. \n",
      "    i.e. given `ca_text_len` and `us_text_len` as `Series` containing the length of each text in the Canadian and US collections respectively:\n",
      "\n",
      "    ```python\n",
      "    text_len_df = pd.concat([pd.DataFrame({'text_len': ca_text_len, 'country': 'CA'}), \n",
      "                             pd.DataFrame({'text_len': us_text_len, 'country': 'US'})])\n",
      "    ```\n"
     ]
    },
    {
     "cell_type": "heading",
     "level": 4,
     "metadata": {},
     "source": [
      "4. Use this `DataFrame` to create a `boxplot` of the `text_len` by `country`.\n",
      "\n"
     ]
    },
    {
     "cell_type": "heading",
     "level": 4,
     "metadata": {},
     "source": [
      "5. Use `OLS` to compute a 90% confidence interval for the difference in `text_len` between the two groups. Name a problem with describing the confidence interval of tweet length in this way."
     ]
    },
    {
     "cell_type": "heading",
     "level": 4,
     "metadata": {},
     "source": [
      "5. At level $\\alpha=5\\%$, test the null hypothesis that the average text length does not differ between the two groups. What can you conclude?"
     ]
    },
    {
     "cell_type": "heading",
     "level": 4,
     "metadata": {},
     "source": [
      "6. Repeat the above steps but pick your own tags and try to find a pair with a more significant difference."
     ]
    },
    {
     "cell_type": "code",
     "collapsed": false,
     "input": [],
     "language": "python",
     "metadata": {},
     "outputs": []
    }
   ],
   "metadata": {}
  }
 ]
}