{
 "metadata": {
  "name": "",
  "signature": "sha256:df29e9ba030b7de4ff94e70b2751522a21511d54bda6298313fc67fe6838a59a"
 },
 "nbformat": 3,
 "nbformat_minor": 0,
 "worksheets": [
  {
   "cells": [
    {
     "cell_type": "code",
     "collapsed": false,
     "input": [
      "%pwd\n",
      "%ls"
     ],
     "language": "python",
     "metadata": {},
     "outputs": [
      {
       "output_type": "stream",
       "stream": "stdout",
       "text": [
        "DAT6-Lab-2014-04-14--16.ipynb  \u001b[34mPEP_2013_PEPANNRES\u001b[m\u001b[m/            indiv14.zip                    itcont_subset.txt\r\n",
        "DAT6-Lab-2014-04-14.ipynb      PEP_2013_PEPANNRES.zip         itcont.txt                     itcont_subset.txt-1\r\n"
       ]
      }
     ],
     "prompt_number": 4
    },
    {
     "cell_type": "code",
     "collapsed": false,
     "input": [
      "%matplotlib inline\n",
      "\n",
      "# set up variables\n",
      "RAW_DATA_FILE='itcont.txt'\n",
      "SUBSET_DATA_FILE='itcont_subset.txt'\n",
      "SUBSET_COUNT=8000"
     ],
     "language": "python",
     "metadata": {},
     "outputs": [],
     "prompt_number": 3
    },
    {
     "cell_type": "code",
     "collapsed": false,
     "input": [
      "num_lines = sum(1 for line in open(RAW_DATA_FILE))\n",
      "num_lines"
     ],
     "language": "python",
     "metadata": {},
     "outputs": [
      {
       "metadata": {},
       "output_type": "pyout",
       "prompt_number": 5,
       "text": [
        "883835"
       ]
      }
     ],
     "prompt_number": 5
    },
    {
     "cell_type": "code",
     "collapsed": false,
     "input": [
      "import numpy as np"
     ],
     "language": "python",
     "metadata": {},
     "outputs": [],
     "prompt_number": 6
    },
    {
     "cell_type": "code",
     "collapsed": false,
     "input": [
      "# create an array [0,1,2,..., num_lines-1]\n",
      "idx = np.arange(num_lines)\n",
      "idx[0:5]"
     ],
     "language": "python",
     "metadata": {},
     "outputs": [
      {
       "metadata": {},
       "output_type": "pyout",
       "prompt_number": 9,
       "text": [
        "array([0, 1, 2, 3, 4])"
       ]
      }
     ],
     "prompt_number": 9
    },
    {
     "cell_type": "code",
     "collapsed": false,
     "input": [
      "# randomly shuffle the array\n",
      "np.random.shuffle(idx)"
     ],
     "language": "python",
     "metadata": {},
     "outputs": [],
     "prompt_number": 10
    },
    {
     "cell_type": "code",
     "collapsed": false,
     "input": [
      "# for kicks, check out the first few (5) numbers in the array\n",
      "idx[0:5]\n",
      "\n",
      "SUBSET_COUNT"
     ],
     "language": "python",
     "metadata": {},
     "outputs": [
      {
       "metadata": {},
       "output_type": "pyout",
       "prompt_number": 12,
       "text": [
        "8000"
       ]
      }
     ],
     "prompt_number": 12
    },
    {
     "cell_type": "code",
     "collapsed": false,
     "input": [
      "# create a set object using the first SUBSET_COUNT items from the shuffled arrey\n",
      "# membership in this (sub)set of index values will determine if a line from the file is extracted for later analysis\n",
      "\n",
      "idx_test_set = set(idx[:SUBSET_COUNT])"
     ],
     "language": "python",
     "metadata": {},
     "outputs": [],
     "prompt_number": 13
    },
    {
     "cell_type": "code",
     "collapsed": false,
     "input": [
      "# FOR THIS EXAMPLE: the random subset will be extracted without loading the entire dataset into memory\n",
      "\n",
      "import sys\n",
      "# set our index counter to zero\n",
      "idx_count = 0\n",
      "output_count = 0\n",
      "\n",
      "# open file for writing, and the file for reading\n",
      "with open(SUBSET_DATA_FILE,\"w\") as output_file :\n",
      "    with open(RAW_DATA_FILE,\"r\") as input_file:\n",
      "        # prime the variable with the first line from the file\n",
      "        next_line = input_file.readline()\n",
      "        \n",
      "        # if the line read from the file is empty, the End Of File has been reached\n",
      "        while next_line != '' :\n",
      "            # test to see if the current line is in the previously defined set of line numbers (indexes) to extract\n",
      "            if idx_count in idx_test_set :\n",
      "                output_file.write(next_line)   \n",
      "                output_count += 1\n",
      "                if output_count % 1000 == 0 :\n",
      "                    sys.stdout.write('.')\n",
      "            next_line = input_file.readline()\n",
      "            idx_count += 1\n",
      "        print\n",
      "        \n"
     ],
     "language": "python",
     "metadata": {},
     "outputs": [
      {
       "output_type": "stream",
       "stream": "stdout",
       "text": [
        ".."
       ]
      },
      {
       "output_type": "stream",
       "stream": "stdout",
       "text": [
        ".."
       ]
      },
      {
       "output_type": "stream",
       "stream": "stdout",
       "text": [
        ".."
       ]
      },
      {
       "output_type": "stream",
       "stream": "stdout",
       "text": [
        ".."
       ]
      },
      {
       "output_type": "stream",
       "stream": "stdout",
       "text": [
        "\n"
       ]
      }
     ],
     "prompt_number": 14
    },
    {
     "cell_type": "code",
     "collapsed": false,
     "input": [
      "num_lines_subset = sum(1 for line in open(SUBSET_DATA_FILE))\n",
      "num_lines_subset"
     ],
     "language": "python",
     "metadata": {},
     "outputs": [
      {
       "metadata": {},
       "output_type": "pyout",
       "prompt_number": 15,
       "text": [
        "8000"
       ]
      }
     ],
     "prompt_number": 15
    },
    {
     "cell_type": "code",
     "collapsed": false,
     "input": [
      "ndtype=[('Filer Identification Number',(str,9)),\n",
      "        ('Amendment Indicator',(str,1)),\n",
      "        ('Report Type',(str,3)),\n",
      "        ('Primary-General Indicator',(str,5)),\n",
      "        ('Microfilm Location (YYOORRRFFFF) ',(str,11)),\n",
      "        ('Transaction Type',(str,3)),\n",
      "        ('Entity Type',(str,3)),\n",
      "        ('Contributor/Lender/Transfer Name',(str,200)),\n",
      "        ('City/Town',(str,30)),\n",
      "        ('State',(str,2)),\n",
      "        ('Zip Code',(str,9)),\n",
      "        ('Employer',(str,38)),\n",
      "        ('Occupation',(str,38)),\n",
      "        ('Transaction Date(MMDDYYYY)',int),\n",
      "        ('Transaction Amount',float),\n",
      "        ('Other Identification Number',(str,9)),\n",
      "        ('Transaction ID',(str,32)),\n",
      "        ('File Number / Report ID',float),\n",
      "        ('Memo Code',(str,1)),\n",
      "        ('Memo Text',(str,100)),\n",
      "        ('FEC Record Number',float),]\n",
      "\n",
      "\n",
      "dataset = np.genfromtxt(SUBSET_DATA_FILE,\n",
      "                  delimiter='|', invalid_raise=False,\n",
      "                 # usecols=tuple(np.array([4, 6, 7, 8, 9, 10, 11, 12, 13, 14, 15,])-1),\n",
      "                  dtype=ndtype)"
     ],
     "language": "python",
     "metadata": {},
     "outputs": [],
     "prompt_number": 17
    },
    {
     "cell_type": "code",
     "collapsed": false,
     "input": [
      "dataset['State'][1:5]"
     ],
     "language": "python",
     "metadata": {},
     "outputs": [
      {
       "metadata": {},
       "output_type": "pyout",
       "prompt_number": 18,
       "text": [
        "array(['DC', 'MD', 'NY', 'AL'], \n",
        "      dtype='|S2')"
       ]
      }
     ],
     "prompt_number": 18
    },
    {
     "cell_type": "code",
     "collapsed": false,
     "input": [
      "from collections import defaultdict\n",
      "state_count={}\n",
      "\n",
      "def default_value () :\n",
      "    return 0\n",
      "\n",
      "state_count=defaultdict(default_value,state_count)\n",
      "\n",
      "# alternately:\n",
      "#state_count=defaultdict(lambda:0,state_count)\n",
      "\n",
      "for entry in dataset['State'] :\n",
      "    state_count[entry] = state_count[entry] + 1"
     ],
     "language": "python",
     "metadata": {},
     "outputs": [],
     "prompt_number": 19
    },
    {
     "cell_type": "code",
     "collapsed": false,
     "input": [
      "state_count"
     ],
     "language": "python",
     "metadata": {},
     "outputs": [
      {
       "metadata": {},
       "output_type": "pyout",
       "prompt_number": 21,
       "text": [
        "defaultdict(<function default_value at 0x1081e8410>, {'': 17, 'ZZ': 4, 'WA': 191, 'DE': 24, 'DC': 264, 'WI': 103, 'WV': 37, 'HI': 47, 'FL': 433, 'WY': 26, 'PR': 14, 'NJ': 220, 'NM': 64, 'TX': 652, 'LA': 104, 'NC': 176, 'ND': 32, 'NE': 56, 'TN': 118, 'NY': 539, 'PA': 275, 'AK': 26, 'NV': 41, 'NH': 43, 'VA': 348, 'GU': 1, 'CO': 165, 'VI': 2, 'CA': 927, 'AL': 77, 'AR': 61, 'VT': 18, 'IL': 337, 'GA': 230, 'IN': 96, 'IA': 100, 'OK': 71, 'AZ': 142, 'ID': 19, 'CT': 152, 'ME': 31, 'MD': 189, 'MA': 334, 'OH': 203, 'UT': 19, 'MO': 91, 'MN': 162, 'MI': 267, 'RI': 28, 'KS': 88, 'MT': 36, 'MS': 34, 'SC': 77, 'KY': 75, 'OR': 78, 'SD': 32})"
       ]
      }
     ],
     "prompt_number": 21
    },
    {
     "cell_type": "code",
     "collapsed": false,
     "input": [
      "import operator\n",
      "# sort the dictinary using the term 1 (the count)\n",
      "sorted_state_count = sorted(state_count.iteritems(), key=operator.itemgetter(1))\n",
      "# convert the dictionary into an array and display\n",
      "np.asarray(sorted_state_count)"
     ],
     "language": "python",
     "metadata": {},
     "outputs": [
      {
       "metadata": {},
       "output_type": "pyout",
       "prompt_number": 22,
       "text": [
        "array([['GU', '1'],\n",
        "       ['VI', '2'],\n",
        "       ['ZZ', '4'],\n",
        "       ['PR', '14'],\n",
        "       ['', '17'],\n",
        "       ['VT', '18'],\n",
        "       ['ID', '19'],\n",
        "       ['UT', '19'],\n",
        "       ['DE', '24'],\n",
        "       ['WY', '26'],\n",
        "       ['AK', '26'],\n",
        "       ['RI', '28'],\n",
        "       ['ME', '31'],\n",
        "       ['ND', '32'],\n",
        "       ['SD', '32'],\n",
        "       ['MS', '34'],\n",
        "       ['MT', '36'],\n",
        "       ['WV', '37'],\n",
        "       ['NV', '41'],\n",
        "       ['NH', '43'],\n",
        "       ['HI', '47'],\n",
        "       ['NE', '56'],\n",
        "       ['AR', '61'],\n",
        "       ['NM', '64'],\n",
        "       ['OK', '71'],\n",
        "       ['KY', '75'],\n",
        "       ['AL', '77'],\n",
        "       ['SC', '77'],\n",
        "       ['OR', '78'],\n",
        "       ['KS', '88'],\n",
        "       ['MO', '91'],\n",
        "       ['IN', '96'],\n",
        "       ['IA', '100'],\n",
        "       ['WI', '103'],\n",
        "       ['LA', '104'],\n",
        "       ['TN', '118'],\n",
        "       ['AZ', '142'],\n",
        "       ['CT', '152'],\n",
        "       ['MN', '162'],\n",
        "       ['CO', '165'],\n",
        "       ['NC', '176'],\n",
        "       ['MD', '189'],\n",
        "       ['WA', '191'],\n",
        "       ['OH', '203'],\n",
        "       ['NJ', '220'],\n",
        "       ['GA', '230'],\n",
        "       ['DC', '264'],\n",
        "       ['MI', '267'],\n",
        "       ['PA', '275'],\n",
        "       ['MA', '334'],\n",
        "       ['IL', '337'],\n",
        "       ['VA', '348'],\n",
        "       ['FL', '433'],\n",
        "       ['NY', '539'],\n",
        "       ['TX', '652'],\n",
        "       ['CA', '927']], \n",
        "      dtype='|S3')"
       ]
      }
     ],
     "prompt_number": 22
    },
    {
     "cell_type": "code",
     "collapsed": false,
     "input": [
      "import matplotlib.pyplot as plt\n",
      "import matplotlib.ticker as plticker\n",
      "\n",
      "def plot_bar_chart(counts_dict) :\n",
      "    fig = plt.figure(facecolor='white',dpi=72)\n",
      "    fig.set_size_inches(20,20)\n",
      "    axes = plt.axes(frameon=False)\n",
      "\n",
      "    # this locator puts ticks at regular intervals\n",
      "    loc = plticker.MultipleLocator(base=1.0) \n",
      "    axes.xaxis.set_major_locator(loc)\n",
      "\n",
      "    # plot the bars\n",
      "    axes.bar(range(len(counts_dict)), np.asarray(counts_dict)[:,1].astype(float), align=\"center\", width=0.5, alpha=0.5)\n",
      "    axes.set_xticks(range(len(counts_dict)))\n",
      "    axes.set_xticklabels(np.asarray(counts_dict)[:,0])\n",
      "\n",
      "    axes.set_title(\"state breakdown\")\n",
      "\n",
      "plot_bar_chart(sorted_state_count)"
     ],
     "language": "python",
     "metadata": {},
     "outputs": [
      {
       "metadata": {},
       "output_type": "display_data",
       "png": "[encoded data removed]",
       "text": [
        "<matplotlib.figure.Figure at 0x108201cd0>"
       ]
      }
     ],
     "prompt_number": 23
    },
    {
     "cell_type": "code",
     "collapsed": false,
     "input": [],
     "language": "python",
     "metadata": {},
     "outputs": []
    },
    {
     "cell_type": "code",
     "collapsed": false,
     "input": [],
     "language": "python",
     "metadata": {},
     "outputs": []
    }
   ],
   "metadata": {}
  }
 ]
}