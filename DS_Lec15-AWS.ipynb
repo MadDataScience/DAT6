{
 "metadata": {
  "celltoolbar": "Slideshow",
  "name": "",
  "signature": "sha256:5fc24b1a98764bfc4e6fe43faf44affd269f4c0af42f27d8a1f24c13e7edd1af"
 },
 "nbformat": 3,
 "nbformat_minor": 0,
 "worksheets": [
  {
   "cells": [
    {
     "cell_type": "markdown",
     "metadata": {
      "slideshow": {
       "slide_type": "slide"
      }
     },
     "source": [
      "Data Science\n",
      "================================\n",
      "Big Data I: AWS & StarCluster\n",
      "--------------------------------\n",
      "Alessandro D. Gagliardi"
     ]
    },
    {
     "cell_type": "markdown",
     "metadata": {
      "slideshow": {
       "slide_type": "slide"
      }
     },
     "source": [
      "### Agenda:\n",
      "\n",
      "1. Big Data\n",
      "2. Amazon Web Services\n",
      "3. StarCluster\n",
      "4. Lab"
     ]
    },
    {
     "cell_type": "markdown",
     "metadata": {
      "slideshow": {
       "slide_type": "slide"
      }
     },
     "source": [
      "Big Data\n",
      "========"
     ]
    },
    {
     "cell_type": "markdown",
     "metadata": {
      "slideshow": {
       "slide_type": "slide"
      }
     },
     "source": [
      "As you have probably heard, **big data** is a hot topic these days."
     ]
    },
    {
     "cell_type": "markdown",
     "metadata": {
      "slideshow": {
       "slide_type": "fragment"
      }
     },
     "source": [
      "Q:  What does \u201cbig data\u201d actually refer to?"
     ]
    },
    {
     "cell_type": "markdown",
     "metadata": {
      "slideshow": {
       "slide_type": "fragment"
      }
     },
     "source": [
      "A: Three \u2018V\u2019s:  \n",
      "\n",
      "-\tVolume\n",
      "-\tVelocity\n",
      "-\tVariety"
     ]
    },
    {
     "cell_type": "markdown",
     "metadata": {
      "slideshow": {
       "slide_type": "slide"
      }
     },
     "source": [
      "- Volume (i.e. more than can fit in memory on your laptop)  \n",
      "    - e.g. Amazon\u2019s user behavior data"
     ]
    },
    {
     "cell_type": "markdown",
     "metadata": {
      "slideshow": {
       "slide_type": "fragment"
      }
     },
     "source": [
      "- Velocity (i.e. faster than standard machines can process)\n",
      "    - e.g. Twitter\u2019s \u201cFirehose\u201d of tweets"
     ]
    },
    {
     "cell_type": "markdown",
     "metadata": {
      "slideshow": {
       "slide_type": "fragment"
      }
     },
     "source": [
      "- Variety (i.e. does not conform to a single structure)\n",
      "\t- e.g. Google\u2019s cache of web pages"
     ]
    },
    {
     "cell_type": "markdown",
     "metadata": {
      "slideshow": {
       "slide_type": "slide"
      }
     },
     "source": [
      "- Volume (i.e. more than can fit in memory on your laptop)  \n",
      "    - e.g. Amazon\u2019s user behavior data  \n",
      "    \n",
      "    <br />\n",
      "    \n",
      "- ~~Velocity (i.e. faster than standard machines can process)~~\n",
      "    - ~~e.g. Twitter\u2019s \u201cFirehose\u201d of tweets~~  \n",
      "    \n",
      "    <br />    \n",
      "    \n",
      "- Variety (i.e. does not conform to a single structure)\n",
      "\t- e.g. Google\u2019s cache of web pages"
     ]
    },
    {
     "cell_type": "markdown",
     "metadata": {
      "slideshow": {
       "slide_type": "notes"
      }
     },
     "source": [
      "In this course, we will not deal with velocity. That is really more of an engineering problem than a data science problem. In fact, all three of these are engineering problems, but only the first and the third are really germane to Data Science. That said, as a Data Scientist, it is probably only a matter of time before someone asks you to create a real-time dashboard. Such a thing, while cool, is often very difficult to create and has questionable utility for anyone besides an operations engineer or a day trader, and they already have real-time dashboards."
     ]
    },
    {
     "cell_type": "markdown",
     "metadata": {
      "slideshow": {
       "slide_type": "slide"
      }
     },
     "source": [
      "How would you approach dealing with this kind of data?"
     ]
    },
    {
     "cell_type": "markdown",
     "metadata": {
      "slideshow": {
       "slide_type": "fragment"
      }
     },
     "source": [
      "One approach would be to get a huge supercomputer."
     ]
    },
    {
     "cell_type": "markdown",
     "metadata": {
      "slideshow": {
       "slide_type": "fragment"
      }
     },
     "source": [
      "But this has some obvious drawbacks:\n",
      "\n",
      "- expensive\n",
      "- difficult to maintain\n",
      "- scalability is bounded"
     ]
    },
    {
     "cell_type": "markdown",
     "metadata": {
      "slideshow": {
       "slide_type": "slide"
      }
     },
     "source": [
      "Instead of one huge machine, what if we got a bunch of regular (*commodity*) machines?"
     ]
    },
    {
     "cell_type": "markdown",
     "metadata": {
      "slideshow": {
       "slide_type": "fragment"
      }
     },
     "source": [
      "This has obvious benefits!\n",
      "\n",
      "- cheaper\n",
      "- easier to maintain\n",
      "- scalability is unbounded (just add more nodes to the *cluster*)"
     ]
    },
    {
     "cell_type": "markdown",
     "metadata": {
      "slideshow": {
       "slide_type": "slide"
      }
     },
     "source": [
      "We can visualize this *horizontal* cluster architecture as a single client-multiple server relationship:  \n",
      "\n",
      "<img src=http://star.mit.edu/cluster/docs/latest/_images/scoverview.png />"
     ]
    },
    {
     "cell_type": "markdown",
     "metadata": {
      "slideshow": {
       "slide_type": "slide"
      }
     },
     "source": [
      "There are two ways to process data in a distributed architecture:"
     ]
    },
    {
     "cell_type": "markdown",
     "metadata": {
      "slideshow": {
       "slide_type": "fragment"
      }
     },
     "source": [
      "1. move data to code (& processing power)\n",
      "    - SETI\n",
      "2. move code to data\n",
      "    - map-reduce -> less overhead (network traffic, disk I/O)"
     ]
    },
    {
     "cell_type": "markdown",
     "metadata": {
      "slideshow": {
       "slide_type": "notes"
      }
     },
     "source": [
      "\u201cComputing nodes are the same as storage nodes.\u201d"
     ]
    },
    {
     "cell_type": "markdown",
     "metadata": {
      "slideshow": {
       "slide_type": "slide"
      }
     },
     "source": [
      "Divide and conquer is a fundamental algorithmic technique for solving a given task, whose steps include:"
     ]
    },
    {
     "cell_type": "markdown",
     "metadata": {
      "slideshow": {
       "slide_type": "fragment"
      }
     },
     "source": [
      "1. split task into subtasks\n",
      "2. solve these subtasks independently\n",
      "3. recombine the subtask results into a final result"
     ]
    },
    {
     "cell_type": "markdown",
     "metadata": {
      "slideshow": {
       "slide_type": "slide"
      }
     },
     "source": [
      "One famous example of divide and conquer is *merge sort*.\n",
      "<CENTER><IMG SRC=\"http://upload.wikimedia.org/wikipedia/commons/e/e6/Merge_sort_algorithm_diagram.svg\" /></CENTER>"
     ]
    },
    {
     "cell_type": "markdown",
     "metadata": {
      "slideshow": {
       "slide_type": "slide"
      }
     },
     "source": [
      "The defining characteristic of a problem that is suitable for the divide and conquer approach is that it can be broken down into independent subtasks."
     ]
    },
    {
     "cell_type": "markdown",
     "metadata": {
      "slideshow": {
       "slide_type": "fragment"
      }
     },
     "source": [
      "Tasks that can be parallelized in this way include:\n",
      "\n",
      "- count, sum, average\n",
      "- grep, sort, inverted index\n",
      "- graph traversals, some ML algorithms"
     ]
    },
    {
     "cell_type": "markdown",
     "metadata": {
      "slideshow": {
       "slide_type": "subslide"
      }
     },
     "source": [
      "What if you can't afford a cluster?"
     ]
    },
    {
     "cell_type": "markdown",
     "metadata": {
      "slideshow": {
       "slide_type": "slide"
      }
     },
     "source": [
      "Amazon Web Services\n",
      "==================="
     ]
    },
    {
     "cell_type": "markdown",
     "metadata": {
      "slideshow": {
       "slide_type": "slide"
      }
     },
     "source": [
      "<img src=assets/AWS.png />"
     ]
    },
    {
     "cell_type": "markdown",
     "metadata": {
      "slideshow": {
       "slide_type": "slide"
      }
     },
     "source": [
      "### Amazon Web Services\n",
      "\n",
      "- IAM: Identity and Access Management\n",
      "- S3: Simple Storage Service\n",
      "- EC2: Elastic Cloud Compute\n",
      "- EMR: Elastic MapReduce"
     ]
    },
    {
     "cell_type": "markdown",
     "metadata": {
      "slideshow": {
       "slide_type": "slide"
      }
     },
     "source": [
      "### Regions:\n",
      "\n",
      "- us-east-1 (North Virginia)\n",
      "- us-west-1 (Northern California)\n",
      "- us-west-2 (Oregon)\n",
      "- also regions in Asia, Europe, and South America\n",
      "\n",
      "### Availability Zones (AZ):\n",
      "\n",
      "* Each region has several availability zones."
     ]
    },
    {
     "cell_type": "markdown",
     "metadata": {
      "slideshow": {
       "slide_type": "notes"
      }
     },
     "source": [
      "AZs should rarely matter, but important to know what it is (and not confuse AZs with regions). AZ will rarely matter. Region often will."
     ]
    },
    {
     "cell_type": "markdown",
     "metadata": {
      "slideshow": {
       "slide_type": "slide"
      }
     },
     "source": [
      "### Types of authentication:\n",
      "\n",
      "<small>(Warning: the word *key* is used a lot to mean different things.)</small>\n",
      "\n",
      "1. Key & Secret\n",
      "    - Key = 20 character long token (all upper-case)\n",
      "    - Secret = 40 character long string\n",
      "    - Used for all AWS\n",
      "    - Created and managed in IAM\n",
      "    - Not region specific\n",
      "2. Keypair\n",
      "    - RSA encrypted\n",
      "    - Used specifically for SSH into EC2 (including EMR)\n",
      "    - Region specific\n",
      "    - Created and managed in EC2\n",
      "3. Other forms of authentication\n",
      "    - Alternative to Key & Secret\n",
      "    - Managed in IAM\n",
      "    - Useful for granting others partial access to your AWS resources  \n",
      "        (i.e. giving a friend write access to a specific S3 bucket)"
     ]
    },
    {
     "cell_type": "markdown",
     "metadata": {
      "slideshow": {
       "slide_type": "slide"
      }
     },
     "source": [
      "### S3 (Simple Storage Service)\n",
      "\n",
      "- Sort of a file system\n",
      "    - Buckets ~ Folders\n",
      "    - Keys ~ Files (Note: a different meaning for the word *key* in this context)\n",
      "    - Subdirectories aren't really folders, but rather just prefixes to the key name\n",
      "- Region Specific\n",
      "    - but it usually doesn't matter (except for latency)\n",
      "- Relatively Cheap\n",
      "- Complex Permission Structure (about as complex as a real file system)"
     ]
    },
    {
     "cell_type": "markdown",
     "metadata": {
      "slideshow": {
       "slide_type": "slide"
      }
     },
     "source": [
      "### EC2: Elastic Cloud Compute: Instance Types\n",
      "\n",
      "- Optimization\n",
      "    - Compute Optimized\n",
      "    - Memory Optimized\n",
      "    - Storage Optimized\n",
      "    - General Purpose\n",
      "- Pricing Examples:\n",
      "    - t1.micro\n",
      "        - 1 CPU\n",
      "        - 615 MB RAM\n",
      "        - \\$0.02 per Hour\n",
      "    - i2.8xlarge\n",
      "        - 32 CPUs\n",
      "        - 244 GB RAM\n",
      "        - \\$6.82 per Hour\n",
      "    - m3.xlarge \n",
      "        - 4 CPUs\n",
      "        - 15 GB RAM\n",
      "        - \\$0.28 per Hour\n",
      "- Not all instance types available in all regions (e.g. High Storage Instances not available in us-west-1)\n",
      "- Prices may vary (e.g. instances in us-west-1 are often more expensive)"
     ]
    },
    {
     "cell_type": "markdown",
     "metadata": {
      "slideshow": {
       "slide_type": "subslide"
      }
     },
     "source": [
      "### EC2: Elastic Cloud Compute: Amazon Machine Images (AMIs)\n",
      "\n",
      "* A machine image is a copyable snapshot of an instance's contents and configuration\n",
      "* If you've ever run a virtual machine (e.g. VirtualBox, VMware, Parallels), you may be familiar\n",
      "* EC2 instances start as AMIs that are then *instantiated*\n",
      "* StarCluster uses AMIs extensively to preconfigure EC2 instances to create a cluster\n",
      "* A well-configured AMI can save a lot of time\n",
      "* AMIs are region specific. Copies to other regions receive new ID"
     ]
    },
    {
     "cell_type": "markdown",
     "metadata": {
      "slideshow": {
       "slide_type": "notes"
      }
     },
     "source": [
      "A well-configured AMI can save a lot of time because you don't have to install software on every instance after it's booted up (the software is effectively pre-installed).\n",
      "They can be copied, but only by the creator and it will get a new ID when that happens."
     ]
    },
    {
     "cell_type": "markdown",
     "metadata": {
      "slideshow": {
       "slide_type": "slide"
      }
     },
     "source": [
      "### EMR: Elastic MapReduce\n",
      "\n",
      "#### Hadoop in the Cloud\n",
      "\n",
      "* Uses EC2 instances\n",
      "* Web interface for provisioning cluster\n",
      "* Installs Hadoop, etc. automatically\n",
      "* Installs Hive, Pig, HBase automatically if desired\n",
      "* Provides a web interface to running Hadoop Streaming jobs. \n",
      "* Charges a small premium on top of EC2 prices"
     ]
    },
    {
     "cell_type": "markdown",
     "metadata": {
      "slideshow": {
       "slide_type": "notes"
      }
     },
     "source": [
      "One thing EMR does that StarCluster doesn't is it automatically configures Hadoop to be able to read your S3 buckets as if they were part of HDFS. This has to be done manually in StarCluster (or any other software that runs Hadoop on EC2 (e.g. Whirr, etc.))"
     ]
    },
    {
     "cell_type": "markdown",
     "metadata": {
      "slideshow": {
       "slide_type": "slide"
      }
     },
     "source": [
      "# StarCluster  \n",
      "\n",
      "<img src=http://star.mit.edu/cluster/docs/latest/_images/scoverview.png />"
     ]
    },
    {
     "cell_type": "markdown",
     "metadata": {
      "slideshow": {
       "slide_type": "notes"
      }
     },
     "source": [
      "StarCluster comes out of the STAR program at MIT. STAR stands for \"Software Tools for Academics and Researchers\". It is used to quickly provision a cluster of EC2 instances. Like EMR, it automatically configures them to be used as a cluster (rather than as independent machines) with one controller and many workers. Unlike EMR, it does not have a GUI. Also, Hadoop is just one of many plugins for StarCluster. The most important plugin, however, is IPython Cluster."
     ]
    },
    {
     "cell_type": "markdown",
     "metadata": {
      "slideshow": {
       "slide_type": "slide"
      }
     },
     "source": [
      "# Questions?"
     ]
    },
    {
     "cell_type": "markdown",
     "metadata": {
      "slideshow": {
       "slide_type": "slide"
      }
     },
     "source": [
      "LAB\n",
      "===\n",
      "In the `DAT6` folder, from the command line:\n",
      "```bash\n",
      "git commit -am ...\n",
      "git checkout gh-pages\n",
      "git pull\n",
      "git checkout personal\n",
      "git merge gh-pages\n",
      "ipython notebook\n",
      "```\n",
      "Then open `DS_Lab15-StarCluster`"
     ]
    }
   ],
   "metadata": {}
  }
 ]
}